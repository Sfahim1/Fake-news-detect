{
 "cells": [
  {
   "cell_type": "code",
   "execution_count": 1,
   "id": "5c107e4d",
   "metadata": {},
   "outputs": [],
   "source": [
    "import pandas as pd\n",
    "from sklearn.model_selection import train_test_split\n",
    "from sklearn.feature_extraction.text import TfidfVectorizer\n",
    "from sklearn.linear_model import LogisticRegression\n",
    "from sklearn.metrics import classification_report\n",
    "from sklearn.utils import resample\n",
    "import re\n",
    "import joblib\n",
    "import string\n",
    "import seaborn as sns\n",
    "import matplotlib.pyplot as plt\n",
    "import pickle\n",
    "import numpy as np\n"
   ]
  },
  {
   "cell_type": "code",
   "execution_count": 2,
   "id": "f86a7874",
   "metadata": {},
   "outputs": [],
   "source": [
    "fake = pd.read_csv('fake.csv')\n",
    "true = pd.read_csv('true.csv')"
   ]
  },
  {
   "cell_type": "code",
   "execution_count": 3,
   "id": "f7c18269",
   "metadata": {},
   "outputs": [
    {
     "data": {
      "application/vnd.microsoft.datawrangler.viewer.v0+json": {
       "columns": [
        {
         "name": "index",
         "rawType": "int64",
         "type": "integer"
        },
        {
         "name": "title",
         "rawType": "object",
         "type": "string"
        },
        {
         "name": "text",
         "rawType": "object",
         "type": "string"
        },
        {
         "name": "subject",
         "rawType": "object",
         "type": "string"
        },
        {
         "name": "date",
         "rawType": "object",
         "type": "string"
        }
       ],
       "ref": "a5a54e66-3a88-4d75-9d00-5520e93f93f7",
       "rows": [
        [
         "0",
         " Donald Trump Sends Out Embarrassing New Year’s Eve Message; This is Disturbing",
         "Donald Trump just couldn t wish all Americans a Happy New Year and leave it at that. Instead, he had to give a shout out to his enemies, haters and  the very dishonest fake news media.  The former reality show star had just one job to do and he couldn t do it. As our Country rapidly grows stronger and smarter, I want to wish all of my friends, supporters, enemies, haters, and even the very dishonest Fake News Media, a Happy and Healthy New Year,  President Angry Pants tweeted.  2018 will be a great year for America! As our Country rapidly grows stronger and smarter, I want to wish all of my friends, supporters, enemies, haters, and even the very dishonest Fake News Media, a Happy and Healthy New Year. 2018 will be a great year for America!  Donald J. Trump (@realDonaldTrump) December 31, 2017Trump s tweet went down about as welll as you d expect.What kind of president sends a New Year s greeting like this despicable, petty, infantile gibberish? Only Trump! His lack of decency won t even allow him to rise above the gutter long enough to wish the American citizens a happy new year!  Bishop Talbert Swan (@TalbertSwan) December 31, 2017no one likes you  Calvin (@calvinstowell) December 31, 2017Your impeachment would make 2018 a great year for America, but I ll also accept regaining control of Congress.  Miranda Yaver (@mirandayaver) December 31, 2017Do you hear yourself talk? When you have to include that many people that hate you you have to wonder? Why do the they all hate me?  Alan Sandoval (@AlanSandoval13) December 31, 2017Who uses the word Haters in a New Years wish??  Marlene (@marlene399) December 31, 2017You can t just say happy new year?  Koren pollitt (@Korencarpenter) December 31, 2017Here s Trump s New Year s Eve tweet from 2016.Happy New Year to all, including to my many enemies and those who have fought me and lost so badly they just don t know what to do. Love!  Donald J. Trump (@realDonaldTrump) December 31, 2016This is nothing new for Trump. He s been doing this for years.Trump has directed messages to his  enemies  and  haters  for New Year s, Easter, Thanksgiving, and the anniversary of 9/11. pic.twitter.com/4FPAe2KypA  Daniel Dale (@ddale8) December 31, 2017Trump s holiday tweets are clearly not presidential.How long did he work at Hallmark before becoming President?  Steven Goodine (@SGoodine) December 31, 2017He s always been like this . . . the only difference is that in the last few years, his filter has been breaking down.  Roy Schulze (@thbthttt) December 31, 2017Who, apart from a teenager uses the term haters?  Wendy (@WendyWhistles) December 31, 2017he s a fucking 5 year old  Who Knows (@rainyday80) December 31, 2017So, to all the people who voted for this a hole thinking he would change once he got into power, you were wrong! 70-year-old men don t change and now he s a year older.Photo by Andrew Burton/Getty Images.",
         "News",
         "December 31, 2017"
        ],
        [
         "1",
         " Drunk Bragging Trump Staffer Started Russian Collusion Investigation",
         "House Intelligence Committee Chairman Devin Nunes is going to have a bad day. He s been under the assumption, like many of us, that the Christopher Steele-dossier was what prompted the Russia investigation so he s been lashing out at the Department of Justice and the FBI in order to protect Trump. As it happens, the dossier is not what started the investigation, according to documents obtained by the New York Times.Former Trump campaign adviser George Papadopoulos was drunk in a wine bar when he revealed knowledge of Russian opposition research on Hillary Clinton.On top of that, Papadopoulos wasn t just a covfefe boy for Trump, as his administration has alleged. He had a much larger role, but none so damning as being a drunken fool in a wine bar. Coffee boys  don t help to arrange a New York meeting between Trump and President Abdel Fattah el-Sisi of Egypt two months before the election. It was known before that the former aide set up meetings with world leaders for Trump, but team Trump ran with him being merely a coffee boy.In May 2016, Papadopoulos revealed to Australian diplomat Alexander Downer that Russian officials were shopping around possible dirt on then-Democratic presidential nominee Hillary Clinton. Exactly how much Mr. Papadopoulos said that night at the Kensington Wine Rooms with the Australian, Alexander Downer, is unclear,  the report states.  But two months later, when leaked Democratic emails began appearing online, Australian officials passed the information about Mr. Papadopoulos to their American counterparts, according to four current and former American and foreign officials with direct knowledge of the Australians  role. Papadopoulos pleaded guilty to lying to the F.B.I. and is now a cooperating witness with Special Counsel Robert Mueller s team.This isn t a presidency. It s a badly scripted reality TV show.Photo by Win McNamee/Getty Images.",
         "News",
         "December 31, 2017"
        ],
        [
         "2",
         " Sheriff David Clarke Becomes An Internet Joke For Threatening To Poke People ‘In The Eye’",
         "On Friday, it was revealed that former Milwaukee Sheriff David Clarke, who was being considered for Homeland Security Secretary in Donald Trump s administration, has an email scandal of his own.In January, there was a brief run-in on a plane between Clarke and fellow passenger Dan Black, who he later had detained by the police for no reason whatsoever, except that maybe his feelings were hurt. Clarke messaged the police to stop Black after he deplaned, and now, a search warrant has been executed by the FBI to see the exchanges.Clarke is calling it fake news even though copies of the search warrant are on the Internet. I am UNINTIMIDATED by lib media attempts to smear and discredit me with their FAKE NEWS reports designed to silence me,  the former sheriff tweeted.  I will continue to poke them in the eye with a sharp stick and bitch slap these scum bags til they get it. I have been attacked by better people than them #MAGA I am UNINTIMIDATED by lib media attempts to smear and discredit me with their FAKE NEWS reports designed to silence me. I will continue to poke them in the eye with a sharp stick and bitch slap these scum bags til they get it. I have been attacked by better people than them #MAGA pic.twitter.com/XtZW5PdU2b  David A. Clarke, Jr. (@SheriffClarke) December 30, 2017He didn t stop there.BREAKING NEWS! When LYING LIB MEDIA makes up FAKE NEWS to smear me, the ANTIDOTE is go right at them. Punch them in the nose & MAKE THEM TASTE THEIR OWN BLOOD. Nothing gets a bully like LYING LIB MEDIA S attention better than to give them a taste of their own blood #neverbackdown pic.twitter.com/T2NY2psHCR  David A. Clarke, Jr. (@SheriffClarke) December 30, 2017The internet called him out.This is your local newspaper and that search warrant isn t fake, and just because the chose not to file charges at the time doesn t mean they won t! Especially if you continue to lie. Months after decision not to charge Clarke, email search warrant filed https://t.co/zcbyc4Wp5b  KeithLeBlanc (@KeithLeBlanc63) December 30, 2017I just hope the rest of the Village People aren t implicated.  Kirk Ketchum (@kirkketchum) December 30, 2017Slaw, baked potatoes, or French fries? pic.twitter.com/fWfXsZupxy  ALT- Immigration   (@ALT_uscis) December 30, 2017pic.twitter.com/ymsOBLjfxU  Pendulum Swinger (@PendulumSwngr) December 30, 2017you called your police friends to stand up for you when someone made fun of your hat  Chris Jackson (@ChrisCJackson) December 30, 2017Is it me, with this masterful pshop of your hat, which I seem to never tire of. I think it s the steely resolve in your one visible eye pic.twitter.com/dWr5k8ZEZV  Chris Mohney (@chrismohney) December 30, 2017Are you indicating with your fingers how many people died in your jail? I think you re a few fingers short, dipshit  Ike Barinholtz (@ikebarinholtz) December 30, 2017ROFL. Internet tough guy with fake flair. pic.twitter.com/ulCFddhkdy  KellMeCrazy (@Kel_MoonFace) December 30, 2017You re so edgy, buddy.  Mrs. SMH (@MRSSMH2) December 30, 2017Is his break over at Applebees?  Aaron (@feltrrr2) December 30, 2017Are you trying to earn your  still relevant  badge?  CircusRebel (@CircusDrew) December 30, 2017make sure to hydrate, drink lots of water. It s rumored that prisoners can be denied water by prison officials.  Robert Klinc (@RobertKlinc1) December 30, 2017Terrill Thomas, the 38-year-old black man who died of thirst in Clarke s Milwaukee County Jail cell this April, was a victim of homicide. We just thought we should point that out. It can t be repeated enough.Photo by Spencer Platt/Getty Images.",
         "News",
         "December 30, 2017"
        ],
        [
         "3",
         " Trump Is So Obsessed He Even Has Obama’s Name Coded Into His Website (IMAGES)",
         "On Christmas day, Donald Trump announced that he would  be back to work  the following day, but he is golfing for the fourth day in a row. The former reality show star blasted former President Barack Obama for playing golf and now Trump is on track to outpace the number of golf games his predecessor played.Updated my tracker of Trump s appearances at Trump properties.71 rounds of golf including today s. At this pace, he ll pass Obama s first-term total by July 24 next year. https://t.co/Fg7VacxRtJ pic.twitter.com/5gEMcjQTbH  Philip Bump (@pbump) December 29, 2017 That makes what a Washington Post reporter discovered on Trump s website really weird, but everything about this administration is bizarre AF. The coding contained a reference to Obama and golf:  Unlike Obama, we are working to fix the problem   and not on the golf course.  However, the coding wasn t done correctly.The website of Donald Trump, who has spent several days in a row at the golf course, is coded to serve up the following message in the event of an internal server error: https://t.co/zrWpyMXRcz pic.twitter.com/wiQSQNNzw0  Christopher Ingraham (@_cingraham) December 28, 2017That snippet of code appears to be on all https://t.co/dkhw0AlHB4 pages, which the footer says is paid for by the RNC? pic.twitter.com/oaZDT126B3  Christopher Ingraham (@_cingraham) December 28, 2017It s also all over https://t.co/ayBlGmk65Z. As others have noted in this thread, this is weird code and it s not clear it would ever actually display, but who knows.  Christopher Ingraham (@_cingraham) December 28, 2017After the coding was called out, the reference to Obama was deleted.UPDATE: The golf error message has been removed from the Trump and GOP websites. They also fixed the javascript  =  vs  ==  problem. Still not clear when these messages would actually display, since the actual 404 (and presumably 500) page displays a different message pic.twitter.com/Z7dmyQ5smy  Christopher Ingraham (@_cingraham) December 29, 2017That suggests someone at either RNC or the Trump admin is sensitive enough to Trump s golf problem to make this issue go away quickly once people noticed. You have no idea how much I d love to see the email exchange that led us here.  Christopher Ingraham (@_cingraham) December 29, 2017 The code was f-cked up.The best part about this is that they are using the  =  (assignment) operator which means that bit of code will never get run. If you look a few lines up  errorCode  will always be  404          (@tw1trsux) December 28, 2017trump s coders can t code. Nobody is surprised.  Tim Peterson (@timrpeterson) December 28, 2017Donald Trump is obsessed with Obama that his name was even in the coding of his website while he played golf again.Photo by Joe Raedle/Getty Images.",
         "News",
         "December 29, 2017"
        ],
        [
         "4",
         " Pope Francis Just Called Out Donald Trump During His Christmas Speech",
         "Pope Francis used his annual Christmas Day message to rebuke Donald Trump without even mentioning his name. The Pope delivered his message just days after members of the United Nations condemned Trump s move to recognize Jerusalem as the capital of Israel. The Pontiff prayed on Monday for the  peaceful coexistence of two states within mutually agreed and internationally recognized borders. We see Jesus in the children of the Middle East who continue to suffer because of growing tensions between Israelis and Palestinians,  Francis said.  On this festive day, let us ask the Lord for peace for Jerusalem and for all the Holy Land. Let us pray that the will to resume dialogue may prevail between the parties and that a negotiated solution can finally be reached. The Pope went on to plead for acceptance of refugees who have been forced from their homes, and that is an issue Trump continues to fight against. Francis used Jesus for which there was  no place in the inn  as an analogy. Today, as the winds of war are blowing in our world and an outdated model of development continues to produce human, societal and environmental decline, Christmas invites us to focus on the sign of the Child and to recognize him in the faces of little children, especially those for whom, like Jesus,  there is no place in the inn,  he said. Jesus knows well the pain of not being welcomed and how hard it is not to have a place to lay one s head,  he added.  May our hearts not be closed as they were in the homes of Bethlehem. The Pope said that Mary and Joseph were immigrants who struggled to find a safe place to stay in Bethlehem. They had to leave their people, their home, and their land,  Francis said.  This was no comfortable or easy journey for a young couple about to have a child.   At heart, they were full of hope and expectation because of the child about to be born; yet their steps were weighed down by the uncertainties and dangers that attend those who have to leave their home behind. So many other footsteps are hidden in the footsteps of Joseph and Mary,  Francis said Sunday. We see the tracks of entire families forced to set out in our own day. We see the tracks of millions of persons who do not choose to go away, but driven from their land, leave behind their dear ones. Amen to that.Photo by Christopher Furlong/Getty Images.",
         "News",
         "December 25, 2017"
        ]
       ],
       "shape": {
        "columns": 4,
        "rows": 5
       }
      },
      "text/html": [
       "<div>\n",
       "<style scoped>\n",
       "    .dataframe tbody tr th:only-of-type {\n",
       "        vertical-align: middle;\n",
       "    }\n",
       "\n",
       "    .dataframe tbody tr th {\n",
       "        vertical-align: top;\n",
       "    }\n",
       "\n",
       "    .dataframe thead th {\n",
       "        text-align: right;\n",
       "    }\n",
       "</style>\n",
       "<table border=\"1\" class=\"dataframe\">\n",
       "  <thead>\n",
       "    <tr style=\"text-align: right;\">\n",
       "      <th></th>\n",
       "      <th>title</th>\n",
       "      <th>text</th>\n",
       "      <th>subject</th>\n",
       "      <th>date</th>\n",
       "    </tr>\n",
       "  </thead>\n",
       "  <tbody>\n",
       "    <tr>\n",
       "      <th>0</th>\n",
       "      <td>Donald Trump Sends Out Embarrassing New Year’...</td>\n",
       "      <td>Donald Trump just couldn t wish all Americans ...</td>\n",
       "      <td>News</td>\n",
       "      <td>December 31, 2017</td>\n",
       "    </tr>\n",
       "    <tr>\n",
       "      <th>1</th>\n",
       "      <td>Drunk Bragging Trump Staffer Started Russian ...</td>\n",
       "      <td>House Intelligence Committee Chairman Devin Nu...</td>\n",
       "      <td>News</td>\n",
       "      <td>December 31, 2017</td>\n",
       "    </tr>\n",
       "    <tr>\n",
       "      <th>2</th>\n",
       "      <td>Sheriff David Clarke Becomes An Internet Joke...</td>\n",
       "      <td>On Friday, it was revealed that former Milwauk...</td>\n",
       "      <td>News</td>\n",
       "      <td>December 30, 2017</td>\n",
       "    </tr>\n",
       "    <tr>\n",
       "      <th>3</th>\n",
       "      <td>Trump Is So Obsessed He Even Has Obama’s Name...</td>\n",
       "      <td>On Christmas day, Donald Trump announced that ...</td>\n",
       "      <td>News</td>\n",
       "      <td>December 29, 2017</td>\n",
       "    </tr>\n",
       "    <tr>\n",
       "      <th>4</th>\n",
       "      <td>Pope Francis Just Called Out Donald Trump Dur...</td>\n",
       "      <td>Pope Francis used his annual Christmas Day mes...</td>\n",
       "      <td>News</td>\n",
       "      <td>December 25, 2017</td>\n",
       "    </tr>\n",
       "  </tbody>\n",
       "</table>\n",
       "</div>"
      ],
      "text/plain": [
       "                                               title  \\\n",
       "0   Donald Trump Sends Out Embarrassing New Year’...   \n",
       "1   Drunk Bragging Trump Staffer Started Russian ...   \n",
       "2   Sheriff David Clarke Becomes An Internet Joke...   \n",
       "3   Trump Is So Obsessed He Even Has Obama’s Name...   \n",
       "4   Pope Francis Just Called Out Donald Trump Dur...   \n",
       "\n",
       "                                                text subject  \\\n",
       "0  Donald Trump just couldn t wish all Americans ...    News   \n",
       "1  House Intelligence Committee Chairman Devin Nu...    News   \n",
       "2  On Friday, it was revealed that former Milwauk...    News   \n",
       "3  On Christmas day, Donald Trump announced that ...    News   \n",
       "4  Pope Francis used his annual Christmas Day mes...    News   \n",
       "\n",
       "                date  \n",
       "0  December 31, 2017  \n",
       "1  December 31, 2017  \n",
       "2  December 30, 2017  \n",
       "3  December 29, 2017  \n",
       "4  December 25, 2017  "
      ]
     },
     "execution_count": 3,
     "metadata": {},
     "output_type": "execute_result"
    }
   ],
   "source": [
    "fake.head()"
   ]
  },
  {
   "cell_type": "code",
   "execution_count": 4,
   "id": "05415bc8",
   "metadata": {},
   "outputs": [
    {
     "data": {
      "application/vnd.microsoft.datawrangler.viewer.v0+json": {
       "columns": [
        {
         "name": "index",
         "rawType": "int64",
         "type": "integer"
        },
        {
         "name": "title",
         "rawType": "object",
         "type": "string"
        },
        {
         "name": "text",
         "rawType": "object",
         "type": "string"
        },
        {
         "name": "subject",
         "rawType": "object",
         "type": "string"
        },
        {
         "name": "date",
         "rawType": "object",
         "type": "string"
        }
       ],
       "ref": "3962dc0f-a768-4aa3-bc25-91caea1096cd",
       "rows": [
        [
         "0",
         "As U.S. budget fight looms, Republicans flip their fiscal script",
         "WASHINGTON (Reuters) - The head of a conservative Republican faction in the U.S. Congress, who voted this month for a huge expansion of the national debt to pay for tax cuts, called himself a “fiscal conservative” on Sunday and urged budget restraint in 2018. In keeping with a sharp pivot under way among Republicans, U.S. Representative Mark Meadows, speaking on CBS’ “Face the Nation,” drew a hard line on federal spending, which lawmakers are bracing to do battle over in January. When they return from the holidays on Wednesday, lawmakers will begin trying to pass a federal budget in a fight likely to be linked to other issues, such as immigration policy, even as the November congressional election campaigns approach in which Republicans will seek to keep control of Congress. President Donald Trump and his Republicans want a big budget increase in military spending, while Democrats also want proportional increases for non-defense “discretionary” spending on programs that support education, scientific research, infrastructure, public health and environmental protection. “The (Trump) administration has already been willing to say: ‘We’re going to increase non-defense discretionary spending ... by about 7 percent,’” Meadows, chairman of the small but influential House Freedom Caucus, said on the program. “Now, Democrats are saying that’s not enough, we need to give the government a pay raise of 10 to 11 percent. For a fiscal conservative, I don’t see where the rationale is. ... Eventually you run out of other people’s money,” he said. Meadows was among Republicans who voted in late December for their party’s debt-financed tax overhaul, which is expected to balloon the federal budget deficit and add about $1.5 trillion over 10 years to the $20 trillion national debt. “It’s interesting to hear Mark talk about fiscal responsibility,” Democratic U.S. Representative Joseph Crowley said on CBS. Crowley said the Republican tax bill would require the  United States to borrow $1.5 trillion, to be paid off by future generations, to finance tax cuts for corporations and the rich. “This is one of the least ... fiscally responsible bills we’ve ever seen passed in the history of the House of Representatives. I think we’re going to be paying for this for many, many years to come,” Crowley said. Republicans insist the tax package, the biggest U.S. tax overhaul in more than 30 years,  will boost the economy and job growth. House Speaker Paul Ryan, who also supported the tax bill, recently went further than Meadows, making clear in a radio interview that welfare or “entitlement reform,” as the party often calls it, would be a top Republican priority in 2018. In Republican parlance, “entitlement” programs mean food stamps, housing assistance, Medicare and Medicaid health insurance for the elderly, poor and disabled, as well as other programs created by Washington to assist the needy. Democrats seized on Ryan’s early December remarks, saying they showed Republicans would try to pay for their tax overhaul by seeking spending cuts for social programs. But the goals of House Republicans may have to take a back seat to the Senate, where the votes of some Democrats will be needed to approve a budget and prevent a government shutdown. Democrats will use their leverage in the Senate, which Republicans narrowly control, to defend both discretionary non-defense programs and social spending, while tackling the issue of the “Dreamers,” people brought illegally to the country as children. Trump in September put a March 2018 expiration date on the Deferred Action for Childhood Arrivals, or DACA, program, which protects the young immigrants from deportation and provides them with work permits. The president has said in recent Twitter messages he wants funding for his proposed Mexican border wall and other immigration law changes in exchange for agreeing to help the Dreamers. Representative Debbie Dingell told CBS she did not favor linking that issue to other policy objectives, such as wall funding. “We need to do DACA clean,” she said.  On Wednesday, Trump aides will meet with congressional leaders to discuss those issues. That will be followed by a weekend of strategy sessions for Trump and Republican leaders on Jan. 6 and 7, the White House said. Trump was also scheduled to meet on Sunday with Florida Republican Governor Rick Scott, who wants more emergency aid. The House has passed an $81 billion aid package after hurricanes in Florida, Texas and Puerto Rico, and wildfires in California. The package far exceeded the $44 billion requested by the Trump administration. The Senate has not yet voted on the aid. ",
         "politicsNews",
         "December 31, 2017 "
        ],
        [
         "1",
         "U.S. military to accept transgender recruits on Monday: Pentagon",
         "WASHINGTON (Reuters) - Transgender people will be allowed for the first time to enlist in the U.S. military starting on Monday as ordered by federal courts, the Pentagon said on Friday, after President Donald Trump’s administration decided not to appeal rulings that blocked his transgender ban. Two federal appeals courts, one in Washington and one in Virginia, last week rejected the administration’s request to put on hold orders by lower court judges requiring the military to begin accepting transgender recruits on Jan. 1. A Justice Department official said the administration will not challenge those rulings. “The Department of Defense has announced that it will be releasing an independent study of these issues in the coming weeks. So rather than litigate this interim appeal before that occurs, the administration has decided to wait for DOD’s study and will continue to defend the president’s lawful authority in District Court in the meantime,” the official said, speaking on condition of anonymity. In September, the Pentagon said it had created a panel of senior officials to study how to implement a directive by Trump to prohibit transgender individuals from serving. The Defense Department has until Feb. 21 to submit a plan to Trump. Lawyers representing currently-serving transgender service members and aspiring recruits said they had expected the administration to appeal the rulings to the conservative-majority Supreme Court, but were hoping that would not happen. Pentagon spokeswoman Heather Babb said in a statement: “As mandated by court order, the Department of Defense is prepared to begin accessing transgender applicants for military service Jan. 1. All applicants must meet all accession standards.” Jennifer Levi, a lawyer with gay, lesbian and transgender advocacy group GLAD, called the decision not to appeal “great news.” “I’m hoping it means the government has come to see that there is no way to justify a ban and that it’s not good for the military or our country,” Levi said. Both GLAD and the American Civil Liberties Union represent plaintiffs in the lawsuits filed against the administration. In a move that appealed to his hard-line conservative supporters, Trump announced in July that he would prohibit transgender people from serving in the military, reversing Democratic President Barack Obama’s policy of accepting them. Trump said on Twitter at the time that the military “cannot be burdened with the tremendous medical costs and disruption that transgender in the military would entail.” Four federal judges - in Baltimore, Washington, D.C., Seattle and Riverside, California - have issued rulings blocking Trump’s ban while legal challenges to the Republican president’s policy proceed. The judges said the ban would likely violate the right under the U.S. Constitution to equal protection under the law. The Pentagon on Dec. 8 issued guidelines to recruitment personnel in order to enlist transgender applicants by Jan. 1. The memo outlined medical requirements and specified how the applicants’ sex would be identified and even which undergarments they would wear. The Trump administration previously said in legal papers that the armed forces were not prepared to train thousands of personnel on the medical standards needed to process transgender applicants and might have to accept “some individuals who are not medically fit for service.” The Obama administration had set a deadline of July 1, 2017, to begin accepting transgender recruits. But Trump’s defense secretary, James Mattis, postponed that date to Jan. 1, 2018, which the president’s ban then put off indefinitely. Trump has taken other steps aimed at rolling back transgender rights. In October, his administration said a federal law banning gender-based workplace discrimination does not protect transgender employees, reversing another Obama-era position. In February, Trump rescinded guidance issued by the Obama administration saying that public schools should allow transgender students to use the restroom that corresponds to their gender identity. ",
         "politicsNews",
         "December 29, 2017 "
        ],
        [
         "2",
         "Senior U.S. Republican senator: 'Let Mr. Mueller do his job'",
         "WASHINGTON (Reuters) - The special counsel investigation of links between Russia and President Trump’s 2016 election campaign should continue without interference in 2018, despite calls from some Trump administration allies and Republican lawmakers to shut it down, a prominent Republican senator said on Sunday. Lindsey Graham, who serves on the Senate armed forces and judiciary committees, said Department of Justice Special Counsel Robert Mueller needs to carry on with his Russia investigation without political interference. “This investigation will go forward. It will be an investigation conducted without political influence,” Graham said on CBS’s Face the Nation news program. “And we all need to let Mr. Mueller do his job. I think he’s the right guy at the right time.”  The question of how Russia may have interfered in the election, and how Trump’s campaign may have had links with or co-ordinated any such effort, has loomed over the White House since Trump took office in January. It shows no sign of receding as Trump prepares for his second year in power, despite intensified rhetoric from some Trump allies in recent weeks accusing Mueller’s team of bias against the Republican president. Trump himself seemed to undercut his supporters in an interview last week with the New York Times in which he said he expected Mueller was “going to be fair.”    Russia’s role in the election and the question of possible links to the Trump campaign are the focus of multiple inquiries in Washington. Three committees of the Senate and the House of Representatives are investigating, as well as Mueller, whose team in May took over an earlier probe launched by the U.S. Federal Bureau of Investigation (FBI). Several members of the Trump campaign and administration have been convicted or indicted in the investigation.  Trump and his allies deny any collusion with Russia during the campaign, and the Kremlin has denied meddling in the election. Graham said he still wants an examination of the FBI’s use of a dossier on links between Trump and Russia that was compiled by a former British spy, Christopher Steele, which prompted Trump allies and some Republicans to question Mueller’s inquiry.   On Saturday, the New York Times reported that it was not that dossier that triggered an early FBI probe, but a tip from former Trump campaign foreign policy adviser George Papadopoulos to an Australian diplomat that Russia had damaging information about former Trump rival Hillary Clinton.  “I want somebody to look at the way the Department of Justice used this dossier. It bothers me greatly the way they used it, and I want somebody to look at it,” Graham said. But he said the Russia investigation must continue. “As a matter of fact, it would hurt us if we ignored it,” he said. ",
         "politicsNews",
         "December 31, 2017 "
        ],
        [
         "3",
         "FBI Russia probe helped by Australian diplomat tip-off: NYT",
         "WASHINGTON (Reuters) - Trump campaign adviser George Papadopoulos told an Australian diplomat in May 2016 that Russia had political dirt on Democratic presidential candidate Hillary Clinton, the New York Times reported on Saturday. The conversation between Papadopoulos and the diplomat, Alexander Downer, in London was a driving factor behind the FBI’s decision to open a counter-intelligence investigation of Moscow’s contacts with the Trump campaign, the Times reported. Two months after the meeting, Australian officials passed the information that came from Papadopoulos to their American counterparts when leaked Democratic emails began appearing online, according to the newspaper, which cited four current and former U.S. and foreign officials. Besides the information from the Australians, the probe by the Federal Bureau of Investigation was also propelled by intelligence from other friendly governments, including the British and Dutch, the Times said. Papadopoulos, a Chicago-based international energy lawyer, pleaded guilty on Oct. 30 to lying to FBI agents about contacts with people who claimed to have ties to top Russian officials. It was the first criminal charge alleging links between the Trump campaign and Russia. The White House has played down the former aide’s campaign role, saying it was “extremely limited” and that any actions he took would have been on his own. The New York Times, however, reported that Papadopoulos helped set up a meeting between then-candidate Donald Trump and Egyptian President Abdel Fattah al-Sisi and edited the outline of Trump’s first major foreign policy speech in April 2016. The federal investigation, which is now being led by Special Counsel Robert Mueller, has hung over Trump’s White House since he took office almost a year ago. Some Trump allies have recently accused Mueller’s team of being biased against the Republican president. Lawyers for Papadopoulos did not immediately respond to requests by Reuters for comment. Mueller’s office declined to comment. Trump’s White House attorney, Ty Cobb, declined to comment on the New York Times report. “Out of respect for the special counsel and his process, we are not commenting on matters such as this,” he said in a statement. Mueller has charged four Trump associates, including Papadopoulos, in his investigation. Russia has denied interfering in the U.S. election and Trump has said there was no collusion between his campaign and Moscow. ",
         "politicsNews",
         "December 30, 2017 "
        ],
        [
         "4",
         "Trump wants Postal Service to charge 'much more' for Amazon shipments",
         "SEATTLE/WASHINGTON (Reuters) - President Donald Trump called on the U.S. Postal Service on Friday to charge “much more” to ship packages for Amazon (AMZN.O), picking another fight with an online retail giant he has criticized in the past.     “Why is the United States Post Office, which is losing many billions of dollars a year, while charging Amazon and others so little to deliver their packages, making Amazon richer and the Post Office dumber and poorer? Should be charging MUCH MORE!” Trump wrote on Twitter.  The president’s tweet drew fresh attention to the fragile finances of the Postal Service at a time when tens of millions of parcels have just been shipped all over the country for the holiday season.  The U.S. Postal Service, which runs at a big loss, is an independent agency within the federal government and does not receive tax dollars for operating expenses, according to its website.  Package delivery has become an increasingly important part of its business as the Internet has led to a sharp decline in the amount of first-class letters. The president does not determine postal rates. They are set by the Postal Regulatory Commission, an independent government agency with commissioners selected by the president from both political parties. That panel raised prices on packages by almost 2 percent in November.  Amazon was founded by Jeff Bezos, who remains the chief executive officer of the retail company and is the richest person in the world, according to Bloomberg News. Bezos also owns The Washington Post, a newspaper Trump has repeatedly railed against in his criticisms of the news media. In tweets over the past year, Trump has said the “Amazon Washington Post” fabricated stories. He has said Amazon does not pay sales tax, which is not true, and so hurts other retailers, part of a pattern by the former businessman and reality television host of periodically turning his ire on big American companies since he took office in January. Daniel Ives, a research analyst at GBH Insights, said Trump’s comment could be taken as a warning to the retail giant. However, he said he was not concerned for Amazon. “We do not see any price hikes in the future. However, that is a risk that Amazon is clearly aware of and (it) is building out its distribution (system) aggressively,” he said. Amazon has shown interest in the past in shifting into its own delivery service, including testing drones for deliveries. In 2015, the company spent $11.5 billion on shipping, 46 percent of its total operating expenses that year.  Amazon shares were down 0.86 percent to $1,175.90 by early afternoon. Overall, U.S. stock prices were down slightly on Friday.  Satish Jindel, president of ShipMatrix Inc, which analyzes shipping data, disputed the idea that the Postal Service charges less than United Parcel Service Inc (UPS.N) and FedEx Corp (FDX.N), the other biggest players in the parcel delivery business in the United States. Many customers get lower rates from UPS and FedEx than they would get from the post office for comparable services, he said. The Postal Service delivers about 62 percent of Amazon packages, for about 3.5 to 4 million a day during the current peak year-end holiday shipping season, Jindel said. The Seattle-based company and the post office have an agreement in which mail carriers take Amazon packages on the last leg of their journeys, from post offices to customers’ doorsteps. Amazon’s No. 2 carrier is UPS, at 21 percent, and FedEx is third, with 8 percent or so, according to Jindel. Trump’s comment tapped into a debate over whether Postal Service pricing has kept pace with the rise of e-commerce, which has flooded the mail with small packages.Private companies like UPS have long claimed the current system unfairly undercuts their business. Steve Gaut, a spokesman for UPS, noted that the company values its “productive relationship” with the postal service, but that it has filed with the Postal Regulatory Commission its concerns about the postal service’s methods for covering costs. Representatives for Amazon, the White House, the U.S. Postal Service and FedEx declined comment or were not immediately available for comment on Trump’s tweet. According to its annual report, the Postal Service lost $2.74 billion this year, and its deficit has ballooned to $61.86 billion.  While the Postal Service’s revenue for first class mail, marketing mail and periodicals is flat or declining, revenue from package delivery is up 44 percent since 2014 to $19.5 billion in the fiscal year ended Sept. 30, 2017. But it also lost about $2 billion in revenue when a temporary surcharge expired in April 2016. According to a Government Accountability Office report in February, the service is facing growing personnel expenses, particularly $73.4 billion in unfunded pension and benefits liabilities. The Postal Service has not announced any plans to cut costs. By law, the Postal Service has to set prices for package delivery to cover the costs attributable to that service. But the postal service allocates only 5.5 percent of its total costs to its business of shipping packages even though that line of business is 28 percent of its total revenue. ",
         "politicsNews",
         "December 29, 2017 "
        ]
       ],
       "shape": {
        "columns": 4,
        "rows": 5
       }
      },
      "text/html": [
       "<div>\n",
       "<style scoped>\n",
       "    .dataframe tbody tr th:only-of-type {\n",
       "        vertical-align: middle;\n",
       "    }\n",
       "\n",
       "    .dataframe tbody tr th {\n",
       "        vertical-align: top;\n",
       "    }\n",
       "\n",
       "    .dataframe thead th {\n",
       "        text-align: right;\n",
       "    }\n",
       "</style>\n",
       "<table border=\"1\" class=\"dataframe\">\n",
       "  <thead>\n",
       "    <tr style=\"text-align: right;\">\n",
       "      <th></th>\n",
       "      <th>title</th>\n",
       "      <th>text</th>\n",
       "      <th>subject</th>\n",
       "      <th>date</th>\n",
       "    </tr>\n",
       "  </thead>\n",
       "  <tbody>\n",
       "    <tr>\n",
       "      <th>0</th>\n",
       "      <td>As U.S. budget fight looms, Republicans flip t...</td>\n",
       "      <td>WASHINGTON (Reuters) - The head of a conservat...</td>\n",
       "      <td>politicsNews</td>\n",
       "      <td>December 31, 2017</td>\n",
       "    </tr>\n",
       "    <tr>\n",
       "      <th>1</th>\n",
       "      <td>U.S. military to accept transgender recruits o...</td>\n",
       "      <td>WASHINGTON (Reuters) - Transgender people will...</td>\n",
       "      <td>politicsNews</td>\n",
       "      <td>December 29, 2017</td>\n",
       "    </tr>\n",
       "    <tr>\n",
       "      <th>2</th>\n",
       "      <td>Senior U.S. Republican senator: 'Let Mr. Muell...</td>\n",
       "      <td>WASHINGTON (Reuters) - The special counsel inv...</td>\n",
       "      <td>politicsNews</td>\n",
       "      <td>December 31, 2017</td>\n",
       "    </tr>\n",
       "    <tr>\n",
       "      <th>3</th>\n",
       "      <td>FBI Russia probe helped by Australian diplomat...</td>\n",
       "      <td>WASHINGTON (Reuters) - Trump campaign adviser ...</td>\n",
       "      <td>politicsNews</td>\n",
       "      <td>December 30, 2017</td>\n",
       "    </tr>\n",
       "    <tr>\n",
       "      <th>4</th>\n",
       "      <td>Trump wants Postal Service to charge 'much mor...</td>\n",
       "      <td>SEATTLE/WASHINGTON (Reuters) - President Donal...</td>\n",
       "      <td>politicsNews</td>\n",
       "      <td>December 29, 2017</td>\n",
       "    </tr>\n",
       "  </tbody>\n",
       "</table>\n",
       "</div>"
      ],
      "text/plain": [
       "                                               title  \\\n",
       "0  As U.S. budget fight looms, Republicans flip t...   \n",
       "1  U.S. military to accept transgender recruits o...   \n",
       "2  Senior U.S. Republican senator: 'Let Mr. Muell...   \n",
       "3  FBI Russia probe helped by Australian diplomat...   \n",
       "4  Trump wants Postal Service to charge 'much mor...   \n",
       "\n",
       "                                                text       subject  \\\n",
       "0  WASHINGTON (Reuters) - The head of a conservat...  politicsNews   \n",
       "1  WASHINGTON (Reuters) - Transgender people will...  politicsNews   \n",
       "2  WASHINGTON (Reuters) - The special counsel inv...  politicsNews   \n",
       "3  WASHINGTON (Reuters) - Trump campaign adviser ...  politicsNews   \n",
       "4  SEATTLE/WASHINGTON (Reuters) - President Donal...  politicsNews   \n",
       "\n",
       "                 date  \n",
       "0  December 31, 2017   \n",
       "1  December 29, 2017   \n",
       "2  December 31, 2017   \n",
       "3  December 30, 2017   \n",
       "4  December 29, 2017   "
      ]
     },
     "execution_count": 4,
     "metadata": {},
     "output_type": "execute_result"
    }
   ],
   "source": [
    "true.head()"
   ]
  },
  {
   "cell_type": "code",
   "execution_count": 5,
   "id": "03aba4eb",
   "metadata": {},
   "outputs": [],
   "source": [
    "fake['class']=0\n",
    "true['class']=1"
   ]
  },
  {
   "cell_type": "code",
   "execution_count": 6,
   "id": "f42ef589",
   "metadata": {},
   "outputs": [],
   "source": [
    "data = pd.concat([fake,true], axis = 0)"
   ]
  },
  {
   "cell_type": "code",
   "execution_count": 7,
   "id": "a3e2472a",
   "metadata": {},
   "outputs": [
    {
     "data": {
      "application/vnd.microsoft.datawrangler.viewer.v0+json": {
       "columns": [
        {
         "name": "index",
         "rawType": "int64",
         "type": "integer"
        },
        {
         "name": "title",
         "rawType": "object",
         "type": "string"
        },
        {
         "name": "text",
         "rawType": "object",
         "type": "string"
        },
        {
         "name": "subject",
         "rawType": "object",
         "type": "string"
        },
        {
         "name": "date",
         "rawType": "object",
         "type": "string"
        },
        {
         "name": "class",
         "rawType": "int64",
         "type": "integer"
        }
       ],
       "ref": "22290c37-2d89-4d52-b82b-565ab40f8e81",
       "rows": [
        [
         "19253",
         "BOOM! TX Governor Will CUT FUNDING To County Where Sheriff Of Sanctuary City Refuses To Cooperate With Feds [VIDEO]",
         "Soon after newly elected Travis County Sheriff Sally Hernandez announced she would be scaling back her department s cooperation with federal immigration agents, Gov. Greg Abbott tweeted that his office will cut funding  for Travis County adopting sanctuary policies. The Governor's Office will cut funding for Travis County adopting sanctuary policies. Stiffer penalties coming. https://t.co/yYxeXql3xL  Greg Abbott (@GregAbbott_TX) January 20, 2017 Stiffer penalties coming,  his tweet says.This week, the American-Statesman reported that she had notified the county that it would soon no longer be complying with federal agents  requests in many cases. The county consequently could lose up to $1.8 million in grants because the governor s office requires compliance in order to receive grants.Gov. Greg Abbott said via Twitter in response to the Statesman s report,  I m about to up the ante. No more sanctuary cities in Texas. Texas Governor Greg Abbott warned he would cut off aid to Sheriff Hernandez if she refused to cooperate with the Federal immigration agencies:https://www.youtube.com/watch?time_continue=3&v=DXPmp2XIizk&pbjreload=10The Travis County sheriff s office has a $169 million budget, according to the county s budget website. The $1.8 million would represent 1 percent of that budget.Earlier: In a major policy shift that is already being met with controversy, Travis County Sheriff Sally Hernandez on Friday announced that she is scaling back the amount of aid her department provides federal immigration agents in detaining suspects who may be in the country illegally.Traditionally, the county has honored nearly all requests by U.S. Immigration and Customs Enforcement to hold a suspect booked into jail when agents have wanted to investigate their status further. However, effective Feb. 1, sheriff s officials will honor so-called immigration holds or  detainers  placed by federal authorities only when a suspect is booked into the Travis County Jail on charges of capital murder, aggravated sexual assault and  continuous smuggling of persons. Otherwise, federal agents must have a court order or arrest warrant signed by a judge for the jail to continue housing a person whose immigration status is in question, according to Hernandez s policy, which she released Friday. The public must be confident that local law enforcement is focused on local public safety, not on federal immigration enforcement. Our jail cannot be perceived as a holding tank for ICE or that Travis County deputies are ICE officers,  Hernandez said in a video announcement.  My Statesman",
         "left-news",
         "Jan 23, 2017",
         "0"
        ],
        [
         "4346",
         " Donald Trump’s ‘Charity’ Foundation Is About To Be Shut The F**k Down NATIONWIDE",
         "Things really aren t looking too great for Donald Trump s charity foundation. With recent developments prohibiting the Trump Foundation from soliciting funds in New York state, it s now looking like a good majority of states may be following suit.The Trump Foundation has also been being looked at by the Attorney General for how it is getting and spending funds, especially after what happen with veterans organizations earlier this year.According to The Daily Beast: To make matters worse for the Trump Foundation, the probe may not be limited to New York: Charity experts and lawyers tell The Daily Beast that the attorneys general of other states may soon get involved in a long, drawn-out process.All major charities are required to register with 41 different states across the nation in order to individually request permission to fundraise. When Trump raised money for veterans, he may have broken the rules in dozens of states. The president of the National Committee for Responsible Philanthropy, Aaron Dorfman, stated: The Trump Foundation would be required to file similar paperwork with the attorneys generals of nearly every other state, and they could all take similar action. It is likely that other states will follow suit and they will be issued cease and desist orders denying them fundraising privileges in other states. That is the most likely next step. This is not good news for Trump who keeps trying to pivot to slamming Hillary Clinton s Clinton Foundation. You know, the one that helps fight AIDS in nations globally.Trump, of course, likes to pretend that he s holier than thou, which might explain why Trump Foundation money was used to buy pictures of, well, himself.And according to Real Clear Politics: From 2011 through 2014, Trump harnessed his eponymous foundation to send at least $286,000 to influential conservative or policy groups, a RealClearPolitics review of the foundation s tax filings found. In many cases, this flow of money corresponded to prime speaking slots or endorsements that aided Trump as he sought to recast himself as a plausible Republican candidate for president. Finding out Trump is a scam artist using a shell charity with his same name really should come as no surprise. Especially to fund his political ambitions of grandeur. However, it will be interesting to see how this story develops as the November election draws nearer.Featured Photo by Scott Olson/Getty Images",
         "News",
         "October 5, 2016",
         "0"
        ],
        [
         "10566",
         "CNN ANCHOR DON LEMON: A Republican Winning in Georgia ‘Shouldn’t Be Breaking News’ [Video]",
         "CNN anchor Don Lemon got snarky during reporting on Republican Karen Handel s win in Georgia s 6th District. He made a claim that this is pretty much no big deal. That s funny The Democrats spent 50 million dollars and went all in on this election but are now downplaying or making excuses for the loss. Lemon should do his homework: Donald Trump won the 6th District by slim margins in the 2016 election. This was a HUGE win for Republicans!https://www.youtube.com/watch?v=-hRJS0QWecILemon said,  What s interesting is that, breaking news, a Republican wins in Georgia, it shouldn t be breaking news. This is the way it should happen. But the fact, David, that it was so close, at least it appeared in the polling and in the results, as well. The results are actually really close. He then asked,  What does this say about the state of affairs, especially the Trump   is there a mandate for Donald Trump? Will he keep his support? Will it stay the same? Are Democrats looking at this as necessarily a loss, or they got close and maybe there s hope for them in the midterms? THE DEMOCRAT DELUSION CONTINUES ",
         "politics",
         "Jun 21, 2017",
         "0"
        ],
        [
         "17257",
         "FEMA DENIES AID TO BALTIMORE FOR RIOT DAMAGES – MAYOR PLANS TO APPEAL",
         "Remember this? Mayor Rawlings-Blake says that the Baltimore rioters needed room to destroy  The Federal Emergency Management Agency has denied a state request for disaster aid to cover the costs associated with the rioting and unrest that broke out in Baltimore after the death of Freddie Gray.W. Craig Fugate, FEMA s administrator, wrote in a June 12 letter to Gov. Larry Hogan that federal disaster aid was  not appropriate  for such an event. Therefore, I must inform you that your request for a major disaster declaration is denied,  Fugate wrote.Spokeswoman Erin Montgomery said Friday that the Hogan administration  is reviewing FEMA s response and will make a determination about the appropriate next steps, including a possible appeal. A disaster declaration would allow public agencies and residents affected by the unrest to seek reimbursement for related costs.City officials have reserved $20 million to cover direct costs, including overtime for police and firefighters, damage to city-owned property and repaying other jurisdictions for police and other assistance.Howard Libit, a spokesman for Mayor Stephanie Rawlings-Blake, said Friday that the city is working on an appeal. We re told we have 30 days to appeal,  he said.  We re working with the federal delegation and Obama administration officials to assess what we might do to become eligible for reimbursement. Henry J. Raymond, Baltimore s finance director, said in May that the city was covering the costs from its rainy-day fund but hoped for federal reimbursement of up to 75 percent of the costs.In his request for aid, Hogan had cited Baltimore s preliminary estimate that the rioting and looting in April and the five-night citywide curfew had an economic impact of $30.5 million. That included the loss of conventions, hospitality and leisure spending, and tourism from Orioles games that were closed to the public or moved to Florida. Read more: The Baltimore Sun ",
         "Government News",
         "Jun 19, 2015",
         "0"
        ],
        [
         "4277",
         " Melania Quite Possibly Tried To Troll The Press With Her Style Of Blouse At The Debate",
         "Melania Trump, standing by her man despite being hurt and disappointed in her husband for bragging up a storm about sexually assaulting women, appeared at the 2nd presidential debate looking radiant in a modest, flowing, pink Gucci blouse. There s a small problem, though: The blouse is, literally, called a  Pussybow silk-crepe de chine shirt. That s according to Gucci itself. Their description says: A pussybow blouse is one of the prettiest ways to embrace Gucci s new-found eclecticism. This fuchsia-pink design is cut in Italy from silk-georgette, and detailed with softly gathered shoulders and buttoned cuffs to maximise the vintage vibes. Tuck it into a knife-pleated skirt, finishing with statement accessories.  [emphasis mine]Check it out below:OMG: Melania s #debate fashion: Gucci s  pussy bow  shirt H/t @politiquette pic.twitter.com/VQ0LpQp7NW  Jay Newton-Small (@JNSmall) October 10, 2016Melania couldn t find a better style of blouse to wear, considering Donald Trump s comment about grabbing women by the pussy?Maybe she didn t know. Someone probably should have warned her, though, because the last 48 hours have been very painful for women all across America who actually have been grabbed that way. The right s defense of those indefensible words just makes it so much worse.Right now, there are definitely some who would call anyone who thinks this was tone-deaf  overly sensitive,  and worse, because of course they would. However, as the wife of the man in the hot seat for those comments, she could have stood to wear something else.Trump has been in a lot of trouble for bragging about sexually assaulting women, saying things like,  I just start kissing them. It s like a magnet. Just kiss. I don t even wait,  and  Just grab them by the pussy. Anything you want.  People bring up Bill Clinton s escapades, but that s nothing more than a deflection.Those words aren t the words of a simply uncouth man. Those are the words of a sexual predator   someone who believes that women want him to take them sexually because he s a star, and who has no compunction whatsoever about acting on that thought.The Trump campaign insists this wasn t intentional on Melania s part. However, it could be seen as, at a minimum, trolling the press in an attempt to prove she s standing by her husband.Featured image by Scott Olson/Getty Images",
         "News",
         "October 10, 2016",
         "0"
        ],
        [
         "8034",
         " President Obama Mocks Conservatives That Claim To Be Constitutional Scholars (VIDEO)",
         "President Barack Obama has addressed the ridiculous demands that Senate Majority Leader Mitch McConnell and Republicans like presidential candidate Ted Cruz have placed on him, insisting that he forego nominating a new Supreme Court justice after the sudden passing of Justice Antonin Scalia.This takedown moment came at the Association of Southeast Asian Nations Leaders Summit in California, where Obama sent his  heartfelt condolences  to Scalia s loved ones. When he was asked what he would do if McConnell actually went through with threats to block his SCOTUS nominee, Obama ripped the Republicans a new one by reminding them that it was his constitutional duty to find a replacement, and that it was their constitutional duty to  do their job  and vote on his nominee. He said: The Constitution is pretty clear about what s supposed to happen now: When there s a vacancy on the Supreme Court, the President of the United States is to nominate someone. The senate is to consider that nomination and either they disapprove of that nominee or that nominee is elevated to the Supreme Court.Historically, this has not been viewed as a question. Obama, who is actually a former constitutional law professor, then hilariously mocked the Republican lawmakers who tried to deny his presidential duties with ridiculous interpretations of the U.S. Constitution: I m amused when I hear people who claim to be strict interpreters of the Constitution suddenly reading into it a whole series of provisions that are not there. We ve almost gotten accustomed to how obstructionist the Senate has become when it comes to nominations. In some ways, this argument is just an extension of what we ve seen in the Senate, generally. Obama voiced his disappointment in the Republicans  resolve to stop him, noting that the Supreme Court is  the one court where we would expect elected officials to rise above day-to-day politics.  Going forward, Obama suggested that it would be  a good moment for us to rise above  the resistance and obstructionism in Congress.Then, Obama said another thing the GOP wouldn t like   that they were far from discouraging him from fulfilling his responsibility to nominate, in due time, a very well-qualified candidate.  Obama said: If we are following basic precedent, then that nominee will be presented before the committees, the vote will be taken and, ultimately, they will be confirmed. Although Obama didn t reveal who he would choose, the president did assure everyone that We re going to find somebody who is an outstanding legal mind, somebody who cares deeply about our democracy and cares about rule of law. I m going to present somebody who indisputably is qualified for the seat, and any fair-minded person, even somebody who disagrees with my politics, would say would serve with honor and integrity on the court. You can watch Obama take down Republicans at the conference below: Featured image via Pete Souza",
         "News",
         "February 17, 2016",
         "0"
        ],
        [
         "17638",
         "DEMOCRAT SENATOR AL FRANKEN Thought It Would Be Hilarious To Do An SNL Skit About Drugging and Raping 60 Minutes Reporter: “when Lesley’s passed out, I take her to the closet and rape her”",
         "Democratic Senator Al Franken   who has been accused of kissing a woman without her consent and pretending to grope her in a photo   once pitched an SNL sketch about raping a journalist, it has emerged.The remarks were made in 1995, when Franken and other writers on the show were working up a sketch about then-60 Minutes host Andy Rooney finding a bottle of pills in his desk, New York Magazine reported at the time.As the team batted ideas around, Franken suggested that the pills might be used by Rooney to drug Lesley Stahl at which point he would  take her to the closet and rape her .The sketch was part of an ongoing series in which Norm Macdonald portrayed Rooney as an out-of-touch misanthrope with a tenuous grasp on reality.Macdonald had suggested that Rooney could say  I don t know what the pills are for   what I do know is, the bottle is mostly filled with cotton. Franken then chipped in with:  And,  I give the pills to Lesley Stahl. Then, when Lesley s passed out, I take her to the closet and rape her. Or,  That s why you never see Lesley until February.  Or,  When she passes out, I put her in various positions and take pictures of her. Stahl was a contributor to 60 Minutes at the time. Macdonald then asked,  What if Rooney rapes Mike Wallace? And then says,  I guess that makes me bad.  Is it funnier with a black guy? Or two old white guys? Franken responded:  What about,  I drag Mike into my office and rape him. Right here! I guess that makes me bad. The sketch never made it to air, and it s questionable whether it was ever intended to do so.But the 1995 report has now resurfaced   as it did in 2008, when Franken made his successful run for Minnesota Senator.At the time, his campaign said:  Al understands, and the people of Minnesota understand, the difference between what a satirist does and what a senator does. But newly emerged claims that Franken kissed a woman without her consent in 2006, and pretended to grope her in a photo while she was sleeping have been tougher for the comedian to address. Daily MailWatch Leeann Tweeden talk about Senator Franken s repulsive sexual assault against her: ",
         "left-news",
         "Nov 16, 2017",
         "0"
        ],
        [
         "10514",
         "Republicans in tailspin, group forms to draft Ryan for U.S. president",
         "WASHINGTON (Reuters) - With U.S. Republicans sharply split over a front-runner they cannot unite behind, a new group is trying to push the country’s top elected Republican, Paul Ryan, into the White House race. The Committee to Draft Speaker Ryan filed papers as a Super PAC with the Federal Election Commission on Thursday, adding to the groups of mainstream Republican leaders and donors with a shared goal: stopping Trump. Ryan, the House of Representatives speaker who spoke out against Trump for not quickly rejecting white supremacist support, did not appear ready to take on the role. “He is flattered, but not interested,” Ryan spokeswoman AshLee Strong said in an email on Friday. Politico first reported the formation of the draft-Ryan PAC. Mitt Romney, the Republicans’ losing presidential candidate in 2012, also said he was not interested. “There are no circumstances I can foresee where that would possibly happen,” Romney said on NBC’s “Today” show on Friday, a day after he excoriated Trump as a fraud ill-equipped for the White House. The Republican Party may need more than a hero as it grapples with its deepest divisions in decades.  Those splits were on display again on Thursday night as Trump took on his two closest challengers, U.S. Senators Marco Rubio and Ted Cruz of Texas, in a debate marked by the yelling, name-calling and vulgarity that has tainted the 2016 Republican race. Trump’s rivals said they would support the ultimate nominee but it was clear on Friday that would be easier said than done. “That is the quandary I’m trying to avoid the Republican Party having to face,” Rubio said on CNN on Friday.  While the anti-Trump movements proliferated, some Republicans have urged party leaders to respect the will of the voters.  Trump spokesman Sam Clovis seized on that message on Friday, warning on CNN that it was dangerous for Republican leaders to “call American voters stupid” because they support Trump. “You have record turnout in every state so far. Record turnout. That doesn’t happen by accident, said Clovis, national campaign co-chairman. Trump is “tapping into what is going on in this country like no one else has in a long, long time. I haven’t seen anything like this since Ronald Reagan.” Columnist Peggy Noonan, a former Reagan speechwriter, had a different lament in the Wall Street Journal on Friday. “I think we are seeing a great political party shatter before our eyes,” she said. “But we are witnessing history. Something important is ending. It is hard to believe what replaces it will be better. No one knows where this goes. The top of the party and the bottom have split.”  (Reporting by Doina Chiacu and Megan Cassella; Writing by Doina Chiacu; Editing by Bill Trott) This article was funded in part by SAP. It was independently created by the Reuters editorial staff. SAP had no editorial involvement in its creation or production.",
         "politicsNews",
         "March 4, 2016 ",
         "1"
        ],
        [
         "13592",
         "Barnier says 'still working' on Brexit terms with Britain",
         "BERLIN (Reuters) - The European Union s chief Brexit negotiator Michel Barnier said on Wednesday he was  still working  to reach agreement with Britain about its exit from the bloc.   We are still working. (That is) the only comment I can make,  Barnier said after a speech at the Berlin Security Conference, when asked about reports that Britain had offered to pay much of what the EU was demanding to settle a Brexit  divorce bill .  I am working for an agreement,  Barnier told Reuters. ",
         "worldnews",
         "November 29, 2017 ",
         "1"
        ],
        [
         "9641",
         "‘ALL HAT, NO CATTLE’: Sarah Sanders Hits Back At ‘Cowgirl’ Congresswoman’s Claim That Gen. Kelly Was Lying About Her [Video]",
         "Sarah Sanders hit back at criticism that General Kelly was fabricating his account of Rep. Frederica Wilson  grandstanding  during an event to dedicate a new FBI office in Texas. The press was all over Sanders who clarified that Rep. Wilson made comments during the event about how she got the funding for the FBI office by picking up the phone and calling Barack. She was  grandstanding  and making the event about her, according to Kelly. The fake news is saying Sanders said the press couldn t speak to Kelly but when you listen to what she said it s clear she said to go ahead if they want to challenge Kelly. She NEVER said the press couldn t talk to him.In case you missed the wonderful message from Chief of Staff Kelly:White House Chief of Staff John Kelly says he was stunned to learn that Congresswoman Frederica Wilson listened in on the president s call to a fallen soldier s wife. He came into the White House press briefing and let the press have it too. He goes through the steps of what happens when someone in the military is killed. He says that the members of our military are the best 1% of our population. He said he was  brokenhearted  when he found out what a member of congress did. This is a heartfelt moment that is amazing:KELLY DOES A GREAT JOB OF CUTTING THROUGH THE BS FROM THE PRESS:The retired general who lost his own son in Afghanistan said the call to Sgt. La David T. Johnson s wife should have been  sacred. It stuns me that a member of congress would have listened in on that conversation. Absolutely stuns me. I thought at least that was sacred,  he said.The White House official found himself at the center of a charge that President Barack Obama  didn t make calls  to the families of fallen soldiers this week after President Trump claimed that Obama didn t call Kelly when his son Robert died.Kelly said Thursday at a White House news conference that it s true   but he wasn t offended.In fact, Kelly says he counseled Trump not to call Gold Star families and to instead write letters.Read more: Daily Mail",
         "politics",
         "Oct 20, 2017",
         "0"
        ],
        [
         "11545",
         "Malaysian PM Najib says will use all means to fight Trump's Jerusalem move",
         "KUALA LUMPUR (Reuters) - Malaysian Prime Minister Najib Razak vowed on Friday to use every means to protest against U.S. President Donald Trump s recognition of Jerusalem as Israel s capital, a tough stand likely to win him support among Muslim voters. Najib has been embroiled in a graft scandal over a state-run fund, and has faced unprecedented criticism from former ruling party stalwarts, making the support of members of the Muslim, ethnic Malay majority vital in a general election next year.  We will continue to fight on this issue, using every available means, through political and diplomatic channels, through discussion and prayer, until one day, God willing, Jerusalem belongs to the Palestinian people,  Najib told a rally of about 1,500 in the administrative capital of Putrajaya. He said he would not  sacrifice the sanctity of Islam  despite his friendship with Trump. Najib visited the White House in September.  It is our first duty as Muslims to uphold the religion. If Jerusalem is a sacred land for Muslims, then it is upon us to free it from the grasps of Zionists,  Najib said. Najib and his ruling party have been burnishing their Islamic credentials with the aim of boosting their chances in the general election, which must be held by mid-2018.  About 60 percent of Malaysia s population is ethnic Malay Muslim, with most of the rest ethnic Chinese and ethnic Indian. Najib, who did not mention the election in his speech at the rally, is hoping to win a third term despite the multi-billion dollar corruption scandal at 1Malaysia Development Berhad (1MDB) that has dogged his premiership for two years. U.S. Attorney-General Jeff Sessions this month described the scandal at the sovereign fund set up by Najib as the worst form of kleptocracy. The U.S. Department of Justice has filed several lawsuits to seize more than $1.7 billion in assets believed to have been stolen from 1MDB. Sessions did not identify any officials he thought were corrupt. Najib, who served as chairman of 1MDB s advisory board, has consistently denied any wrongdoing at the fund, and Malaysia s attorney-general has cleared him of any wrongdoing. The ruling party united behind Najib at a conference this month, letting him stand unopposed in a party leadership contest due next year. A rebounding economy and currency have also helped him improve his image. Four years ago, the ruling party crept back into power despite losing the popular vote and registering its worst ever election performance. This time, the challenge is coming from the veteran former prime minister Mahathir Mohamad, who gave up the premiership in 2003 after 22 years in power and had been Najib s mentor. Mahathir, the chairman of the opposition coalition, last week called Trump an  international bully  and a  villain  for his recognition of Jerusalem. Mahathir said on Twitter the Friday rally could  only be meaningful if it results in the BN government acting against Donald Trump and the United States , referring to the ruling Barisan Nasional coalition. Malaysia was one of the 128 countries that defied Trump on Thursday and voted in favor of a United Nations General Assembly resolution calling for the United States to drop its recognition of Jerusalem as Israel s capital. ",
         "worldnews",
         "December 22, 2017 ",
         "1"
        ],
        [
         "11837",
         "Russia working on defensive measures to counter possible new U.S. sanctions: Kremlin",
         "MOSCOW (Reuters) - Russia is working on defensive measures to prepare for possible new sanctions from the United States and other countries, the Kremlin said on Wednesday. U.S. President Donald Trump signed into law a new package of sanctions in August drafted by U.S. lawmakers. One of the provisions asked the U.S. Treasury Secretary to submit a report on the impact of expanding sanctions to cover Russian sovereign debt, with an outcome expected as early as February. U.S. and EU sanctions imposed over Russia s 2014 annexation of Ukraine s Crimea, and its support for pro-Russian separatists in eastern Ukraine, remain in place. But U.S. allegations that Moscow interfered in last year s U.S. presidential election, something Russia denies, have spurred calls for more sanctions.   On Wednesday, the Kremlin was asked to comment on media reports that Russian state development bank VEB planned to transfer its Globex bank to the state and about speculation that the bank would then be used to service the military industrial complex to try to protect Russia from new sanctions.  We are working on and taking measures aimed at defending our interests against a backdrop of possible new restrictive actions and sanctions by various countries, which we continue to deem unlawful,  Kremlin spokesman Dmitry Peskov told a conference call with reporters. He did not mention Globex bank.  It would probably not be right now to make public or disclose all these measures aimed at hedging our risks,  Peskov said.  ",
         "worldnews",
         "December 20, 2017 ",
         "1"
        ],
        [
         "12857",
         "BREAKING VIDEO Of Hillary Supporter And #BlackLivesMatter Activist Vandalizing Trump’s Brand New DC Hotel [VIDEO]",
         "Hillary has been stirring up the hateful movement Obama, Eric Holder and Al Sharpton started years ago, as a means to encourage blacks to come out to the polls on her behalf on November 8th. American voters need to ask themselves what kind of a person stirs up hate and division between races for the sake of getting votes? What kind of person is okay with dividing a nation just to obtain the ultimate power position in politics? The worst criminal to ever run for President of the United States .Crooked Hillary Clinton that s who.Watch her shamelessly pander to the worst common denominator for votes:Watch Hillary encourage Black Lives Matter terrorists to take their  action  to a new level:Oh look Black Lives Matter is actually listening to Hillary. Last night they vandalized one of the most beautiful buildings in Washington DC that just happens to being to Hillary s opponent:Trump's new DC hotel vandalized this morning w/ Black Lives Matter graffiti. I have a feeling this isn't going to be isolated. Smh.   pic.twitter.com/r9T6o9DfgT  Tara Setmayer (@TaraSetmayer) October 2, 2016Here is another picture that was taken of the graffiti painted on Trump s amazing hotel in downtown DC:Meanwhile in DC protesters seem to have defaced the Trump International Hotel. Workers just covered the graffiti. pic.twitter.com/gIOpB6dCmY  Jazmin Bailey (@JazminMBailey) October 1, 2016",
         "politics",
         "Oct 2, 2016",
         "0"
        ],
        [
         "11169",
         "Illinois Republicans push for state takeover of Chicago schools",
         "CHICAGO (Reuters) - Illinois’ two top Republican legislators said on Wednesday they will introduce legislation soon to let the state take over the cash-strapped Chicago public school system, permit the district to file for municipal bankruptcy and eventually allow for city-wide school board elections. The plan has the backing of Republican Governor Bruce Rauner, who has embraced allowing local governments facing financial turmoil to file for bankruptcy. But it is strongly opposed by Chicago Mayor Rahm Emanuel, who controls the city’s schools, the Chicago Teachers Union, and by Democratic leaders, who control the legislature. Senate Minority Leader Christine Radogno and House Minority Leader Jim Durkin, both Republican allies of Rauner, said a new approach is needed to rescue the Chicago Public Schools (CPS)from financial mismanagement and near collapse. Rauner told reporters Emanuel has failed to address the school district’s fiscal woes over the nearly five years he has been mayor.  “His message to us in state government has been for months, ‘We have a crisis. We need $500 million. We want the state to give it to us.’ That’s not a reasonable message. That’s not a reasonable request,” Rauner said. The nation’s third-largest school system has a structural budget deficit topping $1 billion and credit ratings that have fallen deep into the “junk” level.  The district’s current budget has a $480 million gap that officials hope to fill with bigger pension funding support from the state. But the plan has become entangled in a state budget stalemate between Rauner and Democrats.  The Republicans’ plan would amend an existing law permitting state oversight of fiscally troubled schools to include CPS and allow for an independent authority to run the district, while making it clear the state is not liable for school debt. Once solvency is regained, an elected school board would take control.  The plan would also open the door to Chapter 9 municipal bankruptcy while protecting general obligation bondholders with a statutory lien. “The mayor is 100 percent opposed to Governor Rauner’s ‘plan’ to drive CPS bankrupt,” Emanuel spokeswoman Kelley Quinn said in a statement, adding that the state has been shortchanging Chicago students. House Speaker Michael Madigan rejected the plan, pointing to Michigan’s takeover of the city of Flint, which has led to a health crisis from lead-tainted water. “The disaster in Flint, Michigan, is a very timely example of how reckless decisions just to save a buck can have devastating consequences on children and families,” Madigan said in a statement. Senate President John Cullerton, a Chicago Democrat, said the Republicans’ “mean-spirited” plan is not going to happen.  CPS has scheduled an $875 million bond sale for next week, partly to free up revenue for its sagging budget. ",
         "politicsNews",
         "January 20, 2016 ",
         "1"
        ],
        [
         "11932",
         "Philippine military removes navy chief, but won't say why",
         "MANILA (Reuters) - The Philippines relieved its navy commander of duty on Tuesday, four months ahead of his retirement, with the armed forces offering no explanation for his removal. Military spokesman Colonel Edgard Arevalo confirmed to reporters that Vice Admiral Ronald Joseph Mercado was no longer in charge of the 23,000-strong naval forces, but declined to say why.  The reason for this change of command will be explained in due time,  Arevalo told reporters. Military sources quoted in media reports said Mercado s removal was connected to controversy that had surfaced over the procurement of two frigates from South Korea, which are due to be delivered by 2020.  A defence official privy to the decision to remove Mercado said it concerned equipment to be purchased for those frigates. The official told Reuters the former navy chief had lost the  trust and confidence  of Defence Secretary Delfin Lorenzana. Lorenzana did not respond to a request for comment on Mercado s removal and calls to Mercado s mobile phone went unanswered.   There were some policy differences between the defense department and the navy over the 18 billion pesos ($358 million) acquisition of two brand-new frigates from South Korea,  the military official said, requesting anonymity because of the sensitivity of the issue. Rear Admiral Robert Empedrad was promoted to navy commander at a low-key ceremony at the armed forces headquarters in Manila. Congressman Gary Alejano, a former marine officer, said he would request a formal congressional inquiry take place over the navy s frigate acquisition project, having found Mercado s sudden removal  unusual . The Philippines is in the midst of a five-year, 125 billion peso ($2.5 billion) plan to modernise its ill-equipped armed forces, acquiring new boats, planes, helicopters, rifles, radars and communication equipment. ($1 = 50.2810 Philippine pesos) ",
         "worldnews",
         "December 19, 2017 ",
         "1"
        ],
        [
         "13804",
         "Queensland result leaves Australian PM closer to edge",
         "SYDNEY (Reuters) - The loss of a state election in Queensland has stepped up pressure on Australian Prime Minister Malcolm Turnbull, who risks losing control of parliament at a by-election next month. Three Australian prime ministers have been ousted by their own parties since 2010, and a splintering of the conservative base in Queensland has raised questions over how long Turnbull s premiership can survive. Opinion polls already show his popularity at a record low.  Queensland s Liberal National Party (LNP), which replicates the federal coalition made up of Turnbull s Liberal Party and its partner the National Party, was hurt by voters, particularly in regional and rural areas, defecting to Pauline Hanson s right-wing, populist One Nation party. Vote counting is still underway, but the conservative divide has left the Labor Party on track to form the government in the coal-rich northeastern state. Smarting from this latest setback, Turnbull reminded voters on Monday that if they backed One Nation at the next federal election it could play into the hands of the center opposition.  Everyone is entitled to cast their vote as they see fit but the voting for One Nation in the Queensland election has only assisted the Labor Party,   Turnbull told reporters in the city of Wollongong, south of Sydney. The next federal election is due either in late 2018 or early 2019. But first up is the Bennelong by-election on Dec. 16. Should the Liberals lose the seat in Sydney s north, Turnbull would have to negotiate with independents and small parties to retain control of the House of Representatives, where the government is formed. It could heighten chances of deadlock between the two houses of parliament, which might force Turnbull to call an early election, just as he did last year. Regarded as a moderate, Turnbull has trouble holding on to voters leaking to the right following the resurgence of Hanson s  anti-immigration party, according to Queensland University of Technology political science expert Clive Bean.  In recent times Queensland has often been one of the states that has made the difference when it comes to whether the coalition wins government or not,  said Bean.  The seats that tend to bleed votes to One Nation do tend to be seats where the LNP is traditionally stronger.  Forecast to win just one seat in Queensland, One Nation polled almost 14 percent of the vote, spoiling the LNP s chances of taking the state off Labor. At the federal level, the ruling coalition s fragility has been exacerbated by rules forcing lawmakers holding dual nationality, which is prohibited, to recontest seats. Bennelong is one such seat, and should defeat there lead to the coalition losing control over the House of Representatives it would immediately undermine the prime minister s efforts to  stave off an inquiry into Australia s scandal-hit major banks. While Turnbull has distanced himself from the Queensland election result, maverick coalition member George Christensen tweeted an apology to voters who switched allegiance to One Nation, blaming the federal government for not standing up for conservative values.  A lot of that rests with the Turnbull govt, it s (sic) leadership & policy direction,  the tweet said. ",
         "worldnews",
         "November 27, 2017 ",
         "1"
        ],
        [
         "1192",
         " Newt Gingrich’s New Tell-All Book Reveals Trump’s Grossest Habits While On Campaign",
         "The eating habits of President Trump have been scrutinized by the press many times during his campaign and presidency. Once again, the President s diet will be under the microscope of the media because of former Speaker New Gingrich providing an advanced copy of his new tell-all book,  Understanding Trump,  to the Washington Examiner. Anytime a meal was served when I flew with candidate Trump aboard his nicely outfitted 757, it was invariably McDonald s, Wendy s, or a similar fast food,  wrote Mr. Gingrich in his new book. Gingrich doesn t hold his tongue in his new tell-all that accounts the time he spent as a Trump advisor during his campaign and as acting President.Ironically, Gingrich is not the first House Speaker to comment on Trump s nasty health habits.  I think his family should be concerned about his health,  Rep. Nancy Pelosi said on MSNBC Thursday.  I m concerned about his fitness for office. Time reported that his staff are forced to cater to his big ego AND bad diet choices As he settles down, they bring him a Diet Coke, while the rest of us are served water, with the Vice President sitting at one end of the table. With the salad course, Trump is served what appears to be Thousand Island dressing instead of the creamy vinaigrette for his guests. When the chicken arrives, he is the only one given an extra dish of sauce. At the dessert course, he gets two scoops of vanilla ice cream with his chocolate cream pie, instead of the single scoop for everyone else. On top of his food choices, he s also been criticized for the bizarre way he eats. Pizza with a knife and fork? Weird.Apparently, once you start chowing down on fast food with a knife and fork, you don t go back. Or maybe the cutlery just makes him feel better about his KFC habit?Great afternoon in Ohio & a great evening in Pennsylvania   departing now. See you tomorrow Virginia! pic.twitter.com/jQTQYBFpdb  Donald J. Trump (@realDonaldTrump) August 2, 2016It will be interesting to see what comes out of Gingrich s book about the lifestyle of our President. Base on his current track record of bizarre habits, it should be pretty entertaining and probably gross.",
         "News",
         "June 10, 2017",
         "0"
        ],
        [
         "3270",
         " Racist Trump Supporter Is An Embarrassment To His Own Son Who Publicly Denounces Him",
         "Carl Paladino s racism against President Obama and First Lady Michelle Obama is so bad that his own son just publicly denounced him.Last week, Paladino, who served as a Trump campaign official, wrote a wish list full of hate against the Obamas. Obama catches mad cow disease after being caught having relations with a Herford,  Paladino wrote. [Obama] dies before his trial and is buried in a cow pasture next to Valerie Jarret, who died weeks prior, after being convicted of sedition and treason, when a Jihady cell mate mistook her for being a nice person and decapitated her,  he continued.Of Michelle Obama, he said:  I d like her to return to being a male and let loose in the outback of Zimbabwe where she lives comfortably in a cave with Maxie, the gorilla. The racist outburst caused much outrage , and even Paladino s own son could no longer sit silent.Ellicott Development Company CEO William Paladino released a statement condemning his father on Christmas Eve. Ellicott Development takes pride in being a culturally diverse company with over 535 hard-working dedicated employees. We value and respect our employees, friends, partners and all of our commercial and residential tenancies and we do not condone the statements made about the President of the United States and his wife. They were disrespectful and absolutely unnecessary. However, many people pointed out in the comments that Carl Paladino is still the Chairman of the Board at Ellicott and that it s not enough to condemn his remarks if he is still allowed to hold onto his position. Therefore, a boycott has been called for against Ellicott and any business, government, and bank connected to them.Carl Paladino doesn t appear to be bothered by the condemnation either, suggesting that his son is only publicly breaking with him while privately supporting him. There is no reason for the company and its 550 employees to suffer from my politic, especially with the hate spewed by the activists who are devoid of any understanding of our history, our government and our constitution,  the elder Paladino wrote in an email to the New York Post.What Carl Paladino said about the Obama family is disgusting and he should be expelled from any remaining position he has with Ellicott and a stronger condemnation needs to be released from the company. But let s all remember that Carl Paladino worked for Donald Trump s campaign, which means Trump condoned Paladino s racism. That s not surprising, of course, considering Trump pandered to white supremacists throughout his campaign and has some working in his new administration.Featured Image: Screenshot",
         "News",
         "December 26, 2016",
         "0"
        ],
        [
         "6265",
         "New York protesters camp out at Goldman Sachs to oppose Trump",
         "NEW YORK (Reuters) - Dozens of protesters gathered outside of Goldman Sachs Group Inc headquarters on Tuesday to rally against President-elect Donald Trump’s picking several former executives of the Wall Street bank for top jobs in his administration. Some of the 50 or so protesters wore swamp-monster masks in reference to Trump’s pledge to “drain the swamp” that he said Washington has become and get rid of special interests. About 20 of them brought sleeping bags, intending to camp outside 200 West Street until Trump’s inauguration on Friday. Goldman Sachs security guards sent employees and guests to entrances on the north side of the building on the rainy evening as protesters unrolled green sleeping bags on the southwest corner. In an emailed statement, Goldman Sachs spokeswoman Tiffany Galvin said the bank respects “every individual’s rights to assembly and free speech.” She declined to comment on the protesters’ objections to Trump’s nominations of ex-Goldman employees including Steve Mnuchin, Trump’s pick to lead the U.S. Treasury Department. Others include Gary Cohn, who had been chief operating officer before becoming Trump’s economic adviser, and Dina Powell, who left her position as Goldman’s head of philanthropic investing to do the same. Goldman Sachs had long been viewed as Wall Street’s most prestigious and profitable bank with so many executives leaving for high-profile government positions it earned the nickname “Government Sachs.” But in the aftermath of the 2008 financial crisis, Goldman instead found itself blamed by politicians and activists for profiting from the implosion of the mortgage market. In response, the bank embarked on a public relations campaign to clean up its image and launched initiatives to help small businesses, prisoners and female entrepreneurs. But the string of Trump appointments has renewed some of public contempt it received during the Occupy Wall Street protests in 2011. (reut.rs/pJKyQX) Nelini Stamp, 29, an organizer with a group called Working Families, said she also participated in that movement and  Trump’s appointments drove her to come back. “We’re here to make sure that people realize that Goldman Sachs is running our government,” Stamp said. Holding a sign with the image of a swamp monster biting down on a gold bar emblazoned with #GovernmentSachs and “foreclosures,” Ethan Cantor, 25, said it was his first time at a protest. The New Jersey native said Trump’s embrace of Goldman Sachs contradicted criticism the president-elect had leveled against Democratic opponent Hillary Clinton for speaking fees she received from the bank. “He used Goldman as a dig against Hillary,” said Cantor, who said he reluctantly voted for Democratic candidates in the last election. “One good thing about (Trump’s) campaign was that it was populist. Now he’s lying to his own voters.” ",
         "politicsNews",
         "January 18, 2017 ",
         "1"
        ],
        [
         "14956",
         "Kosovo at risk of attacks by returning Islamist militants: report",
         "PRISTINA (Reuters) - Kosovo s government considers the possibility of attacks by Islamic State fighters returning from Iraq and Syria one of the main threats to national security, according to a new strategy document. Around 300 Kosovars have gone to Syria and Iraq since 2012 to fight with the Islamic State group for the establishment of a caliphate ruled by Islamic law. Some 70 have been killed but many, including women and children, are still believed to be in the conflict zone, despite the group s expulsion from almost all the population centers it had held. The document,  State Strategy Against Terrorism and Action Plan 2018-2022 , was posted on a government website on Friday. It said potential threats included  attacks by members of terrorist organizations through foreign terrorist fighters, inactive cells, but also by sympathizers and supporters who may be inspired to commit violent acts . International and local security agencies have previously warned of the risk posed by returning fighters, and in 2015, Kosovo adopted a law making fighting in foreign conflicts punishable by up to 15 years in jail. The report said there had been  public calls for terrorist attacks in Kosovo and the region  and called terrorism  one of the biggest threats to national security . Kosovo s population is nominally 90 percent Muslim, but largely secular in outlook. There have been no Islamist attacks on its soil, although in June, nine Kosovar men were charged with planning attacks at a soccer match in Albania against the visiting Israeli national team and its fans the previous November. The state prosecutor said some of the men had been in contact with Lavdrim Muhaxheri, a prominent Islamic State member and the self-declared  commander of Albanians in Syria and Iraq , from whom they had received orders to attack. Muhaxheri was reported to have been killed in the Syria the same month. The government strategy, compiled by the Interior Ministry, said that a form of radical Islam had been imported to Kosovo by non-governmental organizations from the Middle East after the end of its 1998-99 war of secession from Serbia.  ",
         "worldnews",
         "November 13, 2017 ",
         "1"
        ]
       ],
       "shape": {
        "columns": 5,
        "rows": 20
       }
      },
      "text/html": [
       "<div>\n",
       "<style scoped>\n",
       "    .dataframe tbody tr th:only-of-type {\n",
       "        vertical-align: middle;\n",
       "    }\n",
       "\n",
       "    .dataframe tbody tr th {\n",
       "        vertical-align: top;\n",
       "    }\n",
       "\n",
       "    .dataframe thead th {\n",
       "        text-align: right;\n",
       "    }\n",
       "</style>\n",
       "<table border=\"1\" class=\"dataframe\">\n",
       "  <thead>\n",
       "    <tr style=\"text-align: right;\">\n",
       "      <th></th>\n",
       "      <th>title</th>\n",
       "      <th>text</th>\n",
       "      <th>subject</th>\n",
       "      <th>date</th>\n",
       "      <th>class</th>\n",
       "    </tr>\n",
       "  </thead>\n",
       "  <tbody>\n",
       "    <tr>\n",
       "      <th>19253</th>\n",
       "      <td>BOOM! TX Governor Will CUT FUNDING To County W...</td>\n",
       "      <td>Soon after newly elected Travis County Sheriff...</td>\n",
       "      <td>left-news</td>\n",
       "      <td>Jan 23, 2017</td>\n",
       "      <td>0</td>\n",
       "    </tr>\n",
       "    <tr>\n",
       "      <th>4346</th>\n",
       "      <td>Donald Trump’s ‘Charity’ Foundation Is About ...</td>\n",
       "      <td>Things really aren t looking too great for Don...</td>\n",
       "      <td>News</td>\n",
       "      <td>October 5, 2016</td>\n",
       "      <td>0</td>\n",
       "    </tr>\n",
       "    <tr>\n",
       "      <th>10566</th>\n",
       "      <td>CNN ANCHOR DON LEMON: A Republican Winning in ...</td>\n",
       "      <td>CNN anchor Don Lemon got snarky during reporti...</td>\n",
       "      <td>politics</td>\n",
       "      <td>Jun 21, 2017</td>\n",
       "      <td>0</td>\n",
       "    </tr>\n",
       "    <tr>\n",
       "      <th>17257</th>\n",
       "      <td>FEMA DENIES AID TO BALTIMORE FOR RIOT DAMAGES ...</td>\n",
       "      <td>Remember this? Mayor Rawlings-Blake says that ...</td>\n",
       "      <td>Government News</td>\n",
       "      <td>Jun 19, 2015</td>\n",
       "      <td>0</td>\n",
       "    </tr>\n",
       "    <tr>\n",
       "      <th>4277</th>\n",
       "      <td>Melania Quite Possibly Tried To Troll The Pre...</td>\n",
       "      <td>Melania Trump, standing by her man despite bei...</td>\n",
       "      <td>News</td>\n",
       "      <td>October 10, 2016</td>\n",
       "      <td>0</td>\n",
       "    </tr>\n",
       "    <tr>\n",
       "      <th>8034</th>\n",
       "      <td>President Obama Mocks Conservatives That Clai...</td>\n",
       "      <td>President Barack Obama has addressed the ridic...</td>\n",
       "      <td>News</td>\n",
       "      <td>February 17, 2016</td>\n",
       "      <td>0</td>\n",
       "    </tr>\n",
       "    <tr>\n",
       "      <th>17638</th>\n",
       "      <td>DEMOCRAT SENATOR AL FRANKEN Thought It Would B...</td>\n",
       "      <td>Democratic Senator Al Franken   who has been a...</td>\n",
       "      <td>left-news</td>\n",
       "      <td>Nov 16, 2017</td>\n",
       "      <td>0</td>\n",
       "    </tr>\n",
       "    <tr>\n",
       "      <th>10514</th>\n",
       "      <td>Republicans in tailspin, group forms to draft ...</td>\n",
       "      <td>WASHINGTON (Reuters) - With U.S. Republicans s...</td>\n",
       "      <td>politicsNews</td>\n",
       "      <td>March 4, 2016</td>\n",
       "      <td>1</td>\n",
       "    </tr>\n",
       "    <tr>\n",
       "      <th>13592</th>\n",
       "      <td>Barnier says 'still working' on Brexit terms w...</td>\n",
       "      <td>BERLIN (Reuters) - The European Union s chief ...</td>\n",
       "      <td>worldnews</td>\n",
       "      <td>November 29, 2017</td>\n",
       "      <td>1</td>\n",
       "    </tr>\n",
       "    <tr>\n",
       "      <th>9641</th>\n",
       "      <td>‘ALL HAT, NO CATTLE’: Sarah Sanders Hits Back ...</td>\n",
       "      <td>Sarah Sanders hit back at criticism that Gener...</td>\n",
       "      <td>politics</td>\n",
       "      <td>Oct 20, 2017</td>\n",
       "      <td>0</td>\n",
       "    </tr>\n",
       "    <tr>\n",
       "      <th>11545</th>\n",
       "      <td>Malaysian PM Najib says will use all means to ...</td>\n",
       "      <td>KUALA LUMPUR (Reuters) - Malaysian Prime Minis...</td>\n",
       "      <td>worldnews</td>\n",
       "      <td>December 22, 2017</td>\n",
       "      <td>1</td>\n",
       "    </tr>\n",
       "    <tr>\n",
       "      <th>11837</th>\n",
       "      <td>Russia working on defensive measures to counte...</td>\n",
       "      <td>MOSCOW (Reuters) - Russia is working on defens...</td>\n",
       "      <td>worldnews</td>\n",
       "      <td>December 20, 2017</td>\n",
       "      <td>1</td>\n",
       "    </tr>\n",
       "    <tr>\n",
       "      <th>12857</th>\n",
       "      <td>BREAKING VIDEO Of Hillary Supporter And #Black...</td>\n",
       "      <td>Hillary has been stirring up the hateful movem...</td>\n",
       "      <td>politics</td>\n",
       "      <td>Oct 2, 2016</td>\n",
       "      <td>0</td>\n",
       "    </tr>\n",
       "    <tr>\n",
       "      <th>11169</th>\n",
       "      <td>Illinois Republicans push for state takeover o...</td>\n",
       "      <td>CHICAGO (Reuters) - Illinois’ two top Republic...</td>\n",
       "      <td>politicsNews</td>\n",
       "      <td>January 20, 2016</td>\n",
       "      <td>1</td>\n",
       "    </tr>\n",
       "    <tr>\n",
       "      <th>11932</th>\n",
       "      <td>Philippine military removes navy chief, but wo...</td>\n",
       "      <td>MANILA (Reuters) - The Philippines relieved it...</td>\n",
       "      <td>worldnews</td>\n",
       "      <td>December 19, 2017</td>\n",
       "      <td>1</td>\n",
       "    </tr>\n",
       "    <tr>\n",
       "      <th>13804</th>\n",
       "      <td>Queensland result leaves Australian PM closer ...</td>\n",
       "      <td>SYDNEY (Reuters) - The loss of a state electio...</td>\n",
       "      <td>worldnews</td>\n",
       "      <td>November 27, 2017</td>\n",
       "      <td>1</td>\n",
       "    </tr>\n",
       "    <tr>\n",
       "      <th>1192</th>\n",
       "      <td>Newt Gingrich’s New Tell-All Book Reveals Tru...</td>\n",
       "      <td>The eating habits of President Trump have been...</td>\n",
       "      <td>News</td>\n",
       "      <td>June 10, 2017</td>\n",
       "      <td>0</td>\n",
       "    </tr>\n",
       "    <tr>\n",
       "      <th>3270</th>\n",
       "      <td>Racist Trump Supporter Is An Embarrassment To...</td>\n",
       "      <td>Carl Paladino s racism against President Obama...</td>\n",
       "      <td>News</td>\n",
       "      <td>December 26, 2016</td>\n",
       "      <td>0</td>\n",
       "    </tr>\n",
       "    <tr>\n",
       "      <th>6265</th>\n",
       "      <td>New York protesters camp out at Goldman Sachs ...</td>\n",
       "      <td>NEW YORK (Reuters) - Dozens of protesters gath...</td>\n",
       "      <td>politicsNews</td>\n",
       "      <td>January 18, 2017</td>\n",
       "      <td>1</td>\n",
       "    </tr>\n",
       "    <tr>\n",
       "      <th>14956</th>\n",
       "      <td>Kosovo at risk of attacks by returning Islamis...</td>\n",
       "      <td>PRISTINA (Reuters) - Kosovo s government consi...</td>\n",
       "      <td>worldnews</td>\n",
       "      <td>November 13, 2017</td>\n",
       "      <td>1</td>\n",
       "    </tr>\n",
       "  </tbody>\n",
       "</table>\n",
       "</div>"
      ],
      "text/plain": [
       "                                                   title  \\\n",
       "19253  BOOM! TX Governor Will CUT FUNDING To County W...   \n",
       "4346    Donald Trump’s ‘Charity’ Foundation Is About ...   \n",
       "10566  CNN ANCHOR DON LEMON: A Republican Winning in ...   \n",
       "17257  FEMA DENIES AID TO BALTIMORE FOR RIOT DAMAGES ...   \n",
       "4277    Melania Quite Possibly Tried To Troll The Pre...   \n",
       "8034    President Obama Mocks Conservatives That Clai...   \n",
       "17638  DEMOCRAT SENATOR AL FRANKEN Thought It Would B...   \n",
       "10514  Republicans in tailspin, group forms to draft ...   \n",
       "13592  Barnier says 'still working' on Brexit terms w...   \n",
       "9641   ‘ALL HAT, NO CATTLE’: Sarah Sanders Hits Back ...   \n",
       "11545  Malaysian PM Najib says will use all means to ...   \n",
       "11837  Russia working on defensive measures to counte...   \n",
       "12857  BREAKING VIDEO Of Hillary Supporter And #Black...   \n",
       "11169  Illinois Republicans push for state takeover o...   \n",
       "11932  Philippine military removes navy chief, but wo...   \n",
       "13804  Queensland result leaves Australian PM closer ...   \n",
       "1192    Newt Gingrich’s New Tell-All Book Reveals Tru...   \n",
       "3270    Racist Trump Supporter Is An Embarrassment To...   \n",
       "6265   New York protesters camp out at Goldman Sachs ...   \n",
       "14956  Kosovo at risk of attacks by returning Islamis...   \n",
       "\n",
       "                                                    text          subject  \\\n",
       "19253  Soon after newly elected Travis County Sheriff...        left-news   \n",
       "4346   Things really aren t looking too great for Don...             News   \n",
       "10566  CNN anchor Don Lemon got snarky during reporti...         politics   \n",
       "17257  Remember this? Mayor Rawlings-Blake says that ...  Government News   \n",
       "4277   Melania Trump, standing by her man despite bei...             News   \n",
       "8034   President Barack Obama has addressed the ridic...             News   \n",
       "17638  Democratic Senator Al Franken   who has been a...        left-news   \n",
       "10514  WASHINGTON (Reuters) - With U.S. Republicans s...     politicsNews   \n",
       "13592  BERLIN (Reuters) - The European Union s chief ...        worldnews   \n",
       "9641   Sarah Sanders hit back at criticism that Gener...         politics   \n",
       "11545  KUALA LUMPUR (Reuters) - Malaysian Prime Minis...        worldnews   \n",
       "11837  MOSCOW (Reuters) - Russia is working on defens...        worldnews   \n",
       "12857  Hillary has been stirring up the hateful movem...         politics   \n",
       "11169  CHICAGO (Reuters) - Illinois’ two top Republic...     politicsNews   \n",
       "11932  MANILA (Reuters) - The Philippines relieved it...        worldnews   \n",
       "13804  SYDNEY (Reuters) - The loss of a state electio...        worldnews   \n",
       "1192   The eating habits of President Trump have been...             News   \n",
       "3270   Carl Paladino s racism against President Obama...             News   \n",
       "6265   NEW YORK (Reuters) - Dozens of protesters gath...     politicsNews   \n",
       "14956  PRISTINA (Reuters) - Kosovo s government consi...        worldnews   \n",
       "\n",
       "                     date  class  \n",
       "19253        Jan 23, 2017      0  \n",
       "4346      October 5, 2016      0  \n",
       "10566        Jun 21, 2017      0  \n",
       "17257        Jun 19, 2015      0  \n",
       "4277     October 10, 2016      0  \n",
       "8034    February 17, 2016      0  \n",
       "17638        Nov 16, 2017      0  \n",
       "10514      March 4, 2016       1  \n",
       "13592  November 29, 2017       1  \n",
       "9641         Oct 20, 2017      0  \n",
       "11545  December 22, 2017       1  \n",
       "11837  December 20, 2017       1  \n",
       "12857         Oct 2, 2016      0  \n",
       "11169   January 20, 2016       1  \n",
       "11932  December 19, 2017       1  \n",
       "13804  November 27, 2017       1  \n",
       "1192        June 10, 2017      0  \n",
       "3270    December 26, 2016      0  \n",
       "6265    January 18, 2017       1  \n",
       "14956  November 13, 2017       1  "
      ]
     },
     "execution_count": 7,
     "metadata": {},
     "output_type": "execute_result"
    }
   ],
   "source": [
    "data.sample(20)"
   ]
  },
  {
   "cell_type": "code",
   "execution_count": 8,
   "id": "eac13504",
   "metadata": {},
   "outputs": [],
   "source": [
    "data = data.drop([\"title\",\"subject\",\"date\"], axis = 1)"
   ]
  },
  {
   "cell_type": "code",
   "execution_count": 9,
   "id": "21ff47ba",
   "metadata": {},
   "outputs": [],
   "source": [
    "data.reset_index(inplace=True)"
   ]
  },
  {
   "cell_type": "code",
   "execution_count": 10,
   "id": "d2ed2c20",
   "metadata": {},
   "outputs": [],
   "source": [
    "data.drop(['index'],axis=1,inplace=True)"
   ]
  },
  {
   "cell_type": "code",
   "execution_count": 11,
   "id": "ce84a6fc",
   "metadata": {},
   "outputs": [
    {
     "data": {
      "text/plain": [
       "<bound method NDFrame.sample of                                                     text  class\n",
       "0      Donald Trump just couldn t wish all Americans ...      0\n",
       "1      House Intelligence Committee Chairman Devin Nu...      0\n",
       "2      On Friday, it was revealed that former Milwauk...      0\n",
       "3      On Christmas day, Donald Trump announced that ...      0\n",
       "4      Pope Francis used his annual Christmas Day mes...      0\n",
       "...                                                  ...    ...\n",
       "44893  BRUSSELS (Reuters) - NATO allies on Tuesday we...      1\n",
       "44894  LONDON (Reuters) - LexisNexis, a provider of l...      1\n",
       "44895  MINSK (Reuters) - In the shadow of disused Sov...      1\n",
       "44896  MOSCOW (Reuters) - Vatican Secretary of State ...      1\n",
       "44897  JAKARTA (Reuters) - Indonesia will buy 11 Sukh...      1\n",
       "\n",
       "[44898 rows x 2 columns]>"
      ]
     },
     "execution_count": 11,
     "metadata": {},
     "output_type": "execute_result"
    }
   ],
   "source": [
    "data.sample\n"
   ]
  },
  {
   "cell_type": "code",
   "execution_count": 12,
   "id": "8651ae41",
   "metadata": {},
   "outputs": [
    {
     "data": {
      "application/vnd.microsoft.datawrangler.viewer.v0+json": {
       "columns": [
        {
         "name": "index",
         "rawType": "int64",
         "type": "integer"
        },
        {
         "name": "text",
         "rawType": "object",
         "type": "string"
        },
        {
         "name": "class",
         "rawType": "int64",
         "type": "integer"
        }
       ],
       "ref": "757b9b5c-a11d-44dd-b7e0-f4ed89df29c5",
       "rows": [
        [
         "21912",
         "The Michael Brown and Eric Garner cases have opened up so many doors for opportunists looking for their 15 seconds of fame  As an added bonus, we ve included Tony Soto s original  gotcha  video below. A video of a traffic stop by 15th district officers in Philadelphia has gone viral with more than 1 million views. The man in the video says officers abused their power but police are painting a very different picture.28-year-old Tony Soto recorded the traffic stop on his cellphone. I am not anti-police, I support the police. I just don t support police abusing their powers,  Soto told Action News.In the video, Soto showed his license, but refused to show his registration.Police are concerned about Soto s motives and criminal past. We are going to tell our officers to be cautious. It raises your level of suspicion when you have a person   a prior felony   and has had some prior interaction with the law and has been known to interact with guns. So we are going to tell our officers to be careful,  said Lt. John Sanford, Philadelphia Police.Soto sat down with Action News to discuss the controversial video. This traffic stop, just brought to light an ongoing issue that is continually denied all over our nation with individuals being stopped and in some cases being racially profiled,  said Soto.Soto says the officers who stopped him were not African-American but police say differently. They were African American officers,  said Lt. Stanford.The original reason for the stop was for tinted windows.Soto flashed a paper at the officer saying he had a medical exemption from PennDOT for sun screening on his car, but he didn t bring that letter to our meeting. If you were provided that certificate from PennDOT, it has to be colorless tint,  said Lt. Stanford.We asked Soto if his windows were dark tinted. Okay in your opinion or anyone else s opinion from watching the video tape   that s their opinion. No one knows what tint is on my vehicle, whether it s colored or colorless, although it may look dark,  said Soto.And then there s this   in the video, Soto held up a card and badge identifying himself to the officer as a fire marshal.We asked him if he s a fire marshal. The tape speaks for itself and, at this point, okay let s not take the focus as to who I am or what I do or what is going on and let s keep the focus on what is really going on. It is not about Tony Soto,  said Soto.So who is Soto?He s a felon, sentenced to 33 months in federal prison for straw purchasing firearms.He has multiple convictions for theft, fleeing from police, and was convicted of impersonating a public servant in 2005 and now claims he is a volunteer firefighter.We asked Soto where he works. Well we are going to   you are going to stop that right there alright   we are going to stop that and we are not going to go into that,  said Soto.Police are also cautioning the public not to use Soto s video as an example of what to do during a traffic stop.While it is legal to record video, the Pennsylvania vehicle code requires drivers to turn over their identification and registration.In addition, the Fraternal Order of Police is now asking authorities to pursue charges against Soto for allegedly impersonating a public servant. Via: 6ABC NewsHERE IS SOTO s ORIGINAL VIDEO:",
         "0"
        ],
        [
         "19213",
         "Barack Obama has to be the world s biggest hypocrite. Here he is in 2005 adamantly defending our borders: We simply cannot allow for people to pour in, undocumented and unchecked. @PressSec   Obama 2005: \"We simply cannot allow for people to pour in, undocumented, unchecked\". OUCH! pic.twitter.com/1ibXXaNeeU  Leahann   (@Leaha_Luv) February 1, 2017Isn t it funny that only 9 years later, we all watched our PRESIDENT OF THE UNITED STATES tell an illegal alien on TV that it s okay for illegal aliens to vote in the upcoming election. So in 2005, it was against the law to enter our country illegally, but in 2016 they should not only flood into our country and overwhelm our nation, but they should also vote. But yeah Trump is a  racist  for trying to clean up the mess Obama started.",
         "0"
        ],
        [
         "27910",
         "WASHINGTON (Reuters) - In a last-ditch effort, five U.S. Senate Democrats are urging President Donald Trump to veto a resolution that would repeal a Labor Department rule designed to help cities launch retirement savings plans for low-income private-sector workers by exempting such programs from strict federal pension protection laws. In an April 5 letter that Reuters saw on Thursday, the lawmakers told Trump, a Republican, that killing the rule could harm more than 2 million Americans who would otherwise benefit from city-run retirement plans. “We ask you to work with us to increase access to retirement savings programs and promote greater retirement security,” they wrote. The senators signing the letter are Patty Murray of Washington and Ron Wyden of Oregon, the top Democrats on committees overseeing pensions and tax matters; Maria Cantwell of Washington; Kirsten Gillibrand of New York; and Robert Casey of Pennsylvania. The resolution on city-run retirement plans is one of 13 measures that Congress has passed to repeal rules enacted under previous president Barack Obama, a Democrat. An obscure law called the Congressional Review Act gives Congress a tool to repeal regulations that it finds objectionable. All that is required is a simple majority vote in both chambers and the president’s signature. The law is limited, however, in how it can be used. Only rules that were finalized within 60 legislative days are eligible for repeal. Trump has signed 11 of the 13 resolutions so far.  The White House Office of Management and Budget has advised Trump to sign the city-run retirement plan measure, and a White House official said on Wednesday that the president would sign more resolutions this month.  The Labor Department adopted two rules at the end of Obama’s tenure that exempted both city and state-run retirement plans from the Employee Retirement Income Security Act, or ERISA, a law designed to protect workers’ savings. The plans are geared toward private-sector workers whose employers do not offer 401(k) or other retirement benefits, and would let them enroll automatically in plans like those being introduced in places like California. Cities and states say they need the exemption for the plans to work effectively, but trade groups like the Chamber of Commerce and Investment Company Institute want it repealed amid concerns that workers would not have adequate pension protections. The resolution to repeal the city-run retirement plan rule narrowly passed the Senate in a 50-49 vote.  The Senate is expected to take up a separate resolution to repeal the rule on state-run retirement plans after the Easter recess. ",
         "1"
        ],
        [
         "2587",
         "Yesterday, White House counselor Kellyanne Conway sparked national outcry when she used a Fox & Friends interview as a pathetic commercial for Trump s daughter Ivanka, after Nordstrom became the latest retailer to drop Ivanka s brand from its stores. It was not only an incredibly awkward interview to watch as Conway shamelessly told viewers to buy Ivanka s products, but it was also highly unethical, causing Conway to get blasted for violating ethical guidelines.Earlier today, CNN reported that Conway had to apologize to Trump for the controversy, as federal employees are not supposed to endorse products or promote the goods of friends or family (even though Trump seems to do this quite often). White House press secretary Sean Spicer was even forced to respond to the backlash, stating that Conway had been  counseled  for her behavior.Now that Conway has apologized to Trump, she s apparently back in his graces and can continue spewing her alternative facts (aka blatant lies). Conway tweeted that Trump still supports her and her shameless lack of ethics:But not all is well just yet. According to CNN, Trump is not happy with Spicer s comments about having  counseled  Conway on the matter. Apparently, Trump said he  hated  what Spicer said.This is just the latest in the breakdown of Trump s chaotic, volatile team. Every day, there is a new f**k up or controversy to react to as Trump s team proves to be the most incompetent, dishonest, disorganized and troubled team we ve ever seen operate the White House. There have already been rumors that Trump is looking to replace Spicer and Conway continues to be shunned by the media over her pathological lies, which won t work in Trump s favor. It seems like Trump s biggest supporters, Conway and Spicer, are now doing more harm than good and things are definitely imploding faster than they can handle.Featured image via Alex Wong and Chip Somodevilla / Getty Images",
         "0"
        ],
        [
         "14149",
         "Where s The Muppet Dressed As A Nun?Oh wait that would probably be offensive to non-Christians Sesame Street unveiled a fresh face Thursday: a hijab-wearing Afghani Muppet named Zari who will teach kids about  girl empowerment, social and emotional wellbeing. Zari will first appear in season five of Baghch-e-Simsim, which is the Afghan version of Sesame Street.The popular children show s Twitter account was abuzz with Zari content Thursday.Introducing Zari! Our new friend in Afghanistan, joining #BaghcheSimSim for #Season5! She's a very special girl! pic.twitter.com/ggI0qpPR78  Sesame Workshop (@SesameWorkshop) April 7, 2016Via: Breitbart News",
         "0"
        ]
       ],
       "shape": {
        "columns": 2,
        "rows": 5
       }
      },
      "text/html": [
       "<div>\n",
       "<style scoped>\n",
       "    .dataframe tbody tr th:only-of-type {\n",
       "        vertical-align: middle;\n",
       "    }\n",
       "\n",
       "    .dataframe tbody tr th {\n",
       "        vertical-align: top;\n",
       "    }\n",
       "\n",
       "    .dataframe thead th {\n",
       "        text-align: right;\n",
       "    }\n",
       "</style>\n",
       "<table border=\"1\" class=\"dataframe\">\n",
       "  <thead>\n",
       "    <tr style=\"text-align: right;\">\n",
       "      <th></th>\n",
       "      <th>text</th>\n",
       "      <th>class</th>\n",
       "    </tr>\n",
       "  </thead>\n",
       "  <tbody>\n",
       "    <tr>\n",
       "      <th>21912</th>\n",
       "      <td>The Michael Brown and Eric Garner cases have o...</td>\n",
       "      <td>0</td>\n",
       "    </tr>\n",
       "    <tr>\n",
       "      <th>19213</th>\n",
       "      <td>Barack Obama has to be the world s biggest hyp...</td>\n",
       "      <td>0</td>\n",
       "    </tr>\n",
       "    <tr>\n",
       "      <th>27910</th>\n",
       "      <td>WASHINGTON (Reuters) - In a last-ditch effort,...</td>\n",
       "      <td>1</td>\n",
       "    </tr>\n",
       "    <tr>\n",
       "      <th>2587</th>\n",
       "      <td>Yesterday, White House counselor Kellyanne Con...</td>\n",
       "      <td>0</td>\n",
       "    </tr>\n",
       "    <tr>\n",
       "      <th>14149</th>\n",
       "      <td>Where s The Muppet Dressed As A Nun?Oh wait th...</td>\n",
       "      <td>0</td>\n",
       "    </tr>\n",
       "  </tbody>\n",
       "</table>\n",
       "</div>"
      ],
      "text/plain": [
       "                                                    text  class\n",
       "21912  The Michael Brown and Eric Garner cases have o...      0\n",
       "19213  Barack Obama has to be the world s biggest hyp...      0\n",
       "27910  WASHINGTON (Reuters) - In a last-ditch effort,...      1\n",
       "2587   Yesterday, White House counselor Kellyanne Con...      0\n",
       "14149  Where s The Muppet Dressed As A Nun?Oh wait th...      0"
      ]
     },
     "execution_count": 12,
     "metadata": {},
     "output_type": "execute_result"
    }
   ],
   "source": [
    "data.sample(5)"
   ]
  },
  {
   "cell_type": "code",
   "execution_count": 13,
   "id": "86bb9a34",
   "metadata": {},
   "outputs": [],
   "source": [
    "def clean_text(text):\n",
    "    text = text.lower()\n",
    "    text = re.sub(r'\\[*?.\\]', '', text)\n",
    "    text = re.sub(r'https?://\\S+|www\\.\\S+', '', text)\n",
    "    text = re.sub(r'\\s+', ' ', text)\n",
    "    text = re.sub(r'[%s]' % re.escape(string.punctuation), '', text)\n",
    "    text = re.sub(r'\\n', '', text)\n",
    "    text = re.sub(r'\\w*\\d\\w*', '', text)\n",
    "    return text\n"
   ]
  },
  {
   "cell_type": "code",
   "execution_count": 14,
   "id": "1bee18b8",
   "metadata": {},
   "outputs": [],
   "source": [
    "data['text'] = data['text'].apply(clean_text)"
   ]
  },
  {
   "cell_type": "code",
   "execution_count": 15,
   "id": "9d8ef605",
   "metadata": {},
   "outputs": [
    {
     "data": {
      "application/vnd.microsoft.datawrangler.viewer.v0+json": {
       "columns": [
        {
         "name": "index",
         "rawType": "int64",
         "type": "integer"
        },
        {
         "name": "text",
         "rawType": "object",
         "type": "string"
        },
        {
         "name": "class",
         "rawType": "int64",
         "type": "integer"
        }
       ],
       "ref": "7d75401d-e024-49b1-b111-d743612c5876",
       "rows": [
        [
         "43546",
         "kirkuk iraq reuters  the governor of iraq s oilrich kirkuk province condemned a vote by iraq s parliament on thursday to remove him from office as unlawful and vowed to stay in power the decision to remove najmaddin kareem came after kirkuk  claimed by both the central government in baghdad and the autonomous kurdish region in northern iraq  voted to take part in a referendum set for sept  on kurdish independence i will stay in office kareem told reuters hours after the parliamentary vote the referendum will go ahead as planned ",
         "1"
        ],
        [
         "36773",
         "aboard a us military aircraft reuters  us defense secretary jim mattis said on friday that as offensive operations against islamic state in syria entered their final stages he expected the focus to move towards holding territory instead of arming syrian kurdish fighters speaking with reporters on a military plane en route to cairo mattis did not say if there had already been a halt to weapons transfers us president donald trump informed turkish president tayyip erdogan in a call last week that washington was adjusting military support to partners on the ground in syria the syrian kurdish ypg spearheads the syrian democratic forces sdf an alliance of kurdish and arab militias fighting islamic state with the help of a usled coalition turkey s presidency had previously reported that the united states would not supply weapons to kurdish ypg fighters in syria until now the pentagon has only gone as far as saying it was reviewing adjustments in arms for the syrian kurdish forces which ankara views as a threat the ypg is armed and as the coalition stops offensive operations then obviously you don t need that you need security you need police forces that is local forces that is people who make certain that isis doesn t come back mattis said when asked if that would specifically mean the us would stop arming the ypg mattis said yeah we are going to go exactly along the lines of what the president announced ankara has been infuriated by washington s support for the ypg militia seen by turkey as an extension of the outlawed kurdistan workers party pkk which has fought a decadeslong insurgency in turkey and is designated a terrorist group by ankara the united states and european union the united states expects to recover heavy weapons and larger vehicles from the ypg but lighter weapons are unlikely to be completely recovered us officials have said earlier this week the usled coalition fighting islamic state said more than  us marines and their artillery would be leaving syria after helping to capture the city of raqqa from islamic state mattis said that was part of the united states changing the composition of its forces to support diplomats to bring an end to the war the troops are changing their stancethat includes with our allies who are now changing their stance as they come to the limits of where they are going mattis said ",
         "1"
        ],
        [
         "10048",
         "you just can t make this stuff up the leftist rag daily kos actually wrote a story about how president trump will disproportionately harm blacks after hurricane harvey attacks them in texashere is the actual tweet pushing their insane story about a racist hurricane harveyhurricane harvey poised to disproportionately impact blacks in texas but no one is talking about it daily kos dailykos august   s an excerpt from the articleas texas braces itself for hurricane harvey the trump administration remains woefully ignorant and unprepared the current fema director is working to rewrite the federal flood insurance program so that the federal government bears less of the cost when disasters strike and flooding occurs on the surface that might sound like a fiscally responsible move but it s loaded with inconsistencies and will most certainly not work out well for local cities states or residents additionally since trump seems to be firing people weekly but taking his sweet time in hiring them no one has been appointed to lead both the national oceanic and atmospheric association noaa and the department of homeland security dhs dhs oversees fema and the coast guard so it s almost guaranteed that the response to this storm will be chaos this is shaping up to be another hurricane katrina complete with a devastating impact on black and brown communitiessoutheast texas and the coastal bend regions of the state are expected to be the hardest hit while hispanics make up about  percent of the state s population texas has one of the largest black populations in the country and they live concentrated in the areas that are predicted to be hardest hit for example several counties have already been declared a state of disaster by republican gov greg abbottnoteworthy also is the high percentage of people in poverty in texa who are african american women especially single parents of the  of african americans below poverty level single mothers make up  daily kos",
         "0"
        ],
        [
         "38880",
         "barcelona reuters  a strike called across catalonia by proindependence activists to protest the jailing of sacked regional politicians shut down roads early on wednesday causing huge tailbacks into barcelona while some public transport ran minimum servicescatalan proindependence union csc called the strike which was supported by civic groups asamblea nacional catalana anc and omnium cultural whose leaders were imprisoned last month on sedition charges scores of people stood across dozens of major highways in the region waving placards and chanting freedom for political prisoners while minor scuffles were reported on social media as police attempted to move protesters tv and video images showed one crowd of activists also forced their way into the train station in the city of girona and protested on the tracks causing delays images on social media showed however despite transport delays shops and businesses in the region largely appeared to be functioning as normal the leaders the anc and omnium and eight former members of the catalan government are in prison awaiting trial after staging a referendum on secession that spanish courts deemed illegal and then declaring independence the independence drive has tipped spain in to its worst political crisis in decades widening political and cultural divisions and prompting thousands of companies to relocate out of the region the government which assumed control of catalonia after a unilateral independence declaration has called an election for dec  ",
         "1"
        ],
        [
         "9154",
         "who knew he had it in him senate majority leader mitch mcconnell r ky pushed back against a reporter who asked a question critical of the republican tax reform bill early wednesday morning by pointing out it was the reporter s job to use democratic talking points mcconnell held a press conference shortly after the senate passed the  trillion package of tax cuts and tax code revisions in the chamber s  vote the vote was at about  am after much debate on the floor of the senate the democrats are throwing everything but the kitchen sink at the republicans they are putting politics before what s best for america progrowth is the way to go magaa montage of hysteria from the left over the tax bill after the house vote but before the senate voted on it check out the woman who breaks into the live feed to call the bill a scam wow what do you say to sen schumer when he says that you guys are going to rue the day that you pass this bill that the politics of passing longterm corporate tax cuts with shortterm individual cuts is going to catch up to you guys a reporter askedmcconnell cleared his throat and told the reporter he understood his job to use the democratic talking points before explaining why he believes the tax reform bill is good for americans",
         "0"
        ],
        [
         "40713",
         "strasbourg france reuters  europe s top human rights court ruled on tuesday that russian opposition leader alexei navalny s conviction for fraud in  had been arbitrary and manifestly unreasonable and ordered russia to pay him compensation we have won thanks everyone for support tweeted navalny a campaigner against corruption among russia s elite who hopes to run against vladimir putin in a march election putin is widely expected to seek and win a fourth term as president russian authorities have three months to decide whether to appeal against the ruling by the european court of human rights echr the tass news agency cited russia s deputy justice minister and echr representative mikhail galperin as saying we proved that this case was a fabricated one and that this ugly buffoonery in the court room in  had nothing to do with a fair legal proceeding navalny wrote on his website after the court announced its ruling a suspended jail sentence in a separate case which navalny says was politically motivated may still bar him from running for president the strasbourgbased echr said navalny and his brother oleg s convictions for fraud and money laundering were based on an unforeseeable application of criminal law and that the proceedings were arbitrary and unfair i am glad that justice was done navalny wrote he said the case against him had been staged to thwart his anticorruption and political activities through the pressure put on him and his family when thieves and swindlers in power declare that i cannot run for president because of the law  the sentence  because i am a criminal and recidivist  we can show them with confidence what they will never have a decision by a true fair court he wrote it is clearly written there that the law and the right are on our side it s them who are criminals not me navalny and his brother were convicted in december  of money laundering and defrauding their business partners navalny was given a suspended sentence of  years and his brother a prison sentence of the same length the navalnys lodged a complaint with the echr in january  the echr ruled that russia must pay navalny and his brother  euros  each for nonpecuniary damage plus costs and expenses of  euros for alexei and  euros and  roubles  for oleg in another case which navalny says was a kremlin attempt to prevent him standing for election a russian court in february found him guilty of embezzlement in relation to a timber firm called kirovles and gave him a fiveyear suspended sentence it was the second time the case had been heard after the echr said navalny s right to a fair hearing had been violated and ordered a retrial ",
         "1"
        ],
        [
         "44631",
         "mexico city reuters  at least three people died after torrential rain from tropical storm lidia provoked major flooding around mexico s popular los cabos beach resort on friday authorities said featuring maximum sustained winds of  miles per hour  kph the storm was projected to move north over a large swath of mexico s baja california peninsula before turning west toward the pacific on sunday local television footage showed abandoned cars and trucks in washedout roads as well as destroyed beachfront structures lidia about  miles  km northnortheast of cabo san lazaro was moving at a speed of  miles per hour  kmh as it skirted the western coast of the peninsula according to an advisory from the miamibased national hurricane center nhc luis felipe puente the head of national emergency services told reuters that the storm claimed a child and two adults who were trying to cross a raging river lidia also provoked power outages damaged houses and roads as well as forcing some  people into local shelters while the storm is forecast to further weaken over the next couple of days it is expected to dump between  to  inches  cm of rain across the peninsula as well as parts of sinaloa and sonora states these rains may cause lifethreatening flash floods and mudslides the nhc said in its advisory ",
         "1"
        ],
        [
         "660",
         "donald trump doesn t just flip flop on his campaign promises and policies he also walks back his own insults whenever it s convenient for him to do soon saturday trump completely embarrassed himself by praising attorney general jeff sessions the man he had just spent the last two weeks mercilessly trashing after sessions announced that the justice department would be doubling down on leakers trump tweeted this after many years of leaks going on in washington it is great to see the ag taking action for national security the tougher the better that s right trump is seriously acting like he hasn t been attacking sessions for weeks because the ag decided to recuse himself from trump s russia investigation most notably trump stated that if he d known sessions was going to recuse himself he wouldn t have hired him as attorney general in the first place things were getting so heated that there were even rumors that trump might fire sessions now trump is trying to kiss up to sessions in a pathetic attempt to get the ag on his sidetrump is not a man of integrity he will literally do anything to get ahead and advance himself he won t even stand by his own word we ve seen this time and time again as trump walks back his previous comments proving that he is extremely unstable and nothing he says can be trusted he will lie about anything to get people on his side or protect himself from having to answer to his faults it is up to americans not to forget trump s prior transgressions and hold him accountable whenever he tries to disguise himself as a somewhat decent human being hopefully sessions doesn t forget what trump did to him either because trump is one person who doesn t deserve to brownnose his way out of thisfeatured image via tom pennington and win mcnamee  getty images",
         "0"
        ],
        [
         "32265",
         "reuters  the new black panther party a “black power” movement will carry firearms for selfdefense during rallies in cleveland ahead of next week’s republican convention if allowed under ohio law the group’s chairman said the plan by the group this weekend comes as police in cleveland brace for an influx of groups that plan demonstrations before and during the presidential nominating convention during the attack last week in dallas that killed five police officers law enforcement officials said demonstrators carrying rifles led them to initially believe they were under attack by multiple shooters several other groups including some supporters of presumptive republican presidential nominee donald trump have said they will carry weapons in cleveland “if it is an open state to carry we will exercise our second amendment rights because there are other groups threatening to be there that are threatening to do harm to us” hashim nzinga chairman of the new black panther party told reuters in a telephone interview “if that state allows us to bear arms the panthers and the others who can legally bear arms will bear arms” nzinga said he condemned the dallas shootings officials in ohio have said it will be legal for protesters to carry weapons at demonstrations outside the convention under that state’s “open carry” law which allows civilians to carry guns in public “black power” groups promote defense against racial oppression with some advocating for the establishment of armed selfdefense groups black social institutions and a selfsufficient economy the new black panther party has long called for a separate black nation but nzinga said the movement was now focused on protecting black americans’ rights academics say the new black panther party remains marginal and largely representative of an older generation in their  and  rather than younger activists drawn to groups such as the antiracism black lives matter movement the new black panther party was founded in  and adopted a more radical approach than the  black panther party members of the original group have denounced the new black panther party as racist but nzinga says his movement includes original black panthers the southern poverty law center a hate group watchdog describes the new black panther party as “a virulently racist and antisemitic organization whose leaders have encouraged violence against whites jews and law enforcement officers” the center tracks years of public statements by the new black panther party and other groups nzinga denied the group was racist but said it was a fact that jews control hollywood and the us media the center said the group is not known to have carried out any violent attacks the black shooter in the dallas killings “liked” the new black panthers and other black nationalist groups on facebook but was not a member nzinga said he expected “a couple hundred” members of the new black panther party to participate in and protect a black unity rally — the “national convention of the oppressed” — that is scheduled to begin in cleveland on thursday evening and end on monday morning nzinga said he and the panthers plan to leave cleveland on sunday the day before the convention officially opens “we are there to protect  we are not trying to do anything else” he said “we are going to carry out some of these great legal rights we have — to assemble to protest and to exercise freedom of speech” nzinga says his group has grown amid racial tensions in the wake of a series of highprofile police killings of black men in the past two years the southern poverty law center says the number of black militant chapters around the country grew from  in  to  in  the center says there are  hate groups total nationwide it says white hate groups such as the aryan brotherhood have a much longer track record of carrying out violent attacks than black nationalist groups nzinga said his group has  chapters nationwide but declined to reveal membership numbers “i have people literally calling me saying this is the first time in my life i protested and i loved it” nzinga told reuters “they want to be a part of something they tried to be a part of the system and the system let them down so they want to be part of a rebellion” ",
         "1"
        ],
        [
         "16531",
         "next stop after brexit is the us judge jeanine nails it and says we need to know the facts to fight this elitist agenda we re tired of being lectured to by the fat cats in washington  ",
         "0"
        ],
        [
         "21102",
         "so far the supreme court has not prevented one single unconstitutional act committed by obama is there any reason to believe they will stop the invasion of illegals to save america and the american workerthe supreme court agreed tuesday to review president obama s plan to shield up to  million illegal immigrants from deportation after lower courts blocked the president s sweeping executive actions from taking effectthe decision sets up an electionyear clash over the controversial plan that many republicans have likened to amnesty the justices said tuesday they will consider undoing lower court rulings that blocked the plan from taking effect the obama administration had appealed to the supreme court last fallthe decision to review the case may be welcome on both sides of the aisle republican sen orrin hatch of utah issued a statement praising the court for taking it on and urging the justices to rule against the administration president obama s executive action is an affront to our system of republican selfgovernment hatch said the constitution vests legislative authority in congress not the president with his actions president obama has attempted to bypass the constitutionally ordained legislative process and rewrite the law unilaterally the case probably will be argued in april and decided by late june about a month before both parties presidential nominating conventions the issue of illegal immigration has taken a centerstage role in the republican primary battle as donald trump calls for a wall between the us and mexico and candidates spar over who is toughest on the issuethe immigrants who would benefit from the obama administration s plan are mainly the parents of us citizens and lawful permanent residentsbut more than twodozen mostly republicanled states challenged obama s executive actions after they were rolled out in  and the plan has been tied up in litigation ever sincecritics say the plan is unconstitutional shortly before the administration took the case to the supreme court the  us circuit court of appeals ruled in favor of the states in early novembersolicitor general donald verrilli jr later said in a court filing that allowing those rulings to stand would force millions of people to continue to work off the books without the option of lawful employment to provide for their families at issue is the deferred action for parents of americans program which obama said would allow people who have been in the united states more than five years and who have children who are in the country legally to come out of the shadows and get right with the law via fox news ",
         "0"
        ],
        [
         "11430",
         " farmers and ranchers are being run off their own property by armed terrorists in texas nearly  farms and ranches back up to the mexican borderthe men and women who live and work on those properties say they re under attack from the same drug cartels blamed for thousands of murders in mexico it s a war make no mistake about it texas agriculture commissioner todd staples said and it s happening on american soil texas farmers and ranchers produce more cotton and more cattle than any other state so staples is concerned this war could eventually impact our food supply and calls it a threat to our national security farmers and ranchers are being run off their own property by armed terrorists showing up and telling them they have to leave their land staples saidmemo to the resistance farm owners are being ran off their own property by armed mexican gangsterrorists  buildthatwall americafirst  oaktown unfiltered hrtablaze march   raise awareness commissioner staples launched the website protectyourtexasbordercom it s a place where frustrated and scared farmers can share their stories fox news many texas ranchers have had the benefit of the badass volunteer group texas border volunteers a group of men and women who help keep our borders secure as they aid our us border agents to track down and apprehend aliens who illegally cross our borders for more than  years dr vickers and his wife linda have owned the  oak ranch he said people crossing into the country illegally create crawl holes underneath his electrified fence and use paths on his property to walk toward their destination read more krgvhe said the traffic has been heavy at times sometimes he s seen hundreds a day we re very vigilant and we realize that a lot of the people coming through are gang members criminals and with that we ve got dogs to alert us here on the ranch my wife in particular depends on the dogs especially when i m not here he saidvickers said he s seen a number of those who didn t make it all the way we ve had dead bodies show up from time to time it s pretty disturbing but it s something we ve learned to live with he saidvickers regularly patrols his own ranch for illegal activity when he sees it he reports it to border patrol the thought of possibly not have to do that anymore makes him feel at easefox news one texas farmer who asked not to be identified said it s common for him to see undocumented immigrants walking through his property i see something i just drive away he said it is a problem i ve learned to live with it and pretty much i ve become numb to it another farmer joe aguilar said enough is enough after walking up on armed gunmen sneaking undocumented immigrants into the united states through his land aguilar decided to sell his farm it s really sad to say you either have to beat em or join em and i decided not to do either aguilar saidaguilar s family farmed  acres of land along the texasmexico border for nearly  years our farmers and ranchers can t afford their own security detail staples said we re going to become more dependent on food from foreign sources",
         "0"
        ],
        [
         "23674",
         "washington reuters  crucial details of the republican tax plan including the proposed corporate rate were in flux late on tuesday as negotiators from the us congress rushed to finalize the plan ahead of a selfimposed wednesday deadline republican tax writers were tinkering with how to best reconcile differences between bills passed by the house of representatives and the senate without exacerbating the deficit impact of legislation that could add as much as  trillion to the national debt over the next decade according to independent estimates with a meeting of the official bipartisan negotiating committee scheduled for wednesday republicans were still weighing how to best scale back popular individual deductions for mortgage interest and local tax payments and whether the proposed corporate rate of  percent in both bills may rise to  percent “we’re still talking” no  senate republican john cornyn said of a possible  percent corporate rate both the senate and house bills proposed reducing the corporate tax rate to  percent from the current  percent eliminating or scaling back some taxes paid only by rich americans and offering a mixed bag of cuts to other individuals and families some of which would be short term republican senator orrin hatch head of the senate taxwriting committee and one of the negotiators told reporters in reference to the corporate tax rate “i hesitate to give any figure at this point because it’s still being debated” analysts have said that a  percentage point change in the corporate rate equals about  billion in revenue over a decade shifting it even slightly could help negotiators who are attempting to keep the bill within preset budget parameters congressional researchers have estimated the tax plans as written would add  trillion to the  trillion national debt over  years before any projected positive effects on the economy or  trillion after such effects president donald trump wants to sign a tax bill by year’s end potentially marking the republicans’ first major legislative victory since trump’s victory gave the party control of the white house as well as both chambers of congress trump is scheduled to host republican tax negotiators at the white house for lunch on wednesday and to deliver a speech laying out his closing argument for the legislation alongside five middleclass families who would benefit senior administration officials told reporters on tuesday trump is expected to counter claims that the tax plan largely benefits corporations and the wealthy by highlighting how it would also cut rates for lower and middleincome taxpayers who could see additional benefits such as higher wages following the corporate rate cut the officials said independent government analyses by the nonpartisan joint committee on taxation which assists congressional tax writers and the congressional budget office which examines the budget impact of legislation both concluded that wealthier taxpayers would disproportionately benefit from the republican proposals when asked who stands to benefit most from republican tax legislation more than half of american adults selected either the wealthy or large us corporations according to a reutersipsos poll released on monday senator susan collins a key moderate republican whose support was critical to passage of the senate bill but who has said she will need to review the final package before casting another vote was critical on tuesday about talks to cut the top individual tax rate “there has been a lot of discussion” about lowering the top individual rate to  percent and “having the corporate rate not be as low” collins said the house tax plan would maintain the top individual tax rate paid by the wealthy at  percent the senate plan would cut it to  percent “i don’t think lowering the top rate is a good idea” collins told reporters ",
         "1"
        ],
        [
         "27379",
         "new yorksan francisco reuters  legal challenges to president donald trump’s temporary travel ban on people from some muslimmajority countries heat up again next week when two us appeals courts consider whether it is constitutional the legal fights may end up at the us supreme court perhaps in the fall many months after trump first issued an executive order in january saying there was an urgent need to halt some immigration to the united states for  days while officials reviewed the visa process trump dropped the original travel order after unfavorable legal rulings and replaced it with a more limited ban which is itself now being challenged in appeals courts on two coasts arguing that the united states needed to tighten national security measures trump’s attempt to limit travel was one of his first major acts in office the fate of the ban is one indication of whether the republican can carry out his promises to be tough on immigration and national security omar jadwat an attorney at the american civil liberties union who will be arguing the case at the  us circuit court of appeals in virginia on monday said the fact that so much time has passed since the ban was issued is proof that there was no pressing national security need for it in the first place the court fight will give those challenging the order an opportunity to argue that the government never intended for the travel pause to be temporary said buzz frahn an attorney at simpson thacher  bartlett in palo alto california whose firm has been closely tracking the ongoing litigation now almost  days after the original travel ban the government says the period of  days was reset when the administration issued the new order in march the department of homeland security “is and will be continuously examining ways to enhance the screening and vetting process to shut down terrorist and criminal pathways into the united states” agency spokesman david lapan said “some improvements will be classified others will be public but the department has only just begun ways to enhance the security of our immigration system” he said in an email opponents  including states and civil rights groups  say that both the first ban and the revised ban which also put a halt to all refugee admissions to the country for four months discriminates against muslims the government argues the text of the order does not mention any specific religion and is needed to protect the country against attacks the  circuit will decide the fate of a ruling from a maryland district judge that struck down a section of the revised executive order barring visitors from syria iran libya sudan yemen and somalia the hearing will take place before  fulltime judges of the appellate court ten of them were appointed by democrats and four by republicans then on march  a threejudge panel at the san franciscobased  us circuit court of appeals will review a decision from a hawaii judge that halted not just the travel portion of the ban but also the section that barred refugees the judges – who will sit on a panel in seattle  have been assigned but their identities have not been made public the  circuit blocked trump’s first ban in february in a unanimous vote by one republicanappointed judge and twodemocratic appointees trump lashed out at the ruling on twitter and said he is ready for a fight at the supreme court the nation’s highest court is more likely to hear a case if the federal appeals courts reach opposite rulings or if the issue is of great national importance according to legal experts but the supreme court’s session ends in june and if it take the case it would probably not be heard until after the justices return in october ",
         "1"
        ],
        [
         "44832",
         "moscow reuters  russian nuclearcapable strategic bombers have flown a rare mission around the korean peninsula at the same time as the united states and south korea conduct joint military exercises that have infuriated pyongyang russia which has said it is strongly against any unilateral us military action on the peninsula said  bombers code named bears by nato had flown over the pacific ocean the sea of japan the yellow sea and the east china sea prompting japan and seoul to scramble jets to escort them the flight which also included planes with advanced intelligence gathering capabilities was over international waters and was announced by the russian defence ministry on the same day as moscow complained about the ussouth korean war games the us and south korea holding yet more largescale military and naval exercises does not help reduce tensions on the korean peninsula maria zakharova a spokeswoman for the foreign ministry told a news briefing in moscow we urge all sides to exercise maximum caution given the arms buildup in the region any rash move or even an unintended incident could spark a military conflict in beijing chinese foreign ministry spokeswoman hua chunying did not comment specifically on the russian mission when asked reiterating china hoped all sides could quickly return to talks and appropriately and peacefully resolve the situation the united states and south korea began the longplanned joint military exercises on monday heightening tensions with pyongyang which called the drills a reckless step towards nuclear conflict some military experts regard the hulking russian turboprop bombers which made the flight near the korean peninsula as a relic of the cold war but russia has upgraded the aircraft since the soviet fall and since  has used the planes to back its diplomacy with shows of force and to probe other countries airspaces moscow said the bombers had been accompanied by  fighter jets and  early warning and control aircraft the  the russian equivalent of the boeing  sentry awacs aircraft are designed to track aerial and ground targets at a long range among other capabilities moscow did not say how many aircraft had taken part or when the mission had taken place our longrange aviation pilots according to an established plan regularly carry out flights over neutral waters over the atlantic the arctic the black sea and the pacific ocean from their bases and from tactical airfields the defense ministry said in the same statement it said the  bombers were refueled in midair during the mission and that during parts of the route they had been escorted by south korean and japanese military jets russia which shares a border with north korea has repeatedly voiced concerns about rising tensions on the korean peninsula caused by pyongyang s nuclear missile program and has also complained about possible plans by japan to deploy a us antimissile system on its soil foreign ministry spokeswoman zakharova said on thursday that if tokyo did go ahead and opt to deploy such a system it would be disproportional to the north korean missile threat and could upset wider strategic stability in the region japan has at least twice before this year been forced to scramble its jets to intercept russian aircraft the daily izvestia newspaper reported in october last year that russia was close to finishing setting up a new division of heavy bombers to patrol the japanguamhawaiian islands triangle  ",
         "1"
        ]
       ],
       "shape": {
        "columns": 2,
        "rows": 15
       }
      },
      "text/html": [
       "<div>\n",
       "<style scoped>\n",
       "    .dataframe tbody tr th:only-of-type {\n",
       "        vertical-align: middle;\n",
       "    }\n",
       "\n",
       "    .dataframe tbody tr th {\n",
       "        vertical-align: top;\n",
       "    }\n",
       "\n",
       "    .dataframe thead th {\n",
       "        text-align: right;\n",
       "    }\n",
       "</style>\n",
       "<table border=\"1\" class=\"dataframe\">\n",
       "  <thead>\n",
       "    <tr style=\"text-align: right;\">\n",
       "      <th></th>\n",
       "      <th>text</th>\n",
       "      <th>class</th>\n",
       "    </tr>\n",
       "  </thead>\n",
       "  <tbody>\n",
       "    <tr>\n",
       "      <th>43546</th>\n",
       "      <td>kirkuk iraq reuters  the governor of iraq s oi...</td>\n",
       "      <td>1</td>\n",
       "    </tr>\n",
       "    <tr>\n",
       "      <th>36773</th>\n",
       "      <td>aboard a us military aircraft reuters  us defe...</td>\n",
       "      <td>1</td>\n",
       "    </tr>\n",
       "    <tr>\n",
       "      <th>10048</th>\n",
       "      <td>you just can t make this stuff up the leftist ...</td>\n",
       "      <td>0</td>\n",
       "    </tr>\n",
       "    <tr>\n",
       "      <th>38880</th>\n",
       "      <td>barcelona reuters  a strike called across cata...</td>\n",
       "      <td>1</td>\n",
       "    </tr>\n",
       "    <tr>\n",
       "      <th>9154</th>\n",
       "      <td>who knew he had it in him senate majority lead...</td>\n",
       "      <td>0</td>\n",
       "    </tr>\n",
       "    <tr>\n",
       "      <th>40713</th>\n",
       "      <td>strasbourg france reuters  europe s top human ...</td>\n",
       "      <td>1</td>\n",
       "    </tr>\n",
       "    <tr>\n",
       "      <th>44631</th>\n",
       "      <td>mexico city reuters  at least three people die...</td>\n",
       "      <td>1</td>\n",
       "    </tr>\n",
       "    <tr>\n",
       "      <th>660</th>\n",
       "      <td>donald trump doesn t just flip flop on his cam...</td>\n",
       "      <td>0</td>\n",
       "    </tr>\n",
       "    <tr>\n",
       "      <th>32265</th>\n",
       "      <td>reuters  the new black panther party a “black ...</td>\n",
       "      <td>1</td>\n",
       "    </tr>\n",
       "    <tr>\n",
       "      <th>16531</th>\n",
       "      <td>next stop after brexit is the us judge jeanine...</td>\n",
       "      <td>0</td>\n",
       "    </tr>\n",
       "    <tr>\n",
       "      <th>21102</th>\n",
       "      <td>so far the supreme court has not prevented one...</td>\n",
       "      <td>0</td>\n",
       "    </tr>\n",
       "    <tr>\n",
       "      <th>11430</th>\n",
       "      <td>farmers and ranchers are being run off their ...</td>\n",
       "      <td>0</td>\n",
       "    </tr>\n",
       "    <tr>\n",
       "      <th>23674</th>\n",
       "      <td>washington reuters  crucial details of the rep...</td>\n",
       "      <td>1</td>\n",
       "    </tr>\n",
       "    <tr>\n",
       "      <th>27379</th>\n",
       "      <td>new yorksan francisco reuters  legal challenge...</td>\n",
       "      <td>1</td>\n",
       "    </tr>\n",
       "    <tr>\n",
       "      <th>44832</th>\n",
       "      <td>moscow reuters  russian nuclearcapable strateg...</td>\n",
       "      <td>1</td>\n",
       "    </tr>\n",
       "  </tbody>\n",
       "</table>\n",
       "</div>"
      ],
      "text/plain": [
       "                                                    text  class\n",
       "43546  kirkuk iraq reuters  the governor of iraq s oi...      1\n",
       "36773  aboard a us military aircraft reuters  us defe...      1\n",
       "10048  you just can t make this stuff up the leftist ...      0\n",
       "38880  barcelona reuters  a strike called across cata...      1\n",
       "9154   who knew he had it in him senate majority lead...      0\n",
       "40713  strasbourg france reuters  europe s top human ...      1\n",
       "44631  mexico city reuters  at least three people die...      1\n",
       "660    donald trump doesn t just flip flop on his cam...      0\n",
       "32265  reuters  the new black panther party a “black ...      1\n",
       "16531  next stop after brexit is the us judge jeanine...      0\n",
       "21102  so far the supreme court has not prevented one...      0\n",
       "11430   farmers and ranchers are being run off their ...      0\n",
       "23674  washington reuters  crucial details of the rep...      1\n",
       "27379  new yorksan francisco reuters  legal challenge...      1\n",
       "44832  moscow reuters  russian nuclearcapable strateg...      1"
      ]
     },
     "execution_count": 15,
     "metadata": {},
     "output_type": "execute_result"
    }
   ],
   "source": [
    "data.sample(15)\n"
   ]
  },
  {
   "cell_type": "code",
   "execution_count": 16,
   "id": "2c2301f0",
   "metadata": {},
   "outputs": [],
   "source": [
    "true = resample(true,\n",
    "                replace=True,  # allow duplicates\n",
    "                 n_samples=len(fake),  # match fake_df size\n",
    "                random_state=42)\n",
    "\n",
    "# Step 3: Combine the balanced datasets\n",
    "balance = pd.concat([fake, true], ignore_index=True)\n",
    "\n",
    "# Optional: Shuffle the combined dataset\n",
    "balance = balance.sample(frac=1, random_state=42).reset_index(drop=True)\n",
    "\n",
    "# Step 4: Save or use the balanced dataset\n",
    "balance.to_csv('balanced_dataset.csv', index=False)\n"
   ]
  },
  {
   "cell_type": "code",
   "execution_count": 17,
   "id": "98665adc",
   "metadata": {},
   "outputs": [],
   "source": [
    "df = pd.read_csv('balanced_dataset.csv')"
   ]
  },
  {
   "cell_type": "code",
   "execution_count": 18,
   "id": "95f5b57b",
   "metadata": {},
   "outputs": [
    {
     "name": "stdout",
     "output_type": "stream",
     "text": [
      "Index(['title', 'text', 'subject', 'date', 'class'], dtype='object')\n"
     ]
    }
   ],
   "source": [
    "print(balance.columns)"
   ]
  },
  {
   "cell_type": "code",
   "execution_count": 19,
   "id": "eeb73aca",
   "metadata": {},
   "outputs": [
    {
     "data": {
      "application/vnd.microsoft.datawrangler.viewer.v0+json": {
       "columns": [
        {
         "name": "index",
         "rawType": "int64",
         "type": "integer"
        },
        {
         "name": "text",
         "rawType": "object",
         "type": "string"
        },
        {
         "name": "class",
         "rawType": "int64",
         "type": "integer"
        }
       ],
       "ref": "8332fbc4-a9ad-4527-8078-30cd1ece6ae7",
       "rows": [
        [
         "9614",
         "serial liar and  democrat presidential hopeful senator elizabeth warren just can t help herself in an effort to try to make herself relevant and in what seems like a desperate attempt to address her irrelevancy warren appears to have made up a sick story of sexual harassment at the hands of a law professor at harvard universityafter her account about what happened with the now deceased harvard law professor on meet the press the boston herald called out the senator who has a history of lying in  elizabeth warren was listed as the harvard law s first woman of color in a law review piece on diversity and affirmative actionelizabeth warren pushed back hard on questions about a harvard crimson piece in  that described her as native american saying she had no idea the school where she taught law was billing her that way and saying it never came up during her hiring a year earlier which others have backed upbut a  fordham law review piece described her as harvard law school s first woman of color based according to the notes at the bottom of the story on a telephone interview with michael chmura news director harvard law aug   gpthe boston herald set the record straight about warren s new account of events with the now deceased law professorus sen elizabeth warren reportedly switched up her account of sexual harassment that she relayed this weekend in a televised metoo testimonial from an earlier lighthearted version but the boston globe reported last night that warren recounted the same incident in a more lighthearted manner at a memorial service after the professor s death in  an account the globe noted was inconsistent with her story on sunday during the service after his death in  warren spoke fondly of law professor eugene smith and told the gathered mourners she was laughing as smith chased her around his desk according to a colleague s memoir the globe reportedthe author of the memoir john mixon told the paper i may have been wrong saying she was laughing adding that he was writing about the service  years after the factthe paper also noted that warren failed to mention on meet the press that smith had poliothe globe said warren told the broadsheet yesterday she shared the story at the memorial service as a statement about smith s authority it was  years later and he didn t have power over me any more warren told the newspaper which noted she was by then a harvard law professor",
         "0"
        ],
        [
         "18681",
         "someone needs to educate ellen degeneres on president trump she obviously knows nothing about him or his policies that do include all americans he just not into identity politics like obama wasshe claims that his views on immigrants and women aren t aligned with hers so isn t she doing what she proclaims to object to when she refuses to have trump on simply because of his viewshe is for immigrants but for legal immigrants does ellen advocate for illegally coming to america traditionally talk show hosts salivate at the mere thought of the president of the united states visiting their chatfestsellen degeneres not so muchpresident donald trump isn t welcome on the ellen degeneres show the comedienne told matt lauer in an interview that aired on nbc s today on friday because i m not gonna change his mind he s against everything that i stand for degeneres said she had met trump in the past the two filmed a celebrity apprentice related segment for her show years ago i flew in his helicopter and did a bit with him so i knew him then she said i have not spoken to him since he s run for president or become president degeneres who recently celebrated the  anniversary of her coming out as a lesbian during an episode of her sitcom ellen implied that trump s welldocumented comments about women and immigrants among other topics do not jibe with her own views and do not seem to be malleableread more nyp",
         "0"
        ],
        [
         "15050",
         "of course hillary manages to turn the question around and make it appear as though the congressman never asked her a direct question her answer to the congressman was an admonishment asking the question was somehow calling the credibility of the diplomatic security professionals working in the state department hillary clinton is a highly skilled liar who always manage to dodge the actual question and leave you wondering how the hell did she just get out of answering that question former secretary of state hillary clinton said that she doesn t believe ambassador chris stevens had her personal email even though sidney blumenthal did in testimony before the benghazi select committee on thursdayhillary was asked by representative rep lynn westmoreland rga you got a lot of emails from sidney blumenthal and you say that mr blumenthal was a friend of yours and he had your personal email address you say chris stevens was a friend of yours he asked numerous times for extra protection now if i had been mr stevens and i think anybody out there anybody watching this would agree if i had been mr stevens and i had had a relationship with you and i had requested  or more times for additional security to protect not only my life but the people that were there with me i would have gotten in touch with you some way i would have let you know that i was in danger and the situation had deteriorated to a point i needed you to do something did he have your personal email she answered congressman i do not believe that he had my personal email he had the email and he had the direct line to everybody that he d worked with for years he had been posted with officials in the state department they had gone through difficult challenging dangerous assignments together he was in constant contact with people ",
         "0"
        ],
        [
         "9421",
         "several uncomfortable videos have surfaced this week showing former vice president joe biden groping little girls apparently according to a former secret service agent vice president joe biden is not only interested in touching little girls in inappropriate ways he s also someone the secret service felt they needed to protect from their female agentshere s one example of creepy joe touching and rubbing a little girl who is clearly uncomfortable with his inappropriate actionsbig league politics cassandra fairbanks dropped a bombshell report on gateway pundit where she released a stunning report from a former secret service agent assigned to the vice president joe biden residence claims that the service often had to protect female agents from himspeaking on the condition of anonymity the agent asserted that we had to cancel the vp christmas get together at the vice president s house because biden would grope all of our wives and girlfriend s asses the annual party was for agents and navy personnel who were tasked with protecting the biden family he would mess with every single woman or teen it was horrible the agent saidaccording to the source a secret service agent once got suspended for a week in  for shoving biden after he cupped his girlfriend s breast while the couple was taking a photo with him the situation got so heated the source told cassandra fairbanks that others had to step in to prevent the agent from hitting the thenvice presidentadditionally the agent claims that biden would walk around the vp residence naked at night i mean stark naked weinstein level stuff he addedhe said that the men on duty would frequently stand in front of female agents and navy women that were present like a damn guardian on some occasions they would make up reasons to get the women away from where he wasthe agent said he was specifically concerned about women in the navy they weren t allowed to disobey him at all but we d take them away under pretend auspices the agent statedbestselling author ronald kessler wrote about biden s problem with female agents in his book the first family detailgo to the  mark to hear kessler tell sean hannity how vice president joe biden likes to swim naked in front of female secret service agentsnext time you hear the liberal media talking about how judge roy moore should step down from his bid to become alabama s next us senator with absolutely no evidence that he has ever even made a teenage girl feel uncomfortable remember the actual videos of joe biden the socalled future of the democrat party groping numerous little girls in plain view of the media and of the little girls families while everyone tried to pretend it wasn t happening ",
         "0"
        ],
        [
         "20341",
         "this is a good reminder of how important it is to prevent obama from anointing another radical on the supreme court it might also be a good time for every american to call their representatives in washington keeping another radical obama appointee off our supreme court could literally be the only thing standing between a free america and one that looks more like venezuela this is also a reminder for anyone in the republican party who considers themselves part of the never trump movement the democrat party has never been more serious about or closer to fundamentally changing america forever the obama administration is looking into whether it can challenge the supreme court s decision to block president barack obama s plan to spare millions of illegal immigrants from deportation us attorney general loretta lynch said tuesday we will be reviewing the case and seeing what if anything else we need to do in court lynch told reuters in an interviewlynch did not say what legal options the obama administration may pursue following a split decision by the supreme court justices last week that left in place a block on the executive action by a lower courtshe said any future executive actions obama may take on immigration would be left to the white housein a wideranging interview on topics from gun control to the effect of the planned exit of britain from the european union lynch identified espionage from foreign nationals on us companies as a tremendous problem the federal bureau of investigation has reported a  percent increase in cases of economic espionage between  and  and the majority of cases involve chinese nationals as culpritsmost recently xu jiaqiang  was charged with economic espionage and theft of trade secrets for stealing software source code from his us employer with the intent of benefiting the chinese government it is a matter of priority for us lynch said when companies or industries are preyed upon by others be they individuals be they state actors who literally steal the fruit of their intellectual labors essentially they are stealing from future generations also via yahoo news",
         "0"
        ],
        [
         "1467",
         "the hosts of fox  friends just got their asses handed to them by one of their own colleagues for protecting donald trump so muchfor months the fbi have been investigating trump s russia scandal the scandal continues to grow every day and when trump fired fbi director james comey last week it became and even bigger storytrump literally fires the head of the agency that is investigating him which means he interfered in a federal investigation and committed obstruction of justice the firing also smacks of watergate because former president nixon did something similar in an effort to cover up his involvement in the crimeclearly trump is desperately trying to bury the russia investigation and he is willing to fire people to do itbut fox  friends have been trump s top cheerleaders for months now and they continued in that role after comey s firing writing off the story as just mainstream media hysteria but they weren t able to get away with it on sunday while respected journalist and fellow fox host chris wallace was aroundprior to his own show wallace made a guest appearance on the morning program and proceeded to scold pete hegseth for downplaying comey s firing it s been about russian collusion from the beginning hegseth whined his critics have tried to make him look not legitimate and five days after the firing of comey the media is still chomping at the bit with hysteria hegseth then played clips focusing more on what democratic lawmakers have been saying as proof that the media is being hysterical wallace took immediate offense and defended the media while letting trump s top propaganda team know that in fact this is a major story but i do take exception to the idea that this is hysteria wallace said there are some cases there that i shake my head and think that s over the top yes this is a big story the fact that we re continuing to talk about it a week later this is the first time in history that a president has fired an fbi director who was conducting an investigation that was directly investigating him and his associates it s a big story and i think it s a legitimate story to cover here s the video via youtubeso while hacks like the hosts of fox  friends are doing trump s bidding by trying to delegitimize a big story that further highlights how corrupt trump is chris wallace isn t willing to buy the bullshit they are selling and has no problem calling out them out for not doing their job if only more fox hosts were like chris wallace trump would be in deeper shitfeatured image screenshot",
         "0"
        ],
        [
         "9140",
         "what a bizarre exchange between a reporter and democrat leader nancy pelosi she is asked during a press conference what her relationship is with president trump and she laughed what s even stranger is she mocked the way trump says daca it s as if she detests the president so much that she can t bring herself to speak his name notice how she talks in disjointed sentences and stops suddenly to think she cannot even form a complete thought this is yet another example of the strange behavior of pelosi that is ignored by the main stream media like an enabling spouseminority leader nancy pelosi d calif chuckled thursday when asked to characterize her relationship with president donald trump saying there is a good rapport there but mainly focusing on their stark disagreement over tax reformafter a reporter asked the question pelosi paused and smiled appearing to gather her thoughts for a diplomatic response given her strong criticism of the administration i think we have a good rapport pelosi said i don t think we ve accomplished much together pelosi said she and trump could find a path together on the deferred action for childhood arrivals daca program although she gently mocked his pronunciation of daca read more wfbshe went on the rant against the republican tax bill in another disjointed word salad moment how can anyone take her seriously when she uses terms like armageddon to describe the tax bill",
         "0"
        ],
        [
         "24627",
         " this story corrects ninth paragraph to say that refiners want exported ethanol to qualify for renewable credits not exported fuel blended with ethanol by david shepardson and jarrett renshaw washington reuters  us president donald trump sought to ease concerns on wednesday that his administration would make major alterations to biofuels policy telling iowa’s governor he was committed to a decadeold biofuels program even as a top official considers changing it us law requires fuel companies to add biofuels like ethanol to the country’s fuel supply through the ‘renewable fuel standard’ adopted in  the trump administration is considering lowering the mandatory level a worry for corngrowing states like iowa iowa governor kim reynolds said she held separate calls with trump and us environmental protection agency epa administrator scott pruitt on wednesday in which she urged them not to make that change “both of them personally committed to me their continued commitment to the renewable fuel standard” reynolds said adding that the call with trump was “positive” however white house spokeswoman sarah sanders said the administration “didn’t make any assurances” on renewable fuel standard rfs levels “no definitive decision was made on rfs” she said the biofuels industry has been ratcheting up pressure in washington in response to actions from the epa it sees as threatening the program which was designed to reduce carbon emissions independent oil refiners meanwhile have pushed the trump administration to soften requirements for ethanol use which costs them hundreds of millions of dollars annually some refiners want another change that would ease their cost burden they want exported ethanol to qualify for credits under the renewable fuel program the chief executives at four such companies  valero pbf energy monroe energy and hollyfrontier  delivered a letter to the white house on wednesday urging the change two industry sources told reuters they had received assurances from white house officials that trump was directing the epa to allow credits on exports but to end its efforts to reduce renewable fuel requirements overall last month the epa said it was looking to cut  biodiesel blending requirements roiling markets and drawing criticism from the country’s farm belt in july it proposed cutting total volumes of all renewable fuels use for next year elected officials from the corngrowing midwest have said they will not be satisfied with white house reassurances until the epa publicly agrees not to reduce renewable fuel standards several senators met with pruitt on tuesday to discuss the issue in a statement after the meeting iowa republican senator joni ernst said she had expressed “significant concerns” over the agency’s recent moves to potentially set biodiesel requirements for  and  at “substantially lower volumes” senator charles grassley an iowa republican said he told pruitt during the hourlong meeting “that supporting biofuels isn’t just good policy it’s also what president trump promised” reynolds meanwhile urged iowans to contact lawmakers and administration officials and said she is meeting next week with us vice president mike pence and pruitt in washington a group of  senators wrote to trump this week urging the epa to maintain levels for  and increase its proposed  biodiesel requirements pruitt would not want “to take any steps to undermine the objectives in the statute of the rfs” said epa spokeswoman liz bowman late on tuesday the senate committee on environment and public works postponed a planned hearing for wednesday to consider the nominations of four epa officials senator tammy duckworth an illinois democrat said she was placing a hold on two epa nominees over the ethanol issue ernst said on wednesday she was declining to support one of the nominees over concerns about the epa’s plans for renewable fuels ",
         "1"
        ],
        [
         "20753",
         "the boston globe ran a sunday edition with a fake cover slamming donald trump for his desire to secure our border with mexico it was kind of a look at how supposedly horrible life would be with a president who actually puts americans first fake news is happening everywhere these days but it s a big deal when a major newspaper does it this is yet another example of how the media is so desperate to hurt trumpthe great thing is that there s the new media that responded almost immediately with a cover of obama the different in this cover is that these horrible things are really happening under obama way to go ",
         "0"
        ],
        [
         "37670",
         "washington reuters  the united states on tuesday imposed sanctions on  chinese and north korean organizations washington accused of helping evade nuclear restrictions against pyongyang and supporting the country through trade of commodities like coal the us treasury announced the action one day after president donald trump put north korea back on a list of state sponsors of terrorism on its website the new curbs show the trump administration s focus on hurting trade between china and north korea which it sees as key to deterring pyongyang from its ambition to develop a nucleartipped missile capable of hitting the united states this designation will impose further sanctions and penalties on north korea and related persons and supports our maximum pressure campaign to isolate the murderous regime said treasury secretary steven t mnuchin the latest sanctions included blacklisting three chinese companies dandong kehua economy  trade co dandong xianghe trading co and dandong hongda trade co which the treasury department said had done more than  million in combined trade with north korea over almost five years until aug  it said they were involved in trade of coal iron ore lead zinc and silver ore lead metal and ferrous products as well as notebook computers the sanctions also blacklisted sun sidong and his company dandong dongyuan industrial co in a june report washington think tank  said the firm was part of an interconnected network of chinese companies that account for a vast share of trade with north korea us authorities have repeatedly targeted companies and individuals from the chinese city of dandong which borders north korea in a bid to cut off pyongyang s major export revenue from selling natural resources such as coal in beijing foreign ministry spokesman lu kang reiterated china s opposition to unilateral sanctions by other countries adding it could investigate for itself any contravention of its laws or international obligations if other parties wish to have effective cooperation with china on this issue and really have a grasp of certain matters they can totally share intelligence with china and cooperate with china to appropriately handle the issue lu told a daily briefing on wednesday the direct impact on listed companies may be limited as trade between china and its isolated northern neighbor has slowed substantially since the united nations imposed a ban in september on north korean exports of coal iron iron ore lead lead ore and seafood in february china also prohibited coal purchases from north korea china does not strictly enforce financial rules in the dandong area said anthony ruggiero a north korea expert at the foundation for defense of democracies as a result dandong draws companies interested in making a profit by selling to north korea he said the new sanctions also hit several north korean companies that send workers to countries such as russia poland cambodia and china united states authorities said they are seeking to cut off the money north korea makes from the export of labor besides targeting sources of weapons technology the curbs were the first time the united states sought to directly attack north korea s daily consumer trade said peter harrell a sanctions expert at the center for a new american security we are sanctioning companies involved in ordinary trade harrell said that s the logical next step the sanctions aim to further isolate pyongyang said heather nauert a state department spokeswoman adding that she did not think targeting more chinese firms would affect beijing s cooperation on the north korean issue i don t think it jeopardizes anything she said i think the world has come together on this issue we have a good relationship with china that s not going to change ",
         "1"
        ],
        [
         "28085",
         "washington reuters  president donald trump’s administration has informed congress of its plan to pursue the  billion sale to bahrain of  lockheed martin  aircraft and related equipment which was held up last year by concerns about human rights a congressional source said on wednesday the state department originally notified congress of the sale last september during president barack obama’s administration it was pulled back because of concerns that bahrain had not made promised improvements to its human rights record the trump administration has separated the human rights issues from the transfer the source said members of congress were not immediately available to comment on whether they would object to the sale over human rights concerns this time the  billion sale includes the aircraft  engines radars and other avionics airtoair and airtoground ordnance and related equipment the latest notice sent to congress provides for  days of additional congressional review then a formal notice to congress as required by the arms export control act after which the licenses for the sale would be approved lockheed martin declined comment ",
         "1"
        ],
        [
         "17661",
         "before keurig and other major companies commit consumer suicide over their decision to pull their advertising from sean hannity s fox news show over his interview with roy moore the gop candidate for us senate in alabama who is being accused of sexual misconduct that allegedly took place between  years ago only  weeks before the election they may want to consider the facts that many media outlets have uncovered about moore s accusers these advertisers might also want to explain to consumers why they never pulled ads on shows that interviewed bill clinton who s been accused of rape and sexual assault by multiple women these businesses may also want to explain why they never pulled their advertising from tv shows that interviewed hillary clinton who s been accused by more than one victim of threatening the women who bravely came forward to expose her husband s sexual misconduct daily mail keurig makers of the home coffee brewing system is being boycotted by angry consumers after the company announced over the weekend that it plans to remove ads on sean hanity s fox news program following his coverage of alabama senate candidate roy moorekeurig made this bold statement to consumers on twitter claiming they worked with their media partner and fox news to stop their ad from airing on the sean hannity showangelo thank you for your concern and for bringing this to our attention we worked with our media partner and fox news to stop our ad from airing during the sean hannity show keurig keurig november   realtorcom  and me eloquii and nature s bounty all said over the weekend that they would no longer run ads on hannity s show following his interview with the embattled candidate prompting a backlash from protesters on social mediaafter a twitter user posted busineses that allegedly advertise on sean hannity s fox news show here s how nature s bounty respondedwe can confirm that we do not have advertisements running on this program natures bounty naturesbounty november   s how the gentics company  and me responded on twitterwe ve received inquiries re advertising on hannity we are not running tv advertising on hannity we continue to closely evaluate where we advertise   november   and me sells saliva collection kits to help consumers trace their geneticsthis thanksgiving bring your family closer and save with  s thanksgiving family offer mydnastory    november   is a fashion store for plus size womendead over this upcoming eloquii set also red boots were needed  lydia hudgens lydiahudgens november   to announce i m the face of eloquii s new noir collection available now on xoq pictwittercompetsjgqtnx tess holliday tessholliday november   is their tweet assuring their consumers that hannity is blocked form their advertising list hi there hannity is blocked from our advertising list if we can help with anything else please dont hesitate to reach out to us at socialeloquiicom eloquii eloquii november   is being accused of having pursued inappropriate sexual relationships with younger women while he was a district attorney in alabama during the  vehemently denies the allegations saying that he believes the timing of the accusations are aimed at undermining his candidacymoore who spoke with hannity about the scandal on his radio show friday did admit however that after his return from the military i dated a lot of young ladies some of the sponsors announced their decision not to run advertisements on hannity s show via twitter after the fox news host asked his audience to give moore the benefit of the doubt according to cnbc news ",
         "0"
        ],
        [
         "9554",
         "when comedian andy dick repeatedly slid his hands up and down ivanka trump s legs during her interview with jimmy kimmel his liberal audience laughed to kimmel s credit and believe me we don t give kimmel credit for much of anything after seeing ivanka becoming flustered by his inappropriate behavior kimmel got fed up with the actions of his guest host and actually asked to have him removed from the stage by security it s hard to say if the whole security guard entrance was a setup for comedic purposes but in any event kimmel did make the point that he was standing up for ivanka and refused to sit back and watch andy dick make uncomfortable and unwanted advances on herwatchkimmel was of course quick to defend trump s daughter on his show but that was during the preobama era of  when jimmy kimmel and all of hollywood loved donald trump who could ve possibly imagined that only  years later trump would betray the liberal democrat cesspool of hollywood and put his passion for defending the forgotten man or the everyday american before the false idols of liberal hollywoodas hollywood continues its implosion it looks like andy dick s chickens are finally coming home to roosthollywood reporter though the  actor denies he groped anyone he does admit to other inappropriate behavior i might have kissed somebody on the cheek to say goodbye and then licked them that s my thing andy dick has been dropped from the independent feature film raising buchanan following accusations of sexual harassment and misconduct on setthe hollywood reporter was not able to reach any of the alleged victims however two sources detailed dick s inappropriate behavior which included groping people s genitals unwanted kissinglicking and sexual propositions of at least four members of the production it s unclear if those involved were actors or crewlate monday thr spoke to dick who confirmed he was let go from his small role in the film though he vehemently denied groping claims he said it s possible that he licked people and he confirmed that he did make advances on othersto anyone who has followed dick s legal troubles his welldocumented history of outlandish comedy and often intentionally offensive behavior his dismissal may not come as a surprise but the claims can be seen as more unsettling in today s cultural climate in the wake of the harvey weinstein scandal or ousted figures like bill o reilly amazon studios roy price political journalist mark halperin the loud house creator chris savino and the list goes ondick said he s aware of his reputation at first he made light of the situation joking that my middle name is misconduct they know what they signed up for however he followed up with a denial that he ever groped anyone on set i don t grope people anymore i don t expose myself anymore he said by telephone also welldocumented is his history of exposing his genitals in public and on stage i do understand that the temperature in the world right now is delicate kimmel recently claimed that he would go easy on the accused rapist and serial sexual predator hollywood kingpin harvey weinstein while hosting the academy awards show in  fox news jimmy kimmel intends to deliver some sly wisecracks about disgraced hollywood mogul harvey weinstein when he hosts next year s oscars but he ll tread warily given that victims of the accused sexual predator may be vying for the goldplated awards it s not really a laughing matter the jimmy kimmel live host says about the rape and sexual assault allegations pouring out against weinstein in new york magazine out mondayhollywoodcom caught up with kimmel after dick was dragged off the stage by security with kimmel s assistance here s what kimmel had to saytalkshow host jimmy kimmel has spoken out about his decision to carry unruly guest andy dick off his show on friday night confessing the wacky funnyman always makes him uncomfortable kimmel called security and helped them physically remove dick from his show sofa after the comic started making unwanted advances toward fellow guest ivanka trumpthe host says andy did a segment he was a little out of it when she ivanka came out he wanted a big wet kiss it was time for andy to go so i escorted him out by his feet but kimmel has spoken to dick since the jimmy kimmel live incident and he insists the comic is far from upset about his rude exitkimmel adds he s andy he s not upset he s not apologetic he s just nutty ",
         "0"
        ],
        [
         "28174",
         "washington reuters  the us house of representatives intelligence committee will ask the directors of fbi and the national security agency to appear in a closed session in its probe of allegations of russian interference in us elections and us spy agency surveillance of president donald trump’s team the head of the panel said on friday nunes also told reporters that former trump campaign manager paul manafort’s lawyers informed the committee that he is volunteering to be interviewed by the committee and that the panel will work with his lawyers to decide whether the interview would be open or closed to the public the committee hopes to hold a closed session with fbi director comey and nsa director admiral michael rogers on tuesday ",
         "1"
        ],
        [
         "11159",
         "melania trump just accepted damages of approximately  million from daily mail after they published a smut article claiming she prostituted herself during her modeling career the false and defamatory claims got the leftleaning tabloid in hot water when they couldn t produce evidencethe daily mail has been antitrump from the beginning they often publish inflammatory and false articles on trump his family and his administration the problem with this is that this publication is read worldwide millions of people are reading this slanted news talk about fake newsmelania wins biglymelania trump has accepted damages and an apology over allegations about her work as a professional modelthe action was against associated newspapers publishers of the daily mailthe amount of damages was not disclosed in court although the total payment of damages and costs is believed to come to about  millionan article published in the newspaper and on mail online last august included false and defamatory claims about the first lady which questioned the nature of her work as a professional model and republished allegations that she provided services beyond simply modelling  the court heardher lawyer john kelly said the story included statements that mrs trump denied the allegations and that paulo zampolli who ran the modelling agency also denied the claimsthe article he said also said there was no evidence to support the allegationsthe article about mrs trump was published last august mr kelly told mr justice nichol the article also claimed that mr and mrs trump may have met three years before they actually met and staged their actual meeting as a ruse  he said the allegations about mrs trump were not true and strike at the heart of the claimant s personal integrity and dignity catrin evans qc for the publishers told the judge the defendant acknowledges that these claims about the claimant are untrue and we retract and withdraw them the defendant is here today publicly to set the record straight and to apologize to the claimant for any distress and embarrassment that the articles may have caused her the daily mail apology the mail online website and the daily mail newspaper published an article on  august  about melania trump which questioned the nature of her work as a professional model and republished allegations that she provided services beyond simply modellingthe article included statements that mrs trump denied the allegations and paulo zampolli who ran the modelling agency also denied the allegations and the article also stated that there was no evidence to support the allegationsthe article also claimed that mr and mrs trump may have met three years before they actually met and staged their actual meeting as a ruse we accept that these allegations about mrs trump are not true and we retract and withdraw them we apologise to mrs trump for any distress that our publication caused her to settle mrs trump s two lawsuits against us we have agreed to pay her damages and costsvia sky news",
         "0"
        ],
        [
         "11961",
         "she s pulling down a cool  million a year as the racebaiting host of abc s flailing the view talk showwatch goldberg take a line from hillary s dead broke book during this segment",
         "0"
        ],
        [
         "30311",
         "washingtonnew york reuters  us presidentelect donald trump pumped a total of  million of his own money into his campaign  far from the  million he frequently boasted he was going to spend according to campaign finance disclosures filed on thursday night trumprelated business industries  those bearing his own name including his private jet and the manhattan building that served as his campaign headquarters  received  million in payments from his campaign trump shocked the political world when he defeated democratic rival hillary clinton in the nov  election for the white house overcoming a spending deficit and outperforming polls in several swing states to propel him to victory earlier this week trump’s campaign revealed that he sold his entire stock portfolio in june a holding that was estimated at about  million opting to liquidate his assets could have been a move to pump cash into his campaign which at the time was struggling to raise funds from private donors the move to sell his stocks came weeks after he forgave about  million in loans he had already given his campaign in total trump raised  million and spent  million  a far cry from the  million spent by clinton according to the latest federal election commission disclosure reports trump spent  million in the final days of the campaign compared with the  million spent by clinton trump frequently promised to run a shoestring campaign and argued his selffunding model meant he wasn’t obligated to any special interests he blasted polling as a useless art and pollsters as a waste of money as he overcame  republican foes during the primary election season in early  trump rode to victory on more than  billion in “free” television on news programs that provided walltowall coverage of his every word according to data analytics firm mediaquant but when the realities of the general election began to sink in  and trump’s poll numbers sank  he shifted and began spending money on polling and television ads in total trump spent  million on advertising including television ads and another  million in digital and online advertising his second largest expense was air travel totaling  million and accounting for more campaign spending than his payroll ",
         "1"
        ],
        [
         "24041",
         "reuters  us president donald trump on tuesday stood by his criticism of pay tv and wireless company att’s deal to buy movie and tv show maker time warner inc which the justice department has sued to stop “i’m not going to get involved in litigation but personally i’ve always felt that that was a deal that’s not a good deal for the country” the president said on the lawn of the white house as he left for florida “i think your pricing’s going to go up i don’t think it’s a good deal for the country” the case will be more closely watched than other merger challenges because trump has been a vocal critic of time warner’s cnn and opposed att’s purchase of time warner on the campaign trail last year saying it would concentrate too much power in att’s hands until tuesday he had not repeated that criticism the us department of justice on monday sued att arguing that it would use time warner’s content to force rival paytv companies to pay “hundreds of millions of dollars more per year for time warner’s networks” the justice department pushed back any suggestion that the decision to sue was done because of “political considerations” “this is a law enforcement decision not a political one the doj has reached the end of a yearlong investigation by a large capable staff of expert lawyers and economists” a justice department spokesperson said in an email comment “the division concluded on the merits that the merger is illegal under the antitrust laws because it will hurt competition” att has vowed to defend the  billion deal in court the department of justice’s move to block it was “foolish” because the deal posed no threat to consumers the wireless carrier’s trial lawyer dan petrocelli told cnbc on tuesday we want to go to court as soon as possible petrocelli told cnbc saying the burden of proof was on the government  att will ask the court for an expedited trial next week a source familiar with case said the case has been assigned to judge richard leon a senior judge on the district of columbia district court who was appointed by president george w bush in  time warner shares went higher when leon’s assignment was announced as investors bet the judge would be more likely to allow the deal to proceed republicanappointed judges are generally but not always more businessfriendly than those appointed by democrats shares of time warner closed up  percent at  on tuesday signaling that investors believe the deal has a better chance of being approved att closed down less than  percent at  the merger challenge is unusual since the two companies do not compete directly the justice department has not successfully litigated to stop a vertical deal  where the merging companies are not direct competitors as is the case with att and time warner  since the  when it prevented ford motor co from buying assets from sparkplug maker autolite ",
         "1"
        ],
        [
         "42861",
         "tokyo reuters  the us navy carrier ronald reagan is conducting drills with japanese warships in seas south of the korean peninsula japan s military said on friday in a show of naval power as pyongyang threatens further nuclear and missile tests the reagan strike group will conduct a separate drill with the south korean navy in october the defense ministry said in a statement distributed to south korean lawmakers on monday the  reagan which is based in japan and its escort ships have been holding drills with japanese navy vessels since sept  in waters south and west of japan s main islands the japan maritime self defence force said in a statement that exercise with the three japanese warships including two destroyers and one of the country s two biggest helicopter carriers the ise will run until sept  it added the us and regional allies are responding with military drills including bomber and jet fighter flights near the korean peninsula as pyongyang pursues its nuclear and missile programs with an apparent hydrogen bomb test and two ballistic missile firings over japan in recent weeks north korea on friday said it might test a hydrogen bomb over the pacific ocean after us president donald trump vowed to destroy the country ",
         "1"
        ],
        [
         "5014",
         "when you think of civil rights activists it s not likely that glenn beck will ever enter your conscious except perhaps as a cautionary tale it does seem though that he s had a moment of clarity even an epiphany the man who has played a large part in demonizing black lives matter finally gets it at least he gets part of it he gets why all lives matter is a really bad responsein the past beck has been especially critical of black lives matter who he accused of inciting terrorism beck s comments were sparked by discussion over black lives matter protesters recent invasion of a dartmouth college library where the activists harassed white students calling one girl a filthy white bitch they are terrorizing you beck said of the incident what do you think that is when when one of the girls who supported black lives matter at dartmouth and she was in the library and she was studying and they pulled her out of her seat she started crying beck said filling people with fear is the first step to terrorism i think we need to start calling it that beck concluded we need to start being very very clear in the past he even led a march for all lives matter things have changed somewhat though at least for beck while he s still not officially a black lives matter supporter he understands why all lives matter is stupid in a news conference covered by the washington post beck relayed this analogy all of us are sitting around a table and we re all friends he said it s time for dessert and everybody gets pie except for me and you and you say i didn t get any pie everybody at the table looks at you and says i know all pie matters you say but i don t have any pie what about my pie beck still says that the leaders of black lives matter are communists and anticapitalists but he says that most supporters are not and that we really need to learn to speak to each otherfor that some conservatives are throwing beck under the bus blue lives matter accused beck of pandering to black lives matterbreitbartcom whose ceo was just named trump s campaign ceo didn t like beck s analogy either while glenn beck would like people to believe he s insightful critics of black lives matter don t need his hectoring wrote breitbart s lee stranahan who is also based in dallas the reason many people including black critics of black lives matter like milwaukee count sheriff david clarke say all lives matter in response to black lives matter is to reject the underlying notion of identity politics beck is not a supporter of trump is this a sign that the nevertrump movement can bring out a more rational rightwing conservatives are certainly in the midst of an existential crisis and many of them appear to be soul searching whether beck has dug deep enough to find his soul or whether he happened to get his meds right that day will be sorted out over time but for now it s refreshing to hear someone on the right sort of get itfeatured image via j pat carter with getty images ",
         "0"
        ]
       ],
       "shape": {
        "columns": 2,
        "rows": 20
       }
      },
      "text/html": [
       "<div>\n",
       "<style scoped>\n",
       "    .dataframe tbody tr th:only-of-type {\n",
       "        vertical-align: middle;\n",
       "    }\n",
       "\n",
       "    .dataframe tbody tr th {\n",
       "        vertical-align: top;\n",
       "    }\n",
       "\n",
       "    .dataframe thead th {\n",
       "        text-align: right;\n",
       "    }\n",
       "</style>\n",
       "<table border=\"1\" class=\"dataframe\">\n",
       "  <thead>\n",
       "    <tr style=\"text-align: right;\">\n",
       "      <th></th>\n",
       "      <th>text</th>\n",
       "      <th>class</th>\n",
       "    </tr>\n",
       "  </thead>\n",
       "  <tbody>\n",
       "    <tr>\n",
       "      <th>9614</th>\n",
       "      <td>serial liar and  democrat presidential hopeful...</td>\n",
       "      <td>0</td>\n",
       "    </tr>\n",
       "    <tr>\n",
       "      <th>18681</th>\n",
       "      <td>someone needs to educate ellen degeneres on pr...</td>\n",
       "      <td>0</td>\n",
       "    </tr>\n",
       "    <tr>\n",
       "      <th>15050</th>\n",
       "      <td>of course hillary manages to turn the question...</td>\n",
       "      <td>0</td>\n",
       "    </tr>\n",
       "    <tr>\n",
       "      <th>9421</th>\n",
       "      <td>several uncomfortable videos have surfaced thi...</td>\n",
       "      <td>0</td>\n",
       "    </tr>\n",
       "    <tr>\n",
       "      <th>20341</th>\n",
       "      <td>this is a good reminder of how important it is...</td>\n",
       "      <td>0</td>\n",
       "    </tr>\n",
       "    <tr>\n",
       "      <th>1467</th>\n",
       "      <td>the hosts of fox  friends just got their asses...</td>\n",
       "      <td>0</td>\n",
       "    </tr>\n",
       "    <tr>\n",
       "      <th>9140</th>\n",
       "      <td>what a bizarre exchange between a reporter and...</td>\n",
       "      <td>0</td>\n",
       "    </tr>\n",
       "    <tr>\n",
       "      <th>24627</th>\n",
       "      <td>this story corrects ninth paragraph to say th...</td>\n",
       "      <td>1</td>\n",
       "    </tr>\n",
       "    <tr>\n",
       "      <th>20753</th>\n",
       "      <td>the boston globe ran a sunday edition with a f...</td>\n",
       "      <td>0</td>\n",
       "    </tr>\n",
       "    <tr>\n",
       "      <th>37670</th>\n",
       "      <td>washington reuters  the united states on tuesd...</td>\n",
       "      <td>1</td>\n",
       "    </tr>\n",
       "    <tr>\n",
       "      <th>28085</th>\n",
       "      <td>washington reuters  president donald trump’s a...</td>\n",
       "      <td>1</td>\n",
       "    </tr>\n",
       "    <tr>\n",
       "      <th>17661</th>\n",
       "      <td>before keurig and other major companies commit...</td>\n",
       "      <td>0</td>\n",
       "    </tr>\n",
       "    <tr>\n",
       "      <th>9554</th>\n",
       "      <td>when comedian andy dick repeatedly slid his ha...</td>\n",
       "      <td>0</td>\n",
       "    </tr>\n",
       "    <tr>\n",
       "      <th>28174</th>\n",
       "      <td>washington reuters  the us house of representa...</td>\n",
       "      <td>1</td>\n",
       "    </tr>\n",
       "    <tr>\n",
       "      <th>11159</th>\n",
       "      <td>melania trump just accepted damages of approxi...</td>\n",
       "      <td>0</td>\n",
       "    </tr>\n",
       "    <tr>\n",
       "      <th>11961</th>\n",
       "      <td>she s pulling down a cool  million a year as t...</td>\n",
       "      <td>0</td>\n",
       "    </tr>\n",
       "    <tr>\n",
       "      <th>30311</th>\n",
       "      <td>washingtonnew york reuters  us presidentelect ...</td>\n",
       "      <td>1</td>\n",
       "    </tr>\n",
       "    <tr>\n",
       "      <th>24041</th>\n",
       "      <td>reuters  us president donald trump on tuesday ...</td>\n",
       "      <td>1</td>\n",
       "    </tr>\n",
       "    <tr>\n",
       "      <th>42861</th>\n",
       "      <td>tokyo reuters  the us navy carrier ronald reag...</td>\n",
       "      <td>1</td>\n",
       "    </tr>\n",
       "    <tr>\n",
       "      <th>5014</th>\n",
       "      <td>when you think of civil rights activists it s ...</td>\n",
       "      <td>0</td>\n",
       "    </tr>\n",
       "  </tbody>\n",
       "</table>\n",
       "</div>"
      ],
      "text/plain": [
       "                                                    text  class\n",
       "9614   serial liar and  democrat presidential hopeful...      0\n",
       "18681  someone needs to educate ellen degeneres on pr...      0\n",
       "15050  of course hillary manages to turn the question...      0\n",
       "9421   several uncomfortable videos have surfaced thi...      0\n",
       "20341  this is a good reminder of how important it is...      0\n",
       "1467   the hosts of fox  friends just got their asses...      0\n",
       "9140   what a bizarre exchange between a reporter and...      0\n",
       "24627   this story corrects ninth paragraph to say th...      1\n",
       "20753  the boston globe ran a sunday edition with a f...      0\n",
       "37670  washington reuters  the united states on tuesd...      1\n",
       "28085  washington reuters  president donald trump’s a...      1\n",
       "17661  before keurig and other major companies commit...      0\n",
       "9554   when comedian andy dick repeatedly slid his ha...      0\n",
       "28174  washington reuters  the us house of representa...      1\n",
       "11159  melania trump just accepted damages of approxi...      0\n",
       "11961  she s pulling down a cool  million a year as t...      0\n",
       "30311  washingtonnew york reuters  us presidentelect ...      1\n",
       "24041  reuters  us president donald trump on tuesday ...      1\n",
       "42861  tokyo reuters  the us navy carrier ronald reag...      1\n",
       "5014   when you think of civil rights activists it s ...      0"
      ]
     },
     "execution_count": 19,
     "metadata": {},
     "output_type": "execute_result"
    }
   ],
   "source": [
    "data.sample(20)\n"
   ]
  },
  {
   "cell_type": "code",
   "execution_count": 20,
   "id": "200f6459",
   "metadata": {},
   "outputs": [
    {
     "data": {
      "application/vnd.microsoft.datawrangler.viewer.v0+json": {
       "columns": [
        {
         "name": "index",
         "rawType": "int64",
         "type": "integer"
        },
        {
         "name": "class",
         "rawType": "int64",
         "type": "integer"
        }
       ],
       "ref": "4ff677fd-15fb-431c-9755-3b2bd2c413de",
       "rows": [
        [
         "0",
         "0"
        ],
        [
         "1",
         "1"
        ],
        [
         "2",
         "0"
        ],
        [
         "3",
         "1"
        ],
        [
         "4",
         "0"
        ],
        [
         "5",
         "1"
        ],
        [
         "6",
         "1"
        ],
        [
         "7",
         "0"
        ],
        [
         "8",
         "1"
        ],
        [
         "9",
         "1"
        ],
        [
         "10",
         "0"
        ],
        [
         "11",
         "0"
        ],
        [
         "12",
         "0"
        ],
        [
         "13",
         "1"
        ],
        [
         "14",
         "0"
        ],
        [
         "15",
         "0"
        ],
        [
         "16",
         "1"
        ],
        [
         "17",
         "1"
        ],
        [
         "18",
         "0"
        ],
        [
         "19",
         "1"
        ],
        [
         "20",
         "1"
        ],
        [
         "21",
         "0"
        ],
        [
         "22",
         "0"
        ],
        [
         "23",
         "0"
        ],
        [
         "24",
         "0"
        ],
        [
         "25",
         "0"
        ],
        [
         "26",
         "1"
        ],
        [
         "27",
         "1"
        ],
        [
         "28",
         "1"
        ],
        [
         "29",
         "0"
        ],
        [
         "30",
         "1"
        ],
        [
         "31",
         "0"
        ],
        [
         "32",
         "0"
        ],
        [
         "33",
         "1"
        ],
        [
         "34",
         "0"
        ],
        [
         "35",
         "0"
        ],
        [
         "36",
         "0"
        ],
        [
         "37",
         "0"
        ],
        [
         "38",
         "1"
        ],
        [
         "39",
         "0"
        ],
        [
         "40",
         "1"
        ],
        [
         "41",
         "0"
        ],
        [
         "42",
         "0"
        ],
        [
         "43",
         "0"
        ],
        [
         "44",
         "1"
        ],
        [
         "45",
         "1"
        ],
        [
         "46",
         "1"
        ],
        [
         "47",
         "0"
        ],
        [
         "48",
         "1"
        ],
        [
         "49",
         "0"
        ]
       ],
       "shape": {
        "columns": 1,
        "rows": 46962
       }
      },
      "text/plain": [
       "0        0\n",
       "1        1\n",
       "2        0\n",
       "3        1\n",
       "4        0\n",
       "        ..\n",
       "46957    0\n",
       "46958    1\n",
       "46959    1\n",
       "46960    0\n",
       "46961    0\n",
       "Name: class, Length: 46962, dtype: int64"
      ]
     },
     "execution_count": 20,
     "metadata": {},
     "output_type": "execute_result"
    }
   ],
   "source": [
    "balance['class']  # if your label column is named 'class'"
   ]
  },
  {
   "cell_type": "code",
   "execution_count": 21,
   "id": "a9bffca9",
   "metadata": {},
   "outputs": [],
   "source": [
    "balance.rename(columns={'class': 'label'}, inplace=True)"
   ]
  },
  {
   "cell_type": "code",
   "execution_count": 22,
   "id": "fdd0d79e",
   "metadata": {},
   "outputs": [
    {
     "data": {
      "text/plain": [
       "<Axes: xlabel='label', ylabel='count'>"
      ]
     },
     "execution_count": 22,
     "metadata": {},
     "output_type": "execute_result"
    },
    {
     "data": {
      "image/png": "[encoded data removed]",
      "text/plain": [
       "<Figure size 640x480 with 1 Axes>"
      ]
     },
     "metadata": {},
     "output_type": "display_data"
    }
   ],
   "source": [
    "sns.countplot(data=balance, x='label', order=balance['label'].value_counts().index)"
   ]
  },
  {
   "cell_type": "code",
   "execution_count": 23,
   "id": "40217c68",
   "metadata": {},
   "outputs": [],
   "source": [
    "def clean_text(text):\n",
    "    text = text.lower()\n",
    "    text = re.sub(r'\\[*?.\\]', '', text)\n",
    "    text = re.sub(r'https?://\\S+|www\\.\\S+', '', text)\n",
    "    text = re.sub(r'\\s+', ' ', text)\n",
    "    text = re.sub(r'[%s]' % re.escape(string.punctuation), '', text)\n",
    "    text = re.sub(r'\\n', '', text)\n",
    "    text = re.sub(r'\\w*\\d\\w*', '', text)\n",
    "    return text\n",
    "\n"
   ]
  },
  {
   "cell_type": "code",
   "execution_count": 24,
   "id": "f2e10a3c",
   "metadata": {},
   "outputs": [],
   "source": [
    "data['text'] = data['text'].apply(clean_text)"
   ]
  },
  {
   "cell_type": "code",
   "execution_count": 25,
   "id": "0cd89d57",
   "metadata": {},
   "outputs": [
    {
     "data": {
      "application/vnd.microsoft.datawrangler.viewer.v0+json": {
       "columns": [
        {
         "name": "index",
         "rawType": "int64",
         "type": "integer"
        },
        {
         "name": "text",
         "rawType": "object",
         "type": "string"
        },
        {
         "name": "class",
         "rawType": "int64",
         "type": "integer"
        }
       ],
       "ref": "1a0ab191-176c-4863-9f47-71a3c33d3b0d",
       "rows": [
        [
         "17248",
         "this administration has to be the most bumbling and clueless one ever they ve just incentivized kidnapping and holding hostage anyone and everyone the terrorists think they can get a ransom out of brilliant general john r allen on ransom for hostages what is hard to prove is how many americans have not been kidnapped as a result of the fact that the enemy knows they will not get a penny from us said gen john r allen who recently retired as the top commander in afghanistan the fact that there are americans in the region who were never taken because they knew there was no advantage to doing so needs to be factored in the obama administration was accused wednesday of giving terrorists an incentive to kidnap as it unveiled a hostage policy overhaul allowing families of us hostages to pay ransom and allowing the us government to help families communicate with captors this doesn t fix anything rep duncan hunter rcalif a leading critic of the administration s hostage policy told fox news the money that we re going to be paying isis is going to be used to buy arms and to buy equipment to fight americans and to fight the iraqis but the white house said the changes are being unveiled with the families and victims in mind we re not going to abandon you we re going to stand by you obama said of hostages families speaking at the white house on wednesdaythe policy review was formally released shortly before noon and includes a host of changes beyond the clarifications on ransom discussions notably the creation of a new bureaucratic structure for handling hostage casesthe white house plans to establish a hostage recovery fusion cell responsible for coordinating the recovery of hostages a hostage response group responsible for coordinating hostage policies and the position of special presidential envoy for hostage affairs obama said this is being done to sync up various efforts citing past coordination problemsread more fox news",
         "0"
        ],
        [
         "10734",
         "chaos broke out after legal americans and illegal aliens clashed at a town hall in californiathe los angeles times put their spin on what happened to make it seem as though trump supporters were the trouble they downplayed the antifa anarchist in attendance and other proillegal people it just didn t fit their narrative one of the other issues not addressed in the la times article is that these town halls have reportedly been used to teach illegals how to escape deportation and how to work the system antiillegal protesters aka american tax payers have characterized it as teaching people who are in the country illegally how to avoid deportation and get federal benefits federal benefits and rights they have no rights and shouldn t be getting any federal benefits notice how they call the illegal aliens immigrants congressman holds town hall to explain illegal immigrants rightsthe majority of calls into rep lou correa s orange county congressional office are about immigration worries and what the trump administration s enforcement policies mean for correa s many latino constituents there s a lot of fear in my district he saidso the freshman democrat has held seven town halls all focused on immigration and explaining immigrants rights they ve been peaceful with representatives from groups such as the coalition for humane immigrant rights of los angeles chirla and the mexican consulate invited to help correa answer questionsbut as the crowd of about people gathered at santa ana s delphi center on tuesday evening correa knew this time would be different we had some people there probably a dozen of them that immediately had signs that were not complimentary to yours truly he saidtwo women arguing about immigration issues had already gotten into an altercation outside the town hall they were cited for assault and battery and barred by police from going insidecorrea told the crowd inside he would give a short presentation about immigration policy coming out of washington and then have a questionandanswer sessionabout a dozen people were having none of it some of the most tense moments came when correa started talking about green card holders who served in the us military and have since been deported ma am i m trying to be courteous here he said as a woman kept speaking over him as soon as i started speaking it became very clear they were not going to let me speak correa said wednesday they just got louder and louder video of the town hall posted on social media shows people in the crowd yelling americans first and illegals have no rights correa repeatedly asks them to let him speak are you guys going to cooperate or am i going to have to ask you to leave he saidabout minutes in as some in the crowd continued to shout and their attention turned to berating a group of counterprotesters correa declared the meeting over",
         "0"
        ],
        [
         "44492",
         "taipei reuters taiwan has appointed as premier william lai the mayor of its southern city of tainan president tsai ingwen said on tuesday as she moved to shore up declining public support a reshuffle to replace the premier had been anticipated for months as tsai s approval ratings dropped below percent by august a private foundation survey showed from nearly percent soon after her inauguration we have a clear direction for our reforms tsai told a news briefing premier lai will lead the administrative team iron out any problems and take us forward lai s appointment comes a day after the resignation of lin chuan the premier since tsai took office in may frozen ties with china a massive power outage in the tech hub for apple inc and other global firms a backlash over pension reforms and a revised labor rule are among the controversies that put pressure on tsai to replace lin as she prepares for her reelection campaign lai a harvard graduate was a lawmaker for four consecutive terms and a whip of tsai s democratic progressive party dpp caucus before becoming in the mayor of tainan home to the plants of taiwan semiconductor manufacturing co tsmc and other technology firms i ll redouble our efforts to reform and transform for the benefit of the people of taiwan lai said however lai s premiership would not necessarily help the president improve her ratings some analysts have said ",
         "1"
        ],
        [
         "3855",
         "democrats who are offering to work with donald trump should cease and desist right now because he has no interest in compromisethroughout his campaign trump launched petty insults and divisive rhetoric in fact that s all he did for a year and a half now he all of a sudden claims that he wants unitywell that s bullshit and top trump cheerleader newt gingrich admitted as much during an appearance with trump chief propagandist sean hannityafter congratulating each other for successfully screwing over america gingrich insulted republicans who refused to blindly support trump the little whiny sniveling negative cowards who were never trumpers are beneath our paying attention to them let them drift off into the ashbin of history while we go ahead and work with donald trump and with the house and senate republicans to create a dramatically new future yeah a future where oppression hate racism and sexism reignbut gingrich also blasted any semblance that trump actually gives a damn about unity by promising hannity that democrats are going to be disappointed if they actually think trump will be a reasonable man to work with their technique will be to say oh be reasonable don t push too hard don t force the issue find a compromise with democrats maybe he shouldn t name one of the justices who are conservative who s on his list maybe he should find a nice moderate acceptable to the democrats down that road is a disaster and so we have to be aware that the danger is not that they re going to actively fight the danger is that they re going to opt for honeyed words of subversion that undermines the entire movement to make america great again here s the video via youtubein other words trump and his republican supporters intend to jam through whatever policies they want whether americans like it or notfrankly democrats should treat donald trump the same way republicans treats president obama over the last eight years republicans should not get to sabotage a democratic presidency and then expect democrats to play ball when one of their own gets in the white housegingrich went on to say that trump could offer an infrastructure program that could get democratic support which is funny considering president obama offered the same kind of program and republicans ruthlessly opposed it being reasonable did not help democrats in this election and it won t help them two and four years from now when new elections occur there needs to be consequences for the way republicans have behaved the last eight years that means giving them more than a taste of their own medicinefeatured image via screencapture",
         "0"
        ],
        [
         "5437",
         "the founding fathers are rolling in their gravesduring an interview with leslie stahl on minutes which will air on sunday evening donald trump once again blamed president obama for isis and vowed to declare war on the terrorist organization since obama will not we re going to declare war against isis trump said we have to wipe out isis there s just one big problem with that promise it s blatantly unconstitutionalfor some reason every republican in america seems to think that president obama has the power to declare war and that means none of the republicans who proudly carry pocket versions of the constitution with them have never actually read itarticle i section clearly states that only congress has the power to declare war the congress shall have power to declare war grant letters of marque and reprisal and make rules concerning captures on land and water that s what the constitution saysbut just like fox news host jeanine pirro who somehow became an attorney and judge said on friday when she whined about president obama not declaring war on isis trump seems to think the president has that powerit s asinine and it is something most people learn in middle school if he wants to blame anyone for not declaring war he should blame republicans in congress it s their job and if they are really that scared of isis they should do itoh but there s morepresident obama can only do so much to fight isis without a declaration of war from the lazy bums who control congress right now and he s doing it by ordering airstrikes sending military advisers gathering intelligence authorizing drone strikes and working with our allies all of this is combating isis to the point where they are close to being forced underground and their recruiting and finances are sufferingand to hear trump talk that s all he plans to do as well trump avoided saying he would use troops in a ground war against isis but bragged that his intelligence network would somehow be stronger even though the american intelligence apparatus is the strongest it has ever been i am going to have very few troops on the ground trump said we re going to have unbelievable intelligence which we need which right now we don t have we don t have the people over there trump also seems to think beating isis is as easy as surrounding them as if they are a country and he claims he ll get nato involved we re going to have surrounding states and very importantly get nato involved because we support nato far more than we should frankly because you have a lot of countries that aren t doing what they re supposed to be doing we have to wipe out isis first of all isis is present in several countries you can t just surround them it s more complicated then that beating isis isn t going to happen in days weeks or even months it s going to take a long time we are talking about an organization that is scattered aroundand no american president can just force nato to do anything and threatening to pull money or support from nato just because you aren t getting your way isn t how international cooperation works that s how spoiled brats actmike pence then chimed in by blaming president obama and hillary clinton for isis the larger issue here is declining american power in the world i truly do believe that history teaches that weakness arouses evil and whether it be the horrific attack in france the inspired attacks here in the united states the instability in turkey that led to a coup i think that is all a result of a foreign policy of hillary clinton and barack obama that has led from behind and that has sent an inexact unclear message about american resolve here s the video via youtubebut president obama did not create the atmosphere in the middle east that allowed isis to rise in the first place that responsibility falls at the feet of president bush who pushed for war in iraq and the republicancontrolled congress that approved itthe unnecessary war with iraq destabilized the region and created a power vacuum that isis took advantage of plus it was president bush who signed the status of forces agreement with iraq that led to the complete withdrawal of troops from iraqso not only does trump fail at american government he fails at american history toofeatured image via screenshot",
         "0"
        ],
        [
         "25527",
         "phoenix reuters police fired pepper spray to disperse protesters outside a rally by us president donald trump in phoenix arizona on tuesday after being pelted with rocks and bottles police said police have not given an estimate of the number of protesters but arizona media said there were several thousand police did not say whether the pepper spray was used on pro or antitrump protesters or both “people in the crowd have begun throwing rocks and bottles at police” phoenix police department spokesman sergeant jonathan howard said “police have responded with pepper balls and oc oleoresin capsicum spray in an attempt to disperse the crowd and stop the assaults” he said four people were arrested during the protest phoenix police chief jeri williams said during a news conference “we had tens of thousands of people downtown peacefully exercising their first amendment rights” williams said “what’s unfortunate is that a very small number of individuals chose criminal conduct” police called on the crowds to disperse many of the protesters quit the scene while dozens of police in riot gear and carrying shields sought to clear remaining protesters from the downtown area the phoenix fire department said it treated people for heat exhaustion and dehydration at the convention center twelve people were taken to the hospital ",
         "1"
        ],
        [
         "34481",
         "new york reuters it may be too close to call between democratic presidential candidates hillary clinton and bernie sanders in the iowa caucuses on monday but the senator from vermont was the clear winner on social media sanders maintained his strong social media presence during the caucuses commanding the majority of the twitter mentions over clinton sanders was mentioned over times on twitter during the caucus while clinton was mentioned times according to social media sentiment analytics firm brandwatch clinton the democratic frontrunner and former secretary of state was in a virtual tie with sanders with more than percent of iowa precincts reporting sanders a selfdescribed democratic socialist amassed the largest number of new facebook followers of any candidate in the race during monday the social network said topping republican presidential frontrunner donald trump by to clinton had the third most new followers with liking her page in the past day among republicans trump finished second in the caucuses to ted cruz the us senator from texas sanders resonated with millennial social media users as well social media platform yik yak which is particularly popular among younger social media users said sanders was mentioned in percent of all yaks that discussed a democratic candidate during the caucuses while social media buzz does not necessarily translate into votes it is a good indication of the interest level surrounding a candidate the iowa contest was the first of the statebystate battles to pick nominees for the nov election to succeed president barack obama google trends data also showed strong interest in sanders in iowa sanders was the topsearchedfor democratic candidate on the search engine with percent of queries relating to the democratic candidates clinton commanded percent of queries even so trump was the top mostsearched for presidential candidate overall according to the most recent google search data available reporting by anjali athavaley additional reporting by amy tennery editing by marguerita choy and peter cooney sap is the sponsor of this coverage which is independently produced by the staff of reuters news agency",
         "1"
        ],
        [
         "32259",
         "reuters republican white house hopeful donald trump is seeking million in damages from a fired former employee shedding light on a campaign that has at times seen highprofile exits and internal fights spill over into public view trump in may started arbitration proceedings against sam nunberg a former adviser who was fired in accusing him of violating a confidentiality agreement according to a court filing obtained by reuters “he has a confidentiality agreement which he has repeatedly breached and we’ve taken action to enforce it” said alan garten general counsel with the trump organization who is representing the campaign in the arbitration nunberg did not respond to a request for comment the flareup comes after a period in which campaign infighting led trump to fire some top aides including national political director rick wiley and campaign manager corey lewandowski other staffers have separately resigned from trump’s campaign trump’s legal conflicts which also include a lawsuit over his trump university realestate seminars have at times distracted public attention from his campaign nunberg in court documents dated tuesday accused trump of starting arbitration proceedings to retaliate against him for switching his support to rival presidential hopeful ted cruz during the republican primaries cruz dropped out of the race in early may garten said the suit was unrelated nunberg also said trump tried to use the arbitration to “cover up media coverage of an apparent affair” between two members of his presidential campaign staff “the trump campaign is attempting to bring a frivolous and retaliatory arbitration proceeding against me essentially to punish me and shut me up” nunberg said in an affidavit accompanying his petition to halt the arbitration proceedings the petition was filed on tuesday in new york state court in manhattan the trump campaign fired nunberg in august after the discovery of facebook posts that critics deemed racist nunberg at the time denied he wrote the posts he said in the court filings that trump accused him of being the source for a new york post story in may that recounted a public argument between lewandowski who was then with the campaign and hope hicks trump’s spokeswoman in the affidavit nunberg said the argument was part of an “sordid and apparently illicit affair” between the two he denied being the source for the new york post story saying the argument occurred in public and others saw it garten called the allegation “categorically untrue” and said nunberg had recently asked for his job back “this is an individual who time and time again has demonstrated that he will say anything that is outrageous regardless of whether it’s factually accurate to get his name out there and create trouble” garten said hicks and lewandowski did not respond to requests for comment ",
         "1"
        ],
        [
         "11055",
         "here we go again another activist judge has shut down an effort by president trump to protect americans a president s jobhow do we know judge orrick of california is an activist well he raised for obama that should tell you all you need to know about this guy except one more huge thinghe s the judge who blocked the planned parenthood videosa federal judge late friday granted a temporary restraining order against the release of recordings made at an annual meeting of abortion providers the injunction is against the center for medical progress the group that has unveiled planned parenthood s participation in the sale of organs harvested from aborted childrenjudge william h orrick iii granted the injunction just hours after the order was requested by the national abortion federationorrick was nominated to his position by hardline abortion supporter president barack obama he was also a major donor to and bundler for president obama s presidential campaign he raised at least for obama and donated to committees supporting him read more the federalistbrilliant legal scholar and democrat jonathan turley had this to say on twitterthe fact is that sanctuary cities violate our constitution cornell lawcalifornia judge blocks trumpa federal judge in san francisco has blocked a trump administration order to withhold funding from communities that limit cooperation with us immigration authoritiesus district judge william orrick issued the temporary ruling tuesday in a lawsuit over the executive order targeting socalled sanctuary cities the decision will stay in place while the lawsuit moves through courtthe republican president s administration and two california governments that sued over the order disagreed about its scopesan francisco and santa clara county argued that it threatened billions of dollars in federal fundingbut an attorney for the justice department chad readler said at a recent court hearing that it applied to a limited set of grantssome of judge orrick s comments are shockingjudge orrick said trump s order by its plain language attempts to reach all federal grants not merely the three mentioned at the hearing the rest of the order is broader still addressing all federal funding and if there was doubt about the scope of the order the president and attorney general have erased it with their public comments federal funding that bears no meaningful relationship to immigration enforcement cannot be threatened merely because a jurisdiction chooses an immigration enforcement strategy of which the president disapproves note that once again activist judges use public comments just like they did in the prior block to an executive order read more ",
         "0"
        ],
        [
         "35750",
         "brasilia reuters the lower house of brazil s congress will delay a vote on a bill trimming social security benefits until feb speaker rodrigo maia said on thursday pushing a decision on the cornerstone of president michel temer s fiscal reforms into an election year temer had said he hoped for a vote by next week but he has struggled to rally lawmaker support for the unpopular pension cuts which many investors consider essential to reining in brazil s surging public debt brazil s currency the real weakened to a sevenmonth low of per us dollar and the benchmark bovespa stock index fell percent after maia s comments investors fear that failure to streamline social security could weaken brazil s recovery from a deep economic downturn forcing the central bank to raise interest rates from an alltime low and potentially triggering new sovereign rating downgrades in this raises the possibility that the reform will not be approved next year given political uncertainty surrounding the presidential elections said samar maziad a senior analyst at moody s investors service calling the delay credit negative finance minister henrique meirelles said he plans to meet next week with credit rating agencies to discuss the fate of the legislation adding that he hoped it could be enacted by march the bill would require brazilians to work longer before retiring and cut generous pensions for publicsector employees lawmakers may be more reluctant to back that as elections approach in october but maia suggested they would rise to the challenge even though is an election year the fiscal crisis is so big that it will be possible to get pension reform approved he said temer s lastditch effort to sell the bill this year was cut short on wednesday when he had to fly to sao paulo for surgery to treat a narrowing of his urethra his office said the surgery was successful and that he would remain in the hospital until friday to recover but it forced temer to cancel meetings to muster votes it became clear this week that temer did not have the threefifths super majority or votes needed to pass the bill in the lower house of congress while ministers were still working to gather more votes the government s chief whip in the senate stunned the administration on wednesday by saying the vote had to be put off to february ",
         "1"
        ],
        [
         "33753",
         "new york reuters former connecticut governor john rowland on friday urged a federal appeals court to overturn his conviction on charges that the republican tried to use sham contracts to hide his political work in two us congressional campaigns saying prosecutors went too far in applying the law the us circuit court of appeals in new york heard arguments over whether rowland used illegal consulting contracts for candidates who in and ran unsuccessfully for the house of representatives rowland who was sentenced to years in prison in march is free on bail during his appeal he had previously spent months in prison following his guilty plea to separate charges arising from his acceptance of illegal gifts while he was governor rowland resigned from office that year andrew fish rowland’s lawyer told the appeals court on friday that a draft contract rejected by one of the candidates mark greenberg did not constitute a falsified document “frankly the government saying that a contract proposal is a falsified document makes little sense” fish said he said prosecutors went too far in trying to criminalize rowland’s conduct under the sarbanesoxley act of a governance law passed after enron corp’s collapse that prohibits falsifying documents to hide financial wrongdoing assistant us attorney liam brennan countered that the case was in the “heartland” of the statute “this is creating a fake record to have in the file in case there is an investigation” he said a federal jury in new haven found rowland guilty in march on charges of conspiracy falsifying records in a federal investigation causing false statements to be made to the federal election commission and causing illegal campaign contributions prosecutors said rowland sought to advise greenberg who testified that in he rejected rowland’s offer and a contract to conceal the exgovernor’s role rowland was also accused of negotiating a deal to work for a nursing home company owned by brian foley the husband of congressional candidate lisa wilsonfoley and receive intended to compensate him for advising her campaign wilsonfoley and foley pleaded guilty to conspiring to make illegal campaign contributions wilsonfoley received a fivemonth prison term while foley was sentenced to three months in a halfway house ",
         "1"
        ],
        [
         "1033",
         "of all the media networks to expose donald trump the last one america would expect it to be is fox news the conservative network is a known favorite of trump s and is possibly the only mainstream channel to continue perpetuating trump s lies and groveling at his feet but the network has just aired an interview that contains some truly incriminating informationaccording to legal experts trump put himself in jeopardy and furthered the potential for obstruction of justice when fox host ainsley earhardt asked trump about his recent admission that he did not tape his conversations with former fbi director james comey even though trump had previously suggested that he did of course trump took the bait like the idiot he is and incriminated himself without even realizing it this was part of trump s response when earhardt asked him why he lied i didn t tape and i don t have any tape and i didn t tape but when he found out that there may be tapes out there whether it s governmental tapes or anything else and who knows i think his story may have changed i mean you ll have to take a look at that because then he has to tell what actually took place at the events and my story didn t change my story was always a straight story my story was always the truth but you ll have to determine for yourself whether or not his story changed but i did not tape when earhardt congratulated trump for finding such a smart way to make sure he stayed honest in those hearings trump made it even worse he replied well it wasn t very stupid i can tell you that according to bloomberg trump s lies about the tapes could mean major legal woes for the undeserving potus bloomberg reportedthe tweets targeting comey could be relevant to an obstruction investigation even if the tapes don t actually exist said julie o sullivan a former federal prosecutor who worked on the team investigating bill and hillary clinton during the whitewater inquiry it s basically trying to tell comey don t say anything said o sullivan now a law professor at georgetown universityeverything that trump says now whether it s on twitter or in an interview can be used against him in the russia scandal trump s ego got the better of him during this interview and fox news unknowingly used it against him trump basically walked into this one and he only has his big mouth to thank you can watch the interview belowfeatured image via pool getty images",
         "0"
        ],
        [
         "9331",
         "on tuesday the grammys announced their nominations for the awards shows and there are some notable additions and snubs that make it look like the recording academy is getting into the business of identity politicsfor the first time in years no country music acts were nominated for the top awards record of the year song of the year and album of the year instead the grammys took a sharp turn towards honoring hiphop rb and funk for the top awardsaccording to buzzfeed the night s biggest category album of the year not only has majority black nominees but also has no white male nominees for the first time in yearsthis is also the first year the record of the year category is only people of color with the exception of justin bieber who is featured on luis fonsi daddy yankee s despacito the best new artist category is also majority black this year with sza khalid and lil uzi vert all gaining nominations sza is also this year s most grammynominated womanrapper jayz and pop singer bruno mars got nods in all three top categories while rappersinger childish gambino aka donald glover rapper kendrick lamar and the coupling of luis fonsi daddy yankee got nods in two of the top three categories meanwhile rapper logic got nominated for his antisuicide song for song of the yearobjectively speaking jayz mars gambino lamar fonsi and yankee put out some great product this past year and with any awards show there are going to be some snubs however it appeared that ed sheeran lady gaga pink kelly clarkson kesha and miranda lambert were all looked over from the top categories because of concerns about white supremacy instead lorde the new zealand singer and julia michaels the singer from iowa were the only pop acts to be nominated for the top categories washington examinersince rap seems to have surpassed country in popularity well at least according to the grammys in an effort to address white supremacy perhaps it s worth taking a look at the black rapper snoop dogg who shamelessly promotes killing our president and violence against his supporters paul joseph watson made a brilliant video that exposes how gangster rap increases racism in america racist rapper snoop dogg language warning ",
         "0"
        ],
        [
         "16455",
         "col oliver north lists the irrefutable facts that confirm that obama s policies led to the rise of isis please watch and share ",
         "0"
        ],
        [
         "8944",
         "donald trump has revived the birther conspiracy theory but this time he has targeted a fellow republican ted cruzcruz has begun creeping up in some state polls particularly in evangelicalheavy iowa so as he has done in the past trump went on the attackdonald trump said in an interview that rival ted cruz s canadian birthplace was a very precarious issue that could make the texas senator vulnerable if he became the republican presidential nominee republicans are going to have to ask themselves the question do we want a candidate who could be tied up in court for two years that d be a big problem trump said when asked about the topic it d be a very precarious one for republicans because he d be running and the courts may take a long time to make decision you don t want to be running and have that kind of thing over your head trump added i d hate to see something like that get in his way but a lot of people are talking about it and i know that even some states are looking at it very strongly the fact that he was born in canada and he has had a double passport trump is easily the most visible proponent of the birther conspiracy theory before the election trump made numerous national television appearances demanding that president obama release his birth certificate trump even claimed that he had enlisted rightwing arizona sheriff joe arpaio to send a cold case posse to hawaii to investigate obama s pastthe reality tv star even made a bizarre video requesting obama s college records in order for the hawaiianborn president to prove his citizenshipsenator cruz s mother was a us citizen when she gave birth to him in calgary canada which easily fulfills the requirement for someone to be a naturalborn citizen of the united states while cruz s ideas may be repellent to the majority of citizens he is easily eligible to be president of the united statesafter years of trying to delegitimize president obama through two terms it is odd to see the tactic turned against the right s own candidates like so much of their rhetoric it resembles frankenstein building his monster then watching it turn on him instead of his enemiesfeatured image via flickr",
         "0"
        ],
        [
         "16103",
         "fbi agents are coming forward now to voice their frustrations and concerns about fbi director james comey s inept policing of the fbi specifically the clinton email investigation was held up by comey standing in the way one of the specifics of the investigation that hindered it was that the clinton house was never searched the fbi always does a search of a household in an investigation the new york fbi agents working the case were livid at the stonewalling in the clinton case fbi agents are now lawyering up and speaking up to tell what they know this is a textbook case where a grand jury should have convened but was not that is appalling an fbi special agent who has worked public corruption and criminal cases said of the decision we talk about it in the office and don t know how comey can keep going did anyone else think this exact same thingthe agent was also surprised that the bureau did not bother to search clinton s house during the investigation we didn t search their house we always search the house the search should not just have been for private electronics which contained classified material but even for printouts of such material he said there should have been a complete search of their residence the agent pointed out that the fbi did not seize devices is unbelievable the fbi even seizes devices that have been set on fire another special agent for the bureau that worked counterterrorism and criminal cases said he is offended by comey s saying we and i ve been an investigator the idea that the clintonemail case didn t go to a grand jury is ridiculous according to washington dc attorney joe digenova more fbi agents will be talking about the problems at bureau and specifically the handling of the clinton case by comey when congress comes back into session and decides to force them to testify by subpoena people are starting to talk they re calling their former friends outside the bureau asking for help we were asked to day to provide legal representation to people inside the bureau and agreed to do so and to former agents who want to come forward and talk comey thought this was going to go away the most important thing of all is that the agents have decided that they are going to talk read more daily caller",
         "0"
        ],
        [
         "12765",
         "a longtime republican financial backer who attended a new york fundraiser held by chris christie for donald trump thursday tells the daily caller that most republican donors are on board with trump yet house speaker paul ryan is hoping trump loses so he can run in four yearsthe source tells thedc that the reason ryan has not been coming out strongly for trump is because of his desire to run in four years former republican presidential nominee mitt romney who has been fervently antitrump also wants to run in four years according to the longtime republican backer romney will be in daily calleron friday the clinton campaign washington post released video of donald trump bragging about grabbing pssy in an off the record conversation with billy bushthe los angeles times reported hours after audio was released of donald trump making sexually suggestive comments about a woman that house speaker paul d ryan castigated trump and said he would no longer attend their scheduled event on saturday i am sickened by what i heard today ryan said in a statement women are to be championed and revered not objectified i hope mr trump treats this situation with the seriousness it deserves and works to demonstrate to the country that he has greater respect for women than this clip suggests paul ryan was scheduled to campaign with trump for the first time on saturday it never happenedon sunday donald trump crushed hillary clinton in one of the most lopsided debates in political history it was a brilliant performance trump made everyone forget about the wapo tapeon monday paul ryan sabotaged donald trump again and changed the political narrativeryan announced he will not campaign with or defend donald trump for the rest of the election cycle this was an odd statement considering paul ryan has not once defended donald trump this year he s only attacked trump the recordsetting republican primary winnerliberty university president jerry falwell jr suggested today that gop elites may have leaked the videodansenor writing about billybush tapes hearing your wife ex nbc got a hold of tapes and you pushed the story for your boss comment mike cernovich cernovich october s paul ryan caught on tape cozying up to rapist bill clintonnow this there are rumors that paul ryan s close advisor nevertrumper dan senor is behind the leaksi spoke with a reporter tonight who believes the reports are true it was gop elites who released the audio to the washington postdan senor has been pushing the wapo audio all day he is determined to keep the story alive and he s a republican via gateway pundit",
         "0"
        ],
        [
         "5304",
         "when donald trump first announced that he was running for the white house no one took him seriously we all laughed and joked about it thinking it might be entertaining to watch his train wreck of a campaign for a few months before the other candidates left him in the dust we watched him make racist misogynistic hateful remarks and didn t think he would last but here we are he managed to become the republican nominee recognizing that we need to do something about that president barack obama has a message for americansin an interview with today s savannah guthrie obama doubled down on the dangers of trump getting into the white house several months ago it seemed that obama was brushing off trump s campaign just like the rest of us but that has all changed as we near the general election when asked if trump could win obama didn t sugarcoat it for americans when he said anything is possible obama s comments didn t come without a few jabs at the donald as the president hammered the business mogul for being a pathological liar obama said he is someone that likes attention he surprised himself that he got this far as far as the threat of living under a president trump obama said i ve seen all kinds of crazy stuff happen but overall stressed that america is resilient but just because america might survive years of donald trump does not mean that we should give him the chance to undo all of our progress and threaten our country s future obama stressed the importance of electing democratic nominee hillary clinton in november and urged all democratic voters to take this election very seriously obama said so my advice to democrats and i don t have to give this advice to hillary clinton because she already knows it is you stay worried until all those those votes are cast and counted because you know one of the dangers in an election like this is that people don t take the challenge seriously they stay home and we end up getting the unexpected you can watch obama s interview belowobama s comments to voters reflect the tone of the democratic national convention this week as voters are urged to stay hungry and keep working hard right up to november for the voters that are upset that vermont senator bernie sanders was not selected as the nominee obama s message is especially for them we can t afford to be upset we can t afford to be so upset that we sit this election out the stakes are too high we cannot give our country to a sociopath and bigot like donald trump because he will destroy it regardless of who you voted for in the primaries we need to move on and do everything to prevent trump from getting into the white house every vote for clinton countsfeatured image is a screenshot",
         "0"
        ],
        [
         "40433",
         "manila reuters three russian warships including two antisubmarine vessels docked in manila on friday to unload what navy officials said was weaponry and military vehicles donated to the philippines as part of a new defense relationship it was the third port visit this year by russian warships as part of philippine president rodrigo duterte s moves to engage closely with moscow an archrival of manila s former colonial master and closest defense ally the united states the load included assault rifles a million rounds of ammunition and army trucks russian and filipino navy officials said we would do our best to make this port call a significant contribution indicating friendly ties and relations between two nations in the interest of security and stability in this region said eduard mikhailov deputy commander of russia s pacific fleet flotilla the visit was timed to coincide with the arrival next week of russian defence minister sergei shoigu who is attending a regional defense meeting and us counterpart jim mattis a philippine navy spokesman said russia and the philippines are expected to sign a security deal on military logistics next week ",
         "1"
        ],
        [
         "35322",
         "seoul reuters china has resumed its ban on group tours into south korea south korea s inbound travel agency said on wednesday an issue that erupted last year as part of china s retaliation over the south s deployment of a us antimissile system i was told from my boss this morning that our chinese partners based in beijing and shandong said they won t send group tourists to south korea as of january the official from naeil tour agency told reuters by phone the move was probably due to visa refusals by chinese authorities the official said the move came despite south korean president moon jaein s recent visit to china which showed some signs of a thaw in relations since the row over the antimissile system broke out last year ",
         "1"
        ],
        [
         "16265",
         "some of the key regulations are thought to be with energy regulations obamacare and other items trump has at the top of his list like dealing with illegal aliens all in all napolitano says executive orders will crush the obama legacy thank goodness ",
         "0"
        ],
        [
         "21007",
         "the apple doesn t fall far from the tree chelsea clinton is pregnant with her second child so in typical progressive feminist fashion chelsea has abortion on her mind in a new interview chelsea clinton the daughter of proabortion presidential candidate hillary clinton says she left the baptist church at the age of because it has a strongly prolife position opposing abortionsclinton made the comment at a recent fundraiser for hillary clinton in an attempt to address evangelicals who question her mother s faith in god she said she was upset when teachers in a sunday school class talked about the wrongness of abortion my mother is very deeply a person of faith chelsea said it is deeply authentic and real for my mother and it guides so much of her moral compass but also her life s work i recognized that there were many expressions of faith that i don t agree with and feel ar quite antithetical to how i read the bible chelsea said but i find it really challenging when people who are selfprofessed liberals kind of look askance at my family s history via life newshmmm six years old i wonder if that was about the age when chelsea referred to the secret service as pigs as we said earlier the apple doesn t fall far from the tree ",
         "0"
        ],
        [
         "9093",
         "jokenewsafter record cold temperatures were reported across the united states president trump took to twitter to mock the global warming scam supported by shyster politicians like al gore and barack obama who were poised to extort trillions of us taxpayer dollars to fund their global climate change scamtrump tweeted in the east it could be the coldest new year s eve on record perhaps we could use a little bit of that good old global warming that our country but not other countries was going to pay trillions of dollars to protect against bundle up in the east it could be the coldest new year s eve on record perhaps we could use a little bit of that good old global warming that our country but not other countries was going to pay trillions of dollars to protect against bundle up donald j trump realdonaldtrump december backed up president trump s tweet with this reportcold air rivaling that of the past years for late december and early january will make it painful to be outdoors and may lead to damage in the central and the northeastern united statesaccuweather realfeel temperatures are projected to be below zero over much of the northeast and well below zero in much of the midwestin the coming days realfeel temperatures to degrees below zero will be common in the northern tier realfeel temperatures may dip as low as to degrees below zerofrom the hillformer jersey shore cast member vinny guadagnino shot back at president trump on thursday after trump said the united states could use some good old global warming to heat up cold states i think climate change is more complex than global warming will make it hotter guadagnino tweeted to trump it has to do with disruptions of atmospheric conditions ocean patterns jet streams and s t like that jersey shore cast member schools trump on climate change the hill thehill december former mtv reality star later responded to twitter users who mocked him for replying to trump asking why does having a summer shore house automatically make yo stupid per my last tweet about global warming and ppl saying it s bad when someone from jersey shore educates the president etci get the joke but why does having a summer shore house automatically make u stupidno smart ppl ever partied with friends on weekends vinny guadagnino vinnyguadagnino december hill then attempted to prove how smart vinny guadagnino s was because other democrats also mocked president trump s tweetdemocratic lawmakers also slammed trump following the tweetsen elizabeth warren dmass tweeted that the us has a moral obligation to combat climate change and sen sheldon whitehouse dri blasted the tweet as embarrassing trump has denied that global warming exists in the past claiming it was created by and for the chinese in order to make us manufacturing noncompetitive here s a closer look at the guy who the hill claims schooled president trump on phony global warming on twitter the energizer bunny follow me on vinguadagnino for more inspiration in a chipmunk voice vinny guadagnino vinnyguadagnino december s how twitter users responded to the hill s tweetmueller day mocked the hill for using a guy who coined the phrase gtl gym tan laundry for suggesting he schooled our presidentok the dude who was instrumental in coining the phrase gtl gym tan laundry has just schooled the president on the science behind global warming the world can end now weve come full circle and theres nothing left to do mueller day tiersoflove december twitter user mocked the hill for using a reality mtv show cast member s tweet to disproved president trump s belief about phony global warming scienceyikes youre scraping the bottom of the barrel arent ya whos next mama june on foreign affairs euroraver december sportsfan reminds the hill that the founder of the weather channel says climate change is bull founder of weather channel says climate change is bull nea sportsfan sportsfannea december also mocked the hill for using the reality mtv star s tweet calling them fakenews jet streams and shit like that what school are you referring to you fakenews propagatorjet streams and shit like that what school are you referring to you fakenews propagator twentyman tirbagofah december hilariously reminded the hill of a tweet by bernie sandersmaybe vinny can school bernie too justin december s the tweet from bernie sanders where he blames a day on christmas eve in on climate change nobody can recall a christmas eve where the temperature was degrees why is it that were not effectively addressing climate change bernie sanders sensanders december ",
         "0"
        ],
        [
         "31919",
         "washington reuters donald trump’s new campaign manager said on wednesday she would encourage the republican presidential nominee to focus on substance and continue delivering policy speeches as he has done in the last week “keep giving these policy speeches because i tell you there’s absolutely zero evidence that the voters want this election to be about this contentfree cacophony with no substance and no issues” kellyanne conway said in an interview with fox news conway was named to the position on wednesday by the trump campaign in a shakeup that also appointed the head of conservative website breitbart news to the new position of campaign ceo ",
         "1"
        ],
        [
         "19528",
         "riots erupted in charlotte after police officers shot and killed keith lamont scott rioters didn t care that scott had a history of shooting at cops they didn t care that he was abusive to his wife and small child keith s mom said he was a devout muslim black lives matter had an agenda and to hell with facts several months later the real story comes out and it turns out the police officers were only acting in selfdefense when they shot and killed the belligerent armed with a stolen gun fired at police keithlamontscott just announced no charges will be brought against charlottemecklenburg police officer brentley vinson in the september shooting death of a man in university city district attorney andrew murray announced wednesdaykeith lamont scott was shot sept in a confrontation with officers outside his apartmentmurray said that evidence in the case shows that scott stepped out of his suv with a gun in his hand and ignored at least commands from the five officers on the scene to drop itmurray ofcr vinson acted lawfully when he shot scott no charges will be filed mark becker november i know that some in the community will be frustrated but im asking we should not jump to conclusions mark becker november said that scott obtained the gun which had been stolen in gaston county days before the confrontation one bullet was found in the chamber of the gun the safety was off and murray said scott s dna was found on the grip and ammunition slidemurray said that speculation in the community that scott was unarmed initial reports from a family member on facebook said he was holding a book were untrue a reading book was not found in the front or back seats of mr scott s suv murray saidofficer vinson s gun was examined after the shooting and four bullets were missing murray said guns taken from the other officers at the scene had not been fired he saidpeople who claimed on social media that they had seen the shooting and scott was unarmed were later found to be in error three people who d made the claim told state bureau of investigation agents in interviews that they hadn t actually seen the shootingwarning graphic content the charlottemecklenburg police department released the fulllength dash camera video of the fatal police shooting of keith lamont scott scott s family asked the police to release the video to the public cmpdmurray said he ran the evidence in the case past veteran prosecutors in his officer and they were unanimous in their recommendation that there was insufficient evidence to charge vinson in the casein the aftermath of scott s death charlotte was roiled by two nights of rioting and nearly a week of street demonstrations after street violence dozens of arrests and the death of one man in uptown gov pat mccrory declared a state of emergencymurray scotts widow told cmpd detectives that scott did not own a gun but her texts suggest otherwise mark becker november live round found in chamber of scotts gun pictwittercomntqtovipsl mark becker november scotts dna on slide and grip of the gun mark becker november totality of evidence does not support shot to scotts back being first mark becker november ",
         "0"
        ],
        [
         "9096",
         "the video below is one of the highlights from the protests last year protesters at the university of washington were firmly reminded that their shouting in a library was not appreciated this is epicabout two dozen social justice warriors gathered in the normally quiet zone a couple students wielding megaphones and began to chant who s got the power we ve got the power what kind of power equal power the small protest took place about an hour after the inauguration says the description on the youtube video uploaded by king s alex rozierbut just as the momentum is getting louder a lone voice calling hey hey hey interrupts the protest everyone quiets down as the camera dramatically pans to a young man in a darkblue buttoned up shirt and glasses this is library he scolds themthe protesters are stunned into silence for several moments though a few feebly call out insults including one woman who seems to ask if he s going to go back to beijing the man turns and leavesread more barstoolsportscom",
         "0"
        ],
        [
         "6656",
         "on wednesday republican house speaker paul ryan called for an end to protections found in the affordable care act that prevent insurance companies from denying people coverage based on preexisting conditionsreuters reports that ryan told students at georgetown university that he is in favor of scrapping the protections found in the affordable care act that prevent insurers from charging higher rates for sick people in favor of creating subsidized risk pools on a state level less than percent of people under are what we call people with preexisting conditions who are really kind of uninsurable ryan said let s fund risk pools at the state level to subsidize their coverage so that they can get affordable coverage he said you dramatically lower the price for everybody else you make health insurance so much more affordable so much more competitive and open up competition less than percent of people under is a deceptive way to describe approximately million people a report released in from the department of health and human services found that half of the us population has some sort of preexisting condition that study includes those who are aged or older the term preexisting condition is broad and different studies can provide wildly different figures on the number of people who have a preexisting condition depending on how the term is defined in the studysupport for the affordable healthcare act as a whole has run mostly along partisan lines republicans strongly are in favor of scrapping president obama s healthcare reforms altogether however out of all of the individual provisions found in the affordable care act protections for people with preexisting conditions have consistently received support from people in the us across the political spectrum a survey conducted in just before that year s presidential election found that of respondents supported provisions set in place to prevent insurance companies from denying people coverage based on preexisting conditionsthat makes ryan s choice to vocally oppose those protections a major political gamble ryan along with the rest of the republican party has failed to offer any solid alternatives to the affordable care act during their now nearly decadelong opposition to healthcare reform package republicans are stuck between a rock and a hard place when trying to define an alternative to the affordable care act with the exception of the individual mandate polls show that people tend to support key aspects of the healthcare act than they do when asked if they support the act in its entiretyyou can watch ryan s speech in full belowfeatured image via win mcnameegetty images",
         "0"
        ],
        [
         "29620",
         "tokyo reuters japanese prime minister shinzo abe said on monday he believed us president donald trump understood the value of free trade and that he would keep pitching a multinational trade pact that trump’s administration has vowed to exit “i believe president trump understands the importance of free and fair trade so i’d like to pursue his understanding on the strategic and economic importance of the tpp transpacific partnership trade pact” abe told a session of parliament’s lower house abe also said he wanted to strengthen the usjapan security alliance based on mutual trust with trump “when we met last time i believed him to be trustworthy this belief has not changed today” abe added referring to his november meeting with thenpresidentelect trump abe also said tokyo wanted to explain how its companies have contributed to the us economy a stance the japanese government has adopted to try to fend off threats of a “border tax” on imports into the united states japanese chief cabinet secretary yoshihide suga said separately that tokyo would closely monitor any impact of the new us administration’s policies on its companies and that he wanted to deepen economic ties between the two countries trump took office as the president of the us on friday and pledged to end what he called an “american carnage” of rusted factories and crime in an inaugural address that was a populist and nationalist rallying cry the new trump administration said on friday its trade strategy to protect american jobs would start with withdrawal from the transpacific partnership tpp trade pact the trade deal which the united states signed but has not ratified was a pillar of former president barack obama’s pivot to asia and abe has touted it as an engine of economic reform as well as a counterweight to a rising china ",
         "1"
        ],
        [
         "35794",
         "moscow reuters president vladimir putin warned on thursday that some of his opponents would destabilize russia and usher in chaos if they were elected in a presidential election next year but promised genuine political competition putin who is running for reelection in march was answering a question at his annual news conference about opposition leader alexei navalny who looks unlikely to be allowed to contest the election due to what navalny says is a trumped up criminal case the question was put to him to ksenia sobchak a television personality who has said she plans to run against putin in the same election which polls suggest putin will comfortably win putin in response accused sobchak who has said she wants to attract voters who are against all candidates of not offering any positive solutions to the problems facing russia he likened navalny to former georgian president mikheil saakashvili who came to power in his own country in after a peaceful revolution and is now heavily involved in politics in ukraine where he is calling for the impeachment of ukrainian president petro poroshenko do you want tens of people like saakashvili to be running around public squares putin asked sobchak when asked about navalny not being allowed to take part in the election those who you ve named navalny are the same as saakashvili only the russian version and you want these saakashvilis to destabilize the situation in the country do you want attempted coups d etat we ve lived through all that do you really want to go back to all that i am sure that the overwhelming majority of russian citizens do not want this putin said the authorities were not afraid of genuine political competition and promised such competition would exist navalny commenting on social media said putin s response showed the reasons for barring him from taking part in next year s presidential election were due to a political decision it s like he s saying we re in power and we ve decided that it navalny running is a bad idea navalny said ",
         "1"
        ],
        [
         "25938",
         "reuters best known as a new york hedge fund industry executive anthony scaramucci president donald trump’s incoming communications director has stakes in a film company a glitzy manhattan steakhouse and a nutrition business accused by us regulators of making false claims in financial disclosures show overall scaramucci has assets in a range of approximately million to million the forms show he also has liabilities such as mortgages and personal loans of between million and million scaramucci’s income since the start of more than million is mostly derived from skybridge capital the hedge fund investment business that he founded in and is now in the process of selling to join the trump administration the disclosure says scaramucci stands to make more than million from the skybridge sale which he said in may would likely close in june the deal is on hold pending a regulatory review of its foreignlinked buyers scaramucci did not respond to a request for comment his wife deidre is listed on the forms as making for investor relations work at skybridge starting last year a skybridge spokeswoman said deidre scaramucci no longer works at the firm but did not say when she left the disclosure document obtained by politico was made to the us office of government ethics on scaramucci’s appointment in june as chief strategy officer to the us exportimport bank scaramucci on thursday was not listed on the bank’s leadership web page at first when politico reported the disclosure on wednesday scaramucci decried it on twitter as a criminal leak scaramucci later deleted the tweet the form is a public document available on request as a proud son of what he calls bluecollar long island scaramucci has long rooted for the new york mets and made an investment in the baseball team valued between million and million the disclosures show it paid him over the last year and a half scaramucci has an investment of as much as in stratomatic media llc which creates online simulations for baseball football hockey and basketball a love of entertainment particularly the hollywood kind is also apparent investments include a to stake in the film company behind “american psycho” and “wall street money never sleeps” according to media reports scaramucci paid to have himself and skybridge make appearances in the sequel to the oliver stoneproduced hit “wall street”scaramucci the document shows is a financial backer of “crazy for the boys” a movie in production about a group of high school girls who take a stand against bullying real estate features prominently in scaramucci’s portfolio it ranges from residential property valued between million and million in southampton long island where wealthy hedge fund managers often spend their summer weekends to a loan valued at up to to the manhattan property of the restaurant he coowns hunt fish club scaramucci has often mingled with celebrities professional athletes and media types at the steakhouse which features porterhouses personalized steak knives and shoeshines during dinner there is a smattering of smaller holdings one is a stake worth between and in two genesis nutrition supplement companies founded and previously led by lindsey duncan the company sells diet drink powders and vitamins in duncan and related companies settled charges by the federal trade commission for falsely claiming that green coffee bean supplements cause rapid weight loss on the dr oz show and the view it was unclear when scaramucci made the investment duncan and a spokeswoman for genesis did not respond to a request for comment another small holding is in nssi life settlement services inc the exact nature of the business was unclear life settlements are generally a niche investment product where policy owners sell rights to life insurance payouts to a third party in exchange for cash while they are still alive ",
         "1"
        ],
        [
         "2211",
         "the republican party is trying its hardest to gloss over the fact that its new health care replacement is a disaster that is going to hurt the american people more than anythingat a time when it s been widely reported that americans are overwhelmingly satisfied with their obamacare and would like to keep it rep jim jordan roh went on cnn in an attempt to promote trumpcare unfortunately he didn t anticipate being taken to the woodshed by host chris cuomocuomo pushed back on jordan s agenda and absolutely refused to let him get away with praising the new republican health care plan without acknowledging the fact that literally millions of americans will lose their health insurance thanks to trump and the gop cuomo also railed against jordan s vision stating that a free market for health insurance has never been executed anywhere else in the world because all other developed countries make sure their citizens have health coverage cuomo said you use government as if it s a bad word in this context but to be fair there is no place that you ll find that has this kind of marketplace when it comes to health insurance you re saying it like it s something that should be understood it s never existed anywhere else that you can point to and remember you have to be okay with having less people having health insurance to get some people to have it cheaper jordan tried to say that he wanted all people to have better insurance but cuomo saw right through his bullsht and promptly called him out they will lose coverage the way you re fixing it right now millions of people may lose their coverage you need to own that jordan could barely come up with a response to that other than a pathetic promise that those who got their health coverage through obamacare would eventually be transitioned into the new systemyou can watch cuomo rip jordan apart belowfeatured image is a screenshot",
         "0"
        ],
        [
         "6189",
         "as the democratic primary wraps up and tensions continue to flare capitol hill democrats are quietly discussing a possible coup to oust dnc chairwoman debbie wassermanschultzwassermanschultz who has been seen as wildly divisive in the primary is facing a mountain of criticism and uphill battles as she braces for a tough primary fight in floridaaccording to an exclusive in depth report from the hill democratic senators have been meeting together to draw up a plan to force the florida congresswoman to resign one democratic senator who is proclinton and who remained anonymous told the hill there have been a lot of meetings over the past hours about what color plate do we deliver debbie wassermanschultz s head on i don t see how she can continue to the election how can she open the convention sanders supporters would go nuts it s worth noting that these democratic lawmakers couldn t actually oust wassermanschultz only the national committee could do that and would rely on talks between clinton and sandersanother democratic senator echoed these sentiments saying if the party hopes to attract young people wassermanschultz must go we need to get this figured out and come together hillary s got the nomination she needs bernie s energy it s time for her to accommodate it s time to pick hardnosed people to cut through things and figure out a deal they young peopl need to know this is their party however not all democratic senators are cooling to wassermanschultz senator barbara mikulski who is retiring at the end of this term said the congresswoman has done a good job and said if you look at her platform committee appointments she really gave a lot of room to bernie supporters senators bill nelson tim kaine kirsten gillibrand jeanne shaheen and others have gone on record with the hill vehemently denying the attempted coup and pledging their support house minority leader nancy pelosi and house democratic chair xavier baccara have also expressed their support for the dnc chairwomanthe only member of he senate to endorse sanders jeff merkley of oregon has remained neutral but chastised wassermanschultz for adding gasoline to the fire after the contentious and disastrous nevada conventionan aide to joe biden told the hill that the vice president supports herthe issue surrounding debbie wassermanschultz continues to divide democrats with roughly two months to go until the national convention in philadelphiafeatured image via andrew burtongetty images",
         "0"
        ],
        [
         "18118",
         "the media is trying their best to control what you see and how you see it when it comes to the altleft we re here to tell you the truth about the violence and who is instigating it antifa and black lives matter have been instrumental from the days of trump s campaign up until now the video below is a great compilation of who the real aggressors are the truth spread ithere is how liberals demonstrate their political views hector morenco hectormorenco august you remember the campaign with the violence directed at trump supportersa protrump supporter attacked with eggshow about the inauguration where antifa and others were destroying property and assaulting protrump attendeesplans exposed to shut down the inaugurationremember berkeley destruction and assault again berkeley againdo you see where this is going it s not the trump supporters who are at fault here but you d never know it from the news media s propaganda and liesit s way past time to speak up and stop being passive to this or it will come to your door one day tell the truth and just keep telling it",
         "0"
        ],
        [
         "13781",
         " people were shot in gunfree chicago over this past memorial day weekend meanwhile barack obama is busy working with black lives matter terror groups to point fingers at law enforcement and white people for the crisis majority black neighborhoods are facing in their communities when will the media start exposing the truth about gunfree zones in america it should be clear to every american that violent gun related crimes don t stop because you put up a gunfree zone sign in a neighborhood filled with bad guysinstead of focusing on broken families elected democrats have been ignoring these communities for decades in favor of kickbacks and favors from vendors and contractors and in many cases outright theft from money that was designated for local schools or community improvement projects unless and until someone gets serious about finding jobs for blacks and cutting off welfare funding as a reward for teenage and single moms to have multiple children this problem will only get worse children need a father in the home periodhere are a few crime statistics that prove most of the crime victims in the gunfree city of chicago are black males black on black crimes are the biggest issue these communities face yet obama and race baiters for hire across america have magically turned the argument around and are blaming whites and cops for the huge uptick in violence in these mostly black neighborhoodssadly a large number of the crimes have gone unsolved as people who live in these neighborhoods don t want to rat out the killers note the number of shootings where police were involved vs the number of shootings between citizens hello black lives matterhere s what black chicago residents really think of their democrat leaders including the former chicago community organizerhustler barack hussein obama they explain how democrats are really the people responsible for perpetuating black on black crimebloody memorial day weekendjust after midnight in one of the last shootings of the memorial day weekend two people pulled out guns and started firing in east garfield parkthe first call to police early tuesday was for one person shot on homan avenue then a second victim then a third then someone walked into a hospital a few minutes laterin all of the people hit by gunfire over the weekend were shot in or near the harrison district one of the city s most violent and one of the most heavily patrolled by policeso many people were shot there that deputy superintendent john escalante promised sunday to beef up patrols nine more people were shot there by early tuesdaythe breakdown from the weekend is three people killed and people wounded friday afternoon through early saturday one person killed and people wounded saturday evening through early sunday people wounded sunday afternoon through early monday and people shot monday into early tuesday two of them fatallyhere s a shocking day stupidity trend from heyjackasscomthe holiday weekend was police superintendent eddie johnson s first since mayor rahm emanuel picked the veteran cop to lead the embattled department in late march the department sought volunteers to work overtime over the weekend although police spokesman anthony guglielmi did not release figures on how many officers worked instead of hiring more cops during a city budget crunch emanuel instead has relied heavily on overtime to try to tamp down violence via chicago tribunewith the constant bashing of law enforcement by black lives matter terrorists coupled with the desire by barack obama and ag loretta lynch to tie the hands of cops across america it should come as no surprise that cops are no longer willing to go the extra mile to protect those who would like to see them harmedquestion how much on average does it cost for each gunshot victim in chicago in an astounding per personcosts assume the average gunshot victim er and hospital expenses average cfd ambulance ride only applicable to of victims rest selftransport homiciderelated autopsies doesn t include hospice care or ongoing rehabilitation cost estimates provided by chicago killings cost billion ",
         "0"
        ],
        [
         "18270",
         "maxine got a makeover and is hopping mad about speculation she s running for potus in it can t help that tucker carlson is mocking her just about every nightwaters was in a foul mood during an interview with her favorite news anchor joy reid reid is a foot soldier for waters these two get together every other day to bash trump pitifulthe funny thing is that no one was criticizing waters they were merely speculating if she is considering a presidential run something she has admitted to if she had the support of millennials rightwaters told reid just because i m going to new hampshire to be at a democratic party event for one of my colleagues they made this story up or to make people uncomfortable with me all of that so you re gonna be hearing a lot more from them these people who are all you know aligned around trying to discredit maxine waters because she has stayed on trump s case so much and so you re going to hear a lot more from them don t believe anything they re saying ",
         "0"
        ],
        [
         "11157",
         "is it possible the good dr dao was simply setting himself up to be the benefactor of a massive lawsuit against united airlines you be the judge first underreported factinitially united insinuated that flight was overbooked however united spokesman jonathan guerin told usa today that was not the case he said that all of the seats on the plane were filled but that didn t make it over capacityinstead a regional affiliate that was operating the flight republic airlines opted to move four of its passengers because four crew members were considered mustride passengers second underreported fact the airline said its agents were left with no choice except to call chicago aviation police to get dao off of the flight when they arrived security officers were unable to get dao to cooperate with their instructions and physically removed him through the aislein the scuffle dao s face struck an arm rest and his mouth became bloodied a short time after officials got him off the plane he returned to the cabin and ran to the back holding onto an object and pled to let him go homeis dr dao playing to the crowd on the flight or is he truly traumatized after being physically removed from his seatflythefriendlyskies my husband was on that flight screw you united united kaylyn davis kaylyndavis april the short video taken by a passenger here it appears that the good doctor is either very good at drama or has some sort of disorder which causes him to violently scream when touchedunited overbook and decided to force random passengers off the plane heres how they did it jayse d anspach jaysedavid april s some of the background on dr dao the passenger who was physically removed by airline cops from the united flight leaving from chicagothe passenger hauled off a united flight is a lung doctor with a taste for gambling a history of angry outbursts and a conviction for trading narcotics prescriptions and cash for gay sex in motelsdr david dao of elizabethtown ky confirmed tuesday that he was the inadvertent star of a viral video stirring outrage around the globe and said he was undergoing hospital treatment in chicagoin an interview from his bed dao told louisville tv station wlky that he wasn t feeling wellin dao was charged with counts of illegally prescribing and trafficking prescription painkillers such as hydrocodone oxycontin and percocet you can read the criminal complaint above along with other documents related to the case and dao s medical licensedavid dao by heavy on scribdhe was a codefendant in the case along with brian d case who was indicted on felony drug chargesdao was caught on surveillance video meeting patients and supplying them with painkillers mainly hydrocodoneaccording to a criminal complaint on at least one occasion dao received in exchange for the pills in an unlabeled bottle from dao unlawfully prescribed controlled substances to patients court documents saidthe criminal complaint in the case went onto say that dao would solicit homosexual relations with a male patient in exchange for a prescription for hydrocodone the meetings occurred at motels and it was found that dao had written out personal checks to the patient on more than one occasionthe patient was arrested at a walgreens pharmacy and brought in for an interview where he confessed about his and dao s relationship the man was brought into police custody because he was calling the pharmacy to order prescriptions and saying that he was in fact dao picking up prescriptions under numerous aliasesdao was eventually arrested by police at a hotel room in jefferson county on july the room was under surveillance by the louisville police department and dao was seen with the male patient without a shirt on and with his pants undone the patient gave dao money for a bottle of pills and police stormed the room to arrest him upon the exchangedao was officially charged with unlawful prescribing trafficking in a controlled substance and complicity in obtaining drugs by fraud and deceit and pled not guilty to the chargessome of those charges ended up being dismissed but dao was eventually convicted on six counts he was found guilty of complicity in obtaining a controlled substance hydrocodone by fraud and sentenced to two years eight months in prison a sentence that was suspended and was ordered to pay a fine heavyon the day he was busted dao was secretly videotaped with case in a red carpet inn in jefferson county ky with his shirt off and his pants undone the records saydao was convicted after a trial and sentenced to five years probation after the judge agreed to suspend a prison term of twoplus years recommended by the juryhe agreed to surrender his medical license in but had it provisionally reinstated in so he could work one day a week for another doctor in elizabethtownthe licensing records also reveal how dao was the subject of many complaints while working at hardin memorial hospitalthe medical executive committee there took a strong stance in and put da on a corrective action plan due to his disruptive behavior and referred him for evaluation and anger management the papers say nyp",
         "0"
        ],
        [
         "32849",
         "reuters five mayors in northern california on thursday asked governor jerry brown in a letter to have surveillance cameras installed on state highways in the area after a string of shootings that have gripped their communities the request came two days after a man was shot in the leg while traveling eastbound on in hercules california the such shooting on the state highway system east of san francisco during the last six months authorities said “this is of increasing concern to our elected officials and residents who feel as if our communities are under siege” said the letter signed by the mayors of pinole richmond and hercules the mayors of san pablo and el cerrito also signed the letter since november four people have been killed and wounded in shootings that authorities believe are largely gang related the california highway patrol said in a statement local and state law enforcement agencies began targeting known gang members and increased patrols since the shootings began along the freeways the patrol said the mayors asked brown to support funding for the installation of surveillance cameras with recording capabilities on area freeway ramps and upgrades to current traffic cameras so they would be able to capture and retain images that could be used during investigations the mayors wrote the situation is a “grave and growing risk” in their communities where freeways have become a “battleground” officials in brown’s office were not immediately available for comment san pablo mayor rich kinney said in an email to reuters that the mayors state transportation officials and governor staff are scheduled to meet to discuss the letter on june the california highway patrol said five suspects have been arrested in connection with the string of shootings some of whom may have been involved in more than one incident ",
         "1"
        ],
        [
         "5511",
         "in constructing the republican platform delegates seem to be running a contest over who can come up with the silliest dumbest most outrageous planks imaginable this latest one which was just presented is probably the most egregious example of the gop s love of limited government everywhere except in people s private lives because moralsmary forrester who is notsurprisingly a delegate from north carolina introduced an amendment to rein in use of adult material in a subcommittee meeting on healthcare education and crime she said pornography with his si harmful effects especially on children has become a public health crisis that is destroying the life of millions we encourage states to continue to fight this public menace and pledge our commitment to children s safety and wellbeing reallya public health crisisbecause adult material is totally on the same level as gun violence and superbugsthe stupid it burnsbefore this we must legislate everyone s morality amendment was presented that particular plank in the gop s platform was more or less limited to trying to ensure that the internet didn t become a safe haven for sex offenders they encouraged vigorous prosecution for sex offenders also which makes senseforrester though is a member of the religious right which means deciding what people can and cannot do in their private lives and crying out but really it s for the children which is absolute horseshit she s also one of the many delegates working their asses off to alienate everyone who isn t christian and straight by condemning every form of relationship that isn t malefemaleshe and the christian group concerned women for america believe that the widespread availability and use of adult material is just too addicting for young people and therefore it s up to the state governments to curb it it s such an insidious epidemic and there are no rules for our children forrester said it seems to be for young people they do not have the discernment and so they become addicted before they have the maturity to understand the consequences yes by all means let s put prohibition in place for anything to do with sex too because it always works that s why we have no more alcohol or drugs anywhere at all in this country oh waitof course the gop is pretty much under the full control of the religious right which is packed with pseudochristians who think it s their godgiven duty to tell everyone everywhere how to live every aspect of their lives they do it under the guise of it s for the public good like they are with bathroom laws but really they just want everyone to stop with the stuff that makes them feel all icky featured image by win mcnameegetty images",
         "0"
        ],
        [
         "30773",
         "washington reuters us house of representatives speaker paul ryan on monday praised presidentelect donald trump’s choice of republican party chairman reince priebus for his white house chief of staff as the best choice for getting things done in congress “it’s a very very very good sign of things to come” ryan said in an interview with wisconsin radio station wbel ryan said he has spoken with trump almost every day since last tuesday’s election “hiring reince as his chief of staff is a perfect indication of our new president’s desire to get things done” ryan said ",
         "1"
        ],
        [
         "30350",
         "washington reuters a republicanled panel in the us house of representatives agreed on tuesday to add million to a shortterm federal spending bill to reimburse new york authorities for presidentelect donald trump’s security costs far short of the million requested by the city’s congressional delegation new york’s us lawmakers were quick to express their unhappiness “i am extremely disappointed that the continuing resolution to fund the federal government does not fully reimburse the people of new york for the unprecedented security costs incurred to keep the presidentelect and his family safe between the election and his inauguration” us democratic representative carolyn maloney said in a statement the bill which funds us agencies through april must pass before a friday deadline to keep government agencies running at a capitol hill news conference earlier on tuesday john miller the new york police department’s deputy commissioner for intelligence and counter terrorism said he was in contact with congressional democrats and republicans about the costs of security operations to protect trump both before and after the republican takes office on jan “this is not about party politics it’s not about politics at all” miller said he said trump’s security “footprint” would be even “more complex” once he becomes president representative nita lowey a democrat said the republican leadership of the house appropriations committee had expressed sympathy for the city’s preinauguration reimbursement request but had asked for more specifics several house democrats on tuesday also signed a letter to new york governor andrew cuomo and new york city mayor bill de blasio urging that the state and city “refuse to pay” for trump’s extra new york security costs once he is sworn in as president “should the presidentelect choose to maintain two permanent residences for his family it is reasonable to request he reimburse the city and the state for all additional security expenses from his own significant personal financial resources” the letter said trump has said his wife melania and son barron will move from new york to the white house “right after he finishes school” ",
         "1"
        ],
        [
         "8984",
         "it s a new year for many of us that means that we probably made a few resolutions you know quit smoking eat better drink less get more sleep all good things that could improve life there s just one problem though most people don t keep those resolutions they go right out the window before the first month of the new year is even over for most people well john oliver host of hbo s last week tonight has some advice in that arena you re going to break these resolutions anyway so quit being so hard on yourselfoliver said every december for some reason we decide that next year will be the one that everything turns around and we ll finally quit drinking or learn how to pronounce the name of these berries he then continued but let s be honest we re a few days into the new year now and if you haven t broken your new year s resolutions yet statistically you are about to that can be depressing but don t panic all hope is not lost because the key thing with resolutions is not how to keep them it s how to revise them once you ve failed the main problem with new year s resolutions is that we set our expectations way too high for instance lots of people say they want to exercise more but that s hard exercise is like reading for your muscles except you can t watch a movie of someone else exercising and basically get the gist of it he s right humans are set in our ways small changes are better than big ones because they are easier to stick to you re not going to change your whole life just because a new year rolls in and that really is okaywatch oliver s hilarious yet completely accurate thoughts on new year s resolutions belowfeatured image via video screen capture from raw story",
         "0"
        ],
        [
         "40933",
         "sydney reuters three hundred us marines flew out of australia on sunday as their troop rotation came to an end the first of a force to leave the pacific nation after being stationed for six months in the country s far north the sixth rotational group was the most advanced contingent to be sent since the program began after former us president barack obama agreed to send troops in as part of a military pivot to the asiapacific region for the first time the rotation included an aviation combat section of aircraft including four osprey tiltrotor aircraft according to australia s department of defence australian and us troops also practiced disaster relief and humanitarian assistance as a combined force in a remote location for the first time the rotational forces are stationed in darwin state capital of the northern territory which is strategically located on the coastal doorstep of indonesia east timor and papua new guinea during the sixmonth deployment the us troops participated in joint exercises with the australian defence force giving them an opportunity to interact with a range of countries including china indonesia japan new zealand malaysia the philippines singapore thailand and vietnam australia s alliance with the united states is our most important defense relationship and remains central to australia s security captain bryan parker deputy commander of australia s northern command said in a statement the presence of the us marines across the northern territory plays a vital role in underwriting security and stability across the indopacific he said adding that force posture initiatives were essential to preserving stability over the coming decades marine rotation numbers were originally expected to reach by but so far have not risen above according to abc news reports ",
         "1"
        ],
        [
         "21714",
         " ",
         "0"
        ],
        [
         "12334",
         "one of presidentelect donald trump s potential cabinet picks showed photographers more than he intended over the weekend revealing part of an aggressive plan to change the department of homeland security s approach to combating illegal immigrationkansas secretary of state kris kobach who was rumored last week to be on an attorney general shortlist emerged as a contender for the dhs job and interviewed with trump on sunday when the two posed for pictures beforehand however kobach was clutching his proposal and photographs captured the parts that his left hand didn t obscurehere are the portions revealed by a photo enlargement department of homeland security kobach strategic plan for first days i bar the entry of potential terrorists update and reintroduce the nseers screening and tracking system national security entryexit registration system that was in place from all aliens from highrisk areas are tracked add extreme vetting questions for highrisk aliens question them regarding support for sharia law jihad equality of men and women the united states constitution reduce intake of syrian refugees to zero using authority under the refugee act ii depor record number of criminal aliens in the first year reinstat criminal removal cases dropped by the obama administration ice guidance memoranda adopted by obama administration issue new guidance to redefine criminal alien as any alien arrested for any crime and any gang member to repatriate their citizens who have committed crimes in the united states expedited agreements with at least cities and counties to enlist state and alien criminals in addition to the miles of existing actual wall within entire miles planned for rapid build under the patriot act to prevent illegal aliens immediately to forestall future lawsuits v stop issue regulations voter rolls direct direct the department of justice draft amendments to national voter read more daily mail",
         "0"
        ],
        [
         "41393",
         "quetta pakistan reuters this october story has been refiled to correct paragraphs after police revise toll to three hazaras killed not five gunmen killed five men including three shia muslims from the ethnic hazara minority in southwest pakistan on monday a police official said giving details of the second shooting targeting hazaras in a month the attack took place in quetta where nearly half a million hazaras have settled since fleeing afghanistan to escape the violence in their homeland during the past four decades the attackers opened fire from a motorcycle killing the five men who were traveling in the back of a pickup truck on their way to sell vegetables at a market the official said it was a sectarian target killing senior police officer malik nisar told reuters adding that the attackers escaped after opening fire it was unclear initially but now we know that it was three hazaras among the five people killed he said no group has claimed responsibility for the attack hazaras are frequently targeted by taliban and islamic state militants and other sunni muslim militant groups in both pakistan and afghanistan more than hazaras have been killed in similar shootings in baluchistan in the past two years police say in three separate bombings killed over people in hazara neighborhoods raising international awareness of the plight of the community the ongoing violence in pakistan s baluchistan province has fueled concern about security for projects in the china pakistan economic corridor a transport and energy link planned to run from western china to pakistan s southern deepwater port of gwadar a suicide bombing at a sufi shrine in the baluch town of jhal magsi on thursday killed people and wounded more than others the bombing was claimed by islamic state and is the latest sectarian attack in the restive province taliban and other sunni islamist militants are active in the province while ethnic baluch separatists have run a low level insurgency for decades mounting attacks on security forces and other targets linked to the central government elsewhere in pakistan on monday an official said gunmen killed three soldiers and wounded eight in an attack on their vehicle in the semiautonomous tribal region of north waziristan north waziristan was a taliban stronghold until when pakistan s military launched a major offensive against the group and pushed many of its fighters across the border into afghanistan following monday s attack security forces closed off roads in razmak district and surrounding villages ",
         "1"
        ],
        [
         "28303",
         "washington reuters iraqi prime minister haider alabadi said on monday he received assurances during talks with president donald trump and his administration of increasing american support as he presses his country’s campaign against islamic state “we have been given assurances that the us support will not only continue but will accelerate for iraq to accomplish the task” abadi said following talks with trump at the white house ",
         "1"
        ],
        [
         "34692",
         "waukee iowa reuters it was not hard to tell how the donald trump fans who jammed the back room at jethro’s bbq restaurant in waukee iowa felt about their candidate’s debate performance on thursday night the cheering and clapping as the real estate mogul skewered his rivals president barack obama and democratic presidential candidate hillary clinton gave it away with only a few weeks before iowa’s firstinthenation nominating contest on feb more than supporters showed up for a trump debate watch party at the barbecue spot they listened intently as the frontrunner squared off against six republican challengers verbally urging him on at times shouts of “you tell ‘em donald” and “amen” greeted trump’s best punch lines although the crowd freely applauded several other candidates as long as they were directing insults at obama clinton or clinton’s chief democratic rival us senator bernie sanders of vermont “he did very well he came across as very strong” georgia hasan a pentacostal minister from des moines said of trump “he is saying the things that need to be said and some people are afraid to say” several attendees said they regularly came to debate watch parties at jethro’s where the waitresses wore red shirts urging patrons to “vote jethro” pat and mariann duff drove for more than minutes from indianola iowa to join their fellow trump supporters “i admire his honesty he says the same sort of things i say” said mariann duff who first became a trump fan from watching his reality tv show “the apprentice” a few of trump’s rivals did not fare so well “drop out john” shouted one patron when ohio governor john kasich was introduced when the broadcast lost sound at one point a man calmed the crowd by shouting “jeb bush is on it doesn’t matter” trump narrowly trails us senator ted cruz of texas in recent opinion polls in iowa the crowd grew quiet and listened closely when the two clashed over cruz’s canadian birth and what cruz called trump’s “new york” values eric durbin a software developer in stuart iowa said he would probably back trump because he thought he had the best chance of stopping cruz “i really don’t like ted cruz” durbin said citing the candidate’s work for george w bush and cruz’s wife’s work for investment bank goldman sachs co “he’s part of the cartel i don’t trust him” lonnie creveling a housecleaner from des moines said trump would stand up for her conservative social values and she liked his pugnacious style “i like his toughness” she said “you can tell people won’t be able to push him around” ",
         "1"
        ],
        [
         "17059",
         "blacks in america are seeing the writing on the wall with the push for mass immigration to america and it s not a pretty picture barack hussein obama america s first black president will do more to harm the black community in his reckless attempt to create a oneparty system in america than any president in the history of the united statesthe unnamed activists representing the lost american network group makes some great points we in the black community we have seen videos of senator hall calling other organizations out there that are predominately white racists we would like to send a message to him we feel that he is not representing the black community so therefore we feel that he is racist we wanna know why black politicians like him have turned their back on the black community unemployment is up to mass immigration takes away jobs and benefits from the black community mass immigration takes away medical care and housing assistance for the homelesswatch her outstanding message to congressman hall here",
         "0"
        ],
        [
         "43750",
         "nairobi reuters kenyan president uhuru kenyatta opened parliament on tuesday by warning against divisive and destructive politics while opposition lawmakers boycotted the legislature and rallied to demand the resignation of election officials kenya held parliamentary presidential and local elections on aug but the supreme court nullified the presidential results three weeks later citing irregularities in the tallying process new elections are scheduled for oct while calling for unity and respect for the constitution kenyatta delivered a thinly veiled warning to the opposition lawmakers who had chosen to stay away from parliament my government will not tolerate anyone intent on disrupting our hardwon peace and stability under no circumstances must kenyans ever allow our free competitive processes to become a threat to the peace and security of our nation he said to footstamping and cheering from ruling party legislators we shall continue to encourage vibrant democratic competition we shall not allow destructive division as he spoke opposition leaders held a rally in kibera the capital s largest slum rejecting the oct date unless officials on the election board whom they blame for mishandling the polls resign now we are putting it squarely to you that the supreme court of this country has found you incompetent said kalonzo musyoka running mate of kenyatta s presidential rival raila odinga the surprise election annulment initially raised fears of shortterm political turmoil in kenya the region s richest nation and a staunch western ally in a region roiled by conflict but it also raised hopes among frustrated opposition supporters who believe the last three elections have been stolen from them that the east african nation s tarnished courts could deliver them justice that hope helped tamp down protests that threatened to spark the kind of violence that followed disputed elections when around people were killed in ethnic bloodletting in a separate development a ruling party lawmaker and a former opposition senator appeared in a nairobi court charged with incitement to violence over speeches they had made in the past week both were freed on a kenya shilling bond a government body monitoring hate speech says that it has seen a spike since the supreme court ruling more than three times as many incidents were reported in the week following the ruling than during the whole election campaign it said ",
         "1"
        ],
        [
         "13048",
         "the applications for white house interns just took a sharp nosedive former president bill clinton could practically serve an unconstitutional third term as president if hillary clinton becomes sick in office if elected given the previous first ladies who acted as presidents on behalf of their sick husbandsformer first ladies nancy reagan mamie eisenhower and lady edith galt wilson all made presidential decisions while their husbands were ill in officegalt wilson in particular acted as the de facto president when president woodrow wilson suffered a stroke in to prevent vice president thomas marshall from assuming the presidency because marshall was too friendly to wilson s political rival in congress if a president hillary clinton s health were to decline it is a certainty that former president bill clinton would emulate galt and act in his wife s stead as president said investigative journalist wayne madsen senator tim kaine was chosen as mrs clinton s running mate because he as was marshall is a milquetoast politician who would not seek to become acting president of the united states in the event of the incapacitation of the president for bill clinton serving as the de facto president would be an effective third term as president something barred by the us constitution additionally woodrow wilson s personal physician concealed the president s stroke from the public which of course draws comparisons to how the hillary campaign is downplaying concerns over hillary s health despite of doctors stating her problems could be disqualifying both physicians and other voters think that health concerns are relevant when choosing a presidential candidate stated jane m orient md the executive director of the associations of american physicians and surgeonsvia infowars",
         "0"
        ]
       ],
       "shape": {
        "columns": 2,
        "rows": 100
       }
      },
      "text/html": [
       "<div>\n",
       "<style scoped>\n",
       "    .dataframe tbody tr th:only-of-type {\n",
       "        vertical-align: middle;\n",
       "    }\n",
       "\n",
       "    .dataframe tbody tr th {\n",
       "        vertical-align: top;\n",
       "    }\n",
       "\n",
       "    .dataframe thead th {\n",
       "        text-align: right;\n",
       "    }\n",
       "</style>\n",
       "<table border=\"1\" class=\"dataframe\">\n",
       "  <thead>\n",
       "    <tr style=\"text-align: right;\">\n",
       "      <th></th>\n",
       "      <th>text</th>\n",
       "      <th>class</th>\n",
       "    </tr>\n",
       "  </thead>\n",
       "  <tbody>\n",
       "    <tr>\n",
       "      <th>17248</th>\n",
       "      <td>this administration has to be the most bumblin...</td>\n",
       "      <td>0</td>\n",
       "    </tr>\n",
       "    <tr>\n",
       "      <th>10734</th>\n",
       "      <td>chaos broke out after legal americans and ille...</td>\n",
       "      <td>0</td>\n",
       "    </tr>\n",
       "    <tr>\n",
       "      <th>44492</th>\n",
       "      <td>taipei reuters taiwan has appointed as premier...</td>\n",
       "      <td>1</td>\n",
       "    </tr>\n",
       "    <tr>\n",
       "      <th>3855</th>\n",
       "      <td>democrats who are offering to work with donald...</td>\n",
       "      <td>0</td>\n",
       "    </tr>\n",
       "    <tr>\n",
       "      <th>5437</th>\n",
       "      <td>the founding fathers are rolling in their grav...</td>\n",
       "      <td>0</td>\n",
       "    </tr>\n",
       "    <tr>\n",
       "      <th>...</th>\n",
       "      <td>...</td>\n",
       "      <td>...</td>\n",
       "    </tr>\n",
       "    <tr>\n",
       "      <th>29471</th>\n",
       "      <td>beirut reuters syrian rebels urged president d...</td>\n",
       "      <td>1</td>\n",
       "    </tr>\n",
       "    <tr>\n",
       "      <th>32146</th>\n",
       "      <td>new york reuters the democratic party has sele...</td>\n",
       "      <td>1</td>\n",
       "    </tr>\n",
       "    <tr>\n",
       "      <th>21477</th>\n",
       "      <td>an angry black gay racist democrat victim the ...</td>\n",
       "      <td>0</td>\n",
       "    </tr>\n",
       "    <tr>\n",
       "      <th>5064</th>\n",
       "      <td>during a segment of triumph s summer election ...</td>\n",
       "      <td>0</td>\n",
       "    </tr>\n",
       "    <tr>\n",
       "      <th>22648</th>\n",
       "      <td>tune in to the alternate current radio network...</td>\n",
       "      <td>0</td>\n",
       "    </tr>\n",
       "  </tbody>\n",
       "</table>\n",
       "<p>100 rows × 2 columns</p>\n",
       "</div>"
      ],
      "text/plain": [
       "                                                    text  class\n",
       "17248  this administration has to be the most bumblin...      0\n",
       "10734  chaos broke out after legal americans and ille...      0\n",
       "44492  taipei reuters taiwan has appointed as premier...      1\n",
       "3855   democrats who are offering to work with donald...      0\n",
       "5437   the founding fathers are rolling in their grav...      0\n",
       "...                                                  ...    ...\n",
       "29471  beirut reuters syrian rebels urged president d...      1\n",
       "32146  new york reuters the democratic party has sele...      1\n",
       "21477  an angry black gay racist democrat victim the ...      0\n",
       "5064   during a segment of triumph s summer election ...      0\n",
       "22648  tune in to the alternate current radio network...      0\n",
       "\n",
       "[100 rows x 2 columns]"
      ]
     },
     "execution_count": 25,
     "metadata": {},
     "output_type": "execute_result"
    }
   ],
   "source": [
    "data.sample(100)"
   ]
  },
  {
   "cell_type": "code",
   "execution_count": 26,
   "id": "452b4d62",
   "metadata": {},
   "outputs": [
    {
     "name": "stdout",
     "output_type": "stream",
     "text": [
      "title      0\n",
      "text       0\n",
      "subject    0\n",
      "date       0\n",
      "class      0\n",
      "dtype: int64\n"
     ]
    }
   ],
   "source": [
    "print(df.isnull().sum())\n"
   ]
  },
  {
   "cell_type": "code",
   "execution_count": 27,
   "id": "8c82a256",
   "metadata": {},
   "outputs": [
    {
     "name": "stdout",
     "output_type": "stream",
     "text": [
      "              precision    recall  f1-score   support\n",
      "\n",
      "           0       0.99      0.98      0.99      4607\n",
      "           1       0.98      0.99      0.99      4786\n",
      "\n",
      "    accuracy                           0.99      9393\n",
      "   macro avg       0.99      0.99      0.99      9393\n",
      "weighted avg       0.99      0.99      0.99      9393\n",
      "\n"
     ]
    }
   ],
   "source": [
    "# Split the balanced dataset into train and test sets\n",
    "X = balance['text']\n",
    "y = balance['label']\n",
    "\n",
    "X_train, X_test, y_train, y_test = train_test_split(X, y, test_size=0.2, random_state=42)\n",
    "\n",
    "# Vectorize the text data using TF-IDF\n",
    "vectorizer = TfidfVectorizer(stop_words='english', max_df=0.7)\n",
    "X_train_tfidf = vectorizer.fit_transform(X_train)\n",
    "X_test_tfidf = vectorizer.transform(X_test)\n",
    "\n",
    "# Train a Logistic Regression model\n",
    "model = LogisticRegression()\n",
    "model.fit(X_train_tfidf, y_train)\n",
    "\n",
    "# Predict and evaluate\n",
    "y_pred = model.predict(X_test_tfidf)\n",
    "print(classification_report(y_test, y_pred))"
   ]
  },
  {
   "cell_type": "code",
   "execution_count": 28,
   "id": "03810f7c",
   "metadata": {},
   "outputs": [
    {
     "data": {
      "image/png": "[encoded data removed]",
      "text/plain": [
       "<Figure size 600x400 with 2 Axes>"
      ]
     },
     "metadata": {},
     "output_type": "display_data"
    }
   ],
   "source": [
    "from sklearn.metrics import confusion_matrix\n",
    "import seaborn as sns\n",
    "import matplotlib.pyplot as plt\n",
    "\n",
    "# Confusion Matrix\n",
    "cm = confusion_matrix(y_test, y_pred)\n",
    "plt.figure(figsize=(6,4))\n",
    "sns.heatmap(cm, annot=True, fmt='d', cmap='Blues', xticklabels=['Fake', 'True'], yticklabels=['Fake', 'True'])\n",
    "plt.xlabel('Predicted')\n",
    "plt.ylabel('Actual')\n",
    "plt.title('Confusion Matrix')\n",
    "plt.show()"
   ]
  },
  {
   "cell_type": "code",
   "execution_count": 29,
   "id": "9e9aea6f",
   "metadata": {},
   "outputs": [
    {
     "data": {
      "image/png": "[encoded data removed]",
      "text/plain": [
       "<Figure size 600x300 with 2 Axes>"
      ]
     },
     "metadata": {},
     "output_type": "display_data"
    },
    {
     "data": {
      "image/png": "[encoded data removed]",
      "text/plain": [
       "<Figure size 600x400 with 1 Axes>"
      ]
     },
     "metadata": {},
     "output_type": "display_data"
    }
   ],
   "source": [
    "from sklearn.metrics import classification_report, roc_curve, auc\n",
    "import numpy as np\n",
    "\n",
    "# Classification report as heatmap\n",
    "report = classification_report(y_test, y_pred, output_dict=True)\n",
    "report_df = pd.DataFrame(report).transpose().iloc[:2, :3]  # Only 'Fake' and 'True' rows, and precision/recall/f1\n",
    "plt.figure(figsize=(6,3))\n",
    "sns.heatmap(report_df, annot=True, cmap='YlGnBu')\n",
    "plt.title('Classification Report Heatmap')\n",
    "plt.show()\n",
    "\n",
    "# ROC Curve\n",
    "y_prob = model.predict_proba(X_test_tfidf)[:, 1]\n",
    "fpr, tpr, thresholds = roc_curve(y_test, y_prob)\n",
    "roc_auc = auc(fpr, tpr)\n",
    "plt.figure(figsize=(6,4))\n",
    "plt.plot(fpr, tpr, label=f'ROC curve (AUC = {roc_auc:.2f})')\n",
    "plt.plot([0, 1], [0, 1], 'k--')\n",
    "plt.xlabel('False Positive Rate')\n",
    "plt.ylabel('True Positive Rate')\n",
    "plt.title('ROC Curve')\n",
    "plt.legend(loc='lower right')\n",
    "plt.show()"
   ]
  },
  {
   "cell_type": "code",
   "execution_count": 34,
   "id": "c1e05b57",
   "metadata": {},
   "outputs": [
    {
     "name": "stdout",
     "output_type": "stream",
     "text": [
      "Model and vectorizer saved successfully.\n"
     ]
    }
   ],
   "source": [
    "\n",
    "\n",
    "# Save model\n",
    "with open('model.pkl', 'wb') as f:\n",
    "    pickle.dump(model, f)\n",
    "\n",
    "# Save vectorizer\n",
    "with open('vectorizer.pkl', 'wb') as f:\n",
    "    pickle.dump(vectorizer, f)\n",
    "    \n",
    "\n",
    "    print(\"Model and vectorizer saved successfully.\")\n",
    "\n"
   ]
  }
 ],
 "metadata": {
  "kernelspec": {
   "display_name": "Python 3",
   "language": "python",
   "name": "python3"
  },
  "language_info": {
   "codemirror_mode": {
    "name": "ipython",
    "version": 3
   },
   "file_extension": ".py",
   "mimetype": "text/x-python",
   "name": "python",
   "nbconvert_exporter": "python",
   "pygments_lexer": "ipython3",
   "version": "3.13.5"
  }
 },
 "nbformat": 4,
 "nbformat_minor": 5
}
