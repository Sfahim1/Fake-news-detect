{
 "cells": [
  {
   "cell_type": "code",
   "execution_count": 3,
   "id": "5c107e4d",
   "metadata": {},
   "outputs": [],
   "source": [
    "import pandas as pd\n",
    "from sklearn.model_selection import train_test_split\n",
    "from sklearn.feature_extraction.text import TfidfVectorizer\n",
    "from sklearn.linear_model import LogisticRegression\n",
    "from sklearn.metrics import classification_report\n",
    "import re\n",
    "import joblib\n",
    "import string"
   ]
  },
  {
   "cell_type": "code",
   "execution_count": 4,
   "id": "f86a7874",
   "metadata": {},
   "outputs": [],
   "source": [
    "fake = pd.read_csv('fake.csv')\n",
    "true = pd.read_csv('true.csv')"
   ]
  },
  {
   "cell_type": "code",
   "execution_count": 5,
   "id": "f7c18269",
   "metadata": {},
   "outputs": [
    {
     "data": {
      "application/vnd.microsoft.datawrangler.viewer.v0+json": {
       "columns": [
        {
         "name": "index",
         "rawType": "int64",
         "type": "integer"
        },
        {
         "name": "title",
         "rawType": "object",
         "type": "string"
        },
        {
         "name": "text",
         "rawType": "object",
         "type": "string"
        },
        {
         "name": "subject",
         "rawType": "object",
         "type": "string"
        },
        {
         "name": "date",
         "rawType": "object",
         "type": "string"
        }
       ],
       "ref": "b0269316-308e-48ad-b9e2-c9d5ca7ab9aa",
       "rows": [
        [
         "0",
         " Donald Trump Sends Out Embarrassing New Year’s Eve Message; This is Disturbing",
         "Donald Trump just couldn t wish all Americans a Happy New Year and leave it at that. Instead, he had to give a shout out to his enemies, haters and  the very dishonest fake news media.  The former reality show star had just one job to do and he couldn t do it. As our Country rapidly grows stronger and smarter, I want to wish all of my friends, supporters, enemies, haters, and even the very dishonest Fake News Media, a Happy and Healthy New Year,  President Angry Pants tweeted.  2018 will be a great year for America! As our Country rapidly grows stronger and smarter, I want to wish all of my friends, supporters, enemies, haters, and even the very dishonest Fake News Media, a Happy and Healthy New Year. 2018 will be a great year for America!  Donald J. Trump (@realDonaldTrump) December 31, 2017Trump s tweet went down about as welll as you d expect.What kind of president sends a New Year s greeting like this despicable, petty, infantile gibberish? Only Trump! His lack of decency won t even allow him to rise above the gutter long enough to wish the American citizens a happy new year!  Bishop Talbert Swan (@TalbertSwan) December 31, 2017no one likes you  Calvin (@calvinstowell) December 31, 2017Your impeachment would make 2018 a great year for America, but I ll also accept regaining control of Congress.  Miranda Yaver (@mirandayaver) December 31, 2017Do you hear yourself talk? When you have to include that many people that hate you you have to wonder? Why do the they all hate me?  Alan Sandoval (@AlanSandoval13) December 31, 2017Who uses the word Haters in a New Years wish??  Marlene (@marlene399) December 31, 2017You can t just say happy new year?  Koren pollitt (@Korencarpenter) December 31, 2017Here s Trump s New Year s Eve tweet from 2016.Happy New Year to all, including to my many enemies and those who have fought me and lost so badly they just don t know what to do. Love!  Donald J. Trump (@realDonaldTrump) December 31, 2016This is nothing new for Trump. He s been doing this for years.Trump has directed messages to his  enemies  and  haters  for New Year s, Easter, Thanksgiving, and the anniversary of 9/11. pic.twitter.com/4FPAe2KypA  Daniel Dale (@ddale8) December 31, 2017Trump s holiday tweets are clearly not presidential.How long did he work at Hallmark before becoming President?  Steven Goodine (@SGoodine) December 31, 2017He s always been like this . . . the only difference is that in the last few years, his filter has been breaking down.  Roy Schulze (@thbthttt) December 31, 2017Who, apart from a teenager uses the term haters?  Wendy (@WendyWhistles) December 31, 2017he s a fucking 5 year old  Who Knows (@rainyday80) December 31, 2017So, to all the people who voted for this a hole thinking he would change once he got into power, you were wrong! 70-year-old men don t change and now he s a year older.Photo by Andrew Burton/Getty Images.",
         "News",
         "December 31, 2017"
        ],
        [
         "1",
         " Drunk Bragging Trump Staffer Started Russian Collusion Investigation",
         "House Intelligence Committee Chairman Devin Nunes is going to have a bad day. He s been under the assumption, like many of us, that the Christopher Steele-dossier was what prompted the Russia investigation so he s been lashing out at the Department of Justice and the FBI in order to protect Trump. As it happens, the dossier is not what started the investigation, according to documents obtained by the New York Times.Former Trump campaign adviser George Papadopoulos was drunk in a wine bar when he revealed knowledge of Russian opposition research on Hillary Clinton.On top of that, Papadopoulos wasn t just a covfefe boy for Trump, as his administration has alleged. He had a much larger role, but none so damning as being a drunken fool in a wine bar. Coffee boys  don t help to arrange a New York meeting between Trump and President Abdel Fattah el-Sisi of Egypt two months before the election. It was known before that the former aide set up meetings with world leaders for Trump, but team Trump ran with him being merely a coffee boy.In May 2016, Papadopoulos revealed to Australian diplomat Alexander Downer that Russian officials were shopping around possible dirt on then-Democratic presidential nominee Hillary Clinton. Exactly how much Mr. Papadopoulos said that night at the Kensington Wine Rooms with the Australian, Alexander Downer, is unclear,  the report states.  But two months later, when leaked Democratic emails began appearing online, Australian officials passed the information about Mr. Papadopoulos to their American counterparts, according to four current and former American and foreign officials with direct knowledge of the Australians  role. Papadopoulos pleaded guilty to lying to the F.B.I. and is now a cooperating witness with Special Counsel Robert Mueller s team.This isn t a presidency. It s a badly scripted reality TV show.Photo by Win McNamee/Getty Images.",
         "News",
         "December 31, 2017"
        ],
        [
         "2",
         " Sheriff David Clarke Becomes An Internet Joke For Threatening To Poke People ‘In The Eye’",
         "On Friday, it was revealed that former Milwaukee Sheriff David Clarke, who was being considered for Homeland Security Secretary in Donald Trump s administration, has an email scandal of his own.In January, there was a brief run-in on a plane between Clarke and fellow passenger Dan Black, who he later had detained by the police for no reason whatsoever, except that maybe his feelings were hurt. Clarke messaged the police to stop Black after he deplaned, and now, a search warrant has been executed by the FBI to see the exchanges.Clarke is calling it fake news even though copies of the search warrant are on the Internet. I am UNINTIMIDATED by lib media attempts to smear and discredit me with their FAKE NEWS reports designed to silence me,  the former sheriff tweeted.  I will continue to poke them in the eye with a sharp stick and bitch slap these scum bags til they get it. I have been attacked by better people than them #MAGA I am UNINTIMIDATED by lib media attempts to smear and discredit me with their FAKE NEWS reports designed to silence me. I will continue to poke them in the eye with a sharp stick and bitch slap these scum bags til they get it. I have been attacked by better people than them #MAGA pic.twitter.com/XtZW5PdU2b  David A. Clarke, Jr. (@SheriffClarke) December 30, 2017He didn t stop there.BREAKING NEWS! When LYING LIB MEDIA makes up FAKE NEWS to smear me, the ANTIDOTE is go right at them. Punch them in the nose & MAKE THEM TASTE THEIR OWN BLOOD. Nothing gets a bully like LYING LIB MEDIA S attention better than to give them a taste of their own blood #neverbackdown pic.twitter.com/T2NY2psHCR  David A. Clarke, Jr. (@SheriffClarke) December 30, 2017The internet called him out.This is your local newspaper and that search warrant isn t fake, and just because the chose not to file charges at the time doesn t mean they won t! Especially if you continue to lie. Months after decision not to charge Clarke, email search warrant filed https://t.co/zcbyc4Wp5b  KeithLeBlanc (@KeithLeBlanc63) December 30, 2017I just hope the rest of the Village People aren t implicated.  Kirk Ketchum (@kirkketchum) December 30, 2017Slaw, baked potatoes, or French fries? pic.twitter.com/fWfXsZupxy  ALT- Immigration   (@ALT_uscis) December 30, 2017pic.twitter.com/ymsOBLjfxU  Pendulum Swinger (@PendulumSwngr) December 30, 2017you called your police friends to stand up for you when someone made fun of your hat  Chris Jackson (@ChrisCJackson) December 30, 2017Is it me, with this masterful pshop of your hat, which I seem to never tire of. I think it s the steely resolve in your one visible eye pic.twitter.com/dWr5k8ZEZV  Chris Mohney (@chrismohney) December 30, 2017Are you indicating with your fingers how many people died in your jail? I think you re a few fingers short, dipshit  Ike Barinholtz (@ikebarinholtz) December 30, 2017ROFL. Internet tough guy with fake flair. pic.twitter.com/ulCFddhkdy  KellMeCrazy (@Kel_MoonFace) December 30, 2017You re so edgy, buddy.  Mrs. SMH (@MRSSMH2) December 30, 2017Is his break over at Applebees?  Aaron (@feltrrr2) December 30, 2017Are you trying to earn your  still relevant  badge?  CircusRebel (@CircusDrew) December 30, 2017make sure to hydrate, drink lots of water. It s rumored that prisoners can be denied water by prison officials.  Robert Klinc (@RobertKlinc1) December 30, 2017Terrill Thomas, the 38-year-old black man who died of thirst in Clarke s Milwaukee County Jail cell this April, was a victim of homicide. We just thought we should point that out. It can t be repeated enough.Photo by Spencer Platt/Getty Images.",
         "News",
         "December 30, 2017"
        ],
        [
         "3",
         " Trump Is So Obsessed He Even Has Obama’s Name Coded Into His Website (IMAGES)",
         "On Christmas day, Donald Trump announced that he would  be back to work  the following day, but he is golfing for the fourth day in a row. The former reality show star blasted former President Barack Obama for playing golf and now Trump is on track to outpace the number of golf games his predecessor played.Updated my tracker of Trump s appearances at Trump properties.71 rounds of golf including today s. At this pace, he ll pass Obama s first-term total by July 24 next year. https://t.co/Fg7VacxRtJ pic.twitter.com/5gEMcjQTbH  Philip Bump (@pbump) December 29, 2017 That makes what a Washington Post reporter discovered on Trump s website really weird, but everything about this administration is bizarre AF. The coding contained a reference to Obama and golf:  Unlike Obama, we are working to fix the problem   and not on the golf course.  However, the coding wasn t done correctly.The website of Donald Trump, who has spent several days in a row at the golf course, is coded to serve up the following message in the event of an internal server error: https://t.co/zrWpyMXRcz pic.twitter.com/wiQSQNNzw0  Christopher Ingraham (@_cingraham) December 28, 2017That snippet of code appears to be on all https://t.co/dkhw0AlHB4 pages, which the footer says is paid for by the RNC? pic.twitter.com/oaZDT126B3  Christopher Ingraham (@_cingraham) December 28, 2017It s also all over https://t.co/ayBlGmk65Z. As others have noted in this thread, this is weird code and it s not clear it would ever actually display, but who knows.  Christopher Ingraham (@_cingraham) December 28, 2017After the coding was called out, the reference to Obama was deleted.UPDATE: The golf error message has been removed from the Trump and GOP websites. They also fixed the javascript  =  vs  ==  problem. Still not clear when these messages would actually display, since the actual 404 (and presumably 500) page displays a different message pic.twitter.com/Z7dmyQ5smy  Christopher Ingraham (@_cingraham) December 29, 2017That suggests someone at either RNC or the Trump admin is sensitive enough to Trump s golf problem to make this issue go away quickly once people noticed. You have no idea how much I d love to see the email exchange that led us here.  Christopher Ingraham (@_cingraham) December 29, 2017 The code was f-cked up.The best part about this is that they are using the  =  (assignment) operator which means that bit of code will never get run. If you look a few lines up  errorCode  will always be  404          (@tw1trsux) December 28, 2017trump s coders can t code. Nobody is surprised.  Tim Peterson (@timrpeterson) December 28, 2017Donald Trump is obsessed with Obama that his name was even in the coding of his website while he played golf again.Photo by Joe Raedle/Getty Images.",
         "News",
         "December 29, 2017"
        ],
        [
         "4",
         " Pope Francis Just Called Out Donald Trump During His Christmas Speech",
         "Pope Francis used his annual Christmas Day message to rebuke Donald Trump without even mentioning his name. The Pope delivered his message just days after members of the United Nations condemned Trump s move to recognize Jerusalem as the capital of Israel. The Pontiff prayed on Monday for the  peaceful coexistence of two states within mutually agreed and internationally recognized borders. We see Jesus in the children of the Middle East who continue to suffer because of growing tensions between Israelis and Palestinians,  Francis said.  On this festive day, let us ask the Lord for peace for Jerusalem and for all the Holy Land. Let us pray that the will to resume dialogue may prevail between the parties and that a negotiated solution can finally be reached. The Pope went on to plead for acceptance of refugees who have been forced from their homes, and that is an issue Trump continues to fight against. Francis used Jesus for which there was  no place in the inn  as an analogy. Today, as the winds of war are blowing in our world and an outdated model of development continues to produce human, societal and environmental decline, Christmas invites us to focus on the sign of the Child and to recognize him in the faces of little children, especially those for whom, like Jesus,  there is no place in the inn,  he said. Jesus knows well the pain of not being welcomed and how hard it is not to have a place to lay one s head,  he added.  May our hearts not be closed as they were in the homes of Bethlehem. The Pope said that Mary and Joseph were immigrants who struggled to find a safe place to stay in Bethlehem. They had to leave their people, their home, and their land,  Francis said.  This was no comfortable or easy journey for a young couple about to have a child.   At heart, they were full of hope and expectation because of the child about to be born; yet their steps were weighed down by the uncertainties and dangers that attend those who have to leave their home behind. So many other footsteps are hidden in the footsteps of Joseph and Mary,  Francis said Sunday. We see the tracks of entire families forced to set out in our own day. We see the tracks of millions of persons who do not choose to go away, but driven from their land, leave behind their dear ones. Amen to that.Photo by Christopher Furlong/Getty Images.",
         "News",
         "December 25, 2017"
        ]
       ],
       "shape": {
        "columns": 4,
        "rows": 5
       }
      },
      "text/html": [
       "<div>\n",
       "<style scoped>\n",
       "    .dataframe tbody tr th:only-of-type {\n",
       "        vertical-align: middle;\n",
       "    }\n",
       "\n",
       "    .dataframe tbody tr th {\n",
       "        vertical-align: top;\n",
       "    }\n",
       "\n",
       "    .dataframe thead th {\n",
       "        text-align: right;\n",
       "    }\n",
       "</style>\n",
       "<table border=\"1\" class=\"dataframe\">\n",
       "  <thead>\n",
       "    <tr style=\"text-align: right;\">\n",
       "      <th></th>\n",
       "      <th>title</th>\n",
       "      <th>text</th>\n",
       "      <th>subject</th>\n",
       "      <th>date</th>\n",
       "    </tr>\n",
       "  </thead>\n",
       "  <tbody>\n",
       "    <tr>\n",
       "      <th>0</th>\n",
       "      <td>Donald Trump Sends Out Embarrassing New Year’...</td>\n",
       "      <td>Donald Trump just couldn t wish all Americans ...</td>\n",
       "      <td>News</td>\n",
       "      <td>December 31, 2017</td>\n",
       "    </tr>\n",
       "    <tr>\n",
       "      <th>1</th>\n",
       "      <td>Drunk Bragging Trump Staffer Started Russian ...</td>\n",
       "      <td>House Intelligence Committee Chairman Devin Nu...</td>\n",
       "      <td>News</td>\n",
       "      <td>December 31, 2017</td>\n",
       "    </tr>\n",
       "    <tr>\n",
       "      <th>2</th>\n",
       "      <td>Sheriff David Clarke Becomes An Internet Joke...</td>\n",
       "      <td>On Friday, it was revealed that former Milwauk...</td>\n",
       "      <td>News</td>\n",
       "      <td>December 30, 2017</td>\n",
       "    </tr>\n",
       "    <tr>\n",
       "      <th>3</th>\n",
       "      <td>Trump Is So Obsessed He Even Has Obama’s Name...</td>\n",
       "      <td>On Christmas day, Donald Trump announced that ...</td>\n",
       "      <td>News</td>\n",
       "      <td>December 29, 2017</td>\n",
       "    </tr>\n",
       "    <tr>\n",
       "      <th>4</th>\n",
       "      <td>Pope Francis Just Called Out Donald Trump Dur...</td>\n",
       "      <td>Pope Francis used his annual Christmas Day mes...</td>\n",
       "      <td>News</td>\n",
       "      <td>December 25, 2017</td>\n",
       "    </tr>\n",
       "  </tbody>\n",
       "</table>\n",
       "</div>"
      ],
      "text/plain": [
       "                                               title  \\\n",
       "0   Donald Trump Sends Out Embarrassing New Year’...   \n",
       "1   Drunk Bragging Trump Staffer Started Russian ...   \n",
       "2   Sheriff David Clarke Becomes An Internet Joke...   \n",
       "3   Trump Is So Obsessed He Even Has Obama’s Name...   \n",
       "4   Pope Francis Just Called Out Donald Trump Dur...   \n",
       "\n",
       "                                                text subject  \\\n",
       "0  Donald Trump just couldn t wish all Americans ...    News   \n",
       "1  House Intelligence Committee Chairman Devin Nu...    News   \n",
       "2  On Friday, it was revealed that former Milwauk...    News   \n",
       "3  On Christmas day, Donald Trump announced that ...    News   \n",
       "4  Pope Francis used his annual Christmas Day mes...    News   \n",
       "\n",
       "                date  \n",
       "0  December 31, 2017  \n",
       "1  December 31, 2017  \n",
       "2  December 30, 2017  \n",
       "3  December 29, 2017  \n",
       "4  December 25, 2017  "
      ]
     },
     "execution_count": 5,
     "metadata": {},
     "output_type": "execute_result"
    }
   ],
   "source": [
    "fake.head()"
   ]
  },
  {
   "cell_type": "code",
   "execution_count": 6,
   "id": "05415bc8",
   "metadata": {},
   "outputs": [
    {
     "data": {
      "application/vnd.microsoft.datawrangler.viewer.v0+json": {
       "columns": [
        {
         "name": "index",
         "rawType": "int64",
         "type": "integer"
        },
        {
         "name": "title",
         "rawType": "object",
         "type": "string"
        },
        {
         "name": "text",
         "rawType": "object",
         "type": "string"
        },
        {
         "name": "subject",
         "rawType": "object",
         "type": "string"
        },
        {
         "name": "date",
         "rawType": "object",
         "type": "string"
        }
       ],
       "ref": "0029c488-f023-49cf-b552-e1c7353f9ee0",
       "rows": [
        [
         "0",
         "As U.S. budget fight looms, Republicans flip their fiscal script",
         "WASHINGTON (Reuters) - The head of a conservative Republican faction in the U.S. Congress, who voted this month for a huge expansion of the national debt to pay for tax cuts, called himself a “fiscal conservative” on Sunday and urged budget restraint in 2018. In keeping with a sharp pivot under way among Republicans, U.S. Representative Mark Meadows, speaking on CBS’ “Face the Nation,” drew a hard line on federal spending, which lawmakers are bracing to do battle over in January. When they return from the holidays on Wednesday, lawmakers will begin trying to pass a federal budget in a fight likely to be linked to other issues, such as immigration policy, even as the November congressional election campaigns approach in which Republicans will seek to keep control of Congress. President Donald Trump and his Republicans want a big budget increase in military spending, while Democrats also want proportional increases for non-defense “discretionary” spending on programs that support education, scientific research, infrastructure, public health and environmental protection. “The (Trump) administration has already been willing to say: ‘We’re going to increase non-defense discretionary spending ... by about 7 percent,’” Meadows, chairman of the small but influential House Freedom Caucus, said on the program. “Now, Democrats are saying that’s not enough, we need to give the government a pay raise of 10 to 11 percent. For a fiscal conservative, I don’t see where the rationale is. ... Eventually you run out of other people’s money,” he said. Meadows was among Republicans who voted in late December for their party’s debt-financed tax overhaul, which is expected to balloon the federal budget deficit and add about $1.5 trillion over 10 years to the $20 trillion national debt. “It’s interesting to hear Mark talk about fiscal responsibility,” Democratic U.S. Representative Joseph Crowley said on CBS. Crowley said the Republican tax bill would require the  United States to borrow $1.5 trillion, to be paid off by future generations, to finance tax cuts for corporations and the rich. “This is one of the least ... fiscally responsible bills we’ve ever seen passed in the history of the House of Representatives. I think we’re going to be paying for this for many, many years to come,” Crowley said. Republicans insist the tax package, the biggest U.S. tax overhaul in more than 30 years,  will boost the economy and job growth. House Speaker Paul Ryan, who also supported the tax bill, recently went further than Meadows, making clear in a radio interview that welfare or “entitlement reform,” as the party often calls it, would be a top Republican priority in 2018. In Republican parlance, “entitlement” programs mean food stamps, housing assistance, Medicare and Medicaid health insurance for the elderly, poor and disabled, as well as other programs created by Washington to assist the needy. Democrats seized on Ryan’s early December remarks, saying they showed Republicans would try to pay for their tax overhaul by seeking spending cuts for social programs. But the goals of House Republicans may have to take a back seat to the Senate, where the votes of some Democrats will be needed to approve a budget and prevent a government shutdown. Democrats will use their leverage in the Senate, which Republicans narrowly control, to defend both discretionary non-defense programs and social spending, while tackling the issue of the “Dreamers,” people brought illegally to the country as children. Trump in September put a March 2018 expiration date on the Deferred Action for Childhood Arrivals, or DACA, program, which protects the young immigrants from deportation and provides them with work permits. The president has said in recent Twitter messages he wants funding for his proposed Mexican border wall and other immigration law changes in exchange for agreeing to help the Dreamers. Representative Debbie Dingell told CBS she did not favor linking that issue to other policy objectives, such as wall funding. “We need to do DACA clean,” she said.  On Wednesday, Trump aides will meet with congressional leaders to discuss those issues. That will be followed by a weekend of strategy sessions for Trump and Republican leaders on Jan. 6 and 7, the White House said. Trump was also scheduled to meet on Sunday with Florida Republican Governor Rick Scott, who wants more emergency aid. The House has passed an $81 billion aid package after hurricanes in Florida, Texas and Puerto Rico, and wildfires in California. The package far exceeded the $44 billion requested by the Trump administration. The Senate has not yet voted on the aid. ",
         "politicsNews",
         "December 31, 2017 "
        ],
        [
         "1",
         "U.S. military to accept transgender recruits on Monday: Pentagon",
         "WASHINGTON (Reuters) - Transgender people will be allowed for the first time to enlist in the U.S. military starting on Monday as ordered by federal courts, the Pentagon said on Friday, after President Donald Trump’s administration decided not to appeal rulings that blocked his transgender ban. Two federal appeals courts, one in Washington and one in Virginia, last week rejected the administration’s request to put on hold orders by lower court judges requiring the military to begin accepting transgender recruits on Jan. 1. A Justice Department official said the administration will not challenge those rulings. “The Department of Defense has announced that it will be releasing an independent study of these issues in the coming weeks. So rather than litigate this interim appeal before that occurs, the administration has decided to wait for DOD’s study and will continue to defend the president’s lawful authority in District Court in the meantime,” the official said, speaking on condition of anonymity. In September, the Pentagon said it had created a panel of senior officials to study how to implement a directive by Trump to prohibit transgender individuals from serving. The Defense Department has until Feb. 21 to submit a plan to Trump. Lawyers representing currently-serving transgender service members and aspiring recruits said they had expected the administration to appeal the rulings to the conservative-majority Supreme Court, but were hoping that would not happen. Pentagon spokeswoman Heather Babb said in a statement: “As mandated by court order, the Department of Defense is prepared to begin accessing transgender applicants for military service Jan. 1. All applicants must meet all accession standards.” Jennifer Levi, a lawyer with gay, lesbian and transgender advocacy group GLAD, called the decision not to appeal “great news.” “I’m hoping it means the government has come to see that there is no way to justify a ban and that it’s not good for the military or our country,” Levi said. Both GLAD and the American Civil Liberties Union represent plaintiffs in the lawsuits filed against the administration. In a move that appealed to his hard-line conservative supporters, Trump announced in July that he would prohibit transgender people from serving in the military, reversing Democratic President Barack Obama’s policy of accepting them. Trump said on Twitter at the time that the military “cannot be burdened with the tremendous medical costs and disruption that transgender in the military would entail.” Four federal judges - in Baltimore, Washington, D.C., Seattle and Riverside, California - have issued rulings blocking Trump’s ban while legal challenges to the Republican president’s policy proceed. The judges said the ban would likely violate the right under the U.S. Constitution to equal protection under the law. The Pentagon on Dec. 8 issued guidelines to recruitment personnel in order to enlist transgender applicants by Jan. 1. The memo outlined medical requirements and specified how the applicants’ sex would be identified and even which undergarments they would wear. The Trump administration previously said in legal papers that the armed forces were not prepared to train thousands of personnel on the medical standards needed to process transgender applicants and might have to accept “some individuals who are not medically fit for service.” The Obama administration had set a deadline of July 1, 2017, to begin accepting transgender recruits. But Trump’s defense secretary, James Mattis, postponed that date to Jan. 1, 2018, which the president’s ban then put off indefinitely. Trump has taken other steps aimed at rolling back transgender rights. In October, his administration said a federal law banning gender-based workplace discrimination does not protect transgender employees, reversing another Obama-era position. In February, Trump rescinded guidance issued by the Obama administration saying that public schools should allow transgender students to use the restroom that corresponds to their gender identity. ",
         "politicsNews",
         "December 29, 2017 "
        ],
        [
         "2",
         "Senior U.S. Republican senator: 'Let Mr. Mueller do his job'",
         "WASHINGTON (Reuters) - The special counsel investigation of links between Russia and President Trump’s 2016 election campaign should continue without interference in 2018, despite calls from some Trump administration allies and Republican lawmakers to shut it down, a prominent Republican senator said on Sunday. Lindsey Graham, who serves on the Senate armed forces and judiciary committees, said Department of Justice Special Counsel Robert Mueller needs to carry on with his Russia investigation without political interference. “This investigation will go forward. It will be an investigation conducted without political influence,” Graham said on CBS’s Face the Nation news program. “And we all need to let Mr. Mueller do his job. I think he’s the right guy at the right time.”  The question of how Russia may have interfered in the election, and how Trump’s campaign may have had links with or co-ordinated any such effort, has loomed over the White House since Trump took office in January. It shows no sign of receding as Trump prepares for his second year in power, despite intensified rhetoric from some Trump allies in recent weeks accusing Mueller’s team of bias against the Republican president. Trump himself seemed to undercut his supporters in an interview last week with the New York Times in which he said he expected Mueller was “going to be fair.”    Russia’s role in the election and the question of possible links to the Trump campaign are the focus of multiple inquiries in Washington. Three committees of the Senate and the House of Representatives are investigating, as well as Mueller, whose team in May took over an earlier probe launched by the U.S. Federal Bureau of Investigation (FBI). Several members of the Trump campaign and administration have been convicted or indicted in the investigation.  Trump and his allies deny any collusion with Russia during the campaign, and the Kremlin has denied meddling in the election. Graham said he still wants an examination of the FBI’s use of a dossier on links between Trump and Russia that was compiled by a former British spy, Christopher Steele, which prompted Trump allies and some Republicans to question Mueller’s inquiry.   On Saturday, the New York Times reported that it was not that dossier that triggered an early FBI probe, but a tip from former Trump campaign foreign policy adviser George Papadopoulos to an Australian diplomat that Russia had damaging information about former Trump rival Hillary Clinton.  “I want somebody to look at the way the Department of Justice used this dossier. It bothers me greatly the way they used it, and I want somebody to look at it,” Graham said. But he said the Russia investigation must continue. “As a matter of fact, it would hurt us if we ignored it,” he said. ",
         "politicsNews",
         "December 31, 2017 "
        ],
        [
         "3",
         "FBI Russia probe helped by Australian diplomat tip-off: NYT",
         "WASHINGTON (Reuters) - Trump campaign adviser George Papadopoulos told an Australian diplomat in May 2016 that Russia had political dirt on Democratic presidential candidate Hillary Clinton, the New York Times reported on Saturday. The conversation between Papadopoulos and the diplomat, Alexander Downer, in London was a driving factor behind the FBI’s decision to open a counter-intelligence investigation of Moscow’s contacts with the Trump campaign, the Times reported. Two months after the meeting, Australian officials passed the information that came from Papadopoulos to their American counterparts when leaked Democratic emails began appearing online, according to the newspaper, which cited four current and former U.S. and foreign officials. Besides the information from the Australians, the probe by the Federal Bureau of Investigation was also propelled by intelligence from other friendly governments, including the British and Dutch, the Times said. Papadopoulos, a Chicago-based international energy lawyer, pleaded guilty on Oct. 30 to lying to FBI agents about contacts with people who claimed to have ties to top Russian officials. It was the first criminal charge alleging links between the Trump campaign and Russia. The White House has played down the former aide’s campaign role, saying it was “extremely limited” and that any actions he took would have been on his own. The New York Times, however, reported that Papadopoulos helped set up a meeting between then-candidate Donald Trump and Egyptian President Abdel Fattah al-Sisi and edited the outline of Trump’s first major foreign policy speech in April 2016. The federal investigation, which is now being led by Special Counsel Robert Mueller, has hung over Trump’s White House since he took office almost a year ago. Some Trump allies have recently accused Mueller’s team of being biased against the Republican president. Lawyers for Papadopoulos did not immediately respond to requests by Reuters for comment. Mueller’s office declined to comment. Trump’s White House attorney, Ty Cobb, declined to comment on the New York Times report. “Out of respect for the special counsel and his process, we are not commenting on matters such as this,” he said in a statement. Mueller has charged four Trump associates, including Papadopoulos, in his investigation. Russia has denied interfering in the U.S. election and Trump has said there was no collusion between his campaign and Moscow. ",
         "politicsNews",
         "December 30, 2017 "
        ],
        [
         "4",
         "Trump wants Postal Service to charge 'much more' for Amazon shipments",
         "SEATTLE/WASHINGTON (Reuters) - President Donald Trump called on the U.S. Postal Service on Friday to charge “much more” to ship packages for Amazon (AMZN.O), picking another fight with an online retail giant he has criticized in the past.     “Why is the United States Post Office, which is losing many billions of dollars a year, while charging Amazon and others so little to deliver their packages, making Amazon richer and the Post Office dumber and poorer? Should be charging MUCH MORE!” Trump wrote on Twitter.  The president’s tweet drew fresh attention to the fragile finances of the Postal Service at a time when tens of millions of parcels have just been shipped all over the country for the holiday season.  The U.S. Postal Service, which runs at a big loss, is an independent agency within the federal government and does not receive tax dollars for operating expenses, according to its website.  Package delivery has become an increasingly important part of its business as the Internet has led to a sharp decline in the amount of first-class letters. The president does not determine postal rates. They are set by the Postal Regulatory Commission, an independent government agency with commissioners selected by the president from both political parties. That panel raised prices on packages by almost 2 percent in November.  Amazon was founded by Jeff Bezos, who remains the chief executive officer of the retail company and is the richest person in the world, according to Bloomberg News. Bezos also owns The Washington Post, a newspaper Trump has repeatedly railed against in his criticisms of the news media. In tweets over the past year, Trump has said the “Amazon Washington Post” fabricated stories. He has said Amazon does not pay sales tax, which is not true, and so hurts other retailers, part of a pattern by the former businessman and reality television host of periodically turning his ire on big American companies since he took office in January. Daniel Ives, a research analyst at GBH Insights, said Trump’s comment could be taken as a warning to the retail giant. However, he said he was not concerned for Amazon. “We do not see any price hikes in the future. However, that is a risk that Amazon is clearly aware of and (it) is building out its distribution (system) aggressively,” he said. Amazon has shown interest in the past in shifting into its own delivery service, including testing drones for deliveries. In 2015, the company spent $11.5 billion on shipping, 46 percent of its total operating expenses that year.  Amazon shares were down 0.86 percent to $1,175.90 by early afternoon. Overall, U.S. stock prices were down slightly on Friday.  Satish Jindel, president of ShipMatrix Inc, which analyzes shipping data, disputed the idea that the Postal Service charges less than United Parcel Service Inc (UPS.N) and FedEx Corp (FDX.N), the other biggest players in the parcel delivery business in the United States. Many customers get lower rates from UPS and FedEx than they would get from the post office for comparable services, he said. The Postal Service delivers about 62 percent of Amazon packages, for about 3.5 to 4 million a day during the current peak year-end holiday shipping season, Jindel said. The Seattle-based company and the post office have an agreement in which mail carriers take Amazon packages on the last leg of their journeys, from post offices to customers’ doorsteps. Amazon’s No. 2 carrier is UPS, at 21 percent, and FedEx is third, with 8 percent or so, according to Jindel. Trump’s comment tapped into a debate over whether Postal Service pricing has kept pace with the rise of e-commerce, which has flooded the mail with small packages.Private companies like UPS have long claimed the current system unfairly undercuts their business. Steve Gaut, a spokesman for UPS, noted that the company values its “productive relationship” with the postal service, but that it has filed with the Postal Regulatory Commission its concerns about the postal service’s methods for covering costs. Representatives for Amazon, the White House, the U.S. Postal Service and FedEx declined comment or were not immediately available for comment on Trump’s tweet. According to its annual report, the Postal Service lost $2.74 billion this year, and its deficit has ballooned to $61.86 billion.  While the Postal Service’s revenue for first class mail, marketing mail and periodicals is flat or declining, revenue from package delivery is up 44 percent since 2014 to $19.5 billion in the fiscal year ended Sept. 30, 2017. But it also lost about $2 billion in revenue when a temporary surcharge expired in April 2016. According to a Government Accountability Office report in February, the service is facing growing personnel expenses, particularly $73.4 billion in unfunded pension and benefits liabilities. The Postal Service has not announced any plans to cut costs. By law, the Postal Service has to set prices for package delivery to cover the costs attributable to that service. But the postal service allocates only 5.5 percent of its total costs to its business of shipping packages even though that line of business is 28 percent of its total revenue. ",
         "politicsNews",
         "December 29, 2017 "
        ]
       ],
       "shape": {
        "columns": 4,
        "rows": 5
       }
      },
      "text/html": [
       "<div>\n",
       "<style scoped>\n",
       "    .dataframe tbody tr th:only-of-type {\n",
       "        vertical-align: middle;\n",
       "    }\n",
       "\n",
       "    .dataframe tbody tr th {\n",
       "        vertical-align: top;\n",
       "    }\n",
       "\n",
       "    .dataframe thead th {\n",
       "        text-align: right;\n",
       "    }\n",
       "</style>\n",
       "<table border=\"1\" class=\"dataframe\">\n",
       "  <thead>\n",
       "    <tr style=\"text-align: right;\">\n",
       "      <th></th>\n",
       "      <th>title</th>\n",
       "      <th>text</th>\n",
       "      <th>subject</th>\n",
       "      <th>date</th>\n",
       "    </tr>\n",
       "  </thead>\n",
       "  <tbody>\n",
       "    <tr>\n",
       "      <th>0</th>\n",
       "      <td>As U.S. budget fight looms, Republicans flip t...</td>\n",
       "      <td>WASHINGTON (Reuters) - The head of a conservat...</td>\n",
       "      <td>politicsNews</td>\n",
       "      <td>December 31, 2017</td>\n",
       "    </tr>\n",
       "    <tr>\n",
       "      <th>1</th>\n",
       "      <td>U.S. military to accept transgender recruits o...</td>\n",
       "      <td>WASHINGTON (Reuters) - Transgender people will...</td>\n",
       "      <td>politicsNews</td>\n",
       "      <td>December 29, 2017</td>\n",
       "    </tr>\n",
       "    <tr>\n",
       "      <th>2</th>\n",
       "      <td>Senior U.S. Republican senator: 'Let Mr. Muell...</td>\n",
       "      <td>WASHINGTON (Reuters) - The special counsel inv...</td>\n",
       "      <td>politicsNews</td>\n",
       "      <td>December 31, 2017</td>\n",
       "    </tr>\n",
       "    <tr>\n",
       "      <th>3</th>\n",
       "      <td>FBI Russia probe helped by Australian diplomat...</td>\n",
       "      <td>WASHINGTON (Reuters) - Trump campaign adviser ...</td>\n",
       "      <td>politicsNews</td>\n",
       "      <td>December 30, 2017</td>\n",
       "    </tr>\n",
       "    <tr>\n",
       "      <th>4</th>\n",
       "      <td>Trump wants Postal Service to charge 'much mor...</td>\n",
       "      <td>SEATTLE/WASHINGTON (Reuters) - President Donal...</td>\n",
       "      <td>politicsNews</td>\n",
       "      <td>December 29, 2017</td>\n",
       "    </tr>\n",
       "  </tbody>\n",
       "</table>\n",
       "</div>"
      ],
      "text/plain": [
       "                                               title  \\\n",
       "0  As U.S. budget fight looms, Republicans flip t...   \n",
       "1  U.S. military to accept transgender recruits o...   \n",
       "2  Senior U.S. Republican senator: 'Let Mr. Muell...   \n",
       "3  FBI Russia probe helped by Australian diplomat...   \n",
       "4  Trump wants Postal Service to charge 'much mor...   \n",
       "\n",
       "                                                text       subject  \\\n",
       "0  WASHINGTON (Reuters) - The head of a conservat...  politicsNews   \n",
       "1  WASHINGTON (Reuters) - Transgender people will...  politicsNews   \n",
       "2  WASHINGTON (Reuters) - The special counsel inv...  politicsNews   \n",
       "3  WASHINGTON (Reuters) - Trump campaign adviser ...  politicsNews   \n",
       "4  SEATTLE/WASHINGTON (Reuters) - President Donal...  politicsNews   \n",
       "\n",
       "                 date  \n",
       "0  December 31, 2017   \n",
       "1  December 29, 2017   \n",
       "2  December 31, 2017   \n",
       "3  December 30, 2017   \n",
       "4  December 29, 2017   "
      ]
     },
     "execution_count": 6,
     "metadata": {},
     "output_type": "execute_result"
    }
   ],
   "source": [
    "true.head()"
   ]
  },
  {
   "cell_type": "code",
   "execution_count": 7,
   "id": "03aba4eb",
   "metadata": {},
   "outputs": [],
   "source": [
    "fake['class']=0\n",
    "true['class']=1"
   ]
  },
  {
   "cell_type": "code",
   "execution_count": 8,
   "id": "f42ef589",
   "metadata": {},
   "outputs": [],
   "source": [
    "data = pd.concat([fake,true], axis = 0)"
   ]
  },
  {
   "cell_type": "code",
   "execution_count": 19,
   "id": "a3e2472a",
   "metadata": {},
   "outputs": [
    {
     "data": {
      "application/vnd.microsoft.datawrangler.viewer.v0+json": {
       "columns": [
        {
         "name": "index",
         "rawType": "int64",
         "type": "integer"
        },
        {
         "name": "index",
         "rawType": "int64",
         "type": "integer"
        },
        {
         "name": "text",
         "rawType": "object",
         "type": "string"
        },
        {
         "name": "class",
         "rawType": "int64",
         "type": "integer"
        }
       ],
       "ref": "37a8fba8-118f-4a2b-8394-afc40d21bd45",
       "rows": [
        [
         "12746",
         "12746",
         "Hillary s campaign has been working in coordination with the mainstream media for months to hide Donald J. Trump s popularity with the  everyday Americans  Hillary claims to be a champion of. Pennsylvania is one state the Democrat Party would never have believed would be in jeopardy only one month before the election, but then again, they never expected the mass appeal Trump would have with middle America who want their country back and the jobless who want to be contributing members of our society again. We all basically want the same thing, to make America great again and that is why the Democrats are about to lose PA Nearly 100,000 Pennsylvania Democrats have switched to Republican since the beginning of the year.What s more: The Pennsylvania Republican party says more than 240-thousand new voters have joined the party since last November.The state Republican party says that the surge in Republican registrations is nearly twice the number of newly registered Republicans compared to both the 2008 and 2012 numbers combined.Combine this stunning development with the emergence of the Amish vote and the coal miners who are supporting Trump after  Hillary promised to take away their jobs, and you ve got a blue state that has a very high probability of turning red!  PittsburghCBS ",
         "0"
        ],
        [
         "43012",
         "19531",
         "MINAMATA, Japan (Reuters) - Shinobu Sakamoto was just 15 when she left her home in the southern Japanese fishing village of Minamata to go to Stockholm and tell the world of the horrors of mercury poisoning. Forty-five years on, she is traveling again, this time to Geneva, to attend from Sunday a gathering of signatories to the first global pact to rein in mercury pollution. Sakamoto is one of a shrinking group of survivors from a 1950s industrial disaster in which tens of thousands of people were poisoned after waste water from a chemical plant seeped into the Minamata bay. (Graphic link reut.rs/2jIdmUS) The waste contained a toxic organic compound, methylmercury, which can cause severe damage to the brain and nervous system, leading to a condition called Minamata disease. It gives its name to the U.N.-backed treaty that took effect last month. Symptoms worsen with age, leaving some victims grappling with the question of who will care for them after the death of  siblings and parents, while others face legal disputes.  If I don t say something, no one will know about Minamata disease,  said Sakamoto, who is one of the few born with the disease who is still able to talk.  There are still so many problems, and I want people to know.  Just 528 people survive from among the 3,000 certified victims of Minamata disease, environment ministry data shows.  More than 20,000 people have sought to be designated victims,  hoping for legal compensation.  We need to take seriously the fact that there are still many people raising their hands,  said ministry official Koji Sasaki, referring to victims  efforts to win recognition.  Born in a family of shipbuilders whose home overlooks the Minamata bay, Jitsuko Tanaka, 64, used to play on the beach with her older sister, picking and eating shellfish, unaware it was contaminated with mercury. She was almost three, and her sister five, when they lost the ability to move their hands freely and walk properly, becoming the first to be identified as disease sufferers. Tanaka s older sister died at age eight. Tanaka survived, but the poisoning left her too weak to walk without support. A few years ago, her family says, even that became impossible. As she lay motionless in bed, her brother-in-law, a fellow sufferer, said he worried about the patients left behind when family members die.    After I die, who will take care of her?  asked Yoshio Shimoda, 69. Sixty-one years since Minamata disease was identified in 1956, the grim struggles have eased for only a few. Before the government named methylmercury as its cause in 1968, disease sufferers faced discrimination over fears it was contagious, which deterred many from seeking legal recognition.  People still send in decades-old umbilical cords to be checked for contamination, hoping for evidence to support their claims to be designated as victims, said Hirokatsu Akagi, director of Minamata s International Mercury Laboratory. Sakamoto, poisoned while still in the womb, considers it her duty to tell the world about the dangers of mercury.  Minamata disease isn t over; it s not a thing of the past.  ",
         "1"
        ],
        [
         "27003",
         "3522",
         "BERLIN (Reuters) - Relations between Berlin and Washington are in a difficult phase but the United States is “bigger and better” than the current spat shows and ties will improve again, German Foreign Minister Sigmar Gabriel said on Tuesday. “It is true that we have a difficult situation in relations between the United States and Germany,” Gabriel said. “But the United States are older and bigger than the current conflict and so I think we will return to good relations in the future.” “Things are getting trivialized now. I think it is inappropriate that we are now communicating with each other between a beer tent and Twitter,” Gabriel added in Berlin. Chancellor Angela Merkel told her Bavarian allies in a beer tent in Munich on Sunday that Europe could no longer completely rely on its allies. U.S. President Donald Trump responded by criticizing Germany via Twitter earlier on Tuesday. ",
         "1"
        ],
        [
         "4254",
         "4254",
         "Republican presidential nominee Donald Trump is in full implosion mode. Ever since a lewd, misogynistic tape of him on an Access Hollywood bus with then-host Billy Bush surfaced on Friday, GOP establishment has been fleeing the Trump Train in an effort to save their own skins in down-ballot races. However, the party leaders   namely House Speaker Paul Ryan   were largely still supportive, even while condemning Trump s indefensible remarks.Well, that all changed on Monday, when Ryan told members of the House Republicans that he would no longer defend nor campaign for his party s toxic nominee, and told down-ballot candidates to do what they have to do to save their own seats in their districts. Trump, never one to be able to let things go when he feels slighted in any way, for any reason, has decided to go into full-blown war mode against his own party s establishment. Trump took to Twitter to blast them all, and it is still happening as we speak. Here s his big  f**k you  to Paul Ryan and all the rest:Despite winning the second debate in a landslide (every poll), it is hard to do well when Paul Ryan and others give zero support!  Donald J. Trump (@realDonaldTrump) October 11, 2016Our very weak and ineffective leader, Paul Ryan, had a bad conference call where his members went wild at his disloyalty.  Donald J. Trump (@realDonaldTrump) October 11, 2016It is so nice that the shackles have been taken off me and I can now fight for America the way I want to.  Donald J. Trump (@realDonaldTrump) October 11, 2016Disloyal R's are far more difficult than Crooked Hillary. They come at you from all sides. They don t know how to win   I will teach them!  Donald J. Trump (@realDonaldTrump) October 11, 2016And there you have it, folks. The Republican Party has literally nominated a crazy man to be in control of America s nuclear arsenal. If you ever doubted that the GOP cares more about their party than they do their country, here s your proof that there is no doubt to be had here. They d rather nominate a lunatic who would end civilization as they know it than see a Democrat in the White House. They created this monster, and now that they ve lost control of him, they have not a clue as to what to do about it.Featured image via Spencer Platt/Getty Images",
         "0"
        ],
        [
         "20328",
         "20328",
         "Let that sink in A major party in America is planning to spend upwards of $800,000 to create chaos, confusion and intimidation against fellow Americans who don t agree with them. Now that s a party you can be proud to be a part of! Internet hacker  Guccifer 2.0  released the Democrat Party s plan to disrupt the RNC in Cleveland and harass delegates at the convention.Democrats plan to spend at least $800,000 on operations to torment Republicans at their convention.Hundreds of paid liberal activists will also converge on Cleveland to disrupt and cause mayhem. -GPThe Smoking Gun reported:The Democratic Party s plan to crash this month s Republican National Convention is heavy on gimmicks and stunts meant to highlight a possible  Trumpocalypse,  as well as to ridicule the presumptive GOP candidate s purported spray tan, tiny fingers, and dog whistle proclivities.The Democratic National Committee s  Counter Convention Plan Sketch  covers 22 pages and outlines the party s activities in Cleveland, where the Republican convention begins July 18. Democratic operatives will launch their operation a week earlier, on July 11, to coincide with the opening of the RNC s summer meeting. ",
         "0"
        ],
        [
         "16715",
         "16715",
         "Since Sweden became the #1 destination for diversity and multiculturalism, they ve become the rape capital of the world yes, the world! Rape has skyrocketed as  refugee  resettlement has vastly increased. The Swedish police are warning the Swedish women not to go out after dark. It s just too dangerous! Can you believe that? Officers in picturesque  stersund issued the astonishing warning after gangs of  foreign  men went on the rampage, attempting to rape women in the street and even groping a group of 10-year-old girls at a bus stop.The shocking announcement will heighten concerns around the effects of mass migration on Sweden, which has been struggling to integrate more then 150,000 predominantly Muslim migrants.Women in the tiny lakeside town of  stersund, in central Sweden, have been terrorized by sex attacks with six such incidents being recorded in the last two weeks. In all of the cases the male attackers, often acting in gangs, were described as being  of foreign appearance .The attacks come as Swedish authorities have begun sending increasing numbers of migrants to a refugee reception centre in the small town because all accommodation further south has already been filled.Speaking at an extraordinary press conference yesterday police chiefs issued a stunning warning to women, telling them  stersund is now so unsafe they should not go out after dark alone. Regional police chief Stephen Jerand said the attacks were unusual because none of the perpetrators appeared to be drunk, adding that officers have witnessed a  worrying trend  in the town.He said:  The cases of the sexual harassment and attempted rapes have involved groups of up to three people. What stands out is also that none of these perpetrators have been under the influence. Now the police are going out and warning women against travelling alone in the city. We have seen a worrying trend. This is serious, we care about the protection of women and that is why we are going out and talking about this. The most recent assault took place in the early hours of Sunday morning, when three young men attempted to rape a woman in the town centre. Read more: Express",
         "0"
        ],
        [
         "42683",
         "19202",
         "BAGHDAD (Reuters) - The U.S. embassy in Iraq cautioned its citizens that there may be unrest during a referendum on independence planned by the  Kurdish authorities in northern Iraq, opposed by the central  government in Baghdad.   In particular, U.S. citizens should avoid travel into and within territories disputed between the Kurdish Regional Government (KRG) and the Government of Iraq,  the travel warning said. The KRG has resisted calls by the United Nations, the United States and Britain to delay the referendum. Iraq s powerful neighbors, Iran and Turkey, strongly oppose the vote as they fear could fuel separatism among their own Kurds. ",
         "1"
        ],
        [
         "7112",
         "7112",
         " We re paying so much attention to Donald Trump,  Comedian Margaret Cho told Addicting Info in a phone interview. Ms. Cho has openly endorsed Bernie Sanders, but has applauded Hillary Clinton s political efforts as well.  What he has done to politics is a travesty. It s a real embarrassment to the nature of politics in America. This was a dignified profession. There is a circus element to him. It s almost like we re looking at Nero. Nero is infamously known as the most tyrannical and insane emperor s Rome ever had. After taking the throne at the age of 17, Nero had his mother killed, was known for overt self-indulging and had anyone who dissented against him killed. For leisure, Nero would wander the streets of Rome and murder people at random.  After a fire burned most of Rome to the ground, Nero pointed the finger at Christians, which began a reign of persecuting and torturing anyone associated with the religion, similar to the rhetoric from Donald Trump against Muslims. A few years later, Rome finally rebelled against Nero s tyrannical rule, and Nero committed suicide, leaving no heir to the throne and a free for all among Rome s military generals to seize power.The rise of Donald Trump has invoked similar fears that such a tyrannical ruler could become President of the United States. Although, it is incredibly unlikely Donald Trump would ever reach the extent Nero did, with the support of a GOP majority in Congress, Donald Trump would likely reverse decades of progressive reforms Democrats have worked endlessly to push into legislation. The Supreme Court could possibly receive a judge incredibly unfit to be serving in such a capacity. Groups such as those who identify with the Muslim religion would be in even greater danger of their rights being taken away as Donald Trump has made proposals similar to those enacted by Adolf Hitler preceding the Holocaust during World War II. The comparisons to Hitler are not that far off,  added Ms. Cho.  It s a very dangerous time.  Senator Ted Cruz doesn t offer any better of an option for Republicans, who may face a brokered convention as many leaders in the party don t want Donald Trump or Ted Cruz as their nominee either.Featured image via Flickr",
         "0"
        ],
        [
         "27450",
         "3969",
         "WASHINGTON (Reuters) - The U.S. Senate took a procedural vote on Monday to clear the way for confirming Jay Clayton as the next head of the Securities and Exchange Commission. In a 60-36 vote, the Republican-led Senate voted to end debate on Clayton, with some Democrats joining Republicans in support. A final confirmation vote is expected later this week, and the Senate may take up to 30 hours to debate his confirmation prior to the vote. ",
         "1"
        ],
        [
         "19385",
         "19385",
         "The Obama administration plans to announce on Thursday a series of retaliatory measures against Russia for hacking into U.S. political institutions and individuals and leaking information in an effort to help President-elect Donald Trump and other Republican candidates, two U.S. officials said on Wednesday.Both officials declined to specify what actions President Barack Obama has approved, but said targeted economic sanctions, indictments, leaking information to embarrass Russian officials or oligarchs, and restrictions on Russian diplomats in the United States are among steps that have been discussed.One decision that has been made, they said, speaking on the condition of anonymity, is to avoid any moves that exceed the Russian election hacking and risk an escalating cyber conflict that could spiral out of control. One example of an excessive step might be interfering with Russian internet messaging.Russia has repeatedly denied hacking accusations. Trump has dismissed the assessments of the U.S. intelligence community.Obama, in an interview earlier this month with NPR, said,  We need to take action and we will  against Russia for interfering in the U.S. election.Trump seemed to suggest the United States should not impose sanctions on Russia. I think we ought to get on with our lives,  Trump told reporters in Florida on Wednesday when asked about remarks by Republican Senator Lindsey Graham, who said Russia and President Vladimir Putin should expect tough sanctions for the cyber attacks.Russia s Foreign Ministry spokeswoman, Maria Zakharova, promised retaliation on Wednesday against Washington in the event of new economic sanctions.Jim Lewis, a cyber security expert with the Center for Strategic and International Studies think tank, said further sanctions may be an effective U.S. tool in part because they would be difficult for Trump to roll back and because Russia  hates  dealing with them. For the rest of the world, it s like having  scumball  stamped on your forehead,  Lewis said.How to respond to the growing problem of cyber attacks carried out or sponsored by foreign powers has bedeviled Obama, whose eight years in office witnessed a torrent of major hacks against the U.S. government and private organizations that were attributed to China, North Korea, Iran and Russia.In past cases, administration officials have decided to publicly blame North Korea and indict members of China s military for hacking because they decided the net benefit of public shaming   and increased awareness brought to cyber security   outweighed potential risks.But determining an appropriate response to Russia s actions has proven more complicated in part because Russia s cyber capabilities are more advanced and due to fears about disrupting other geopolitical issues, such as the civil war in Syria.Obama may choose to invoke an April 2015 executive order that empowered him to levy sanctions in response to cyber attacks perpetrated by foreign groups targeting infrastructure, such as transportation, or done for economic purposes.Another option would be further economic sanctions against Russia. Washington has already sanctioned Russia over the past two years to punish Moscow for its role in annexing Crimea. But former U.S. officials say the existing measures leave Washington plenty of room to slap new, tougher sanction on Russia in response to cyber intrusions.  ReutersIn recent months, WikiLeaks and I personally have come under enormous pressure to stop publishing what the Clinton campaign says about itself to itself. That pressure has come from the campaign s allies, including the Obama administration, and from liberals who are anxious about who will be elected US President.On the eve of the election, it is important to restate why we have published what we have.The right to receive and impart true information is the guiding principle of WikiLeaks   an organization that has a staff and organizational mission far beyond myself. Our organization defends the public s right to be informed.This is why, irrespective of the outcome of the 2016 US Presidential election, the real victor is the US public which is better informed as a result of our work.The US public has thoroughly engaged with WikiLeaks  election related publications which number more than one hundred thousand documents. Millions of Americans have pored over the leaks and passed on their citations to each other and to us. It is an open model of journalism that gatekeepers are uncomfortable with, but which is perfectly harmonious with the First Amendment.We publish material given to us if it is of political, diplomatic, historical or ethical importance and which has not been published elsewhere. When we have material that fulfills this criteria, we publish. We had information that fit our editorial criteria which related to the Sanders and Clinton campaign (DNC Leaks) and the Clinton political campaign and Foundation (Podesta Emails). No-one disputes the public importance of these publications. It would be unconscionable for WikiLeaks to withhold such an archive from the public during an election.At the same time, we cannot publish what we do not have. To date, we have not received information on Donald Trump s campaign, or Jill Stein s campaign, or Gary Johnson s campaign or any of the other candidates that fufills our stated editorial criteria. As a result of publishing Clinton s cables and indexing her emails we are seen as domain experts on Clinton archives. So it is natural that Clinton sources come to us.We publish as fast as our resources will allow and as fast as the public can absorb it.That is our commitment to ourselves, to our sources, and to the public.This is not due to a personal desire to influence the outcome of the election. The Democratic and Republican candidates have both expressed hostility towards whistleblowers. I spoke at the launch of the campaign for Jill Stein, the Green Party candidate, because her platform addresses the need to protect them. This is an issue that is close to my heart because of the Obama administration s inhuman and degrading treatment of one of our alleged sources, Chelsea Manning. But WikiLeaks publications are not an attempt to get Jill Stein elected or to take revenge over Ms Manning s treatment either.Publishing is what we do. To withhold the publication of such information until after the election would have been to favour one of the candidates above the public s right to know.This is after all what happened when the New York Times withheld evidence of illegal mass surveillance of the US population for a year until after the 2004 election, denying the public a critical understanding of the incumbent president George W Bush, which probably secured his reelection. The current editor of the New York Times has distanced himself from that decision and rightly so.The US public defends free speech more passionately, but the First Amendment only truly lives through its repeated exercise. The First Amendment explicitly prevents the executive from attempting to restrict anyone s ability to speak and publish freely. The First Amendment does not privilege old media, with its corporate advertisers and dependencies on incumbent power factions, over WikiLeaks  model of scientific journalism or an individual s decision to inform their friends on social media. The First Amendment unapologetically nurtures the democratization of knowledge. With the Internet, it has reached its full potential.Yet, some weeks ago, in a tactic reminiscent of Senator McCarthy and the red scare, Wikileaks, Green Party candidate Stein, Glenn Greenwald and Clinton s main opponent were painted with a broad, red brush. The Clinton campaign, when they were not spreading obvious untruths, pointed to unnamed sources or to speculative and vague statements from the intelligence community to suggest a nefarious allegiance with Russia. The campaign was unable to invoke evidence about our publications because none exists.In the end, those who have attempted to malign our groundbreaking work over the past four months seek to inhibit public understanding perhaps because it is embarrassing to them   a reason for censorship the First Amendment cannot tolerate. Only unsuccessfully do they try to claim that our publications are inaccurate.WikiLeaks  decade-long pristine record for authentication remains. Our key publications this round have even been proven through the cryptographic signatures of the companies they passed through, such as Google. It is not every day you can mathematically prove that your publications are perfect but this day is one of them.We have endured intense criticism, primarily from Clinton supporters, for our publications. Many long-term supporters have been frustrated because we have not addressed this criticism in a systematic way or responded to a number of false narratives about Wikileaks  motivation or sources. Ultimately, however, if WL reacted to every false claim, we would have to divert resources from our primary work.WikiLeaks, like all publishers, is ultimately accountable to its funders. Those funders are you. Our resources are entirely made up of contributions from the public and our book sales. This allows us to be principled, independent and free in a way no other influential media organization is. But it also means that we do not have the resources of CNN, MSNBC or the Clinton campaign to constantly rebuff criticism.Yet if the press obeys considerations above informing the public, we are no longer talking about a free press, and we are no longer talking about an informed public.Wikileaks remains committed to publishing information that informs the public, even if many, especially those in power, would prefer not to see it. WikiLeaks must publish. It must publish and be damned.",
         "0"
        ],
        [
         "10847",
         "10847",
         "This is one of the best accounts we ve seen of who REALLY committed a crime in all of this craziness. Judge Napolitano is dead on with his assessment of the unmasking for political reasons: Were senators under surveillance by Obama administration? Rand Paul and other Senators were under surveillance for political purposes according to Senator Paul. The unmasking using the name that was unmasked for political reasons is a FELONY. The principal unmasker is Susan Rice so Susan Rice needs to be dealt with. Did she unmask illegally and for political purposes?Senator Rand Paul talks about FBI Director James Comey being fired by President Donald Trump. Paul believes Comey should have been fired a long time ago for some major missteps during his tenure including the terrorist attack in Orlando, Florida. Paul also talks about Susan Rice unmasking Innocent Americans and spying on them, the Obama administration spying on Donald Trump and other Republicans.",
         "0"
        ],
        [
         "32654",
         "9173",
         "AUSTIN, Texas (Reuters) - The office of Texas Lieutenant Governor Dan Patrick, a Republican and evangelical Christian, on Sunday deleted a tweet many saw as offensive and insensitive that was sent out shortly after the deadly attack on a gay nightclub in Florida. “Do not be deceived: God cannot be mocked. A man reaps what he sows,” read the Bible verse Patrick sent out on his official Twitter account a few hours after the worst mass shooting in U.S. history that left at least 50 dead. His office was not immediately available for comment but has told local media, including the Dallas Morning News, that the tweet had been scheduled for release well before the shooting. The office, which regularly sends out a Bible verse on Sundays, has since deleted it and replaced with another passage, they said.  But the deleted tweet from a politician who has condemned same-sex marriage and fought against LGBT rights still raised the ire of those who accused Patrick of blaming the victims. “You are a disgrace to your state in this time of national sorrow. You should resign,” prominent LGBT activist George Takei wrote on Twitter. The Texas Democratic Party called on Patrick to apologize immediately. “Make this right. We are better than this,” it said in a statement. Patrick is currently out of the country and has not yet made  comment to media about the tweet. The new verse sent on his account reads: “The salvation of the righteous comes from the Lord; He is their stronghold in time of trouble.” ",
         "1"
        ],
        [
         "20269",
         "20269",
         "There are no words for these selfish sub-humans Here are a couple of profiles from Twitter of the people tweeting about BLM being ignored because of Nice terror tragedy. They have both made their Twitter accounts private:We found this sweet self-described  Georgia Peach  listed as a  Fashion Contributor  at company called xoNecole.com Feel free to send a message to her boss on their Facebook page. Click HERE for link.Here s another pathetic Twitter user: @_nehoda_ who whined about the attention victims of the Nice terror attack were taking from the BLM movement. She s lists herself as living in London, but calls Egypt  the motherland ?? Hmmm How does a Muslim woman living in London get hooked up with BLM terrorists in US?And then there s the other Muslim living in London who s a bit more brash with his tweets: Don't #PrayForNice we are fighting a civil war against whites. #BLM  Andre Johnson (@LarryKingfisher) July 15, 2016Here are a few replies to Omar s tweet:Here are a few of this Muslim punk s remarks threatening a caliphate and boasting about how the Muslims have already won the war against the West:Here s real bright guy who s got nothing better to do than take to Twitter complaining about  the plight of black people on the day after a major terror attack that killed over 80 people. Never mind that people just lost their husbands, wives, children, kids, friends, relatives or co-workers.Some white people die in Europe and now the media can ignore the plight of black people being exterminated #blacklivesmatter #NiceAttack  Bob Schmidt (@bobschmidt857) July 15, 2016We tryna rise up for equality n somehow a 'muslim' attacks people? #BlackLivesMatter #FakeShit #NiceAttack  Daye Hazit (@YurBoyDW) July 15, 2016The real tragedy about the #NiceAttack is that it takes the spotlight away from #BlackLivesMatter  TheAltRightProfessor (@NationalistProf) July 14, 2016And finally this guy nails it:Nice job with PR #BlackLivesMatter Nothing makes people want to support you like whining about \"getting the limelight stolen\" by #NiceAttack  Pink Snow kitty (@HugoThePinkCat) July 15, 2016",
         "0"
        ],
        [
         "5674",
         "5674",
         "A struggling mom sent an email to all 122 of Mississippi s lawmakers asking for help getting insulin and an insulin pump for her diabetic daughter. This was after she called 23 suppliers, trying to find one that would take Medicaid following her former supplier s move out of Medicaid s network. Her daughter has Type 1 diabetes, and needs six to ten insulin injections per day just to live.Nicole Nichols  was flabbergasted  when she received this response from State Representative Jeffrey Guice: I am sorry for your problem. Have you thought about buying the supplies with money that you earn? Wow. A struggling mom gets desperate and emails her lawmakers for help, and she gets slapped down with a horrifically insensitive reply from someone who doesn t know squat about her or her family. Guice is the perfect example of what s wrong with the GOP. The bootstraps crowd over there has a very limited understanding of these things.Guice issued an apology for his terrible response, which actually just reinforces the fact that he doesn t care about anyone outside his little bubble: I realize my remarks to Mrs. Nichols were completely insensitive and out of line I am sorry and deeply regret my reply. I know nothing about her and her family and replied in knee-jerk fashion. I d like to think the people of Mississippi and my constituents know that I m willing to help where I am able. I replied in knee-jerk fashion.  That s basically an admission that he thinks anyone receiving government aid is a lazy good-for-nothing living high on the hog off of the backs of hardworking taxpayers. That s what the entire GOP thinks about people on aid. What an obtuse piece of flotsam.Nichols told her story to the Clarion-Ledger, going into more detail in a video about her situation and why she needs these supplies:Nichols is a stay-at-home mom, but her husband works two jobs to provide for their family of four. The insulin pump, which her daughter needs to avoid having to go through six to ten injections every day, is $2,000. The insulin itself can run as much as $400 per month. Struggling families can t afford that, and no amount of  get a job  is going to change that.Nichols actually did receive two other replies, both of which were sympathetic to her situation. Thankfully, people like Guice aren t calling the shots here. Nichols posted about this on her Facebook page, prompting a barrage of outraged comments from people who read it. Mississippi Medicaid saw her post, actually had some compassion, and reached out to Nichols about this very situation.Guice, and the rest of the GOP, are heartless brutes. He might regret his comments, but the fact that he even made them shows that he s just another one of those who thinks everyone should just magically grow bootstraps with which to pull themselves up.Featured image via screen capture from embedded video",
         "0"
        ],
        [
         "40073",
         "16592",
         "BUENOS AIRES (Reuters) - The victory of Argentine President Mauricio Macri s coalition in midterm elections on Sunday marked a resounding defeat of Peronism, one of Latin America s best-known political movements, leaving it divided and with no clear leader. In particular, a win by Macri s candidate over former President Cristina Fernandez in Buenos Aires province, the cradle of Peronism, diminishes her chances of returning to the presidency in 2019 and opens the door to a new era of business friendly reforms. While it is too soon to call the end of Peronism as a political force, the  Let s Change  movement founded by Macri, a former businessman and soccer mogul, has introduced a generation of new politicians who are less interested in dwelling on the emotion and imagery of Argentina s past than their predecessors.  We know that if we win, there will be renewal in Congress, but above all that people will accept that the country has changed,  Macri s chief campaign strategist Jaime Duran Barba said in a recent interview ahead of the election. He pointed to Buenos Aires governor, 44-year-old Maria Eugenia Vidal, and 51-year-old Buenos Aires City Mayor, Horacio Rodriguez Larreta, both from Macri s coalition, as examples of the leaders of the future. Macri s coalition won close to 42 percent of the national vote on Sunday, when Argentina elected a third of the Senate and half the lower chamber. That still leaves Macri short of a majority in Congress but new alliances should enable him to pass tax, capital market and labor reforms. Fernandez, who succeeded her late husband Nestor Kirchner in 2007, won two presidential elections thanks to nationalist appeals and generous social welfare programs.  She drew comparisons to Eva Peron, whose support for the country s poor means she is still adored by many working class Argentines 65 years after her death.  Evita,  as she is known worldwide, was the wife of General Juan Peron, the founder of the Peronist movement. Focused on workers  rights, its economic policies have veered from protectionist to free-market and it defies easy classification. In different forms, it has been Argentina s dominant political force since the 1940s. Argentina s electoral list system guaranteed Fernandez a Senate seat and some political influence with her second-place finish, but she lost by more than four percentage points to Macri s little-known former education minister in the bellwether province that is home to nearly 40 percent of voters. In October, 57 percent of Buenos Aires province citizens said they would never vote for Fernandez, according to a poll by Management & Fit. Pollster Poliarquia said that, nationwide, 53 percent of Argentines have a negative view of Fernandez, while 30 percent have a positive view.  Many Argentines blame Fernandez for isolating them economically with protectionist policies and cutting the country off from international capital markets. Now the center of a number of corruption investigations, Fernandez personally denies committing graft, though she admits there may have been corruption in her government.   Peronism today is rebuilding itself, leaving behind a very negative era,  said Enrique Zuleta Puceiro, director of pollster OPSM.  There are not any leaders with high levels of national influence.  With less clout in Congress, moderate Peronist governors are weighing joining Macri s reform agenda or abandoning their political careers. They have distanced themselves from Fernandez, who formed a new party for the election. Macri told Reuters in August that he could negotiate with a new generation of Peronist governors like Juan Manuel Urtubey of Salta and Sergio Unac of San Juan, who worked with him to reach an agreement to cut spending.  If Peronism does not renew itself it is destined to disappear,  Urtubey told Perfil newspaper, before his coalition in Salta lost heavily to Macri s allies in the election. Since taking office in late 2015, Macri has worked to literally dismantle Peronist symbols, taking down portraits and closing museums to get rid of their cultural legacies. However, given its historical weight and habit of renovation, most analysts say it is too soon to write Peronism s obituary.  Giving up Peronism for dead, thinking it will remain fragmented and confused until 2019, I believe is an error,  said Marcos Buscaglia, founding partner at Buenos Aires political and economic consultancy Alberdi Partners.  Paula Alonso, director of the Latin American and Hemispheric Studies Program at George Washington University, said Argentina s former Peronist leaders - including Peron himself, Carlos Menem, and the Kirchners - had generally risen swiftly to power from relative obscurity.      It s unpredictable in many ways, and therefore it is always relevant,  she said.  ",
         "1"
        ],
        [
         "39721",
         "16240",
         "SYDNEY (Reuters) - Australian Prime Minister Malcolm Turnbull on Saturday appointed his foreign minister as acting prime minister as he tried to stem the fallout of a citizenship crisis that has cost his government its parliamentary majority.  Turnbull delayed until Monday a long-planned trip to Israel and held an emergency Cabinet meeting to shore up support after Australia s High Court ruled on Friday that his deputy, Barnaby Joyce, and four other lawmakers should be expelled from parliament because they held dual nationality.  The court s shock decision had immediate ramifications, stripping the coalition government of the one-seat majority it holds in the lower house, forcing it to call a by-election in Joyce s seat and sending the Australian dollar lower. The opposition Labor Party has said it is considering a legal challenge to every decision made by Joyce since last year s election. Turnbull said on Saturday that the deputy position would remain vacant until after the Dec. 2 by-election for Joyce s seat. The position normally goes to a member of the National Party, the junior partner in the coalition government.  Foreign Minister Julie Bishop, a member of Turnbull s Liberal Party, would instead be acting prime minister when he travels to Israel on Monday, three days behind schedule.   Government goes on, good government goes on,  Turnbull told reporters in Sydney, dismissing suggestions that the inability to agree on a deputy indicated tensions within the coalition.  When times get tough, that s when you put your arms around your mates.  Turnbull now needs the support of one of three independent lawmakers to keep his minority government afloat, with two sitting weeks of parliament left until it recesses for the year. At least two independent lawmakers have promised initial support, but noted that it may be conditional. Turnbull is under particular pressure after refusing demands from the opposition to remove Joyce, who has renounced his New Zealand citizenship, from the cabinet while the court decided his fate.  Turnbull said the court s interpretation of the constitution, which bars dual citizens from parliament in a bid to prevent split allegiances, was  very strict  and  very hard . He added that he was considering whether to recommend a change to the constitution, noting that more than half of the country s population of 24 million was either born overseas or has a parent who was born overseas.   Our objective is to ensure parliament is open to everybody,  he said. A referendum would be needed to change the constitution. The High Court ruled on seven lawmakers, some of whom had already resigned. All seven accepted that they were dual nationals at the time of their election but claimed they were unaware of their status. Some were conferred a second nationality by birth, others by descent.  The others dismissed were all senators in the upper house and their seats can be assigned to party-appointed alternatives. ",
         "1"
        ],
        [
         "12148",
         "12148",
         " ",
         "0"
        ],
        [
         "27588",
         "4107",
         "WASHINGTON (Reuters) - Former Fox News anchor and correspondent Heather Nauert will be the new U.S. State Department spokeswoman, the State Department said in a statement on Monday. Nauert was most recently an anchor for Fox News’ morning news show “Fox and Friends,” and previously was a correspondent at ABC News.  “Heather’s media experience and long interest in international affairs will be invaluable as she conveys the administration’s foreign policy priorities to the American people and the world,” the statement said. ",
         "1"
        ],
        [
         "29575",
         "6094",
         "WASHINGTON (Reuters) - Two Republican senators said on Monday that U.S. states should be allowed to stay in the Obamacare medical insurance program if they like, with one also saying she was confused by President Donald Trump’s broad but unspecific executive order targeting the program. Trump and congressional Republicans campaigned on a promise to dismantle Obamacare, and they are working on carrying out that pledge as an early product of united Republican control of the White House and Congress. But the legislative proposal by Senators Susan Collins of Maine and Bill Cassidy of Louisiana would let states choose to keep Obamacare or move to a replacement program, for which states would also receive some federal funding. Cassidy, himself a doctor, said such an approach could help attract Democratic votes that will be needed for an eventual replacement for Obamacare, former Democratic President Barack Obama’s health insurance program approved in 2010. The proposal did not, however, win over the Senate’s leading Democrat, Chuck Schumer, who denounced the idea as an “empty facade” and a “far cry” from a full replacement for Obamacare. Democrats strongly oppose a repeal of Obamacare, officially called the Affordable Care Act. But after a meeting Monday of congressional leaders and Trump, House Democratic Leader Nancy Pelosi said Democrats were willing to discuss Republican healthcare proposals if they accomplish the same goals. “Well, we talked about the Affordable Care Act, and said, what the Affordable Care Act has been successful in doing is improving quality, expanding access and lowering costs. And any proposal that they might have that does that – we’d be interested in hearing about,” Pelosi said after the meeting at the White House. At the Republican news conference earlier, Collins called Trump’s executive order issued Friday against Obamacare “very confusing,” adding that whatever actions the Trump administration takes, legislation will still be needed to replace the law. “We really don’t know yet what the impact will be,” Collins, a moderate Republican, said, adding that it will be difficult to assess the order’s impact until there is a new Cabinet secretary in place in charge of health. Trump signed his executive order on Friday within hours of taking office. It directs U.S. agencies to “waive, defer, grant exemptions from, or delay the implementation” of provisions of Obamacare deemed to impose fiscal burdens on states, companies or individuals. The order did not specify which parts of Obamacare would be affected or the timing. Trump’s nominee to head the U.S. Department of Health and Human Services, Representative Tom Price of Georgia, has said there is no plan for “pulling the rug out” on millions of Americans’ healthcare as a replacement is designed. Any changes are unlikely to affect in 2017 the government-funded or subsidized insurance plans covering more than 20 million people. ",
         "1"
        ],
        [
         "32674",
         "9193",
         "WASHINGTON (Reuters) - Democratic U.S. Senator Elizabeth Warren will keep up her assault on Republican presidential candidate Donald Trump on Thursday in a strongly worded speech labeling Trump a racist and accusing the Republican Party of fostering his intolerance. “Donald Trump chose racism as his weapon, but his aim is exactly the same as the rest of the Republicans,” Warren will say in remarks to be delivered at a Washington meeting of the American Constitution Society, a liberal group. Warren, a fiery critic of Wall Street, is a favorite among liberals as a possible running mate for Hillary Clinton, who this week became the presumptive Democratic nominee for the Nov. 8 presidential election. Trump has drawn strong criticism, including from some Republican leaders, for his attacks on Mexican-American U.S. District Judge Gonzalo Curiel, who is overseeing fraud lawsuits against his now defunct real estate training school. The Republican candidate has accused Curiel, an American  born in Indiana, of having an inherent bias against him because of his heritage and Trump’s campaign pledges on curbing illegal immigration, such as building a wall along the U.S.-Mexico border. “Judge Curiel is one of countless American patriots who has spent decades quietly serving his country, sometimes at great risk to his own life,” Warren will say. “Donald Trump is a loud, nasty, thin-skinned fraud who has never risked anything for anyone and serves nobody but himself.”     Thursday’s remarks will be just the latest in a war of words between Trump and Warren. Trump has dubbed Warren “goofy,” and often taunts her on the campaign trail, while Warren has branded Trump a “loser” and last month tweeted that his “record is embarrassing.” Reuters reported on Wednesday that Warren will soon endorse Clinton, after months of remaining neutral in the Democratic primary battle between Clinton and her challenger from the left, U.S. Senator Bernie Sanders. Warren has considered the idea of serving as Clinton’s running mate although she sees obstacles to that choice, sources said. ",
         "1"
        ]
       ],
       "shape": {
        "columns": 3,
        "rows": 20
       }
      },
      "text/html": [
       "<div>\n",
       "<style scoped>\n",
       "    .dataframe tbody tr th:only-of-type {\n",
       "        vertical-align: middle;\n",
       "    }\n",
       "\n",
       "    .dataframe tbody tr th {\n",
       "        vertical-align: top;\n",
       "    }\n",
       "\n",
       "    .dataframe thead th {\n",
       "        text-align: right;\n",
       "    }\n",
       "</style>\n",
       "<table border=\"1\" class=\"dataframe\">\n",
       "  <thead>\n",
       "    <tr style=\"text-align: right;\">\n",
       "      <th></th>\n",
       "      <th>index</th>\n",
       "      <th>text</th>\n",
       "      <th>class</th>\n",
       "    </tr>\n",
       "  </thead>\n",
       "  <tbody>\n",
       "    <tr>\n",
       "      <th>12746</th>\n",
       "      <td>12746</td>\n",
       "      <td>Hillary s campaign has been working in coordin...</td>\n",
       "      <td>0</td>\n",
       "    </tr>\n",
       "    <tr>\n",
       "      <th>43012</th>\n",
       "      <td>19531</td>\n",
       "      <td>MINAMATA, Japan (Reuters) - Shinobu Sakamoto w...</td>\n",
       "      <td>1</td>\n",
       "    </tr>\n",
       "    <tr>\n",
       "      <th>27003</th>\n",
       "      <td>3522</td>\n",
       "      <td>BERLIN (Reuters) - Relations between Berlin an...</td>\n",
       "      <td>1</td>\n",
       "    </tr>\n",
       "    <tr>\n",
       "      <th>4254</th>\n",
       "      <td>4254</td>\n",
       "      <td>Republican presidential nominee Donald Trump i...</td>\n",
       "      <td>0</td>\n",
       "    </tr>\n",
       "    <tr>\n",
       "      <th>20328</th>\n",
       "      <td>20328</td>\n",
       "      <td>Let that sink in A major party in America is p...</td>\n",
       "      <td>0</td>\n",
       "    </tr>\n",
       "    <tr>\n",
       "      <th>16715</th>\n",
       "      <td>16715</td>\n",
       "      <td>Since Sweden became the #1 destination for div...</td>\n",
       "      <td>0</td>\n",
       "    </tr>\n",
       "    <tr>\n",
       "      <th>42683</th>\n",
       "      <td>19202</td>\n",
       "      <td>BAGHDAD (Reuters) - The U.S. embassy in Iraq c...</td>\n",
       "      <td>1</td>\n",
       "    </tr>\n",
       "    <tr>\n",
       "      <th>7112</th>\n",
       "      <td>7112</td>\n",
       "      <td>We re paying so much attention to Donald Trum...</td>\n",
       "      <td>0</td>\n",
       "    </tr>\n",
       "    <tr>\n",
       "      <th>27450</th>\n",
       "      <td>3969</td>\n",
       "      <td>WASHINGTON (Reuters) - The U.S. Senate took a ...</td>\n",
       "      <td>1</td>\n",
       "    </tr>\n",
       "    <tr>\n",
       "      <th>19385</th>\n",
       "      <td>19385</td>\n",
       "      <td>The Obama administration plans to announce on ...</td>\n",
       "      <td>0</td>\n",
       "    </tr>\n",
       "    <tr>\n",
       "      <th>10847</th>\n",
       "      <td>10847</td>\n",
       "      <td>This is one of the best accounts we ve seen of...</td>\n",
       "      <td>0</td>\n",
       "    </tr>\n",
       "    <tr>\n",
       "      <th>32654</th>\n",
       "      <td>9173</td>\n",
       "      <td>AUSTIN, Texas (Reuters) - The office of Texas ...</td>\n",
       "      <td>1</td>\n",
       "    </tr>\n",
       "    <tr>\n",
       "      <th>20269</th>\n",
       "      <td>20269</td>\n",
       "      <td>There are no words for these selfish sub-human...</td>\n",
       "      <td>0</td>\n",
       "    </tr>\n",
       "    <tr>\n",
       "      <th>5674</th>\n",
       "      <td>5674</td>\n",
       "      <td>A struggling mom sent an email to all 122 of M...</td>\n",
       "      <td>0</td>\n",
       "    </tr>\n",
       "    <tr>\n",
       "      <th>40073</th>\n",
       "      <td>16592</td>\n",
       "      <td>BUENOS AIRES (Reuters) - The victory of Argent...</td>\n",
       "      <td>1</td>\n",
       "    </tr>\n",
       "    <tr>\n",
       "      <th>39721</th>\n",
       "      <td>16240</td>\n",
       "      <td>SYDNEY (Reuters) - Australian Prime Minister M...</td>\n",
       "      <td>1</td>\n",
       "    </tr>\n",
       "    <tr>\n",
       "      <th>12148</th>\n",
       "      <td>12148</td>\n",
       "      <td></td>\n",
       "      <td>0</td>\n",
       "    </tr>\n",
       "    <tr>\n",
       "      <th>27588</th>\n",
       "      <td>4107</td>\n",
       "      <td>WASHINGTON (Reuters) - Former Fox News anchor ...</td>\n",
       "      <td>1</td>\n",
       "    </tr>\n",
       "    <tr>\n",
       "      <th>29575</th>\n",
       "      <td>6094</td>\n",
       "      <td>WASHINGTON (Reuters) - Two Republican senators...</td>\n",
       "      <td>1</td>\n",
       "    </tr>\n",
       "    <tr>\n",
       "      <th>32674</th>\n",
       "      <td>9193</td>\n",
       "      <td>WASHINGTON (Reuters) - Democratic U.S. Senator...</td>\n",
       "      <td>1</td>\n",
       "    </tr>\n",
       "  </tbody>\n",
       "</table>\n",
       "</div>"
      ],
      "text/plain": [
       "       index                                               text  class\n",
       "12746  12746  Hillary s campaign has been working in coordin...      0\n",
       "43012  19531  MINAMATA, Japan (Reuters) - Shinobu Sakamoto w...      1\n",
       "27003   3522  BERLIN (Reuters) - Relations between Berlin an...      1\n",
       "4254    4254  Republican presidential nominee Donald Trump i...      0\n",
       "20328  20328  Let that sink in A major party in America is p...      0\n",
       "16715  16715  Since Sweden became the #1 destination for div...      0\n",
       "42683  19202  BAGHDAD (Reuters) - The U.S. embassy in Iraq c...      1\n",
       "7112    7112   We re paying so much attention to Donald Trum...      0\n",
       "27450   3969  WASHINGTON (Reuters) - The U.S. Senate took a ...      1\n",
       "19385  19385  The Obama administration plans to announce on ...      0\n",
       "10847  10847  This is one of the best accounts we ve seen of...      0\n",
       "32654   9173  AUSTIN, Texas (Reuters) - The office of Texas ...      1\n",
       "20269  20269  There are no words for these selfish sub-human...      0\n",
       "5674    5674  A struggling mom sent an email to all 122 of M...      0\n",
       "40073  16592  BUENOS AIRES (Reuters) - The victory of Argent...      1\n",
       "39721  16240  SYDNEY (Reuters) - Australian Prime Minister M...      1\n",
       "12148  12148                                                         0\n",
       "27588   4107  WASHINGTON (Reuters) - Former Fox News anchor ...      1\n",
       "29575   6094  WASHINGTON (Reuters) - Two Republican senators...      1\n",
       "32674   9193  WASHINGTON (Reuters) - Democratic U.S. Senator...      1"
      ]
     },
     "execution_count": 19,
     "metadata": {},
     "output_type": "execute_result"
    }
   ],
   "source": [
    "data.sample(20)"
   ]
  },
  {
   "cell_type": "code",
   "execution_count": 11,
   "id": "eac13504",
   "metadata": {},
   "outputs": [],
   "source": [
    "data = data.drop([\"title\",\"subject\",\"date\"], axis = 1)"
   ]
  },
  {
   "cell_type": "code",
   "execution_count": 17,
   "id": "21ff47ba",
   "metadata": {},
   "outputs": [],
   "source": [
    "data.reset_index(inplace=True)"
   ]
  },
  {
   "cell_type": "code",
   "execution_count": 20,
   "id": "d2ed2c20",
   "metadata": {},
   "outputs": [],
   "source": [
    "data.drop(['index'],axis=1,inplace=True)"
   ]
  },
  {
   "cell_type": "code",
   "execution_count": 21,
   "id": "ce84a6fc",
   "metadata": {},
   "outputs": [
    {
     "data": {
      "text/plain": [
       "<bound method NDFrame.sample of                                                     text  class\n",
       "0      Donald Trump just couldn t wish all Americans ...      0\n",
       "1      House Intelligence Committee Chairman Devin Nu...      0\n",
       "2      On Friday, it was revealed that former Milwauk...      0\n",
       "3      On Christmas day, Donald Trump announced that ...      0\n",
       "4      Pope Francis used his annual Christmas Day mes...      0\n",
       "...                                                  ...    ...\n",
       "44893  BRUSSELS (Reuters) - NATO allies on Tuesday we...      1\n",
       "44894  LONDON (Reuters) - LexisNexis, a provider of l...      1\n",
       "44895  MINSK (Reuters) - In the shadow of disused Sov...      1\n",
       "44896  MOSCOW (Reuters) - Vatican Secretary of State ...      1\n",
       "44897  JAKARTA (Reuters) - Indonesia will buy 11 Sukh...      1\n",
       "\n",
       "[44898 rows x 2 columns]>"
      ]
     },
     "execution_count": 21,
     "metadata": {},
     "output_type": "execute_result"
    }
   ],
   "source": [
    "data.sample\n"
   ]
  },
  {
   "cell_type": "code",
   "execution_count": 22,
   "id": "8651ae41",
   "metadata": {},
   "outputs": [
    {
     "data": {
      "application/vnd.microsoft.datawrangler.viewer.v0+json": {
       "columns": [
        {
         "name": "index",
         "rawType": "int64",
         "type": "integer"
        },
        {
         "name": "text",
         "rawType": "object",
         "type": "string"
        },
        {
         "name": "class",
         "rawType": "int64",
         "type": "integer"
        }
       ],
       "ref": "5dee0a39-9fa6-4e9e-b1ad-710a3029568a",
       "rows": [
        [
         "161",
         "Sean Hannity threw a massive temper tantrum on Monday night in defense of Donald Trump.The Fox News host went off on a seriously delusional rant about Hillary Clinton, even referring to her as  President Clinton  on two occasions.Hannity whined about the indictments against Paul Manafort and Rick Gates, and just like Donald Trump, attempted to shift the focus from Trump s Russia collusion to Hillary Clinton. This is beyond insanity and it s inexcusable,  Hannity whined.  Hillary Clinton, Bill Clinton, the Obama Administration allowed your national security to be compromised in what is an unprecedented way and few in the media will touch this story. Major crimes were committed. They knew about it. They did nothing before the deal. Hannity is referring to the Uranium One deal the Obama Administration made with Russia back in 2010. Trump himself has been bellowing about it for quite some time now in a desperate effort to distract from his very real crimes.Basically, the deal gave a Russian company no more than a 51 percent stake in a Canadian-based mining company and ownership of  20 percent of the currently licensed uranium in-situ recovery production capacity in the U.S. This deal does not harm our national security as Hannity claims, nor did Hillary Clinton personally approve of the deal. Factcheck.org recently gave a run-down of the deal and thoroughly debunked Trump and Hannity s claims. As we ve written before, there is no evidence that donations to the Clinton Foundation from people with ties to Uranium One or Bill Clinton s speaking fee influenced Hillary Clinton s official actions,  FactCheck.org wrote.  That s still the case. In fact, not only did such a deal require approval from several federal agencies and committees, only 11 percent of overall U.S. production of uranium comes from Uranium One. And that uranium is sold to operators of commercial nuclear reactors. Basically, the uranium is being sold to us as it would have if Uranium One was not held by a Russian company. This deal was under a lot of scrutiny before it went through, and was even publicly announced. But Hannity did not utter one word about it when it happened.Of course, Hannity is still insisting that the evidence is on Trump s side despite the fact that there is a lot of evidence proving that he and Trump are full of shit and that Trump committed treason to steal an election. We are at a major crisis point in America tonight. Do we have equal justice under the law in this country today? If you or I or anybody in this room with me now or watching TV with you, if we ever did anything close to what the Clintons, the DNC, and others did, we would be rotting in a jail cell tonight hoping our friends would send us a cake that had a file. The only difference between Trump/Russia collusion is that we have the evidence, and after a year of black helicopter conspiracy theories, they have none. And just like we have the evidence, when it comes to Clinton and her email server scandal, why hasn t she been charged? Here s the video via YouTube.Hillary Clinton has not been charged because she didn t commit any crimes and there is ZERO evidence that she did. Trump, on the other hand, is about to go down for collusion.Clearly, nobody gives Trump a blowjob like Sean Hannity. And frankly, he and Fox News should be sued for slander.Featured Image: Screenshot",
         "0"
        ],
        [
         "28901",
         "WASHINGTON (Reuters) - The Trump administration has offered the job of White House national security adviser, vacated by former U.S. intelligence official Michael Flynn, to Vice Admiral Robert Harward, said two U.S. officials familiar with the matter on Wednesday. It was not immediately clear if Harward, a former deputy commander of U.S. Central Command who has Navy SEAL combat experience, had accepted the offer, according to sources. A White House spokesperson had no immediate comment. Flynn resigned on Monday after revelations that he had discussed U.S. sanctions on Russia with the Russian ambassador to the United States before President Donald Trump took office.  Losing his national security adviser so soon after taking office is an embarrassment for the new Republican president, who has made national security a top priority. Harward, a Rhode Island native who went to school in Tehran before the Shah was toppled in 1979, did a tour on the National Security Council under former Republican President George W. Bush, working on counterterrorism. He also has combat experience on SEAL teams and served in Iraq and Afghanistan. Harward now works as an executive for defense contractor Lockheed Martin, with responsibility for its business in the United Arab Emirates in the Middle East. ",
         "1"
        ],
        [
         "3936",
         "Sometimes it takes a wolf to catch a snake.Rudy Giuliani has been making the media rounds over the last two days, bragging that he knew about FBI Director James Comey s letter two days before it went public.That means Giuliani has been getting inside information from the supposedly non-partisan Federal Bureau of Investigation that he has likely been passing on to Donald Trump, which means the FBI appears to be colluding with Trump s campaign to sabotage Hillary Clinton.And during an interview with Wolf Blitzer on CNN Friday night, Giuliani was cornered over it because the only way he could possibly get such information is if a current FBI agent is passing information to him personally, or through someone else. No, I ve spoken to no current FBI agents,  Giuliani claimed when asked by Blitzer.  Gosh, in the last eight months, nine months, ten months, certainly not about this. Then Giuliani claimed that everything he has been hearing is just hearsay. But that apparently has not stopped him from spewing the  hearsay  on Fox News and elsewhere in an effort to smear Hillary Clinton. So, I ve had lots of conversations with them and they have told me a lot about the   I guess the disagreement between the Justice Department on the one hand and the FBI on the other. But it all comes from former FBI agents and it s all hearsay. But that s hard to believe since Giuliani claimed that he knew about Comey s letter two days in advance and that letter was actually released. It was not hearsay.Blitzer then hit Giuliani with a statement written by Democratic congressmen accusing him of obtaining leaked information from FBI agents.The statement reads: This morning Rudy Giuliani, one of Donald Trump s closest and most vocal campaign advisers, appeared on national television and confirmed that he had obtained leaked information about the FBI s review of Clinton-related e-mails several days before FBI Director James Comey sent his letter to Congress last Friday about this letter. In fact, Mr. Giuliani went even further and bragged about the information that he had obtained stating,  Did I hear about it? You re darn right I heard about it. Again, the only way Giuliani could have heard about this is if a current FBI agent leaked the information to him or passed it to him through someone else. Either way, the FBI has a serious breach that is being used to help Donald Trump. That s not correct,  Giuliani responded.  I ve had no conversations with anyone inside the FBI. I have heard for the last four months a tremendous amount of information about the consternation within the FBI, the fact that FBI agents were very unhappy about the way they were being treated by the Justice Department. But none of it came from any current   I haven t talked to a current FBI agent. So Giuliani just admitted that he is getting this information from former agents who are getting the information from current agents.Blitzer actually got Giuliani to claim that he didn t know that Comey was going to release the information he did, and that it came as a surprise, but Giuliani did an about-face only seconds later and said it wasn t a surprise. Seriously, Blitzer did a great job of getting Giuliani to tie himself in knots.The former NYC mayor then repeated his alleged  hearsay  once again by claiming that he has heard from his sources that FBI agents are angry at the Justice Department for not indicting Hillary Clinton, despite the fact that Director Comey recommended that charges were not warranted.Giuliani then claimed that he read articles about it somewhere, but didn t specify where the articles came from and said he s not sure if they are true.So Giuliani claims that he is talking to former FBI agents, and that what he has heard is merely hearsay that he spreads anyway as if it s the truth, and then he claims that he read this information in articles even though he doesn t know if what he is reading is the truth, and he still repeats it to anyone within earshot.And Wolf Blitzer drove a stake through the heart of Giuliani s bullshit by asking one question. But let me ask you a question, Mayor. If you don t know it s true, why are you suggesting it? Why are you going on national television talking about these issues if you don t know it s true? Giuliani once again touted his FBI sources, only to then be informed by Blitzer that FBI agents sign a form agreeing to never reveal information about investigations and that they have a responsibility to not leak information to people like Giuliani.Here s the video via YouTube.[ad3media campaign= 1302 ]The FBI should be thoroughly investigated by the Justice Department to find out who is leaking information to a private citizen who also happens to be a surrogate for a presidential candidate who will do anything to smear his opponent in an effort to win the election. This is a major breach within the FBI and it definitely looks like the FBI is working with Republicans to persecute Hillary Clinton. People need to be fired for this and the first person to lose their job should be Director Comey.Featured image via screen capture from embedded video",
         "0"
        ],
        [
         "39701",
         "MADRID/BARCELONA (Reuters) - Sacked Catalonian president Carles Puigdemont on Saturday called for peaceful  democratic opposition  to the central government s takeover of the region following its unilateral declaration of independence from Spain. Puigdemont, whose regional government was dismissed by Spanish Prime Minister Mariano Rajoy on Friday, accused Madrid of  premeditated aggression  against the will of the Catalans. Rajoy removed Puigdemont, took over the administration of the autonomous region and called a new election after Catalonia s parliament declared itself an independent nation on Friday. The bold if to all appearances futile action marked a potentially dangerous escalation of Spain s worst political crisis in the four decades since its return to democracy.  It s very clear that the best form of defending the gains made up until now is democratic opposition to Article 155,  Puigdemont said in a brief statement he read out in the Catalan city of Girona, referring to the legal trigger for the takeover. But he was vague on precisely what steps the secessionists would take as the national authorities are already moving into Barcelona and other parts of Catalonia to enforce control. Spanish government spokesman Inigo Mendez de Vigo said it  would welcome Puigdemont s participation in the regional elections it has called for Dec. 21.  I m quite sure that if Puigdemont takes part in these elections, he can exercise this democratic opposition,  Mendez de Vigo told Reuters TV in an interview. European countries, the United States and Mexico have rejected the Catalan declaration and expressed support for Spain s unity. Puigdemont signed the statement as President of Catalonia, demonstrating he did not accept his ousting.   We continue persevering in the only attitude that can make us winners. Without violence, without insults... and also respecting the protests of the Catalans who do not agree with what the parliamentary majority has decided,  he said. The secessionists say a referendum on Oct. 1 gave them a mandate for independence. However, less than half of eligible voters turned out for the ballot, which Madrid declared illegal and tried to stop. Opinion polls show that more than half of the 5.3 million people eligible to vote in the wealthy northeastern region, which is already autonomous, do not want to break from Spain.  But emotions are running high and the next few days will be tricky for Madrid as it embarks on enforcing direct rule.  Calling a new regional election is something of a gamble by  Prime Minister Mariano Rajoy as it could increase the numbers of pro-independence supporters in a new parliament. But Mendez de Vigo said it would give Catalans the final say about how they felt. Asked what would happen if Puigdemont had to face prosecution, Mendez de Vigo said judicial and political powers were separate in Spain and that  no one is above the law.  He did not comment further.   Catalonia s police force told its officers to stay neutral, a step towards averting possible conflict following doubts over how the Mossos d Esquadra, as they are called, would respond if ordered to evict Puigdemont and his government.  The force is riven by distrust between those for and against independence and also estranged from Spain s national police forces, Mossos and national officers have told Reuters. Some Catalan officers stood between national police and those trying to vote during the referendum.   Given that there is it is likely to be an increase in gatherings and rallies of citizens... and that there are people of different thoughts, we must remember that it is our responsibility to guarantee the security of all and help these to take place without incident,  an internal memo said. Government buildings, the headquarters of national political parties, ports, airports, courts, and the Bank of Spain were being guarded, the Interior Ministry said. Units of the regional force could be replaced if events made that necessary, it said. The Madrid government also sacked the Mossos  chief, Josep Lluis Trapero, who became a hero to the secessionists after his force took a much softer stance than national police in enforcing the referendum ban. Spain s High Court barred Trapero from leaving the country and seized his passport as part of an investigation for alleged sedition, although it has not ordered his arrest.  In Barcelona, thousands of independence supporters packed the Sant Jaume Square in front of the regional headquarters on Friday night, waving Catalan flags and singing traditional songs in the Catalan language as bands played. But there was no trouble overnight and the streets were quiet on Saturday.  The main secessionist group, the Catalan National Assembly, has urged civil servants not to follow orders from the Spanish government and to mount  peaceful resistance  while a pro-independence trade union, the CSC, called a strike. The government said it would ensure a minimum service. About 1,000 people took part in a pro-unity rally in Madrid on Saturday and others turned out in the northern city of Valladolid   an indication of the resentment the independence drive has caused in the rest of Spain. Aitor Sanchez, a 30-year-old worker, said he was saddened  the government had taken control of Catalonia but it had no choice.  These are delicate moments in our country. But I believe we must respect the law.  The chaos has prompted an exodus of businesses from Catalonia, which contributes about a fifth of Spain s economy, the fourth-largest in the euro zone. Tourism in hugely popular Barcelona has been hit, and markets have shown signs of concern. European leaders have also denounced the push, fearing it could fan separatist sentiment around the continent. ",
         "1"
        ],
        [
         "1101",
         "Donald Trump got hilariously owned on Twitter again.On Sunday morning, Trump took a break from playing golf to post a Twitter rant. First, he bragged about his presidency.The MAKE AMERICA GREAT AGAIN agenda is doing very well despite the distraction of the Witch Hunt. Many new jobs, high business enthusiasm,..  Donald J. Trump (@realDonaldTrump) June 18, 2017 massive regulation cuts, 36 new legislative bills signed, great new S.C.Justice, and Infrastructure, Healthcare and Tax Cuts in works!  Donald J. Trump (@realDonaldTrump) June 18, 2017And then he insanely declared that his poll numbers are better than President Obama s.The new Rasmussen Poll, one of the most accurate in the 2016 Election, just out with a Trump 50% Approval Rating.That s higher than O s # s!  Donald J. Trump (@realDonaldTrump) June 18, 2017As you can see, Trump used a poll taken by Rasmussen, which notoriously leans to the right-wing. Plus, it s the only poll that shows Trump s approval rating being this high. All of the others show Trump s approval rating at historic lows.But Trump is not only embarrassing himself by ignoring the other polls, he s wrong about having higher numbers than President Obama.At this time in his presidency on June 18, 2009, Rasmussen took a poll and found that 55 percent of Americans approved of how President Obama was doing his job.That s not even true. On June 18, 2009, Obama had 55% overall approval, with 35% strong approval. You can check here https://t.co/Ug3LolDloS pic.twitter.com/4ShoOt3kzD  Robert Maguire (@RobertMaguire_) June 18, 2017So Trump is either lying or he is bad at math. Or both.Of course, Twitter users mercilessly mocked Trump for it.Dude Rasmussen is a right wing org lol  Ken Klippenstein (@kenklippenstein) June 18, 2017Rasmussen constantly has the highest approval rating for you. If you look at other polls your numbers are much lower https://t.co/U01aLAGEub pic.twitter.com/aI6ESllrw3  Ken Klippenstein (@kenklippenstein) June 18, 2017Obama typically has 3 to 4 times as many twitter likes for his tweets. Has about 3 times the followers. (Even without the fakes)  Robert Belcher (@bobbelcher) June 18, 2017Even though that s way higher than the real figure (37%), 50% is still *TERRIBLE* for a recently elected president!  Jules Suzdaltsev (@jules_su) June 18, 2017Every other polls says 35-40%. Also, since when was Obama s 55% rating lower than 50%. Can you do math even?  Impeach Donald Trump (@Impeach_D_Trump) June 18, 2017He s the  so called commander in chief   that just lost seven sailors, and he s tweeting about ratings instead? SAD!  Tom Woodward (@topcattcw) June 18, 20177 US servemen are dead & you re tweeting about approval rating pollsResign  Emailz (@eimzkavanagh) June 18, 2017.@RealDonaldTrump is lying to the American people. Data from this date in June 2009   same poll   shows Obama 55% https://t.co/pNtHAx9qTW  West Wing Reports (@WestWingReport) June 18, 2017Fake news. Try again. June 18 2009. Obama approval at 55%. That s by your pals @Rasmussen_Poll. Bigly accurate. pic.twitter.com/1vE7R8hNbD  Aled Phillips (@aledsavedlatin) June 18, 2017It was 62% when he left office in January. Math is hard for the Donald  SheBikesLikeABoss (@heather0415) June 18, 2017Rasmussen says more strongly disagree than strongly agree with Trump  Chris (@MrMurder37) June 18, 2017pic.twitter.com/VT2cBUqw0z  Cody Keenan (@codykeenan) June 18, 2017Featured Image: Pete Souza/White House",
         "0"
        ]
       ],
       "shape": {
        "columns": 2,
        "rows": 5
       }
      },
      "text/html": [
       "<div>\n",
       "<style scoped>\n",
       "    .dataframe tbody tr th:only-of-type {\n",
       "        vertical-align: middle;\n",
       "    }\n",
       "\n",
       "    .dataframe tbody tr th {\n",
       "        vertical-align: top;\n",
       "    }\n",
       "\n",
       "    .dataframe thead th {\n",
       "        text-align: right;\n",
       "    }\n",
       "</style>\n",
       "<table border=\"1\" class=\"dataframe\">\n",
       "  <thead>\n",
       "    <tr style=\"text-align: right;\">\n",
       "      <th></th>\n",
       "      <th>text</th>\n",
       "      <th>class</th>\n",
       "    </tr>\n",
       "  </thead>\n",
       "  <tbody>\n",
       "    <tr>\n",
       "      <th>161</th>\n",
       "      <td>Sean Hannity threw a massive temper tantrum on...</td>\n",
       "      <td>0</td>\n",
       "    </tr>\n",
       "    <tr>\n",
       "      <th>28901</th>\n",
       "      <td>WASHINGTON (Reuters) - The Trump administratio...</td>\n",
       "      <td>1</td>\n",
       "    </tr>\n",
       "    <tr>\n",
       "      <th>3936</th>\n",
       "      <td>Sometimes it takes a wolf to catch a snake.Rud...</td>\n",
       "      <td>0</td>\n",
       "    </tr>\n",
       "    <tr>\n",
       "      <th>39701</th>\n",
       "      <td>MADRID/BARCELONA (Reuters) - Sacked Catalonian...</td>\n",
       "      <td>1</td>\n",
       "    </tr>\n",
       "    <tr>\n",
       "      <th>1101</th>\n",
       "      <td>Donald Trump got hilariously owned on Twitter ...</td>\n",
       "      <td>0</td>\n",
       "    </tr>\n",
       "  </tbody>\n",
       "</table>\n",
       "</div>"
      ],
      "text/plain": [
       "                                                    text  class\n",
       "161    Sean Hannity threw a massive temper tantrum on...      0\n",
       "28901  WASHINGTON (Reuters) - The Trump administratio...      1\n",
       "3936   Sometimes it takes a wolf to catch a snake.Rud...      0\n",
       "39701  MADRID/BARCELONA (Reuters) - Sacked Catalonian...      1\n",
       "1101   Donald Trump got hilariously owned on Twitter ...      0"
      ]
     },
     "execution_count": 22,
     "metadata": {},
     "output_type": "execute_result"
    }
   ],
   "source": [
    "data.sample(5)"
   ]
  },
  {
   "cell_type": "code",
   "execution_count": 26,
   "id": "86bb9a34",
   "metadata": {},
   "outputs": [],
   "source": [
    "def clean_text(text):\n",
    "    text = text.lower()\n",
    "    text = re.sub(r'\\[*?.\\]', '', text)\n",
    "    text = re.sub(r'https?://\\S+|www\\.\\S+', '', text)\n",
    "    text = re.sub(r'\\s+', ' ', text)\n",
    "    text = re.sub(r'[%s]' % re.escape(string.punctuation), '', text)\n",
    "    text = re.sub(r'\\n', '', text)\n",
    "    text = re.sub(r'\\w*\\d\\w*', '', text)\n",
    "    return text\n"
   ]
  },
  {
   "cell_type": "code",
   "execution_count": 27,
   "id": "1bee18b8",
   "metadata": {},
   "outputs": [],
   "source": [
    "data['text'] = data['text'].apply(clean_text)"
   ]
  }
 ],
 "metadata": {
  "kernelspec": {
   "display_name": "Python 3",
   "language": "python",
   "name": "python3"
  },
  "language_info": {
   "codemirror_mode": {
    "name": "ipython",
    "version": 3
   },
   "file_extension": ".py",
   "mimetype": "text/x-python",
   "name": "python",
   "nbconvert_exporter": "python",
   "pygments_lexer": "ipython3",
   "version": "3.13.5"
  }
 },
 "nbformat": 4,
 "nbformat_minor": 5
}
