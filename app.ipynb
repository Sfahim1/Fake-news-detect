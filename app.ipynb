{
 "cells": [
  {
   "cell_type": "code",
   "execution_count": 70,
   "id": "5c107e4d",
   "metadata": {},
   "outputs": [],
   "source": [
    "import pandas as pd\n",
    "from sklearn.model_selection import train_test_split\n",
    "from sklearn.feature_extraction.text import TfidfVectorizer\n",
    "from sklearn.linear_model import LogisticRegression\n",
    "from sklearn.metrics import classification_report\n",
    "from sklearn.utils import resample\n",
    "import re\n",
    "import joblib\n",
    "import string\n",
    "import seaborn as sns\n",
    "import matplotlib.pyplot as plt\n"
   ]
  },
  {
   "cell_type": "code",
   "execution_count": 71,
   "id": "f86a7874",
   "metadata": {},
   "outputs": [],
   "source": [
    "fake = pd.read_csv('fake.csv')\n",
    "true = pd.read_csv('true.csv')"
   ]
  },
  {
   "cell_type": "code",
   "execution_count": 72,
   "id": "f7c18269",
   "metadata": {},
   "outputs": [
    {
     "data": {
      "application/vnd.microsoft.datawrangler.viewer.v0+json": {
       "columns": [
        {
         "name": "index",
         "rawType": "int64",
         "type": "integer"
        },
        {
         "name": "title",
         "rawType": "object",
         "type": "string"
        },
        {
         "name": "text",
         "rawType": "object",
         "type": "string"
        },
        {
         "name": "subject",
         "rawType": "object",
         "type": "string"
        },
        {
         "name": "date",
         "rawType": "object",
         "type": "string"
        }
       ],
       "ref": "53a152f7-2b14-4d34-833b-c2f4215721f9",
       "rows": [
        [
         "0",
         " Donald Trump Sends Out Embarrassing New Year’s Eve Message; This is Disturbing",
         "Donald Trump just couldn t wish all Americans a Happy New Year and leave it at that. Instead, he had to give a shout out to his enemies, haters and  the very dishonest fake news media.  The former reality show star had just one job to do and he couldn t do it. As our Country rapidly grows stronger and smarter, I want to wish all of my friends, supporters, enemies, haters, and even the very dishonest Fake News Media, a Happy and Healthy New Year,  President Angry Pants tweeted.  2018 will be a great year for America! As our Country rapidly grows stronger and smarter, I want to wish all of my friends, supporters, enemies, haters, and even the very dishonest Fake News Media, a Happy and Healthy New Year. 2018 will be a great year for America!  Donald J. Trump (@realDonaldTrump) December 31, 2017Trump s tweet went down about as welll as you d expect.What kind of president sends a New Year s greeting like this despicable, petty, infantile gibberish? Only Trump! His lack of decency won t even allow him to rise above the gutter long enough to wish the American citizens a happy new year!  Bishop Talbert Swan (@TalbertSwan) December 31, 2017no one likes you  Calvin (@calvinstowell) December 31, 2017Your impeachment would make 2018 a great year for America, but I ll also accept regaining control of Congress.  Miranda Yaver (@mirandayaver) December 31, 2017Do you hear yourself talk? When you have to include that many people that hate you you have to wonder? Why do the they all hate me?  Alan Sandoval (@AlanSandoval13) December 31, 2017Who uses the word Haters in a New Years wish??  Marlene (@marlene399) December 31, 2017You can t just say happy new year?  Koren pollitt (@Korencarpenter) December 31, 2017Here s Trump s New Year s Eve tweet from 2016.Happy New Year to all, including to my many enemies and those who have fought me and lost so badly they just don t know what to do. Love!  Donald J. Trump (@realDonaldTrump) December 31, 2016This is nothing new for Trump. He s been doing this for years.Trump has directed messages to his  enemies  and  haters  for New Year s, Easter, Thanksgiving, and the anniversary of 9/11. pic.twitter.com/4FPAe2KypA  Daniel Dale (@ddale8) December 31, 2017Trump s holiday tweets are clearly not presidential.How long did he work at Hallmark before becoming President?  Steven Goodine (@SGoodine) December 31, 2017He s always been like this . . . the only difference is that in the last few years, his filter has been breaking down.  Roy Schulze (@thbthttt) December 31, 2017Who, apart from a teenager uses the term haters?  Wendy (@WendyWhistles) December 31, 2017he s a fucking 5 year old  Who Knows (@rainyday80) December 31, 2017So, to all the people who voted for this a hole thinking he would change once he got into power, you were wrong! 70-year-old men don t change and now he s a year older.Photo by Andrew Burton/Getty Images.",
         "News",
         "December 31, 2017"
        ],
        [
         "1",
         " Drunk Bragging Trump Staffer Started Russian Collusion Investigation",
         "House Intelligence Committee Chairman Devin Nunes is going to have a bad day. He s been under the assumption, like many of us, that the Christopher Steele-dossier was what prompted the Russia investigation so he s been lashing out at the Department of Justice and the FBI in order to protect Trump. As it happens, the dossier is not what started the investigation, according to documents obtained by the New York Times.Former Trump campaign adviser George Papadopoulos was drunk in a wine bar when he revealed knowledge of Russian opposition research on Hillary Clinton.On top of that, Papadopoulos wasn t just a covfefe boy for Trump, as his administration has alleged. He had a much larger role, but none so damning as being a drunken fool in a wine bar. Coffee boys  don t help to arrange a New York meeting between Trump and President Abdel Fattah el-Sisi of Egypt two months before the election. It was known before that the former aide set up meetings with world leaders for Trump, but team Trump ran with him being merely a coffee boy.In May 2016, Papadopoulos revealed to Australian diplomat Alexander Downer that Russian officials were shopping around possible dirt on then-Democratic presidential nominee Hillary Clinton. Exactly how much Mr. Papadopoulos said that night at the Kensington Wine Rooms with the Australian, Alexander Downer, is unclear,  the report states.  But two months later, when leaked Democratic emails began appearing online, Australian officials passed the information about Mr. Papadopoulos to their American counterparts, according to four current and former American and foreign officials with direct knowledge of the Australians  role. Papadopoulos pleaded guilty to lying to the F.B.I. and is now a cooperating witness with Special Counsel Robert Mueller s team.This isn t a presidency. It s a badly scripted reality TV show.Photo by Win McNamee/Getty Images.",
         "News",
         "December 31, 2017"
        ],
        [
         "2",
         " Sheriff David Clarke Becomes An Internet Joke For Threatening To Poke People ‘In The Eye’",
         "On Friday, it was revealed that former Milwaukee Sheriff David Clarke, who was being considered for Homeland Security Secretary in Donald Trump s administration, has an email scandal of his own.In January, there was a brief run-in on a plane between Clarke and fellow passenger Dan Black, who he later had detained by the police for no reason whatsoever, except that maybe his feelings were hurt. Clarke messaged the police to stop Black after he deplaned, and now, a search warrant has been executed by the FBI to see the exchanges.Clarke is calling it fake news even though copies of the search warrant are on the Internet. I am UNINTIMIDATED by lib media attempts to smear and discredit me with their FAKE NEWS reports designed to silence me,  the former sheriff tweeted.  I will continue to poke them in the eye with a sharp stick and bitch slap these scum bags til they get it. I have been attacked by better people than them #MAGA I am UNINTIMIDATED by lib media attempts to smear and discredit me with their FAKE NEWS reports designed to silence me. I will continue to poke them in the eye with a sharp stick and bitch slap these scum bags til they get it. I have been attacked by better people than them #MAGA pic.twitter.com/XtZW5PdU2b  David A. Clarke, Jr. (@SheriffClarke) December 30, 2017He didn t stop there.BREAKING NEWS! When LYING LIB MEDIA makes up FAKE NEWS to smear me, the ANTIDOTE is go right at them. Punch them in the nose & MAKE THEM TASTE THEIR OWN BLOOD. Nothing gets a bully like LYING LIB MEDIA S attention better than to give them a taste of their own blood #neverbackdown pic.twitter.com/T2NY2psHCR  David A. Clarke, Jr. (@SheriffClarke) December 30, 2017The internet called him out.This is your local newspaper and that search warrant isn t fake, and just because the chose not to file charges at the time doesn t mean they won t! Especially if you continue to lie. Months after decision not to charge Clarke, email search warrant filed https://t.co/zcbyc4Wp5b  KeithLeBlanc (@KeithLeBlanc63) December 30, 2017I just hope the rest of the Village People aren t implicated.  Kirk Ketchum (@kirkketchum) December 30, 2017Slaw, baked potatoes, or French fries? pic.twitter.com/fWfXsZupxy  ALT- Immigration   (@ALT_uscis) December 30, 2017pic.twitter.com/ymsOBLjfxU  Pendulum Swinger (@PendulumSwngr) December 30, 2017you called your police friends to stand up for you when someone made fun of your hat  Chris Jackson (@ChrisCJackson) December 30, 2017Is it me, with this masterful pshop of your hat, which I seem to never tire of. I think it s the steely resolve in your one visible eye pic.twitter.com/dWr5k8ZEZV  Chris Mohney (@chrismohney) December 30, 2017Are you indicating with your fingers how many people died in your jail? I think you re a few fingers short, dipshit  Ike Barinholtz (@ikebarinholtz) December 30, 2017ROFL. Internet tough guy with fake flair. pic.twitter.com/ulCFddhkdy  KellMeCrazy (@Kel_MoonFace) December 30, 2017You re so edgy, buddy.  Mrs. SMH (@MRSSMH2) December 30, 2017Is his break over at Applebees?  Aaron (@feltrrr2) December 30, 2017Are you trying to earn your  still relevant  badge?  CircusRebel (@CircusDrew) December 30, 2017make sure to hydrate, drink lots of water. It s rumored that prisoners can be denied water by prison officials.  Robert Klinc (@RobertKlinc1) December 30, 2017Terrill Thomas, the 38-year-old black man who died of thirst in Clarke s Milwaukee County Jail cell this April, was a victim of homicide. We just thought we should point that out. It can t be repeated enough.Photo by Spencer Platt/Getty Images.",
         "News",
         "December 30, 2017"
        ],
        [
         "3",
         " Trump Is So Obsessed He Even Has Obama’s Name Coded Into His Website (IMAGES)",
         "On Christmas day, Donald Trump announced that he would  be back to work  the following day, but he is golfing for the fourth day in a row. The former reality show star blasted former President Barack Obama for playing golf and now Trump is on track to outpace the number of golf games his predecessor played.Updated my tracker of Trump s appearances at Trump properties.71 rounds of golf including today s. At this pace, he ll pass Obama s first-term total by July 24 next year. https://t.co/Fg7VacxRtJ pic.twitter.com/5gEMcjQTbH  Philip Bump (@pbump) December 29, 2017 That makes what a Washington Post reporter discovered on Trump s website really weird, but everything about this administration is bizarre AF. The coding contained a reference to Obama and golf:  Unlike Obama, we are working to fix the problem   and not on the golf course.  However, the coding wasn t done correctly.The website of Donald Trump, who has spent several days in a row at the golf course, is coded to serve up the following message in the event of an internal server error: https://t.co/zrWpyMXRcz pic.twitter.com/wiQSQNNzw0  Christopher Ingraham (@_cingraham) December 28, 2017That snippet of code appears to be on all https://t.co/dkhw0AlHB4 pages, which the footer says is paid for by the RNC? pic.twitter.com/oaZDT126B3  Christopher Ingraham (@_cingraham) December 28, 2017It s also all over https://t.co/ayBlGmk65Z. As others have noted in this thread, this is weird code and it s not clear it would ever actually display, but who knows.  Christopher Ingraham (@_cingraham) December 28, 2017After the coding was called out, the reference to Obama was deleted.UPDATE: The golf error message has been removed from the Trump and GOP websites. They also fixed the javascript  =  vs  ==  problem. Still not clear when these messages would actually display, since the actual 404 (and presumably 500) page displays a different message pic.twitter.com/Z7dmyQ5smy  Christopher Ingraham (@_cingraham) December 29, 2017That suggests someone at either RNC or the Trump admin is sensitive enough to Trump s golf problem to make this issue go away quickly once people noticed. You have no idea how much I d love to see the email exchange that led us here.  Christopher Ingraham (@_cingraham) December 29, 2017 The code was f-cked up.The best part about this is that they are using the  =  (assignment) operator which means that bit of code will never get run. If you look a few lines up  errorCode  will always be  404          (@tw1trsux) December 28, 2017trump s coders can t code. Nobody is surprised.  Tim Peterson (@timrpeterson) December 28, 2017Donald Trump is obsessed with Obama that his name was even in the coding of his website while he played golf again.Photo by Joe Raedle/Getty Images.",
         "News",
         "December 29, 2017"
        ],
        [
         "4",
         " Pope Francis Just Called Out Donald Trump During His Christmas Speech",
         "Pope Francis used his annual Christmas Day message to rebuke Donald Trump without even mentioning his name. The Pope delivered his message just days after members of the United Nations condemned Trump s move to recognize Jerusalem as the capital of Israel. The Pontiff prayed on Monday for the  peaceful coexistence of two states within mutually agreed and internationally recognized borders. We see Jesus in the children of the Middle East who continue to suffer because of growing tensions between Israelis and Palestinians,  Francis said.  On this festive day, let us ask the Lord for peace for Jerusalem and for all the Holy Land. Let us pray that the will to resume dialogue may prevail between the parties and that a negotiated solution can finally be reached. The Pope went on to plead for acceptance of refugees who have been forced from their homes, and that is an issue Trump continues to fight against. Francis used Jesus for which there was  no place in the inn  as an analogy. Today, as the winds of war are blowing in our world and an outdated model of development continues to produce human, societal and environmental decline, Christmas invites us to focus on the sign of the Child and to recognize him in the faces of little children, especially those for whom, like Jesus,  there is no place in the inn,  he said. Jesus knows well the pain of not being welcomed and how hard it is not to have a place to lay one s head,  he added.  May our hearts not be closed as they were in the homes of Bethlehem. The Pope said that Mary and Joseph were immigrants who struggled to find a safe place to stay in Bethlehem. They had to leave their people, their home, and their land,  Francis said.  This was no comfortable or easy journey for a young couple about to have a child.   At heart, they were full of hope and expectation because of the child about to be born; yet their steps were weighed down by the uncertainties and dangers that attend those who have to leave their home behind. So many other footsteps are hidden in the footsteps of Joseph and Mary,  Francis said Sunday. We see the tracks of entire families forced to set out in our own day. We see the tracks of millions of persons who do not choose to go away, but driven from their land, leave behind their dear ones. Amen to that.Photo by Christopher Furlong/Getty Images.",
         "News",
         "December 25, 2017"
        ]
       ],
       "shape": {
        "columns": 4,
        "rows": 5
       }
      },
      "text/html": [
       "<div>\n",
       "<style scoped>\n",
       "    .dataframe tbody tr th:only-of-type {\n",
       "        vertical-align: middle;\n",
       "    }\n",
       "\n",
       "    .dataframe tbody tr th {\n",
       "        vertical-align: top;\n",
       "    }\n",
       "\n",
       "    .dataframe thead th {\n",
       "        text-align: right;\n",
       "    }\n",
       "</style>\n",
       "<table border=\"1\" class=\"dataframe\">\n",
       "  <thead>\n",
       "    <tr style=\"text-align: right;\">\n",
       "      <th></th>\n",
       "      <th>title</th>\n",
       "      <th>text</th>\n",
       "      <th>subject</th>\n",
       "      <th>date</th>\n",
       "    </tr>\n",
       "  </thead>\n",
       "  <tbody>\n",
       "    <tr>\n",
       "      <th>0</th>\n",
       "      <td>Donald Trump Sends Out Embarrassing New Year’...</td>\n",
       "      <td>Donald Trump just couldn t wish all Americans ...</td>\n",
       "      <td>News</td>\n",
       "      <td>December 31, 2017</td>\n",
       "    </tr>\n",
       "    <tr>\n",
       "      <th>1</th>\n",
       "      <td>Drunk Bragging Trump Staffer Started Russian ...</td>\n",
       "      <td>House Intelligence Committee Chairman Devin Nu...</td>\n",
       "      <td>News</td>\n",
       "      <td>December 31, 2017</td>\n",
       "    </tr>\n",
       "    <tr>\n",
       "      <th>2</th>\n",
       "      <td>Sheriff David Clarke Becomes An Internet Joke...</td>\n",
       "      <td>On Friday, it was revealed that former Milwauk...</td>\n",
       "      <td>News</td>\n",
       "      <td>December 30, 2017</td>\n",
       "    </tr>\n",
       "    <tr>\n",
       "      <th>3</th>\n",
       "      <td>Trump Is So Obsessed He Even Has Obama’s Name...</td>\n",
       "      <td>On Christmas day, Donald Trump announced that ...</td>\n",
       "      <td>News</td>\n",
       "      <td>December 29, 2017</td>\n",
       "    </tr>\n",
       "    <tr>\n",
       "      <th>4</th>\n",
       "      <td>Pope Francis Just Called Out Donald Trump Dur...</td>\n",
       "      <td>Pope Francis used his annual Christmas Day mes...</td>\n",
       "      <td>News</td>\n",
       "      <td>December 25, 2017</td>\n",
       "    </tr>\n",
       "  </tbody>\n",
       "</table>\n",
       "</div>"
      ],
      "text/plain": [
       "                                               title  \\\n",
       "0   Donald Trump Sends Out Embarrassing New Year’...   \n",
       "1   Drunk Bragging Trump Staffer Started Russian ...   \n",
       "2   Sheriff David Clarke Becomes An Internet Joke...   \n",
       "3   Trump Is So Obsessed He Even Has Obama’s Name...   \n",
       "4   Pope Francis Just Called Out Donald Trump Dur...   \n",
       "\n",
       "                                                text subject  \\\n",
       "0  Donald Trump just couldn t wish all Americans ...    News   \n",
       "1  House Intelligence Committee Chairman Devin Nu...    News   \n",
       "2  On Friday, it was revealed that former Milwauk...    News   \n",
       "3  On Christmas day, Donald Trump announced that ...    News   \n",
       "4  Pope Francis used his annual Christmas Day mes...    News   \n",
       "\n",
       "                date  \n",
       "0  December 31, 2017  \n",
       "1  December 31, 2017  \n",
       "2  December 30, 2017  \n",
       "3  December 29, 2017  \n",
       "4  December 25, 2017  "
      ]
     },
     "execution_count": 72,
     "metadata": {},
     "output_type": "execute_result"
    }
   ],
   "source": [
    "fake.head()"
   ]
  },
  {
   "cell_type": "code",
   "execution_count": 73,
   "id": "05415bc8",
   "metadata": {},
   "outputs": [
    {
     "data": {
      "application/vnd.microsoft.datawrangler.viewer.v0+json": {
       "columns": [
        {
         "name": "index",
         "rawType": "int64",
         "type": "integer"
        },
        {
         "name": "title",
         "rawType": "object",
         "type": "string"
        },
        {
         "name": "text",
         "rawType": "object",
         "type": "string"
        },
        {
         "name": "subject",
         "rawType": "object",
         "type": "string"
        },
        {
         "name": "date",
         "rawType": "object",
         "type": "string"
        }
       ],
       "ref": "56eac2e9-48b6-46d7-85ab-b69d90cafa88",
       "rows": [
        [
         "0",
         "As U.S. budget fight looms, Republicans flip their fiscal script",
         "WASHINGTON (Reuters) - The head of a conservative Republican faction in the U.S. Congress, who voted this month for a huge expansion of the national debt to pay for tax cuts, called himself a “fiscal conservative” on Sunday and urged budget restraint in 2018. In keeping with a sharp pivot under way among Republicans, U.S. Representative Mark Meadows, speaking on CBS’ “Face the Nation,” drew a hard line on federal spending, which lawmakers are bracing to do battle over in January. When they return from the holidays on Wednesday, lawmakers will begin trying to pass a federal budget in a fight likely to be linked to other issues, such as immigration policy, even as the November congressional election campaigns approach in which Republicans will seek to keep control of Congress. President Donald Trump and his Republicans want a big budget increase in military spending, while Democrats also want proportional increases for non-defense “discretionary” spending on programs that support education, scientific research, infrastructure, public health and environmental protection. “The (Trump) administration has already been willing to say: ‘We’re going to increase non-defense discretionary spending ... by about 7 percent,’” Meadows, chairman of the small but influential House Freedom Caucus, said on the program. “Now, Democrats are saying that’s not enough, we need to give the government a pay raise of 10 to 11 percent. For a fiscal conservative, I don’t see where the rationale is. ... Eventually you run out of other people’s money,” he said. Meadows was among Republicans who voted in late December for their party’s debt-financed tax overhaul, which is expected to balloon the federal budget deficit and add about $1.5 trillion over 10 years to the $20 trillion national debt. “It’s interesting to hear Mark talk about fiscal responsibility,” Democratic U.S. Representative Joseph Crowley said on CBS. Crowley said the Republican tax bill would require the  United States to borrow $1.5 trillion, to be paid off by future generations, to finance tax cuts for corporations and the rich. “This is one of the least ... fiscally responsible bills we’ve ever seen passed in the history of the House of Representatives. I think we’re going to be paying for this for many, many years to come,” Crowley said. Republicans insist the tax package, the biggest U.S. tax overhaul in more than 30 years,  will boost the economy and job growth. House Speaker Paul Ryan, who also supported the tax bill, recently went further than Meadows, making clear in a radio interview that welfare or “entitlement reform,” as the party often calls it, would be a top Republican priority in 2018. In Republican parlance, “entitlement” programs mean food stamps, housing assistance, Medicare and Medicaid health insurance for the elderly, poor and disabled, as well as other programs created by Washington to assist the needy. Democrats seized on Ryan’s early December remarks, saying they showed Republicans would try to pay for their tax overhaul by seeking spending cuts for social programs. But the goals of House Republicans may have to take a back seat to the Senate, where the votes of some Democrats will be needed to approve a budget and prevent a government shutdown. Democrats will use their leverage in the Senate, which Republicans narrowly control, to defend both discretionary non-defense programs and social spending, while tackling the issue of the “Dreamers,” people brought illegally to the country as children. Trump in September put a March 2018 expiration date on the Deferred Action for Childhood Arrivals, or DACA, program, which protects the young immigrants from deportation and provides them with work permits. The president has said in recent Twitter messages he wants funding for his proposed Mexican border wall and other immigration law changes in exchange for agreeing to help the Dreamers. Representative Debbie Dingell told CBS she did not favor linking that issue to other policy objectives, such as wall funding. “We need to do DACA clean,” she said.  On Wednesday, Trump aides will meet with congressional leaders to discuss those issues. That will be followed by a weekend of strategy sessions for Trump and Republican leaders on Jan. 6 and 7, the White House said. Trump was also scheduled to meet on Sunday with Florida Republican Governor Rick Scott, who wants more emergency aid. The House has passed an $81 billion aid package after hurricanes in Florida, Texas and Puerto Rico, and wildfires in California. The package far exceeded the $44 billion requested by the Trump administration. The Senate has not yet voted on the aid. ",
         "politicsNews",
         "December 31, 2017 "
        ],
        [
         "1",
         "U.S. military to accept transgender recruits on Monday: Pentagon",
         "WASHINGTON (Reuters) - Transgender people will be allowed for the first time to enlist in the U.S. military starting on Monday as ordered by federal courts, the Pentagon said on Friday, after President Donald Trump’s administration decided not to appeal rulings that blocked his transgender ban. Two federal appeals courts, one in Washington and one in Virginia, last week rejected the administration’s request to put on hold orders by lower court judges requiring the military to begin accepting transgender recruits on Jan. 1. A Justice Department official said the administration will not challenge those rulings. “The Department of Defense has announced that it will be releasing an independent study of these issues in the coming weeks. So rather than litigate this interim appeal before that occurs, the administration has decided to wait for DOD’s study and will continue to defend the president’s lawful authority in District Court in the meantime,” the official said, speaking on condition of anonymity. In September, the Pentagon said it had created a panel of senior officials to study how to implement a directive by Trump to prohibit transgender individuals from serving. The Defense Department has until Feb. 21 to submit a plan to Trump. Lawyers representing currently-serving transgender service members and aspiring recruits said they had expected the administration to appeal the rulings to the conservative-majority Supreme Court, but were hoping that would not happen. Pentagon spokeswoman Heather Babb said in a statement: “As mandated by court order, the Department of Defense is prepared to begin accessing transgender applicants for military service Jan. 1. All applicants must meet all accession standards.” Jennifer Levi, a lawyer with gay, lesbian and transgender advocacy group GLAD, called the decision not to appeal “great news.” “I’m hoping it means the government has come to see that there is no way to justify a ban and that it’s not good for the military or our country,” Levi said. Both GLAD and the American Civil Liberties Union represent plaintiffs in the lawsuits filed against the administration. In a move that appealed to his hard-line conservative supporters, Trump announced in July that he would prohibit transgender people from serving in the military, reversing Democratic President Barack Obama’s policy of accepting them. Trump said on Twitter at the time that the military “cannot be burdened with the tremendous medical costs and disruption that transgender in the military would entail.” Four federal judges - in Baltimore, Washington, D.C., Seattle and Riverside, California - have issued rulings blocking Trump’s ban while legal challenges to the Republican president’s policy proceed. The judges said the ban would likely violate the right under the U.S. Constitution to equal protection under the law. The Pentagon on Dec. 8 issued guidelines to recruitment personnel in order to enlist transgender applicants by Jan. 1. The memo outlined medical requirements and specified how the applicants’ sex would be identified and even which undergarments they would wear. The Trump administration previously said in legal papers that the armed forces were not prepared to train thousands of personnel on the medical standards needed to process transgender applicants and might have to accept “some individuals who are not medically fit for service.” The Obama administration had set a deadline of July 1, 2017, to begin accepting transgender recruits. But Trump’s defense secretary, James Mattis, postponed that date to Jan. 1, 2018, which the president’s ban then put off indefinitely. Trump has taken other steps aimed at rolling back transgender rights. In October, his administration said a federal law banning gender-based workplace discrimination does not protect transgender employees, reversing another Obama-era position. In February, Trump rescinded guidance issued by the Obama administration saying that public schools should allow transgender students to use the restroom that corresponds to their gender identity. ",
         "politicsNews",
         "December 29, 2017 "
        ],
        [
         "2",
         "Senior U.S. Republican senator: 'Let Mr. Mueller do his job'",
         "WASHINGTON (Reuters) - The special counsel investigation of links between Russia and President Trump’s 2016 election campaign should continue without interference in 2018, despite calls from some Trump administration allies and Republican lawmakers to shut it down, a prominent Republican senator said on Sunday. Lindsey Graham, who serves on the Senate armed forces and judiciary committees, said Department of Justice Special Counsel Robert Mueller needs to carry on with his Russia investigation without political interference. “This investigation will go forward. It will be an investigation conducted without political influence,” Graham said on CBS’s Face the Nation news program. “And we all need to let Mr. Mueller do his job. I think he’s the right guy at the right time.”  The question of how Russia may have interfered in the election, and how Trump’s campaign may have had links with or co-ordinated any such effort, has loomed over the White House since Trump took office in January. It shows no sign of receding as Trump prepares for his second year in power, despite intensified rhetoric from some Trump allies in recent weeks accusing Mueller’s team of bias against the Republican president. Trump himself seemed to undercut his supporters in an interview last week with the New York Times in which he said he expected Mueller was “going to be fair.”    Russia’s role in the election and the question of possible links to the Trump campaign are the focus of multiple inquiries in Washington. Three committees of the Senate and the House of Representatives are investigating, as well as Mueller, whose team in May took over an earlier probe launched by the U.S. Federal Bureau of Investigation (FBI). Several members of the Trump campaign and administration have been convicted or indicted in the investigation.  Trump and his allies deny any collusion with Russia during the campaign, and the Kremlin has denied meddling in the election. Graham said he still wants an examination of the FBI’s use of a dossier on links between Trump and Russia that was compiled by a former British spy, Christopher Steele, which prompted Trump allies and some Republicans to question Mueller’s inquiry.   On Saturday, the New York Times reported that it was not that dossier that triggered an early FBI probe, but a tip from former Trump campaign foreign policy adviser George Papadopoulos to an Australian diplomat that Russia had damaging information about former Trump rival Hillary Clinton.  “I want somebody to look at the way the Department of Justice used this dossier. It bothers me greatly the way they used it, and I want somebody to look at it,” Graham said. But he said the Russia investigation must continue. “As a matter of fact, it would hurt us if we ignored it,” he said. ",
         "politicsNews",
         "December 31, 2017 "
        ],
        [
         "3",
         "FBI Russia probe helped by Australian diplomat tip-off: NYT",
         "WASHINGTON (Reuters) - Trump campaign adviser George Papadopoulos told an Australian diplomat in May 2016 that Russia had political dirt on Democratic presidential candidate Hillary Clinton, the New York Times reported on Saturday. The conversation between Papadopoulos and the diplomat, Alexander Downer, in London was a driving factor behind the FBI’s decision to open a counter-intelligence investigation of Moscow’s contacts with the Trump campaign, the Times reported. Two months after the meeting, Australian officials passed the information that came from Papadopoulos to their American counterparts when leaked Democratic emails began appearing online, according to the newspaper, which cited four current and former U.S. and foreign officials. Besides the information from the Australians, the probe by the Federal Bureau of Investigation was also propelled by intelligence from other friendly governments, including the British and Dutch, the Times said. Papadopoulos, a Chicago-based international energy lawyer, pleaded guilty on Oct. 30 to lying to FBI agents about contacts with people who claimed to have ties to top Russian officials. It was the first criminal charge alleging links between the Trump campaign and Russia. The White House has played down the former aide’s campaign role, saying it was “extremely limited” and that any actions he took would have been on his own. The New York Times, however, reported that Papadopoulos helped set up a meeting between then-candidate Donald Trump and Egyptian President Abdel Fattah al-Sisi and edited the outline of Trump’s first major foreign policy speech in April 2016. The federal investigation, which is now being led by Special Counsel Robert Mueller, has hung over Trump’s White House since he took office almost a year ago. Some Trump allies have recently accused Mueller’s team of being biased against the Republican president. Lawyers for Papadopoulos did not immediately respond to requests by Reuters for comment. Mueller’s office declined to comment. Trump’s White House attorney, Ty Cobb, declined to comment on the New York Times report. “Out of respect for the special counsel and his process, we are not commenting on matters such as this,” he said in a statement. Mueller has charged four Trump associates, including Papadopoulos, in his investigation. Russia has denied interfering in the U.S. election and Trump has said there was no collusion between his campaign and Moscow. ",
         "politicsNews",
         "December 30, 2017 "
        ],
        [
         "4",
         "Trump wants Postal Service to charge 'much more' for Amazon shipments",
         "SEATTLE/WASHINGTON (Reuters) - President Donald Trump called on the U.S. Postal Service on Friday to charge “much more” to ship packages for Amazon (AMZN.O), picking another fight with an online retail giant he has criticized in the past.     “Why is the United States Post Office, which is losing many billions of dollars a year, while charging Amazon and others so little to deliver their packages, making Amazon richer and the Post Office dumber and poorer? Should be charging MUCH MORE!” Trump wrote on Twitter.  The president’s tweet drew fresh attention to the fragile finances of the Postal Service at a time when tens of millions of parcels have just been shipped all over the country for the holiday season.  The U.S. Postal Service, which runs at a big loss, is an independent agency within the federal government and does not receive tax dollars for operating expenses, according to its website.  Package delivery has become an increasingly important part of its business as the Internet has led to a sharp decline in the amount of first-class letters. The president does not determine postal rates. They are set by the Postal Regulatory Commission, an independent government agency with commissioners selected by the president from both political parties. That panel raised prices on packages by almost 2 percent in November.  Amazon was founded by Jeff Bezos, who remains the chief executive officer of the retail company and is the richest person in the world, according to Bloomberg News. Bezos also owns The Washington Post, a newspaper Trump has repeatedly railed against in his criticisms of the news media. In tweets over the past year, Trump has said the “Amazon Washington Post” fabricated stories. He has said Amazon does not pay sales tax, which is not true, and so hurts other retailers, part of a pattern by the former businessman and reality television host of periodically turning his ire on big American companies since he took office in January. Daniel Ives, a research analyst at GBH Insights, said Trump’s comment could be taken as a warning to the retail giant. However, he said he was not concerned for Amazon. “We do not see any price hikes in the future. However, that is a risk that Amazon is clearly aware of and (it) is building out its distribution (system) aggressively,” he said. Amazon has shown interest in the past in shifting into its own delivery service, including testing drones for deliveries. In 2015, the company spent $11.5 billion on shipping, 46 percent of its total operating expenses that year.  Amazon shares were down 0.86 percent to $1,175.90 by early afternoon. Overall, U.S. stock prices were down slightly on Friday.  Satish Jindel, president of ShipMatrix Inc, which analyzes shipping data, disputed the idea that the Postal Service charges less than United Parcel Service Inc (UPS.N) and FedEx Corp (FDX.N), the other biggest players in the parcel delivery business in the United States. Many customers get lower rates from UPS and FedEx than they would get from the post office for comparable services, he said. The Postal Service delivers about 62 percent of Amazon packages, for about 3.5 to 4 million a day during the current peak year-end holiday shipping season, Jindel said. The Seattle-based company and the post office have an agreement in which mail carriers take Amazon packages on the last leg of their journeys, from post offices to customers’ doorsteps. Amazon’s No. 2 carrier is UPS, at 21 percent, and FedEx is third, with 8 percent or so, according to Jindel. Trump’s comment tapped into a debate over whether Postal Service pricing has kept pace with the rise of e-commerce, which has flooded the mail with small packages.Private companies like UPS have long claimed the current system unfairly undercuts their business. Steve Gaut, a spokesman for UPS, noted that the company values its “productive relationship” with the postal service, but that it has filed with the Postal Regulatory Commission its concerns about the postal service’s methods for covering costs. Representatives for Amazon, the White House, the U.S. Postal Service and FedEx declined comment or were not immediately available for comment on Trump’s tweet. According to its annual report, the Postal Service lost $2.74 billion this year, and its deficit has ballooned to $61.86 billion.  While the Postal Service’s revenue for first class mail, marketing mail and periodicals is flat or declining, revenue from package delivery is up 44 percent since 2014 to $19.5 billion in the fiscal year ended Sept. 30, 2017. But it also lost about $2 billion in revenue when a temporary surcharge expired in April 2016. According to a Government Accountability Office report in February, the service is facing growing personnel expenses, particularly $73.4 billion in unfunded pension and benefits liabilities. The Postal Service has not announced any plans to cut costs. By law, the Postal Service has to set prices for package delivery to cover the costs attributable to that service. But the postal service allocates only 5.5 percent of its total costs to its business of shipping packages even though that line of business is 28 percent of its total revenue. ",
         "politicsNews",
         "December 29, 2017 "
        ]
       ],
       "shape": {
        "columns": 4,
        "rows": 5
       }
      },
      "text/html": [
       "<div>\n",
       "<style scoped>\n",
       "    .dataframe tbody tr th:only-of-type {\n",
       "        vertical-align: middle;\n",
       "    }\n",
       "\n",
       "    .dataframe tbody tr th {\n",
       "        vertical-align: top;\n",
       "    }\n",
       "\n",
       "    .dataframe thead th {\n",
       "        text-align: right;\n",
       "    }\n",
       "</style>\n",
       "<table border=\"1\" class=\"dataframe\">\n",
       "  <thead>\n",
       "    <tr style=\"text-align: right;\">\n",
       "      <th></th>\n",
       "      <th>title</th>\n",
       "      <th>text</th>\n",
       "      <th>subject</th>\n",
       "      <th>date</th>\n",
       "    </tr>\n",
       "  </thead>\n",
       "  <tbody>\n",
       "    <tr>\n",
       "      <th>0</th>\n",
       "      <td>As U.S. budget fight looms, Republicans flip t...</td>\n",
       "      <td>WASHINGTON (Reuters) - The head of a conservat...</td>\n",
       "      <td>politicsNews</td>\n",
       "      <td>December 31, 2017</td>\n",
       "    </tr>\n",
       "    <tr>\n",
       "      <th>1</th>\n",
       "      <td>U.S. military to accept transgender recruits o...</td>\n",
       "      <td>WASHINGTON (Reuters) - Transgender people will...</td>\n",
       "      <td>politicsNews</td>\n",
       "      <td>December 29, 2017</td>\n",
       "    </tr>\n",
       "    <tr>\n",
       "      <th>2</th>\n",
       "      <td>Senior U.S. Republican senator: 'Let Mr. Muell...</td>\n",
       "      <td>WASHINGTON (Reuters) - The special counsel inv...</td>\n",
       "      <td>politicsNews</td>\n",
       "      <td>December 31, 2017</td>\n",
       "    </tr>\n",
       "    <tr>\n",
       "      <th>3</th>\n",
       "      <td>FBI Russia probe helped by Australian diplomat...</td>\n",
       "      <td>WASHINGTON (Reuters) - Trump campaign adviser ...</td>\n",
       "      <td>politicsNews</td>\n",
       "      <td>December 30, 2017</td>\n",
       "    </tr>\n",
       "    <tr>\n",
       "      <th>4</th>\n",
       "      <td>Trump wants Postal Service to charge 'much mor...</td>\n",
       "      <td>SEATTLE/WASHINGTON (Reuters) - President Donal...</td>\n",
       "      <td>politicsNews</td>\n",
       "      <td>December 29, 2017</td>\n",
       "    </tr>\n",
       "  </tbody>\n",
       "</table>\n",
       "</div>"
      ],
      "text/plain": [
       "                                               title  \\\n",
       "0  As U.S. budget fight looms, Republicans flip t...   \n",
       "1  U.S. military to accept transgender recruits o...   \n",
       "2  Senior U.S. Republican senator: 'Let Mr. Muell...   \n",
       "3  FBI Russia probe helped by Australian diplomat...   \n",
       "4  Trump wants Postal Service to charge 'much mor...   \n",
       "\n",
       "                                                text       subject  \\\n",
       "0  WASHINGTON (Reuters) - The head of a conservat...  politicsNews   \n",
       "1  WASHINGTON (Reuters) - Transgender people will...  politicsNews   \n",
       "2  WASHINGTON (Reuters) - The special counsel inv...  politicsNews   \n",
       "3  WASHINGTON (Reuters) - Trump campaign adviser ...  politicsNews   \n",
       "4  SEATTLE/WASHINGTON (Reuters) - President Donal...  politicsNews   \n",
       "\n",
       "                 date  \n",
       "0  December 31, 2017   \n",
       "1  December 29, 2017   \n",
       "2  December 31, 2017   \n",
       "3  December 30, 2017   \n",
       "4  December 29, 2017   "
      ]
     },
     "execution_count": 73,
     "metadata": {},
     "output_type": "execute_result"
    }
   ],
   "source": [
    "true.head()"
   ]
  },
  {
   "cell_type": "code",
   "execution_count": 74,
   "id": "03aba4eb",
   "metadata": {},
   "outputs": [],
   "source": [
    "fake['class']=0\n",
    "true['class']=1"
   ]
  },
  {
   "cell_type": "code",
   "execution_count": 75,
   "id": "f42ef589",
   "metadata": {},
   "outputs": [],
   "source": [
    "data = pd.concat([fake,true], axis = 0)"
   ]
  },
  {
   "cell_type": "code",
   "execution_count": 76,
   "id": "a3e2472a",
   "metadata": {},
   "outputs": [
    {
     "data": {
      "application/vnd.microsoft.datawrangler.viewer.v0+json": {
       "columns": [
        {
         "name": "index",
         "rawType": "int64",
         "type": "integer"
        },
        {
         "name": "title",
         "rawType": "object",
         "type": "string"
        },
        {
         "name": "text",
         "rawType": "object",
         "type": "string"
        },
        {
         "name": "subject",
         "rawType": "object",
         "type": "string"
        },
        {
         "name": "date",
         "rawType": "object",
         "type": "string"
        },
        {
         "name": "class",
         "rawType": "int64",
         "type": "integer"
        }
       ],
       "ref": "32baf5a0-dcd5-48f3-ad8b-62d5efc6cb6c",
       "rows": [
        [
         "3380",
         " WATCH: Kellyanne Conway Accuses Obama Of Being Un-American for Not Ignoring Russian Espionage",
         "If someone had called Ronald Reagan un-American for taking on Russia, Republicans would have thrown a hissy fit.But President Obama is a black Democrat and the Republican Party has become the Party of Putin, so of course, conservatives like Kellyanne Conway would question Obama s patriotism for defending our country.During an interview on Fox News, Conway whined about President Obama pursuing an investigation of Russian interference in our political process.As we all know, Donald Trump openly encouraged Russia to commit espionage against our country when their hack of the DNC was revealed this past summer. I will tell you this, Russia: If you re listening, I hope you re able to find the 30,000 emails that are missing,  Trump said in July.  I think you will probably be rewarded mightily by our press. Here s the video via YouTube.And they obeyed, continually hacking our institutions in an effort to help Trump win the presidency so Putin would have a puppet in the White House.White House Press Secretary Josh Earnest pointed out that Trump knew about Russian meddling all along, and President Obama has promised swift retribution against Russia.But Conway is still pretending that Russia didn t do anything to help Trump and accused President Obama of not loving America because he is unwilling to ignore Russia s crimes. She even demanded that Obama shut down the investigation and pretend the election interference never happened. If you want to shut this down and you actually love the country enough to have the peaceful transition in our great democracy between the Obama administration and the Trump administration, there are a couple people in pretty prominent positions, one is named Obama, one is named Hillary Clinton, since his people are trying to fight over her election still, they could shut this down. Here s the video via YouTube.Ignoring Russia s clear espionage against the United States would be a total disservice to the American people and would only embolden Russia and other nations to interfere in our political process in future elections. Allowing Trump to be president would also embolden Republicans to seek foreign help in future elections as well. In short, Republicans are happy to allow another country to spread propaganda and violate the integrity of our elections as long as it helps them stay in power.If anyone is anti-American, it s Kellyanne Conway and Donald Trump. They re the ones defending Putin and Russia instead of backing an investigation. They are the ones defending Russian espionage against America. And the only reason they want to bury it is because they know Trump is an illegitimate president-elect.Featured Image: Screenshot",
         "News",
         "December 16, 2016",
         "0"
        ],
        [
         "7806",
         " DNC Vice Chair RESIGNS, Declares Support For Bernie Sanders (VIDEO)",
         "On Sunday, Tulsi Gabbard appeared on Meet The Press to announce that she is resigning her position with the Democratic National Committee (DNC) in order to support presidential hopeful Bernie Sanders on the campaign trail.Rep. Gabbard, the first American Samoan, and the first Hindu to be elected to Congress, is also a veteran of the Iraq war.During her appearance on the Meet The Press, Rep. Gabbard explained her decision to resign from the DNC. As a veteran, as a soldier, I ve seen firsthand the true cost of war.   As we look at our choices as to who our next Commander-in-chief will be is to recognize the necessity to have a Commander-in-chief who has foresight. Who exercises good judgment. Who looks beyond the consequences   who looks at the consequences of the actions that they are willing to take before they take those actions. So that we don t continue to find ourselves in these failures that have resulted in chaos in the Middle East and so much loss of life, Watch the video below, courtesy of Meet The Press on Twitter. EXCLUSIVE on #MTP: @TulsiGabbard resigned from position as DNC Vice Chair to support @BernieSanders. pic.twitter.com/cvRE4SITy2  Meet the Press (@meetthepress) February 28, 2016Rep. Gabbard, who called for additional debates between the two democratic candidates back in October, appears to have concerns about the inner workings of the DNC.During a telephone interview with the New York Times, Rep. Gabbard said, When I first came to Washington, one of the things that I was disappointed about was there s a lot of immaturity and petty gamesmanship that goes on, and it kind of reminds me of how high school teenagers act. She went on to say, It s very dangerous when we have people in positions of leadership who use their power to try to quiet those who disagree with them. When I signed up to be vice chair of the D.N.C., no one told me I would be relinquishing my freedom of speech and checking it at the door. Last month, Sanders was endorsed by former head of the DNC, Mark Kirk.Image credit video screen capture from Meet The Press on Twitter",
         "News",
         "February 28, 2016",
         "0"
        ],
        [
         "5993",
         "ICRC, jurists join rebuke of Trump torture remarks, 'black site' reports",
         "GENEVA (Reuters) - The International Committee of the Red Cross (ICRC) and the International Commission of Jurists (ICJ) have joined global human rights groups in their rebuke of U.S. President Donald Trump for condoning torture. Trump told ABC television in an interview on Wednesday that he thought waterboarding “worked” as an intelligence-gathering tool but would defer to his cabinet on whether to use it in interrogations. Two U.S. officials said also on Wednesday that Trump may order a review that could lead to bringing back a CIA program for holding terrorism suspects in secret overseas “black site” prisons. “These practices of torturing detainees and ‘disappearing’ them in black sites are serious crimes which must never be repeated,” Ian Seiderman, Legal and Policy Director of the International Commission of Jurists (ICJ) said in a statement. ICRC spokesman Ewan Watson said: “For any political leader to advocate torture is very worrying indeed. Experience has shown that using torture doesn’t work, it only grows hatred.” Amnesty International, Human Rights Watch and Reprieve, a British-based group which represented scores of Guantanamo detainees, have also issued rebukes. Seiderman told Reuters TV that Trump, as commander-in-chief of U.S. forces, “has already signaled to those in the field that may have a propensity to engage in such practice that it is OK with the leader.  “He is also sending a very unfortunate signal to other states and other countries, when the leader of the U.S says it is OK, then maybe they will think it is OK”. According to a document published in the Washington Post, Trump may be planning to revoke Obama directives including one guaranteeing ICRC access to all detainees in U.S. custody. The Trump administration has denied it came from the White House.  ICRC officials have visited security detainees in U.S. custody in Afghanistan, Iraq and Guantanamo in Cuba. Their findings on conditions and treatment are shared only with detaining authorities.  In 2004, a leaked ICRC report detailed U.S. mistreatment of Iraqi prisoners at Abu Ghraib prison near Baghdad, including keeping them naked for days in darkness. It said the mistreatment “in some cases was tantamount to torture”.  An international scandal ensued, fueled by explicit photos taken by U.S. soldiers who had abused prisoners. The ICRC has had a long and constructive dialogue with U.S. authorities on issues linked to detention and armed conflict, ICRC spokeswoman Anna Nelson said.  “We plan to continue visiting detainees held by the U.S. authorities, monitoring their treatment and conditions of detention, and engaging confidentially with the authorities on these important issues,” she said.  Torture is forbidden under U.S. and international law, and by pacts such as the U.N. Convention against Torture and the Geneva Conventions. ",
         "politicsNews",
         "January 26, 2017 ",
         "1"
        ],
        [
         "510",
         " NYT Bombshell: Trump And McConnell Not Speaking; McConnell Questioning Trump’s GOP Future",
         "Donald Trump has never been Senate Majority Leader Mitch McConnell s (R-KY) favorite person. That uneasy relationship deteriorated further in recent days and weeks, as Trump proceeded to openly mock and humiliate McConnell, blaming him for everything from the failed attempts to repeal Obamacare to the entire situation of the fractured GOP s stalled agenda. Now, since Trump had such a disgraceful response to the white supremacist violence in Charlottesville that resulted in the death of anti-racism activist Heather Heyer and the injuries of countless others, it seems that Trump and McConnell are engaged in what the New York Times is calling their own little, quote,  cold war. According to the new bombshell report, Trump doesn t even talk to McConnell   the one most important man in the legislative branch when it comes to getting his agenda passed. The New York Times reports: The relationship between President Trump and Senator Mitch McConnell, the majority leader, has disintegrated to the point that they have not spoken to each other in weeks, and Mr. McConnell has privately expressed uncertainty that Mr. Trump will be able to salvage his administration after a series of summer crises.What was once an uneasy governing alliance has curdled into a feud of mutual resentment and sometimes outright hostility.The article further suggests that when Trump and McConnell were speaking, Trump didn t just keep his taunts to the usual juvenile derision via Twitter. No, apparently, on August 9th, McConnell and Trump had some kind of conversation, and Trump could not help going after McConnell to his face. There are no details regarding exactly what was said, but knowing Trump, it was likely pretty scathing and humiliating for McConnell, who seems to consider himself your typical dignified grown man. He is likely simply done with Trump s playground bully behavior and is no longer going to dignify Trump s ignorance and taunts with responses.It also doesn t help that McConnell s wife, Elaine Chao, is Trump s Transportation Secretary. She is an immigrant, and arrived from Taiwan as a child, speaking no English. Under Trump s new immigration plans, she would never have been allowed into this country. Further, to top it all off, Secretary Chao had to be humiliated standing next to Trump during his Charlottesville tirade, in which he defended white supremacists. Think about that   how it must have made McConnell feel to see his wife being used that way in such a despicable, bigoted, and unhinged Trump rant.All of this has resulted in much more criticism than one would expect from Mitch McConnell in public, but, according to the Times, McConnell is much more angry with Trump than he is letting on, and he is even wondering if Trump will be the GOP s leader for much longer, given his recent behavior. Again, from the New York Times:Mr. McConnell has fumed over Mr. Trump s regular threats against fellow Republicans and criticism of Senate rules, and questioned Mr. Trump s understanding of the presidency in a public speech. Mr. McConnell has made sharper comments in private, describing Mr. Trump as entirely unwilling to learn the basics of governing.In offhand remarks, Mr. McConnell has expressed a sense of bewilderment about where Mr. Trump s presidency may be headed, and has mused about whether Mr. Trump will be in a position to lead the Republican Party into next year s elections and beyond, according to people who have spoken to him directly.All in all, those two might never speak again. The thing is, though, Donald Trump has severely underestimated Mitch McConnell s power. The GOP took a chance and hitched their wagon to this ignorant, incompetent orange fool because their voters left them no choice. However, they now clearly regret it   and said regret just might be inching toward hastening Trump s removal from office.Featured image via Justin Sullivan/Getty Images",
         "News",
         "August 22, 2017",
         "0"
        ],
        [
         "19032",
         "U.S. keeps up diplomatic efforts to deal with North Korea crisis",
         "NEW DELHI (Reuters) - Diplomatic efforts to tackle the crisis caused by North Korea s nuclear and missile buildup are continuing, U. S. Defense Secretary Jim Mattis said on Tuesday.  Mattis, who is on a two-day official visit to the Indian capital to strengthen military ties said pressure on North Korea had increased following a United Nations resolution.   We continue to maintain the diplomatically led efforts in the United Nations,  he told reporters.  You have seen unanimous U.N. security council resolutions passed that have increased the pressure...on the North and at the same time we maintain the capability to deter North Korea s most dangerous threats,  he added. ",
         "worldnews",
         "September 26, 2017 ",
         "1"
        ],
        [
         "18627",
         "LEFT GOES NUTS: Chemist From DC Wins Miss USA Title After Saying Health Care Is A “Privilege” And Not A “Right” [VIDEO]",
         "The District of Columbia has won back-to-back Miss USA titles.Kara McCullough, a 25-year-old chemist working for the U.S. Nuclear Regulatory Commission, was crowned Sunday at the Mandalay Bay Convention Center on the Las Vegas Strip. She will go on to compete on the Miss Universe contest.The runner-up was Miss New Jersey Chhavi Verg, a student at Rutgers University studying marketing and Spanish. The second runner-up was Miss Minnesota Meridith Gould, who is studying apparel retail merchandising at the University of Minnesota.Fifty-one women representing each state and the nation s capital participated in the decades-old competition.McCullough was born in Naples, Italy, and raised in Virginia Beach, Virginia. She said she wants to inspire children to pursue careers in the fields of science, technology, engineering and mathematics.Last year, District of Columbia resident Deshauna Barber became the first-ever military member to win Miss USA.The top five finalists where asked different questions that touched on the pros and cons of social media, women s rights and issues affecting teenagers. McCullough was asked whether she thinks that affordable health care for all U.S. citizens is a right or a privilege. McCullough said it is a privilege.Later in the competition, the McCullough, Verg and Gould were asked to explain what they consider feminism to be and whether they consider themselves feminists. Miss District of Columbia said she likes to  transpose  the word feminism to  equalism. Watch: ABC Newshttps://youtu.be/muS063iEnIkMany Americans were cheering her response on Twitter:Miss USA is a wonderful role model! Leave it to the nasty, sneering left to attack her b/c she doesn't fit their narrative. @foxandfriends pic.twitter.com/CFmVdivTke  Kristin Tate (@KristinBTate) May 15, 2017https://twitter.com/TEN_GOP/status/864121879837241345But many on the left were not as happy with the newly crowned Miss USA Kara McCullough.This Twitter user tells McCullough she doesn t  deserve Miss USA 2017  title because she s not towing the liberal line:#MissUSAHealthcare = privilege! loose a job ,ok to die bcs you don't deserve helpYou dont deserve Miss USA 2017!  Homes by Sylva (@sylvalisko) May 15, 2017TwitterThis Twitter user thought the results were  rigged  and should be decided by a  democracy LOL!Retweet if you think #MissUSA was rigged!!!!! OMG shouldn't MISS USA be decided by a democracy!!!!!!!!!!!!!!!!! pic.twitter.com/TJXp0U5Yl4  Sarah Lauren (@sarahmlauren) May 15, 2017When McCullough said she d like to replace  feminism  with  equality  the triggered left immediately turned that comment into a negative, insisting that she doesn t believe in equality for women.Miss USA 2017 is a no for me   she said she's against feminism and healthcare being a right? pic.twitter.com/ihPGBslN7H  Jon Snow (@justkriistel) May 15, 2017",
         "left-news",
         "May 15, 2017",
         "0"
        ],
        [
         "5256",
         " Trump Gives An Absolutely Jaw-Dropping Answer To The Threat Of Cyber-Attacks",
         "How do you stop cyber-attacks? Well, if you re Donald Trump, the solution is very, very simple. It s so simple it s amazing nobody else has thought of it. Trump must think he s the genius of the world for thinking of this. He believes that stopping cyber-attacks is as simple as no longer using computers, let alone the Internet.No, really, he pretty much said that at a rally in Colorado just yesterday. It s almost laughable if you can get through his word salad: I like the old days, especially for the military, on things like that. You wanna attack or you wanna do something? It s called courier. It s called, let s put it in a thing in an envelope and let s hand it to the general. Let s not send it over the wires where everybody s probably reading it, right? And no matter how good, no matter how good they say it is, it s not. I mean, people can hack it I guess. It s terrible. I know and if you talk about military and you talk about secrets, you talk about politics.  [emphasis mine]Because that s totally realistic in this day and age of information technology. Trump is remarkably regressive   he s also said he doesn t use email all that much because he s  just not a believer in it.  As for his nonstop Twitter use, the jury is out on whether he does that himself or not. He s told some outlets he does, and he s told others that he has staffers do it.So who knows what he really does with Twitter? His policy on cyber security, though, is absurd on its face. There is no getting rid of electronic communication; there is no getting rid of the Internet in the name of security. There is no going back to outmoded means of communication in the name of security. It is just not happening.But don t tell that to Trump, because he probably won t hear it. This is the man who asked Bill Gates to close up the parts of the Internet that the Islamic State uses, as if Bill Gates runs the whole entirety of the Web by himself. And, of course, Trump thinks the Internet is ours, so closing up parts of it to keep hostile powers from using it should be easy.The man is clueless. His lack of even the most rudimentary understanding of how the Internet works is astounding.Featured image by Joe Raedle/Getty Images",
         "News",
         "July 30, 2016",
         "0"
        ],
        [
         "12157",
         "LOU DOBBS Says What We’re All Thinking: Trump has “unexpected patience” with fools”…”some in his own party” [Video]",
         "President-elect @realDonaldTrump s unexpected patience with fools Watch below! #MAGA #Dobbs pic.twitter.com/sRfe2LhkkK  Lou Dobbs (@LouDobbs) December 13, 2016",
         "politics",
         "Dec 12, 2016",
         "0"
        ],
        [
         "17464",
         "WHITE COLLEGE SNOWFLAKES Can ‘Identify’ As Black….Call It The ‘Pocahontas Policy’ But We Call It Delusion [Video]",
         "The latest video from Campus Reform shows just how far some college students think universities should go to recognize people s racial identity delusion and all!The Ivy League setting of Brown University shows Cabot Phillips asking students about a hypothetical  Pocahontas policy  that would allow students to self-identify based on race. Overall I think it s a good thing,  one student said. However, that student later said in the video that he  feels weird talking about this as not a person of color. Phillips asked,  But what if you feel like one though? Another student answered,  It s intended to create uh, you know, an atmosphere of inclusion and support diversity and I don t see anything wrong with that. If somebody identifies as something it should be their right to,  another student said.Soooo these college snowflakes choose to live in the land of delusion and call it an  atmosphere of inclusion and diversity . In our day we called it mental illness .Via: Daily Caller",
         "left-news",
         "Dec 30, 2017",
         "0"
        ],
        [
         "22778",
         "MSM Fake News: How Washington Post Sexed-up its ‘Facebook Russian Bot’ Conspiracy",
         "This is a story about how once trusted mainstream media outlets like Washington Post and the New York Times have used their vast platforms to distort reality and spread disinformation en masse   to both the American and global public. It s also a story about a new  excuse industry  which has sprung up to medicate Hillary Clinton s tragic defeat.The article below, written by award-winning journalist Robert Parry, reveals the shocking extent to which the establishment is willing to go to achieve both domestic political, and international geopolitical outcomes.In September, we were told by multiple US mainstream media that  suspected Russian operators  used Facebook and Twitter accounts to spread  anti-Clinton  messages which somehow affected the electoral outcome in 2016. This was followed by a dramatic announcement by Facebook officials that they had responded to the crisis by  shutting down  several hundred accounts (approx. 470) suspected to have been created by a firm  linked to the Kremlin  who used  Russian bot  accounts to purchase $100,000 worth of Facebook post ads   3,000 ads in total   over a 3 year period (that s only $33,000 per year) which we re told were  pushing divisive issues during and after the American election campaign  (so said the New York Times).As it turns out, the story was not only wildly exaggerated, it provided a convenient smoke screen to cover-up another case of real collusion.The scale of American propaganda is simply breathtaking.In this single passage taken from the recent New York Times  scoop  on the alleged  Facebook Russian Bot  phenomenon, you can see the full compliment of packaged lies which has become a set piece in US mainstream discourse now: The Russian information attack on the election did not stop with the hacking and leaking of Democratic emails or the fire hose of stories, true, false and in between, that battered Mrs. Clinton on Russian outlets like RT and Sputnik. Far less splashy, and far more difficult to trace, was Russia s experimentation on Facebook and Twitter, the American companies that essentially invented the tools of social media and, in this case, did not stop them from being turned into engines of deception and propaganda. It gets worse though. What the Washington Post and others like the New York Times have obscured from the American people through this massive propaganda exercise   is the Obama Administration and partisan Democrats  own role in helping to generate this contrived conspiracy, or fake news. In the absence of any actual evidence of  collusion  between the Trump campaign and Russia   what we have now is a case of Silicon Valley giant Facebook, actually colluding with the White House and the Federal government officials in order to help fabricate a highly politicized false conviction. Here are some of the main points in the article below:  Powerful politicians pressured Facebook executives to come up with any evidence to support the Democratic Party s theory of  Russian meddling.  The Washington Post and others tried to convince a naive portion of the public to believe that somehow $100,000 in transient Facebook ad impacted the tens of billions of dollars spent during U.S. political spending for the 2016 election cycle.  With all of the hype about  Russian operatives,  the mainstream media has not produced evidence to show who bought the ads.As journalistic hoaxes go, this is one of the biggest we ve seen.Perhaps an even bigger fraud in all of this however, is how a corporate mainstream media outlet like the Washington Post can use it s unlimited resources and media might to push out a blatantly fake narrative, intentionally distorted to deceive the public in order to achieve some partisan political objective   and then site on the board of the establishment s  First Draft  project which they claim is leading the fight against  fake news . How can a major purveyor of fake news be left to lead the fight to  tackle fake news ?  This is the danger of allowing an establishment cartel comprising of the corporate media, Facebook, Google and other tech monopolies   to devise their own information policing regime.More on this incredible story from award-winning Consortium News here . . By Robert ParrySome people are calling the anti-Russian hysteria being whipped up across the U.S. mainstream news media a new  golden age of American journalism,  although it looks to me more like a new age of yellow journalism, prepping the people for more military spending, more  information warfare  and more actual war.Yes, without doubt, President Trump is a boorish and dangerous demagogue, now highlighted by his reckless speech before the United Nations last week, his schoolyard Tweet taunts toward North Korean leader Kim Jong Un, and his ugly denunciation of black athletes for protesting against police killings of often unarmed African-Americans.And, yes, I know that some people feel that the evidence-lite and/or false allegations about  Russian meddling  are the golden ticket to Trump s impeachment. But the unprofessional behavior of The New York Times, The Washington Post and pretty much the entire mainstream media regarding Russia-gate cannot be properly justified by the goal of removing Trump from office.Ethically in journalism, the ends   however much you might wish them to succeed   cannot justify the means, if those means involve violating rules of evidence and principles of fairness. Journalism should be a place where all sides get a fair shake, not where some get a bum s rush.But the U.S. mainstream media has clearly joined the anti-Trump Resistance and hates Russian President Vladimir Putin, too. So, we are given such travesties of journalism as appeared as a banner headline across the front page of Monday s Washington Post, another screed about how Russia supposedly used Facebook ads to flip last November s election for Trump.The article purports to give the inside story of how Facebook belatedly came to grips with how the  company s social network played a key role in the U.S. election,  but actually it is a story about how powerful politicians bullied Facebook into coming up with something   anything   to support the narrative of  Russian meddling,  including direct interventions by President Obama and Sen. Mark Warner of Virginia, the ranking Democrat on the Senate Intelligence Committee and a key legislator regarding regulation of high-tech industries.Finding the  Evidence In other words, Facebook was sent back again and again to find what Obama and Warner wanted the social media company to find. Eventually, Facebook turned up $100,000 in ads from 2015 into 2017 that supposedly were traced somehow to Russia. These ads apparently addressed political issues in America although Facebook has said most did not pertain directly to the presidential election and some ads were purchased after the election.Left out of the Post s latest opus is what a very small pebble these ads were   even assuming that Russians did toss the $100,000 or so in ad buys into the very large lake of billions of dollars in U.S. political spending for the 2016 election cycle. It also amounts to a miniscule fraction of Facebook s $27 billion in annual revenue.So the assertion that this alleged  meddling    and we ve yet to see any evidence connecting these ads to the Russian government    played a key role in the U.S. election  is both silly and outrageous, especially given the risks involved in stoking animosities between nuclear-armed Russia and nuclear-armed America.Facebook: Colluding with government.Even the Post s alarmist article briefly acknowledges that it is still unclear who bought the ads, referring to the purchasers as  suspected Russian operatives.  In other words, we don t even know that the $100,000 in ads over three years came from Russians seeking to influence the U.S. election. (By comparison, many Facebook advertisers   even some small businesses   spend $100,000 per day on their ads, not $100,000 over three years.)But this diminutive effort by  suspected Russian operatives doesn t stop the Post from going on and on about  fake news  and  disinformation,  albeit again without offering evidence or specifics of any Russian  fake news  or  disinformation. It has simply become Official Washington s new groupthink to say that everything linked to Russia or its international TV network RT is  fake news  or  disinformation  even though examples are lacking or often turn out to be false accusations themselves.For instance, there is nothing in the Post s article acknowledging that nothing from the various Democratic email disclosures, which have been blamed on Russia (again without real evidence), has been identified as untrue. So, how can truthful information, whether you like how it was obtained or not, be  fake news  or  disinformation ?Falsehood as FactBut Monday s Post expos  simply asserts the claim as flat fact. Or as the article asserts:  what Russian operatives posted on Facebook was, for the most part, indistinguishable from legitimate political speech. The difference was the accounts that were set up to spread the misinformation and hate were illegitimate. In responsible journalism, such an accusation would be followed by a for-instance, giving an example of  the misinformation and hate  that the  Russian operatives    note how they have been magically transformed from  suspected Russian operatives  to simply  Russian operatives    were disseminating.But there is no example of the Russian  misinformation and hate,  a classic violation of the reporting principle of  show, don t tell.  In this story, it s all tell and no show.Indeed, what is shown in the article is often contradictory to the story s conclusion. The article says, for instance,  A review by the company found that most of the groups behind the problematic pages had clear financial motives, which suggested that they weren t working for a foreign government. But amid the mass of data the company was analyzing, the security team did not find clear evidence of Russian disinformation or ad purchases by Russian-linked accounts. So, Facebook initially   after extensive searching   did not find evidence of a Russian operation. Then, after continued pressure from high-level Democrats, Facebook continued to scour its system and again found nothing, or as the Post article acknowledged, Facebook  had searched extensively for evidence of foreign purchases of political advertising but had come up short. That prompted Warner to fly out to Silicon Valley to personally press Facebook executives to come up with the evidence to support the Democrats  theory about Russia paying for carefully targeted anti-Clinton ads in key districts.The Post s article reported that  Finally, [Facebook Chief Security Officer Alex] Stamos appealed to Warner for help: If U.S. intelligence agencies had any information about the Russian operation or the troll farms it used to disseminate misinformation, they should share it with Facebook. The company is still waiting, people involved in the matter said. Under PressureStill, faced with extraordinary pressure from senior Democrats, Facebook finally delivered the desired results, or as the Post reported,  By early August, Facebook had identified more than 3,000 ads addressing social and political issues that ran in the United States between 2015 and 2017 and that appear to have come from accounts associated with the [St. Petersburg, Russia-based] Internet Research Agency. So, the ads covering three years, including post-election 2017, only  appear  to be  associated  with some private Russian operation that only allegedly has ties to the Kremlin. And the total sums of the ad buys are infinitesimal compared to what it actually takes to have any real impact on Facebook or in a U.S. presidential election.If the context of this story were changed slightly   say, it was about the U.S. government trying to influence public opinion in another country (which actually does happen quite a bit)   the Post would be among the first news outlets to laugh off such allegations or dismiss the vague accusations as a conspiracy theory, but since these allegations fit with the prejudices of the Post s editors, an entirely different set of journalistic standards is applied.What the article also ignores is the extraordinary degree of coercion that such high-level political pressure can put on a company that recognizes its vulnerability to government regulation.As Facebook has acknowledged in corporate filings,  Action by governments to restrict access to Facebook in their countries could substantially harm our business and financial results. It is possible that governments of one or more countries may seek to censor content available on Facebook in their country, restrict access to Facebook from their country entirely, or impose other restrictions that may affect the accessibility of Facebook in their country for an extended period of time or indefinitely.  In the event that access to Facebook is restricted, in whole or in part, in one or more countries or our competitors are able to successfully penetrate geographic markets that we cannot access, our ability to retain or increase our user base and user engagement may be adversely affected, we may not be able to maintain or grow our revenue as anticipated, and our financial results could be adversely affected. Avoiding RealityIn other words, another way to have framed this story is that powerful politicians who could severely harm Facebook s business model were getting in the face of Facebook executives and essentially demanding that they come up with something to support the Democratic Party s theory of  Russian meddling. The Democratic leaders wanted this finding as an explanation for Hillary Clinton s (image, left) stunning defeat, rather than going through the painful process of examining why the party has steadily lost ground in white working-class areas across the country.What is missed in these Russia-bashing articles is that the Democratic brand has been sinking for years, including massive losses in statehouses across the country as well as in Congress. The party s decline was not a one-off event with Donald Trump suddenly snaking away with significant parts of the white working class because the Russians bought some Facebook ads.However, instead of looking in the mirror, national Democrats demanded that Facebook executives ferret out whatever tiny or imaginary information there might be about some Russians buying Facebook ads   and then allow those coerced findings to be fed into the excuse industry for why Hillary Clinton lost.And, what about the Post s repeated accusations about Russia engaging in  disinformation  and  fake news  without offering a single example? Apparently, these assertions have become such articles of faith in the U.S. mainstream media that they don t require any proof.However, honest journalism demands examples and evidence, not just vague accusations. The reality is that the U.S. government has stumbled again and again when seeking to paint RT as a disinformation outlet or a vehicle for undermining American democracy.For instance, the Jan. 6 report on alleged Russian  cyber operations,  released by Obama s Director of National Intelligence James Clapper, included a lengthy appendix, dated from 2012, which decried RT for such offenses as allowing a debate among third-party presidential candidates who had been excluded from the Republican-Democratic debates; covering the Occupy Wall Street protests; and citing the environmental dangers from  fracking. The idea that American democracy is threatened by allowing third-party candidates or other American dissidents to have a voice is at best an upside-down understanding of democracy and, more likely, an exercise in hypocritical propaganda.False AccusationsAnother misfired attempt to discredit RT came from Obama s Under Secretary of State for Public Diplomacy Richard Stengel, who issued a  Dipnote  in April 2014, which helped establish the narrative of RT as a source of Russian disinformation.For instance, Stengel claimed that RT reported a  ludicrous assertion  that the United States had spent $5 billion to produce Ukraine s  regime change  in February 2014.But what Stengel, a former managing editor of Time magazine, apparently failed to understand was that RT was referring to a public speech by Assistant Secretary of State for European Affairs Victoria Nuland to U.S. and Ukrainian business leaders on Dec. 13, 2013, in which she told them that  we have invested more than $5 billion  in what was needed for Ukraine to achieve its  European aspirations.  In other words, the RT report wasn t  ludicrous  at all.Nuland also was a leading proponent of  regime change  in Ukraine who personally cheered on the Maidan demonstrators, even passing out cookies. In an intercepted pre-coup phone call with U.S. Ambassador to Ukraine Geoffrey Pyatt, Nuland discussed who should run the new government and pondered with Pyatt how to  glue  or  midwife this thing. So, Stengel was the one disseminating false information, not RT.Similarly, senior U.S. politicians, including Hillary Clinton, and the U.S. mainstream media have falsely asserted that all 17 U.S. intelligence agencies signed off on the Russia-did-it hacking claims.For months, that canard was used to silence skepticism. After all, how could you question something that all 17 U.S. intelligence agencies confirmed to be true?But it turned out that   as DNI Clapper, himself a hardline Russia-basher, belatedly acknowledged   the Jan. 6 report on the alleged Russian hacking was the work of  hand-picked  analysts from only three agencies, the CIA, FBI and NSA, and the  assessment  itself admitted that it was not asserting the Russian conclusion as fact, only the analysts  opinion.The New York Times finally retracted its use of the fake claim about  all 17 U.S. intelligence agencies  in late June 2017 although it wouldn t let the lie lie, so instead the Times made misleading references to a  consensus  among U.S. intelligence agencies without using the number Continue this story at Consortium NewsREAD MORE RUSSIAGATE NEWS AT: 21st Century Wire Russiagate FilesSUPPORT 21WIRE  SUBSCRIBE & BECOME A MEMBER @ 21WIRE.TV",
         "Middle-east",
         "September 26, 2017",
         "0"
        ],
        [
         "8090",
         "Trump calls first debate moderator a Democrat; records show otherwise",
         "(Reuters) - Republican Donald Trump may have gotten it wrong when he said the moderator of the first U.S. presidential debate next week between him and his Democratic rival, Hillary Clinton, is a Democrat. NBC’s Lester Holt, who will moderate the debate on Monday, is registered as a Republican, according to voter information on the New York State Board of Elections website. NBC did not respond to requests for comment on Tuesday about Holt’s party affiliation. Trump has said repeatedly the presidential debates will be stacked against him. He said on Fox News on Monday that Holt was a “professional” but that he was a Democrat, adding that the NBC News anchor may be under pressure after critics accused fellow NBC journalist Matt Lauer of giving Clinton tougher treatment than Trump during a recent forum on defense issues.     “Look, it’s a phony system. Lester is a Democrat. I mean, they are all Democrats. OK? It’s a very unfair system,” Trump said on the show. Bill O’Reilly, the Fox News host conducting the interview, said two other debate moderators, ABC’s Martha Raddatz and CNN’s Anderson Cooper, were also Democrats.  Cooper is registered in New York with no party affiliation, according to the state elections site, which CNN confirmed. ABC did not respond to a request for comment about Raddatz’s registration. The fourth presidential debate moderator, Chris Wallace of Fox News, is a registered Democrat in Washington, D.C., according to the District’s elections website. Wallace has said in interviews that he registered with the party so he could vote in primaries in the heavily Democratic District of Columbia. ",
         "politicsNews",
         "September 20, 2016 ",
         "1"
        ],
        [
         "14083",
         "COL RALPH PETERS: Obama and Politicians ‘Put Happiness of the Saudi Royal Family Above the Survivors of 9/11’ [Video]",
         "Colonel Ralph Peters comments on what he thinks Congress will do regarding releasing the 9/11 Report. Unfortunately, he s correct  ",
         "politics",
         "Apr 19, 2016",
         "0"
        ],
        [
         "6402",
         "U.S. Transportation nominee Chao hits no roadblocks in confirmation hearing",
         "WASHINGTON (Reuters) - Donald Trump’s choice to run the U.S. Transportation Department, Elaine Chao, defended the president-elect’s $1 trillion infrastructure plan as a “bold vision” on Wednesday in an overwhelmingly friendly Senate confirmation hearing. While there is criticism of Chao, in particular on environmental issues, there is no significant opposition to her nomination and she is expected to be confirmed.  She served as labor secretary under President George W. Bush from 2001 to 2009 and was the first Asian-American woman to hold a Cabinet position. She was deputy secretary of transportation under President George H. W. Bush. She was introduced by her husband, Senate Majority Leader Mitch McConnell. The top-ranking Democrat on the committee, Florida’s Bill Nelson, noted his wife’s friendship with Chao. Chao will take a leading role in Trump’s plans to rebuild crumbling U.S. roads and bridges with a $1 trillion fund. He would offer private investors who put money into projects an 82 percent tax credit but critics say it is unclear how they could recoup investments in most projects without sharply increasing costs for users of most roads and bridges. Chao described the plan to the Senate Committee on Commerce, Science and Transportation as a “bold vision” and acknowledged the need to work on the issue of paying investors back. “For them (partnerships) to be truly effective, there need to be revenue streams that need to be assured,” she added. “We all know that the government doesn’t have the resources to do it all.”  Chao is nominated to head a department with such wide-ranging responsibilities as oversight of the nation’s airports and highways, fuel-economy rules for autos and probes into auto makers for safety recalls of key parts like airbags.  She declined to take positions on issues like whether the job of air traffic control should be privatized, concerns over the safety of shipments of crude oil by rail, foreign airlines like Norwegian Air Shuttle’s push to move into the U.S. market and regulation of developing technology like autonomous vehicles and drones. Chao faced no questions about her memberships on corporate boards. Chao is on the board of Wells Fargo & Co which has struggled since September after it agreed with regulators to pay $190 million in fines and restitution to settle charges that its employees wrongly created as many as 2 million accounts without customer authorization. Chao is an immigrant from Taiwan who arrived in the United States at age 8. Her father, James S.C. Chao, is founder of the Foremost Group, an international shipping company. ",
         "politicsNews",
         "January 11, 2017 ",
         "1"
        ],
        [
         "7509",
         " Fired Up Hillary Clinton Tells Dems How To Crush Trump",
         "A fired up Hillary Clinton addressed members of the Democratic Party at a dinner in Columbus, Ohio two days before the primary there, and issued a call to rhetorical arms for the battle against Donald Trump and his racist and bigoted presidential campaign.Clinton went on the record with some of her strongest comments about the reality star turned Republican presidential front runner, just two days after his violent supporters caused the cancellation of a campaign rally in Chicago. Donald Trump is running a cynical campaign of hate and fear, for one reason: to get votes,  she said.  He s encouraging violence and chaos to get votes. He is pitting Americans against each other to get votes. As the Washington Post reports, Clinton s comments mark a  sharp escalation  in the tone of the former Secretary of State s about Trump. And she wasn t done there. After stoking every fire he can think of, Trump encourages his supporters to beat up anybody who disagrees with him   literally punch them in the face   and then offers to pay their legal bills,  Clinton said.In 2012 when President Obama successfully ran for re-election in an atmosphere of right-wing demagoguery, he often told audiences who booed at the prospect of Mitt Romney becoming president,  don t boo, vote.  Clinton offered her version of the phrase in her speech: You and I know Donald Trump is not who we are,  she said.  Of course, we can criticize and protest Mr. Trump all we want. But none of that matters if we also don t show up at the polls. She added:  If you want to shut him down, then let s vote him down. Some observers have worried that Democrats are not turning out to vote in the primaries in the same numbers as Republicans have been, and wondered if that will spill over to the general election, where Democrats have historically had a slight edge in turnout over the Republicans. But Trump s comments and overall campaign tone seem to have energized the core Democratic voters   women and minorities   needed to take the party s nominee to victory.Coupled with recent, direct denunciations of Trump s harmful rhetoric from Bernie Sanders as well, the left seems  fired up and ready to go. Featured image via Flickr",
         "News",
         "March 13, 2016",
         "0"
        ],
        [
         "8313",
         "Puerto Rico oversight board appointed",
         "WASHINGTON/NEW YORK (Reuters) - President Barack Obama on Wednesday appointed a seven-member board to oversee a financial restructuring for Puerto Rico, a majority Republican panel that some market analysts saw as favorable for bondholders of the U.S. territory, which has been crippled by a $70 billion debt crisis. Among the board members, who Obama appointed on the recommendation of legislative leaders, are Arthur Gonzalez, a Democrat and a retired bankruptcy judge who oversaw the Chapter 11 cases of Chrysler and Enron, and Carlos Garcia, a Republican and the former head of Puerto Rico’s Government Development Bank who now runs private equity firm BayBoston. The other appointees are Republicans Andrew Biggs, David Skeel and Jose Carrion III, and Democrats Jose Ramon Gonzalez and Ana Matosantos. The idea of a fiscal control board, known colloquially as La Junta in Puerto Rico, is largely reviled on the island, which has a 45 percent poverty rate and whose chronic economic slump has helped spur rampant outmigration. Among the messages by protesters and graffiti artists plastered around San Juan are: “Wake up! They’re selling our homeland!” and “Say no to oppression.”  But from a market perspective the board figures to be a positive for creditors of the island, said David Tawil, president of hedge fund Maglan Capital. He particularly cited Garcia, calling him “an investor guy, very intertwined with everything that has happened up until now.” And the Democrats on the panel are more moderate than expected, Height Securities analyst Daniel Hanson said in note. Jose Gonzalez, president and chief executive officer of the Federal Home Loan Bank of New York, may be the “key swing vote” for creditor-friendly policies, Hanson said. Keefe Bruyette & Woods analyst Chas Tyson, in a note last week, listed Jose Gonzalez, a former Santander executive, as a potential creditor ally because of his “significant experience in Puerto Rico’s banking sector.” The board was created under the federal law known as PROMESA, passed earlier this year, which will bring Puerto Rico’s finances under federal oversight and give it the authority to restructure some of its debt. The board will be tasked with assessing and certifying annual budgets and a fiscal recovery plan presented by the island’s government, as well as facilitating debt restructuring talks on the island, possibly through a bankruptcy-like process. One interesting pick is Skeel, a professor at the University of Pennsylvania Law School. Though Republicans are generally seen as creditor-friendly, Skeel, a restructuring industry veteran, has repeatedly called for a broad-based restructuring in Puerto Rico.  But he has also stressed that creditor rights should be protected in such a scenario, possibly a good sign for the fate of Puerto Rico’s general obligation debt. That debt is viewed as sacrosanct in municipal debt markets, but it has no legal security under bankruptcy law, which has given some GO holders reason to fret. Importantly, much of the negotiation tactics may be driven by the team of lawyers and financial advisers the board will ultimately select to represent it.      Restructuring consultant Martha Kopacz, of Phoenix Management Services, and veteran bankruptcy lawyer Richard Levin, of Jenner & Block, are among the professionals said to be lobbying to represent the board, according to people familiar with the situation.  House of Representatives Speaker Paul Ryan and Senate Majority Leader Mitch McConnell, both Republicans, each chose two members of the board, while House and Senate Minority Leaders Nancy Pelosi and Harry Reid, Democrats, made one pick apiece. Obama chose the seventh member. ",
         "politicsNews",
         "August 31, 2016 ",
         "1"
        ],
        [
         "8760",
         "On the sidelines of the 2016 presidential campaign",
         "(Reuters) - For the scores of photographers on the 2016 U.S. presidential campaign trail, capturing the characters, the color and the vibe of the election often means turning away from the speaker on the podium. “The audience, the voters and the candidate are equally important,” said Brian Snyder, who has been a photographer for Reuters for more than 20 years.  “The voters need the candidates and the candidates need the voters. Any way you can show that visually is a good campaign picture as far as I’m concerned.”  Take, for example, the window full of young Bernie Sanders supporters that Snyder photographed at Bronx Community College in New York, waving to the U.S. senator from Vermont. Sanders won enthusiastic support from young people in his hard-fought race against the eventual presumptive Democratic nominee, Hillary Clinton. Or look at the tree with umbrellas hanging to dry on it outside a rainy Sanders rally in Buffalo, New York, after the Secret Service prevented supporters from carrying them inside. “I’m sure one person did it, and then the other person thought it was a good idea, and then the next thing you know, there are 30 umbrellas,” Snyder said. “It was just one of those funny things.” Veteran Reuters photographer Mike Segar described covering this year’s U.S. presidential campaign as “strangely fun.”  In a 23-year Reuters career, Segar has covered five presidential elections, but said that this one was different, especially with New York businessman Donald Trump, who became the presumptive Republican nominee, playing a starring role. “The tone of the Trump campaign makes everything different for everybody,” Segar said. He added that heightened security around Trump had also impacted how photographers illustrate the campaign.        Segar took a photograph of one of his own meals when he was covering a Clinton rally: hamburger meat on a bed of undressed spinach in a tinfoil to-go container.  “I was trying to give viewers a little bit of a different taste of what we see on a day to day basis,” Segar said with a laugh.  “Your photos don’t necessarily have to capture the most earth-shattering moments of the campaign, but they have to capture people’s interest.” Reuters photographer Lucas Jackson said he always looked for a different angle at rallies. In one of his photos, young reporters can be seen staring into the screens of their Macbook laptops at a Sanders rally in Pennsylvania. “Usually cameras are pointed at the candidate,” Jackson Said. “I’m always looking to add context.” ",
         "politicsNews",
         "July 14, 2016 ",
         "1"
        ],
        [
         "17201",
         "CHINESE IMMIGRANT OWES MILLIONS FOR SELLING COUNTERFEIT GOODS IN U.S. GETS Protection From Chinese Banks And U.S. Citizenship",
         "Counterfeiting is illegal by the way and shouldn t be rewarded with American citizenship This could be the story of an American dream. An immigrant family builds a successful business and buys a four-bedroom house in a quiet neighborhood with good schools for their young son. But not all is as it seems on the steep, curving streets of San Diego s Rancho Penasquitos.A 45-year-old Chinese woman, Xu Ting, lives in a brown shingle house with a weedy driveway. She has been sued for counterfeiting by eight luxury brands, including Gucci and Louis Vuitton, and owes Chanel Inc. $6.9 million in damages. None of this has stopped her from becoming a legal permanent resident of the United States and achieving a comfortable suburban life.China is not the only country with a counterfeiting problem. Most fakes are made in China, but they are sold in America. Counterfeiting is not a priority on par with drug smuggling or money laundering, and is rarely prosecuted as a crime. The lack of legal cooperation with China makes it easy for counterfeiters to move their money beyond the reach of Western law enforcement   and hard to root out counterfeiting kingpins. As long as counterfeiters can stay out of jail and hold on to their profits   and consumers continue to buy   the trade in fakes will likely thrive.Despite spending millions on brand protection, companies often end up playing whack-a-mole, shutting down producers and distributors of fakes, only to see them pop up again. Xu Ting simply refused to show up in court over the years. Instead, doing graduate studies in statistics at San Diego State University, helped her family amass at least $890,000 in bank accounts back in China, and bought the $585,000 Rancho Penasquitos house with her husband, who has also been involved in selling counterfeit luxury goods, public records and court cases in China and the U.S. show. There s a million ways to game the system,  said Dan Plane, an intellectual property lawyer at Simone IP Services in Hong Kong, who is not involved in litigation against Xu Ting.  Probably the only thing that s going to stop her is when she passes away   probably on an island resort somewhere   or if she gets arrested. FINDING XU TINGIn the web of lies that counterfeiters weave   fake names, fake addresses, fake Internet domain registrations   one thing is always true: their bank account information.The need to get paid is the counterfeiter s fatal flaw, and Xu Ting s bank accounts were the first crack in her armor of misdirection.Her legal troubles began in 2008, when a federal judge in California ordered Xu Ting   who declined multiple requests for comment for this story   to pay Chanel Inc. $6.9 million in damages for selling counterfeits online. She still hasn t paid the damages, according to Chanel spokeswoman Kathrin Schurrer. The essential point for Chanel is really shutting down the counterfeiting operations, which we did successfully,  Schurrer wrote in an email.But after the lawsuit, Xu Ting s business continued to grow.In 2009, a Florida judge ruled against Xu Ting and shut down seven websites she was accused of helping run that sold fake Louis Vuitton, Marc Jacobs and Celine. She did not show up in court.That case didn t stop her either.The next year, Gucci, Balenciaga, Bottega Veneta and Yves Saint Laurent   all brands belonging to France s Kering group   filed a lawsuit in New York federal court against Xu Ting, her future husband, her younger brother, her mother and six others who the companies said sold more than $2 million worth of fake handbags and wallets online to U.S. customers. Gucci alleges that the group shipped merchandise from China to a house in San Diego, where it was repackaged and passed off as genuine.Four days after the suit was filed, Xu Ting married a Chinese man, Xu Lijun, a civil engineer licensed in California who is six years her junior, according to her marriage license issued in the San Diego suburb of El Cajon.Gucci subpoenaed banking records. JP Morgan Chase handed over account records with a wealth of information about the couple: addresses, dates of birth, driver s license, Social Security and passport numbers and a student identification card.In November 2010, Xu Lijun reached a settlement with Gucci   the only defendant to do so. He denied wrongdoing but agreed to let Gucci keep $400,000 in counterfeiting proceeds seized from accounts outside China. He also agreed to pay a $7,500 fine, according to a copy of the judge s order.Eric Siegle, a New York City lawyer who represented Xu Lijun, said he was  a small-time nobody,  and that Gucci s lawsuit, like many others, failed to tackle the real powers behind the operation. The people they are arresting or suing here in the United States are low-level people,  Siegle said.  If you can find where the money is going, you can get to the heart of the problem. It s like the drug wars. Why are we arresting all these kids on street corners? But Gucci, which is seeking $12 million in damages, couldn t find where the money was going because Chinese banks, including the state-run Bank of China, refused to disclose transaction details about the counterfeiters  accounts in China. BOC cannot comply with such orders without violating Chinese law,  the Bank of China said in an email. GREEN CARD? NO PROBLEMXu Ting s legal troubles did not prevent her from getting a green card. In February 2014, she became a legal permanent resident by virtue of being married to someone with an advanced degree or  extraordinary ability,  according to the person familiar with the matter.U.S. Citizenship and Immigration Services spokesman Christopher Bentley declined to comment, citing privacy concerns.Dan Kowalski, an immigration attorney and editor of Bender s Immigration Bulletin, said immigration officials may not have known about Xu Ting s legal problems but, more likely, didn t consider them disqualifying. Grounds for denying a green card range from committing a serious crime to having communicable disease but there s nothing about civil liabilities.  A vaguer requirement for  good moral character  is more commonly applied for citizenship, not legal residence.In the U.S., most counterfeiting prosecutions are civil cases brought by companies seeking to shut down websites selling fakes and get financial compensation. Criminal cases, which lawyers say are a far more effective deterrent, are rare. A person is more likely to be struck by lightning than imprisoned for counterfeiting,  said Geoffrey Potter, an intellectual property lawyer at New York s Patterson Belknap Webb & Tyler.In an email, Justice Department spokesman Peter Carr said,  Large-scale commercial counterfeiting is one of the top enforcement priorities of the department s Intellectual Property Task Force, which continues to have a number of significant prosecutions. The Department of Homeland Security seized $1.2 billion worth of fakes at U.S. borders last year, but the Justice Department filed just 91 criminal cases for selling counterfeit goods and services in fiscal year 2014. By comparison, the Justice Department filed 22,530 cases for immigration violations, 12,184 cases for drug-related offenses and 12,509 violent crime cases during the same period.The National Intellectual Property Rights Coordination Center, a multiagency group led by Immigration and Customs Enforcement, reports slightly more counterfeit-related crime   683 arrests, 454 indictments, 461 convictions in the 2014 fiscal year   because its tally includes local prosecutions and counterfeit-related activity, like wire fraud.Decisions about whether to prosecute criminally typically start with a U.S. attorney s office, whose priorities vary by district, said Bruce Foucart, director of the multiagency group. Some may give weight to the volume of faked goods, others to the suspect s history. If the U.S. attorney s office declines a case, investigators try to persuade local prosecutors.China is the largest source country for seized counterfeit goods, and apparel and accessories are the largest category of merchandise. Foucart, who didn t know about Xu Ting, said luxury goods are typically made in Guangzhou and sent by container or courier like FedEx to the U.S. They may be sold in stores or flea markets but are usually hawked online. Unfortunately, once you shut one (website) down, they have 10 more ready to open up in a different name,  said Foucart.Brand owners also bear responsibility. Government agencies often rely on them for tips and investigative legwork.U.S. law gives companies broad powers to enforce court judgments. Unpaid judgments accrue interest and last for 20 years, said Potter, the intellectual property lawyer. Even a bankruptcy won t erase the debt.  The counterfeiter can t own a business, buy a house, have a bank account or borrow money from a bank,  Potter said.  If the counterfeiter takes a regular job, the judgment holder can garnish her wages. But doing the kind of work required to root out debtors like Xu Ting   public records searches to see whether they own real estate, subpoenaing credit card bills to track spending habits, hiring investigators to determine whether they have jobs   takes relentless commitment, and money.Via: AP ",
         "Government News",
         "Jul 11, 2015",
         "0"
        ],
        [
         "19035",
         "ANTI-TRUMP ANARCHIST Explains Why She Hates Capitalism…Proves She’s A Clueless Moron [Video]",
         " ",
         "left-news",
         "Mar 4, 2017",
         "0"
        ],
        [
         "3096",
         "Trump lawyers make final Supreme Court pitch on travel ban",
         "WASHINGTON (Reuters) - The Trump administration on Wednesday made its final plea to the U.S. Supreme Court to allow its proposed ban on travelers from six Muslim-majority countries to go into effect as the justices weigh how to handle the hotly contested dispute. The court papers filed by President Donald Trump’s administration complete the briefing on the government’s emergency application asking the justices to block lower court injunctions in favor of challengers to the ban. The Supreme Court could now act at any time. The lower court rulings blocked the 90-day ban on travelers from Libya, Iran, Somalia, Sudan, Syria and Yemen and a 120-day ban on all refugees entering the United States to give the government time to implement stronger vetting procedures. In the court papers, Acting Solicitor General Jeff Wall said the lower courts had wrongly second-guessed the president on national security policy when reviewing the March 6 executive order. “The president expressly determined that the order’s provisions are needed to promote national security, but the lower courts here ... nullified that judgment,” he wrote. In court papers filed on Tuesday, lawyers for the state of Hawaii and individual plaintiffs in Maryland urged the high court not to allow the ban go into effect. ",
         "politicsNews",
         "June 21, 2017 ",
         "1"
        ],
        [
         "9349",
         "88-Yr Old DEMOCRAT Congressman and Accused SEXUAL PREDATOR Reluctantly Steps Down From House Judiciary Committee…REFUSES To Resign",
         "John Conyers, the 88-year old Democrat Congressman and Black Caucus member who used taxpayer dollars from one of the most impoverished districts in Michigan, to pay off accusers of sexual assault, is refusing to give up the power he s become accustomed to, as the longest sitting House member in America s history. The corrupt Congressman has, however, agreed to step down from his role on the House Judiciary Committee, pending an investigation into the multiple allegations of sexual harassment that have been levied against him.In a statement released through Democratic Minority Leader Nancy Pelosi s office on Sunday, Conyers said he would like to keep his leadership position but realized that he may  undermine  the committee s work if he stays at the helm. I have come to believe that my presence as Ranking Member on the Committee would not serve these efforts while the Ethics Committee investigation is pending,  Conyers (D-Detroit) said in the statement.  I cannot in good conscience allow these charges to undermine my colleagues in the Democratic Caucus, and my friends on both sides of the aisle in the Judiciary Committee and the House of Representatives. Conyers, 88, is the longest-serving House member. BuzzFeed reported last week the contents of the secret $27,000 settlement Conyers paid with taxpayer funds to a former staffer who said she was fired for rejecting Conyers  sexual advances.Conyers has admitted to the payment but denied any wrongdoing. I deny these allegations, many of which were raised by documents reportedly paid for by a partisan alt-right blogger,  Conyers said, referring to the settlement papers obtained by Mike Cernovich and passed along to the news site.  I very much look forward to vindicating myself and my family before the House Committee on Ethics. With Conyers stepping aside, the next most senior Democrat   New York Rep. Jerrold Nadler   will become acting Ranking Member of the powerful committee. Even under these unfortunate circumstances, the important work of the Democrats on the House Judiciary Committee must move forward,  Nadler said in a Sunday statement.  I will do everything in my power to continue to press on the important issues facing our committee, including criminal justice reform, workplace equality, and holding the Trump Administration accountable. Nadler added:  Ranking Member Conyers has a 50 year legacy of advancing the cause of justice, and my job moving forward is to continue that critical work. New York Rep. Kathleen Rice was the first House Democrat last week to call for Conyers  resignation from Congress, and Rep. Gregory Meeks (D-Queens) said Conyers should at least give up his perch as the House Judiciary Committee s ranking member, pending the outcome of the ethics probe.Earlier Sunday, Pelosi defended Conyers on NBC s  Meet the Press  by not calling for his resignation and insisting the  icon  deserves due process.  NYP ",
         "politics",
         "Nov 26, 2017",
         "0"
        ]
       ],
       "shape": {
        "columns": 5,
        "rows": 20
       }
      },
      "text/html": [
       "<div>\n",
       "<style scoped>\n",
       "    .dataframe tbody tr th:only-of-type {\n",
       "        vertical-align: middle;\n",
       "    }\n",
       "\n",
       "    .dataframe tbody tr th {\n",
       "        vertical-align: top;\n",
       "    }\n",
       "\n",
       "    .dataframe thead th {\n",
       "        text-align: right;\n",
       "    }\n",
       "</style>\n",
       "<table border=\"1\" class=\"dataframe\">\n",
       "  <thead>\n",
       "    <tr style=\"text-align: right;\">\n",
       "      <th></th>\n",
       "      <th>title</th>\n",
       "      <th>text</th>\n",
       "      <th>subject</th>\n",
       "      <th>date</th>\n",
       "      <th>class</th>\n",
       "    </tr>\n",
       "  </thead>\n",
       "  <tbody>\n",
       "    <tr>\n",
       "      <th>3380</th>\n",
       "      <td>WATCH: Kellyanne Conway Accuses Obama Of Bein...</td>\n",
       "      <td>If someone had called Ronald Reagan un-America...</td>\n",
       "      <td>News</td>\n",
       "      <td>December 16, 2016</td>\n",
       "      <td>0</td>\n",
       "    </tr>\n",
       "    <tr>\n",
       "      <th>7806</th>\n",
       "      <td>DNC Vice Chair RESIGNS, Declares Support For ...</td>\n",
       "      <td>On Sunday, Tulsi Gabbard appeared on Meet The ...</td>\n",
       "      <td>News</td>\n",
       "      <td>February 28, 2016</td>\n",
       "      <td>0</td>\n",
       "    </tr>\n",
       "    <tr>\n",
       "      <th>5993</th>\n",
       "      <td>ICRC, jurists join rebuke of Trump torture rem...</td>\n",
       "      <td>GENEVA (Reuters) - The International Committee...</td>\n",
       "      <td>politicsNews</td>\n",
       "      <td>January 26, 2017</td>\n",
       "      <td>1</td>\n",
       "    </tr>\n",
       "    <tr>\n",
       "      <th>510</th>\n",
       "      <td>NYT Bombshell: Trump And McConnell Not Speaki...</td>\n",
       "      <td>Donald Trump has never been Senate Majority Le...</td>\n",
       "      <td>News</td>\n",
       "      <td>August 22, 2017</td>\n",
       "      <td>0</td>\n",
       "    </tr>\n",
       "    <tr>\n",
       "      <th>19032</th>\n",
       "      <td>U.S. keeps up diplomatic efforts to deal with ...</td>\n",
       "      <td>NEW DELHI (Reuters) - Diplomatic efforts to ta...</td>\n",
       "      <td>worldnews</td>\n",
       "      <td>September 26, 2017</td>\n",
       "      <td>1</td>\n",
       "    </tr>\n",
       "    <tr>\n",
       "      <th>18627</th>\n",
       "      <td>LEFT GOES NUTS: Chemist From DC Wins Miss USA ...</td>\n",
       "      <td>The District of Columbia has won back-to-back ...</td>\n",
       "      <td>left-news</td>\n",
       "      <td>May 15, 2017</td>\n",
       "      <td>0</td>\n",
       "    </tr>\n",
       "    <tr>\n",
       "      <th>5256</th>\n",
       "      <td>Trump Gives An Absolutely Jaw-Dropping Answer...</td>\n",
       "      <td>How do you stop cyber-attacks? Well, if you re...</td>\n",
       "      <td>News</td>\n",
       "      <td>July 30, 2016</td>\n",
       "      <td>0</td>\n",
       "    </tr>\n",
       "    <tr>\n",
       "      <th>12157</th>\n",
       "      <td>LOU DOBBS Says What We’re All Thinking: Trump ...</td>\n",
       "      <td>President-elect @realDonaldTrump s unexpected ...</td>\n",
       "      <td>politics</td>\n",
       "      <td>Dec 12, 2016</td>\n",
       "      <td>0</td>\n",
       "    </tr>\n",
       "    <tr>\n",
       "      <th>17464</th>\n",
       "      <td>WHITE COLLEGE SNOWFLAKES Can ‘Identify’ As Bla...</td>\n",
       "      <td>The latest video from Campus Reform shows just...</td>\n",
       "      <td>left-news</td>\n",
       "      <td>Dec 30, 2017</td>\n",
       "      <td>0</td>\n",
       "    </tr>\n",
       "    <tr>\n",
       "      <th>22778</th>\n",
       "      <td>MSM Fake News: How Washington Post Sexed-up it...</td>\n",
       "      <td>This is a story about how once trusted mainstr...</td>\n",
       "      <td>Middle-east</td>\n",
       "      <td>September 26, 2017</td>\n",
       "      <td>0</td>\n",
       "    </tr>\n",
       "    <tr>\n",
       "      <th>8090</th>\n",
       "      <td>Trump calls first debate moderator a Democrat;...</td>\n",
       "      <td>(Reuters) - Republican Donald Trump may have g...</td>\n",
       "      <td>politicsNews</td>\n",
       "      <td>September 20, 2016</td>\n",
       "      <td>1</td>\n",
       "    </tr>\n",
       "    <tr>\n",
       "      <th>14083</th>\n",
       "      <td>COL RALPH PETERS: Obama and Politicians ‘Put H...</td>\n",
       "      <td>Colonel Ralph Peters comments on what he think...</td>\n",
       "      <td>politics</td>\n",
       "      <td>Apr 19, 2016</td>\n",
       "      <td>0</td>\n",
       "    </tr>\n",
       "    <tr>\n",
       "      <th>6402</th>\n",
       "      <td>U.S. Transportation nominee Chao hits no roadb...</td>\n",
       "      <td>WASHINGTON (Reuters) - Donald Trump’s choice t...</td>\n",
       "      <td>politicsNews</td>\n",
       "      <td>January 11, 2017</td>\n",
       "      <td>1</td>\n",
       "    </tr>\n",
       "    <tr>\n",
       "      <th>7509</th>\n",
       "      <td>Fired Up Hillary Clinton Tells Dems How To Cr...</td>\n",
       "      <td>A fired up Hillary Clinton addressed members o...</td>\n",
       "      <td>News</td>\n",
       "      <td>March 13, 2016</td>\n",
       "      <td>0</td>\n",
       "    </tr>\n",
       "    <tr>\n",
       "      <th>8313</th>\n",
       "      <td>Puerto Rico oversight board appointed</td>\n",
       "      <td>WASHINGTON/NEW YORK (Reuters) - President Bara...</td>\n",
       "      <td>politicsNews</td>\n",
       "      <td>August 31, 2016</td>\n",
       "      <td>1</td>\n",
       "    </tr>\n",
       "    <tr>\n",
       "      <th>8760</th>\n",
       "      <td>On the sidelines of the 2016 presidential camp...</td>\n",
       "      <td>(Reuters) - For the scores of photographers on...</td>\n",
       "      <td>politicsNews</td>\n",
       "      <td>July 14, 2016</td>\n",
       "      <td>1</td>\n",
       "    </tr>\n",
       "    <tr>\n",
       "      <th>17201</th>\n",
       "      <td>CHINESE IMMIGRANT OWES MILLIONS FOR SELLING CO...</td>\n",
       "      <td>Counterfeiting is illegal by the way and shoul...</td>\n",
       "      <td>Government News</td>\n",
       "      <td>Jul 11, 2015</td>\n",
       "      <td>0</td>\n",
       "    </tr>\n",
       "    <tr>\n",
       "      <th>19035</th>\n",
       "      <td>ANTI-TRUMP ANARCHIST Explains Why She Hates Ca...</td>\n",
       "      <td></td>\n",
       "      <td>left-news</td>\n",
       "      <td>Mar 4, 2017</td>\n",
       "      <td>0</td>\n",
       "    </tr>\n",
       "    <tr>\n",
       "      <th>3096</th>\n",
       "      <td>Trump lawyers make final Supreme Court pitch o...</td>\n",
       "      <td>WASHINGTON (Reuters) - The Trump administratio...</td>\n",
       "      <td>politicsNews</td>\n",
       "      <td>June 21, 2017</td>\n",
       "      <td>1</td>\n",
       "    </tr>\n",
       "    <tr>\n",
       "      <th>9349</th>\n",
       "      <td>88-Yr Old DEMOCRAT Congressman and Accused SEX...</td>\n",
       "      <td>John Conyers, the 88-year old Democrat Congres...</td>\n",
       "      <td>politics</td>\n",
       "      <td>Nov 26, 2017</td>\n",
       "      <td>0</td>\n",
       "    </tr>\n",
       "  </tbody>\n",
       "</table>\n",
       "</div>"
      ],
      "text/plain": [
       "                                                   title  \\\n",
       "3380    WATCH: Kellyanne Conway Accuses Obama Of Bein...   \n",
       "7806    DNC Vice Chair RESIGNS, Declares Support For ...   \n",
       "5993   ICRC, jurists join rebuke of Trump torture rem...   \n",
       "510     NYT Bombshell: Trump And McConnell Not Speaki...   \n",
       "19032  U.S. keeps up diplomatic efforts to deal with ...   \n",
       "18627  LEFT GOES NUTS: Chemist From DC Wins Miss USA ...   \n",
       "5256    Trump Gives An Absolutely Jaw-Dropping Answer...   \n",
       "12157  LOU DOBBS Says What We’re All Thinking: Trump ...   \n",
       "17464  WHITE COLLEGE SNOWFLAKES Can ‘Identify’ As Bla...   \n",
       "22778  MSM Fake News: How Washington Post Sexed-up it...   \n",
       "8090   Trump calls first debate moderator a Democrat;...   \n",
       "14083  COL RALPH PETERS: Obama and Politicians ‘Put H...   \n",
       "6402   U.S. Transportation nominee Chao hits no roadb...   \n",
       "7509    Fired Up Hillary Clinton Tells Dems How To Cr...   \n",
       "8313               Puerto Rico oversight board appointed   \n",
       "8760   On the sidelines of the 2016 presidential camp...   \n",
       "17201  CHINESE IMMIGRANT OWES MILLIONS FOR SELLING CO...   \n",
       "19035  ANTI-TRUMP ANARCHIST Explains Why She Hates Ca...   \n",
       "3096   Trump lawyers make final Supreme Court pitch o...   \n",
       "9349   88-Yr Old DEMOCRAT Congressman and Accused SEX...   \n",
       "\n",
       "                                                    text          subject  \\\n",
       "3380   If someone had called Ronald Reagan un-America...             News   \n",
       "7806   On Sunday, Tulsi Gabbard appeared on Meet The ...             News   \n",
       "5993   GENEVA (Reuters) - The International Committee...     politicsNews   \n",
       "510    Donald Trump has never been Senate Majority Le...             News   \n",
       "19032  NEW DELHI (Reuters) - Diplomatic efforts to ta...        worldnews   \n",
       "18627  The District of Columbia has won back-to-back ...        left-news   \n",
       "5256   How do you stop cyber-attacks? Well, if you re...             News   \n",
       "12157  President-elect @realDonaldTrump s unexpected ...         politics   \n",
       "17464  The latest video from Campus Reform shows just...        left-news   \n",
       "22778  This is a story about how once trusted mainstr...      Middle-east   \n",
       "8090   (Reuters) - Republican Donald Trump may have g...     politicsNews   \n",
       "14083  Colonel Ralph Peters comments on what he think...         politics   \n",
       "6402   WASHINGTON (Reuters) - Donald Trump’s choice t...     politicsNews   \n",
       "7509   A fired up Hillary Clinton addressed members o...             News   \n",
       "8313   WASHINGTON/NEW YORK (Reuters) - President Bara...     politicsNews   \n",
       "8760   (Reuters) - For the scores of photographers on...     politicsNews   \n",
       "17201  Counterfeiting is illegal by the way and shoul...  Government News   \n",
       "19035                                                           left-news   \n",
       "3096   WASHINGTON (Reuters) - The Trump administratio...     politicsNews   \n",
       "9349   John Conyers, the 88-year old Democrat Congres...         politics   \n",
       "\n",
       "                      date  class  \n",
       "3380     December 16, 2016      0  \n",
       "7806     February 28, 2016      0  \n",
       "5993     January 26, 2017       1  \n",
       "510        August 22, 2017      0  \n",
       "19032  September 26, 2017       1  \n",
       "18627         May 15, 2017      0  \n",
       "5256         July 30, 2016      0  \n",
       "12157         Dec 12, 2016      0  \n",
       "17464         Dec 30, 2017      0  \n",
       "22778   September 26, 2017      0  \n",
       "8090   September 20, 2016       1  \n",
       "14083         Apr 19, 2016      0  \n",
       "6402     January 11, 2017       1  \n",
       "7509        March 13, 2016      0  \n",
       "8313      August 31, 2016       1  \n",
       "8760        July 14, 2016       1  \n",
       "17201         Jul 11, 2015      0  \n",
       "19035          Mar 4, 2017      0  \n",
       "3096        June 21, 2017       1  \n",
       "9349          Nov 26, 2017      0  "
      ]
     },
     "execution_count": 76,
     "metadata": {},
     "output_type": "execute_result"
    }
   ],
   "source": [
    "data.sample(20)"
   ]
  },
  {
   "cell_type": "code",
   "execution_count": 77,
   "id": "eac13504",
   "metadata": {},
   "outputs": [],
   "source": [
    "data = data.drop([\"title\",\"subject\",\"date\"], axis = 1)"
   ]
  },
  {
   "cell_type": "code",
   "execution_count": 78,
   "id": "21ff47ba",
   "metadata": {},
   "outputs": [],
   "source": [
    "data.reset_index(inplace=True)"
   ]
  },
  {
   "cell_type": "code",
   "execution_count": 79,
   "id": "d2ed2c20",
   "metadata": {},
   "outputs": [],
   "source": [
    "data.drop(['index'],axis=1,inplace=True)"
   ]
  },
  {
   "cell_type": "code",
   "execution_count": 80,
   "id": "ce84a6fc",
   "metadata": {},
   "outputs": [
    {
     "data": {
      "text/plain": [
       "<bound method NDFrame.sample of                                                     text  class\n",
       "0      Donald Trump just couldn t wish all Americans ...      0\n",
       "1      House Intelligence Committee Chairman Devin Nu...      0\n",
       "2      On Friday, it was revealed that former Milwauk...      0\n",
       "3      On Christmas day, Donald Trump announced that ...      0\n",
       "4      Pope Francis used his annual Christmas Day mes...      0\n",
       "...                                                  ...    ...\n",
       "44893  BRUSSELS (Reuters) - NATO allies on Tuesday we...      1\n",
       "44894  LONDON (Reuters) - LexisNexis, a provider of l...      1\n",
       "44895  MINSK (Reuters) - In the shadow of disused Sov...      1\n",
       "44896  MOSCOW (Reuters) - Vatican Secretary of State ...      1\n",
       "44897  JAKARTA (Reuters) - Indonesia will buy 11 Sukh...      1\n",
       "\n",
       "[44898 rows x 2 columns]>"
      ]
     },
     "execution_count": 80,
     "metadata": {},
     "output_type": "execute_result"
    }
   ],
   "source": [
    "data.sample\n"
   ]
  },
  {
   "cell_type": "code",
   "execution_count": 81,
   "id": "8651ae41",
   "metadata": {},
   "outputs": [
    {
     "data": {
      "application/vnd.microsoft.datawrangler.viewer.v0+json": {
       "columns": [
        {
         "name": "index",
         "rawType": "int64",
         "type": "integer"
        },
        {
         "name": "text",
         "rawType": "object",
         "type": "string"
        },
        {
         "name": "class",
         "rawType": "int64",
         "type": "integer"
        }
       ],
       "ref": "ab9f58ea-9770-4306-926f-7a6a37f09787",
       "rows": [
        [
         "33180",
         "WASHINGTON (Reuters) - Retired Lieutenant General Michael Flynn, who has been advising Donald Trump informally on foreign policy, will join Drone Aviation Holding Corp as vice chairman of its board of directors, the company said in a statement on Wednesday. Flynn, who was chief of the Defense Intelligence Agency under President Barack Obama from 2012-2014 and has since been advising Trump, the Republican presidential front-runner, wants the United States to work more closely with Russia to resolve global security issues. “Having evaluated the (company’s) technologies, I believe they can positively impact our military’s defense and situational awareness and that is why I am joining Jay and his team in expanding the role of persistent aerial solutions in the marketplace,” Flynn said in the statement, referring to company CEO Jay Nussbaum.  Drone Aviation develops and manufactures aerostats and electric-powered drones to give its customers “enhanced surveillance and communication capabilities.” The company’s customers include the U.S. military, Saudi Arabia and the Ecuadorian Air Force, according to its website. Flynn resigned as the head of the Pentagon’s main intelligence agency a year before his term was officially due to end. He raised eyebrows among some U.S. foreign policy veterans when he was pictured sitting at the head table with Russian President Vladimir Putin at a banquet in Moscow late last year celebrating Russia Today, an international broadcasting network funded by the Russian government. He told Russia Today in an interview published on Dec. 10 that the United States and Russia should work together to resolve the Syrian civil war and defeat the Islamic State militant group. Flynn’s experience would “help ensure that our tethered solutions, today and in the future, will continue to meet the needs of our soldiers and security forces at home and abroad as they respond to evolving threats,” Nussbaum said in the same statement. ",
         "1"
        ],
        [
         "21594",
         "Because we don t have enough crime in our country already we need to import it from Mexico and South America.To hell with America it s all about the votes The man suspected of gunning down a young woman at random at a popular San Francisco tourist spot on Wednesday has been  deported to Mexico several times,  according to a report by the local ABC News affiliate. The woman, 32-year-old Kathryn Steinle ( Kate ), was struck in the chest with a bullet while visiting Pier 14 on the Embarcadero with her family. She was rushed to a nearby hospital but doctors were unable to save her, as she died in her parents  arms a few hours later.The suspect, Francisco Sanchez, was identified as being in his mid-40s and on probation from Texas due to previous, undisclosed crimes. He was arrested after tips from passers-by. Officials said that the killing appeared to be random. Police believe they have recovered the murder weapon from the waters of the San Francisco Bay near the pier, where the suspect allegedly tossed it.On Thursday, two news crews filming live at Pier 14 were mugged at the scene, and one cameraman was pistol-whipped.The San Francisco Chronicle described Steinle s last moments in heartbreaking detail: She fought for her life,  [Liz] Sullivan said, adding that her daughter s heart had stopped two times, and was restarted, in the ambulance. It was a battle, but she just didn t make it,  she said.  It was horrific, but we knew the minute they came to talk to us, it wasn t good. But it was so nice to go in and be with her. Sullivan said that in their final moments together, she softly touched her daughter s face   a face she used to paint when the young woman was a little girl. We have deep faith,  Jim Steinle said, adding,  Our faith isn t to the point where we re ready to forgive.   Via: Breitbart NewsOBAMA S SOLUTION TO ILLEGAL CRIME IN AMERICA:Washington Post  The Obama administration has begun a profound shift in its enforcement of the nation s immigration laws, aiming to hasten the integration of long-term illegal immigrants into society rather than targeting them for deportation, according to documents and federal officials.In recent months, the Department of Homeland Security has taken steps to ensure that the majority of the United States  11.3 million undocumented immigrants can stay in this country, with agents narrowing enforcement efforts to three groups of illegal migrants: convicted criminals, terrorism threats or those who recently crossed the border.While public attention has been focused on the court fight over President Obama s highly publicized executive action on immigration, DHS has with little fanfare been training thousands of immigration agents nationwide to carry out new policies on everyday enforcement.",
         "0"
        ],
        [
         "20938",
         "This is a SHOCKING example of a government putting the rights of violent extreme Muslims before their own citizens: ",
         "0"
        ],
        [
         "43793",
         "MOSCOW (Reuters) - Russian Foreign Minister Sergei Lavrov and U.S. Secretary of State Rex Tillerson will meet on the sidelines of the United Nations General Assembly, TASS news agency quoted Russian Deputy Foreign Minister Sergei Ryabkov as saying on Tuesday. ",
         "1"
        ],
        [
         "2826",
         "When Trump began his disinformation campaign and then started trying to muzzle federal agencies, employees of some of these agencies went to Twitter to openly defy him. They call themselves AltGov, and there are dozens of these accounts that are making a point of pushing out the very facts that Trump wishes would disappear, as well as openly fighting his  alternative facts,  and overall disinformation campaign. Many have been verified by Snopes, who now keeps a running list of trusted AltGov accounts.However, no matter who they are, they are all very clear about the fact that they are not doing this on behalf of their agencies. They re operating these accounts independently and are not official U.S. government Twitter accounts, and they re dedicated to maintaining the flow of information from the government to the people that we enjoyed under previous administrations (Please note: Their work does not appear to include any sensitive information, and they appear to be very careful to keep it that way).Below are some of the agencies and departments where members of AltGov work, have inside knowledge of, or can otherwise speak the truth about what the government is doing:There are also two alternate accounts dedicated to sending out facts under the name Alt. Sarah H. Sanders (@altUSPressSec), and Alt. Alt. Press Sec (@altaltPressSec). In addition to directly and loudly calling out the Trump administration on its lies, Alt. Alt. Press Sec  speaks truth to power for those who block @altUSPressSec,  who has been blocked by none other than Trump himself. Back when Sean Spicer was still Trump s press secretary, @altUSPressSec tweeted out a short description of what AltGov stands for.We are not scientists. We are civil servants and Federal contractors united for the preservation of democratic norms. We support our #altGov  Alt. Sean Spicer (@AltUSPressSec) January 26, 2017This is an anti-Trump resistance movement within the United States government that caught on like a wildfire in a forest canopy shortly after he decided to muzzle the Department of the Interior and the National Park Service back in January. There are also many, many supporting accounts who aren t government, but who support the movement and have ways to help. What we see here is the backbone of the federal government, along with concerned contractors and friends, telling Trump to fuck right the hell off with his  alternative facts  and muzzling bullshit. They will not be silenced.Featured image by Andrew Harrer via Getty Images",
         "0"
        ]
       ],
       "shape": {
        "columns": 2,
        "rows": 5
       }
      },
      "text/html": [
       "<div>\n",
       "<style scoped>\n",
       "    .dataframe tbody tr th:only-of-type {\n",
       "        vertical-align: middle;\n",
       "    }\n",
       "\n",
       "    .dataframe tbody tr th {\n",
       "        vertical-align: top;\n",
       "    }\n",
       "\n",
       "    .dataframe thead th {\n",
       "        text-align: right;\n",
       "    }\n",
       "</style>\n",
       "<table border=\"1\" class=\"dataframe\">\n",
       "  <thead>\n",
       "    <tr style=\"text-align: right;\">\n",
       "      <th></th>\n",
       "      <th>text</th>\n",
       "      <th>class</th>\n",
       "    </tr>\n",
       "  </thead>\n",
       "  <tbody>\n",
       "    <tr>\n",
       "      <th>33180</th>\n",
       "      <td>WASHINGTON (Reuters) - Retired Lieutenant Gene...</td>\n",
       "      <td>1</td>\n",
       "    </tr>\n",
       "    <tr>\n",
       "      <th>21594</th>\n",
       "      <td>Because we don t have enough crime in our coun...</td>\n",
       "      <td>0</td>\n",
       "    </tr>\n",
       "    <tr>\n",
       "      <th>20938</th>\n",
       "      <td>This is a SHOCKING example of a government put...</td>\n",
       "      <td>0</td>\n",
       "    </tr>\n",
       "    <tr>\n",
       "      <th>43793</th>\n",
       "      <td>MOSCOW (Reuters) - Russian Foreign Minister Se...</td>\n",
       "      <td>1</td>\n",
       "    </tr>\n",
       "    <tr>\n",
       "      <th>2826</th>\n",
       "      <td>When Trump began his disinformation campaign a...</td>\n",
       "      <td>0</td>\n",
       "    </tr>\n",
       "  </tbody>\n",
       "</table>\n",
       "</div>"
      ],
      "text/plain": [
       "                                                    text  class\n",
       "33180  WASHINGTON (Reuters) - Retired Lieutenant Gene...      1\n",
       "21594  Because we don t have enough crime in our coun...      0\n",
       "20938  This is a SHOCKING example of a government put...      0\n",
       "43793  MOSCOW (Reuters) - Russian Foreign Minister Se...      1\n",
       "2826   When Trump began his disinformation campaign a...      0"
      ]
     },
     "execution_count": 81,
     "metadata": {},
     "output_type": "execute_result"
    }
   ],
   "source": [
    "data.sample(5)"
   ]
  },
  {
   "cell_type": "code",
   "execution_count": 82,
   "id": "86bb9a34",
   "metadata": {},
   "outputs": [],
   "source": [
    "def clean_text(text):\n",
    "    text = text.lower()\n",
    "    text = re.sub(r'\\[*?.\\]', '', text)\n",
    "    text = re.sub(r'https?://\\S+|www\\.\\S+', '', text)\n",
    "    text = re.sub(r'\\s+', ' ', text)\n",
    "    text = re.sub(r'[%s]' % re.escape(string.punctuation), '', text)\n",
    "    text = re.sub(r'\\n', '', text)\n",
    "    text = re.sub(r'\\w*\\d\\w*', '', text)\n",
    "    return text\n"
   ]
  },
  {
   "cell_type": "code",
   "execution_count": 83,
   "id": "1bee18b8",
   "metadata": {},
   "outputs": [],
   "source": [
    "data['text'] = data['text'].apply(clean_text)"
   ]
  },
  {
   "cell_type": "code",
   "execution_count": 84,
   "id": "9d8ef605",
   "metadata": {},
   "outputs": [
    {
     "data": {
      "application/vnd.microsoft.datawrangler.viewer.v0+json": {
       "columns": [
        {
         "name": "index",
         "rawType": "int64",
         "type": "integer"
        },
        {
         "name": "text",
         "rawType": "object",
         "type": "string"
        },
        {
         "name": "class",
         "rawType": "int64",
         "type": "integer"
        }
       ],
       "ref": "7babd8dd-ae40-4428-961a-468b295c64f2",
       "rows": [
        [
         "24024",
         "washington reuters  us president donald trump will meet with senate republicans next week to discuss their party’s efforts to pass tax reform legislation the chairman of the senate republican policy committee said on friday us senator john barrasso said in a statement that trump will meet with republican senators at their weekly luncheon at the us capitol on tuesday ",
         "1"
        ],
        [
         "5409",
         "rightwing super troll and breitbartcom contributor milo yiannopoulos has been banned from twitter forever the announcement comes from the social network after years of yiannopoulos using the service to direct his followers to hound and harass people with racist bigoted and sexist threatsthat ended on tuesdaybut this week he went far according to twitter it was yiannopoulos who led the harassment campaign against ghostbusters actor leslie jones that inspired the snl cast member s decision to leave twitter the tweets many of which targeted jones for being black and a woman were the final straw for twitter which is taking steps to try to solve its harassment problemaccording to the company the permanent suspension isn t a matter of speech as much as a matter of behavior specifically a violation of twitter s rules regarding the targeted abuse of specific usersyiannopoulos and his rabid fan base went after jones because they view her role in the allfemale ghostbusters as an attack on men and believe the movie should be attacked no matter the merits of the film on its ownas a result when the socalled altright pundit directed his followers to jones the actress received numerous tweets comparing her to a monkey or baboon and a torrent of racist and sexist epithetsjones frustrated that twitter was not responding to clear violations of its user policy prohibiting such actions began to post the threats she received as a form of protest against the company twitter ceo jack dorsey finally reached out to jones but only after hours of posting the clear violationsyiannopoulos has styled himself as a provocateur on what he and his followers call the altright the movement though is not really alt but is a throwback to some of the racist and sexist impulses that have lived on the right for decades altright supporters of trump have often sent antisemitic images and messages to journalists who they feel are not supportive enough of the republican nomineefeatured image via youtube",
         "0"
        ],
        [
         "9240",
         "when four chicago thugs videotaped the brutal tortured a young mentally disabled man they kidnapped in a live facebook video americans were stunned almost immediately after the discovery was made the spokesperson for the chicago police department called it a stupid mistake the superintendent of the building where the torture took place shrugged off the horrific event by simply saying kids make stupid mistakes it looks like not much has changed in the attitudes of chicago officials tasked with holding criminals accountable especially in the case of four repulsive young thugs who scalped the young  old man made him drink from a toilet forced him to yell fck trump and fck white people  and repeatedly hit him while his hands were tied and his mouth was covered with duct tapethe video is hard to watch but is an honest look at the antitrump and racist monsters who ve been given a pass by our media go here to watch the disturbing video warningthe video is very graphicit was just announced that in a plea deal brittany covington  the narrator of the video who had been held at the cook county jail without bond since january will be the first of the four to be released in a shocking case of injustice the plea deal states that covington will remain on probation for four years and is barred from contact with  of the other  cocriminals cooper and hill the chicago suntimes is reportingother terms of the plea agreement bars covington from using social media for four years the cook county state s attorney s office tells cbs  covington narrated facebook live video of the others tormenting an  white man in the apartment she shared with her sisterthe victim a crystal lake man who had been classmates with hill at a west suburban alternative high school appears terrorstricken as he was taunted with raciallytinged insults including calling him a supporter of thenpresidentelect donald trump hill and cooper allegedly cut his clothing with a knife punched and kicked him in another video the man was forced to drink water from a toilet bowlin one of the videos the defendants allegedly posted on facebook a man threatened the victim with a knife someone told the victim kiss the floor b  and nobody can help you anymore at one point someone told the victim say i love black people when a woman who lived in the building complained about the the noise and threatened to call the police the sisters kicked in the woman s door in anger and took some of her property police said while the others had run to the other apartment the victim managed to escape and police found him wearing shorts and his torn clothing in the january weather a block away streamwood police officials say the victim s parents had made a missingpersons report after their son didn t return homeduring the streamwood police investigation the victim s parents started receiving text messages from persons claiming to be holding him captive officials saidplea negotiations are ongoing with her three codefendants all of whom also have been in custody  ",
         "0"
        ],
        [
         "29285",
         "sydney reuters  the united states will apply ‘extreme vetting’ to up to  asylum seekers it has agreed to resettle as part of a deal with australia a spokesman for president trump said in the united states on tuesday washington agreed on a deal late last year to resettle asylum seekers mainly from afghanistan iran and iraq held in australia’s processing centers on remote pacific islands in papua new guinea and nauru under the deal australia would in return resettle refugees from el salvador guatemala and honduras providing details of the plan for the first time white house press secretary sean spicer said the deal covered many of the refugees held in the two offshore processing centers although they must satisfy recently tightened immigration policies “the deal specifically deals with  people that are mostly in papua new guinea being held” spicer told reporters in washington “part of the deal is that they have to be vetted in the same manner that we’re doing now there will be extreme vetting applied to all of them” he said trump’s executive order last week suspended the us refugee program and restricted entry to the united states from majoritymuslim countries iran iraq libya somalia sudan syria and yemen casting doubt over the deal with australia despite the restrictions trump assured australia on sunday the united states would honor its agreement to resettle the asylum seekers australian prime minister malcolm turnbull dismissed speculation in domestic media that trump had not yet committed fully to the deal “the trump administration has committed to progress with the arrangements to honor the deal” turnbull told reporters in canberra on wednesday “that was the assurance the president gave me when we spoke on the weekend” he said australia’s hardline immigration policy is a contentious issue that has drawn international condemnation from the united nations and other rights groups but which remains popular at home and has bipartisan political support some  men women and children remain in indefinite detention in manus island and nauru as of nov  the most recent data from australia’s department of immigration shows another  or so people are in detention in australia some of them asylum seekers transported from manus island and nauru for medical treatment it was not clear how many of these would be eligible under the deal with the united states us department of homeland security officials have begun assessing the asylum seekers although there is no timeline for resettlement ",
         "1"
        ],
        [
         "12991",
         "hillary clinton ally david brock is offering to pay for new information on donald trump hoping that damaging audio or video on the republican presidential candidate will be submitted to his super pacbrock founder of the leftwing media matters and operator of correct the record super pac recently posted the plea on correct the record s website and is referring to the project as trumpleaks nbc news reportedbrock asked for video or audio of trump that has yet to be released one of the most important things for voters to evaluate in any election is the full measure of a candidate s views ideas and temperament over time the website states in making a choice for president voters must also consider how various candidates present themselves to the public and to the world there are few things more important in that regard than access to video or audio in the form of prior television or radio interviews or more candid video from events a candidate may have attended brock s super pac goes on to say they can offer compensation to anyone who has new video or audio that has been obtained legallyread more wfb",
         "0"
        ],
        [
         "42429",
         "wellington reuters  new zealand s major party leaders met with their caucuses on tuesday preparing to kick off talks on forming the next government with a nationalist party that holds the balance of power after an inconclusive weekend election the ruling national party won the most seats in saturday s general election but failed to secure enough to form a government leaving the new zealand first party in the position of kingmaker deputy leaders of both the ruling national and opposition labour parties said they would be willing to give up the role of deputy prime minister to win the backing of winston peters who leads new zealand first but the labour party whose support spiked after jacinda ardern became leader last month also has a chance to govern in new zealand s proportional representation system if it can woo peters into a coalition along with the green party ardern said she had every chance to become the country s youngest prime minister in modern history adding that her team had contacted that of peters a veteran politician who has served in national and labour governments we are willing and available when he is ready ardern  told reporters in wellington i respect the time that mr peters will need to talk with his party asked about possible sticking points in talks she said budget responsibility rules would apply in any government labour led both national and labour are expected to stick to fiscal prudence but to differ on monetary policy trade and immigration labour wants to cut immigration and renegotiate some trade deals that could hurt two key sources of growth it wants to add employment to the central bank s inflationtargeting mandate which could make monetary policy more stimulatory and there is some concern about new zealand first s preference for more central bank intervention in the currency market the political uncertainty weighed on the new zealand dollar  which was down  percent at  after posting its biggest daily drop in more than four months on monday forming a coalition government could take weeks prime minister bill english has said though he hoped talks would be constructive even if expected to be tense english has courted peters since election night when he acknowledged his strong performance  saying voters had given him a role in the new government s formation he understands his role and the role here is now that we ve had an election where the people have spoken then it s up to the political party leaders to form the kind of government indicated by the election english told media the national party secured  seats ahead of the  won by the green party and labour in saturday s election leaving both still in need of nz first s nine seats to reach the tally of  required to form a government a final tally of election results is due on oct  when special votes  which constitute  percent of the total and include overseas votes are released english remains prime minister in the interim ",
         "1"
        ],
        [
         "14749",
         "the dhs has announced that they ll be raiding places that house illegals and deporting them this could get ugly and it will only garner sympathy for the illegal aliens who ve broken federal law by crossing our border over  illegal minors came across our border in septoct which is a record for this time of year the big question in all of this would have to be why jeh johnson s rules for deportation have been so lenient because of his leniency word has gotten back to central america that you can just surrender to border patrol and you re in now we have millions and millions of illegals who re roaming around america and we have no clue who they are the sanctuary movement is taking it upon themselves to bring in and protect illegals while putting americans in danger thousands of criminal illegal aliens were simply released last year yes obama let them go all americans are in danger from this open border policy and those in the church community should go to jail for aiding this invasion of our southern border leaders of the churchbased sanctuary movement vowed on friday to offer their places of worship as refuge for immigrants facing deportation under an obama administration crackdown on central american families who entered the united states illegallythe statement came two days after the washington post first reported the us government was planning a series of raids to remove hundreds of undocumented families as early as january in the first such largescale effort targeting the recent flood of border crossersthe department of homeland security preparations to intensify deportations of central american migrants confirmed by us government sources drew immediate fire from democratic presidential candidates and human rights groupsleaders of the multidenominational sanctuary movement which has sheltered at least  immigrants from deportation over the past  months joined in the criticism on friday alluding to the biblical nativity story of mary and joseph seeking refuge before the birth of jesus as pastors we know that each and every family is a holy family said the rev alison harrington pastor of southside presbyterian church in tucson arizona we open our doors to today s josephs and marys the gift we have to offer on christmas day is the gift of sanctuary the sanctuary movement which harrington said encompasses about  congregations in a dozen us cities made headlines in january by providing refuge in philadelphia to a honduran woman whose two children were born in the united states she ultimately won a twoyear reprieve from deportationthe rev noel anderson a coordinator for the affiliated church world service put the overall number of congregations supporting the sanctuary network at about  in more than  states nationwideimmigrants from el salvador guatemala and nicaragua have been streaming into the united states from mexico by the thousands since early  many of them unaccompanied minors and families fleeing extreme poverty gangs and drug violence in their home countriesmost were detained after turning themselves in at the border seeking asylum but were released to surrounding communities after initial screening to await further proceedingsa  us antihuman tracking law bars undocumented central american children from being summarily sent back as they could be if they were from mexico or canadagovernment sources speaking on condition of anonymity have said the new campaign by the us immigration and customs enforcement ice agency marks an expansion from mostly targeting individuals to pursuing families with undocumented members who have already been ordered to leaveasked why the agency was singling out families a spokesperson said the crackdown focused on individuals who pose a threat to national security public safety and border security whether alone or with family members support for the move came from us senate homeland security committee chairman ron johnson a wisconsin republican who said it would help eliminate the incentive that results from allowing  percent of these illegal immigrants to stay harrington said she feared the crackdown will ensnare many who lacked sufficient time or legal representation to prepare asylum claims and were too quickly put through the system ",
         "0"
        ],
        [
         "35683",
         "baghdad reuters  iraqi shi ite paramilitary groups who took part in the war against islamic state militants should be incorporated into state security bodies the nation s top shi ite cleric said in a message delivered at the friday sermon in the holy city of kerbala through one of his representatives grand ayatollah ali alsistani said all weapons used in fighting the insurgents should be brought under the control of the iraqi government sistani s position is in line with that of prime minister haider alabadi who wants to prevent commanders of the militias known as popular mobilisation forces pmf from using power and clout they acquired during the war in elections due on may  sistani was the author of a landmark fatwa or religious decree which urged iraqis to volunteer for the war on islamic state after the government s armed forces collapsed in  and the militants swept towards the gates of baghdad the victory over daesh doesn t mean the end of the battle with terrorism sistani s representative sheikh abdulmehdi alkarbalai said mentioning the existence of sleeper cells  the security apparatus should be supported by the fighters who took part in the war on daesh he added in the sermon broadcast on state tv using an arab acronym for islamic state it is necessary to absorb the fighters in the official and constitutional structures sistani said in the sermon adding that the fatwa should not be used to achieve political aims  abadi quickly reacted to sistani s sermon in a statement from his office welcoming his call against using volunteers and fighters in political campaigning  iraq s sunni and kurdish politicians have called on abadi who declared victory over islamic state last week to disarm the pmf they say the militias are responsible for widespread abuses including extrajudicial killings kidnappings and displacing nonshi ite populations and in effect report to tehran not the government in baghdad the pmf says any abuses were isolated incidents and not systematic and that those who committed them have been punished two of the most important iranianbacked paramilitary leaders hadi alamiri and qais alkhazali announced this week they were putting their militias under abadi s orders their decision to formally separate their armed and political wings could pave the way for them to contest the elections possibly as part of a broader alliance close to iran iran provided training and supplied weapons to the most powerful pmf groups including amiri s badr organisation and khazali s asaib ahl alhaq the iraqi parliament last year voted to establish the pmf as a separate military corps that reports to abadi in his capacity as commanderinchief of the armed forces ",
         "1"
        ],
        [
         "21748",
         "it was all an accident it s good to king the obama administration continues to ignore the law and do pretty much whatever the hell it wantsfrom the hillthe government erroneously doled out about  expanded immigrant work permit authorizations under president obama s controversial executive actions even after a federal judge blocked the move the justice department says the government sincerely regrets these circumstances and is taking immediate steps to remedy these erroneous threeyear terms the department of justice wrote in a court advisory filed late thursday in the southern district of texasthe advisory comes after district court judge andrew hanen halted the implementation of the executive actions which defer deportations for immigrants living in the us illegally and provide them with expanded access to work permits until the courts could decide whether the policies are constitutionalwhile the old policies authorize a twoyear renewal of work permits under the deferred action for childhood arrivals program the new program would allow for a threeyear renewalthe doj added in the advisory that the department of homeland security is converting the threeyear renewals into twoyear terms and that dhs secretary jeh johnson has asked the agency s inspector general to investigateoh good they re investigating i m sure they ll be fair and honest right if we can t trust them to follow a judge s ruling then why should we trust them about any immigration policy they might seek in the future this is just pathetic and of course it s released on friday afternoon knowing that the complicit moron media will barely report itvia the right scoop ",
         "0"
        ],
        [
         "43130",
         "united nations reuters  the iran nuclear deal should be changed to eliminate provisions removing restrictions on tehran s atomic program over time or it should be canceled israeli prime minister benjamin netanyahu said on tuesday change it or cancel it fix it or nix it netanyahu said in a speech at the un general assembly annual gathering of world leaders he also said israel will act to prevent iran from establishing permanent military bases in syria for its air sea and ground forces ",
         "1"
        ],
        [
         "264",
         "has anyone else noticed that the government sometimes seems to like awarding contracts to companies that have proven they re incapable of doing what they re supposed to be doing equifax s massive data breach affected most americans with any kind of credit at all and here comes the irs to give equifax a contract in the name of fraud prevention because equifax has proven that they re awesome at protecting our data oh and then they proved that they were totally and completely transparent and on their consumers sides when they tried to yank away our right to sue by encouraging all of us to enroll in their own fraud protection program with very fine print binding us to arbitrationthe contract which is a  million contract to verify our identities and prevent fraud is a sole source order which means the irs decided equifax was the only company capable of doing this for them supposedly this is to help prevent an interruption in id verification while officials try and resolve something elseequifax s security breach involved sensitive information for over  million americans including our social security numbers congressman greg walden of oregon likened the breach to the guards at fort knox forgetting to lock the doors that s how bad this hack wasthe irs itself isn t exactly free of security issues either they ve had severe problems with taxid fraud and other data hacks senator orrin hatch of the senate finance committee has said he s worried the irs doesn t have the technology necessary to safeguard the integrity of our tax administration system well it seems equifax doesn t either and yet the irs is giving up our information to them for fraud prevention the house digital commerce and consumer protection subcommittee called equifax stupid and said they deserve to be shamed and called the breach shocking and unprecedented walden also said how does this happen when so much is at stake i don t think we can pass a law that can fix stupid apparently they can t regulate the stupid of the irs either we should all cross our fingers and pray nothing else happens to our data now that s literally about all we can dofeatured image via scott olsongetty images",
         "0"
        ],
        [
         "32407",
         "cleveland reuters  a federal judge on wednesday authorized a new plan allowing protesters at next month’s republican national convention in cleveland to demonstrate in an area that will be readily visible to convention goers the new plan approved by us district judge dan aaron polster also cuts in half the size of an “event zone” where demonstrations and mobility will be limited and gives protesters more time to demonstrate the agreement between the city of cleveland and the american civil liberties union resolves weeks of wrangling over the rules for what are expected to be lively protests when donald trump is due to become the republican party’s official nominee for president at the july  convention trump campaign events have drawn raucous demonstrations with some resulting in clashes between his supporters and opponents “this settlement is a significant improvement from what the city had previously offered” christine link executive director for the aclu of ohio said in a statement the aclu sued on behalf of three groups planning to organize thousands of demonstrators calling the rules too restrictive dan williams spokesman for cleveland mayor frank jackson described the changes as “minor” and said he did not believe there would be an increased security risk as a result cleveland originally planned to cordon off  square miles  square km around the convention site as an event zone where free speech mobility would be limited after another federal judge struck down the city’s original plan the two sides settled the lawsuit on friday and took several days to work out details before revealing the new plan the event zone is now  square miles  square km the new zone frees up parkland where demonstrators will be able to organize before their protests it also removes the port of cleveland and a small public airport for corporate jets and air taxi services from the restricted area the main parade route for demonstrators now extends deeper into central cleveland and will be more visible from the sports arena where the main event will take place and more within the view of delegates and the media the previous route took demonstrators further away from the center of town and over a bridge where they would be seen primarily by themselves in addition groups were granted extra staging time between protests the aclu filed the lawsuit on behalf of citizens for trump a texasbased group that supports the businessman’s campaign organize ohio a liberal activist group and northeast ohio coalition for the homeless a charitable organization ",
         "1"
        ],
        [
         "13280",
         "in nbc s attempt to discredit trump they ve shined a bright light on their own journalistic malpractice when it comes to the clintonsbut wait does nbc really want us to believe that florida congressman mark foley who allegedly sent suggestive emails and messages to congressional pages was somehow the equivalent of having the muslim father of a radical muslim son who only months ago committed a horrific act of mass murder in orlando in the name of allah in vip seats behind hillary at a recent rallyfrom the nbc storysunrise florida donald trump on wednesday night admonished hillary clinton for having the father of the orlando shooter seated behind her at a recent campaign rally wasn t it terrible trump asked that seddique mateen was sitting with a big smile on his face right behind hillary clinton when you get those seats you sort of know the campaign but as he said those words disgraced former congressman mark foley smiled up at him from behind the stagefoley a republican who represented southern florida was forced to resign his seat in september  in the wake of allegations that he sent sent suggestive emails and instant messages to congressional pages the former congressman shared trump s camera shot with a smile for the entirety of the hourlong rally nbc newsdo you really expect any reasonable voter to believe that former congressman mark foley s presence behind trump at his sunrise fl rally was the equivalent of a taliban supporting father of a radical muslim mass murderermore importantly in their rush to make trump look bad nbc apparently forgot about former president bill clinton s oral sex act with a young intern in the oval office while he was married to hillary maybe nbc missed the stories about bill s numerous trips to pedophile island with fellow pervert and billionaire donor jeffrey epsteinhey nbc bill was on the stage several times during the dnc coronation of crooked hillary why didn t you call him out how about the multiple allegations of rape and sexual assault by woman after woman at the hands of bill clinton you know the disgraced president bill clinton the guy who was impeached for lying to a grand jury about monica lewinsky he s the same guy who stood behind hillary on the stage at the dnc yet you never mentioned a word about him and his sordid history of alleged and proven sexual assault he s the same guy who you re rooting for to move back into our white house and you re worried about a fl congressman who allegedly sent suggestive messages to congressional pages sitting behind trump at a rally reallyahhh but it s teflon bill and hillary clinton so what difference does it make right ",
         "0"
        ],
        [
         "34822",
         "buenos aires reuters  alberto nisman the argentine prosecutor who was found dead days after accusing former president cristina fernandez of covering up iran s role in the  bombing of a jewish community center was murdered a federal judge said on tuesday in a  ruling judge julian ercolini said there was sufficient proof to conclude that the shot to the head that killed nisman in january  was not selfinflicted that marked the first time any judge has said the case was a murder fernandez and others had suggested the death was a suicide but a prosecutor investigating the case last year recommended it be pursued as a murder probe nisman s death could not have been a suicide ercolini wrote in tuesday s ruling which also charged diego lagomarsino a former employee of nisman s with accessory to murder lagomarsino has acknowledged lending nisman the gun that killed him the day before he was to appear before congress to detail his allegation against fernandez but he has said nisman asked him for the gun to protect himself and his family fernandez now a senator was indicted for treason earlier this month over nisman s allegations that she worked behind the scenes to clear iran of blame for the attack on the amia jewish center which killed  people in an effort to normalize relations and clinch a  grainsforoil deal with tehran human rights groups and the former head of interpol have criticized that indictment tehran has denied links to the attack ",
         "1"
        ],
        [
         "33476",
         "washington reuters  us president barack obama said democratic presidential frontrunner hillary clinton never jeopardized national security in the handling of her emails as his secretary of state obama in an interview broadcast on fox news sunday said clinton has recognized a carelessness on the email issue in which she used a private server for government business “but i also think it is important to keep this in perspective” obama said “this is somebody who has served her country for four years as secretary of state and did an outstanding job” clinton secretary of state from  to  has said her email arrangement broke no rules and that she will be vindicated in investigations of whether any laws were broken the government forbids sending or storing classified information outside secure governmentcontrolled channels the fbi has taken the server and is investigating the case with us justice department attorneys at least two republicanled congressional committees are also investigating the democratic president was asked if the justice department investigation would treat the clinton case impartially “i guarantee that there is no political influence in any investigation conducted by the justice department or the fbi not just in this case but in any case” said obama who leaves office next year “guaranteed full stop nobody gets treated differently when it comes to the justice department because nobody is above the law” he said the state department said this month it has suspended plans for an internal review of whether classified information was properly handled in clinton’s emails at the request of the fbi the department complying with a judge’s order has released more than  emails from clinton’s private server republican rivals in the battle for the nov  presidential election have cited the email controversy in saying clinton is unfit for the presidency ",
         "1"
        ]
       ],
       "shape": {
        "columns": 2,
        "rows": 15
       }
      },
      "text/html": [
       "<div>\n",
       "<style scoped>\n",
       "    .dataframe tbody tr th:only-of-type {\n",
       "        vertical-align: middle;\n",
       "    }\n",
       "\n",
       "    .dataframe tbody tr th {\n",
       "        vertical-align: top;\n",
       "    }\n",
       "\n",
       "    .dataframe thead th {\n",
       "        text-align: right;\n",
       "    }\n",
       "</style>\n",
       "<table border=\"1\" class=\"dataframe\">\n",
       "  <thead>\n",
       "    <tr style=\"text-align: right;\">\n",
       "      <th></th>\n",
       "      <th>text</th>\n",
       "      <th>class</th>\n",
       "    </tr>\n",
       "  </thead>\n",
       "  <tbody>\n",
       "    <tr>\n",
       "      <th>24024</th>\n",
       "      <td>washington reuters  us president donald trump ...</td>\n",
       "      <td>1</td>\n",
       "    </tr>\n",
       "    <tr>\n",
       "      <th>5409</th>\n",
       "      <td>rightwing super troll and breitbartcom contrib...</td>\n",
       "      <td>0</td>\n",
       "    </tr>\n",
       "    <tr>\n",
       "      <th>9240</th>\n",
       "      <td>when four chicago thugs videotaped the brutal ...</td>\n",
       "      <td>0</td>\n",
       "    </tr>\n",
       "    <tr>\n",
       "      <th>29285</th>\n",
       "      <td>sydney reuters  the united states will apply ‘...</td>\n",
       "      <td>1</td>\n",
       "    </tr>\n",
       "    <tr>\n",
       "      <th>12991</th>\n",
       "      <td>hillary clinton ally david brock is offering t...</td>\n",
       "      <td>0</td>\n",
       "    </tr>\n",
       "    <tr>\n",
       "      <th>42429</th>\n",
       "      <td>wellington reuters  new zealand s major party ...</td>\n",
       "      <td>1</td>\n",
       "    </tr>\n",
       "    <tr>\n",
       "      <th>14749</th>\n",
       "      <td>the dhs has announced that they ll be raiding ...</td>\n",
       "      <td>0</td>\n",
       "    </tr>\n",
       "    <tr>\n",
       "      <th>35683</th>\n",
       "      <td>baghdad reuters  iraqi shi ite paramilitary gr...</td>\n",
       "      <td>1</td>\n",
       "    </tr>\n",
       "    <tr>\n",
       "      <th>21748</th>\n",
       "      <td>it was all an accident it s good to king the o...</td>\n",
       "      <td>0</td>\n",
       "    </tr>\n",
       "    <tr>\n",
       "      <th>43130</th>\n",
       "      <td>united nations reuters  the iran nuclear deal ...</td>\n",
       "      <td>1</td>\n",
       "    </tr>\n",
       "    <tr>\n",
       "      <th>264</th>\n",
       "      <td>has anyone else noticed that the government so...</td>\n",
       "      <td>0</td>\n",
       "    </tr>\n",
       "    <tr>\n",
       "      <th>32407</th>\n",
       "      <td>cleveland reuters  a federal judge on wednesda...</td>\n",
       "      <td>1</td>\n",
       "    </tr>\n",
       "    <tr>\n",
       "      <th>13280</th>\n",
       "      <td>in nbc s attempt to discredit trump they ve sh...</td>\n",
       "      <td>0</td>\n",
       "    </tr>\n",
       "    <tr>\n",
       "      <th>34822</th>\n",
       "      <td>buenos aires reuters  alberto nisman the argen...</td>\n",
       "      <td>1</td>\n",
       "    </tr>\n",
       "    <tr>\n",
       "      <th>33476</th>\n",
       "      <td>washington reuters  us president barack obama ...</td>\n",
       "      <td>1</td>\n",
       "    </tr>\n",
       "  </tbody>\n",
       "</table>\n",
       "</div>"
      ],
      "text/plain": [
       "                                                    text  class\n",
       "24024  washington reuters  us president donald trump ...      1\n",
       "5409   rightwing super troll and breitbartcom contrib...      0\n",
       "9240   when four chicago thugs videotaped the brutal ...      0\n",
       "29285  sydney reuters  the united states will apply ‘...      1\n",
       "12991  hillary clinton ally david brock is offering t...      0\n",
       "42429  wellington reuters  new zealand s major party ...      1\n",
       "14749  the dhs has announced that they ll be raiding ...      0\n",
       "35683  baghdad reuters  iraqi shi ite paramilitary gr...      1\n",
       "21748  it was all an accident it s good to king the o...      0\n",
       "43130  united nations reuters  the iran nuclear deal ...      1\n",
       "264    has anyone else noticed that the government so...      0\n",
       "32407  cleveland reuters  a federal judge on wednesda...      1\n",
       "13280  in nbc s attempt to discredit trump they ve sh...      0\n",
       "34822  buenos aires reuters  alberto nisman the argen...      1\n",
       "33476  washington reuters  us president barack obama ...      1"
      ]
     },
     "execution_count": 84,
     "metadata": {},
     "output_type": "execute_result"
    }
   ],
   "source": [
    "data.sample(15)\n"
   ]
  },
  {
   "cell_type": "code",
   "execution_count": 85,
   "id": "2c2301f0",
   "metadata": {},
   "outputs": [],
   "source": [
    "true = resample(true,\n",
    "                replace=True,  # allow duplicates\n",
    "                 n_samples=len(fake),  # match fake_df size\n",
    "                random_state=42)\n",
    "\n",
    "# Step 3: Combine the balanced datasets\n",
    "balance = pd.concat([fake, true], ignore_index=True)\n",
    "\n",
    "# Optional: Shuffle the combined dataset\n",
    "balance = balance.sample(frac=1, random_state=42).reset_index(drop=True)\n",
    "\n",
    "# Step 4: Save or use the balanced dataset\n",
    "balance.to_csv('balanced_dataset.csv', index=False)\n"
   ]
  },
  {
   "cell_type": "code",
   "execution_count": 86,
   "id": "98665adc",
   "metadata": {},
   "outputs": [],
   "source": [
    "df = pd.read_csv('balanced_dataset.csv')"
   ]
  },
  {
   "cell_type": "code",
   "execution_count": 92,
   "id": "95f5b57b",
   "metadata": {},
   "outputs": [
    {
     "name": "stdout",
     "output_type": "stream",
     "text": [
      "Index(['title', 'text', 'subject', 'date', 'class'], dtype='object')\n"
     ]
    }
   ],
   "source": [
    "print(balance.columns)"
   ]
  },
  {
   "cell_type": "code",
   "execution_count": 93,
   "id": "eeb73aca",
   "metadata": {},
   "outputs": [
    {
     "data": {
      "application/vnd.microsoft.datawrangler.viewer.v0+json": {
       "columns": [
        {
         "name": "index",
         "rawType": "int64",
         "type": "integer"
        },
        {
         "name": "text",
         "rawType": "object",
         "type": "string"
        },
        {
         "name": "class",
         "rawType": "int64",
         "type": "integer"
        }
       ],
       "ref": "f2c08041-14a9-4abb-aaa9-77dbc419c9e1",
       "rows": [
        [
         "326",
         "james clapper the director of national intelligence under president barack obama appeared on cnn s erin burnett out front on friday night and he told burnett just what many americans have suspected since january speaking about russian interference in the  presidential campaign clapper told her that the intelligence community had met with donald trump prior to his inauguration in that briefing he and other intel chiefs discussed with trump a joint assessment by the cia fbi and nsa that concluded that the interference was significant enough to warrant concerns over the outcome of the election our intelligence community assessment did i think serve to cast doubt on the legitimacy of his victory in the election although clapper didn t say it in the interview the unspoken implication is that this message may have prompted trump s ridiculous overreactions to his inaugural crowd size the myth that millions of illegals voted in the election and any number of other actions and statements that led to the creation of trump s laughable commission on election integrity which has thus far served only as a vehicle for promoting voter suppressionclapper s cnn appearance was timely it came just a short while after trump went back to his favorite outlet twitter to vent his frustrations for the millionth timethe russia hoax continues now its ads on facebook what about the totally biased and dishonest media coverage in favor of crooked hillary donald j trump realdonaldtrump september   for trump the fact is that the facebook ads purchased by russia weren t even part of that discussion with clapper those weren t discovered until recently after facebook combed through their ad sales records and discovered hundreds of fake russian profiles buying protrump and proconservative ads on the social media platform during the campaign that means that completely independent of any allegations about ad buying the intelligence community had already concretely agreed that russia helped trump win the electioneven after the transition to trump s administration and cabinet the investigation into russian interference produced the same responses from different intel chiefs when senator mark warner the ranking democrat on the senate intelligence committee asked trump s own cia head and his new director of national intelligence whether they believed that russian intelligence agencies were responsible for the hacks and leaks that led to the investigation both mike pompeo and dan coats agreedclapper told burnett that trump s demeanor during the january briefing has been completely different than his behavior since he was inaugurated calling the earlier trump solicitous courteous an even complimentary when he sat down with the agenciestrump is getting more than a little nervous now and this interview with james clapper sheds light on his renewed efforts to brush aside the russia investigationwatchfeatured image via chip somodevillagetty images",
         "0"
        ],
        [
         "42709",
         "new york reuters  france said on saturday it was extremely concerned by iran s ballistic missile test and called on un secretarygeneral antonio guterres to carry out a full report on the launch france asks that iran cease all destabilizing activity in the region foreign ministry spokeswoman agnes romatetespagne said in a statement france will consider with its partners notably european the means to obtain from iran the cessation of its destabilizing ballistic activities most un sanctions were lifted  months ago under a deal iran made with key world powers to curb its nuclear program but iran is still subject to an arms embargo and other restrictions which are not technically part of the nuclear agreement guterres reports every six months to the un security council on the implementation of the remaining sanctions and restrictions iran said on saturday it had successfully tested a new ballistic missile with a range of  km  miles and would keep developing its arsenal despite us pressure to stop ",
         "1"
        ],
        [
         "37931",
         "dublin reuters  as the public face of the irish republican army during its bombing campaigns then peacemaker and mainstream politician gerry adams has been a defining figure of northern ireland s  journey from sectarian torment to relative stability adams announced his intention to step down as leader of the irish nationalist sinn fein party on saturday with his ultimate goal of a united ireland still elusive but the party he leaves is not only the dominant irish nationalist force in the britishruled province but also strong enough across the border in the irish republic to have a chance of entering government there too during the  and  at the height of an ira bombing campaign to end british rule over northern ireland sinn fein operated as the ira s political wing as its leader from  onwards adams thus became for many in britain and northern ireland the face of the ira as a result he was loathed by probritish unionists and the british government but lionized in equal measure by irish nationalists yet when the prospect of political progress arose he showed himself ready to compromise working with late former ira commander martin mcguinness to swing the ira and the province s roman catholic minority behind a  deal with the probritish protestant majority the good friday agreement gave the province s catholics a share of power and largely ended a conflict in which some  people had been killed many at the hands of irish republican groups such as the ira and others by probritish unionist paramilitaries and british security forces since then adams has helped to build sinn fein into the dominant irish nationalist party in northern ireland overseeing its agreement in  to share power with its bitter rival the democratic unionist party and in recent months its efforts to restore powersharing after it collapsed in january adams also announced on saturday that he would not stand for reelection to the dublin parliament where he has sat since  moving sinn fein from the fringes to become the irish republic s third party and its main leftwing force adams was born into a belfast family steeped in revolutionary politics several of his relatives having been involved in armed republicanism at  he left his job as a barman to help defend fellow catholics from what they saw as a hostile british state and to fight for northern ireland to split from the united kingdom and unite with the irish republic like his father adams was interned  held without trial  on suspicion of being a senior ira commander he has always denied membership of the ira although accusations from former ira fighters that he was involved in its campaign of killings have dogged him throughout his career between  and  adams was banned from speaking on british airwaves while his oversized glasses and redtinged beard were instantly recognizable his voice was unknown as broadcasters had actors dub his words former british conservative prime minister john major one of the architects of peace in northern ireland once said the thought of sitting down to talk with adams had turned my stomach  but adams was at the time walking a political tightrope  between ira hawks who argued that only a continuation of violence would chase britain from the island and doves who said that negotiations were the route to a united ireland he emerged from the political cold in october  when he shook hands with the new labour prime minister tony blair at their first meeting sinn fein had polled  percent in northern ireland s elections and returned adams to the british parliament although he refused to take his seat within a year adams and mcguinness had helped to broker a peace deal that largely ended the violence in the province since that deal his role as statesman has grown and he has made several visits to the white house he was arrested in  as part of an investigation into one of the province s most controversial murders but no charges were brought latterly he has used social media to create a grandfatherly image in the irish republic with posts about his dog and his taste in cartoons ",
         "1"
        ],
        [
         "25274",
         "washington reuters  a  percent corporate tax rate backed by president donald trump may not be possible but businesses will see a “competitive” rate as republicans push their tax reform plan through congress the us treasury secretary said on tuesday “ideally he’d like to get it down to  percent i don’t know if we’ll be able to achieve that given the budget issues but we’re going to get this down to a very competitive level” steven mnuchin said speaking at an conference hosted by cnbc ",
         "1"
        ],
        [
         "41705",
         "madrid reuters  spain s government will issue a decree on friday making it easier for firms to transfer their legal base out of catalonia two sources said in a move that could deal a serious blow to the region s finances as it considers declaring independence the decree is tailormade for spanish lender caixabank sources familiar with the matter said as it would make it possible for the bank to transfer its legal and tax base to another location without having to hold a shareholders meeting as stated in its statutes the government is working on changing the law so that it s no longer need to have a shareholders meeting which would delay a change of the legal base in a case of emergency one of the sources said the government and caixabank declined to comment the board of caixabank will meet on friday to study a possible transfer of its legal base away from catalonia due to the political uncertainty in the region a source familiar with the situation said caixabank is catalonia s biggest company by market value and accounts for around  percent of the region s banking sector another cataloniabased bank sabadell spain s fifthbiggest lender decided on thursday to move its base from catalonia to alicante on spain s eastern coast catalonia s parliament was planning to declare independence on monday after a banned referendum marred by violence last weekend that plan was cast into doubt on thursday when spain s constitutional court ordered that monday s session of the catalan parliament be suspended the political crisis was generating uncertainty that is paralyzing all investment projects in catalonia spanish economy minister luis de guindos told reuters on thursday i m convinced that right now not one international or national investor will take part in a new investment project until this is cleared up he said shares in sabadell and caixabank have been pummeled this week reports they might move caused the stocks to surge on thursday  sabadell rose  percent and caixabank  percent government plans to sell a stake in staterun lender bankia have also been put off because of the uncertainty de guindos said madrid will look at the placement again once the catalan situation had been resolved he said however catalonia s planned unilateral declaration of independence has not had any impact on spain s overall economic output de guindos said reiterating that he expected growth of more than  percent this year financial markets have been shaken this week by fears that secession would undermine the euro zone s fourthbiggest economy dealing a heavy blow to spain s finances and sending the catalan economy into a tailspin catalonia is a center of industry and tourism that accounts for a fifth of spain s economy a production base for major multinationals from volkswagen to nestle and home to europe s fastestgrowing sea port news earlier this week that two small listed catalan companies eurona wireless telecom and oryzon genomics had decided to shift their head offices improved their share price both declined to say whether they were responding to sunday s vote spain s bond and stock markets both staged a recovery on thursday after the constitutional court s decision and a bloomberg report that catalan separatists were looking at putting off a declaration of independence to create room for a negotiated settlement with spain the nation s borrowing costs hit a sevenmonth high on thursday though investors showed solid interest in a government bond auction many spanish business leaders and foreign companies with operations in catalonia have expressed concern this week as a businessman as a spaniard and as a person i am very worried and i am scared by what s going on in catalonia said juan roig chairman of spain s biggest food retailer mercadona the influential catalan business lobby cercle d economia said on wednesday it was extremely worried by the prospect of catalonia declaring independence from spain and called for leaders from both sides to start talks dutch paint maker akzo nobel which has several plants in catalonia said it was monitoring developments from a business perspective we are best served by a stable environment and will adapt when necessary said akzo nobel spokeswoman diana abrahams german carmaker volkswagen vowgpde was earlier this week forced to halt production briefly on one of three production lines at the catalonia plant of its spanish unit seat when protests disrupted parts supply stoppages also affected production at nestle s instant coffee plant in girona seat said on thursday it was operating its business as usual it is too early to make an assessment on what could happen a spokesman said the company is closely monitoring how the current situation is evolving ",
         "1"
        ],
        [
         "44316",
         "washington reuters  the united states will send about  additional us troops to afghanistan us officials said on wednesday a figure broadly in line with expectations as the united states boosts support for the afghan military the disclosure by the officials who spoke on the condition of anonymity comes as defense secretary jim mattis and chairman of the joint chiefs of staff marine general joseph dunford hold closed door briefings with members of congress about president donald trump s regional strategy the pentagon said it would not comment on additional troop numbers until mattis makes an announcement if confirmed it would bring the total number of us troops in afghanistan to about  after a monthslong review of his afghanistan policy trump committed the united states last week to an openended conflict in the country and promised a steppedup campaign against taliban insurgents last week mattis said he had signed orders to send additional troops to afghanistan but did not specify the size of the force saying he first needed to brief congress us officials have for months told reuters that trump had given mattis the authority to send about  additional troops to afghanistan the us presence in afghanistan peaked at more than  troops in  when washington was under domestic political pressure to draw down the costly operation some us officials have told reuters they questioned the benefit of sending more troops to afghanistan because any politically palatable number would not be enough to turn the tide much less create stability and security to date more than  americans have been killed and over  wounded in afghanistan ",
         "1"
        ],
        [
         "8939",
         "some political pundits have been unable to describe how donald trump manages to maintain his popularity with his escalating hateful rhetoric personal insults and generally obnoxious behavior many have settled their confusion by pretending there is no way he can win the republican primary the problem with that is all polls show he canrachel maddow uncovered what seems to be the secret to trump s success it appears that he took his complete strategy for how to run a presidential campaign from  s racist alabama governor george wallace this explains a lot about how trump s campaign of disgusting hate has been able to flourish so easily among regressive conservatives in americaif you use a little imagination and think trump and muslims instead of wallace and africanamericans the parallels will suddenly become clear like rachel said close your eyes and just listen to the news reports from that election it s almost like they re talking about donald trump watch rachel s presentation comparing trump and george wallace belowwhat rachel pointed out was incredibly significant the comparisons are eerie and even if you were to take the direct comparisons of trump and wallace out of the picture the supporters who you couldn t possibly say were imitating each other intentionally are virtually identical in the thoughts they convey about why they support their candidaterachel finished the segment by making a great point donald trump has something that republican voters like they liked it the last time that he offered it to them for a short period of time she said and now they like it this time as well it s the same type of significant popularity it just hasn t gone away this time around because he hasn t stopped running this time around like he did in  she s right trump offered up the same fare in the  presidential campaign and got a huge amount of support from it if he had chosen to invest himself fully the last time around he could have taken the nomination from romney who was universally panned by the republican establishment right up until he was their only choicethe question now is what will happen when trump ends up on the ballot a couple years after wallace was officially in an election he was shot could trump s hate speech eventually become that kind of liabilityfeatured image via youtube",
         "0"
        ],
        [
         "43985",
         "london reuters  north korea s reckless behavior is a global threat and requires a global response the head of the nato military alliance said on sunday nato has not been directly involved in the crisis which saw pyongyang carry out its sixth and most powerful nuclear test a week ago but has repeatedly called on north korea to abandon its nuclear and ballistic missile programs the reckless behavior of north korea is a global threat and requires a global response and that of course also includes nato nato head jens stoltenberg said in an interview with bbc television asked whether an attack on the us pacific territory of guam would trigger nato s article  which requires each member of the alliance to come to the defense of any other stoltenberg said i will not speculate about whether article  will be applied in such a situation we are now totally focused on how can we contribute to a peaceful solution of the conflict he said there is no easy way out of this difficult situation but at the same time we have to  continue to work for political solution continue to press also the economic sanctions the united states and its allies had been bracing for another longrange missile launch in time for the  anniversary of north korea s founding on saturday but no fresh provocations were spotted while the north held numerous events to mark the holiday throughout last week south korean officials had warned the north could launch another intercontinental ballistic missile in defiance of un sanctions and amid escalating tensions with the united states british defense minister michael fallon also told the bbc he was very concerned about the situation we are doing now what we can to bring about a diplomatic solution what we have to avoid at all costs is this spilling over in to any kind of military conflict he said the us is fully entitled to defend its own territory to defend its bases and to look after its people but this involves us london is closer to north korea and its missiles than los angeles fallon said he did not believe north korea currently had a missile capable of hitting london but said the missile program was accelerating and their range was getting longer and longer  we have to get this program halted because the dangers now of miscalculation of some accident triggering a response are extremely great he said ",
         "1"
        ],
        [
         "5963",
         "with speaker paul ryan rwi canceling his wednesday press conference it left many wondering why he would do such a thingone reason could certainly be because he doesn t quite know how to answer questions regarding trump and his racist comments about a federal judge ryan of course also endorsed trump so there s the question of why would he back a clear racist as wellspotting this clear dodge of the press was none other that house minority leader nancy pelosi dca and she decided to have a little fun with itpelosi s deputy chief of staff drew hammill tweeted out a pretend press release clearly intended to mock ryan s endorsement of trumpit stated speaker ryan to hide from reporters todaywashington dc speaker paul ryan will not be available to answer your questions today about his surrender to donald trump speaker ryan has cancelled his regular wednesday press conference so you don t ask him about donald trump s racist commentary against a federal judge and why ahead of their national security agenda rollout tomorrow the house gop wants to hand the nuclear codes to a person who engages in textbook racism speakerryan in hiding today  drew hammill drewhammill june   hawell that certainly didn t mince words one bit and that press release certainly isn t wrong sure ryan said he canceled his press conference to host india s prime minister narendra modi who just made an address to a joint session of congress but that s surely a copout considering a press conference takes barely any time at all out of his day and you know the fact that it s part of his jobryan has gotten himself into quite the pickle with his endorsement of trump who is clearly a bigot so a press release stating speaker ryan to hide from reporters today is perfectly accurate because why on earth would he want to stand there and defend a racistwell played pelosi well played indeedfeatured photo by mark wilson chip somodevillagetty images",
         "0"
        ],
        [
         "20259",
         "the common thread in all this is hate the hate coming from black lives matter nation of islam and new black panthers they all have a common theme of hate for cops and for white people the shooter today took the life of fathers sons and husbands here s a blue life that mattered in fact he mattered a lot he mattered to his baby boy who was only months old he mattered to everyone who loved him and to the neighborhoods and communities he courageously patrolled baton rougue police spokesman l jean mckneely said in the above press conference that it was not clear how the shooting started on sunday morning the shooting took place near a bquick convenience store on airline highway near old hammond highway one of the shooters was found dead near the story reports the advocate police used a robot to find out if there was an explosive device inside the storecnn reports citing a source close to the investigation that police were called to the area when there was a report of a suspicious person walking down airline highway the shooting started when police arrived shooting was first reported around  ambaton rouge chief administrative officer william daniel told the advocate that two of the deceased officers were baton rouge police officers and the third is an east baton rouge parish sheriff s deputy heavyso who will accept responsibility for this horrific act of hate will black lives matter supporters who openly chant pigs in a blanket fry like bacon assume responsibility what about our community organizer in chief what about his lawless ag and the lawless ag before her whose job it is to ensure justice in america but instead works with obama to encourage blm protesters to carry on with their violent protests and disruptions across america and who can forget the everpopular pigs in a blanket fry em like bacon batonrouge elizabeth alexander mcsillyson july   of community agitators blacklivesmatter chants pigs cop in a blanket fry em like bacon but obama defends blm batonrouge  dutch deacon blues ddeaconblues july   s a twitter user reminding blm of their now famous chantswell blm looks like your chants pigs in a blanket fry em like bacon and what do we want dead cops  appears to be working batonrouge youarefakenews  july   s a twitter user who takes to twitter to express his overthetop hate for our law enforcement then there s this hateful little punk who tweeted this to usvia heavy",
         "0"
        ],
        [
         "39765",
         "nairobi reuters  burundi s cabinet backed a constitutional change that would allow its president to stay in office until  widening a political rift that has driven the country progressively deeper into crisis under existing laws burundian presidents are limited to two fiveyear terms unrest that has gripped burundi since april  when pierre nkurunziza announced he would stand for a third has killed hundreds left the economy moribund and forced about  people to seek safety in neighboring countries un rights investigators and independent activists have accused government forces of widespread violations including forced disappearances and of orchestrating a campaign of terror a senior government official told reuters on friday that the cabinet adopted the draft legislation seeking to amend the constitution on tuesday nkurunziza who has been in office since  won reelection in july  in a ballot that critics said violated the constitution and the terms of an agreement that ended a previous rebellion nkurunziza s backers said the country s constitutional court had cleared him to run again but some opponents took up arms against his rule and insecurity has plagued the country since other african leaders have in the recent past also tinkered with or defied their constitutions to extend their rule including uganda s president yoweri museveni rwanda s paul kagame and democratic republic of congo s joseph kabila proposed amendments under the burundian bill seek to abolish the twoterm limit and lengthen presidential terms to seven years incumbents would be able to serve two consecutive terms of seven years each and also be eligible to seek reelection after an interregnum if the amendment was passed by parliament the current head of state can rule until  the source said a second official told reuters the government would hold a referendum on the draft legislation next year but did not say which month opposition officials have criticized the legislation which they say was initiated in secrecy and designed to entrench nkurunziza in power no one knew what was being done it was done in total secrecywe will always oppose it deputy president of the opposition frodebu party leonce ngendakumana told reuters the constitution should not be revised in a tense social climate ",
         "1"
        ],
        [
         "41572",
         "riyadh reuters  the united states embassy in saudi arabia warned us citizens to exercise caution in the area around the peace palace in jeddah on saturday after reports on social media of an attack there there were several unconfirmed reports that security forces had foiled an attack near the king s palace leaving the attacker and several guards dead the saudi government has not issued an official statement confirming the incident ",
         "1"
        ],
        [
         "14779",
         "wild bill for america is a conservative youtube sensation who s been offering his hard hitting spot on commentary to viewers for years we d even go as far as to say he is a tea party icon in the world of social media he s published hundreds of insightful and though provoking videos to help americans better understand the sorry state we ve found ourselves in today outside of a few videos where he may have lost it over one of obama s many unconstitutional acts this is definitely the maddest we have ever seen wild bill you know full well the tea party isn t racist or you wouldn t have used us to promote your rallies it s the tea party that made your event successful mr beck and you pocketed a lot of money off the tea party now you ve become the bendict arnold of the tea party you lost me as a friend because of that saul alinsky idiotic crack but now you ve made an enemy with this hateful sabotaging of the good men and women of the tea party who have done so much for you i will no longer support anything by glenn beck he s proven himself to be untrustworthy twofaced and will stoop as low as msnbc in selling out his own friends glenn beck is finding himself in a lot of personal trouble by turning against the tea party he ll be losing all the people who have been supporting his lies for yearshe ll never be accepted in the liberal community because compulsive liars are unacceptable so he ll be left with nowhere to go some people will do anything to slander the tea party because they really fear going back to the traditional values and morals that the usa was built upon and to me that is what the tea party really stands for keep up the good work wild billvia wayne dupree",
         "0"
        ],
        [
         "30565",
         "reuters  south carolina governor nikki haley has accepted presidentelect donald trump’s offer to be the us ambassador to the united nations nbc news reported on wednesday citing a source familiar with the transition process haley the daughter of immigrants from india had backed marco rubio and ted cruz during the republican battle for a white house nominee ",
         "1"
        ],
        [
         "37196",
         "sydneymelbourne reuters  police have arrested a  man suspected of planning to use an automatic rifle for a mass shooting on new year s eve in downtown melbourne australia s second largest city victoria state police said on tuesday that the man was acting alone and had not been able to acquire a firearm before his arrest late on monday victoria police deputy commissioner shane patton said the man an australian citizen with somalian parents had been monitored by authorities since the beginning of the year he s accessed documents produced by alqaeda arabian peninsula which is a guide book in respect to how to commit a terrorist act and also how to use firearms guns and handguns and rifles patton said at a press conference in melbourne we are alleging that  he is a sympathiser of isis the man had planned to shoot as many people as possible at melbourne s federation square which swells with crowds on new year s eve as the focus of the city s celebrations patton said he was charged with preparing to commit a terrorist attack and gathering documents likely to facilitate a terrorist act according to the australian federal police australia a staunch us ally that sent troops to afghanistan and iraq has been on heightened alert since  for attacks by homegrown militants returning from fighting in the middle east or their supporters a gunman in a deadly  sydney cafe siege boasted about links with islamic state militants although no direct ties with the group were established the shooting murder of a police accountant by a  old boy in  was claimed by islamic state around a dozen significant plots have been foiled since the alert was issued according to officials including a plot to attack prominent sites in melbourne last christmas eve and a plan to blow up an etihad airways flight from sydney to abu dhabi using a bomb disguised as a meat mincer ",
         "1"
        ],
        [
         "15200",
         "hey barack hussein obama america is still waiting for statement about any of the recent violent murders of innocent cops but you can t be bothered right god forbid you address the war on law enforcement that you started because it s not nearly as important to you as shining a spotlight on supposed racial inequality is it president barack obama issued a personal invitation via twitter to a muslim high school student who got in trouble last week in texas for bringing a home made briefcase clock to school touching off a terrorism scarecool clock ahmed want to bring it to the white house we should inspire more kids like you to like science its what makes america great president obama  september   yearold ahmed mohamed was taken in handcuffs by police from macarthur high school in irving texas after he brought his invention to school the monday after the fourteenth anniversary of the  islamist terror attacks on the us an alarm for the briefcase clock went off in class prompting a teacher to observe the devise looked like a bomb police investigated and on wednesday announced no charges would be filed cool clock ahmed want to bring it to the white house we should inspire more kids like you to like science it s what makes america greatat wednesday s press briefing held right after obama tweeted his invitation to mohamed white house press secretary josh earnest attacked the teachers at mohamed s school for erring on the side of caution in an era of islamist terror attacks and troubled student school massacresearnest also announced obama was inviting mohamed to the white house astronomy night on october  quotes assembled from transcribing and various sources i think the president like many of us was struck by the news reports of this particular incident the fact is that america s best teachers in our schools in our best schools at least nurture the intellectual curiosity of all of our students in this instance it is clear that at least some of ahmed s teachers failed him that s too bad it s not too late for all of us to use this as a teachable moment this episode is a good illustration of how pernicious stereotypes can prevent even goodhearted people who have dedicated their lives to educating young people from doing the good work they set out to do this is an instance where you have people who have otherwise dedicated their lives to teach our children who failed in that effort potentially because of some things in their conscience and the power of stereotypes the white house was pleased to extend an invitation to ahmed to participate in astronomy night we ll bring together nasa scientists others to spend time with young people it will be an opportunity to talk about science the solar system it should be a good event we re hopeful he ll feel right at home ahmed mohamed has become an instant celebrity and sees his case as one of racial inequality rather than about his poor judgment for bringing to school a device that looked like a bombhere he is bragging about getting ready to sue the schoolgoing to meet my lawyer  ahmed mohamed istandwithahmed september   are some of the tweets that offering ahmed mohamed supportistandwithahmed ibjiyongi anildash i hope someone from mit reaches out to ahmed with a full scholarship he deserves it potus tony silva  september  ",
         "0"
        ],
        [
         "7956",
         "the people of flint michigan are suffering from a manmade disaster and someone should pay the consequences for ita special investigator is looking into tragedy that has gripped the major michigan community since  when state officials chose to switch flint s water supply from lake huron to the poisoned riverever since there have been multiple cases of lead poisoning and ten people have already died from legionnaires disease kids can now expect to deal with neurological issues as they get older because of the high levels of lead found in their bloodstreamspecial investigator todd flood has been brought in along with the former head of the detroit fbi office and other former law enforcement officials to figure out who knew what and when they knew it flood says that manslaughter charges could be on the table we re here to investigate what possible crimes there are anything fro involuntary manslaughter or death that may have happened to some young person or old person because of this poisoning to misconduct in office flood said we take this very seriously indeed he should the flint river had been abandoned as a water source for decades by the city precisely because the water was known to be toxic and unsafe for human consumption this is public knowledge and officials should have known betterbut governor snyder who has made it his personal mission to take over city after city and appoint emergency managers to do his bidding in an effort to save the state money has ignored the crisis until very recently when he called it his katrina switching to the river was a moneysaving scheme that has now backfired into a multimillion dollar catastropheand snyder s emails aren t exactly helping him avoid prisonas the washington post reports emails have been released showing that snyder s office knew of the legionnaires outbreak more than nine months before the governor announced the problem this january snyder s office was even heavily involved in the vote the flint city council made to make the switch to the riverperhaps most damning is congressional testimony by epa acting water chief joel beauvais who claimed snyder and his agencies ignored federal advice to treat flint s water for corrosive elements which are believed to have eroded old lead pipes and contaminated drinking water and that the state delayed for months in telling the public about the health risks even rachel maddow has shamed snyder and his administration for their actions and inactions that let the tragedy happenbut snyder is not the only public official who should be held responsible for poisoning the residents of flint multiple city and state officials ignored the unfolding tragedy for months and even had the nerve to tell residents that the drinking water was perfectly safe even as scientific testing revealed that wasn t the caseas todd flood and his team investigate the crisis alongside a federal team conducting a separate investigation of their own we could end up seeing a line of public officials being handcuffed and fitted for an orange jumpsuit when all is said and done and that includes rick snyder who frankly should have resigned by nowultimately the buck stops at his desk he is responsible for protecting the citizens of the state and of overseeing the state health and environmental agencies it s hard to believe that he knew nothing of this problem for two yearsthe people of flint deserve justice those who have died because of this deserve justice the kids who will likely grow up with severe neurological issues deserve justice and if justice cannot be delivered to flint nothing stops public officials from being just as irresponsible in other statesfeatured image flickr",
         "0"
        ],
        [
         "43645",
         "kabul reuters  a suicide bomber blew himself up at a checkpoint near the main cricket stadium in the afghan capital kabul on wednesday killing at least three people as a tournament was under way officials said interior ministry spokesman najib danesh said two police and one civilian were killed and five people wounded local tolo news television quoted the afghan cricket board as saying all players were safe the blast outside kabul international cricket stadium took place during a match in afghanistan s shpageeza cricket league a  franchise tournament on the lines of the indian premier league and similar  tournaments a statement in bosnian on islamic state s amaq news agency said a suicide attack had been carried out on members of the afghan security forces in kabul  although it was not immediately clear whether the statement referred to the same incident the shpageeza tournament now in its fifth season is one of a small number of westernstyle sports competitions along with afghan premier league football that have grown up since a usled campaign toppled the taliban in  a small number of foreign players are also taking part in the competition cricket which spread from refugee camps in pakistan has become one of afghanistan s most popular sports and the national team has become increasingly successful raising the profile of the game ",
         "1"
        ],
        [
         "21815",
         " ",
         "0"
        ],
        [
         "3005",
         "yesterday presidentelect donald trump embarrassed himself yet again when he hit back at civil rights icon and congressman john lewis after the democrat stated that he didn t consider trump a legitimate president a sentiment that most americans sharejust two days before martin luther king day trump slammed lewis on twitter and said lewis was all talk no action  congressman john lewis should spend more time on fixing and helping his district which is in horrible shape and falling apart not to mention crime infested rather than falsely complaining about the election results all talk talk talk no action or results sad congressman john lewis should finally focus on the burning and crime infested innercities of the us i can use all the help i can getit was a disgusting statement to make about lewis who has been more involved in civil rights causes than most americans and personally marched alongside dr king trump immediately got blasted for his remarks but the best response yet is coming from lewis himself in a dnc fundraising email that was released last night lewis addressed trump s illadvised comments today donald trump attacked me on twitter he said that i m all talk and no action i ve been beaten bloody teargassed fighting for what s right for america i ve marched at selma with dr king sometimes that s what it takes to move our country in the right directionwe refuse to stop now we re not done fighting for progress we re ready for the next four years join me and chip in whatever you can today to help democrats stand up to injustice the email stated that any funds donated would be split between lewis reelection fund and the dnc you can read the full message belowjohn lewis hitting donald trump back in fundraising email i ve been beaten bloody teargassed we refuse to stop now we re not done  yamiche alcindor yamiche january   americans are using their money to tell trump to sit the hell down along with the increase of donations to lewis fund trump s disgusting tweets also caused a massive surge in book sales for lewis after trump insulted lewis america responded by moving his  biography walking with the wind a memoir of the movement from the no  spot to no  on amazon s bestsellers list sales spiked by nearly  percent that move alone showed trump how wrong he was you don t go after a civil rights legend like lewis and expect to get away with ittwitterfeatured image via zach gibson and alex wong  getty images",
         "0"
        ]
       ],
       "shape": {
        "columns": 2,
        "rows": 20
       }
      },
      "text/html": [
       "<div>\n",
       "<style scoped>\n",
       "    .dataframe tbody tr th:only-of-type {\n",
       "        vertical-align: middle;\n",
       "    }\n",
       "\n",
       "    .dataframe tbody tr th {\n",
       "        vertical-align: top;\n",
       "    }\n",
       "\n",
       "    .dataframe thead th {\n",
       "        text-align: right;\n",
       "    }\n",
       "</style>\n",
       "<table border=\"1\" class=\"dataframe\">\n",
       "  <thead>\n",
       "    <tr style=\"text-align: right;\">\n",
       "      <th></th>\n",
       "      <th>text</th>\n",
       "      <th>class</th>\n",
       "    </tr>\n",
       "  </thead>\n",
       "  <tbody>\n",
       "    <tr>\n",
       "      <th>326</th>\n",
       "      <td>james clapper the director of national intelli...</td>\n",
       "      <td>0</td>\n",
       "    </tr>\n",
       "    <tr>\n",
       "      <th>42709</th>\n",
       "      <td>new york reuters  france said on saturday it w...</td>\n",
       "      <td>1</td>\n",
       "    </tr>\n",
       "    <tr>\n",
       "      <th>37931</th>\n",
       "      <td>dublin reuters  as the public face of the iris...</td>\n",
       "      <td>1</td>\n",
       "    </tr>\n",
       "    <tr>\n",
       "      <th>25274</th>\n",
       "      <td>washington reuters  a  percent corporate tax r...</td>\n",
       "      <td>1</td>\n",
       "    </tr>\n",
       "    <tr>\n",
       "      <th>41705</th>\n",
       "      <td>madrid reuters  spain s government will issue ...</td>\n",
       "      <td>1</td>\n",
       "    </tr>\n",
       "    <tr>\n",
       "      <th>44316</th>\n",
       "      <td>washington reuters  the united states will sen...</td>\n",
       "      <td>1</td>\n",
       "    </tr>\n",
       "    <tr>\n",
       "      <th>8939</th>\n",
       "      <td>some political pundits have been unable to des...</td>\n",
       "      <td>0</td>\n",
       "    </tr>\n",
       "    <tr>\n",
       "      <th>43985</th>\n",
       "      <td>london reuters  north korea s reckless behavio...</td>\n",
       "      <td>1</td>\n",
       "    </tr>\n",
       "    <tr>\n",
       "      <th>5963</th>\n",
       "      <td>with speaker paul ryan rwi canceling his wedne...</td>\n",
       "      <td>0</td>\n",
       "    </tr>\n",
       "    <tr>\n",
       "      <th>20259</th>\n",
       "      <td>the common thread in all this is hate the hate...</td>\n",
       "      <td>0</td>\n",
       "    </tr>\n",
       "    <tr>\n",
       "      <th>39765</th>\n",
       "      <td>nairobi reuters  burundi s cabinet backed a co...</td>\n",
       "      <td>1</td>\n",
       "    </tr>\n",
       "    <tr>\n",
       "      <th>41572</th>\n",
       "      <td>riyadh reuters  the united states embassy in s...</td>\n",
       "      <td>1</td>\n",
       "    </tr>\n",
       "    <tr>\n",
       "      <th>14779</th>\n",
       "      <td>wild bill for america is a conservative youtub...</td>\n",
       "      <td>0</td>\n",
       "    </tr>\n",
       "    <tr>\n",
       "      <th>30565</th>\n",
       "      <td>reuters  south carolina governor nikki haley h...</td>\n",
       "      <td>1</td>\n",
       "    </tr>\n",
       "    <tr>\n",
       "      <th>37196</th>\n",
       "      <td>sydneymelbourne reuters  police have arrested ...</td>\n",
       "      <td>1</td>\n",
       "    </tr>\n",
       "    <tr>\n",
       "      <th>15200</th>\n",
       "      <td>hey barack hussein obama america is still wait...</td>\n",
       "      <td>0</td>\n",
       "    </tr>\n",
       "    <tr>\n",
       "      <th>7956</th>\n",
       "      <td>the people of flint michigan are suffering fro...</td>\n",
       "      <td>0</td>\n",
       "    </tr>\n",
       "    <tr>\n",
       "      <th>43645</th>\n",
       "      <td>kabul reuters  a suicide bomber blew himself u...</td>\n",
       "      <td>1</td>\n",
       "    </tr>\n",
       "    <tr>\n",
       "      <th>21815</th>\n",
       "      <td></td>\n",
       "      <td>0</td>\n",
       "    </tr>\n",
       "    <tr>\n",
       "      <th>3005</th>\n",
       "      <td>yesterday presidentelect donald trump embarras...</td>\n",
       "      <td>0</td>\n",
       "    </tr>\n",
       "  </tbody>\n",
       "</table>\n",
       "</div>"
      ],
      "text/plain": [
       "                                                    text  class\n",
       "326    james clapper the director of national intelli...      0\n",
       "42709  new york reuters  france said on saturday it w...      1\n",
       "37931  dublin reuters  as the public face of the iris...      1\n",
       "25274  washington reuters  a  percent corporate tax r...      1\n",
       "41705  madrid reuters  spain s government will issue ...      1\n",
       "44316  washington reuters  the united states will sen...      1\n",
       "8939   some political pundits have been unable to des...      0\n",
       "43985  london reuters  north korea s reckless behavio...      1\n",
       "5963   with speaker paul ryan rwi canceling his wedne...      0\n",
       "20259  the common thread in all this is hate the hate...      0\n",
       "39765  nairobi reuters  burundi s cabinet backed a co...      1\n",
       "41572  riyadh reuters  the united states embassy in s...      1\n",
       "14779  wild bill for america is a conservative youtub...      0\n",
       "30565  reuters  south carolina governor nikki haley h...      1\n",
       "37196  sydneymelbourne reuters  police have arrested ...      1\n",
       "15200  hey barack hussein obama america is still wait...      0\n",
       "7956   the people of flint michigan are suffering fro...      0\n",
       "43645  kabul reuters  a suicide bomber blew himself u...      1\n",
       "21815                                                         0\n",
       "3005   yesterday presidentelect donald trump embarras...      0"
      ]
     },
     "execution_count": 93,
     "metadata": {},
     "output_type": "execute_result"
    }
   ],
   "source": [
    "data.sample(20)\n"
   ]
  },
  {
   "cell_type": "code",
   "execution_count": 94,
   "id": "200f6459",
   "metadata": {},
   "outputs": [
    {
     "data": {
      "application/vnd.microsoft.datawrangler.viewer.v0+json": {
       "columns": [
        {
         "name": "index",
         "rawType": "int64",
         "type": "integer"
        },
        {
         "name": "class",
         "rawType": "int64",
         "type": "integer"
        }
       ],
       "ref": "54466dc2-5a6f-498e-878f-af33c71e2da6",
       "rows": [
        [
         "0",
         "0"
        ],
        [
         "1",
         "1"
        ],
        [
         "2",
         "0"
        ],
        [
         "3",
         "1"
        ],
        [
         "4",
         "0"
        ],
        [
         "5",
         "1"
        ],
        [
         "6",
         "1"
        ],
        [
         "7",
         "0"
        ],
        [
         "8",
         "1"
        ],
        [
         "9",
         "1"
        ],
        [
         "10",
         "0"
        ],
        [
         "11",
         "0"
        ],
        [
         "12",
         "0"
        ],
        [
         "13",
         "1"
        ],
        [
         "14",
         "0"
        ],
        [
         "15",
         "0"
        ],
        [
         "16",
         "1"
        ],
        [
         "17",
         "1"
        ],
        [
         "18",
         "0"
        ],
        [
         "19",
         "1"
        ],
        [
         "20",
         "1"
        ],
        [
         "21",
         "0"
        ],
        [
         "22",
         "0"
        ],
        [
         "23",
         "0"
        ],
        [
         "24",
         "0"
        ],
        [
         "25",
         "0"
        ],
        [
         "26",
         "1"
        ],
        [
         "27",
         "1"
        ],
        [
         "28",
         "1"
        ],
        [
         "29",
         "0"
        ],
        [
         "30",
         "1"
        ],
        [
         "31",
         "0"
        ],
        [
         "32",
         "0"
        ],
        [
         "33",
         "1"
        ],
        [
         "34",
         "0"
        ],
        [
         "35",
         "0"
        ],
        [
         "36",
         "0"
        ],
        [
         "37",
         "0"
        ],
        [
         "38",
         "1"
        ],
        [
         "39",
         "0"
        ],
        [
         "40",
         "1"
        ],
        [
         "41",
         "0"
        ],
        [
         "42",
         "0"
        ],
        [
         "43",
         "0"
        ],
        [
         "44",
         "1"
        ],
        [
         "45",
         "1"
        ],
        [
         "46",
         "1"
        ],
        [
         "47",
         "0"
        ],
        [
         "48",
         "1"
        ],
        [
         "49",
         "0"
        ]
       ],
       "shape": {
        "columns": 1,
        "rows": 46962
       }
      },
      "text/plain": [
       "0        0\n",
       "1        1\n",
       "2        0\n",
       "3        1\n",
       "4        0\n",
       "        ..\n",
       "46957    0\n",
       "46958    1\n",
       "46959    1\n",
       "46960    0\n",
       "46961    0\n",
       "Name: class, Length: 46962, dtype: int64"
      ]
     },
     "execution_count": 94,
     "metadata": {},
     "output_type": "execute_result"
    }
   ],
   "source": [
    "balance['class']  # if your label column is named 'class'"
   ]
  },
  {
   "cell_type": "code",
   "execution_count": 95,
   "id": "a9bffca9",
   "metadata": {},
   "outputs": [],
   "source": [
    "balance.rename(columns={'class': 'label'}, inplace=True)"
   ]
  },
  {
   "cell_type": "code",
   "execution_count": 96,
   "id": "fdd0d79e",
   "metadata": {},
   "outputs": [
    {
     "data": {
      "text/plain": [
       "<Axes: xlabel='label', ylabel='count'>"
      ]
     },
     "execution_count": 96,
     "metadata": {},
     "output_type": "execute_result"
    },
    {
     "data": {
      "image/png": "[encoded data removed]",
      "text/plain": [
       "<Figure size 640x480 with 1 Axes>"
      ]
     },
     "metadata": {},
     "output_type": "display_data"
    }
   ],
   "source": [
    "sns.countplot(data=balance, x='label', order=balance['label'].value_counts().index)"
   ]
  },
  {
   "cell_type": "code",
   "execution_count": 104,
   "id": "40217c68",
   "metadata": {},
   "outputs": [],
   "source": [
    "def clean_text(text):\n",
    "    text = text.lower()\n",
    "    text = re.sub(r'\\[*?.\\]', '', text)\n",
    "    text = re.sub(r'https?://\\S+|www\\.\\S+', '', text)\n",
    "    text = re.sub(r'\\s+', ' ', text)\n",
    "    text = re.sub(r'[%s]' % re.escape(string.punctuation), '', text)\n",
    "    text = re.sub(r'\\n', '', text)\n",
    "    text = re.sub(r'\\w*\\d\\w*', '', text)\n",
    "    return text\n",
    "\n"
   ]
  },
  {
   "cell_type": "code",
   "execution_count": 105,
   "id": "f2e10a3c",
   "metadata": {},
   "outputs": [],
   "source": [
    "data['text'] = data['text'].apply(clean_text)"
   ]
  },
  {
   "cell_type": "code",
   "execution_count": 110,
   "id": "0cd89d57",
   "metadata": {},
   "outputs": [
    {
     "data": {
      "application/vnd.microsoft.datawrangler.viewer.v0+json": {
       "columns": [
        {
         "name": "index",
         "rawType": "int64",
         "type": "integer"
        },
        {
         "name": "text",
         "rawType": "object",
         "type": "string"
        },
        {
         "name": "class",
         "rawType": "int64",
         "type": "integer"
        }
       ],
       "ref": "78b40e45-f322-43af-8333-0ddd323eca4f",
       "rows": [
        [
         "43015",
         "new york reuters the united states will consider resuming some suspended military assistance to eypt us president donald trump said on wednesday the us government last month decided to deny egypt million in aid and to delay a further million over human rights concerns asked if he would restart military to aid to egypt trump told reporters as he began a meeting with egyptian president abdel fattah alsisi we re going to certainly consider it on aug sources said the trump administration decided to reprogram million in fiscal year foreign military financing funds and million in fiscal year economic support fund funds reprogramming means these funds would be used for other purposes and would not go to egypt the administration made a separate decision to withhold million in fiscal year foreign military financing funds which had it not acted would have expired and ceased to be available at the end of the current fiscal year on sept these sums are relatively small in comparison to us aid flows to egypt historically according to a march report by the bipartisan congressional research service between and the united states gave egypt billion in bilateral foreign aid including billion a year in military aid from to the present ",
         "1"
        ],
        [
         "39331",
         "cape town reuters south african president jacob zuma said on thursday his government was considering the best time to launch a major expansion of its nuclear power fleet after the finance minister said the country could not afford it zuma was responding to a question in parliament by opposition leader mmusi maimane who asked why finance minister malusi gigaba had said the expansion would be delayed while energy minister david mahlobo said the opposite we have a policy of mixed energy and that includes nuclear zuma said we are not saying we have changed policy its a question of timing when do we do it we have been discussing that issue all the time in the government ",
         "1"
        ],
        [
         "25908",
         "mexico city reuters a massive image of us president donald trump as an alien intruder now towers above one of the busiest roads in mexico city urging motorists to “make america great again” the gaudy billboard sports a caricature of trump with a blue and red fleshless face beneath his blond hair it went up above the twotier inner city ring road known as the periferico last week after failing to find takers in the united states backed with an american flag the meter feet placard of a fingerpointing trump was originally intended to adorn a us city said its creator chicagobased artist mitch o’connell “america is afraid to put up this tongueincheek billboard” o’connell told reuters by telephone “then mexico came to mind because trump started out his campaign by being cruel and mean to everyone in mexico” the white house had no comment on the sign a real estate developer and reality tv starturned politician trump sparked fury in mexico when he launched his campaign for the presidency in with a pledge to build a massive border wall and accusations that mexico sent rapists and drug runners across the border at the time o’connell was working on a poster for a sciencefiction and horror film festival featuring john carpenter’s cult classic ‘they live’ about aliens living incognito among humans that project would inspire his vision of trump about four months ago o’connell set up a gofundme page to get the image onto a billboard the campaign raised about he failed in some attempts at pitching the arresting image in washington chicago and other us cities he said he found no us company “wanted to touch it because it’s political” in the end the trump billboard was placed in mexico and will remain on display for about a month said jorge alderete an argentine artist living in mexico city who helped mount the billboard above the busy highway “with every month that passed since i did the drawing two years ago he has become more like that crazy alien” o’connell said “it seems over time he became more and more like the movie so it became more and more appropriate over time” ",
         "1"
        ],
        [
         "38803",
         "washington reuters the us military said on wednesday it has told families of four american soldiers killed during an ambush in niger on oct that it expected to complete its investigation into their deaths in january families were informed that the africa command s investigation team will travel to locations in the us africa and europe to gather information related to the investigation the pentagon said in a statement it said the probe was to be led army major general roger cloutier the command s chief of staff and families would be told if more time was needed ",
         "1"
        ],
        [
         "17399",
         "listen to this women speak of voting rights like it s we do not have a voting rights problem lynch then speaks about going into the schools and changing the discipline for minorities vs whites she s the one who decided the minorities needed to have less punishment simply because the color of their skin unreal a republicancontrolled us senate voted to confirm an attorney general today who says that illegal aliens have a right to work in the united states but that partially born babies do not have a right to lifethe senate took two votes on the nomination of loretta lynch first a cloture vote to end debate and allow a final vote on confirmation and then the final vote itselfneither of these votes would have taken place had not senate majority leader mitch mcconnell not brought her nomination to the floor for consideration thanks to a change in the interpretation of senate rule xxii that he democratic leadership pushed through in only votes as opposed the historical was needed to invoke cloture and end debate on the nomination in fact senators voted for cloture including republicanslynch who has been serving as us attorney in the eastern district of new york then won confirmation as attorney general of the united states by a vote of to nine senate republicans voted to confirm herat a confirmation hearing in january sen jeff sessions rala asked lynch who has more right to a job in this country a lawful immigrant who s here a greencard holder or a citizen or a person who entered this country unlawfully well senator said lynch i believe that the right and the obligation to work is one that s shared by everyone in this country regardless of how they came here and certainly if someone s here regardless of status i would prefer that they be participating in the workplace than not participating in the workplace under the laws of the united states which as attorney general lynch will be responsible for enforcing foreign nationals illegally present in the united states are not permitted to work herein lynch joined with a group of fellow former us attorneys in signing an amicus brief submitted to the supreme court in the case of gonzales v carhart which sought to overturn the law that congress enacted in that bans partialbirth abortion in the united states arguing that the ban should be overturned and partialbirth abortions permitted lynch and her fellow former us attorneys said that the language of the law including the term living fetus was too vague to be properly understood by those responsible for obeying it and enforcing it furthermore said the brief lynch signed the ban s specific provisions such as the phrase living fetus are hopelessly vague as a legal proscription it is unclear she and the others said whether a living fetus must be intact a physician or prosecutor could not possibly know whether a given overt act kill ed the fetus under the ban without having a clear definition of living wrote lynch and her fellow defenders of legalized partialbirth abortionin a decision written by justice anthony kennedy the court rejected the argument that lynch had made the act is not vague said the courtin its opinion the court quoted the description of a partialbirth abortion given by a nurse who assisted in onethe doctor said this nurse according to the us supreme court went in with forceps and grabbed the baby s legs and pulled them down into the birth canal then he delivered the baby s body and the arms everything but the head the doctor kept the head inside the uterus the baby s little fingers were clasping and unclasping and his little feet were kicking said the nurse then the doctor stuck the scissors in the back of his head and the baby s arms jerked out like a startle reaction like a flinch like a baby does when he thinks he is going to fall the doctor opened up the scissors stuck a highpowered suction tube into the opening and sucked the baby s brains out said the nurse not the baby went completely limp he cut the umbilical cord the nurse said of the doctor who had just sucked out the baby s brains he threw the baby in a pan along with the placenta and the instruments he had just used at her confirmation hearing lynch affirmed that she had signed on to the amicus brief opposing the ban on partialbirth abortion and sen lindsey graham rsc told her that that did not disqualify her from serving as attorney general in you signed an amicus brief supporting planned parenthood s opposition to th partialbirth abortion ban is that correct asked graham yes said lynch i was one of a number of former justice department officials who signed i although the amicus brief that we signed was focused on the issue of the facial issues of the law and how it might impact the perception of law enforcement s discretion and independence she said the only reason i mentioned that said graham is that if there s a republican president in the future an attorney general nominee takes an opposite view on an issue like abortion i hope our friends on the other side will acknowledge it s ok to be an advocate for a cause as their lawyer that doesn t disqualify you from serving the republicans who voted to move forward on a vote with lynch s nomination by voting for cloture included lamar alexander of tennessee kelly ayotte of new hampshire richard burr of north carolina shelley moore capito of west virginia thad cochran of mississippi susan collins of maine bob corker of tennessee john cornyn of texas jeff flake of arizona cory gardner of colorado lindsey graham of south carolina orrin hatch of utah ron johnson of wisconsin mark kirk of illinois mitch mcconnell of kentucky rob portman of ohio pat roberts of kansas rounds of kansas john thune of south dakota and thom tillis of north carolinain the to confirmation vote republicans voted for lynch they included kelly ayotte of new hampshire thad cochran of mississippi susan collins of maine jeff flake of arizona lindsey graham of south carolina orrin hatch of utah ron johnson of wisconsin mark kirk of illinois mitch mcconnell of kentucky and rob portman of ohiosen ted cruz of texas opposed the confirmation of lynch spoke against her confirmation on the senate floor and voted against cloture but then he did not cast a vote on her final confirmation his office did not immediately respond to inquiries about why he did not votevia cns",
         "0"
        ],
        [
         "3305",
         "keith olbermann did not mince words the end of social security is near because of donald trumptrump supporters are living in a fantasy land if they really believe trump and the republican congress are going to protect social securityfor decades social security has been a lifeline for the elderly during hard times during the great recession in social security kept people over the age of afloat as millions of americans took hits that drained their bank accounts or left them homelessfor senior citizens social security did exactly what is was meant to do prevent them from ending up in povertyevery american in this country pays into social security so that they can benefit from the program one daybut republicans are already planning on gutting social security in with a bill known as the social security reform act of bill will raise the retirement age which means american workers will have to work longer and harder before they can stop and draw the social security they worked so hard for and it won t even be worth it because the bill also slashes benefits by percent and will be cut by percent for younger workers in short americans will get less but have to work moreand republicans are hoping to pass this bill handily without anyone noticing not only are they banking on trump serving as a distraction they are betting that he ll sign whatever they put in front of his face the banana republicans are going on a stealth offensive olbermann began they have to reveal themselves sooner or later if only to signal to corporations who own them that yes the fix is in and ownership will be getting what they prostituted the government for olbermann explained that chief actuary of the social security administration stephen c goss sent a letter to bill sponsor rep sam johnson warning him that his socalled reform plan will actually harm social security and hurt the millions of americans who use it paul ryan and all the other corporate whores intend to plunge the knife into the back of social security and especially those hard working fools of middle america who actually believed the net impact of a donald trump presidency would be more money for them and not poverty in their old age olbermann continued social security would be gutted less money would be flowing into social security and americans would see massive cuts some of which would begin as early as december so millions of americans will take a major hit two years from now and right around the christmas season to add insult to injuryand olbermann added that trump supporters will be too busy fawning over their new hero to notice that they are being swindled they will be watching whatever trump is doing at the moment at some point likely to be his version of daffy duck drinking a gallon of gasoline and a bottle of nitroglycerin a pile of gunpowder and a glass of and then lighting a match and in the background the republican house and republican senate now full of the subsidiaries of the corporations who were able to buy this country after citizens united they will destroy social security so the rich can get even richer by stealing a billion dollars one dollar at a time our parttime president will take a quick look away from his twitter feed to sign exactly where they tell him to sign here s the video via youtuberepublicans are prepared to launch an allout assault on not only social security but on medicare and medicaid as well so senior citizens and every american who manages to survive to old age after republicans destroy everything will not have social security or healthcare this is what republicans mean when they say they will take care of the middle class the reality is that republicans are selfish and they only care about the wealthy the time for peaceful protests is over if we want to keep the programs we have all worked hard to earn and stop the greedy from stealing them from us the time for open revolt is nowfeatured image via screenshot",
         "0"
        ],
        [
         "11052",
         "a group called people s action just held their big gathering in washington dc yesterday they had the usual suspects like keith ellison and socialist bernie sanders speak at the meeting they were protesting against cuts from the budget the bottom line is the radicals don t want any cuts to big government because they want to keep the cradle to grave freebies going socialist bernie sanders was ready to fill their minds with visions of freebies from big governmentearlier today the group decided to hit heritage foundation headquarters by storming the offices with thugshere s what they said we re shutting it down at heritage because it continues to be realdonaldtrump s think tank re shutting it down at heritage because it continues to be realdonaldtrump s think tank people s action pplsaction april funded groups are all over dc with their push to keep obama s agenda going they got some help from socialist bernie sanders who wants justice justice justice he s playing to his base in the video belowwe must stand with pplsaction and people all over this country in the fight for justice mr trump you will not divide us up bernie sanders sensanders april s action sheeple ",
         "0"
        ],
        [
         "15448",
         "the fundamental transformation of america continues but one photo emerges that defies barack and michelle obama s hateful and divisive narrativein the latest chapter of the outcry over the confederate flag issue in south carolina an unexpected scene emerged from rallies involving the ku klux klan and black supporters this weekend a photo of a black police officer helping a white supremacist at the capitol in charlestonmembers of the loyal white knights of the kkk were protesting the state s recent decision to remove the flag from the statehouse grounds black advocates held their own rally and a clash among the two parties ensuedin the midst of so much hate one hopeful photo emerged it didn t take long for the photograph taken by rob godfrey the deputy chief of staff for south carolina governor nikki haley to spread on the internet not an uncommon example of humanity in sc leroy smith helps white supremacist to shelter water as heat bears down godfrey wrote in posting the photo on twitterofficer leroy smith was helping the man find shade and water on a hot day in charleston when temperatures reached the upper about people attended the rallies he was assisting with crowd control on the stairs where the kkk was rallying spokeswoman sherri iacobelli said of smithas might be expected the general public largely fell into one of two camps applauding the photo or questioning it this kindness chokes me up how do sc people find that well of caring in the midst of so much hatred one person replied in the photo s comment thread amazing i couldn t find it in my heart and i am white another remarked just curious put this in reverse would that white supremacist have done that for officer smith at a black panther rally countered one tweet being nice didn t save those people at the charleston church shootin though posted anotherthursday haley encouraged people to stay away from the kkk rally the strength and grace the people of south carolina have shown over the last three weeks have inspired our family our neighbors and the entire world she wrote on her facebook page our family hopes the people of south carolina will join us in staying away from the disruptive hateful spectacle members of the ku klux klan hope to create via breitbart news",
         "0"
        ],
        [
         "27250",
         "washington reuters the us senate intelligence committee has asked the white house for information regarding reports that president donald trump gave sensitive intelligence information to russian government officials according to becca watkins a spokeswoman for committee chairman sen richard burr congressional investigators are expected to ask for copies of any notes taking during a may meeting between trump and russian officials at which intelligence related to recent efforts by militants in syria to install sophisticated bombs inside laptop computers was discussed another us official said ",
         "1"
        ],
        [
         "39672",
         "bethlehem west bank reuters another donald trump mural believed to be the work of australian graffiti artist lushsux has popped up on israel s barrier in the occupied west bank this time depicting the us president sharing a kiss with israeli prime minister benjamin netanyahu his face hidden by a headdress a man who identified himself as lushsux said against the backdrop of a cement section of the israeli wall in bethlehem that he hoped his painting would draw attention to palestinians stuck in an indoor prison the bethlehem wall has become a showcase of protest art voicing palestinians fears that israel s west bank fenceandconcrete barrier is a land grab that may deny them a state israelis deem the project a bulwark against palestinian attack the wall is a message in itself the man who said he painted the mural overnight told reuters i don t need to write free palestine or something like that something really direct that people will ignore i just paint what i usually paint and maybe people will start looking at the background and looking at the razor wire and looking at people stuck in here and maybe that ll work better he said in australianaccented english murals on the barrier believed to be the work of lushsux include one showing trump kissing an israeli watchtower and another depicting him placing his hand on the barrier and thinking about building a similar wall on the us border with mexico ",
         "1"
        ],
        [
         "25234",
         "washingtonnew york reuters two highranking democrats in the us senate asked the trump administration on wednesday to provide information on any plans to cut refugee admissions to historically low levels saying congress had not yet been consulted as required by law “to date we have not received a proposed refugee admissions plan for fiscal year or received any cooperation from your agencies in scheduling the refugee consultation” senator richard durbin and senator dianne feinstein wrote in a letter seen by reuters the letter was sent on wednesday to secretary of state rex tillerson acting secretary of homeland security elaine duke and secretary of health and human services tom price “we request that the proposed refugee admissions report be transmitted to congress promptly and that we immediately begin the process of scheduling the consultation” the letter said by law the president is required to consult with members of congress about the number of refugee admissions before the start of each fiscal year which is oct a white house spokeswoman declined to discuss specific numbers but said the administration’s approach to refugee resettlement would be guided by the “safety and security of the american people the protection of us taxpayers and the application of us resources in a manner that stretches our dollars to help the most people” the department of homeland security declined to comment the state department and department of health and human services did not immediately respond to requests for comment since the us refugee act was signed in the ceiling has never been set below and in recent years has hovered around to the number of refugees actually admitted to the country can fall below the cap and dropped to its lowest level in the fiscal year after the sept terror attacks with only around admitted for a graphic on refugee admissions click on for fiscal which ends sept former president barack obama established a cap of refugees for permanent resettlement in the united states after taking office president donald trump issued an executive order lowering the maximum number to for fiscal saying that more would be “detrimental to the interests of the united states” “there have been a lot of signals that trump has set his sights on a presidential determination of ” for said anna greene a senior director at the international rescue committee “but we have been concerned that the more ideological wing of the white house is trying to drive that number to much much lower” the proposed raise act which the white house has endorsed calls for lower immigration overall and a statutory limit on the number of refugees offered permanent residency to no more than reports that the cap might be set below raised alarm bells for democrats in the house of representatives and the senate “by any measure donald trump’s reported consideration of a refugee ceiling of or lower is extreme but it is particularly reprehensible given the current global refugee and humanitarian crisis” said democratic us representatives john conyers jr and zoe lofgren in a statement on wednesday if the united states slashes refugee admissions other countries could decide to do so as well said robert carey the former director of the office of refugee resettlement under the department of health and human services in the obama administration “lives will be lost people will die the people who are being resettled they are the most vulnerable people” said carey who left government in january and is working as a consultant “there is a running misperception that these are not thoroughly vetted individuals” he said “these are the most thoroughly vetted individuals who will enter the us under any status” groups that support lower levels of immigration overall say that the refugee resettlement program should be reevaluated “there are security concerns for refugees from some places and we also need to consider the cost of resettlement to communities where refugees are being resettled” said jessica vaughan of the center for immigration studies which aims to limit immigration",
         "1"
        ],
        [
         "2965",
         "filmmaker and activist michael moore said there is no doubt in his mind that donald trump will go through with banning muslims from the united states just like he said he wouldspeaking to variety moore said that he has already done his grieving over trump s win which he saw coming long before it became a reality i went through my five stages of grief months and months ago when i realized he was going to win he saidmoore said that he has taken him literally and seriously since day one which is why he fully expects trump to do all the horrible things he said he would on the campaign trail like building a wall along our southern border to keep out all the rapey mexicans you do have to take trump at his word moore said i still hear people say oh he s not really going to build the wall oh he is going to build it he knows that he s got to deliver at least a version of the wall this moore explained is why he absolutely believes trump will go through with enacting his muslim ban he s shown how he s going to do it moore said he s going to get away with it by making it a ban on muslims who come from the following countries he needs just enough cover for his crowd to say oh he s being reasonable there he s not banning all muslims moore also said that he was profoundly affected by meryl streep s powerful speech denouncing trump at the golden globes i had tears in my eyes moore said it was so powerfully delivered by the perfect person she was talking about human empathy it was not about being a republican or a democrat it was about have you no decency sir trump s supporters like to say that they don t take what he says literally but that is a mistake as maya angelou said when someone shows you who they are believe them the first time we know who trump is and we also know it s going to be a long four yearsfeatured image via kevin wintergetty images for afi",
         "0"
        ],
        [
         "17500",
         "watch some fake news from a swamp creature who should be in jailformer director of national intelligence james clapper referred to president donald trump on monday as an intelligence asset for russian president vladimir putin the term asset refers to people with countries or organizations being spied upon who serve as resources for outside spiesclapper appeared on cnn to discuss trump s national security strategy speech given monday where he referred to russia as a rival but also said he wanted to form a partnershipthe two leaders have also expressed recent gratitude to each other with putin calling and thanking trump for sharing intelligence that helped foil a terror plot and trump thanking putin for his recent praise of the american economyis this guy kiddingthis is on the same day that we learn the following about the obama administrationthe obama administration intentionally derailed investigations into the terrorist group hezbollah s drug trafficking operation to secure the iran nuclear deal according to a new bombshell reportpolitico spoke with several members of project cassandra a joint effort between the drug enforcement agency and the pentagon that was founded in under the bush administration to identify and prosecute a drug trafficking money laundering and smuggling operation run by the iranianbacked militantsover the next eight years agents working out of a topsecret dea facility in chantilly virginia used wiretaps undercover operations and informants to map hezbollah s illicit networks with the help of us and foreign security agenciesthey followed cocaine shipments some from latin america to west africa and on to europe and the middle east and others through venezuela and mexico to the united states they tracked the river of dirty cash as it was laundered by among other tactics buying american used cars and shipping them to africa and with the help of some key cooperating witnesses the agents traced the conspiracy they believed to the innermost circle of hezbollah and its state sponsors in iranread more wfb",
         "0"
        ],
        [
         "25275",
         "washington reuters two key us senators on monday asked equifax inc efxn to answer detailed questions about a breach of information affecting up to million americans including whether us government agency records were compromised in the hack senator orrin hatch who chairs the finance committee and ranking democrat ron wyden also demanded that equifax chief executive rick smith provide a timeline of the breach and its discovery they asked for information on when authorities and the company’s board were notified and when three executives who sold stock in the company in august were first told of the data breach equifax did not immediately respond to a request for comment on the letter it came amid mounting scrutiny of the company’s response to the breach from lawmakers regulators and security experts prompting the creditmonitoring services to issue an apology on friday and pledge to dedicate more resources to helping affected consumers “the scope and scale of this breach appears to make it one of the largest on record and the sensitivity of the information compromised may make it the most costly to taxpayers and consumers” the letter said equifax announced last week that it learned on july that hackers had infiltrated its systems in midmay pilfering names birthdays addresses and social security and driver’s license numbers cyber security experts said it was among the largest data hacks ever recorded and was particularly troubling due to the richness of the information exposed three days after equifax discovered the breach three top equifax executives including chief financial officer john gamble and a president of a unit sold equifax shares or exercised options to dispose of stock worth about million regulatory filings show equifax said in a statement last week that the executives were not aware that an intrusion had occurred when they sold their shares hatch and wyden asked smith to respond by sept other congressional committees have announced plans to hold hearings investigating the equifax breach and want answers the senators want to know if equifax has a chief information security officer and over the past two years “how many times has equifax employed thirdparty cyber security experts to conduct penetration tests of its internal and external systems” the senators want copies of all equifax penetration test and audit reports by outside cyber security firms separately a group of democratic senators asked equifax to end its use of forced arbitration agreements which limit the ability of consumers to pursue claims and not to lobby to reverse a new rule from the consumer financial protection bureau to limit the use of forced arbitration in the financial services sector ",
         "1"
        ],
        [
         "34133",
         "mexico city reuters us vice president joe biden on thursday said he felt “almost obliged” to say sorry for verbal attacks on mexico in the us presidential campaign in which republican frontrunner donald trump has labeled mexican migrants rapists and drug runners speaking alongside mexican president enrique pena nieto during a visit to mexico city biden never mentioned trump who nonetheless loomed large over the proceedings “there’s been a lot of damaging and incredibly inaccurate rhetoric and i would argue i feel almost obliged to apologize for some of what my political colleagues have said about mexico about the mexican people” said biden a democrat property mogul trump who has built up a big early lead in the race to become republican nominee has vowed to make mexico pay for a wall to seal off the united states from its southern neighbor prompting widespread criticism in both countries “i just want you to know mr president that the most heated rhetoric you’ve heard from some of the competitors for the nomination for president is not who we are as the american people it’s the exact opposite” biden added without naming trump pena nieto also weighed in saying “building walls is just isolating oneself” the us presidential election is on nov at an event earlier on thursday biden had expressed concern about what the election race said about views held in the united states calling some of the republican campaign language “dangerous damaging and incredibly illadvised” “the message that is coming out of the united states as a consequence of the presidential campaign about american attitudes toward mexicans and mexico generally and the entire hemisphere and our place in the world is disturbing” he said trump has vowed to deport the million migrants living illegally in the united states a position shared by his younger republican rival the texas senator ted cruz for more on the presidential race see the reuters blog tales from the trail here reporting by joanna zuckerman bernstein editing by richard chang this article was funded in part by sap it was independently created by the reuters editorial staff sap had no editorial involvement in its creation or production",
         "1"
        ]
       ],
       "shape": {
        "columns": 2,
        "rows": 15
       }
      },
      "text/html": [
       "<div>\n",
       "<style scoped>\n",
       "    .dataframe tbody tr th:only-of-type {\n",
       "        vertical-align: middle;\n",
       "    }\n",
       "\n",
       "    .dataframe tbody tr th {\n",
       "        vertical-align: top;\n",
       "    }\n",
       "\n",
       "    .dataframe thead th {\n",
       "        text-align: right;\n",
       "    }\n",
       "</style>\n",
       "<table border=\"1\" class=\"dataframe\">\n",
       "  <thead>\n",
       "    <tr style=\"text-align: right;\">\n",
       "      <th></th>\n",
       "      <th>text</th>\n",
       "      <th>class</th>\n",
       "    </tr>\n",
       "  </thead>\n",
       "  <tbody>\n",
       "    <tr>\n",
       "      <th>43015</th>\n",
       "      <td>new york reuters the united states will consid...</td>\n",
       "      <td>1</td>\n",
       "    </tr>\n",
       "    <tr>\n",
       "      <th>39331</th>\n",
       "      <td>cape town reuters south african president jaco...</td>\n",
       "      <td>1</td>\n",
       "    </tr>\n",
       "    <tr>\n",
       "      <th>25908</th>\n",
       "      <td>mexico city reuters a massive image of us pres...</td>\n",
       "      <td>1</td>\n",
       "    </tr>\n",
       "    <tr>\n",
       "      <th>38803</th>\n",
       "      <td>washington reuters the us military said on wed...</td>\n",
       "      <td>1</td>\n",
       "    </tr>\n",
       "    <tr>\n",
       "      <th>17399</th>\n",
       "      <td>listen to this women speak of voting rights li...</td>\n",
       "      <td>0</td>\n",
       "    </tr>\n",
       "    <tr>\n",
       "      <th>3305</th>\n",
       "      <td>keith olbermann did not mince words the end of...</td>\n",
       "      <td>0</td>\n",
       "    </tr>\n",
       "    <tr>\n",
       "      <th>11052</th>\n",
       "      <td>a group called people s action just held their...</td>\n",
       "      <td>0</td>\n",
       "    </tr>\n",
       "    <tr>\n",
       "      <th>15448</th>\n",
       "      <td>the fundamental transformation of america cont...</td>\n",
       "      <td>0</td>\n",
       "    </tr>\n",
       "    <tr>\n",
       "      <th>27250</th>\n",
       "      <td>washington reuters the us senate intelligence ...</td>\n",
       "      <td>1</td>\n",
       "    </tr>\n",
       "    <tr>\n",
       "      <th>39672</th>\n",
       "      <td>bethlehem west bank reuters another donald tru...</td>\n",
       "      <td>1</td>\n",
       "    </tr>\n",
       "    <tr>\n",
       "      <th>25234</th>\n",
       "      <td>washingtonnew york reuters two highranking dem...</td>\n",
       "      <td>1</td>\n",
       "    </tr>\n",
       "    <tr>\n",
       "      <th>2965</th>\n",
       "      <td>filmmaker and activist michael moore said ther...</td>\n",
       "      <td>0</td>\n",
       "    </tr>\n",
       "    <tr>\n",
       "      <th>17500</th>\n",
       "      <td>watch some fake news from a swamp creature who...</td>\n",
       "      <td>0</td>\n",
       "    </tr>\n",
       "    <tr>\n",
       "      <th>25275</th>\n",
       "      <td>washington reuters two key us senators on mond...</td>\n",
       "      <td>1</td>\n",
       "    </tr>\n",
       "    <tr>\n",
       "      <th>34133</th>\n",
       "      <td>mexico city reuters us vice president joe bide...</td>\n",
       "      <td>1</td>\n",
       "    </tr>\n",
       "  </tbody>\n",
       "</table>\n",
       "</div>"
      ],
      "text/plain": [
       "                                                    text  class\n",
       "43015  new york reuters the united states will consid...      1\n",
       "39331  cape town reuters south african president jaco...      1\n",
       "25908  mexico city reuters a massive image of us pres...      1\n",
       "38803  washington reuters the us military said on wed...      1\n",
       "17399  listen to this women speak of voting rights li...      0\n",
       "3305   keith olbermann did not mince words the end of...      0\n",
       "11052  a group called people s action just held their...      0\n",
       "15448  the fundamental transformation of america cont...      0\n",
       "27250  washington reuters the us senate intelligence ...      1\n",
       "39672  bethlehem west bank reuters another donald tru...      1\n",
       "25234  washingtonnew york reuters two highranking dem...      1\n",
       "2965   filmmaker and activist michael moore said ther...      0\n",
       "17500  watch some fake news from a swamp creature who...      0\n",
       "25275  washington reuters two key us senators on mond...      1\n",
       "34133  mexico city reuters us vice president joe bide...      1"
      ]
     },
     "execution_count": 110,
     "metadata": {},
     "output_type": "execute_result"
    }
   ],
   "source": [
    "data.sample(15)"
   ]
  },
  {
   "cell_type": "code",
   "execution_count": null,
   "id": "480f0b59",
   "metadata": {},
   "outputs": [],
   "source": []
  },
  {
   "cell_type": "code",
   "execution_count": 107,
   "id": "8c82a256",
   "metadata": {},
   "outputs": [
    {
     "name": "stdout",
     "output_type": "stream",
     "text": [
      "              precision    recall  f1-score   support\n",
      "\n",
      "           0       0.99      0.98      0.99      4607\n",
      "           1       0.98      0.99      0.99      4786\n",
      "\n",
      "    accuracy                           0.99      9393\n",
      "   macro avg       0.99      0.99      0.99      9393\n",
      "weighted avg       0.99      0.99      0.99      9393\n",
      "\n"
     ]
    }
   ],
   "source": [
    "# Split the balanced dataset into train and test sets\n",
    "X = balance['text']\n",
    "y = balance['label']\n",
    "\n",
    "X_train, X_test, y_train, y_test = train_test_split(X, y, test_size=0.2, random_state=42)\n",
    "\n",
    "# Vectorize the text data using TF-IDF\n",
    "vectorizer = TfidfVectorizer(stop_words='english', max_df=0.7)\n",
    "X_train_tfidf = vectorizer.fit_transform(X_train)\n",
    "X_test_tfidf = vectorizer.transform(X_test)\n",
    "\n",
    "# Train a Logistic Regression model\n",
    "model = LogisticRegression()\n",
    "model.fit(X_train_tfidf, y_train)\n",
    "\n",
    "# Predict and evaluate\n",
    "y_pred = model.predict(X_test_tfidf)\n",
    "print(classification_report(y_test, y_pred))"
   ]
  },
  {
   "cell_type": "code",
   "execution_count": 113,
   "id": "03810f7c",
   "metadata": {},
   "outputs": [
    {
     "data": {
      "image/png": "[encoded data removed]",
      "text/plain": [
       "<Figure size 600x400 with 2 Axes>"
      ]
     },
     "metadata": {},
     "output_type": "display_data"
    }
   ],
   "source": [
    "from sklearn.metrics import confusion_matrix\n",
    "import seaborn as sns\n",
    "import matplotlib.pyplot as plt\n",
    "\n",
    "# Confusion Matrix\n",
    "cm = confusion_matrix(y_test, y_pred)\n",
    "plt.figure(figsize=(6,4))\n",
    "sns.heatmap(cm, annot=True, fmt='d', cmap='Blues', xticklabels=['Fake', 'True'], yticklabels=['Fake', 'True'])\n",
    "plt.xlabel('Predicted')\n",
    "plt.ylabel('Actual')\n",
    "plt.title('Confusion Matrix')\n",
    "plt.show()"
   ]
  },
  {
   "cell_type": "code",
   "execution_count": 109,
   "id": "9e9aea6f",
   "metadata": {},
   "outputs": [
    {
     "data": {
      "image/png": "[encoded data removed]",
      "text/plain": [
       "<Figure size 600x300 with 2 Axes>"
      ]
     },
     "metadata": {},
     "output_type": "display_data"
    },
    {
     "data": {
      "image/png": "[encoded data removed]",
      "text/plain": [
       "<Figure size 600x400 with 1 Axes>"
      ]
     },
     "metadata": {},
     "output_type": "display_data"
    }
   ],
   "source": [
    "from sklearn.metrics import classification_report, roc_curve, auc\n",
    "import numpy as np\n",
    "\n",
    "# Classification report as heatmap\n",
    "report = classification_report(y_test, y_pred, output_dict=True)\n",
    "report_df = pd.DataFrame(report).transpose().iloc[:2, :3]  # Only 'Fake' and 'True' rows, and precision/recall/f1\n",
    "plt.figure(figsize=(6,3))\n",
    "sns.heatmap(report_df, annot=True, cmap='YlGnBu')\n",
    "plt.title('Classification Report Heatmap')\n",
    "plt.show()\n",
    "\n",
    "# ROC Curve\n",
    "y_prob = model.predict_proba(X_test_tfidf)[:, 1]\n",
    "fpr, tpr, thresholds = roc_curve(y_test, y_prob)\n",
    "roc_auc = auc(fpr, tpr)\n",
    "plt.figure(figsize=(6,4))\n",
    "plt.plot(fpr, tpr, label=f'ROC curve (AUC = {roc_auc:.2f})')\n",
    "plt.plot([0, 1], [0, 1], 'k--')\n",
    "plt.xlabel('False Positive Rate')\n",
    "plt.ylabel('True Positive Rate')\n",
    "plt.title('ROC Curve')\n",
    "plt.legend(loc='lower right')\n",
    "plt.show()"
   ]
  }
 ],
 "metadata": {
  "kernelspec": {
   "display_name": "Python 3",
   "language": "python",
   "name": "python3"
  },
  "language_info": {
   "codemirror_mode": {
    "name": "ipython",
    "version": 3
   },
   "file_extension": ".py",
   "mimetype": "text/x-python",
   "name": "python",
   "nbconvert_exporter": "python",
   "pygments_lexer": "ipython3",
   "version": "3.13.5"
  }
 },
 "nbformat": 4,
 "nbformat_minor": 5
}
