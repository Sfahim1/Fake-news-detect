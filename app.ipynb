{
 "cells": [
  {
   "cell_type": "code",
   "execution_count": 1,
   "id": "5c107e4d",
   "metadata": {},
   "outputs": [],
   "source": [
    "import pandas as pd\n",
    "from sklearn.model_selection import train_test_split\n",
    "from sklearn.feature_extraction.text import TfidfVectorizer\n",
    "from sklearn.linear_model import LogisticRegression\n",
    "from sklearn.metrics import classification_report\n",
    "from sklearn.utils import resample\n",
    "import re\n",
    "import joblib\n",
    "import string\n",
    "import seaborn as sns\n",
    "import matplotlib.pyplot as plt\n"
   ]
  },
  {
   "cell_type": "code",
   "execution_count": 2,
   "id": "f86a7874",
   "metadata": {},
   "outputs": [],
   "source": [
    "fake = pd.read_csv('fake.csv')\n",
    "true = pd.read_csv('true.csv')"
   ]
  },
  {
   "cell_type": "code",
   "execution_count": 3,
   "id": "f7c18269",
   "metadata": {},
   "outputs": [
    {
     "data": {
      "application/vnd.microsoft.datawrangler.viewer.v0+json": {
       "columns": [
        {
         "name": "index",
         "rawType": "int64",
         "type": "integer"
        },
        {
         "name": "title",
         "rawType": "object",
         "type": "string"
        },
        {
         "name": "text",
         "rawType": "object",
         "type": "string"
        },
        {
         "name": "subject",
         "rawType": "object",
         "type": "string"
        },
        {
         "name": "date",
         "rawType": "object",
         "type": "string"
        }
       ],
       "ref": "8fb26567-6722-4687-89a5-71f5f42e6f7e",
       "rows": [
        [
         "0",
         " Donald Trump Sends Out Embarrassing New Year’s Eve Message; This is Disturbing",
         "Donald Trump just couldn t wish all Americans a Happy New Year and leave it at that. Instead, he had to give a shout out to his enemies, haters and  the very dishonest fake news media.  The former reality show star had just one job to do and he couldn t do it. As our Country rapidly grows stronger and smarter, I want to wish all of my friends, supporters, enemies, haters, and even the very dishonest Fake News Media, a Happy and Healthy New Year,  President Angry Pants tweeted.  2018 will be a great year for America! As our Country rapidly grows stronger and smarter, I want to wish all of my friends, supporters, enemies, haters, and even the very dishonest Fake News Media, a Happy and Healthy New Year. 2018 will be a great year for America!  Donald J. Trump (@realDonaldTrump) December 31, 2017Trump s tweet went down about as welll as you d expect.What kind of president sends a New Year s greeting like this despicable, petty, infantile gibberish? Only Trump! His lack of decency won t even allow him to rise above the gutter long enough to wish the American citizens a happy new year!  Bishop Talbert Swan (@TalbertSwan) December 31, 2017no one likes you  Calvin (@calvinstowell) December 31, 2017Your impeachment would make 2018 a great year for America, but I ll also accept regaining control of Congress.  Miranda Yaver (@mirandayaver) December 31, 2017Do you hear yourself talk? When you have to include that many people that hate you you have to wonder? Why do the they all hate me?  Alan Sandoval (@AlanSandoval13) December 31, 2017Who uses the word Haters in a New Years wish??  Marlene (@marlene399) December 31, 2017You can t just say happy new year?  Koren pollitt (@Korencarpenter) December 31, 2017Here s Trump s New Year s Eve tweet from 2016.Happy New Year to all, including to my many enemies and those who have fought me and lost so badly they just don t know what to do. Love!  Donald J. Trump (@realDonaldTrump) December 31, 2016This is nothing new for Trump. He s been doing this for years.Trump has directed messages to his  enemies  and  haters  for New Year s, Easter, Thanksgiving, and the anniversary of 9/11. pic.twitter.com/4FPAe2KypA  Daniel Dale (@ddale8) December 31, 2017Trump s holiday tweets are clearly not presidential.How long did he work at Hallmark before becoming President?  Steven Goodine (@SGoodine) December 31, 2017He s always been like this . . . the only difference is that in the last few years, his filter has been breaking down.  Roy Schulze (@thbthttt) December 31, 2017Who, apart from a teenager uses the term haters?  Wendy (@WendyWhistles) December 31, 2017he s a fucking 5 year old  Who Knows (@rainyday80) December 31, 2017So, to all the people who voted for this a hole thinking he would change once he got into power, you were wrong! 70-year-old men don t change and now he s a year older.Photo by Andrew Burton/Getty Images.",
         "News",
         "December 31, 2017"
        ],
        [
         "1",
         " Drunk Bragging Trump Staffer Started Russian Collusion Investigation",
         "House Intelligence Committee Chairman Devin Nunes is going to have a bad day. He s been under the assumption, like many of us, that the Christopher Steele-dossier was what prompted the Russia investigation so he s been lashing out at the Department of Justice and the FBI in order to protect Trump. As it happens, the dossier is not what started the investigation, according to documents obtained by the New York Times.Former Trump campaign adviser George Papadopoulos was drunk in a wine bar when he revealed knowledge of Russian opposition research on Hillary Clinton.On top of that, Papadopoulos wasn t just a covfefe boy for Trump, as his administration has alleged. He had a much larger role, but none so damning as being a drunken fool in a wine bar. Coffee boys  don t help to arrange a New York meeting between Trump and President Abdel Fattah el-Sisi of Egypt two months before the election. It was known before that the former aide set up meetings with world leaders for Trump, but team Trump ran with him being merely a coffee boy.In May 2016, Papadopoulos revealed to Australian diplomat Alexander Downer that Russian officials were shopping around possible dirt on then-Democratic presidential nominee Hillary Clinton. Exactly how much Mr. Papadopoulos said that night at the Kensington Wine Rooms with the Australian, Alexander Downer, is unclear,  the report states.  But two months later, when leaked Democratic emails began appearing online, Australian officials passed the information about Mr. Papadopoulos to their American counterparts, according to four current and former American and foreign officials with direct knowledge of the Australians  role. Papadopoulos pleaded guilty to lying to the F.B.I. and is now a cooperating witness with Special Counsel Robert Mueller s team.This isn t a presidency. It s a badly scripted reality TV show.Photo by Win McNamee/Getty Images.",
         "News",
         "December 31, 2017"
        ],
        [
         "2",
         " Sheriff David Clarke Becomes An Internet Joke For Threatening To Poke People ‘In The Eye’",
         "On Friday, it was revealed that former Milwaukee Sheriff David Clarke, who was being considered for Homeland Security Secretary in Donald Trump s administration, has an email scandal of his own.In January, there was a brief run-in on a plane between Clarke and fellow passenger Dan Black, who he later had detained by the police for no reason whatsoever, except that maybe his feelings were hurt. Clarke messaged the police to stop Black after he deplaned, and now, a search warrant has been executed by the FBI to see the exchanges.Clarke is calling it fake news even though copies of the search warrant are on the Internet. I am UNINTIMIDATED by lib media attempts to smear and discredit me with their FAKE NEWS reports designed to silence me,  the former sheriff tweeted.  I will continue to poke them in the eye with a sharp stick and bitch slap these scum bags til they get it. I have been attacked by better people than them #MAGA I am UNINTIMIDATED by lib media attempts to smear and discredit me with their FAKE NEWS reports designed to silence me. I will continue to poke them in the eye with a sharp stick and bitch slap these scum bags til they get it. I have been attacked by better people than them #MAGA pic.twitter.com/XtZW5PdU2b  David A. Clarke, Jr. (@SheriffClarke) December 30, 2017He didn t stop there.BREAKING NEWS! When LYING LIB MEDIA makes up FAKE NEWS to smear me, the ANTIDOTE is go right at them. Punch them in the nose & MAKE THEM TASTE THEIR OWN BLOOD. Nothing gets a bully like LYING LIB MEDIA S attention better than to give them a taste of their own blood #neverbackdown pic.twitter.com/T2NY2psHCR  David A. Clarke, Jr. (@SheriffClarke) December 30, 2017The internet called him out.This is your local newspaper and that search warrant isn t fake, and just because the chose not to file charges at the time doesn t mean they won t! Especially if you continue to lie. Months after decision not to charge Clarke, email search warrant filed https://t.co/zcbyc4Wp5b  KeithLeBlanc (@KeithLeBlanc63) December 30, 2017I just hope the rest of the Village People aren t implicated.  Kirk Ketchum (@kirkketchum) December 30, 2017Slaw, baked potatoes, or French fries? pic.twitter.com/fWfXsZupxy  ALT- Immigration   (@ALT_uscis) December 30, 2017pic.twitter.com/ymsOBLjfxU  Pendulum Swinger (@PendulumSwngr) December 30, 2017you called your police friends to stand up for you when someone made fun of your hat  Chris Jackson (@ChrisCJackson) December 30, 2017Is it me, with this masterful pshop of your hat, which I seem to never tire of. I think it s the steely resolve in your one visible eye pic.twitter.com/dWr5k8ZEZV  Chris Mohney (@chrismohney) December 30, 2017Are you indicating with your fingers how many people died in your jail? I think you re a few fingers short, dipshit  Ike Barinholtz (@ikebarinholtz) December 30, 2017ROFL. Internet tough guy with fake flair. pic.twitter.com/ulCFddhkdy  KellMeCrazy (@Kel_MoonFace) December 30, 2017You re so edgy, buddy.  Mrs. SMH (@MRSSMH2) December 30, 2017Is his break over at Applebees?  Aaron (@feltrrr2) December 30, 2017Are you trying to earn your  still relevant  badge?  CircusRebel (@CircusDrew) December 30, 2017make sure to hydrate, drink lots of water. It s rumored that prisoners can be denied water by prison officials.  Robert Klinc (@RobertKlinc1) December 30, 2017Terrill Thomas, the 38-year-old black man who died of thirst in Clarke s Milwaukee County Jail cell this April, was a victim of homicide. We just thought we should point that out. It can t be repeated enough.Photo by Spencer Platt/Getty Images.",
         "News",
         "December 30, 2017"
        ],
        [
         "3",
         " Trump Is So Obsessed He Even Has Obama’s Name Coded Into His Website (IMAGES)",
         "On Christmas day, Donald Trump announced that he would  be back to work  the following day, but he is golfing for the fourth day in a row. The former reality show star blasted former President Barack Obama for playing golf and now Trump is on track to outpace the number of golf games his predecessor played.Updated my tracker of Trump s appearances at Trump properties.71 rounds of golf including today s. At this pace, he ll pass Obama s first-term total by July 24 next year. https://t.co/Fg7VacxRtJ pic.twitter.com/5gEMcjQTbH  Philip Bump (@pbump) December 29, 2017 That makes what a Washington Post reporter discovered on Trump s website really weird, but everything about this administration is bizarre AF. The coding contained a reference to Obama and golf:  Unlike Obama, we are working to fix the problem   and not on the golf course.  However, the coding wasn t done correctly.The website of Donald Trump, who has spent several days in a row at the golf course, is coded to serve up the following message in the event of an internal server error: https://t.co/zrWpyMXRcz pic.twitter.com/wiQSQNNzw0  Christopher Ingraham (@_cingraham) December 28, 2017That snippet of code appears to be on all https://t.co/dkhw0AlHB4 pages, which the footer says is paid for by the RNC? pic.twitter.com/oaZDT126B3  Christopher Ingraham (@_cingraham) December 28, 2017It s also all over https://t.co/ayBlGmk65Z. As others have noted in this thread, this is weird code and it s not clear it would ever actually display, but who knows.  Christopher Ingraham (@_cingraham) December 28, 2017After the coding was called out, the reference to Obama was deleted.UPDATE: The golf error message has been removed from the Trump and GOP websites. They also fixed the javascript  =  vs  ==  problem. Still not clear when these messages would actually display, since the actual 404 (and presumably 500) page displays a different message pic.twitter.com/Z7dmyQ5smy  Christopher Ingraham (@_cingraham) December 29, 2017That suggests someone at either RNC or the Trump admin is sensitive enough to Trump s golf problem to make this issue go away quickly once people noticed. You have no idea how much I d love to see the email exchange that led us here.  Christopher Ingraham (@_cingraham) December 29, 2017 The code was f-cked up.The best part about this is that they are using the  =  (assignment) operator which means that bit of code will never get run. If you look a few lines up  errorCode  will always be  404          (@tw1trsux) December 28, 2017trump s coders can t code. Nobody is surprised.  Tim Peterson (@timrpeterson) December 28, 2017Donald Trump is obsessed with Obama that his name was even in the coding of his website while he played golf again.Photo by Joe Raedle/Getty Images.",
         "News",
         "December 29, 2017"
        ],
        [
         "4",
         " Pope Francis Just Called Out Donald Trump During His Christmas Speech",
         "Pope Francis used his annual Christmas Day message to rebuke Donald Trump without even mentioning his name. The Pope delivered his message just days after members of the United Nations condemned Trump s move to recognize Jerusalem as the capital of Israel. The Pontiff prayed on Monday for the  peaceful coexistence of two states within mutually agreed and internationally recognized borders. We see Jesus in the children of the Middle East who continue to suffer because of growing tensions between Israelis and Palestinians,  Francis said.  On this festive day, let us ask the Lord for peace for Jerusalem and for all the Holy Land. Let us pray that the will to resume dialogue may prevail between the parties and that a negotiated solution can finally be reached. The Pope went on to plead for acceptance of refugees who have been forced from their homes, and that is an issue Trump continues to fight against. Francis used Jesus for which there was  no place in the inn  as an analogy. Today, as the winds of war are blowing in our world and an outdated model of development continues to produce human, societal and environmental decline, Christmas invites us to focus on the sign of the Child and to recognize him in the faces of little children, especially those for whom, like Jesus,  there is no place in the inn,  he said. Jesus knows well the pain of not being welcomed and how hard it is not to have a place to lay one s head,  he added.  May our hearts not be closed as they were in the homes of Bethlehem. The Pope said that Mary and Joseph were immigrants who struggled to find a safe place to stay in Bethlehem. They had to leave their people, their home, and their land,  Francis said.  This was no comfortable or easy journey for a young couple about to have a child.   At heart, they were full of hope and expectation because of the child about to be born; yet their steps were weighed down by the uncertainties and dangers that attend those who have to leave their home behind. So many other footsteps are hidden in the footsteps of Joseph and Mary,  Francis said Sunday. We see the tracks of entire families forced to set out in our own day. We see the tracks of millions of persons who do not choose to go away, but driven from their land, leave behind their dear ones. Amen to that.Photo by Christopher Furlong/Getty Images.",
         "News",
         "December 25, 2017"
        ]
       ],
       "shape": {
        "columns": 4,
        "rows": 5
       }
      },
      "text/html": [
       "<div>\n",
       "<style scoped>\n",
       "    .dataframe tbody tr th:only-of-type {\n",
       "        vertical-align: middle;\n",
       "    }\n",
       "\n",
       "    .dataframe tbody tr th {\n",
       "        vertical-align: top;\n",
       "    }\n",
       "\n",
       "    .dataframe thead th {\n",
       "        text-align: right;\n",
       "    }\n",
       "</style>\n",
       "<table border=\"1\" class=\"dataframe\">\n",
       "  <thead>\n",
       "    <tr style=\"text-align: right;\">\n",
       "      <th></th>\n",
       "      <th>title</th>\n",
       "      <th>text</th>\n",
       "      <th>subject</th>\n",
       "      <th>date</th>\n",
       "    </tr>\n",
       "  </thead>\n",
       "  <tbody>\n",
       "    <tr>\n",
       "      <th>0</th>\n",
       "      <td>Donald Trump Sends Out Embarrassing New Year’...</td>\n",
       "      <td>Donald Trump just couldn t wish all Americans ...</td>\n",
       "      <td>News</td>\n",
       "      <td>December 31, 2017</td>\n",
       "    </tr>\n",
       "    <tr>\n",
       "      <th>1</th>\n",
       "      <td>Drunk Bragging Trump Staffer Started Russian ...</td>\n",
       "      <td>House Intelligence Committee Chairman Devin Nu...</td>\n",
       "      <td>News</td>\n",
       "      <td>December 31, 2017</td>\n",
       "    </tr>\n",
       "    <tr>\n",
       "      <th>2</th>\n",
       "      <td>Sheriff David Clarke Becomes An Internet Joke...</td>\n",
       "      <td>On Friday, it was revealed that former Milwauk...</td>\n",
       "      <td>News</td>\n",
       "      <td>December 30, 2017</td>\n",
       "    </tr>\n",
       "    <tr>\n",
       "      <th>3</th>\n",
       "      <td>Trump Is So Obsessed He Even Has Obama’s Name...</td>\n",
       "      <td>On Christmas day, Donald Trump announced that ...</td>\n",
       "      <td>News</td>\n",
       "      <td>December 29, 2017</td>\n",
       "    </tr>\n",
       "    <tr>\n",
       "      <th>4</th>\n",
       "      <td>Pope Francis Just Called Out Donald Trump Dur...</td>\n",
       "      <td>Pope Francis used his annual Christmas Day mes...</td>\n",
       "      <td>News</td>\n",
       "      <td>December 25, 2017</td>\n",
       "    </tr>\n",
       "  </tbody>\n",
       "</table>\n",
       "</div>"
      ],
      "text/plain": [
       "                                               title  \\\n",
       "0   Donald Trump Sends Out Embarrassing New Year’...   \n",
       "1   Drunk Bragging Trump Staffer Started Russian ...   \n",
       "2   Sheriff David Clarke Becomes An Internet Joke...   \n",
       "3   Trump Is So Obsessed He Even Has Obama’s Name...   \n",
       "4   Pope Francis Just Called Out Donald Trump Dur...   \n",
       "\n",
       "                                                text subject  \\\n",
       "0  Donald Trump just couldn t wish all Americans ...    News   \n",
       "1  House Intelligence Committee Chairman Devin Nu...    News   \n",
       "2  On Friday, it was revealed that former Milwauk...    News   \n",
       "3  On Christmas day, Donald Trump announced that ...    News   \n",
       "4  Pope Francis used his annual Christmas Day mes...    News   \n",
       "\n",
       "                date  \n",
       "0  December 31, 2017  \n",
       "1  December 31, 2017  \n",
       "2  December 30, 2017  \n",
       "3  December 29, 2017  \n",
       "4  December 25, 2017  "
      ]
     },
     "execution_count": 3,
     "metadata": {},
     "output_type": "execute_result"
    }
   ],
   "source": [
    "fake.head()"
   ]
  },
  {
   "cell_type": "code",
   "execution_count": 4,
   "id": "05415bc8",
   "metadata": {},
   "outputs": [
    {
     "data": {
      "application/vnd.microsoft.datawrangler.viewer.v0+json": {
       "columns": [
        {
         "name": "index",
         "rawType": "int64",
         "type": "integer"
        },
        {
         "name": "title",
         "rawType": "object",
         "type": "string"
        },
        {
         "name": "text",
         "rawType": "object",
         "type": "string"
        },
        {
         "name": "subject",
         "rawType": "object",
         "type": "string"
        },
        {
         "name": "date",
         "rawType": "object",
         "type": "string"
        }
       ],
       "ref": "1aea8437-f451-4dbc-aa10-dd450701a084",
       "rows": [
        [
         "0",
         "As U.S. budget fight looms, Republicans flip their fiscal script",
         "WASHINGTON (Reuters) - The head of a conservative Republican faction in the U.S. Congress, who voted this month for a huge expansion of the national debt to pay for tax cuts, called himself a “fiscal conservative” on Sunday and urged budget restraint in 2018. In keeping with a sharp pivot under way among Republicans, U.S. Representative Mark Meadows, speaking on CBS’ “Face the Nation,” drew a hard line on federal spending, which lawmakers are bracing to do battle over in January. When they return from the holidays on Wednesday, lawmakers will begin trying to pass a federal budget in a fight likely to be linked to other issues, such as immigration policy, even as the November congressional election campaigns approach in which Republicans will seek to keep control of Congress. President Donald Trump and his Republicans want a big budget increase in military spending, while Democrats also want proportional increases for non-defense “discretionary” spending on programs that support education, scientific research, infrastructure, public health and environmental protection. “The (Trump) administration has already been willing to say: ‘We’re going to increase non-defense discretionary spending ... by about 7 percent,’” Meadows, chairman of the small but influential House Freedom Caucus, said on the program. “Now, Democrats are saying that’s not enough, we need to give the government a pay raise of 10 to 11 percent. For a fiscal conservative, I don’t see where the rationale is. ... Eventually you run out of other people’s money,” he said. Meadows was among Republicans who voted in late December for their party’s debt-financed tax overhaul, which is expected to balloon the federal budget deficit and add about $1.5 trillion over 10 years to the $20 trillion national debt. “It’s interesting to hear Mark talk about fiscal responsibility,” Democratic U.S. Representative Joseph Crowley said on CBS. Crowley said the Republican tax bill would require the  United States to borrow $1.5 trillion, to be paid off by future generations, to finance tax cuts for corporations and the rich. “This is one of the least ... fiscally responsible bills we’ve ever seen passed in the history of the House of Representatives. I think we’re going to be paying for this for many, many years to come,” Crowley said. Republicans insist the tax package, the biggest U.S. tax overhaul in more than 30 years,  will boost the economy and job growth. House Speaker Paul Ryan, who also supported the tax bill, recently went further than Meadows, making clear in a radio interview that welfare or “entitlement reform,” as the party often calls it, would be a top Republican priority in 2018. In Republican parlance, “entitlement” programs mean food stamps, housing assistance, Medicare and Medicaid health insurance for the elderly, poor and disabled, as well as other programs created by Washington to assist the needy. Democrats seized on Ryan’s early December remarks, saying they showed Republicans would try to pay for their tax overhaul by seeking spending cuts for social programs. But the goals of House Republicans may have to take a back seat to the Senate, where the votes of some Democrats will be needed to approve a budget and prevent a government shutdown. Democrats will use their leverage in the Senate, which Republicans narrowly control, to defend both discretionary non-defense programs and social spending, while tackling the issue of the “Dreamers,” people brought illegally to the country as children. Trump in September put a March 2018 expiration date on the Deferred Action for Childhood Arrivals, or DACA, program, which protects the young immigrants from deportation and provides them with work permits. The president has said in recent Twitter messages he wants funding for his proposed Mexican border wall and other immigration law changes in exchange for agreeing to help the Dreamers. Representative Debbie Dingell told CBS she did not favor linking that issue to other policy objectives, such as wall funding. “We need to do DACA clean,” she said.  On Wednesday, Trump aides will meet with congressional leaders to discuss those issues. That will be followed by a weekend of strategy sessions for Trump and Republican leaders on Jan. 6 and 7, the White House said. Trump was also scheduled to meet on Sunday with Florida Republican Governor Rick Scott, who wants more emergency aid. The House has passed an $81 billion aid package after hurricanes in Florida, Texas and Puerto Rico, and wildfires in California. The package far exceeded the $44 billion requested by the Trump administration. The Senate has not yet voted on the aid. ",
         "politicsNews",
         "December 31, 2017 "
        ],
        [
         "1",
         "U.S. military to accept transgender recruits on Monday: Pentagon",
         "WASHINGTON (Reuters) - Transgender people will be allowed for the first time to enlist in the U.S. military starting on Monday as ordered by federal courts, the Pentagon said on Friday, after President Donald Trump’s administration decided not to appeal rulings that blocked his transgender ban. Two federal appeals courts, one in Washington and one in Virginia, last week rejected the administration’s request to put on hold orders by lower court judges requiring the military to begin accepting transgender recruits on Jan. 1. A Justice Department official said the administration will not challenge those rulings. “The Department of Defense has announced that it will be releasing an independent study of these issues in the coming weeks. So rather than litigate this interim appeal before that occurs, the administration has decided to wait for DOD’s study and will continue to defend the president’s lawful authority in District Court in the meantime,” the official said, speaking on condition of anonymity. In September, the Pentagon said it had created a panel of senior officials to study how to implement a directive by Trump to prohibit transgender individuals from serving. The Defense Department has until Feb. 21 to submit a plan to Trump. Lawyers representing currently-serving transgender service members and aspiring recruits said they had expected the administration to appeal the rulings to the conservative-majority Supreme Court, but were hoping that would not happen. Pentagon spokeswoman Heather Babb said in a statement: “As mandated by court order, the Department of Defense is prepared to begin accessing transgender applicants for military service Jan. 1. All applicants must meet all accession standards.” Jennifer Levi, a lawyer with gay, lesbian and transgender advocacy group GLAD, called the decision not to appeal “great news.” “I’m hoping it means the government has come to see that there is no way to justify a ban and that it’s not good for the military or our country,” Levi said. Both GLAD and the American Civil Liberties Union represent plaintiffs in the lawsuits filed against the administration. In a move that appealed to his hard-line conservative supporters, Trump announced in July that he would prohibit transgender people from serving in the military, reversing Democratic President Barack Obama’s policy of accepting them. Trump said on Twitter at the time that the military “cannot be burdened with the tremendous medical costs and disruption that transgender in the military would entail.” Four federal judges - in Baltimore, Washington, D.C., Seattle and Riverside, California - have issued rulings blocking Trump’s ban while legal challenges to the Republican president’s policy proceed. The judges said the ban would likely violate the right under the U.S. Constitution to equal protection under the law. The Pentagon on Dec. 8 issued guidelines to recruitment personnel in order to enlist transgender applicants by Jan. 1. The memo outlined medical requirements and specified how the applicants’ sex would be identified and even which undergarments they would wear. The Trump administration previously said in legal papers that the armed forces were not prepared to train thousands of personnel on the medical standards needed to process transgender applicants and might have to accept “some individuals who are not medically fit for service.” The Obama administration had set a deadline of July 1, 2017, to begin accepting transgender recruits. But Trump’s defense secretary, James Mattis, postponed that date to Jan. 1, 2018, which the president’s ban then put off indefinitely. Trump has taken other steps aimed at rolling back transgender rights. In October, his administration said a federal law banning gender-based workplace discrimination does not protect transgender employees, reversing another Obama-era position. In February, Trump rescinded guidance issued by the Obama administration saying that public schools should allow transgender students to use the restroom that corresponds to their gender identity. ",
         "politicsNews",
         "December 29, 2017 "
        ],
        [
         "2",
         "Senior U.S. Republican senator: 'Let Mr. Mueller do his job'",
         "WASHINGTON (Reuters) - The special counsel investigation of links between Russia and President Trump’s 2016 election campaign should continue without interference in 2018, despite calls from some Trump administration allies and Republican lawmakers to shut it down, a prominent Republican senator said on Sunday. Lindsey Graham, who serves on the Senate armed forces and judiciary committees, said Department of Justice Special Counsel Robert Mueller needs to carry on with his Russia investigation without political interference. “This investigation will go forward. It will be an investigation conducted without political influence,” Graham said on CBS’s Face the Nation news program. “And we all need to let Mr. Mueller do his job. I think he’s the right guy at the right time.”  The question of how Russia may have interfered in the election, and how Trump’s campaign may have had links with or co-ordinated any such effort, has loomed over the White House since Trump took office in January. It shows no sign of receding as Trump prepares for his second year in power, despite intensified rhetoric from some Trump allies in recent weeks accusing Mueller’s team of bias against the Republican president. Trump himself seemed to undercut his supporters in an interview last week with the New York Times in which he said he expected Mueller was “going to be fair.”    Russia’s role in the election and the question of possible links to the Trump campaign are the focus of multiple inquiries in Washington. Three committees of the Senate and the House of Representatives are investigating, as well as Mueller, whose team in May took over an earlier probe launched by the U.S. Federal Bureau of Investigation (FBI). Several members of the Trump campaign and administration have been convicted or indicted in the investigation.  Trump and his allies deny any collusion with Russia during the campaign, and the Kremlin has denied meddling in the election. Graham said he still wants an examination of the FBI’s use of a dossier on links between Trump and Russia that was compiled by a former British spy, Christopher Steele, which prompted Trump allies and some Republicans to question Mueller’s inquiry.   On Saturday, the New York Times reported that it was not that dossier that triggered an early FBI probe, but a tip from former Trump campaign foreign policy adviser George Papadopoulos to an Australian diplomat that Russia had damaging information about former Trump rival Hillary Clinton.  “I want somebody to look at the way the Department of Justice used this dossier. It bothers me greatly the way they used it, and I want somebody to look at it,” Graham said. But he said the Russia investigation must continue. “As a matter of fact, it would hurt us if we ignored it,” he said. ",
         "politicsNews",
         "December 31, 2017 "
        ],
        [
         "3",
         "FBI Russia probe helped by Australian diplomat tip-off: NYT",
         "WASHINGTON (Reuters) - Trump campaign adviser George Papadopoulos told an Australian diplomat in May 2016 that Russia had political dirt on Democratic presidential candidate Hillary Clinton, the New York Times reported on Saturday. The conversation between Papadopoulos and the diplomat, Alexander Downer, in London was a driving factor behind the FBI’s decision to open a counter-intelligence investigation of Moscow’s contacts with the Trump campaign, the Times reported. Two months after the meeting, Australian officials passed the information that came from Papadopoulos to their American counterparts when leaked Democratic emails began appearing online, according to the newspaper, which cited four current and former U.S. and foreign officials. Besides the information from the Australians, the probe by the Federal Bureau of Investigation was also propelled by intelligence from other friendly governments, including the British and Dutch, the Times said. Papadopoulos, a Chicago-based international energy lawyer, pleaded guilty on Oct. 30 to lying to FBI agents about contacts with people who claimed to have ties to top Russian officials. It was the first criminal charge alleging links between the Trump campaign and Russia. The White House has played down the former aide’s campaign role, saying it was “extremely limited” and that any actions he took would have been on his own. The New York Times, however, reported that Papadopoulos helped set up a meeting between then-candidate Donald Trump and Egyptian President Abdel Fattah al-Sisi and edited the outline of Trump’s first major foreign policy speech in April 2016. The federal investigation, which is now being led by Special Counsel Robert Mueller, has hung over Trump’s White House since he took office almost a year ago. Some Trump allies have recently accused Mueller’s team of being biased against the Republican president. Lawyers for Papadopoulos did not immediately respond to requests by Reuters for comment. Mueller’s office declined to comment. Trump’s White House attorney, Ty Cobb, declined to comment on the New York Times report. “Out of respect for the special counsel and his process, we are not commenting on matters such as this,” he said in a statement. Mueller has charged four Trump associates, including Papadopoulos, in his investigation. Russia has denied interfering in the U.S. election and Trump has said there was no collusion between his campaign and Moscow. ",
         "politicsNews",
         "December 30, 2017 "
        ],
        [
         "4",
         "Trump wants Postal Service to charge 'much more' for Amazon shipments",
         "SEATTLE/WASHINGTON (Reuters) - President Donald Trump called on the U.S. Postal Service on Friday to charge “much more” to ship packages for Amazon (AMZN.O), picking another fight with an online retail giant he has criticized in the past.     “Why is the United States Post Office, which is losing many billions of dollars a year, while charging Amazon and others so little to deliver their packages, making Amazon richer and the Post Office dumber and poorer? Should be charging MUCH MORE!” Trump wrote on Twitter.  The president’s tweet drew fresh attention to the fragile finances of the Postal Service at a time when tens of millions of parcels have just been shipped all over the country for the holiday season.  The U.S. Postal Service, which runs at a big loss, is an independent agency within the federal government and does not receive tax dollars for operating expenses, according to its website.  Package delivery has become an increasingly important part of its business as the Internet has led to a sharp decline in the amount of first-class letters. The president does not determine postal rates. They are set by the Postal Regulatory Commission, an independent government agency with commissioners selected by the president from both political parties. That panel raised prices on packages by almost 2 percent in November.  Amazon was founded by Jeff Bezos, who remains the chief executive officer of the retail company and is the richest person in the world, according to Bloomberg News. Bezos also owns The Washington Post, a newspaper Trump has repeatedly railed against in his criticisms of the news media. In tweets over the past year, Trump has said the “Amazon Washington Post” fabricated stories. He has said Amazon does not pay sales tax, which is not true, and so hurts other retailers, part of a pattern by the former businessman and reality television host of periodically turning his ire on big American companies since he took office in January. Daniel Ives, a research analyst at GBH Insights, said Trump’s comment could be taken as a warning to the retail giant. However, he said he was not concerned for Amazon. “We do not see any price hikes in the future. However, that is a risk that Amazon is clearly aware of and (it) is building out its distribution (system) aggressively,” he said. Amazon has shown interest in the past in shifting into its own delivery service, including testing drones for deliveries. In 2015, the company spent $11.5 billion on shipping, 46 percent of its total operating expenses that year.  Amazon shares were down 0.86 percent to $1,175.90 by early afternoon. Overall, U.S. stock prices were down slightly on Friday.  Satish Jindel, president of ShipMatrix Inc, which analyzes shipping data, disputed the idea that the Postal Service charges less than United Parcel Service Inc (UPS.N) and FedEx Corp (FDX.N), the other biggest players in the parcel delivery business in the United States. Many customers get lower rates from UPS and FedEx than they would get from the post office for comparable services, he said. The Postal Service delivers about 62 percent of Amazon packages, for about 3.5 to 4 million a day during the current peak year-end holiday shipping season, Jindel said. The Seattle-based company and the post office have an agreement in which mail carriers take Amazon packages on the last leg of their journeys, from post offices to customers’ doorsteps. Amazon’s No. 2 carrier is UPS, at 21 percent, and FedEx is third, with 8 percent or so, according to Jindel. Trump’s comment tapped into a debate over whether Postal Service pricing has kept pace with the rise of e-commerce, which has flooded the mail with small packages.Private companies like UPS have long claimed the current system unfairly undercuts their business. Steve Gaut, a spokesman for UPS, noted that the company values its “productive relationship” with the postal service, but that it has filed with the Postal Regulatory Commission its concerns about the postal service’s methods for covering costs. Representatives for Amazon, the White House, the U.S. Postal Service and FedEx declined comment or were not immediately available for comment on Trump’s tweet. According to its annual report, the Postal Service lost $2.74 billion this year, and its deficit has ballooned to $61.86 billion.  While the Postal Service’s revenue for first class mail, marketing mail and periodicals is flat or declining, revenue from package delivery is up 44 percent since 2014 to $19.5 billion in the fiscal year ended Sept. 30, 2017. But it also lost about $2 billion in revenue when a temporary surcharge expired in April 2016. According to a Government Accountability Office report in February, the service is facing growing personnel expenses, particularly $73.4 billion in unfunded pension and benefits liabilities. The Postal Service has not announced any plans to cut costs. By law, the Postal Service has to set prices for package delivery to cover the costs attributable to that service. But the postal service allocates only 5.5 percent of its total costs to its business of shipping packages even though that line of business is 28 percent of its total revenue. ",
         "politicsNews",
         "December 29, 2017 "
        ]
       ],
       "shape": {
        "columns": 4,
        "rows": 5
       }
      },
      "text/html": [
       "<div>\n",
       "<style scoped>\n",
       "    .dataframe tbody tr th:only-of-type {\n",
       "        vertical-align: middle;\n",
       "    }\n",
       "\n",
       "    .dataframe tbody tr th {\n",
       "        vertical-align: top;\n",
       "    }\n",
       "\n",
       "    .dataframe thead th {\n",
       "        text-align: right;\n",
       "    }\n",
       "</style>\n",
       "<table border=\"1\" class=\"dataframe\">\n",
       "  <thead>\n",
       "    <tr style=\"text-align: right;\">\n",
       "      <th></th>\n",
       "      <th>title</th>\n",
       "      <th>text</th>\n",
       "      <th>subject</th>\n",
       "      <th>date</th>\n",
       "    </tr>\n",
       "  </thead>\n",
       "  <tbody>\n",
       "    <tr>\n",
       "      <th>0</th>\n",
       "      <td>As U.S. budget fight looms, Republicans flip t...</td>\n",
       "      <td>WASHINGTON (Reuters) - The head of a conservat...</td>\n",
       "      <td>politicsNews</td>\n",
       "      <td>December 31, 2017</td>\n",
       "    </tr>\n",
       "    <tr>\n",
       "      <th>1</th>\n",
       "      <td>U.S. military to accept transgender recruits o...</td>\n",
       "      <td>WASHINGTON (Reuters) - Transgender people will...</td>\n",
       "      <td>politicsNews</td>\n",
       "      <td>December 29, 2017</td>\n",
       "    </tr>\n",
       "    <tr>\n",
       "      <th>2</th>\n",
       "      <td>Senior U.S. Republican senator: 'Let Mr. Muell...</td>\n",
       "      <td>WASHINGTON (Reuters) - The special counsel inv...</td>\n",
       "      <td>politicsNews</td>\n",
       "      <td>December 31, 2017</td>\n",
       "    </tr>\n",
       "    <tr>\n",
       "      <th>3</th>\n",
       "      <td>FBI Russia probe helped by Australian diplomat...</td>\n",
       "      <td>WASHINGTON (Reuters) - Trump campaign adviser ...</td>\n",
       "      <td>politicsNews</td>\n",
       "      <td>December 30, 2017</td>\n",
       "    </tr>\n",
       "    <tr>\n",
       "      <th>4</th>\n",
       "      <td>Trump wants Postal Service to charge 'much mor...</td>\n",
       "      <td>SEATTLE/WASHINGTON (Reuters) - President Donal...</td>\n",
       "      <td>politicsNews</td>\n",
       "      <td>December 29, 2017</td>\n",
       "    </tr>\n",
       "  </tbody>\n",
       "</table>\n",
       "</div>"
      ],
      "text/plain": [
       "                                               title  \\\n",
       "0  As U.S. budget fight looms, Republicans flip t...   \n",
       "1  U.S. military to accept transgender recruits o...   \n",
       "2  Senior U.S. Republican senator: 'Let Mr. Muell...   \n",
       "3  FBI Russia probe helped by Australian diplomat...   \n",
       "4  Trump wants Postal Service to charge 'much mor...   \n",
       "\n",
       "                                                text       subject  \\\n",
       "0  WASHINGTON (Reuters) - The head of a conservat...  politicsNews   \n",
       "1  WASHINGTON (Reuters) - Transgender people will...  politicsNews   \n",
       "2  WASHINGTON (Reuters) - The special counsel inv...  politicsNews   \n",
       "3  WASHINGTON (Reuters) - Trump campaign adviser ...  politicsNews   \n",
       "4  SEATTLE/WASHINGTON (Reuters) - President Donal...  politicsNews   \n",
       "\n",
       "                 date  \n",
       "0  December 31, 2017   \n",
       "1  December 29, 2017   \n",
       "2  December 31, 2017   \n",
       "3  December 30, 2017   \n",
       "4  December 29, 2017   "
      ]
     },
     "execution_count": 4,
     "metadata": {},
     "output_type": "execute_result"
    }
   ],
   "source": [
    "true.head()"
   ]
  },
  {
   "cell_type": "code",
   "execution_count": 5,
   "id": "03aba4eb",
   "metadata": {},
   "outputs": [],
   "source": [
    "fake['class']=0\n",
    "true['class']=1"
   ]
  },
  {
   "cell_type": "code",
   "execution_count": 6,
   "id": "f42ef589",
   "metadata": {},
   "outputs": [],
   "source": [
    "data = pd.concat([fake,true], axis = 0)"
   ]
  },
  {
   "cell_type": "code",
   "execution_count": 7,
   "id": "a3e2472a",
   "metadata": {},
   "outputs": [
    {
     "data": {
      "application/vnd.microsoft.datawrangler.viewer.v0+json": {
       "columns": [
        {
         "name": "index",
         "rawType": "int64",
         "type": "integer"
        },
        {
         "name": "title",
         "rawType": "object",
         "type": "string"
        },
        {
         "name": "text",
         "rawType": "object",
         "type": "string"
        },
        {
         "name": "subject",
         "rawType": "object",
         "type": "string"
        },
        {
         "name": "date",
         "rawType": "object",
         "type": "string"
        },
        {
         "name": "class",
         "rawType": "int64",
         "type": "integer"
        }
       ],
       "ref": "795ca377-4fd7-45be-b493-7d51c2dd58b4",
       "rows": [
        [
         "20337",
         "Iraqi Kurdish official says Iraqi vote rejecting Kurdish independence referendum is non-binding",
         "ERBIL, Iraq (Reuters) - A vote by Iraq s parliament to reject the results of this month s Iraqi Kurdish independence vote was non-binding, a high-ranking Kurdish official told Reuters on Tuesday.  The Kurdish parliament will definitely have a response to the resolution when it convenes on Thursday,  said Hoshyar Zebari, former Iraqi foreign and finance minister and now a senior adviser to Kurdistan Regional Government (KRG) President Massoud Barzani. Zebari said Kurdish lawmakers would convene for the first time since October 2015. ",
         "worldnews",
         "September 12, 2017 ",
         "1"
        ],
        [
         "17180",
         "New Zealand's kingmaker party sets Thursday to unveil result of talks to form government",
         "WELLINGTON (Reuters) - New Zealand s small nationalist party, which holds the balance of power after last month s inconclusive elections, will make an announcement on Thursday on the result of talks with the two major parties to form the next government. The move should put an end to weeks of political uncertainty in the small Pacific island nation, after neither major party won enough seats on Sept. 23 to form a government, leaving both courting the leader of New Zealand First, Winston Peters.  New Zealand First will be in a position tomorrow afternoon to make an announcement on the result of negotiations following the 2017 general election,  the party said in a statement. Thursday s event could also shed light on the economic direction for New Zealand, since both the National Party and the Labour Party differ on immigration and trade, key sources of the country s robust growth in recent years. Peters has held lengthy talks with both National, which has been in power for nearly a decade, and opposition Labour, but has kept his cards close to his chest regarding coalition prospects. Peters has notified the leaders of both parties about Thursday s announcement, the statement added. The New Zealand dollar, already under pressure earlier on Wednesday, briefly fell to the day s low of $0.7153 after the statement.  If it goes down the path of a Labour-Green coalition, we can expect the kiwi will probably come under far greater pressure, purely on the basis that that is a complete unknown,  said Stuart Ive, a dealer at OM Financial.  If it s announced that a National coalition is being formed, we can probably see the kiwi pick back up again,  in a short relief rally before markets return to focusing on economic fundamentals, he added, using the currency s nickname. NZ First has more in common with Labour on the policy front, as both want to rein in immigrants and foreign ownership, change certain trade deals and adjust the central bank s mandate. But some analysts say a two-way coalition with National would be more straightforward than a three-way coalition with Labour and the Greens. Labour needs the seats of both the Greens and New Zealand First to reach a majority in parliament.  ",
         "worldnews",
         "October 17, 2017 ",
         "1"
        ],
        [
         "12388",
         "Jewish groups in Germany urge crackdown on anti-Semitic acts",
         "BERLIN (Reuters) - Jewish groups in Germany are pressing the authorities to crack down on anti-Semitic acts following the burning of Jewish symbols and Israeli flags at protests. The American Jewish Committee Berlin, the JSUD group of Jewish university students, the Central Council of Jews in Germany, and the German-Israeli Society have called for tougher law enforcement and for new laws to make it easier to ban or disband anti-Semitic demonstrations. Chancellor Angela Merkel and other top German officials have  condemned anti-Semitic acts seen at demonstrations against U.S. President Donald Trump s decision to recognize Jerusalem as the capital of Israel, and vowed to prosecute illegal acts. The American Jewish Committee Berlin said a new study by an Indiana University professor showed broader efforts were also needed to fight anti-Semitic attitudes among Muslim migrants from Syria and Iraq. German has opened its borders to more than 1 million migrants mainly fleeing Middle East wars since 2015, sparking concerns about a further bump in already increasing anti-Semitism.  Politicians must guarantee that anti-Semitic attitudes will not be tolerated and that infractions to laws and regulations will be prosecuted,  said the group s director, Deidre Berger. She reiterated a longstanding call for the German government to appoint an anti-Semitism commissioner to focus attention on the issue. German Justice Minister Heiko Maas and Berlin Mayor Michael Mueller vowed during a menorah lighting at the Brandenburg Gate on Tuesday to combat all forms of anti-Semitism, while demonstrators continued to voice anger at the U.S. move at a separate event near Berlin s main train station. The Central Council of Muslims in Germany has also condemned anti-Semitic actions. Indiana University s Guenther Jikeli, the author of the study, said group interviews of 68 migrants aged 18 to 52 conducted last year revealed widespread anti-Semitic attitudes. They showed rejection of the state of Israel and ignorance about the murder of 6 million Jews in Europe by the Nazis during World War Two, he said.  There are strong anti-Semitic views among refugees that need to be addressed because otherwise they could become the norm,  he told Reuters TV. Kurds and other refugees persecuted as minorities in their home countries had more nuanced views and more clearly rejected anti-Semitism and anti-Israeli perspectives, he said. Fabian Weissbarth, spokesman for AJC, said the study should spur efforts to tackle anti-Semitism among migrants to ensure the findings were not misused by anti-immigrant far-right groups like the Alternative for Germany (AfD) party.  If we don t address it as a society, then the AfD will, and that will lead to hate and incitement,  he said.  We need a differentiated view that recognizes that not all refugees are the same, and we need to look at solutions, such as integration measures, what needs to be included in integration courses, and changes in how social workers and politicians react.  ",
         "worldnews",
         "December 13, 2017 ",
         "1"
        ],
        [
         "601",
         " #TrumpChicken Is Now Trending And These Tweets Are Hilarious (IMAGES)",
         "Earlier today, CBS News and other outlets noticed something strange going on behind the White House. Someone had put up a giant, inflatable chicken that resembled Donald Trump. Now, the hashtag #TrumpChicken is at the top of Twitter s trending list, and for good reason.So many people find the whole thing hilarious. It s probably a good thing that Trump isn t actually in the White House to see it right now, although it s a good bet that, if he knows about it, he s fuming.And the popularity of #TrumpChicken on Twitter won t help that. Not at all.Gotta love a giant #TrumpChicken representing a guy overcompensating for a tiny cock  ?Tara Dublin ? (@taradublinrocks) August 9, 2017#TrumpChicken #FollowTheMoney #Trumprussia #TREASON #Focus #TrumpLies #TrumpRussianCoverUp #TrumpTaxes #Manafort #Kushner #DonaldTrumpJr pic.twitter.com/7w4z5ZAcP5  =^.^= Kare =^.^= (@Kare_P) August 9, 2017#trumpchicken impeach then deep fry.  scott7 (@scottpw7) August 9, 2017#OverHeardDownOnTheFarm? Even #TrumpChicken ? Gets Higher Ratings Than .@CNN pic.twitter.com/JV2bEzAK6K  JoeKnows1972 (@Joe48430) August 9, 2017Protesters install a giant inflatable Trump chicken & it is now glaring at the White House. #TrumpChicken trending. https://t.co/ZWqnCoLAPK pic.twitter.com/aluqOUJ9VB  Live News Cloud   (@livenewscloud) August 9, 2017Petition to get #TrumpChicken in the @Macys Thanksgiving Day Parade this year? pic.twitter.com/35gGEEejDs  Doug Burgess III (@dougiemagic) August 9, 2017Why did #TrumpChicken cross the road ? Because Vladimir Putin told him to !  Bernieforspeaker (@bernie4speaker) August 9, 2017#TrumpChicken pic.twitter.com/rclgVjPIcC  CherryTheTart (@CherryTheTart) August 9, 2017Trump Seeing #TrumpChicken: The people they understand I m one of them and that I love chicken. An incredible bird, so bigly in taste. pic.twitter.com/RWOZ0EIXEj  Jen Saunderson (@JenSaunderson) August 9, 2017#CNN Breaking #DonaldTrump SCREWS #GOP #TrumpCare, #TaxReform,#TrumpChicken and #Guam #AC360 #GOPinCRISIS @UniteBlue pic.twitter.com/oNWS9x9qyc  Town Post.. (@ReneNow) August 9, 2017The cost of #TrumpChicken: $1,300.The cost of seeing it outside the White House: priceless. pic.twitter.com/SyARthjiCY  AJ+ (@ajplus) August 9, 2017Chicken Fashion Face-Off: Who Wore it Better? This giant inflatable chicken with golden hair pops up behind the White House #TrumpChicken pic.twitter.com/r1kmfmCsq3  Latrice Butts (@latricebutts) August 9, 2017Who ordered the chicken?#TrumpChicken @realDonaldTrump #trump pic.twitter.com/0WzVhl9hPv  Chooch Manicotti (@ChoochManicott1) August 9, 2017If #TrumpChicken was moved into the Oval Office would anyone even notice the difference? #ImpeachTrumpNow  wazzucoug99 (@wazzucoug99) August 9, 2017#TrumpChicken won the popular vote in a landslide. pic.twitter.com/DILU03ofAH  Marie Connor (@thistallawkgirl) August 9, 2017BREAKING: Approval rating for inflated #TrumpChicken now at 98%. pic.twitter.com/NmjIXmxfQA  The Hummingbird (@SaysHummingbird) August 9, 2017? @realDonaldTrump, your spirit animal is doing an OUTSTANDING JOB of filling in as @POTUS for you, while you re on vacation. #TrumpChicken pic.twitter.com/JmqWgr1Lz1  Portland Beer (@Portland_Beer) August 9, 2017Is Trump going to declare war on chickens? Build a wall to keep out chickens? Unleash power like we ve never seen on chickens? #trumpchicken  Miller s Forehead (@Antyinbr) August 9, 2017From this angle, it looks like the #TrumpChicken is out in the bushes with Sean Spicer ? pic.twitter.com/URA5tGjwsR  Kat (@KMR31871) August 9, 2017I honestly think the #TrumpChicken has a better approval rating than @realDonaldTrump. https://t.co/GkzhDenjMU  Jenn Compton (@Ryde2Win) August 10, 2017BREAKING: Two Big Cocks stare at each other near the #Whitehouse. #TrumpChicken #TrumpVsChicken https://t.co/OOX3Tm7Xra  Hobo Crackerbags (@HoboCrackerbags) August 10, 2017But of course, there are also the butthurt Trump fans who think this is petty:Amazing that people using inflatables to express themselves/insult another, feel they would do a better job as #POTUS. #TrumpChicken  William Whatever (@Billyw1093) August 10, 2017#TrumpChicken is just more proof #TheLeftCantMeme  Bedauerlich Mek (@RebelMechaniker) August 10, 2017#TrumpChicken Progressive r so weak! Thank GOD Trump is President! I dare North Korea 2 mess with US! They become a parking lot in 15 mins  CindyC Fire Fury (@Dmsrcmc12Bob) August 10, 2017#TrumpChicken you libtard Democrats are a bunch of clucking chickens  nick price (@nickprice91) August 10, 2017Losers bring Inflatable Trump Chicken to the WH even though the Donald Duck Mascot did nothing to Hillary win. #TrumpChicken  Shelzii (@sherman3111) August 10, 2017Read more:Featured image via Pax Ahimsa Gethen, CC BY-SA 4.0, Wikimedia Commons",
         "News",
         "August 9, 2017",
         "0"
        ],
        [
         "109",
         "Factbox: What's in the final U.S. Republican tax bill",
         "(Reuters) - The U.S. Congress is expected to vote this week on sweeping, debt-financed tax legislation. Here are key parts of the bill. CORPORATE TAX RATE: Cuts corporate income tax rate to 21 percent from 35 percent, beginning Jan. 1, 2018. PASS-THROUGHS: Creates a 20 percent deduction for the first $315,000 of qualified business income for joint filers of pass-through businesses such as partnerships and sole proprietorships. For income above that threshold, the legislation phases in limits, producing an effective marginal tax rate of no more than 29.6 percent.   CORPORATE MINIMUM TAX: Repeals the 20 percent corporate alternative minimum tax, set up to ensure profitable corporations pay at least some tax. TERRITORIAL SYSTEM: Exempts U.S. corporations from U.S. taxes on most future foreign profits, ending the present worldwide system of taxing profits of all U.S.-based corporations, no matter where they are earned. This would align the U.S. tax code with most other industrialized nations, undercut many offshore tax-dodging strategies and deliver to multinationals a goal they have pursued for years.  REPATRIATION: Sets a one-time mandatory tax of 8 percent on illiquid assets and 15.5 percent on cash and cash equivalents for about $2.6 trillion in U.S. business profits now held overseas. This foreign cash pile was created by a rule making foreign profits tax-deferred if they are not brought into the United States, or repatriated. That rule would be rendered obsolete by the territorial system. ANTI-BASE EROSION MEASURES: Prevents companies from shifting profits out of the United States to lower-tax jurisdictions abroad. Sets an alternative minimum tax on payments between U.S. corporations and foreign affiliates, and limits on shifting corporate income through transfers of intangible property, including patents. In combination, these measures with the repatriation and territorial system provisions, represent a dramatic overhaul of the U.S. tax system for multinationals. CAPITAL EXPENSING: Allows businesses to immediately write off, or expense, the full value of investments in new plant and equipment for five years, then gradually eliminates this 100 percent expensing over five years beginning in year six. INTEREST DEDUCTION LIMIT: Caps business deductions for debt interest payments at 30 percent of taxable income, regardless of deductions for depreciation, amortization or depletion.  CLEAN ENERGY: Preserves tax credits for producing electricity from wind, biomass, geothermal, solar, municipal waste and hydropower. CARRIED INTEREST: Leaves in place “carried interest” loophole for private equity fund managers and some hedge fund managers, despite pledges by Republicans including President Donald Trump to close it. These financiers can now claim a lower capital gains tax rate on much of their income from investments held more than a year. A new rule would extend that holding period to three years, putting the loophole out of reach for some fund managers, but preserving its availability for many.   BRACKETS: Maintains the current seven tax brackets, but temporarily changes most of the income levels and rates. For married couples filing jointly, effective Jan. 1, 2018 and ending in 2026, income tax would be: 10 percent up to $19,050, versus 10 percent up to $18,650 under existing law; 12 percent on $19,051 to $77,400, versus 15 percent on$18,651 to $75,900; 22 percent on $77,401 to $165,000, versus 25 percent on $75,901 to $153,100; 24 percent on $165,001 to $315,000, versus 28 percent on $153,101 to $233,350; 32 percent on $315,001 to $400,000, versus 33 percent on $233,351 to $416,700; 35 percent on $400,001 to $600,000, versus 35 percent on $416,701 to $470,700 37 percent above $600,000, versus 39.6 percent above$470,700. For single individuals, effective Jan. 1, 2018 and ending in 2026, income tax would be: 10 percent up to $9,525, versus 10 percent up to $9,325 under existing law; 12 percent from $9,526 to $38,700, versus 15 percent on $9,326 to $37,950; 22 percent on $38,701 to $82,500, versus 25 percent on $37,951 to $91,900; 24 percent on $82,501 to $157,500, versus 28 percent on $91,901 to $191,650; 32 percent on $157,501 to $200,000, versus 33 percent on $191,651 to $416,700; 35 percent on $200,001 to $500,000, versus 35 percent on $416,701 to $418,400; 37 percent above $500,000, versus 39.6 percent above $418,400. These brackets would expire after 2025. STANDARD DEDUCTION: In a change expected to end itemizing of deductions for millions of Americans, the bill for eight years beginning on Jan. 1, 2018 would increase the standard deduction - a fixed amount that can be subtracted from adjusted gross income to lower taxable income - to $12,000 from $6,350 for individuals, and to $24,000 from $12,700 for married couples. CHILD TAX CREDIT: Doubles the child tax credit to $2,000 per dependent child under age 17, with a refundable portion of $1,400. The refundable portion allows families to lower their tax bills to zero and receive a refund for the remaining value. PERSONAL EXEMPTION: Temporarily eliminates the $4,050 individual personal exemption. Under present law, taxpayers who earn below certain income caps can subtract this fixed dollar amount from their adjusted gross incomes to lower their taxable incomes. Generally, one exemption has been allowed per individual, spouse and child or other dependent. This would take effect Jan. 1, 2018, but then the personal exemption would return in 2026.  INHERITANCES: Raises the exemption for estate and gift taxes to $10 million from $5 million per person and indexes the new exemption level for inflation after 2011. That means even fewer Americans would pay the estate tax, but it would stay on the books. MORTGAGES: For residences bought from Jan. 1, 2018, through Dec. 31, 2025, the bill caps the deduction for mortgage interest at $750,000 in home loan value. After Dec. 31, 2025, the cap would revert to $1 million in loan value. Suspends the deduction for interest on home equity loans from Jan. 1, 2018 until 2026. OBAMACARE MANDATE: Repeals a federal fine imposed on Americans under Obamacare for not obtaining health insurance coverage, a change expected to undermine the 2010 healthcare law.   ANWR DRILLING: Allows oil drilling in Alaska’s Arctic National Wildlife Refuge. ",
         "politicsNews",
         "December 16, 2017 ",
         "1"
        ],
        [
         "6177",
         " WATCH: Kimmel Tells Hypocrite Trump He’s ‘Full Of Sh*t’ To His Face",
         "Donald Trump s past support of Hillary Clinton came back to bite him on the ass during an appearance on Jimmy Kimmel Live.During the Wednesday night broadcast, Kimmel introduced presumptive Republican nominee Trump and after briefly chiding him for his taco bowl tweet on Cinco de Mayo proceeded to ask him if he really thought his campaign for the presidency would ever get this far. When you started all this, I just have to believe that you thought  This will be fun, it ll be a four month thing  and you never imagined it would go this far. Is that true?  Kimmel asked.Trump replied that he didn t think his campaign would come out on top so quickly. He thought there would end up being two conventions with one in July and one in August to determine the GOP nominee. Trump also claimed that he believed Hillary would have won the Democratic nomination long before now, but said he enjoys watching her.Kimmel then asked Trump if he is  enjoying the Hillary/Bernie struggle.  Well I do,  Trump said. And then Trump failed to see the irony as called the battle between to two Democrats  nasty  and that he hates to see that. It s getting nasty,  Trump continued.  I had no idea it was going to be so nasty. And you hate that,  Kimmel replied.  You don t like that. Yeah, I hate to see it,  Trump answered.  I hate to see it. Donald Trump s campaign is one of the nastiest in American political history, perhaps only topped by the 1828 Election.At rally after rally, Trump has spewed violent rhetoric, encouraged intimidation, and launched racist and sexist attacks against anyone who opposes him, including Hillary Clinton, whose husband has been the latest target of vicious attacks by Trump.The mentioning of Hillary Clinton, however, gave Kimmel the opportunity to hilariously hit Trump with statements he made about Hillary in 2008 and 2012. In 2008 you said you thought Hillary  would make an excellent president  and as recently as 2012 you said you thought she was  terrific.' Kimmel asked Trump to explain why he made those remarks and what has changed.Trump claimed that he says good things about all politicians as a businessman, to which Kimmel replied,  So you were full of shit when you said that. Trump could only shake his head in agreement and smile.Here s the video via YouTube.Kimmel definitely caught Trump with a brilliantly laid out trap.Featured Image: Screenshot",
         "News",
         "May 26, 2016",
         "0"
        ],
        [
         "6154",
         "Trump, in Oval Office, signs first order on Obamacare",
         "WASHINGTON (Reuters) - President Donald Trump directed government agencies on Friday to freeze regulations and take steps to weaken Obamacare, using his first hours in the White House to make good on a campaign promise to start dismantling his predecessor’s healthcare law. Heading into the Oval Office shortly after the conclusion of his inaugural parade, Trump signed an order on the Affordable Care Act that urged government departments to “waive, defer, grant exemptions from, or delay the implementation” of provisions that imposed fiscal burdens on states, companies or individuals. It also called for efforts to give states greater flexibility in implementing healthcare programs while developing “a free and open market in interstate commerce for the offering of healthcare services and health insurance.” Health experts had speculated that Trump could expand exemptions from the so-called individual mandate, which requires Americans to carry insurance or face a penalty, or the requirement that employers offer coverage.  Experts also believe the administration could try to reduce the “essential benefits,” such as maternity care and mental health services, that insurance plans must cover. The White House did not provide further details about the executive order. Trump’s spokesman Sean Spicer said the White House also directed an immediate regulatory freeze for all government agencies in a memo from Trump’s chief of staff, Reince Priebus. He did not offer details. Repealing and replacing the Affordable Care Act, one of former President Barack Obama’s signature laws, was a central pledge for Trump during the presidential election campaign. Republicans in the U.S. Congress have not yet laid out a plan to recast the insurance program. In a hastily arranged ceremony, surrounded by some of his aides, Trump sat behind the presidential Resolute Desk and signed the order. He also signed commissions for his newly confirmed defense secretary, James Mattis, and his homeland security secretary, John Kelly. Trump spoke briefly about his day with reporters. “It was busy, but good. It was a beautiful day,” he said. Vice President Mike Pence then swore in Mattis and Kelly in a separate ceremony. There were other signs of change in the Oval Office, which Obama vacated on Friday morning. Golden drapes hung where crimson ones had earlier in the day and new furniture dotted the room. ",
         "politicsNews",
         "January 21, 2017 ",
         "1"
        ],
        [
         "21363",
         "Defense Secretary Mattis promises support to Ukraine, says reviewing lethal aid",
         "KIEV (Reuters) - U.S. Defense Secretary Jim Mattis on a visit to Ukraine on Thursday said Washington would keep up pressure on Russia over what he called its aggressive behavior and signaled his personal support for providing weapons to Kiev. Mattis said Russia had not abided by the Minsk ceasefire agreement meant to end the separatist conflict in eastern Ukraine and that the United States would maintain sanctions on Moscow.    Despite Russia s denials, we know they are seeking to redraw international borders by force, undermining the sovereign and free nations of Europe,  Mattis told reporters, alongside Ukrainian President Petro Poroshenko. Mattis s visit, timed for Ukrainian Independence Day, is the second high-profile show of U.S. support in as many months, after U.S. Secretary of State Rex Tillerson came to Kiev in July.    Ukraine has counted on U.S. support against Russia since a pro-Western government took power following street protests in 2014 when the Kremlin-backed president fled the country. But some of President Donald Trump s comments during the election campaign last year, such as appearing to recognize Crimea as part of Russia, stoked fears in Kiev that Trump might mend ties with Moscow at Ukraine s expense. While emphasizing Trump had yet to take a decision on the issue, Mattis signaled his personal support for a longstanding Ukrainian request for defensive weapons, which could include anti-tank Javelin missiles and anti-aircaft systems. Mattis also played down fears, voiced by the previous White House administration under Barack Obama, that supplying weapons could escalate the situation.   On the defensive lethal weapons, we are actively reviewing it, I will go back now having seen the current situation and be able to inform the secretary of state and the president in very specific terms what I recommend for the direction ahead,  Mattis said.  Defensive weapons are not provocative unless you are an aggressor and clearly Ukraine is not an aggressor since it is their own territory where the fighting is happening,  Mattis said. Poroshenko said he was  satisfied  with the progress on discussions about weapons, and also said he and Mattis had discussed the possibility of a U.N.-backed armed force being sent to eastern Ukraine. Relations between Ukraine and Russia went into freefall after Moscow s annexation of Crimea in 2014 and the subsequent outbreak of a Kremlin-backed separatist insurgency in eastern Ukraine that has killed more than 10,000 people. Russia denies sending troops and weapons to eastern Ukraine.  According to U.S. officials, a plan to provide defensive weapons to Ukraine has made its way to the White House but has not been signed. Thus far the Pentagon says it has provided $750 million in non-lethal aid to Ukraine since 2015, which includes radars and uniforms. Supplying weapons  will be a huge boost of support to Ukraine,  said Michael Carpenter, a former deputy assistant secretary of defense for the region. Carpenter said the weapons under discussion cannot effectively be used to take territory, which means providing them would help stabilize the situation. U.S. Senator John McCain, chairman of the Senate Armed Service Committee, also pressed the Trump administration to act.   Secretary Mattis  visit to Kiev provides yet another opportunity for the United States to correct its policy toward Ukraine and provide the lethal defensive assistance the country needs to defend its sovereignty and territorial integrity,  McCain said in a statement on Wednesday.  Mattis  strong words against Moscow on Thursday are likely to reassure eastern European allies who are concerned about Russia s military activity in region, including planned war games in September. Russia and Belarus aim to hold joint exercises that some North Atlantic Treaty Organization allies believe could number more than 100,000 troops and involve nuclear weapons training, the biggest such exercise since 2013. Earlier this year, Estonia s defense minister said Russia may use the exercises to move thousands of troops permanently into Belarus in a warning to NATO. Russia has dismissed Western worries about the war games as  buffoonery . ",
         "worldnews",
         "August 24, 2017 ",
         "1"
        ],
        [
         "2612",
         " WATCH: Colbert Asks Tapper How CNN Staff Feels About Their Feud With Trump; His Response Is PERFECT",
         "Donald Trump is no fan of CNN. He has repeatedly tried to discredit and delegitimize the network, even going so far as to call them fake news and refuse to answer a question from one of their reporters during the only press conference he has held since Inauguration Day.Well, one of CNN s best anchors, Jake Tapper, who hosts The Lead and State of the Union, stopped by the Late Show with Stephen Colbert on Wednesday night, and of course the topic of Trump came up. More specifically, the topic of CNN s relationship with Trump came up. After the niceties were exchanged Colbert started out by reading a list of insulting adjectives that Trump had used to describe the network, then went on to ask Tapper: Why are you so mean to him, Jake? If you guys just didn t fact-check him anymore, he wouldn t be saying these things about you. Tapper responded: That s a good point. Then, Colbert went on to say: What s it like in the halls over there knowing that the president actively doesn t like your network? Tapper then delivered the best   and presumably honest   zinger that would really hit home for Trump: I don t think anybody cares. Now, this is important because Trump NEEDS people to care about him, how he feels, what he says, what he thinks. As Tapper points out, it is not a reporter s job to be liked. It is a reporter s job to hold people accountable. Now that we have a president and a White House that actively lies on a routine basis to the American public, it s vital to the survival of our democracy that Tapper and those like him continue to fact-check Trump, no matter how many insane insults he throws at them.The relevant part comes a couple of minutes into the following video, but the entire interview is beyond awesome:Featured image via video screen capture",
         "News",
         "February 9, 2017",
         "0"
        ],
        [
         "21304",
         "U.S. navy recovers remains of all sailors missing after USS McCain collision",
         "SINGAPORE (Reuters) - The U.S. Navy on Monday confirmed recovery of the remains of all  10 sailors killed after the warship John S. McCain collided with a merchant vessel in waters near Singapore and Malaysia.  The guided-missile destroyer collided with the Alnic MC east of Singapore last week while approaching the city state on a routine port visit.  The U.S. navy and marine corps divers have now recovered the remains of all 10 USS John S.McCain sailors,  the Seventh Fleet said in a statement on its website.  The news follows the navy s Thursday announcement that it had suspended wider search and rescue operations after finding and identifying the remains of one sailor. The navy found the remains of missing sailors inside sealed sections of the damaged hull of the warship, which is moored at Singapore s Changi Naval Base.  The incident is under investigation to determine the facts and circumstances of the collision,  the statement added. Aircraft, divers and vessels from Australia, Indonesia, Malaysia, Singapore, and the United States joined a search-and-rescue operation for the missing sailors over an area of about 5,500 sq. km. (2,124 square miles) around the crash site. The pre-dawn collision, the fourth major accident for the U.S. Pacific Fleet this year, has prompted a review of its operations. The Navy has removed Seventh Fleet Commander Vice Admiral Joseph Aucoin from his post, citing  a loss of confidence in his ability to command  after the run of accidents. Rear Admiral Phil Sawyer takes command of the fleet from Aucoin, who had been due to step down next month.  The U.S. navy has also flagged plans for temporary and staggered halts in operations across its global fleet to allow staff to focus on safety. In a one-day operational pause last Wednesday, officers and crew of Seventh Fleet ships deployed at a facility in Yokosuka, Japan, received fresh training in risk management and communications. The Seventh Fleet, headquartered in Japan, operates as many as 70 ships, including the U.S. navy s only forward-deployed aircraft carrier, and has about 140 aircraft and 20,000 sailors. ",
         "worldnews",
         "August 28, 2017 ",
         "1"
        ],
        [
         "11304",
         "Syrian Kurds say Russia has promised they can attend Sochi talks",
         "BEIRUT (Reuters) - Russia has promised that the autonomous region controlled by Kurds in northern Syria will be represented at peace talks it is hosting next month, the commander of the main Syrian Kurdish militia was cited as saying on Wednesday.      Moscow has said 155 representatives of the autonomous region will participate, Sipan Hemo, the commander of the YPG, was quoted as saying by official Syrian Kurdish social media channels on Wednesday.  Kurdish groups have not taken part in any round of Syrian peace talks so far despite their control of more than a quarter of Syria. Turkey opposes their involvement in talks. Moscow backs Syrian President Bashar al-Assad in Syria s six-year-old civil war while Turkey opposes him.  But Ankara views the YPG as a terrorist group affiliated to the Kurdish PKK, which has waged an insurgency in Turkey for decades.  Russia, Iran and Turkey announced the Jan. 29-30 dates for the talks in the Black Sea resort of Sochi date after a round of peace talks in Kazakhstan last week, but did not say who would participate. Turkish President Tayyip Erdogan on Wednesday called Assad a terrorist and said it was impossible for Syrian peace efforts to continue with him. Syria responded that Erdogan himself supported terrorist groups fighting in Syria. About 40 Syrian rebel groups, including factions that have taken part in other rounds of peace talks, said on Monday they would refuse to attend the Sochi congress. Russia is the most powerful supporter of Assad. Its jets have helped him bring the rebellion against his rule near to an end, and rebels say Moscow has put no pressure on him to find a political solution.  U.N. Syria envoy Staffan de Mistura has said that the success of the congress should be assessed by its ability to contribute to and support the U.N.-led Geneva talks on ending the war.  ",
         "worldnews",
         "December 27, 2017 ",
         "1"
        ],
        [
         "3936",
         "U.S. House passes bill to fund government through September",
         "WASHINGTON (Reuters) - The U.S. House of Representatives on Wednesday passed a $1.2 trillion spending bill to fund the government through September and avoid federal agency shutdowns on Saturday when existing money is depleted. With the 309-118 vote in the Republican-controlled chamber, the legislation now goes to the Senate, which is expected to pass it before a midnight Friday deadline. The Pentagon is a big winner in the legislation, with defense spending rising significantly. While the bill cleared the House easily, dozens more Democrats voted for it than Republicans, many of whom oppose most spending measures. This was the first major legislation to pass the House this year with bipartisan support and marks Republican President Donald Trump’s first legislative victory, even though he railed against some of its provisions. The legislation bulks up federal funding for border security but does not pay for starting construction on a U.S.-Mexico border wall that Trump promised to keep out illegal immigrants and drugs. Trump had said he would make Mexico pay for the wall, but the Mexican government refused, making it necessary for the new administration to ask Congress for the money. Democrats and many Republicans have argued that a wall is an ineffective and wasteful way of securing the southern border. Another battle over the barrier is expected when Congress tries to pass a spending bill for the fiscal year starting Oct. 1. Trump already has begun focusing on that upcoming fight. In a tweet on Tuesday, he taunted lawmakers, saying, “Our country needs a good ‘shutdown’ in September to fix mess!” The legislation would add $12.5 billion this fiscal year for the Pentagon, with another $2.5 billion available after Trump gives details on his plans for defeating the Islamic State militant group. It ignores many of the spending cuts on domestic programs the White House had sought and adds $2 billion for the National Institutes of Health, $295 million for Puerto Rico’s underfunded Medicaid healthcare for the poor and $407 million to fight fires in Western states. But the legislation is late in coming. The fiscal year began last Oct. 1 and for the last seven months federal agencies have been operating mainly on simple extensions of the previous year’s funding and the priorities that came with that. ",
         "politicsNews",
         "May 3, 2017 ",
         "1"
        ],
        [
         "17280",
         "THE STATE THAT GETS MORE REFUGEES THAN ANY OTHER IN AMERICA MAY SURPRISE YOU",
         "Here s one sure way to turn a solidly  red  state  blue In Fiscal year 2014, Texas resettled 7,234 refugees. However, that doesn t tell the whole story because according to the Texas Dept. of State Health Services (an excellent source of information on refugees in Texas), the actual number of migrants legally being treated as refugees last year was really 12,800 (up 24% from the previous year!).The website also tells you which counties got the most refugees.The 12,800 includes refugees, asylees, parolees, special immigrant visa holders (these are Afghans and Iraqis), and victims of trafficking.They hailed from 58 countries (therefore Texas taxpayers are on the hook for many expensive translators gratis a Bill Clinton executive order for all sorts of reasons access to health care, school system problems and the criminal justice system).When I went to several different sources, I find that over 150,000 refugees have been resettled in Texas since 1983, and that number doesn t include secondary migrants from other states (Dallas County got the most secondary migrants last year 60% of all those arriving in Texas).And, of course, it doesn t include all of the children produced in three decades! Nor does it include the thousands of  unaccompanied alien children  that may not have been distributed around the nation from last year s border invasion. Obama would like nothing more than to have them declared  refugees  as well (refugees get all forms of welfare upon arrival!).The top resettlement cities in Texas are (resettlement is not limited to these sites, dozens and dozens of smaller cities and towns are receiving refugees):AbileneAmarilloAustinCorpus ChristiDallasEl PasoFort WorthHoustonSan AntonioFor new readers, you might want to have a look at our archive on Amarillo which has developed into a  pocket of resistance  as the mayor there has asked the federal government to slow the flow since the school system is suffering with the influx of non-English speaking children many of whom are illiterate in their own language. The meatpacking industry is responsible for much of the resettlement to Amarillo (hunger for cheap labor!).The top nations from which Texas received refugees in 2014 were in this order: Iraq, Cuba, Burma, Afghanistan, and tied for 5th place Somalia and Bhutan(Nepal).So when did Texas move into the number one spot in the nation?For years and years other states ranked above Texas including California, New York and Florida. According to this very cool graph (above right), it was in 2011 that Texas gained this dubious distinction.And, if you are wondering why the number dipped in 2011, this is why: That year it was learned that Iraqi terrorists disguised as refugees were arrested in Kentucky. Turns out the pair had lied (can you believe it, they lied!) on their refugee application and it was only when they were found to be planning on helping Al-Qaeda in Iraq was it discovered that one of them had left fingerprints on an IED shard that was warehoused by the US military. The shard came from an IED that had killed Pennsylvania National Guard troops. They are in prison for life.The arrest threw the Refugee Admissions Program of the US State Department into chaos because they had to re-screen thousands and thousands of Iraqis headed to America. Iraqis make up the largest ethnic group we are admitting to America now at a rate of about 20,000 a year. The majority are Muslims (both Shiites and Sunnis as we import their centuries old squabble to your towns!).IT S PROBABLY NO ACCIDENT THAT BARACK OBAMA GAVE THE  Teacher of the year  award to Shanna Peoples,  A high school English teacher from Amarillo, Texas, who works with refugees:In order to question this 35-year-old legal immigration program, you must first get the facts!* Read our Fact Sheet, here. Open and read all the links in this post!* Go to the Texas Department of State Health Services website and learn all you can about the refugees coming to Texas. Don t miss the stats on their health conditions (refugees are admitted with TB, HepB, HIV and parasites).* You have a State Refugee Coordinator and her name is Caitriona Lyons (she is Irish, btw), call her and ask her to direct you to the Texas refugee plan. Here is a description of the plan and the legal requirement that every state have one (and they must keep it current). Ask her to direct you to it and read it!Remember in Texas your governor does have a say in what happens with refugee resettlement! Where has he been?Via: Refugee Resettlement Watch",
         "Government News",
         "Jun 11, 2015",
         "0"
        ],
        [
         "18707",
         "HILLARY GIVES HILARIOUS Reason For Losing Election: “I Was On The Way To Winning” [VIDEO]",
         "The Media Research Center recently published a study showing that 91% of the coverage Donald Trump received during his campaign was considered negative or  hostile .Was it even necessary to prove that almost all of candidate Trump s media coverage was negative or  hostile  compared to Hillary Clinton s?  For the most part, the media mocked anyone who even suggested Hillary had a part in the Benghazi attack that took the lives of 4 innocent Americans. They ignored and even laughed at the brave victims who came forward and publicly accused Hillary of  enabling  her sexual predator husband, while referring to her as a  champion of women and girls . The media did everything in their power to push Hillary s email scandal to the bottom of the news pile, but were finally forced to address it when FBI Director James Comey came forward and announced his investigation into her unsecured email server that was being used for official State Department business.After several months of keeping a pretty low profile, Hillary is coming out with excuses about why she lost the election. The timing is a bit suspicious however after an inside account of Hillary s disastrous campaign was just released by an insider who wrote a tell-all book titled  Shattered  that offers a less than charitable view of the real Hillary Clinton.Watch Hillary in her latest video, as she hilariously blames the press for losing the election:Here s the second part of Hillary s appearance where she tells the crowd she was on her  way to victory  until FBI Director James Comey ruined it for her:Politico   In addition to receiving far more network coverage, the networks spent far more airtime focusing on the personal controversies involving Trump, such as his treatment of women, than controversies surrounding Clinton, such as her email practices or the Clinton Foundation.For the study, MRC analyzed all 588 evening news stories that either discussed or mentioned the presidential campaign on the ABC, CBS and NBC evening newscasts from July 29 through October 20 (including weekends). Of the total newscasts, the networks devoted 29 percent of their time to the campaign. The study did not include comments from the campaigns or candidates themselves, instead focusing on what the correspondents, anchors, expert commentators, and voters on the street said in order to try and hone in on any sort of slant from the networks.Though neither candidate was necessarily celebrated, Clinton largely just stayed out of the line of fire. Even when they were critical of Hillary Clinton   for concealing her pneumonia, for example, or mischaracterizing the FBI investigation of her e-mail server   network reporters always maintained a respectful tone in their coverage,  the study found.  This was not the case with Trump, who was slammed as embodying  the politics of fear,  or a  dangerous  and  vulgar   misogynistic bully  who had insulted vast swaths of the American electorate. It doesn t really surprise me, I think most people got the sense that this was a hostile place for Trump, the establishment media,  said Rich Noyes, director of research for the MRC.  I would say looking at the big picture, the Trump campaign and to a lesser extent Republicans in general wanted this to be a referendum on Obama   the Clinton campaign, the Democrats, once Trump was picked wanted this be a referendum on Donald Trump. Television news has for the past 12 weeks has been giving the Democrats the campaign they wanted. ",
         "left-news",
         "May 2, 2017",
         "0"
        ],
        [
         "10287",
         "TOP TRUMP OFFICIAL Follows His Boss’ Lead…Won’t Take Huge Salary",
         "While campaigning for president, Donald Trump announced he would not take a salary if he were elected. True to his word, President Trump has donated his $400,000 annual salary to various government agencies of his choosing.In April, Trump donated his first-quarter salary of $78,333.32 to the National Park Service to fund the agency s battlefield preservation efforts, a program that is currently $229 million behind in deferred costs. Two days ago, President Trump donated $100,000 to the Education Department to help fund a STEM-focused camp for students according to Fortune.Power couple and top aides to the president, Ivanka Trump and her husband Jared Kushner have also declined government salaries for their positions. Today, the Daily Caller announced a new top Trump administration official would not be taking a salary for his job.White House communications director Anthony Scaramucci won t take a salary for his new job, a White House official told The Daily Caller.In the new role as a senior White House aide, Scaramucci could earn $179,000 annually.Scaramucci, a New York financier, made millions before entering the White House.A financial disclosure form he filled out for his previous post as chief strategy officer at the Export-Import Bank showed that Scaramucci made about ten million between January 1 and the end of June from his investment firm SkyBridge Capital, according to Politico.Scaramucci did not take a salary for his role at the Ex-Im Bank, which would have been $172,100 annually.   Daily Caller ",
         "politics",
         "Jul 28, 2017",
         "0"
        ],
        [
         "16767",
         "EU will lose credibility if it tolerates direct rule of Catalonia by Madrid: regional official",
         "LONDON (Reuters) - The European Union will lose credibility if it lets Madrid impose direct rule on Catalonia, and only the Catalan people have the right to change the regional institutions, Catalonia s foreign affairs spokesman said on Monday.  How can the European Union live with that situation if it appears?  Raul Romeva told BBC radio, when asked how the Catalan regional government would prevent the Spanish government from re-imposing direct rule.   How can they be credible if they allow this to happen? Because what I can tell you is that the people and the institutions in Catalonia would not let this ... happen.  ",
         "worldnews",
         "October 23, 2017 ",
         "1"
        ],
        [
         "18948",
         "MEXICANS, Liberal Tourists NOT HAPPY! American Spring Breakers Chant “Build That Wall!” In Cancun, Mexico",
         "In the past, high school kids have had to worry about getting into the college of their choice, if pictures of them overindulging in adult beverages while on spring break were posted to social media. Today, college students may have to worry about the treatment they ll receive if their college or college professors see pictures or videos of them showing their support for President Trump while on spring break.https://twitter.com/Lexi1095/status/843094566207131649What would be a dream night for Suly and Anaximandro Amable, a newly married couple who went to Cancun for their honeymoon, became a bitter experience on Monday March 13.During a family show on the high seas, young American spring breakers began to sing the controversial  Build That Wall  chant, which shocked Mexican national tourists and workers.This is just one of the many blameworthy behaviors that young spring breakers have shown recently in Cancun and that are described as acts of xenophobia and discrimination against Mexicans within their own country, which is (or should be) totally unacceptable.Anaximandro, from Per , made the following statement on social networks:  Today I was with Suly, my wife (who is a native of Mexico), watching an entertainment show off the coast of Cancun aboard a boat, and at the end of the show, a flock of Americans (maybe under the influence of alcohol, or maybe not), began to sing the infamous  Build that wall  chant louder and louder .The  Pirate Ship  sails out from Puerto Juarez, and the show takes place in the middle of the ocean, where attendees can witness the clashing of swords and the explosion of cannons along with a constant flow of drinks.For entire story: The Yucatan Times ",
         "left-news",
         "Mar 19, 2017",
         "0"
        ],
        [
         "12974",
         "DUMB AS A ROCK…Gary Johnson On NYC, MN Terror Attacks: “I’m Just Grateful That Nobody Got Hurt” [VIDEO]",
         "Saturday s bomb blast in New York City injured 29 people, and 9 more people were stabbed by the Muslim attacker in St. Cloud, MN. on the same day. Not to worry though,  Aleppo Gary  is on top of it and he s  just glad no one got hurt. Could you just put the bong down until the campaign s over Gary? ",
         "politics",
         "Sep 18, 2016",
         "0"
        ],
        [
         "903",
         " Trudeau HUMILIATES Trump, Openly Prefers To Speak To Other U.S. Officials Instead",
         "Canadian Prime Minister Justin Trudeau has, like the rest of the world, seen the outrage that is Donald Trump occupying the American presidency over the last six months. He likely also has the same disgusted opinion of the job Trump is doing, not to mention his vulgarity, his lies and conspiracy theories, and his all around unfitness for the office he holds. That sort of thing just might be why Prime Minister Trudeau has shown he has no f*cks left to give when it comes to Trump, and has decided that, instead of talking to Trump, he will instead speak to more competent American government officials instead. To that end, Trudeau will become the first Canadian Prime Minister in history to speak to the National Governor s Association. He says of the move: No countries share a closer bond than Canada and the United States. Each day, hundreds of thousands of people cross the border to work, travel or visit loved ones. Ever more integrated supply chains draw our economies closer together, bringing jobs and prosperity to Canadians and Americans alike. I will continue to work with all orders of the U.S. government to create good, middle class jobs on both sides of the border, and to find solutions to the challenges we face together. While Trudeau has, as any dignified leader would,  remained civil with Trump, it is clear that the two will not be close at all. Trudeau sees Trump for the buffoon that he is, and has criticized him for his promotion of crude nationalism, his views on climate change, and other topics.This is a clear signal that Trudeau has no use for Trump. He simply has to tolerate the orange one until he is either removed from office or his term expires. Until then, it seems Trudeau will simply go around Trump and deal with other (read: sane and qualified) United States government officials. Personally, I think it s a wise move, because dealing with Trump would be nothing short of maddening, and it certainly would not serve the interests of people in Canada or anywhere else in the world.Featured image via Drew Angerer/Getty Images",
         "News",
         "July 8, 2017",
         "0"
        ],
        [
         "7568",
         " WATCH: Sarah Silverman Hilariously Demolishes Trump On Conan",
         "Adolf Hitler isn t enthused about being compared to Republican front runner Donald Trump, according to comedian Sarah Silverman, who dressed up as the Nazi dictator and made an appearance on Conan. After being introduced, Silverman-as-Hitler said: Wow, look at that! I have to say, that s more applause than I expected. Don t get me wrong, Conan. I agree with a lot he says   a lot. Like 90 percent of what he says, I m like, this guy gets it, but I don t like the way he says it. It s crass. In reference to a recent GOP debate when Rubio poked fun of Trump s hands and implicitly referred to the size of his penis, Silverman-as-Hitler had this to say: What kind of person talks about his penis size on national television? Oh yeah, I m so sure Donald Trump has a big penis. I famously have a micro penis. That s what makes a tyrant. Anyway, all these comparisons to Trump, it s like, it bums me out. You know what I mean? Sometimes I watch him and I m like,  Is that how people see me?' Watch the clip here:Trump has received a barrage of criticism, some comparing him to the notorious dictator including Louis CK, who said,  he is dangerous. Mexican President Enrique Pe a Nieto said Trump s campaign had similarities to the rise of the Nazi leader.In an interview with Good Morning America, Trump said of the comparisons:It s a terrible comparison. I m not happy about that, certainly. I don t want that comparison. But you know we have to be strong, and we have to be vigilant. People agree with that. We don t want to lose our jobs to China. And we don t want to lose our jobs to Mexico and Japan, If Trump doesn t want such comparisons, then he should stop propagating in ways that remind the world of the notorious Nazi dictator.",
         "News",
         "March 11, 2016",
         "0"
        ]
       ],
       "shape": {
        "columns": 5,
        "rows": 20
       }
      },
      "text/html": [
       "<div>\n",
       "<style scoped>\n",
       "    .dataframe tbody tr th:only-of-type {\n",
       "        vertical-align: middle;\n",
       "    }\n",
       "\n",
       "    .dataframe tbody tr th {\n",
       "        vertical-align: top;\n",
       "    }\n",
       "\n",
       "    .dataframe thead th {\n",
       "        text-align: right;\n",
       "    }\n",
       "</style>\n",
       "<table border=\"1\" class=\"dataframe\">\n",
       "  <thead>\n",
       "    <tr style=\"text-align: right;\">\n",
       "      <th></th>\n",
       "      <th>title</th>\n",
       "      <th>text</th>\n",
       "      <th>subject</th>\n",
       "      <th>date</th>\n",
       "      <th>class</th>\n",
       "    </tr>\n",
       "  </thead>\n",
       "  <tbody>\n",
       "    <tr>\n",
       "      <th>20337</th>\n",
       "      <td>Iraqi Kurdish official says Iraqi vote rejecti...</td>\n",
       "      <td>ERBIL, Iraq (Reuters) - A vote by Iraq s parli...</td>\n",
       "      <td>worldnews</td>\n",
       "      <td>September 12, 2017</td>\n",
       "      <td>1</td>\n",
       "    </tr>\n",
       "    <tr>\n",
       "      <th>17180</th>\n",
       "      <td>New Zealand's kingmaker party sets Thursday to...</td>\n",
       "      <td>WELLINGTON (Reuters) - New Zealand s small nat...</td>\n",
       "      <td>worldnews</td>\n",
       "      <td>October 17, 2017</td>\n",
       "      <td>1</td>\n",
       "    </tr>\n",
       "    <tr>\n",
       "      <th>12388</th>\n",
       "      <td>Jewish groups in Germany urge crackdown on ant...</td>\n",
       "      <td>BERLIN (Reuters) - Jewish groups in Germany ar...</td>\n",
       "      <td>worldnews</td>\n",
       "      <td>December 13, 2017</td>\n",
       "      <td>1</td>\n",
       "    </tr>\n",
       "    <tr>\n",
       "      <th>601</th>\n",
       "      <td>#TrumpChicken Is Now Trending And These Tweet...</td>\n",
       "      <td>Earlier today, CBS News and other outlets noti...</td>\n",
       "      <td>News</td>\n",
       "      <td>August 9, 2017</td>\n",
       "      <td>0</td>\n",
       "    </tr>\n",
       "    <tr>\n",
       "      <th>109</th>\n",
       "      <td>Factbox: What's in the final U.S. Republican t...</td>\n",
       "      <td>(Reuters) - The U.S. Congress is expected to v...</td>\n",
       "      <td>politicsNews</td>\n",
       "      <td>December 16, 2017</td>\n",
       "      <td>1</td>\n",
       "    </tr>\n",
       "    <tr>\n",
       "      <th>6177</th>\n",
       "      <td>WATCH: Kimmel Tells Hypocrite Trump He’s ‘Ful...</td>\n",
       "      <td>Donald Trump s past support of Hillary Clinton...</td>\n",
       "      <td>News</td>\n",
       "      <td>May 26, 2016</td>\n",
       "      <td>0</td>\n",
       "    </tr>\n",
       "    <tr>\n",
       "      <th>6154</th>\n",
       "      <td>Trump, in Oval Office, signs first order on Ob...</td>\n",
       "      <td>WASHINGTON (Reuters) - President Donald Trump ...</td>\n",
       "      <td>politicsNews</td>\n",
       "      <td>January 21, 2017</td>\n",
       "      <td>1</td>\n",
       "    </tr>\n",
       "    <tr>\n",
       "      <th>21363</th>\n",
       "      <td>Defense Secretary Mattis promises support to U...</td>\n",
       "      <td>KIEV (Reuters) - U.S. Defense Secretary Jim Ma...</td>\n",
       "      <td>worldnews</td>\n",
       "      <td>August 24, 2017</td>\n",
       "      <td>1</td>\n",
       "    </tr>\n",
       "    <tr>\n",
       "      <th>2612</th>\n",
       "      <td>WATCH: Colbert Asks Tapper How CNN Staff Feel...</td>\n",
       "      <td>Donald Trump is no fan of CNN. He has repeated...</td>\n",
       "      <td>News</td>\n",
       "      <td>February 9, 2017</td>\n",
       "      <td>0</td>\n",
       "    </tr>\n",
       "    <tr>\n",
       "      <th>21304</th>\n",
       "      <td>U.S. navy recovers remains of all sailors miss...</td>\n",
       "      <td>SINGAPORE (Reuters) - The U.S. Navy on Monday ...</td>\n",
       "      <td>worldnews</td>\n",
       "      <td>August 28, 2017</td>\n",
       "      <td>1</td>\n",
       "    </tr>\n",
       "    <tr>\n",
       "      <th>11304</th>\n",
       "      <td>Syrian Kurds say Russia has promised they can ...</td>\n",
       "      <td>BEIRUT (Reuters) - Russia has promised that th...</td>\n",
       "      <td>worldnews</td>\n",
       "      <td>December 27, 2017</td>\n",
       "      <td>1</td>\n",
       "    </tr>\n",
       "    <tr>\n",
       "      <th>3936</th>\n",
       "      <td>U.S. House passes bill to fund government thro...</td>\n",
       "      <td>WASHINGTON (Reuters) - The U.S. House of Repre...</td>\n",
       "      <td>politicsNews</td>\n",
       "      <td>May 3, 2017</td>\n",
       "      <td>1</td>\n",
       "    </tr>\n",
       "    <tr>\n",
       "      <th>17280</th>\n",
       "      <td>THE STATE THAT GETS MORE REFUGEES THAN ANY OTH...</td>\n",
       "      <td>Here s one sure way to turn a solidly  red  st...</td>\n",
       "      <td>Government News</td>\n",
       "      <td>Jun 11, 2015</td>\n",
       "      <td>0</td>\n",
       "    </tr>\n",
       "    <tr>\n",
       "      <th>18707</th>\n",
       "      <td>HILLARY GIVES HILARIOUS Reason For Losing Elec...</td>\n",
       "      <td>The Media Research Center recently published a...</td>\n",
       "      <td>left-news</td>\n",
       "      <td>May 2, 2017</td>\n",
       "      <td>0</td>\n",
       "    </tr>\n",
       "    <tr>\n",
       "      <th>10287</th>\n",
       "      <td>TOP TRUMP OFFICIAL Follows His Boss’ Lead…Won’...</td>\n",
       "      <td>While campaigning for president, Donald Trump ...</td>\n",
       "      <td>politics</td>\n",
       "      <td>Jul 28, 2017</td>\n",
       "      <td>0</td>\n",
       "    </tr>\n",
       "    <tr>\n",
       "      <th>16767</th>\n",
       "      <td>EU will lose credibility if it tolerates direc...</td>\n",
       "      <td>LONDON (Reuters) - The European Union will los...</td>\n",
       "      <td>worldnews</td>\n",
       "      <td>October 23, 2017</td>\n",
       "      <td>1</td>\n",
       "    </tr>\n",
       "    <tr>\n",
       "      <th>18948</th>\n",
       "      <td>MEXICANS, Liberal Tourists NOT HAPPY! American...</td>\n",
       "      <td>In the past, high school kids have had to worr...</td>\n",
       "      <td>left-news</td>\n",
       "      <td>Mar 19, 2017</td>\n",
       "      <td>0</td>\n",
       "    </tr>\n",
       "    <tr>\n",
       "      <th>12974</th>\n",
       "      <td>DUMB AS A ROCK…Gary Johnson On NYC, MN Terror ...</td>\n",
       "      <td>Saturday s bomb blast in New York City injured...</td>\n",
       "      <td>politics</td>\n",
       "      <td>Sep 18, 2016</td>\n",
       "      <td>0</td>\n",
       "    </tr>\n",
       "    <tr>\n",
       "      <th>903</th>\n",
       "      <td>Trudeau HUMILIATES Trump, Openly Prefers To S...</td>\n",
       "      <td>Canadian Prime Minister Justin Trudeau has, li...</td>\n",
       "      <td>News</td>\n",
       "      <td>July 8, 2017</td>\n",
       "      <td>0</td>\n",
       "    </tr>\n",
       "    <tr>\n",
       "      <th>7568</th>\n",
       "      <td>WATCH: Sarah Silverman Hilariously Demolishes...</td>\n",
       "      <td>Adolf Hitler isn t enthused about being compar...</td>\n",
       "      <td>News</td>\n",
       "      <td>March 11, 2016</td>\n",
       "      <td>0</td>\n",
       "    </tr>\n",
       "  </tbody>\n",
       "</table>\n",
       "</div>"
      ],
      "text/plain": [
       "                                                   title  \\\n",
       "20337  Iraqi Kurdish official says Iraqi vote rejecti...   \n",
       "17180  New Zealand's kingmaker party sets Thursday to...   \n",
       "12388  Jewish groups in Germany urge crackdown on ant...   \n",
       "601     #TrumpChicken Is Now Trending And These Tweet...   \n",
       "109    Factbox: What's in the final U.S. Republican t...   \n",
       "6177    WATCH: Kimmel Tells Hypocrite Trump He’s ‘Ful...   \n",
       "6154   Trump, in Oval Office, signs first order on Ob...   \n",
       "21363  Defense Secretary Mattis promises support to U...   \n",
       "2612    WATCH: Colbert Asks Tapper How CNN Staff Feel...   \n",
       "21304  U.S. navy recovers remains of all sailors miss...   \n",
       "11304  Syrian Kurds say Russia has promised they can ...   \n",
       "3936   U.S. House passes bill to fund government thro...   \n",
       "17280  THE STATE THAT GETS MORE REFUGEES THAN ANY OTH...   \n",
       "18707  HILLARY GIVES HILARIOUS Reason For Losing Elec...   \n",
       "10287  TOP TRUMP OFFICIAL Follows His Boss’ Lead…Won’...   \n",
       "16767  EU will lose credibility if it tolerates direc...   \n",
       "18948  MEXICANS, Liberal Tourists NOT HAPPY! American...   \n",
       "12974  DUMB AS A ROCK…Gary Johnson On NYC, MN Terror ...   \n",
       "903     Trudeau HUMILIATES Trump, Openly Prefers To S...   \n",
       "7568    WATCH: Sarah Silverman Hilariously Demolishes...   \n",
       "\n",
       "                                                    text          subject  \\\n",
       "20337  ERBIL, Iraq (Reuters) - A vote by Iraq s parli...        worldnews   \n",
       "17180  WELLINGTON (Reuters) - New Zealand s small nat...        worldnews   \n",
       "12388  BERLIN (Reuters) - Jewish groups in Germany ar...        worldnews   \n",
       "601    Earlier today, CBS News and other outlets noti...             News   \n",
       "109    (Reuters) - The U.S. Congress is expected to v...     politicsNews   \n",
       "6177   Donald Trump s past support of Hillary Clinton...             News   \n",
       "6154   WASHINGTON (Reuters) - President Donald Trump ...     politicsNews   \n",
       "21363  KIEV (Reuters) - U.S. Defense Secretary Jim Ma...        worldnews   \n",
       "2612   Donald Trump is no fan of CNN. He has repeated...             News   \n",
       "21304  SINGAPORE (Reuters) - The U.S. Navy on Monday ...        worldnews   \n",
       "11304  BEIRUT (Reuters) - Russia has promised that th...        worldnews   \n",
       "3936   WASHINGTON (Reuters) - The U.S. House of Repre...     politicsNews   \n",
       "17280  Here s one sure way to turn a solidly  red  st...  Government News   \n",
       "18707  The Media Research Center recently published a...        left-news   \n",
       "10287  While campaigning for president, Donald Trump ...         politics   \n",
       "16767  LONDON (Reuters) - The European Union will los...        worldnews   \n",
       "18948  In the past, high school kids have had to worr...        left-news   \n",
       "12974  Saturday s bomb blast in New York City injured...         politics   \n",
       "903    Canadian Prime Minister Justin Trudeau has, li...             News   \n",
       "7568   Adolf Hitler isn t enthused about being compar...             News   \n",
       "\n",
       "                      date  class  \n",
       "20337  September 12, 2017       1  \n",
       "17180    October 17, 2017       1  \n",
       "12388   December 13, 2017       1  \n",
       "601         August 9, 2017      0  \n",
       "109     December 16, 2017       1  \n",
       "6177          May 26, 2016      0  \n",
       "6154     January 21, 2017       1  \n",
       "21363     August 24, 2017       1  \n",
       "2612      February 9, 2017      0  \n",
       "21304     August 28, 2017       1  \n",
       "11304   December 27, 2017       1  \n",
       "3936          May 3, 2017       1  \n",
       "17280         Jun 11, 2015      0  \n",
       "18707          May 2, 2017      0  \n",
       "10287         Jul 28, 2017      0  \n",
       "16767    October 23, 2017       1  \n",
       "18948         Mar 19, 2017      0  \n",
       "12974         Sep 18, 2016      0  \n",
       "903           July 8, 2017      0  \n",
       "7568        March 11, 2016      0  "
      ]
     },
     "execution_count": 7,
     "metadata": {},
     "output_type": "execute_result"
    }
   ],
   "source": [
    "data.sample(20)"
   ]
  },
  {
   "cell_type": "code",
   "execution_count": 8,
   "id": "eac13504",
   "metadata": {},
   "outputs": [],
   "source": [
    "data = data.drop([\"title\",\"subject\",\"date\"], axis = 1)"
   ]
  },
  {
   "cell_type": "code",
   "execution_count": 9,
   "id": "21ff47ba",
   "metadata": {},
   "outputs": [],
   "source": [
    "data.reset_index(inplace=True)"
   ]
  },
  {
   "cell_type": "code",
   "execution_count": 10,
   "id": "d2ed2c20",
   "metadata": {},
   "outputs": [],
   "source": [
    "data.drop(['index'],axis=1,inplace=True)"
   ]
  },
  {
   "cell_type": "code",
   "execution_count": 11,
   "id": "ce84a6fc",
   "metadata": {},
   "outputs": [
    {
     "data": {
      "text/plain": [
       "<bound method NDFrame.sample of                                                     text  class\n",
       "0      Donald Trump just couldn t wish all Americans ...      0\n",
       "1      House Intelligence Committee Chairman Devin Nu...      0\n",
       "2      On Friday, it was revealed that former Milwauk...      0\n",
       "3      On Christmas day, Donald Trump announced that ...      0\n",
       "4      Pope Francis used his annual Christmas Day mes...      0\n",
       "...                                                  ...    ...\n",
       "44893  BRUSSELS (Reuters) - NATO allies on Tuesday we...      1\n",
       "44894  LONDON (Reuters) - LexisNexis, a provider of l...      1\n",
       "44895  MINSK (Reuters) - In the shadow of disused Sov...      1\n",
       "44896  MOSCOW (Reuters) - Vatican Secretary of State ...      1\n",
       "44897  JAKARTA (Reuters) - Indonesia will buy 11 Sukh...      1\n",
       "\n",
       "[44898 rows x 2 columns]>"
      ]
     },
     "execution_count": 11,
     "metadata": {},
     "output_type": "execute_result"
    }
   ],
   "source": [
    "data.sample\n"
   ]
  },
  {
   "cell_type": "code",
   "execution_count": 12,
   "id": "8651ae41",
   "metadata": {},
   "outputs": [
    {
     "data": {
      "application/vnd.microsoft.datawrangler.viewer.v0+json": {
       "columns": [
        {
         "name": "index",
         "rawType": "int64",
         "type": "integer"
        },
        {
         "name": "text",
         "rawType": "object",
         "type": "string"
        },
        {
         "name": "class",
         "rawType": "int64",
         "type": "integer"
        }
       ],
       "ref": "92517789-7c73-4d96-8546-f93fe1dcdc15",
       "rows": [
        [
         "33274",
         "WASHINGTON (Reuters) - Democrats on a powerful U.S. congressional panel are questioning whether Canada-based Valeant Pharmaceuticals may be wrongfully withholding documents in connection with its ongoing probe into sky-rocketing drug prices, according to an internal memo seen by Reuters on Tuesday. The memo, which was sent to Democratic members of the House of Representatives Committee on Oversight and Government Reform from the staff of its top Democrat Elijah Cummings, reveals that Valeant previously withheld readily available analyst reports prepared by banks such as Goldman Sachs, saying they were protected by attorney-client privilege. The memo says it also raises questions about other documents that are still being withheld, saying some of these “were not drafted by attorneys and do not include communications with attorneys.” A spokeswoman for Valeant denied that the company has done anything wrong, saying it has already provided more than 78,000 pages of documents and will continue cooperating. “We continue to discuss with the committee the issue of privileged documents, but any suggestion that we have withheld documents inappropriately is incorrect,” Laurie Little said in a statement. The April 26 memo comes just one day before three of Valeant’s top executives are slated to appear before a different U.S. Senate panel that is also investigating high drug prices. The company’s outgoing CEO Michael Pearson will be testifying before the Senate Special Committee on Aging late Wednesday afternoon, along with activist investor William Ackman, a majority shareholder and board member, and Howard Schiller, a director and former chief financial officer. Their appearance before Congress comes at an awkward and difficult time for the company, which is under fire from its shareholders and facing a number of ongoing government investigations into drug pricing and distribution, accounting and disclosures, and antitrust matters. Last month, the company announced that Pearson would be stepping down and that Ackman would be joining its board, after a board committee probe into the company’s dealings with specialty pharmacy Philidor RX Services uncovered accounting problems dating back to December 2014. The company said it would restate its earnings and delay filing its annual report, opening the door to a possible default on its $30 billion debt. The company has blamed some of the accounting problems on Schiller, and asked him to step down from his board seat. Schiller has refused to do so, and has denied any wrongdoing through his attorney. Valeant plans to file its annual report on April 29, two days after the hearing. Wednesday’s hearing will be primarily focused on Valeant’s drastic price increases for two of its heart drugs. The committee previously planned to vote to hold Pearson in contempt for failing to be deposed, but backed down after he agreed to be interviewed April 18. ",
         "1"
        ],
        [
         "3569",
         "Trump (once again) may be losing his biggest cheerleader   okay, second biggest cheerleader after Rudy Giuliani   Ann Coulter.Coulter, author of New York Times bestselling  In Trump We Must  recently took to twitter to already denounce Donald Trump, who he feels is about to initiate the biggest sell-out in politics over immigration.After conservative writer Mickey Kraus expressed worry over Mike Pence and Paul Ryan s  pledge  to tackle immigration head-on, Coulter tweeted:Sounds like the big sell-out is coming. Oh well. The voters did what we could. If Trump sells out, it s not our fault. https://t.co/tdMpAuDaRI  Ann Coulter (@AnnCoulter) December 2, 2016Actually Ann, it is your fault. You and all the voters (even though Trump lost the popular vote by over 2.5 million) put a notorious, serial liar in office for the next four years. Someone who flip-flopped on every issue imaginable (and then lied about flip-flopping) is going to be President of th United States, so don t act all shocked when it turns out he was   surprise   a major sell-out to the  people. The exchange that seemed to put Kaus and Coulter on edge was an interview Mike Pence gave with Scott Pelley:PELLEY: Just since the election, President-elect Trump has reversed himself on prosecuting Hillary Clinton and on deporting 11 million illegal immigrants in this country. Did he just say those things to get elected? Did he never intend to do them?PENCE: I think what the American people know they have in President-elect Donald Trump is someone who speaks straight from his mind and straight from his heart. And on the issue of illegal immigration, I promise you, as we were meeting yesterday on Capitol Hill with leaders of the House and Senate, we re going to go straight to work after this Congress convenes and this administration takes office. And we re going to pass policies that will end illegal immigration in this country.Doesn t seem like anything bad, and on the surface it looks like something every conservative should want. But when one factors in that Republicans are seeking to repeal Obamacare, deregulate Wall Street, and begin confirmation hearings for the next SCOTUS pick, immigration reform happening  right away  may seem like a distant hope for xenophobes like Kaus and Coulter.It looks like Trump is losing support from Coulter and he s not even president yet. It wouldn t be the first time Coulter seemed to back off of supporting Trump. It certainly won t be the last time either.Featured image Alberto E. Rodriguez/Getty Images",
         "0"
        ],
        [
         "36135",
         "DUBAI (Reuters) - British Foreign Secretary Boris Johnson flew to Tehran on Saturday to seek the release of a jailed British-Iranian aid worker. The Foreign Office said Johnson spoke  frankly  with his Iranian counterpart Javad Zarif about  consular cases of dual nationals  such as Nazanin Zaghari-Ratcliffe, who Britain says was visiting family on holiday when she was jailed by Iran for attempting to overthrow the government. The case has taken on domestic political importance in Britain, especially since Johnson said last month that Zaghari-Ratcliffe trained journalists, which her employer denies. Johnson later apologized. Opponents have called for him to resign if his comments lead to her serving longer in prison. Johnson is also expected to meet Iranian President Hassan Rouhani on Sunday to discuss bilateral and regional issues, a Foreign Office official said, during just the third visit by a British foreign minister to Iran in the last 14 years. Talks with Zarif were  constructive , Johnson s office said, despite differences between the two countries.  They both spoke frankly about the obstacles in the relationship, including the Foreign Secretary s concerns about the consular cases of British-Iranian dual nationals,  a British Foreign Office spokeswoman said in a statement. The two-day visit takes place against a complex backdrop of historical, regional and bilateral tensions. Johnson stressed Britain s support for Iran s 2015 nuclear deal with world powers in the meeting, the spokeswoman said. International sanctions against Iran have only recently been lifted as part of the multilateral nuclear deal to curb Tehran s disputed uranium enrichment program.  That deal is under threat after U.S. President Donald Trump decided to decertify Iran s compliance with its terms. Johnson told Zarif he believed the deal should be fully implemented. Johnson also met Ali Shamkhani, secretary of Iran s Supreme National Security Council, and parliament speaker Ali Larijani during the first day of his two-day visit, Iran s state news agency IRNA reported. The Foreign Office statement did not mention Zaghari-Ratcliffe by name, although Johnson has vowed to leave  no stone unturned  in Britain s efforts to free her.  A project manager with the Thomson Reuters Foundation, she was sentenced to five years in prison after being convicted by an Iranian court of plotting to overthrow the clerical establishment. She denies the charges. Zaghari-Ratcliffe is not the only dual national being held in Iran, but has become the most high-profile case. The Thomson Reuters Foundation is a charity organization that is independent of Thomson Reuters and operates independently of Reuters News. It says Zaghari-Ratcliffe had been on holiday and had not been teaching journalism in Iran. Zaghari-Ratcliffe has been told she will appear in court on Dec. 10, her husband Richard has said. The visit is a test of Johnson s ability to navigate a political landscape littered with potential pitfalls. Iran s 1979 Islamic Revolution turned it into a pariah state for most of the West and many Middle Eastern neighbors. Britain has voiced its continued support for the nuclear deal but is one of a number of Western powers voicing concerns about Tehran s  destabilizing  influence in the region. ",
         "1"
        ],
        [
         "30865",
         "(Reuters) - The 2016 election cycle had been a ratings boon for U.S. cable news networks, and Tuesday’s stunning U.S. presidential election victory by Republican Donald Trump was no different. Time Warner Inc’s CNN led all U.S. TV networks in primetime coverage with 13.3 million viewers, the most-watched Election Night coverage in U.S. cable news history, according to Nielsen data. 21st Century Fox’s Fox News came in second with 12.1 million viewers, and Comcast Corp’s MSNBC was far behind with just under 6 million. Among adults aged 25 to 54, the demographic most important to advertisers who buy time on news programs, CNN was first as well with 6.7 million viewers. Fox News was second with 4.6 million and MSNBC drew 2.4 million in the demographic. All three posted gains from four years ago. With many states too close to call, the race was not called for Trump until around 3 a.m. (0800 GMT) on the East Coast. Fox News led cable news with 9.8 million viewers watching between 2 a.m. and 3 a.m. (0700 and 0800 GMT), with CNN bringing in 6.5 million and 2.9 million watching on MSNBC.  Fox News also led all cable networks with their full coverage from 7 p.m. to 3 a.m. (0000 to 0800), with 12.2 million, a network high for an election night. CNN pulled in 11.2 million for the whole night, but topped Fox News in the news demographic with 5.6 million to Fox News’ 4.8 million. MSNBC brought up the rear with 5.2 million and 2.1 million in the demographic. NBC led all the broadcast networks with 11.2 million viewers, with ABC finishing with 9.2 million and CBS pulling in 8.1 million. Fox averaged around 4 million for its two-hour coverage from 8-10 p.m.  Across 13 U.S. TV networks, election night coverage was watched by 71.42 million viewers, just behind the U.S. record of 71.47 million that watched in 2008. ",
         "1"
        ],
        [
         "21099",
         "She s the most dangerous, self-centered woman in America Hillary for Prison 2016.  Hillary Clinton s emails on her unsecured, homebrew server contained intelligence from the U.S. government s most secretive and highly classified programs, according to an unclassified letter from a top inspector general to senior lawmakers.Fox News exclusively obtained the unclassified letter, sent Jan. 14 from Intelligence Community Inspector General I. Charles McCullough III. It laid out the findings of a recent comprehensive review by intelligence agencies that identified  several dozen  additional classified emails   including specific intelligence known as  special access programs  (SAP).That indicates a level of classification beyond even  top secret,  the label previously given to two emails found on her server, and brings even more scrutiny to the presidential candidate s handling of the government s closely held secrets. To date, I have received two sworn declarations from one [intelligence community] element. These declarations cover several dozen emails containing classified information determined by the IC element to be at the confidential, secret, and top secret/sap levels,  said the IG letter to lawmakers with oversight of the intelligence community and State Department.  According to the declarant, these documents contain information derived from classified IC element sources. Intelligence from a  special access program,  or SAP, is even more sensitive than that designated as  top secret    as were two emails identified last summer in a random sample pulled from Clinton s private server she used as secretary of state. Access to a SAP is restricted to those with a  need-to-know  because exposure of the intelligence would likely reveal the source, putting a method of intelligence collection   or a human asset   at risk. Currently, some 1,340 emails designated  classified  have been found on Clinton s server, though the Democratic presidential candidate insists the information was not classified at the time. There is absolutely no way that one could not recognize SAP material,  a former senior law enforcement with decades of experience investigating violations of SAP procedures told Fox News.  It is the most sensitive of the sensitive. Executive Order 13526   called  Classified National Security Information  and signed Dec. 29, 2009   sets out the legal framework for establishing special access programs. The order says the programs can only be authorized by the president,  the Secretaries of State, Defense, Energy, and Homeland Security, the Attorney General, and the Director of National Intelligence, or the principal deputy of each. The programs are created when  the vulnerability of, or threat to, specific information is exceptional,  and  the number of persons who ordinarily will have access will be reasonably small and commensurate with the objective of providing enhanced protection for the information involved,  it states.According to court documents, former CIA Director David Petraeus was prosecuted for sharing intelligence from special access programs with his biographer and mistress Paula Broadwell. At the heart of his prosecution was a non-disclosure agreement where Petraeus agreed to protect these closely held government programs, with the understanding  unauthorized disclosure, unauthorized retention or negligent handling   could cause irreparable injury to the United States or be used to advantage by a foreign nation.  Clinton signed an identical non-disclosure agreement Jan. 22, 2009.While the State Department and Clinton campaign have said the emails in questions were  retroactively classified  or  upgraded    to justify the more than 1,300 classified emails on her server   those terms are meaningless under federal law.The former federal law enforcement official said the finding in the January IG letter represents a potential violation of USC 18 Section 793,  gross negligence  in the handling of secure information under the Espionage Act.  Via: FOX News",
         "0"
        ]
       ],
       "shape": {
        "columns": 2,
        "rows": 5
       }
      },
      "text/html": [
       "<div>\n",
       "<style scoped>\n",
       "    .dataframe tbody tr th:only-of-type {\n",
       "        vertical-align: middle;\n",
       "    }\n",
       "\n",
       "    .dataframe tbody tr th {\n",
       "        vertical-align: top;\n",
       "    }\n",
       "\n",
       "    .dataframe thead th {\n",
       "        text-align: right;\n",
       "    }\n",
       "</style>\n",
       "<table border=\"1\" class=\"dataframe\">\n",
       "  <thead>\n",
       "    <tr style=\"text-align: right;\">\n",
       "      <th></th>\n",
       "      <th>text</th>\n",
       "      <th>class</th>\n",
       "    </tr>\n",
       "  </thead>\n",
       "  <tbody>\n",
       "    <tr>\n",
       "      <th>33274</th>\n",
       "      <td>WASHINGTON (Reuters) - Democrats on a powerful...</td>\n",
       "      <td>1</td>\n",
       "    </tr>\n",
       "    <tr>\n",
       "      <th>3569</th>\n",
       "      <td>Trump (once again) may be losing his biggest c...</td>\n",
       "      <td>0</td>\n",
       "    </tr>\n",
       "    <tr>\n",
       "      <th>36135</th>\n",
       "      <td>DUBAI (Reuters) - British Foreign Secretary Bo...</td>\n",
       "      <td>1</td>\n",
       "    </tr>\n",
       "    <tr>\n",
       "      <th>30865</th>\n",
       "      <td>(Reuters) - The 2016 election cycle had been a...</td>\n",
       "      <td>1</td>\n",
       "    </tr>\n",
       "    <tr>\n",
       "      <th>21099</th>\n",
       "      <td>She s the most dangerous, self-centered woman ...</td>\n",
       "      <td>0</td>\n",
       "    </tr>\n",
       "  </tbody>\n",
       "</table>\n",
       "</div>"
      ],
      "text/plain": [
       "                                                    text  class\n",
       "33274  WASHINGTON (Reuters) - Democrats on a powerful...      1\n",
       "3569   Trump (once again) may be losing his biggest c...      0\n",
       "36135  DUBAI (Reuters) - British Foreign Secretary Bo...      1\n",
       "30865  (Reuters) - The 2016 election cycle had been a...      1\n",
       "21099  She s the most dangerous, self-centered woman ...      0"
      ]
     },
     "execution_count": 12,
     "metadata": {},
     "output_type": "execute_result"
    }
   ],
   "source": [
    "data.sample(5)"
   ]
  },
  {
   "cell_type": "code",
   "execution_count": 13,
   "id": "86bb9a34",
   "metadata": {},
   "outputs": [],
   "source": [
    "def clean_text(text):\n",
    "    text = text.lower()\n",
    "    text = re.sub(r'\\[*?.\\]', '', text)\n",
    "    text = re.sub(r'https?://\\S+|www\\.\\S+', '', text)\n",
    "    text = re.sub(r'\\s+', ' ', text)\n",
    "    text = re.sub(r'[%s]' % re.escape(string.punctuation), '', text)\n",
    "    text = re.sub(r'\\n', '', text)\n",
    "    text = re.sub(r'\\w*\\d\\w*', '', text)\n",
    "    return text\n"
   ]
  },
  {
   "cell_type": "code",
   "execution_count": 14,
   "id": "1bee18b8",
   "metadata": {},
   "outputs": [],
   "source": [
    "data['text'] = data['text'].apply(clean_text)"
   ]
  },
  {
   "cell_type": "code",
   "execution_count": 15,
   "id": "9d8ef605",
   "metadata": {},
   "outputs": [
    {
     "data": {
      "application/vnd.microsoft.datawrangler.viewer.v0+json": {
       "columns": [
        {
         "name": "index",
         "rawType": "int64",
         "type": "integer"
        },
        {
         "name": "text",
         "rawType": "object",
         "type": "string"
        },
        {
         "name": "class",
         "rawType": "int64",
         "type": "integer"
        }
       ],
       "ref": "c2df25b0-f780-41c9-8518-4b9b5d7eec9f",
       "rows": [
        [
         "23481",
         "washington reuters  the head of a conservative republican faction in the us congress who voted this month for a huge expansion of the national debt to pay for tax cuts called himself a “fiscal conservative” on sunday and urged budget restraint in  in keeping with a sharp pivot under way among republicans us representative mark meadows speaking on cbs’ “face the nation” drew a hard line on federal spending which lawmakers are bracing to do battle over in january when they return from the holidays on wednesday lawmakers will begin trying to pass a federal budget in a fight likely to be linked to other issues such as immigration policy even as the november congressional election campaigns approach in which republicans will seek to keep control of congress president donald trump and his republicans want a big budget increase in military spending while democrats also want proportional increases for nondefense “discretionary” spending on programs that support education scientific research infrastructure public health and environmental protection “the trump administration has already been willing to say ‘we’re going to increase nondefense discretionary spending  by about  percent’” meadows chairman of the small but influential house freedom caucus said on the program “now democrats are saying that’s not enough we need to give the government a pay raise of  to  percent for a fiscal conservative i don’t see where the rationale is  eventually you run out of other people’s money” he said meadows was among republicans who voted in late december for their party’s debtfinanced tax overhaul which is expected to balloon the federal budget deficit and add about  trillion over  years to the  trillion national debt “it’s interesting to hear mark talk about fiscal responsibility” democratic us representative joseph crowley said on cbs crowley said the republican tax bill would require the united states to borrow  trillion to be paid off by future generations to finance tax cuts for corporations and the rich “this is one of the least  fiscally responsible bills we’ve ever seen passed in the history of the house of representatives i think we’re going to be paying for this for many many years to come” crowley said republicans insist the tax package the biggest us tax overhaul in more than  years will boost the economy and job growth house speaker paul ryan who also supported the tax bill recently went further than meadows making clear in a radio interview that welfare or “entitlement reform” as the party often calls it would be a top republican priority in  in republican parlance “entitlement” programs mean food stamps housing assistance medicare and medicaid health insurance for the elderly poor and disabled as well as other programs created by washington to assist the needy democrats seized on ryan’s early december remarks saying they showed republicans would try to pay for their tax overhaul by seeking spending cuts for social programs but the goals of house republicans may have to take a back seat to the senate where the votes of some democrats will be needed to approve a budget and prevent a government shutdown democrats will use their leverage in the senate which republicans narrowly control to defend both discretionary nondefense programs and social spending while tackling the issue of the “dreamers” people brought illegally to the country as children trump in september put a march  expiration date on the deferred action for childhood arrivals or daca program which protects the young immigrants from deportation and provides them with work permits the president has said in recent twitter messages he wants funding for his proposed mexican border wall and other immigration law changes in exchange for agreeing to help the dreamers representative debbie dingell told cbs she did not favor linking that issue to other policy objectives such as wall funding “we need to do daca clean” she said on wednesday trump aides will meet with congressional leaders to discuss those issues that will be followed by a weekend of strategy sessions for trump and republican leaders on jan  and  the white house said trump was also scheduled to meet on sunday with florida republican governor rick scott who wants more emergency aid the house has passed an  billion aid package after hurricanes in florida texas and puerto rico and wildfires in california the package far exceeded the  billion requested by the trump administration the senate has not yet voted on the aid ",
         "1"
        ],
        [
         "5005",
         "the new head of donald trump s presidential campaign is already getting rave reviews from a core block of the rightwing coalition that hopes to propel him to the white house racistssteve bannon who runs the rightwing website breitbart is getting cheered on by the socalled alt right the coalition of white power advocates who have come out of the woodwork to support trumpwhite nationalists today invest a lot of energy worrying about growing hispanic and muslim populations in the us turns out breitbart news spends a lot of time worrying about those things too and in bannon they see a mediafriendly ethnonationalist fellow traveler latterly breitbart emerged as a nationalist site and done great stuff on immigration in particular vdarecom editor peter brimelow told the daily beastvdare is a white supremacist site it s named after virginia dare the first white child born to british colonists in north america brimelow said he and bannon met briefly last month and exchanged pleasantries about each other s workrichard spencer of the white nationalist group national policy institute also told the daily beast that he was happy to see someone who shares a similar world view elevated to a major position within the republican partysince bannon has been in charge of breitbart since the death of its founder andrew breitbart breitbart news has been the launching pad for this segment of the right that was once kept much further below the radar within the mainstream conservative movementhis elevation to the head of the trump campaign is being seen as a triumph of this world view on the right and trump s campaign with its explicit bashing of latinos and muslims appeals strongly to this groupthe nominee himself was slow to distance himself from the endorsement of former klansman david duke and trump has often promoted the work of white supremacists who back his campaign on his twitter accountfeatured image via youtube",
         "0"
        ],
        [
         "20823",
         "january  can t come fast enough for america and for the rest of the world who is  fed up with this freeloading fascist loving family for two days president barack obama has defied calls from republicans to cancel his trip to south america and return home in the wake of the terror attacks in brusselsand now it seems even his guests are sick of having him after dozens of human rights protesters took to the streets of buenos aires to demand he leave argentinabut instead of departing obama chose to carry on regardless this evening as he attended a glitzy banquet alongside wife michelle argentine president mauricio macri and first lady juliana awadathe foursome were pictured arriving at the centro cultural kirchner named after argentina s former prime minister and marci s predecessor in the country s capital this eveningthe group paused for a photo opportunity on a red carpet with obama and marci dressed in suits and michelle and awada in glamorous evening dressesfrom there they made their way into a leafy candlelit courtyard for champagne where obama was pictured clinking glasses with marci meanwhile a few streets away human rights protesters were busy burning american flags and demanding obama leave the country the protesters accuse america of backing dictatorial regimes during the cold war in south america including in argentina and hold the us responsible for the thousands who died or were disappeared under their ruletoday marks the  anniversary of the military coup in argentina that ushered in one of the most oppressive dictatorships in latin american history which demonstrators argue makes obama s visit particularly offensiveearlier in the day obama sought to deflect criticism of his foreign travel in the wake of belgium s terror attacks saying the us must show isis that it does not have power over its citizens we are strong our values are right you offer nothing except death obama said of isisgesturing in the direction of argentinian president mauricio macri who was standing to his left at a joint news conference this afternoon in buenos aires obama said it is important for the united states president and the united states government to be able to work with people who are building and who are creating things we have to make sure that we lift up and stay focused as well on the things that are most important to us he said because we re on the right side of history via daily mailyeah right barry ",
         "0"
        ],
        [
         "24291",
         "tokyo reuters  us president donald trump and japanese prime minister shinzo abe did not discuss a bilateral free trade agreement fta at their summit meeting on monday a senior japanese government spokesman said japanese deputy chief cabinet secretary yasutoshi nishimura made the comment to reporters after the meeting between the two leaders in recent economic dialogue between japan and the united states tokyo has been pushing back against us calls to open talks for a bilateral fta ",
         "1"
        ],
        [
         "6490",
         "the list of establishment republicans who are refusing to support donald trump as the  presidential nominee just keeps on growing the latest is a former gop senator from new hampshire gordon humphrey sen humphrey says that he will not be getting behind the billionaire for the presidency for one simple reason he believes the man is a sociopath when asked about supporting trump during efforts to get the party to unite behind the presumptive nominee humphrey said unequivocally i am not supporting donald trump i think he s a sociopath now these are strong words coming from within the gop but they are also most likely correct humphrey isn t the only one in the antitrump camp either paul ryan has yet to get behind trump and he is currently the highest ranking republican in congress further gop consultant michael biundo said the following via twitter by not supporting trump i am supporting our country these statements are not of course stopping trump s people from trying to get gopers to get behind the business mogul s plans to become america s facsist dictator president trump has a chairman in new hampshire steve stepanek who is urging people to get behind his man he says i am focused on bringing the party together i m not going to be asking for any republican s resignation at this point in time i m asking republicans to unite behind donald trump and the entire republican ticket here in the state of new hampshire the thing is though trump is the most divisive force that the gop has seen in many years possibly ever he is the same for the country his violent rhetoric unhinged supporters and irrational meanspirited behavior have made all sane people run as far away from this goon as possible regardless of political persuasion it doesn t matter at this point who you are if you have one iota of decency or sense you don t go anywhere near donald trump and you work to stop his takeover of this great nation no matter what it takesgood going donald you are literally destroying the republican party before our very eyesfeatured image via chip somodevillagetty images",
         "0"
        ],
        [
         "2700",
         "whiny white house advisor kellyanne conway does not like how the media treats her illegitimate president donald trump she s continuing her crusade against the first amendment interestingly she president steve bannon and trump have treated the press very badly yet they feel they should get favorable coverage anyway conway appeared on sean hannity s radio show and talked about how mean the press is to donaldhannity asked conway if the media at large was being beyond disrespectful to trump and his staff according to mediaite conway agreed then said that the coverage was inciting mob mentality if not mob violence the coverage never changed of trum it never progressed it never matured conway saidconway said she thought protesters had a very low level of literacy of the issues against which they demonstrated when the truth is that her boss s grammar sits at just below a  grade level it never took on the aura of respect that it deserved and if you are not showing the president and his main spokespeople respect then you re not showing the office respect and you are inciting mob mentality if not mob violence she said you are encouraging people to go out there and unpeacefully protest and block airport entrances for people who are going to visit a sick parent and can t make their flight or are going for a bereavement call and can t make their flight listen belowpeople are treating donald with the respect he deserves protesters know exactly why they went to airports across the country people were being unconstitutionally detained and handcuffed even children conway said at the time that the whole idea that these people are being separated from their families is temporary she called it an inconvenience so kellyanne just consider the treatment trump is getting an inconvenience and something that is temporary until his impeachmentshe literally complained that the press is being mean to donald to a fox news host who treated former president barack obama like dirt for  years  quit being so pc kellyanne conservatives tell me it s destroying our countryfeatured image by mark wilson via getty images",
         "0"
        ],
        [
         "543",
         "in the wake of donald trump s unhinged and rambling press conference delivered from trump tower on tuesday in which among many gaffes he claimed that the altleft were just as accountable for the violence over the weekend in charlottesville va and then attempted to justify his statements by adding that there were many fine people on both sides the commander in chief has found himself in a very lonely placetrump is a man who expects unwavering support and loyalty but according to a reporter for one of his closest allies shepard smith of fox news that is something trump is currently finding it tough to come by smith said on his show shepard smith reporting that the network reached out in an effort to get a republican onair to defend the president s remarks but failed to land a single one our booking team and they re good reached out to republicans of all stripes across the country today smith said let s be honest republicans don t often really mind coming on fox news channel we couldn t get anyone to come and defend him here because we thought in balance someone should do that he continued but smith didn t stop there we worked very hard at it throughout the day and we were unsuccessful and of those who are condemning the president s condemnable actions i ve not heard any prominent leaders former presidents members of the house or the senate use his name while speaking in generalities he addedsince the president s press conference one of very few he has given during his term in office many republicans have spoken out not just condemning trump s remarks but racism and bigotry in general house speaker paul ryan took to twitter to deliver the following messagewe must be clear white supremacy is repulsive this bigotry is counter to all this country stands for there can be no moral ambiguity paul ryan speakerryan august   wednesday former presidents george h w bush and george w bush also issued a joint statement in which the pair said that the us must reject hatred in all forms if there is one time the current president needs to pay more attention to those around him this is most definitely itfeatured image via spencer plattgetty images",
         "0"
        ],
        [
         "44224",
         "paris reuters  french police unearthed a second stash of explosive materials near paris on thursday after a similar find in a nearby suburb on wednesday a justice official said as three suspects were questioned by antiterrorism investigators thursday s swoop was carried out at a garage rented by one of the three detained in the wake of wednesday s raid on an apartment in villejuif on the southern edge of the french capital the source said materials used to produce tatp an explosive often used by suicide bombers were found at the flat after a plumber phoned police to report suspect activity there interior minister gerard collomb said two people in their  and  were arrested in the immediate wake of wednesday s raid said collomb who added that the suspects were being questioned on suspicion of terrorist activity despite talking of a bank heist a third man was arrested overnight a source said those under investigation spoke of wanting to blow up a bank with the tatp but they way we see it is they have links with terrorism and this is the channel of investigation collomb told public radio station franceinfo that line of inquiry was prompted by information found in telephone communications after the raid he added the minister spoke before developments later in the day in which police found explosive materials at a garage in thiais southeast of paris more than  people have been killed by islamistinspired attackers in the past three years in france which along with the united states and other countries are bombing islamic state bases in iraq and syria tatp an unstable explosive has been used by militants in several attacks in western europe in recent years including manchester in may brussels in  and paris in  ",
         "1"
        ],
        [
         "27173",
         "washington reuters  three us democratic senators on friday raised concerns over the possibility that president donald trump’s administration will permanently shelve the “fiduciary rule” aimed at preventing brokers from recommending inappropriate retirement investments the most senior democrat on the senate committee overseeing pensions washington’s patty murray and two of the party’s liberal stars who advocated for the rule cory booker and elizabeth warren wrote to newly confirmed labor secretary alexander acosta about reports that he was looking for a way to freeze the rule and make it “stick” earlier this month the national association of plan advisors cited acosta as saying he was seeking the longterm freeze in a meeting with republican senator tim scott of south carolina he added that he was in constant communication with the white house and “recognized the urgency of the situation” the group said in a blog post citing a “communication from scott’s office” scott’s spokeswoman michele exner told reuters she did not know what the two discussed in their meeting what acosta had said or anything about the communication cited labor department spokeswoman jillian rogers said she would ask acosta currently in germany about the conversation and if permanently paralyzing the rule was a department priority approved last year under former president barack obama a democrat the rule was intended to ensure that financial advisers put their clients’ interests first and to protect consumers from buying unnecessary investment products that line brokers’ pockets heavily criticized by wall street and republicans for potentially raising the cost of investment advice the rule has faced a rocky time becoming effective with trump last month delaying its enactment date originally april  for  days trump has also ordered a review of the rule “instead of meeting with all stakeholders and considering multiple points of view you appear to have prejudged the outcome of the review” the senators wrote in a copy of the letter seen by reuters they said an analysis accompanying the rule’s release that found conflicts of interest would cost those saving for retirement  billion annually they warned there are “steep legal standards” that the labor department would have to meet to “justify further delaying substantially revising or rescinding this rule” ",
         "1"
        ],
        [
         "6746",
         "republicans in oklahoma just took their war on women and placed it on the doorsteps on doctors in the statelate thursday evening the house of representatives in the state overwhelmingly approved a senate bill that could revoke the licenses of doctors if they perform an abortion yahoo news reportedin the republicandominated legislature the state s house of representatives overwhelmingly approved a senate bill late on thursday governor mary fallin a republican has not yet indicated whether she will sign itunder the bill doctors who perform abortions would risk losing their medical licenses exemptions would be given for those who perform the procedure for reasons including protecting the mother or removing a miscarried fetusaccording to the author of the bill senator nathan dahm the bill was necessary because this is our proper function to protect life republicans often say that they are protecting life when they interfere with a woman s right to choose but the reality is that they are just pandering to the religious nuts in their voting baseas i have said a million times before if the gop was even a little bit prolife they would do absolutely everything they could to prevent unwanted pregnancies this means they would make sure that children were given a comprehensive education about sex they oppose that republicans would also make sure that birth control all forms were easily available to women and men they oppose that if these imbeciles were prolife they would want to make sure all children were fed they oppose foodstamps prolifers would also make sure that kids had medical care even if their parents can t afford to pay for it they oppose medicaid expansion finally if the right were actually prolife they would never send our kids off to die in their wars bomb families in the middle east and they certainly would not support the death penalty and yet they do all of those thingsthis bill in oklahoma bans abortion make no mistake about that and it doesn t ban it because the right loves babies and respects human life it bans abortion because the right hates women and they especially hate when women have sex it bans abortion because the gop wants to punish whores who open their legs and it lets men off without any ramificationsthis is just another way for men to exert their power over women fortunately for the women in oklahoma if the female governor of the state decides to side with the rightwing jackasses in her party and sign the bill into law it is completely unconstitutional and will never hold up in courtfeatured image via justin sullivangetty images",
         "0"
        ],
        [
         "12649",
         "remember when hillary read the word sigh instead of actually sighing hillary reads off of the teleprompter an emotion that was meant to be a sigh and not the word sigh too funny ",
         "0"
        ],
        [
         "14958",
         "he won on a platform of reducing crime or something like that despite being arrested on drug and murder charges an east chicago city councilman was reelected to his office in tuesday s electionseast chicago  district councilman robert coop battle cruised to reelection even though he is accused in the oct  shooting of reimundo camarillo jr that isn t all as the munster times reports the councilman is also facing drug charges stemming from a traffic stop earlier in the yearpolice say that councilman battle was found with  pounds of marijuana and more than  cash during a traffic stop in porter county indianaeven with all this legal trouble on his plate no one filed to run against him and he won reelection on tuesday with his unopposed candidacystill some have been calling for him to resign his office due to his mounting troublesbut the councilman s attorney insisted that his client is insulted by the claims that he should resign he is presumed innocent until he is proven guilty attorney john cantrell said if he is acquitted he ll keep his job apparently battle didn t even vote in his own election as lake county sheriff john buncich reported battle did not request an absentee ballot to vote from the jailthe associated press reports battle is seeking bail and a nov  hearing is planned on tuesday a lake county judge granted prosecutors request for a dna mouth swab from battle via breitbart news",
         "0"
        ],
        [
         "6326",
         "democrats are days away from launching a multimillion dollar advertising campaign designed to completely destroy donald trump and render him impotent in the general election the organization leading the charge will be priorities usa the super pac that backed president obama s reelection campaign in  original plan was reportedly to start releasing ads after the california primary but now the timetable has been moved uppriorities usa will spend  million on ads between may  and june  hitting trump in ohio florida virginia and nevada all general election battleground states the ads will try to do what no republican could take down the businessman who beat a scrum of veteran politicians to allbutwin the republican nomination respect is a more traditional ad highlighting trump s divisive speech including his campaign rallies where he has gone after minorities women and muslims among others speak showcases trump s antiwoman comments many of them from his appearances on shock jock howard stern s radio show in the ad women are shown sometimes with their families mouthing along with trumpguy cecil the clinton campaign veteran who runs the super pac appeared on msnbc s the rachel maddow show to debut the ads he explained that while ads in the republican primary had not stopped trump the effort began far too late in the process and often republicans had been far too reluctant to go after the candidatepriorities usa in addition to its own focus groups and research has also been using the republican primary as a testing ground for what has and hasn t worked against trump in the hopes of hitting on the winning formula that will hurt him as much as a similar campaign did against mitt romney in  group reportedly plans to spend at least  million in advertising over the next six monthsfeatured image via youtube",
         "0"
        ],
        [
         "31943",
         "fairfield conn reuters  us republican donald trump on saturday repeated his attack on president barack obama that he helped “found” islamic state and railed against media reports that his campaign is failing at a campaign rally in connecticut a state where he has a longshot of being victorious speaking for more than an hour in a sweltering room trump spent a significant portion of his speech complaining about the media he again threatened to revoke the press credentials of the new york times the credentials allow reporters access to pressonly areas of his campaign events he has already banned other outlets including the washington post on saturday the new york newspaper published an article detailing failed efforts to make trump focus his campaign on the general election “these are the most dishonest people” trump said “maybe we’ll start thinking about taking their press credentials away from them” trump visiting connecticut a heavily democratic state raised eyebrows among many republicans “it’s asinine that he would be in connecticut holding a public rally less than  days before the election” said republican strategist matt mackowiak “you don’t see hillary publicly campaigning in idaho and mississippi i have to think this proves the candidate is running the campaign which explains why it’s such a disaster of biblical proportions” at several points the crowd chanted “lock her up” a frequent campaign rally chant in reference to trump’s democratic rival hillary clinton trump told the crowd that normally he responds by saying he intends instead to defeat her in the nov  election but this time added “you know what you have a point” trump also dropped his recent efforts to say he was not being serious when he said obama was the “founder” of the islamic state militant group  “it’s the opinion of myself and a lot of people that he was the founder” trump told the crowd democrats and republicans alike have criticized trump’s assertion as patently false trump took a detour from attacking clinton’s economic record to discuss the  scandal involving white house intern monica lewinsky and former president bill clinton whom republicans attempted to impeach “remember when he said he did not have sex with that woman and a couple of weeks later oh you got me” trump said to cheers he then made reference to a blue dress that became a symbol in the investigation “i’m so glad they kept that dress so glad they kept that dress because it shows what the hell they are” ",
         "1"
        ],
        [
         "17819",
         "hillary clinton today falsely called donald trump an admitted sex assaulter and compared him to disgraced alleged sex abuser harvey weinsteinthe failed democratic presidential candidate who received thousands in campaign funding from weinstein told the bbc s andrew marr we have someone admitting to being a sexual assaulter in the oval office she was referring to the access hollywood tape leaked during the campaign where donald trump was heard boasting about grabbing women by the py in  clinton is in the uk to promote her handwringing book about losing the presidential electionshe told marr i was really shocked and appalled because i ve known him through politics as many democrats haveteam player hillary clinton tries to deflect attention from the millions of dollars harvey weinstein raised for her recent failed presidential campaign by reminding reporters that he also donated to obama and for people she forgot to mention that he only funded democrat people who have run for office in the united states he s been a supporter he s been a funder for all of us for obama for me for people who have run for office in the united states so it was just disgusting and the stories that have come out are heartbreaking but i think that it s important that we not just focus on him and whatever consequences flow from these stories about his behavior but that we recognize this kind of behavior cannot be tolerated anywhere whether it s in entertainment politics after all we have someone admitting to being a sexual assaulter in the oval office there has to be a recognition that we must stand against this kind of action that is so sexist and misogynistic and asked about allegations of sexual misconduct leveled at her husband and former president bill clinton she said that has all been litigated that was the subject of a huge investigation in the late  and there were conclusions drawn that was clearly in the past it is something that has to be taken seriously for anyone not just in entertainment the really sad part of the campaign was how this horrific tape what he said about women in the past what he said about women during the campaign was discounted by a lot of voters dmlol hillary you re the only one left standing who believes a single word that comes out of your lying mouth ",
         "0"
        ]
       ],
       "shape": {
        "columns": 2,
        "rows": 15
       }
      },
      "text/html": [
       "<div>\n",
       "<style scoped>\n",
       "    .dataframe tbody tr th:only-of-type {\n",
       "        vertical-align: middle;\n",
       "    }\n",
       "\n",
       "    .dataframe tbody tr th {\n",
       "        vertical-align: top;\n",
       "    }\n",
       "\n",
       "    .dataframe thead th {\n",
       "        text-align: right;\n",
       "    }\n",
       "</style>\n",
       "<table border=\"1\" class=\"dataframe\">\n",
       "  <thead>\n",
       "    <tr style=\"text-align: right;\">\n",
       "      <th></th>\n",
       "      <th>text</th>\n",
       "      <th>class</th>\n",
       "    </tr>\n",
       "  </thead>\n",
       "  <tbody>\n",
       "    <tr>\n",
       "      <th>23481</th>\n",
       "      <td>washington reuters  the head of a conservative...</td>\n",
       "      <td>1</td>\n",
       "    </tr>\n",
       "    <tr>\n",
       "      <th>5005</th>\n",
       "      <td>the new head of donald trump s presidential ca...</td>\n",
       "      <td>0</td>\n",
       "    </tr>\n",
       "    <tr>\n",
       "      <th>20823</th>\n",
       "      <td>january  can t come fast enough for america an...</td>\n",
       "      <td>0</td>\n",
       "    </tr>\n",
       "    <tr>\n",
       "      <th>24291</th>\n",
       "      <td>tokyo reuters  us president donald trump and j...</td>\n",
       "      <td>1</td>\n",
       "    </tr>\n",
       "    <tr>\n",
       "      <th>6490</th>\n",
       "      <td>the list of establishment republicans who are ...</td>\n",
       "      <td>0</td>\n",
       "    </tr>\n",
       "    <tr>\n",
       "      <th>2700</th>\n",
       "      <td>whiny white house advisor kellyanne conway doe...</td>\n",
       "      <td>0</td>\n",
       "    </tr>\n",
       "    <tr>\n",
       "      <th>543</th>\n",
       "      <td>in the wake of donald trump s unhinged and ram...</td>\n",
       "      <td>0</td>\n",
       "    </tr>\n",
       "    <tr>\n",
       "      <th>44224</th>\n",
       "      <td>paris reuters  french police unearthed a secon...</td>\n",
       "      <td>1</td>\n",
       "    </tr>\n",
       "    <tr>\n",
       "      <th>27173</th>\n",
       "      <td>washington reuters  three us democratic senato...</td>\n",
       "      <td>1</td>\n",
       "    </tr>\n",
       "    <tr>\n",
       "      <th>6746</th>\n",
       "      <td>republicans in oklahoma just took their war on...</td>\n",
       "      <td>0</td>\n",
       "    </tr>\n",
       "    <tr>\n",
       "      <th>12649</th>\n",
       "      <td>remember when hillary read the word sigh inste...</td>\n",
       "      <td>0</td>\n",
       "    </tr>\n",
       "    <tr>\n",
       "      <th>14958</th>\n",
       "      <td>he won on a platform of reducing crime or some...</td>\n",
       "      <td>0</td>\n",
       "    </tr>\n",
       "    <tr>\n",
       "      <th>6326</th>\n",
       "      <td>democrats are days away from launching a multi...</td>\n",
       "      <td>0</td>\n",
       "    </tr>\n",
       "    <tr>\n",
       "      <th>31943</th>\n",
       "      <td>fairfield conn reuters  us republican donald t...</td>\n",
       "      <td>1</td>\n",
       "    </tr>\n",
       "    <tr>\n",
       "      <th>17819</th>\n",
       "      <td>hillary clinton today falsely called donald tr...</td>\n",
       "      <td>0</td>\n",
       "    </tr>\n",
       "  </tbody>\n",
       "</table>\n",
       "</div>"
      ],
      "text/plain": [
       "                                                    text  class\n",
       "23481  washington reuters  the head of a conservative...      1\n",
       "5005   the new head of donald trump s presidential ca...      0\n",
       "20823  january  can t come fast enough for america an...      0\n",
       "24291  tokyo reuters  us president donald trump and j...      1\n",
       "6490   the list of establishment republicans who are ...      0\n",
       "2700   whiny white house advisor kellyanne conway doe...      0\n",
       "543    in the wake of donald trump s unhinged and ram...      0\n",
       "44224  paris reuters  french police unearthed a secon...      1\n",
       "27173  washington reuters  three us democratic senato...      1\n",
       "6746   republicans in oklahoma just took their war on...      0\n",
       "12649  remember when hillary read the word sigh inste...      0\n",
       "14958  he won on a platform of reducing crime or some...      0\n",
       "6326   democrats are days away from launching a multi...      0\n",
       "31943  fairfield conn reuters  us republican donald t...      1\n",
       "17819  hillary clinton today falsely called donald tr...      0"
      ]
     },
     "execution_count": 15,
     "metadata": {},
     "output_type": "execute_result"
    }
   ],
   "source": [
    "data.sample(15)\n"
   ]
  },
  {
   "cell_type": "code",
   "execution_count": 16,
   "id": "2c2301f0",
   "metadata": {},
   "outputs": [],
   "source": [
    "true = resample(true,\n",
    "                replace=True,  # allow duplicates\n",
    "                 n_samples=len(fake),  # match fake_df size\n",
    "                random_state=42)\n",
    "\n",
    "# Step 3: Combine the balanced datasets\n",
    "balance = pd.concat([fake, true], ignore_index=True)\n",
    "\n",
    "# Optional: Shuffle the combined dataset\n",
    "balance = balance.sample(frac=1, random_state=42).reset_index(drop=True)\n",
    "\n",
    "# Step 4: Save or use the balanced dataset\n",
    "balance.to_csv('balanced_dataset.csv', index=False)\n"
   ]
  },
  {
   "cell_type": "code",
   "execution_count": 17,
   "id": "98665adc",
   "metadata": {},
   "outputs": [],
   "source": [
    "df = pd.read_csv('balanced_dataset.csv')"
   ]
  },
  {
   "cell_type": "code",
   "execution_count": 18,
   "id": "95f5b57b",
   "metadata": {},
   "outputs": [
    {
     "name": "stdout",
     "output_type": "stream",
     "text": [
      "Index(['title', 'text', 'subject', 'date', 'class'], dtype='object')\n"
     ]
    }
   ],
   "source": [
    "print(balance.columns)"
   ]
  },
  {
   "cell_type": "code",
   "execution_count": 19,
   "id": "eeb73aca",
   "metadata": {},
   "outputs": [
    {
     "data": {
      "application/vnd.microsoft.datawrangler.viewer.v0+json": {
       "columns": [
        {
         "name": "index",
         "rawType": "int64",
         "type": "integer"
        },
        {
         "name": "text",
         "rawType": "object",
         "type": "string"
        },
        {
         "name": "class",
         "rawType": "int64",
         "type": "integer"
        }
       ],
       "ref": "49e32fd9-754f-40fc-bcad-c2c3b106d2b8",
       "rows": [
        [
         "35812",
         "new delhi reuters  a hindu man in india tried to raise money for a campaign against minority muslims by issuing an appeal for donations with a video he took and posted online showing him killing a muslim police said on thursday the killing last week is the latest to roil india s minority muslims who have faced attacks from mobs who accuse them of killing cows which hindus consider sacred hindu fringe groups also campaign against muslim men marrying hindus the hindu man shambu lal regar has been arrested on suspicion of hacking and burning a muslim laborer in the western state of rajasthan police said regar had posted a video of the attack along with his bank details for donations to finance his antimuslim campaign police officer anand shrivastava said more than  people from across india deposited  rupees  into the account the accused wanted to become a hindu hero after killing a muslim man his main aim was to collect money after committing the hate crime said shrivastava regar s video went viral on social media before authorities took it down police investigators had frozen the bank account and were tracking down donors shrivastava said shrivastava said the video had showed regar claiming to be a proud hindu trying to stop love jihad  a term used by hindu hardliners who accuse muslim men of entrapping hindu women and girls on the pretext of love in order to convert them to islam the government of prime minister narendra modi who leads the hindunationalist bharatiya janata party has been criticized for failing to do enough to stop attacks on muslims the government rejects that modi has condemned violence in the name of protecting cows muslims account for  million of india s  billion citizens and modi s critics say hindu groups linked with his ruling party are trying to marginalize them the bjp denies any bias against muslims ",
         "1"
        ],
        [
         "21941",
         "when it comes to interpreting current events no one does official conspiracy theories like the unite statesfor years washington has tried to promulgate a propaganda campaign which tries to somehow link al qaeda to iran or isis to iran for the mentallychallenged members of the rightwing media in the us this isn t a massive feat as a large segment of that audience cannot even locate iran on a global map there is also the issue of us warhawks like lindsey graham and john mccain being proven pathological liars who will say anything regardless of whether it s based in actual fact all of this contributes to a number of shallow creative narratives which continuously circulate between fox news the atlantic magazine tel aviv riyadh and the us senateand just like the us and uk mainstream media s coverage of syria the deep throat source in this dossier is al qaedathis latest chapter in the us fantasy world of iranian intrigue attempts to further the israelifavoured mythology blaming iran for all of the region s woes make no mistake the american neoconservative wing and their israeli benefactors are determined to invent new conditions for war with iran image bush s al qaeda  guy abu musab al zarqawigareth porter the american conservative for many years major us institutions ranging from the pentagon to the  commission have been pushing the line that iran secretly cooperated with al qaeda both before and after the  terror attacks but the evidence for those claims remained either secret or sketchy and always highly questionablein early november however the mainstream media claimed to have its smoking gun a cia document written by an unidentified al qaeda official and released in conjunction with  neverbeforeseen documents seized from osama bin laden s house in abbottabad pakistanthe associated press reported that the al qaeda document appears to bolster us claims that iran supported the extremist network leading up to the september  terror attacks the wall street journal said the document provides new insights into al qaeda s relationship with iran suggesting a pragmatic alliance that emerged out of shared hatred of the united states and saudi arabia nbc news wrote that the document reveals that at various points in the relationship iran offered al qaeda help in the form of money arms and training in hezbollah camps in lebanon in exchange for striking american interests in the gulf implying that al qaeda had declined the offerformer obama national security council spokesman ned price writing for the atlantic went even further asserting that the document includes an account of a deal with iranian authorities to host and train saudial qaeda members as long as they have agreed to plot against their common enemy american interests in the gulf region but none of those media reports were based on any careful reading of the document s contents the  arabiclanguage document which was translated in full for the american conservative doesn t support the media narrative of new evidence of iranal qaeda cooperation either before or after  at allit provides no evidence whatsoever of tangible iranian assistance to al qaeda on the contrary it confirms previous evidence that iranian authorities quickly rounded up those al qaeda operatives living in the country when they were able to track them down and held them in isolation to prevent any further contact with al qaeda units outside irantaken by surprisewhat it shows is that the al qaeda operatives were led to believe iran was friendly to their cause and were quite taken by surprise when their people were arrested in two waves in late  it suggests that iran had played them gaining the fighters trust while maximizing intelligence regarding al qaeda s presence in irannevertheless this account which appears to have been written by a midlevel al qaeda cadre in  appears to bolster an internal al qaeda narrative that the terror group rejected iranian blandishments and were wary of what they saw as untrustworthiness on the part of the iranians the author asserts the iranians offered saudi al qaeda members who had entered the country money and arms anything they need and training with hezbollah in exchange for hitting american interests in saudi arabia and the gulf but there is no word about whether any iranian arms or money were ever actually given to al qaeda fighters and the author acknowledges that the saudis in question were among those who had been deported during sweeping arrests casting doubt over whether there was ever any deal in the offingthe author suggests al qaeda rejected iranian assistance on principle we don t need them he insisted thanks to god we can do without them and nothing can come from them but evil that theme is obviously important to maintaining organizational identity and morale but later in the document the author expresses deep bitterness about what they obviously felt was iranian doubledealing in  to  they are ready to playact he writes of the iranians their religion is lies and keeping quiet and usually they show what is contrary to what is in their mind  it is hereditary with them deep in their character the author recalls that al qaeda operatives were ordered to move to iran in march  three months after they had left afghanistan for waziristan or elsewhere in pakistan the document by the way says nothing of any activity in iran before  he acknowledges that most of his cadres entered iran illegally although some of them obtained visas from the iranian consulate in karachiamong the latter was abu hafs al mauritani an islamic scholar who was ordered by the leadership shura in pakistan to seek iranian permission for al qaeda fighters and families to pass through iran or to stay there for an extended period he was accompanied by middle and lowerranking cadres including some who worked for abu musab al zarqawi the account clearly suggests that zarqawi himself had remained in hiding after entering iran illegallystrict conditionsabu hafs al mauratani did reach an understanding with iran according to the al qaeda account but it had nothing to do with providing arms or money it was a deal that allowed them to remain for some period or to pass through the country but only on the condition that they observe very strict security conditions no meetings no use of cell phones no movements that would attract attention the account attributes those restrictions to iranian fears of us retribution which was undoubtedly part of the motivation but it is clear iran viewed al qaeda as an extremist salafist security threat to itself as wellmost of the al qaeda visitors according to the al qaeda document settled in zahedan the capital of sistan and baluchistan province where the majority of the population are sunnis and speak baluchi they generally violated the security restrictions imposed by the iranians they established links with the baluchis who he notes were also salafists and began holding meetings some of them even made direct contact by phone with salafist militants in chechnya where a conflict was rapidly spiraling out of control saif aladel one of the leading al qaeda figures in iran at the time later revealed that the al qaeda fighting contingent under abu musab al zarqawi s command immediately began reorganizing to return to afghanistanwaves of arreststhe first iranian campaign to round up al qaeda personnel which the author of the documents says was focused on zahedan came in may or june  no more than three months after they have had entered iran those arrested were either jailed or deported to their home countries the saudi foreign minister praised iran in august for having transferred  al qaeda suspects to the saudi government in junein february  iranian security launched a new wave of arrests this time they captured three major groups of al qaeda operatives in tehran and mashad including zarqawi and other top leaders in the country according to the document saif al adel later revealed in a post on a proal qaeda website in  reported in the saudiowned newspaper asharq alawsat that the iranians had succeeded in capturing  percent of the group associated with zarqawi and that it had caused the failure of  percent of our plan the anonymous author writes that the initial iran policy was to deport those arrested and that zarqawi was allowed to go to iraq where he plotted attacks on shia and coalition forces until his death in  but then he says the policy suddenly changed and the iranians stopped deportations instead opting to keep the al qaeda senior leadership in custody presumably as bargaining chips yes iran deported  al qaeda suspects to other countries including saudi arabia in  but the al qaeda leaders were held in iran not as bargaining chips but under tight security to prevent them from communicating with the al qaeda networks elsewhere in the region which bush administration officials eventually acknowledgedafter the arrests and imprisonment of senior al qaeda figures the al qaeda leadership became increasingly angry at iran in november  unknown gunmen abducted an iran consular official in peshawar pakistan and in july  al qaeda operatives in yemen kidnapped an iranian diplomat in march  iran reportedly released five of the senior al qaeda in prison including said aladel in return for the release of the diplomat in yemenin a document taken from the abbottabad compound and published by west point s counterterrorism center in  a senior al qaeda official wrote we believe that our efforts which included escalating a political and media campaign the threats we made the kidnapping of their friend the commercial counselor in the iranian consulate in peshawar and other reasons that scared them based on what they saw we are capable of to be among the reasons that led them to expedite the release of these prisoners there was a time when iran did view al qaeda as an ally it was during and immediately after the war of the mujahedin against soviet troops in afghanistan that of course was the period when the cia was backing bin laden s efforts as well but after the taliban seized power in kabul in  and especially after taliban troops killed  iranian diplomats in mazarisharif in  the iranian view of al qaeda changed fundamentally since then iran has clearly regarded it as an extreme sectarian terrorist organization and its sworn enemy what has not changed is the determination of the us national security state and the supporters of israel to maintain the myth of an enduring iranian support for al qaedagareth porter is an independent journalist and winner of the  gellhorn prize for journalism this article originally appeared at the american conservativeread more iran news at  century wire iran newssupport  subscribe now  become a member ",
         "0"
        ],
        [
         "14373",
         "a report just came out about the crazy huge numbers of illegals crossing our open border yes obama has basically opened our borders to pretty much anyone who can walk or crawl across that means people from all over the globe including terroriststhe prospect of donald trump s border wall becoming a reality has illegal immigrants racing for the usan investigative report by reuters quantitatively and qualitatively shows the republican frontrunner s vow to secure the border has struck fear into the hearts of wouldbe illegal aliens the news service interviewed migrants and smugglers for tuesday s report in addition to pouring over customs and border patrol data if trump wins we re all screwed and all latinos are screwed isaias franco a  from el salvador who was deported from the united states late last year and is now trying to get back said at a migrant shelter in ciudad juarez just across the border from el paso texasus customs and border protection cbp data shows  migrants were detained trying to cross the usmexico border between october and february up  percent from the same period last yearsimilar data for unaccompanied child migrants those traveling without a guardian is not yet available but between october and january  kids were apprehended on the southwest border up over  percent from a year ago they think they need to take advantage while they can said blanca rivera who manages a ciudad juarez mexico migrant sheltershe said coyotes in the honduran capital tegucigalpa who charge about  per person have been telling people now is the time to leavecbp data revealed  people were apprehended trying to illegal enter the us through its southern border between october and february  a  percent jump over the previous year unaccompanied minors detained illegally entering the us from october to january  skyrocketed  percent compared to the previous yearisaias franco a  from el salvador who was deported from the us last year told reuters from ciudad juarez that he was determined to return if trump wins we re all screwed and all latinos are screwed franco said you watch the news there s a lot of fear among latinos read more wndmexico rejects the possibility of a wallmexico city reuters there is no way mexico would fund donald trump s terrible plan to build a wall along its border with the united states if the republican frontrunner wins the us presidential election the mexican finance minister saidtrump the new york billionaire developer and former reality television star sparked outrage in mexico when he vowed to force latin america s second largest economy to pay for a wall along the southern us border to stem the flow of illegal immigration and drugsin a televised interview late on wednesday finance minister luis videgaray categorically rejected the proposal under no circumstance will mexico pay for the wall that mr trump is proposing he said building a wall between mexico and the united states is a terrible idea it is an idea based on ignorance and has no foundation in the reality of north american integration trump has accused mexico of sending rapists and drug runners across the us border and has vowed to increase fees on some mexican visas and all border crossing cards as part of a broader plan to force mexico to pay for the wall read more yahoo",
         "0"
        ],
        [
         "38561",
         "aden reuters  the saudiled military coalition fighting against yemen s houthi movement will allow the resumption of international commercial flights to the country a yemeni government minister said easing its nationwide blockade the alliance said on monday it had closed all air land and sea ports in yemen to stem the alleged flow of arms to the houthis from iran after saudi arabia intercepted a missile fired towards riyadh which it blamed on tehran flights by national carrier yemenia to the prosaudi governmentheld cities of aden and seiyun would resume on sunday yemeni transport minister mourad alhalimi said the united nations had warned that a total blockade could cause a famine that could kill millions in yemen where  years of war has killed at least  people and unleashed famine and disease in the already impoverished country the european commissioner for humanitarian aid called on the saudiled coalition to allow aid to reach the yemeni population the eu urges the coalition to ensure the immediate resumption of the un s flights and activities in the ports of hodeida and saleef and the opening of land borders for humanitarian relief and basic commercial commodities christos stylianides said on saturday the governmentheld southern yemeni port of aden was reopened on wednesday but ports in houthiheld areas are still shut the coalition reopened the al wadea border crossing linking saudi arabia with territory in eastern yemen on thursday ",
         "1"
        ],
        [
         "35634",
         "buenos aires reuters  argentina s lower house of congress will try on monday to debate the government s pension bill lawmakers said on friday after the first attempt at discussing it this week ended with violent protests that forced the legislature to suspend session the bill key to president mauricio macri s effort to lower business costs and reduce argentina s fiscal deficit has already passed the senate leaving the lower house to give final legislative approval but thursday s debate was suspended after it sparked riots in the capital that were put down by police firing rubber bullets and tear gas opposition protesters politicians and unions say the legislation will hurt pensioners for monday s debate the bill will be amended to provide a bonus to the country s most needy retirees the government said the move may increase its chances of passage the amendment will make a strong effort to compensate those most in need macriallied house member mario negri told reporters the agreement to include the bonus came after a long meeting on friday among lawmakers provincial governors and macri administration officials macri is aiming to cut the fiscal deficit to  percent of gross domestic product next year from  percent this year and to reduce inflation to between  and  percent from above  percent this year the pension bill would change the formula used to calculate benefits payments would adjust every quarter based on inflation rather than the current system of twiceyearly adjustments linked to wage rises and tax revenue economists say the current formula means benefits go up in line with past inflation left unchanged that could harm macri s efforts to cut the fiscal deficit under the new formula benefits would increase by  percentage points above inflation according to cabinet chief marcos pena the plan would take effect at a time of lower inflation expectations hence slowing the pace of pension benefit increases ",
         "1"
        ],
        [
         "32300",
         "new york reuters  hillary clinton disputed a scathing assessment by the federal bureau of investigation that she was “extremely careless” with classified government secrets saying on friday she relied on the judgment of her subordinates at the us state department after maintaining for more than a year that she did not send or receive classified information through her unauthorized private email system she acknowledged in a string of interviews on friday she may have at least unwittingly done so three days after the fbi concluded this happened at least  times clinton the presumptive democratic presidential nominee said she “certainly did not believe” that she was handling classified information on her email system at the time but emphasized that she followed the lead of her subordinates on whether information was classified “i did not have a basis for secondguessing their conclusion” clinton said in an interview with cnn saying she had the “highest regard” for her former colleagues “these are experienced diplomats they have expertise in handling classified material” she said in a separate interview with pbs newshour “they were not careless and the material that they sent they did not believe that was classified” clinton who was the department’s most senior classifying authority during her fouryear tenure at its helm did not address the fbi’s conclusion that she herself sent information on topics classified as ‘top secret’ the highest level through a private server she kept in her basement “i have said and i repeated that it was a mistake to use personal email and i regret that” she said in another interview with abc it is a crime to mishandle classified information and while fbi director james comey said on tuesday there was evidence clinton or her aides may have broken these laws there was not enough evidence of criminal intent for a prosecution in an unusual  announcement explaining the fbi’s findings comey ended up dismaying both republicans and democrats while clinton’s republican opponents have fumed at the decision not to file criminal charges clinton and her staff have disputed some of comey’s criticisms that undermine her argument that she has better judgment than donald trump the presumptive republican presidential candidate comey called her and her staff “extremely careless” and said that any “reasonable” government employee should have recognized that such information should not be aired in emails her server was so poorly secured the fbi could not eliminate the possibility it had not been hacked by the country’s enemies comey said asked if she agreed that she was “extremely careless” clinton told cnn she was not adding that comey had “clarified” his remarks it was unclear what clarification clinton meant in lengthier comments before lawmakers on thursday comey again spoke of clinton’s and her staff’s carelessness and “real sloppiness” adding that it seemed she was not “particularly sophisticated with respect to classified information” ",
         "1"
        ],
        [
         "37091",
         "istanbul reuters  turkish prosecutors have issued detention warrants for  people in an operation targeting supporters of usbased cleric fethullah gulen within the army staterun anadolu news agency reported on wednesday it said  of those facing arrest in the istanbulbased operation were soldiers  of them serving personnel ankara accuses gulen and his network of orchestrating an attempted coup last year gulen denies the charge istanbul police officers were continuing operations to capture the suspects it said the private dogan news agency said seven of those facing arrest were pilots more than  people have been jailed pending trial over links to gulen while  people have been sacked or suspended from jobs in the public and private sectors since the july  failed putsch in which  people were killed sixteen months on operations targeting supporters of the usbased preacher are continuing on a daily basis last week nearly  people were detained in related investigations while turkey s western allies and rights groups have voiced concern that ankara is using the investigations to crack down on dissent turkey says only such a purge could neutralize the threat represented by gulen s network which it says infiltrated institutions such as the military judiciary and schools ",
         "1"
        ],
        [
         "22052",
         " century wire says while everyone is busy hyping the north korean nuclear threat  the one thing that few mainstream media outlets dare to ask about north korea is do they actually have an operational nuclear weapons programhere s your answer noto date there is no evidence at all that pyongyang has an operational nuclear weapons program much less a capable or accurate enough ballistic missile program that could deliver such weaponsthe dear leader kim jungunthe usual western sources media reportage and intelligence sources claim that north korea conducted atomic bomb tests in   and  although none of these can be independently verified yet so again the answer so far has to be nonorth korea also claimed that it tested a hydrogen bomb in january  understandably fox news loves these pyongyang propaganda claims as it bolsters the military defense industry global threat talking point but again this has not yet been independently verified yetthe fundamental question should be if pyongyang has nukes and no one has actually seen them including washington spooks then why is the media hyping their existence the washington post admitted as much in  when a former senior obama administration official admitted there s no actual evidence of any such weapons saying we re worried about it but we haven t seen it the rest is just expensive guesswork and us military industrial complex fear mongeringperhaps the real story is that a divided korea between north and south provides the us with its sole justification for carrying on occupying its many military installations in japan the philippines and numerous other pacific archipelago installationsin other words it pays for the north korean nuclear threat to be real understandably the war hawks and other flamboyant infotainment personalities will not be happy with this statement made yesterday by us secretary of state rex tillerson who instead called for diplomacy with pyongyang rt international reports washington does not seek regime change in north korea and at some point would like to have a dialogue with pyongyang to deescalate the tensions on the peninsula us secretary of state rex tillerson has said we do not seek a regime change we do not seek the collapse of the regime we do not seek an accelerated reunification of the peninsula we do not seek an excuse to send our military north of the  parallel tillerson told reporters tuesday in washington dcdespite repeated warnings from washington that the us might resort to a military solution to curb pyongyang s nuclear and missile programs tillerson stressed that the us is trying to convey to the north koreans that we are not your enemy we are not your threat but he said north korea continues to present an unacceptable threat to the united states which forces washington to respond tillerson however expressed hope that washington and pyongyang can resolve their issues through negotiations we would like to sit and have a dialogue with them about the future that will give them the security they seek and the future economic prosperity for north korea tillerson saidsecretary tillerson on dprk united states and china share the same objective a denuclearized korean peninsula  department of state statedept august   this article at rt read more north korea news at  century wire north korea filessupport our work by subscribing  becoming a member ",
         "0"
        ],
        [
         "4475",
         "donald trump spent monday night making a total ass out of himself in the first presidential debate we were all waiting to see just what would happen tonight and it was quite the spectacle from lies to selfincrimination watching the gop nominee s performance was the equivalent of one facepalm after anotherso here you go a complete list of every batshit crazy thing that came out of donald trump s mouth during the first presidential debate there s nobody in our government to fight them chin and we have a very good fight and we have a winning fight they re using our country as a piggy bank to rebuild china and many other countries are doing the same thing we have to stop these countries from stealing our companies our country s in deep trouble we don t know what we re doing with devaluations especially when it comes to china they re the best they re the best ever at it what they re doing to us is a very very sad thing that s called business by the way referring to making money off of the  financial collapse i m a great believer in all forms of energy our country is losing a so much in terms of energy in terms of paying off our debt i will bring back jobs you can t bring back jobs that s about all you ve got referring to clinton s book we are stronger together you are going to approve one of the biggest tax cuts in history you are going to approve one of the biggest tax increases in history you are going to drive businesses out i m going to cut taxes bigleague you are going to raise taxes bigleague and take a look at mine also referring to his campaign website she tells us how to fight isis on her website i don t think douglas macarthur would like that too much you re telling the enemy everything you want to do no wonder you ve been fighting isis your entire adult life well i m really calling for major jobs because the wealthy are going to create tremendous jobs they re going to expand their companies they re going to do a tremendous job hahahaha i m getting rid of the carried interest provision and if you really look it s really not a great thing for the wealthy it s really a great thing for middle class methinks thou dost protest too much these people are going to put billions and billions of dollars into companies and when they re going to bring  trillion dollars back from overseas where they can t bring the money back because politicians like secretary clinton won t allow them to bring the money back because the taxes are so onerous and the bureaucratic red tape is so bad or because those companies are greedy and unamerican just saying so what they re doing is leaving our country and believe it or not they re leaving our country because the taxes are too high because some of them companies have lots of money outside our country and instead of bringing it back and putting the money to work because they can t work out a deal and everybody agrees it should be brought back instead of that they re leaving our country to get their money because they can t bring their money back into our country because of bureacratic red tape because they can t get together because we have a president that can t sit them around a table and get them to approve something maybe companies should just pay their taxes so we don t need to cut valuable public services we have no leadership and honestly that starts with secretary clinton why not blame clinton for everythin we re in a bubble right now and the only thing that looks good is the stock market we have a fed that is doing political things the fed is being more political than secretary clinton when we have a country that s doing so badly that s being ripped off by every single country in the world it s the kind of thinking that our country needs we have people that are political hacks negotiating our trade deals in response to a question about his taxes i ve been under audit for almost  years i know a lot of wealthy people that have never been audited i say have you been audited i get audited almost every year and in a way i should be complaining i m not even complaining i don t mind it it s almost become a way of life i get audited by the irs but other people don t we have a situation in this country that needs to be taken care of i will release my tax returns against my lawyers wishes that makes me smart in response to paying zero dollars in federal income taxes i could give you a list of banks if that would help you i would give you a list of banks these are very fine institutions very fine banks i could do that very quickly i have a tremendous income the reason i say that is not in a braggadocios way it s about time that this country had somebody running it that has an idea about money our airports are like from a third world country we ve become a third world country the worst of all things has happened and it s really a shame and it s politicians like secretary clinton that have caused this problem our country has tremendous problems we re a debtor nation we re a serious debtor nation and we have a country that needs new roads new tunnels new bridges new airports new schools new hospitals and we don t have the money because it s been squandered on so many of your ideas it would be squandered too believe me in response to not paying any federal income taxes maybe he didn t do a good job and i was unsatisfied with his work which our country should do too referring to not paying people who worked for him but on occasion four times we used certain laws that are there and when secretary clinton talks about people that didn t get paid first of all they did get paid a lot but taken advantage of the laws of the nation now if you want to change the laws you ve been there a long time change the laws but i take advantage of the laws of the nation because i m running a company my obligation right now is to do well for myself my family my employees for my companies and that s what i do referring to bankrupting four companies and not paying his business debts but what she doesn t say is that tens of thousands of people that are unbelievably happy and that love me i ll give you an example we re just opening up on pennsylvania avenue right next to the white house so if i don t get there one way i m going to get to pennsylvania avenue another when we look at the budget the budget is bad to a large extent because we have people that have no idea as to what to do and how to buy well first of all secretary clinton doesn t want to use a couple of words and that s law and order and we need law and order if we don t have it we re not going to have a country now whether or not in a place like chicago you do stop and frisk which worked very well mayor giuliani is here worked very well in new york we have to be we have to know what we re doing right now our police in many cases are afraid to do anything no you re wrong it went before a judge who was a very againstpolice judge it was taken away from her and our mayor our new mayor refused to go forward with the case they would have won an appeal if you look at it throughout the country there are many places where it s allowed referring to racial profiling becoming outlawed as unconstitutional we need law and order and we need law and order in the inner cities because the people that are most affected by what s happening are africanamerican and hispanic people and it s very unfair to them what our politicians are allowing to happen i have the endorsement of the nra which i m very proud of these are very very good people but i think we have to look very strongly at nofly lists and watch lists and when people are on there even if they shouldn t be on there we ll help them we ll help them legally we ll help them get off but i tend to agree with that quite strongly but stopand frisk had a tremendous impact on the safety of new york city tremendous beyond belief so when you say it has no impact it really did it had a very very big impact they ve been abused and used in order to get votes by democrat politicians because that s what it is they ve controlled these communities for up to  years you know you ve seen me i ve been all over the place you decided to stay home and that s ok but i will tell you i ve been all over and i ve met some of the greatest people i ll ever meet within these communities when i got involved i didn t fail i got him to give the birth certificate so i m satisfied with it and i ll tell you why i m satisfied with it but i was the one that got him to produce the birth certificate and i think i did a good job well it was very i say nothing i say nothing because i was able to get him to produce it he should have produced it a long time before i say nothing but let me just tell you when you talk about healing i think that i ve developed very very good relationships over the last little while with the africanamerican community i think you can see that and i feel that they really wanted me to come to that conclusion and i think i did a great job and a great service not only for the country but even for the president in getting him to produce his birth certificate first of all i got to watch in preparing for this some of your debates against barack obama you treated him with terrible disrespect and i watched the way you talk now about how lovely everything is and how wonderful you are it doesn t work that way you were after him now as far as the lawsuit yes when i was very young i went into my father s company had a real estate company in brooklyn and queens and we along with many many other companies throughout the country it was a federal lawsuit were sued we settled the suit with zero with no admission of guilt it was very easy to do and you know i also notice the very nasty commercials that you do on me in so many different ways which i don t do on you maybe i m trying to save the money but frankly i look i look at that and i say isn t that amazing because i settled that lawsuit with no admission of guilt but that was a lawsuit brought against many real estate firms and it s just one of those things i ll go one step further in palm beach florida tough community a brilliant community a wealthy community probably the wealthiest community there is in the world i opened a club and really got great credit for it no discrimination against african americans against muslims against anybody and it s a tremendously successful club and i m so glad i did it and i have been given great credit for what i did and i m very very proud of it and that s the way i feel that is the true way i feel in addition i was just endorsed by ice they ve never endorsed anybody before on immigration i was just endorsed by ice as far as the cyber i agree to parts of what secretary clinton said we should be better than anybody else and perhaps we re not i don t think anybody knows it was russia that broke into the dnc she s saying russia russia russia but i don t maybe it was i mean it could be russia but it could also be china it could also be lots of other people it also could be somebody sitting on their bed that weighs  pounds ok now whether that was russia whether that was china whether it was another country we don t know because the truth is under president obama we ve lost control of things that we used to have control over we came in with the internet we came up with the internet and i think secretary clinton and myself would agree very much when you look at what isis is doing with the internet they re beating us at our own game isis so we have to get very very tough on cyber and cyber warfare it is it is a huge problem i have a son he s  years old he has computers he is so good with these computers it s unbelievable the security aspect of cyber is very very tough and maybe it s hardly doable but i will say we are not doing the job we should be doing but that s true throughout our whole governmental society we have so many things that we have to do better and certainly cyber is one of them so she talks about taking them out she s been doing it a long time she s been trying to take them out for a long time but they wouldn t have even been formed if they left some troops behind like  or maybe something more than that and then you wouldn t have had them speaking about the creation of isis or as i ve been saying for a long time and i think you ll agree because i said it to you once had we taken the oil and we should have taken the oil isis would not have been able to form either because the oil was their primary source of income and now they have the oil all over the place including the oil a lot of the oil in libya wrong wrong wrong the secretary said very strongly about working with we ve been working with them for many years and we have the greatest mess anyone s ever seen but you look at the middle east you started the iran deal that s another beauty where you have a country that was ready to fall i mean they were doing so badly they were choking on the sanctions and now they re going to be actually probably a major power at some point pretty soon the way they re going number one the  countries of nato many of them aren t paying their fair share number two and that bothers me because we should be asking we re defending them and they should at least be paying us what they re supposed to be paying by treaty and contract and number two i said and very strongly nato could be obsolete because and i was very strong on this and it was actually covered very accurately in the new york times which is unusual for the new york times to be honest but i said they do not focus on terror and i was very strong and i said it numerous times and about four months ago i read on the front page of the wall street journal that nato is opening up a major terror division and i think that s great and i think we should get because we pay approximately  percent of the cost of nato it s a lot of money to protect other people but i m all for nato but i said they have to focus on terror also and they re going to do that and that was believe me i m sure i m not going to get credit for it but that was largely because of what i was saying and my criticism of nato and believe me you were the ones that took out the troops not only that you named the day they couldn t believe it they sat back probably and said i can t believe it but you were there and you were secretary of state when it was a little infant now it s in over  countries and you re going to stop them i don t think so that is a mainstream media nonsense put out by her because she frankly i think the best person in her campaign is mainstream media well i have much better judgment than she does there s no question about that i also have a much better temperament than she has you know i have a much better she spent let me tell you she spent hundreds of millions of dollars on an advertising you know they get madison avenue into a room they put names oh temperament let s go after i think my strongest asset maybe by far is my temperament i have a winning temperament i know how to win she does not have a wait the aflcio the other day behind the blue screen i don t know who you were talking to secretary clinton but you were totally out of control i said there s a person with a temperament that s got a problem wrong it s lies that line s getting a little bit old i must say i would like to it s not an accurate one at all it s not an accurate one so i just want to give a lot of things and just to respond i agree with her on one thing the single greatest problem the world has is nuclear armament nuclear weapons not global warming like you think and your your president thinks nuclear is the single greatest threat just to go down the list we defend japan we defend germany we defend south korea we defend saudi arabia we defend countries they do not pay us but they should be paying us because we are providing tremendous service and we re losing a fortune that s why we re losing we re losing we lose on everything i say who makes these we lose on everything all i said that it s very possible that if they don t pay a fair share because this isn t  years ago where we could do what we re doing we can t defend japan a behemoth selling us cars by the million all i said was they may have to defend themselves or they have to help us out we re a country that owes  trillion they have to help us out well i have to say that you know for what secretary clinton was saying about nuclear with russia she s very cavalier in the way she talks about various countries but russia has been expanding their they have a much newer capability than we do we have not been updating from the new standpoint we are not we are not keeping up with other countries i would like everybody to end it just get rid of it but i would certainly not do first strike i think that once the nuclear alternative happens it s over at the same time we have to be prepared i can t take anything off the table because you look at some of these countries you look at north korea we re doing nothing there china should solve that problem for us china should go into north korea china is totally powerful as it relates to north korea why didn t you add other things into the deal one of the great giveaways of all time of all time including  million in cash nobody s ever seen that before that turned out to be wrong it was actually  billion in cash obviously i guess for the hostages it certainly looks that way so you say to yourself why didn t they make the right deal this is one of the worst deals ever made by any country in history and they re going to end up getting nuclear i met with bibi netanyahu the other day believe me he s not a happy camper but i will tell you that hillary will tell you to go to her website and read all about how to defeat isis which she could have defeated by never having it you know get going in the first place right now it s getting tougher and tougher to defeat them because they re in more and more places more and more states more and more nations and she doesn t say that because she s got no business ability we need heart we need a lot of things but you have to have some basic ability and sadly she doesn t have that all you have to do is speak to them wait you have so many different things you have to be able to do and i don t believe that hillary has the stamina the world let me tell you let me tell you hillary has experience but it s bad experience we have made so many bad deals during the last so she s got experience that i agree but it s bad bad experience i never said that i didn t say that where did you find this oh really you know hillary is hitting me with tremendous commercials some of it s said in entertainment some of it s said somebody who s been very vicious to me rosie o donnell i said very tough things to her and i think everybody would agree that she deserves it and nobody feels sorry for her but you want to know the truth i was going to say something extremely rough to hillary to her family and i said to myself i can t do it i just can t do it it s inappropriate it s not nice wow in hindsight it would have probably been easier to list the things trump said that weren t completely and utterly ridiculous when it finally came time to face off with hillary clinton on the debate stage trump failed miserably and totally embarrassed himself as hillary said monday night donald lives in his own reality presumably a reality where he thinks he actually makes sensefeatured image via win mcnameegetty images",
         "0"
        ],
        [
         "10896",
         "four candidates for fbi director are being interviewed today it looks like president trump is going for candidates who are apolitical john cornyn would be the only exception to the group interviewing why the texas republican senatorthe remaining three arealice fisher lawyermichael garcia judgeandrew mccabe assistant fbi director acting directorwe re hoping the assistant fbi director is being granted an interview out of courtesy and appearances he should be firedmccabe is under investigation and is a huge clinton crony the list of reasons not to give him the job are a mile longa few of our past reports on mccaberepublican turns tables on fbi deputy director on the hot seat nowbreaking crooked va governor close hillary friend gave wife of fbi official overseeing hillary email investigation  secret recordings about clinton foundation caused hostility infighting between fbi agentsthe justice department interviews four candidates todaythe justice department is interviewing four candidates on saturday for the permanent position of fbi director an administration official with knowledge of the vetting process confirmedthe candidates include the current acting director a sitting congressman a new york judge and a former top justice department official during the george w bush administration news reports throughout the day friday cited as many as  people under consideration for the positionattorney general jeff sessions and deputy attorney general rod rosenstein plan to interview four candidates at the justice department on saturday afternoon but it was unclear whether additional interviews might take place at a later dateaccording to the administration official the four candidates being interviewed saturday are acting fbi director andrew mccabe sen john cornyn texas republican the senate majority whip judge michael garcia an associate judge at the new york court of appeals and alice fisher an attorney at latham and watkins law firm in washington dc and a former assistant attorney general for the justice department s criminal divisionpresident trump abruptly fired former fbi director james comey on tuesday and mr mccabe was appointed to fill the role on an acting basisvia wt",
         "0"
        ],
        [
         "32340",
         "reuters  democratic presidential contender hillary clinton on wednesday proposed a temporary freeze on some student debt and the cutting of college tuition entirely for some families focusing on an issue important to supporters of her rival bernie sanders clinton’s latest proposal includes a threemonth moratorium for federal student loan payments and a new measure to eliminate instate college tuition for families whose income does not exceed  according to a release from her campaign the proposal builds on her earlier plan for easing student debt loads for higher education clinton the former secretary of state and presumptive democratic party nominee is looking to win over supporters of sanders the vermont senator who was her main opponent for the nomination as he consistently sought to push the party left the presumptive republican nominee businessman donald trump also has courted sanders’ voters trying to use his outsider appeal to bring them over to his campaign on wednesday clinton proposed using executive action to offer a threemonth moratorium on student loan payments to all federal loan borrowers to offer help for borrowers to consolidate loans and find other methods to reduce their payments she previously has released proposals to increase access to tuition grants push for incomebased repayments and  like sanders  to allow graduates to refinance student loans at lower interest rates sanders praised the new clinton measures on wednesday saying in a statement that he wanted “to take this opportunity to applaud secretary clinton” ",
         "1"
        ],
        [
         "18462",
         "we are so sad to report that otto warmbier has died the university of cincinnati medical center announced monday that warmbier  died at  pm just days after he was released from captivity in north korea he was surrounded by family members at the time of his death hospital officials saidpresident trump had this to say about finally bringing otto hometrump now on warmbier we got him home to be with his parents they were so happy to see him even though he was in pretty tough condition  michael c bender michaelcbender june   family statementbreaking otto warmbier held in n korea until last week has died at ucmc his family s statement wcpo  evan millward evanmillward june   north koreans lied about the cause of the brain injury earlier doctors treating warmbier had said he suffered severe neurological injury and that he was in a state of unresponsive wakefulness north korean officials had claimed warmbier contracted botulism and never woke up after taking a sleeping pill doctors in cincinnati said he showed no signs of botulism when he arrived here last week though they couldn t say exactly what caused the cardiac or respiratory arrest that led to his unresponsive conditionobama did nothingfather of north korea prisoner otto warmbier the obama admin told us to keep quiet trump got our son  tennessee tengop june   had been sentenced to  years of hard labor in north korea after officials there said he took a propaganda banner from a hotel in early  his tour group was leaving when authorities detained warmbiertucker carlson interviewed otto s father who discussed how nothing was done until two months ago tillerson has come out to demand the release of the other  americans being held in north korea",
         "0"
        ],
        [
         "30698",
         "washingtonhong kong reuters  us lawmakers should take action to ban china’s stateowned firms from acquiring us companies a congressional panel charged with monitoring security and trade links between washington and beijing said on wednesday in its annual report to congress the uschina economic and security review commission said the chinese communist party has used statebacked enterprises as the primary economic tool to advance and achieve its national security objectives the report recommended congress prohibit us acquisitions by such entities by changing the mandate of cfius the us government body that conducts security reviews of proposed acquisitions by foreign firms “the commission recommends congress amend the statute authorizing the committee on foreign investment in the united states cfius to bar chinese stateowned enterprises from acquiring or otherwise gaining effective control of us companies” the report said cfius led by the us treasury and with representatives from eight other agencies including the departments of defense state and homeland security now has veto power over acquisitions from foreign private and statecontrolled firms if it finds that a deal would threaten us national security or critical infrastructure if enacted the panel’s recommendation would essentially create a blanket ban on us purchases by chinese stateowned enterprises the report “has again revealed the commission’s stereotypes and prejudices” chinese foreign ministry spokesman geng shuang said in beijing “we ask that chinese companies investing abroad abide by local laws and regulations and we hope that relevant countries will create a level playing field” he told a daily news briefing the panel’s report is purely advisory but could carry extra weight this year because they come as presidentelect donald trump’s transition team is formulating its trade and foreign policy agenda and vetting candidates for key economic and security positions congress also could be more receptive after us voter sentiment against job losses to china and mexico helped republicans retain control of both the house and the senate in last week’s election trump strongly criticized china throughout the us election campaign grabbing headlines with his pledges to slap  percent tariffs on imported chinese goods and to label the country a currency manipulator on his first day in office “chinese state owned enterprises are arms of the chinese state” dennis shea chairman of the uschina economic and security review commission told a news conference “we don’t want the us government purchasing companies in the united states why would we want the chinese communist government purchasing companies in the united states” the recommendation to change laws governing cfius was one of  proposals the panel made to congress on the military side it called for a government investigation into how far outsourcing to china has weakened the us defense industry the  panel also said congress should pass legislation that would require its preapproval of any move by the us commerce department to declare china a “market economy” and limit antidumping tariffs against the country the united states and us businesses attracted a record  billion worth of deals involving buyers from mainland china this year more than any other country targeted by chinese buyers according to thomson reuters data the push into the united states is part of a global overseas buying spree by chinese companies that this year has seen a record  billion worth of deals nearly double last year’s tally cfius has shown a higher degree of activism against chinese buyers this year catching some by surprise prominent deals that fell victim to cfius include tsinghua holdings’  billion investment in western digital wdco overall data do not demonstrate cfius has been a significant obstacle for chinese investment in the united states in  the latest year for which data is available china topped the list of foreign countries in cfius review with  deals reviewed out of more than  scrutinized by cfius although the number of chinese transactions reviewed rose in absolute terms it fell as a share of overall chinese acquisitions the report noted and the vast majority of deals reviewed by cfius were cleared ",
         "1"
        ],
        [
         "2210",
         "donald trump has basically built his life around doing nothing and taking credit for the accomplishments and work of others and that definitely has not changed since he won the election and got into the white house the crazy thing is he continues to claim the successes of his predecessor former president barack obama whom trump has repeatedly criticized and trashed in the pastthe gop has undermined obama s soaring track record for the past eight years they ve trashed everything obama improved from the economy to his employment record and now they re more than happy to take credit for his hard work earlier today white house press secretary sean spicer showed just how desperate and pathetic the white house is when he tweeted this horrible message great news for american workers economy added  new jobs unemployment rate drops to  in first report for potus trump trump hasn t even been in office for two full months these numbers are not a reflection of his work it s also worth nothing that those job numbers for february   are nearly identical to the ones in february   clearly this is obama s doing not trump s according to the bureau of labor statistics job gains have averaged  per month trump and his team are so delusional they seriously think they can take credit for the job numbers in february when they didn t even get into the white house until january  obama america saw the longest consecutive job creation streak in  years completely dismantling the gop s assertion that he didn t do anything for the country and left it worse than what he started with despite the fact that data shows that obama greatly improved our country trump has still promised the american people that he would fix our jobs honestly the best thing trump could do is just not mess up obama s workfeatured image via alex wong  getty images",
         "0"
        ],
        [
         "37101",
         "la paz reuters  bolivia s highest court struck down limits on reelection in the country s constitution and election laws on tuesday paving the way for socialist president evo morales to run for a fourth term in  in september morales movement to socialism mas party asked the south american country s highest court to rescind legal limits barring elected authorities from seeking reelection indefinitely arguing that these violate human rights all people that were limited by the law and the constitution are hereby able to run for office because it is up to the bolivian people to decide macario lahor cortez head of the plurinational constitutional court wrote in the ruling in the decision the court cited the american convention on human rights a multilateral treaty signed by many countries in the americas the secretary general of the organization of american states which is responsible for enforcing the treaty said the clause cited in the decision does not mean the right to perpetual power besides presidential reelection was rejected by popular will in a referendum in  luis almagro wrote on twitter late on tuesday the ruling is final and cannot be appealed morales who took power in  had previously accepted the results of a  referendum when  percent of bolivian voters rejected his proposal to reform the constitution to end existing term limits he later reversed course and said that while he would happily give up office his supporters were pushing for him to stay the landlocked andean country has enjoyed relative prosperity and calm under morales the country s first indigenous president but his efforts to extend term limits have set off protests across the country with opponents arguing morales was trying to tighten his grip on power in the vein of venezuelan president nicolas maduro a leftist ally opposition leader samuel doria medina said on twitter that the court decision was a blow to the constitution  ",
         "1"
        ],
        [
         "33922",
         "washington reuters  president barack obama has started to interview candidates for the us supreme court to replace justice antonin scalia who died last month national public radio reported on tuesday citing sources close to the process among the interviewees are chief judge merrick garland of the us court of appeals for the district of columbia judge sri srinivasan of the same court judge paul watford of the  circuit court of appeals based in san francisco judge jane kelly of the  circuit court of appeals based in st louis and us district judge ketanji brown jackson who serves in washington dc npr reported the first three of these individuals are considered the leading contenders npr said us attorney general loretta lynch earlier on tuesday asked not to be considered as a nominee the justice department said in a statement lynch had been rumored to be under consideration the process of filling the spot that was held by scalia one of the court’s most conservative justices has ignited a partisan battle in washington republicans who control the us senate do not want to see the court shift ideologically to the left and have said they will not hold a vote on obama’s nominee all appointees by the president to the supreme court are subject to approval by the senate senate majority leader mitch mcconnell has said the next supreme court justice should be chosen by the winner of the nov  presidential election ",
         "1"
        ],
        [
         "18683",
         "we can t say enough great things about this dad he confronted his child s school board to speak against the school teaching islam we ned more dads like this one to speak up against the very active push to teach islam in schoolsthis is disturbing for all parents cair has taken it upon themselves to claim that they need to fight islamophobia  they see this as a problem but we see this as a shady way to have islam taught in schools  we see what they re doing but the bleeding heart liberals in san diego are just passively accepting this propagandajanet levy of american thinker if allowed to stand the sdusd antibullying program geared specifically to the cairidentified needs of muslim students could mark a dangerous departure from treasured constitutional principles and first amendment protections this case warrants serious attention as it has grave implications for the direction of education and the supremacy of islam in the nation there s a huge problem on so many levels with this the most obvious one is that a christian would be hammered for even remotely trying to push christianity on the kids so why should we accept teaching islam to our kids the answer is we shouldn t dad christopher wyrickfinds out school is forcing islam religionbeliefs down his son s throathis patriotic reply goes viralbansharia  trump anomaly  may   for this in your schoolamerican thinker reported with a decadelong history of yielding to islamic demands and recent more alarming submissions san diego city schools appear to be ground zero for islamic indoctrination within american public schools the current capitulation includes an islamcentric curriculum with input and resources from a muslim brotherhoodaffiliated organization which raises first amendment issues as well as serious concerns of favoritism toward muslims students over students of other faithsthis past week sdusd in collaboration with the council on american islam relations cair instituted an antibullying campaign aimed specifically at protecting muslims students in launching the initiative sdusd cited an unsubstantiated study by cair claiming that  of american muslim students surveyed in california said they were bullied because of their religion the new program will include adding lessons on islam to the social studies curriculum that emphasize prominent muslims in history creating muslimonly safe spaces adding muslim holidays to the school calendar and providing support and resources for muslim students during ramadanaccording to stan anjan sdusd s executive director of family and community engagement the new program will focus on promoting a positive image of islam special disciplinary measures will also be created for the socalled bullying of muslims cited by cair instead of detention the school plans a restorative justice program in which students dialogue with each other about perceived bullying words or actions educational materials on islam and resource listings will be provided to parents and school personnel as wellcair a radical fundamentalist front group for hamas according to terrorism expert steve emerson was named as an unindicted coconspirator in a hamas terrorfunding case brought by the justice department in  cair operatives have repeatedly refused to denounce terrorist groups hamas and hezb allah and several cair executives have been successfully prosecuted and incarcerated for terrorist activities cair was designated as a terrorist group by the uae in   kevin beiser and michael mcquary two members of the sdusd board of education issued a formal proclamation in support and recognition of cair san diego citing ten years of constructive civic engagement in san diego and imperial counties they praised the organization s work to promote not only religious and cultural tolerance and understanding but also justice and equality for all who live in the united states cair director hanif mohebi was specifically complimented for his commitment to promoting equitable educational opportunity for all students and preparing them to succeed in a culturally diverse society the trustees recognized a community partnership with cair in mediating school situations involving discrimination and other behavioral issue and announced cair s upcoming tenth anniversary banquet centered on the theme strengthening our voices advancing together cair billing itself as a benign muslim civil rights organization has long been at the forefront in pressuring schools and businesses to accommodate the special needs of muslims in  cair complained of favoritism when christian students in roseville a detroit suburb were given permission slips to attend offsite bible study classes yet cair pushed in  for dearborn public schools to accommodate muslim prayer on school grounds and early friday dismissals for jumu ah prayers the organization has pressured schools to have a say on textbook selection and to feature its own lecturers for school assemblies when a public school teacher in concrete washington referenced the taliban and hamas while citing examples of the use of violence to bully people cair cried racism and called for a federal investigation saying the teacher had veered off topic to make antimuslim statements the school district responded that the teacher s comments were taken out of contextmohebi the head of cair san diego has been pushing the antiislamophobia program he recently tried to prevent the san diego police department from attending a training session on islamic terrorism featuring ryan mauro national security analyst for the clarion project a nonprofit dedicated to exposing the dangers of islamic extremism mohebi said officers would be learning conspiracy theories from mauro further mohebi importuned that no taxpayer dollars should pay for the training and that the sdpd should not confer continuing education credits for attendance in a further attempt to control police training on islam mohebi requested the ability to monitor police training to vouch for its accuracy and to provide clarifications throughout the sessioncair s recent activity and its incursion into the san diego schools curriculum has been criticized by charles limandri president and chief counsel of the freedom of conscience defense fund fcdf limandri said the san diego program represents a wholesale realignment of school curricula and the students learning environment to the recommendations of a religious organization whose stated mission is to enhance the understanding of islam and empower american muslims the fcdf maintains that the first amendment prohibits a government agency from attempting to effect a secular goal by the propagation of religious concepts limandri points out the litigious pitfalls of a curriculum which could easily be construed as a governmental endorsement of a religion he also cautions that cair s interpretation of the term bullying could extend to the stifling of criticism of islam further impinging on first amendment protectionscitizens for quality education san diego a nonpartisan group of citizens concerned about public education voiced their opposition to the new islamicfriendly curriculum and characterized it as an attempt to implement at local schools antiamerican sharia law incompatible with the us constitution the group criticized the blatant singling out of the muslim religion for special accommodations and demanded that the policy be rescinded despite widespread community outcry the district seems to be moving aheaddisturbing",
         "0"
        ],
        [
         "7394",
         "on sunday s edition of meet the press senator harry reid blasted mitch mcconnell for his continued lack of leadership and warned of a revolt by republican senators who understand how the constitution worksjust minutes after president obama announced his nominee judge merrick garland for the supreme court last week mcconnell vowed to continue his obstructionism while speaking to chuck todd senator reid said that he cannot understand what the hell the gop senate leader is thinking i don t know why mcconnell has done this to his senators he s marching these men women over a cliff the democrat went on to say that he doesn t believe some of the right s senators are going to ignore their constitutional duty like mcconnell wants them to i don t think they re going to go mitch mcconnell has said a lot of things but his republican senators are not going to go over that cliff with him they re not going to do it reid is right not all of the republicans in the senate are complete imbeciles they know that mcconnell is giving them bad advice as a matter of fact his obstructionism started falling apart in just a few hours after obama announced garland as his pickin spite of the fact that his senators are not falling in line like he expected them to mcconnell again said that he would never allow obama s nominee to be appointed during an interview with cnn on sunday who ought to make this lifetime appointment it s the next president not this one mitch mcconnell is still very confused about how elections work when we elected president obama for eight years not seven his continued insistence that he knows what the american people want is going to destroy his party further they already have trump pissing off the people of this country he probably shouldn t be adding to our anger just sayin  featured image via screenshot",
         "0"
        ],
        [
         "3952",
         "it s the first week of november so of course it s time for the annual war on christmas idiocy to get underway last year there was a massive brouhaha about starbucks holiday cups they were plain red and of course people were pissed somehow removing images like snowflakes and whatnot from the cups amounted to taking jesus out of christmas well starbucks just put out a green cup with people on it and of course people are pissedthere s just one problemthe green cups aren t starbucks holiday cupsstarbucks didn t even mention christmas or the holiday season when they released these cupsthey re actually unity cups designed to help remind people that we re all people all americans during an unprecedentedly divisive election season starbucks holiday cups haven t even come out yet but they will be red with what looks like white holly leaves and berries on them or one version is the photo was leaked and we can t see whether there are several versions or just that onewatch buzzfeed news video about the whole noncontroversy below it s the most wonderful time of the year people are mad about starbucks holiday cups again pictwittercomoxekvtwelk buzzfeed news buzzfeednews november   here is some of the proof that the war on christmas blockheads are exactly thatoh yes because starbucks can single handily take jesus out of christmas with a cup macdoesit   machaizelli november   is using a green cup for christmas this year because they re a bunch of cowards  barstool sports barstoolsports november   if you think starbucks is trying to take jesus out of christmas with the new cup make this go viral so starbucks makes cups red again pictwittercomkjscsgpaxq jazmine jazzhandd november   prince william ice center drinking my psl in my isisloving jesushating green starbucks cup happyholidays  kirsten burt kikirbu november   launches new cup bomb as waronchristmas begins starbuckschristmas charisma news charismanews november   i want is red holiday cups at starbucks this green cup shit is unacceptable mary shampton youshouldmaryme november   is the epitome of christian ignorance and privilege how s this learn what you re outraged over accept that you just made horrific fools of yourselves and get over it peoplefeatured image via video screen capture ",
         "0"
        ],
        [
         "22435",
         " century wire says isis inspired assad s barrel bombs we are at war with isis we are only arming the moderate rebels the russians are bombing hospitals isis claims responsibility for stabbing in minnesota we must save  children in aleppo from assad and the russians lies lies and more lies all paid for by the us taxpayer watch ",
         "0"
        ]
       ],
       "shape": {
        "columns": 2,
        "rows": 20
       }
      },
      "text/html": [
       "<div>\n",
       "<style scoped>\n",
       "    .dataframe tbody tr th:only-of-type {\n",
       "        vertical-align: middle;\n",
       "    }\n",
       "\n",
       "    .dataframe tbody tr th {\n",
       "        vertical-align: top;\n",
       "    }\n",
       "\n",
       "    .dataframe thead th {\n",
       "        text-align: right;\n",
       "    }\n",
       "</style>\n",
       "<table border=\"1\" class=\"dataframe\">\n",
       "  <thead>\n",
       "    <tr style=\"text-align: right;\">\n",
       "      <th></th>\n",
       "      <th>text</th>\n",
       "      <th>class</th>\n",
       "    </tr>\n",
       "  </thead>\n",
       "  <tbody>\n",
       "    <tr>\n",
       "      <th>35812</th>\n",
       "      <td>new delhi reuters  a hindu man in india tried ...</td>\n",
       "      <td>1</td>\n",
       "    </tr>\n",
       "    <tr>\n",
       "      <th>21941</th>\n",
       "      <td>when it comes to interpreting current events n...</td>\n",
       "      <td>0</td>\n",
       "    </tr>\n",
       "    <tr>\n",
       "      <th>14373</th>\n",
       "      <td>a report just came out about the crazy huge nu...</td>\n",
       "      <td>0</td>\n",
       "    </tr>\n",
       "    <tr>\n",
       "      <th>38561</th>\n",
       "      <td>aden reuters  the saudiled military coalition ...</td>\n",
       "      <td>1</td>\n",
       "    </tr>\n",
       "    <tr>\n",
       "      <th>35634</th>\n",
       "      <td>buenos aires reuters  argentina s lower house ...</td>\n",
       "      <td>1</td>\n",
       "    </tr>\n",
       "    <tr>\n",
       "      <th>32300</th>\n",
       "      <td>new york reuters  hillary clinton disputed a s...</td>\n",
       "      <td>1</td>\n",
       "    </tr>\n",
       "    <tr>\n",
       "      <th>37091</th>\n",
       "      <td>istanbul reuters  turkish prosecutors have iss...</td>\n",
       "      <td>1</td>\n",
       "    </tr>\n",
       "    <tr>\n",
       "      <th>22052</th>\n",
       "      <td>century wire says while everyone is busy hypi...</td>\n",
       "      <td>0</td>\n",
       "    </tr>\n",
       "    <tr>\n",
       "      <th>4475</th>\n",
       "      <td>donald trump spent monday night making a total...</td>\n",
       "      <td>0</td>\n",
       "    </tr>\n",
       "    <tr>\n",
       "      <th>10896</th>\n",
       "      <td>four candidates for fbi director are being int...</td>\n",
       "      <td>0</td>\n",
       "    </tr>\n",
       "    <tr>\n",
       "      <th>32340</th>\n",
       "      <td>reuters  democratic presidential contender hil...</td>\n",
       "      <td>1</td>\n",
       "    </tr>\n",
       "    <tr>\n",
       "      <th>18462</th>\n",
       "      <td>we are so sad to report that otto warmbier has...</td>\n",
       "      <td>0</td>\n",
       "    </tr>\n",
       "    <tr>\n",
       "      <th>30698</th>\n",
       "      <td>washingtonhong kong reuters  us lawmakers shou...</td>\n",
       "      <td>1</td>\n",
       "    </tr>\n",
       "    <tr>\n",
       "      <th>2210</th>\n",
       "      <td>donald trump has basically built his life arou...</td>\n",
       "      <td>0</td>\n",
       "    </tr>\n",
       "    <tr>\n",
       "      <th>37101</th>\n",
       "      <td>la paz reuters  bolivia s highest court struck...</td>\n",
       "      <td>1</td>\n",
       "    </tr>\n",
       "    <tr>\n",
       "      <th>33922</th>\n",
       "      <td>washington reuters  president barack obama has...</td>\n",
       "      <td>1</td>\n",
       "    </tr>\n",
       "    <tr>\n",
       "      <th>18683</th>\n",
       "      <td>we can t say enough great things about this da...</td>\n",
       "      <td>0</td>\n",
       "    </tr>\n",
       "    <tr>\n",
       "      <th>7394</th>\n",
       "      <td>on sunday s edition of meet the press senator ...</td>\n",
       "      <td>0</td>\n",
       "    </tr>\n",
       "    <tr>\n",
       "      <th>3952</th>\n",
       "      <td>it s the first week of november so of course i...</td>\n",
       "      <td>0</td>\n",
       "    </tr>\n",
       "    <tr>\n",
       "      <th>22435</th>\n",
       "      <td>century wire says isis inspired assad s barre...</td>\n",
       "      <td>0</td>\n",
       "    </tr>\n",
       "  </tbody>\n",
       "</table>\n",
       "</div>"
      ],
      "text/plain": [
       "                                                    text  class\n",
       "35812  new delhi reuters  a hindu man in india tried ...      1\n",
       "21941  when it comes to interpreting current events n...      0\n",
       "14373  a report just came out about the crazy huge nu...      0\n",
       "38561  aden reuters  the saudiled military coalition ...      1\n",
       "35634  buenos aires reuters  argentina s lower house ...      1\n",
       "32300  new york reuters  hillary clinton disputed a s...      1\n",
       "37091  istanbul reuters  turkish prosecutors have iss...      1\n",
       "22052   century wire says while everyone is busy hypi...      0\n",
       "4475   donald trump spent monday night making a total...      0\n",
       "10896  four candidates for fbi director are being int...      0\n",
       "32340  reuters  democratic presidential contender hil...      1\n",
       "18462  we are so sad to report that otto warmbier has...      0\n",
       "30698  washingtonhong kong reuters  us lawmakers shou...      1\n",
       "2210   donald trump has basically built his life arou...      0\n",
       "37101  la paz reuters  bolivia s highest court struck...      1\n",
       "33922  washington reuters  president barack obama has...      1\n",
       "18683  we can t say enough great things about this da...      0\n",
       "7394   on sunday s edition of meet the press senator ...      0\n",
       "3952   it s the first week of november so of course i...      0\n",
       "22435   century wire says isis inspired assad s barre...      0"
      ]
     },
     "execution_count": 19,
     "metadata": {},
     "output_type": "execute_result"
    }
   ],
   "source": [
    "data.sample(20)\n"
   ]
  },
  {
   "cell_type": "code",
   "execution_count": 20,
   "id": "200f6459",
   "metadata": {},
   "outputs": [
    {
     "data": {
      "application/vnd.microsoft.datawrangler.viewer.v0+json": {
       "columns": [
        {
         "name": "index",
         "rawType": "int64",
         "type": "integer"
        },
        {
         "name": "class",
         "rawType": "int64",
         "type": "integer"
        }
       ],
       "ref": "eefdf5ea-a8f8-4299-9214-5f7c7724629b",
       "rows": [
        [
         "0",
         "0"
        ],
        [
         "1",
         "1"
        ],
        [
         "2",
         "0"
        ],
        [
         "3",
         "1"
        ],
        [
         "4",
         "0"
        ],
        [
         "5",
         "1"
        ],
        [
         "6",
         "1"
        ],
        [
         "7",
         "0"
        ],
        [
         "8",
         "1"
        ],
        [
         "9",
         "1"
        ],
        [
         "10",
         "0"
        ],
        [
         "11",
         "0"
        ],
        [
         "12",
         "0"
        ],
        [
         "13",
         "1"
        ],
        [
         "14",
         "0"
        ],
        [
         "15",
         "0"
        ],
        [
         "16",
         "1"
        ],
        [
         "17",
         "1"
        ],
        [
         "18",
         "0"
        ],
        [
         "19",
         "1"
        ],
        [
         "20",
         "1"
        ],
        [
         "21",
         "0"
        ],
        [
         "22",
         "0"
        ],
        [
         "23",
         "0"
        ],
        [
         "24",
         "0"
        ],
        [
         "25",
         "0"
        ],
        [
         "26",
         "1"
        ],
        [
         "27",
         "1"
        ],
        [
         "28",
         "1"
        ],
        [
         "29",
         "0"
        ],
        [
         "30",
         "1"
        ],
        [
         "31",
         "0"
        ],
        [
         "32",
         "0"
        ],
        [
         "33",
         "1"
        ],
        [
         "34",
         "0"
        ],
        [
         "35",
         "0"
        ],
        [
         "36",
         "0"
        ],
        [
         "37",
         "0"
        ],
        [
         "38",
         "1"
        ],
        [
         "39",
         "0"
        ],
        [
         "40",
         "1"
        ],
        [
         "41",
         "0"
        ],
        [
         "42",
         "0"
        ],
        [
         "43",
         "0"
        ],
        [
         "44",
         "1"
        ],
        [
         "45",
         "1"
        ],
        [
         "46",
         "1"
        ],
        [
         "47",
         "0"
        ],
        [
         "48",
         "1"
        ],
        [
         "49",
         "0"
        ]
       ],
       "shape": {
        "columns": 1,
        "rows": 46962
       }
      },
      "text/plain": [
       "0        0\n",
       "1        1\n",
       "2        0\n",
       "3        1\n",
       "4        0\n",
       "        ..\n",
       "46957    0\n",
       "46958    1\n",
       "46959    1\n",
       "46960    0\n",
       "46961    0\n",
       "Name: class, Length: 46962, dtype: int64"
      ]
     },
     "execution_count": 20,
     "metadata": {},
     "output_type": "execute_result"
    }
   ],
   "source": [
    "balance['class']  # if your label column is named 'class'"
   ]
  },
  {
   "cell_type": "code",
   "execution_count": 21,
   "id": "a9bffca9",
   "metadata": {},
   "outputs": [],
   "source": [
    "balance.rename(columns={'class': 'label'}, inplace=True)"
   ]
  },
  {
   "cell_type": "code",
   "execution_count": 22,
   "id": "fdd0d79e",
   "metadata": {},
   "outputs": [
    {
     "data": {
      "text/plain": [
       "<Axes: xlabel='label', ylabel='count'>"
      ]
     },
     "execution_count": 22,
     "metadata": {},
     "output_type": "execute_result"
    },
    {
     "data": {
      "image/png": "[encoded data removed]",
      "text/plain": [
       "<Figure size 640x480 with 1 Axes>"
      ]
     },
     "metadata": {},
     "output_type": "display_data"
    }
   ],
   "source": [
    "sns.countplot(data=balance, x='label', order=balance['label'].value_counts().index)"
   ]
  },
  {
   "cell_type": "code",
   "execution_count": 23,
   "id": "40217c68",
   "metadata": {},
   "outputs": [],
   "source": [
    "def clean_text(text):\n",
    "    text = text.lower()\n",
    "    text = re.sub(r'\\[*?.\\]', '', text)\n",
    "    text = re.sub(r'https?://\\S+|www\\.\\S+', '', text)\n",
    "    text = re.sub(r'\\s+', ' ', text)\n",
    "    text = re.sub(r'[%s]' % re.escape(string.punctuation), '', text)\n",
    "    text = re.sub(r'\\n', '', text)\n",
    "    text = re.sub(r'\\w*\\d\\w*', '', text)\n",
    "    return text\n",
    "\n"
   ]
  },
  {
   "cell_type": "code",
   "execution_count": 24,
   "id": "f2e10a3c",
   "metadata": {},
   "outputs": [],
   "source": [
    "data['text'] = data['text'].apply(clean_text)"
   ]
  },
  {
   "cell_type": "code",
   "execution_count": 25,
   "id": "0cd89d57",
   "metadata": {},
   "outputs": [
    {
     "data": {
      "application/vnd.microsoft.datawrangler.viewer.v0+json": {
       "columns": [
        {
         "name": "index",
         "rawType": "int64",
         "type": "integer"
        },
        {
         "name": "text",
         "rawType": "object",
         "type": "string"
        },
        {
         "name": "class",
         "rawType": "int64",
         "type": "integer"
        }
       ],
       "ref": "0cb2ee92-e045-4af8-838b-b0bd9a23227b",
       "rows": [
        [
         "40365",
         "johannesburg reuters jacob zuma s spokesman said on friday there was no basis for reports that the south african president would axe his deputy cyril ramaphosa speculation about which has weighed on the currency and bonds the ruling african national congress anc party of which zuma is leader and ramaphosa deputy has been riven by bitter infighting ahead of a party conference in december at which a new leader will be chosen it s rumors and gossip and we don t comment on them at all zuma s spokesman bongani ngqulunga told reuters ramaphosa a trade unionistturnedbusiness tycoon is viewed as the most likely rival candidate to nkosazana dlaminizuma the former chairwoman of the african union who is zuma s pick for the leadership and is the president s exwife he has recently stepped up criticism of zuma s scandalplagued government asked in parliament on thursday whether he might be sacked ramaphosa said only that he would accept the president s decision if he lost his job on friday a spokesman for the deputy president said we are aware of the speculation but it is just speculation trade union federation cosatu and the south african communist party sacp both partners in the anc s ruling alliance have endorsed ramaphosa for the leadership south africa will elect a new president in and whoever the anc picks in december is likely to take over from zuma as the country s leader zuma is under pressure to step down before then with a recent south african court ruling that nearly corruption charges against him should be reinstated prompting more calls for the president to go zuma reshuffled his cabinet for the second time in seven months on tuesday irking some within the ruling alliance by sacking a minister belonging to the sacp and appointing a close ally to oversee an opaque nuclear deal analysts say zuma may make further changes before december to strengthen his hand going into the anc s elective conference speculation that he might remove ramaphosa who was the anc s chief negotiator during the transition from apartheid weighed on the rand and bonds which underperformed emerging market peers on friday versus a firmer dollar other emerging markets are weaker but not as much as the rand that s because of lingering political uncertainty especially these rumors about zuma axing ramaphosa said currency dealer at treasuryone wichard cilliers ramaphosa told parliament on thursday that if zuma s decision is to remove me i will accept that as a decision that will be taken by the president and i will continue serving the people of south africa in one form shape or another speaking on friday ramaphosa returned to the subject of corruption within the government and stateowned companies which is expected to be a main theme of his leadership campaign our state has been captured by people who want to milk the state who want to rob our country of the money that belongs to the people ramaphosa told members of the national education health allied workers union nehawu in cape town our state is now being talked about in the rest of the world in the most negative terms captured by certain interests by certain families by certain individuals wealthy friends of zuma the guptas have been accused by anc and opposition politicians of using their close relationship with the president and his allies to influence the awarding of government contracts worth hundreds of millions of dollars zuma and the guptas have denied any wrongdoing and the indianborn south african businessmen and their companies have not been charged with any crime in south africa regulators in the united states and britain are looking into links between the gupta family the south african government and banks they may have used to move money as a corruption investigation escalates in a statement on friday dlaminizuma denied she had any links to the gupta family ",
         "1"
        ],
        [
         "4858",
         "halfterm governor of alaska and professional grifter sarah palin faceplanted while rock running so naturally she took to her facebook account to bash hillary clinton sarah seems to think that hillary is in hiding and she links to several breitbart posts to prove it stop laughing she s superserious we re not going to link to the altright site but those links are on her pagesarah somehow connected her accident to hillary clinton leave hillary alone bullies sarah sarcastically writes in her post aww c mon guys give her a break anyone can be out of commission for weeks on end whilst in the heat of battle for the highest office in the land no press conferences for nearly a year she continues no scheduled campaign events for days upon days no statements no answers no accountability no problem layin low to run out the clock before november but you re sexist for noticing it and you re misogynist for questioning a female s fitness good thing media didn t hound the crap out of candidate john mccain for his decadesold military medical records or i d guess them to be hypocrites she writes with no respect for the english language leave hillary alone all that emailevidenced yoga and wedding planning and cookiebakinggrandmaduty wears you out believe you me she states seriously though is that an actual sentence heck even those of us claiming to be fit as a seasoned fiddle hit bumps in the wellness road even i especially i remember piper s middle name is grace mine isn t she writes rockrunning recently i tripped over my own two feet and crashed burned facefirst i recovered with the doc s superglue and now any man who asks what happened i ll refer to as just a mean ol sexist bully palin continues glad for hillary s protective media s precedence the next woman running for potus has no need to answer to much of anything for we ve got weddings to plan and down dogs to do and cookies in the oven so just leave us alone boys she concluded we do not speak turnip at addicting info so it s beyond our capabilities to translate that psychotic woman s facebookbabble sarah palin is wrong and if she could master googling then she d learn that hillary clinton has a full schedule ahead of her every single day sarah is feeding the conspiracy theory that hillary is unstable and needs assistance walking up stairs the fact is hillary slipped while walking up the stairs you know sort of how sarah palin slipped while rock running speaking of hiding where are donald trump s taxeswe hope sarah feels better though she seems to be suffering from a brain injuryfeatured image via facebook",
         "0"
        ],
        [
         "14393",
         "wake me when it s over what the heck people we have all out brawls at political rallies for donald trump where the leftists are trying their best to stop free speech and freedom to gather and support their candidate for presidenta rally in virginia today got overheated when a time magazine photographer grabbed a secret service agent by the throat can you believe this the reporter says fck you to the secret service agent and that s where it startedhere s moments prior the reporter says fck you that s when it got physical joe perticone joeperticone february this is how reporters are treated at trump rallies pictwittercomhmxueokveg gabby morrongiello gabriellahope february of course that made the appearance by black lives matter idiots just a faded memorythe irony is that blm protesters were chanting stop the hate ummm i think the left needs to look in the mirror and thing again about who s being hatefuli ve been watching and listening to all of the news channels and to the people on social media folks it s gotten really ugly out there we even have the candidates talking about the size of one candidate s penis really how low can you goi am really looking forward to when we finally have a republican nominee so all of this can stop please",
         "0"
        ],
        [
         "40124",
         "vienna reuters austrian conservative leader sebastian kurz will hold coalition talks with the farright freedom party fpo both sides said on tuesday bringing the antiimmigration party a step closer to power which it last held more than a decade ago having won last week s parliamentary election with percent of the vote kurz s party is far short of a majority needing a partner to gain control of parliament and form a stable government only two parties have enough seats to do that with the social democrats spo and the fpo kurz took a hard line on immigration in the campaign that left little space between him and the fpo and both parties capitalized on a widespread feeling that the country had been overrun during europe s migration crisis in and he called for an end to the current coalition with the spo when he took over as leader of the people s party ovp in may arguing in favor of a break with austria s tradition of often deadlocked centrist coalitions that left the fpo a party founded by former nazis in the a more willing partner i have therefore decided to invite fpo leader heinzchristian strache and the fpo today to take part in coalition talks kurz told a news conference strache soon accepted saying teams from both parties would meet on wednesday but adding that the fpo would not strike a deal at any cost being part of the government is not an end in itself and only makes sense if we can implement our correct and important policies strache told a news conference therefore no one should think that we will make it easy for the ovp some european leaders have expressed concern about the possible return to power of the fpo which first became a major force in the under the late joerg haider who praised hitler s employment policies the party has steadily increased its mainstream appeal in recent years it says it has turned its back on its nazi past though it still frequently has to expel members for antisemitic statements it has also dropped calls for austria to leave the european union as most austrians back membership kurz has sought to allay such concerns and repeated on tuesday that any government must have a clear proeuropean orientation though he also wants a streamlined eu that focuses on core tasks like trade and protecting external borders strache said he backed that view of europe the fourth of five scenarios for the future of the bloc laid out by european commission president jeanclaude juncker in march which strache called less but better strache and kurz on tuesday both emphasized the importance of cutting taxes both believe in restricting benefits for foreigners and making the state more efficient but the fpo also wants to increase some benefits like the minimum state pension in terms of content there are some things that unite us and others that divide us kurz said in a typically vague answer on his expectations of a deal he hopes to have an agreement by christmas the fpo has made control of the interior ministry a condition for any deal but it did not mention that on tuesday the ovp and fpo went into government together in which prompted the rest of the eu to impose shortlived sanctions on austria over the fpo s accession to power given the more guarded response to austria s election in the aftermath of the migration crisis and the rise of other rightwing parties like france s national front and the alliance for germany a new tieup between them is unlikely to provoke the same outrage ",
         "1"
        ],
        [
         "36946",
         "moscow reuters russian prime minister dmitry medvedev said on thursday that usrussia ties were the worst he could recall but that us president donald trump struck him as a friendly person keen to establish positive working contacts with russia trump took office in january saying he wanted warmer ties with russia which had fallen to a postcold war low but since then ties have frayed further after us intelligence officials said russia had meddled in the presidential election something moscow denies medvedev who met trump in manila this month suggested he and president vladimir putin both found trump constructive and friendly in person but accused other us politicians of playing what he called the russian card to achieve their own aims and influence trump s attitude towards russia the impression he trump makes is that of a friendly political figure ready to establish fullscale contacts and who reacts reasonably towards everything medvedev said in an interview with russia s main tv channels medvedev said he had chatted to trump briefly over dinner at a regional summit in manila he trump recalled our cooperation during world war two saying that it was important both for russia and america said medvedev it was a pretty normal exchange i am sure and president vladimir putin has spoken about just that that everything is fine when it comes to our relations when we meet in person but medvedev said that was of secondary importance because overall usrussia relations were appalling they are very bad i would say appalling they are the worst i can remember medvedev said the political climate towards russia in the united states reminded him of the when us senator joseph mccarthy helped launch a campaign against anyone he regarded as procommunist in the united states but still even then there was no talk of settling accounts with your own president said medvedev ",
         "1"
        ],
        [
         "36613",
         "brussels reuters britain s chancellor of the exchequer philip hammond said on tuesday he was confident the eu and britain could reach a brexit deal in talks this week we re very confident that we will be able to move this forward hammond said on arrival at a meeting of eu finance ministers discussions are going on right now and will go on throughout the day ",
         "1"
        ],
        [
         "23327",
         " century wire says uk column anchor brian gerrish and guest copresenter patrick henningsen with breaking international news and analysis including the recordbreaking mass shooting event in orlando florida an event which reported dead nightclub patrons this event took place in the early hours of sunday morning est and not surprisingly this story is one of the most bizarre and anomalyridden mass shooting events seen yet uk column breaks this story down in detail along with the overriding political implications both domestically in the us and internationally see more news at ukcolumnorgsupport become at member at ",
         "0"
        ],
        [
         "14731",
         "americans were warned by attorney general loretta lynch to not offend muslims or they would pay a heavy price did anyone think she or her boss were kidding barack obama offends christian americans on a regular basis when will the fbi place a bounty on his head the fbi is offering a reward for information that helps them find the person who put raw bacon on the door handles of a las vegas mosquethe fbi said in a statement wednesday that agents are trying to find the man seen in a surveillance video putting the meat on the entrances of the masjidetawheed mosque authorities call it a desecration of the islamic worship centerthe quran the holy book of islam prohibits muslims from eating pork and pigs have been used to taunt or offend muslimsboth the fbi and las vegas police say they re investigating the case as a possible hate crimelas vegas police spokesman larry hadfield said the bacon was wrapped on the door knobs and was also found on the ground and fencesofficials at the mosque couldn t immediately be reached for commentthe fbi said the incident happened about am dec the culprit is described as a white man wearing a dark blue hat jacket and blackframed glasses he had black or dark brown hair with long thin sideburnsthe site west of the las vegas strip wasn t damaged and no one was hurt the mosque was empty at the time and the case was reported by members who came to worship later that morningseveral threatening incidents at mosques have been reported in recent weeks a molotov cocktail went off at an islamic center in tracy california days ago and a severed pig s head was found outside a philadelphia worship site earlier this month via apthe vandalism which is being called a hate crime has left the las vegas muslim community on edge according to ksnv ",
         "0"
        ],
        [
         "35513",
         "istanbul reuters turkish authorities issued detention warrants on monday for people believed to have worked as matchmakers for a network accused of orchestrating last year s failed military coup a spokesman for the istanbul police said sixtytwo of the suspects had been detained in the operation centered in istanbul and spread over other provinces he said operations to locate the rest were ongoing the suspects were marriage officials for supporters of the usbased cleric fethullah gulen who the turkish government says was behind the failed july coup the spokesman said gulen denies any involvement in the coup attempt they were believed to have helped set up arranged marriages for some of gulen s followers he said turkish officials say the gulen network closely monitored the personal and professional lives of some supporters including their education careers and marriages turkish police and state intelligence officials identified the suspects in a joint operation using conversations traced on bylock an encrypted messaging application commonly used by gulen s supporters the spokesman said turkey has identified users of bylock and has launched investigations into of them the interior minister said last month more than people including security officials military personnel and civil servants have been detained in the aftermath of the coup the crackdown has alarmed turkey s western allies and rights groups who say president tayyip erdogan is using the coup as a pretext to muzzle dissent the government says the measures taken under emergency rule that was imposed after the coup are necessary due to the security threats turkey faces ",
         "1"
        ],
        [
         "31775",
         "washington reuters a romanian hacker nicknamed “guccifer” who helped expose the existence of a private email domain hillary clinton used when she was us secretary of state was sentenced on thursday to months in prison by a federal court in alexandria virginia marcel lazar who used the alias online had pleaded guilty in may to charges including unauthorized access to a protected computer and aggravated identity theft after being extradited from romania lazar’s public defender shannon quill was not immediately available for comment lazar has said in interviews he breached clinton’s private server at her home in chappaqua new york but law enforcement and national security officials say that claim is meritless lazar is believed to have hacked into email accounts of about victims between and they include prominent political figures such as former secretary of state colin powell a relative of former president george w bush and sidney blumenthal a former clinton white house aide and an unofficial adviser to clinton clinton is now the democratic nominee for president lazar leaked online memos blumenthal sent clinton that were addressed to her private email account which was used during her time as secretary of state to conduct both personal and work business in lieu of a government account clinton’s email arrangement which became the subject of an fbi investigation has drawn intense scrutiny from republicans attempting to sow doubt about her honesty ahead of the nov presidential election an entity calling itself “guccifer ” and claiming to be a romanian hacker emerged in june and began taking credit for data breaches at the democratic national committee and democratic congressional campaign committee us intelligence officials and cyber security experts believe guccifer is a front for russian intelligence services intended to spread confusion about the hacks against the democratic party ",
         "1"
        ],
        [
         "38360",
         "moscow reuters russian prime minister dmitry medvedev said on tuesday he met us president donald trump at the asean summit in manila earlier this week calling him open and wellmeaning person ria news agency reported on tuesday medvedev said he spoke with trump after a dinner which was dedicated to the anniversary of asean the russian prime minister also said russiaus relations were at the lowest point in decades now and the united states has declared russia its enemy not just opponent by imposing new sanctions according to ria ",
         "1"
        ],
        [
         "35400",
         "zagreb reuters croatia and slovenia failed to reach a compromise solution for their border dispute in talks on tuesday with slovenia gearing up to implement an international court ruling which croatia dismisses as invalid the permanent court of arbitration in june ruled that most of the piran bay area shared between the two neighbors was slovenia s territorial waters and that slovenia should have a sea corridor through croatian waters to international waters the haguebased court s sixmonth deadline for the states to implement the ruling expires on dec croatia rejects the ruling saying it withdrew from the process in because of slovenia s violation of the arbitration procedure we intend to implement the ruling and expect croatia to do the same slovenian prime minister miro cerar said at a news conference following talks in zagreb on tuesday with his croatian counterpart andrej plenkovic slovenia will start the implementation where it can do it alone and it will seek dialogue and cooperation from croatia where it cannot act alone plenkovic said the ruling was not obligatory for croatia which had withdrawn from the arbitration process after a leaked tape showed that a slovenian judge on the arbitration panel had improperly exchanged confidential information with the ljubljana government the court acknowledged the arbitration violation but concluded that it was not serious enough to halt the case the issue of borders is an open issue for croatia plenkovic said adding that croatia had proposed to slovenia a legal framework for new talks on the borders cerar dismissed the idea saying the arbitration ruling was final for slovenia plenkovic warned against unilateral acts that could cause incidents on the borders the two countries have been arguing over their sea and land borders since both declared independence from former yugoslavia in as it disintegrated and slid into war the dispute held up croatian accession to the eu for many years only after both parties agreed to arbitration was zagreb granted entry to the bloc in the court ruled that slovenia should have most of the piran bay area recognized as its territorial waters in addition the tribunal established a nautical milewide and some nautical milelong corridor through croatian waters to give slovenia muchcoveted direct access to international waters ",
         "1"
        ],
        [
         "44523",
         "lima reuters teachers in peru started returning to classrooms on monday after union leaders announced they should suspend a strike that had sparked unrest and dragged on for more than two months in some places teachers at public schools in peru had sought a sharper salary hike than the government s percent proposal for next year and opposed evaluationbased firings but union leader pedro castillo announced a temporary end to the strike during the weekend after the government threatened to dismiss teachers who did not return to class the strike threatened to force million school children to repeat the academic year and had sunk president pedro pablo kuczynski s approval rating as teachers blocked roads and clashed with police the education ministry urged parents to work with teachers to set up schedules to make up for lost time the government offered to introduce its proposed salary increase to a minimum of soles per month in november instead of next year and said teachers and older could retire early kuczynski s approval rating dropped percentage points to percent in august according to a monthly opinion poll by gfk a new low for the former wall street banker in his yearold government ",
         "1"
        ],
        [
         "20570",
         "perhaps a little trigger warning therapy is in ordera cartoonist has been accused of racism after he portrayed michelle obama as masculine and butch next to a pageantready melania trump in a controversial drawingintrumpsamerica the firstlady will be great again bengarrison cartoons grrrgraphics may cartoon which has been branded racist and misogynistic shows a muscular mrs obama wearing a green dress with a bulge in the groin areastood next to her is a feminine smiling melania trump in a pink dress and holding a trump sign dmhere are some of the reactions to the cartoon on twitterthe artist ben garrison tweeted the picture on friday with the caption intrumpsamerica the firstlady will be great again the zombies are calling it racist and body shaming hahah you triggered them good mark dice markdice may finally here is artist ben garrison s awesome response to trigger warning safe space racist social media warriorsits called satire folksamerican politicalcartoons have a long tradition of lampooning those in office dealwithit bengarrison cartoons grrrgraphics may finally he created this epic cartoon in response to the anger he inspired from leftists on twitterthank u to all the manymany new unfollows heres a cartoon for the triggered crybullies dealwithit bengarrison cartoons grrrgraphics may ",
         "0"
        ],
        [
         "41218",
         "washington reuters us president donald trump on wednesday denied a report from nbc news that he told his national security advisers in july he wanted to increase the country s nuclear arsenal by nearly tenfold saying he argued for its modernization nbc news said the president called for the increase after he was shown a chart indicating the stockpile of us nuclear weapons had slid from a high of in the trump said he wanted to have that same number now nbc reported speaking to reporters at the white house during a meeting with canadian prime minister justin trudeau trump said the report was not true i never discussed increasing it i want it in perfect shape that was just fake news by nbc he said we don t need an increase but i want modernization and i want total rehabilitation it s got to be in tiptop shape the president s denial was buttressed by a statement from his defense chief recent reports that the president called for an increase in the us nuclear arsenal are absolutely false this kind of erroneous reporting is irresponsible defense secretary jim mattis said although us presidents have modernized weapon stockpiles over the years any meaningful addition to the nuclear arsenal would violate treaty agreements the federation of american scientists says the united states currently has about nuclear warheads earmarked for use in its military stockpile after the meeting in july secretary of state rex tillerson referred to trump as a moron according to nbc us news reports have painted the relationship between trump and tillerson as tense the nbc report comes during a time of high tension between the united states and north korea over pyongyang s nuclear weapons and missile programs and just ahead of an expected announcement from trump on whether to decertify the international deal on iran s nuclear program trump told reuters in february that he wanted to ensure that the us nuclear arsenal was at the top of the pack msnbc reported in that as a candidate trump asked a foreign policy adviser three times in a onehour meeting why the united states could not deploy its nuclear weapons ",
         "1"
        ],
        [
         "30342",
         "washington reuters us presidentelect donald trump on wednesday defended his direct interventions with companies including making statements on twitter saying businesses will benefit from his actions and his upcoming term in office one day after criticizing one of boeing co’s highprofile projects in a tweet trump told nbc that he anticipated “tremendous” economic growth under his administration but reiterated his warning that companies shifting us jobs overseas would have to pay still markets and companies should not worry he said “i don’t know how people are unnerved” trump told nbc’s “today” program “it’s just the opposite frankly i think we’re going to go up” the new york businessman who has never held public office begins his term on jan trump also said he had sold his stocks in june to avoid any conflictofinterest with the presidency “i don’t think it’s appropriate for me to be owning stocks when i’m making deals for this country that maybe will affect one company positively and one company negatively” he said his comments followed a series of actions targeting specific companies including a deal to keep some carrier jobs in the united states on tuesday he criticized boeing in a tweet that dented its shares and he won pledges from two of asia’s biggest technology companies to expand their us investments on boeing trump complained about costs for its revamped air force one plane a prominent symbol of the us presidency and urged the government to cancel its order the move was the latest example of trump’s using his podium often via twitter to rattle companies and foreign countries trump told nbc that he and boeing chief executive officer dennis muilenburg spoke on tuesday “we’re going to work it out” trump said “that’s what i’m here for i’m going to negotiate prices” he also cautioned us businesses against offshoring jobs “if they want to fire their workers move to mexico or some other country and sell their product into our country they’re going to be paying a tax” he told nbc earlier this month trump lauded a deal with united technologies corp’s carrier to keep some us positions in exchange for million in tax breaks following a thanksgiving day tweet on the negotiations trump also defended his twitter posts telling nbc he used the social media platform to “talk about important things” and that it conveyed his message “much faster than a press release” ",
         "1"
        ],
        [
         "1723",
         "on thursday hillary clinton ripped donald trump and his bigoted administration apart for being on the wrong side of history and refusing to defend lgbt rights and while she was at it she showed conservatives just what they missed out on by letting a former reality television star get into the white house instead of a wellqualified politicianat a fundraiser for lgbt community organization the center clinton received an award and gave a speech in which she thanked her audience for their continued support however her message came with a chilling warning about the trump administration as she said the progress that we fought for that many of you were on the front lines for it may not be as secure as we once expected clinton blasted trump we may not ever be able to count on this administration to lead on lgbt issues then she couldn t resist rattling off several of the things trump has been doing to directly attack and weaken the lgbt community she said when this administration rescinded protections for transgender students my heart broke when i learned about the proposed cuts in funding for hiv and aids research i thought about all of our efforts to try and achieve an aidsfree generation some of the changes that we re seeing should seem small but they matter a great deal if you re the person affected others carry historic significance like the future of the supreme court while clinton was not always a supporter of samesex marriage she had changed her tone several years ago and has been a powerful ally since in her usual classy way she called on americans to stick together and unite to protect human rights and resist homophobia clinton said i know the election hit a lot of us hard i can tell you this even when it feels tempting to pull the covers over your heads please keep going clinton s skilled and powerful delivery is something that trump could only dream to emulate one day despite having lost the election to trump the majority of americans still love and support clinton as trump s approval rating plummets by the day the support for her message shows that america no longer supports the values of the gop any longer and that conservatives have made a major mistake by putting trump in the white houseyou can watch clinton s speech below featured image via drew angerer and mark wilson getty images",
         "0"
        ],
        [
         "3753",
         "rachel maddow decided to scrap a segment and go offscript to warn her viewers about lieutenant general michael flynn donald trump has offered flynn the position of national security advisor and the msnbc host finds this revelation too worrying to put off discussing at this point in the show i had something else we were going to cover but i scrapped it because there s a thing i feel like i need to say about the mike flynn security announcement maddow saidmaddow explained that no one such as congress has to approve this appointment in any way trump makes the offer and if flynn accepts then boom it s a done deal she then told america just why it is that this is such concerning news so this mike flynn thing is done maddow explained but the choice of mike flynn is a different kettle of fish than anything we might have expected from the trump campaign mike flynn calls islam a political ideology hiding behind a religion he calls islam a malignant cancer he really did sit next to president putin and take money to go to a gala he s been a frequent guest on russian state television and says he sees no difference between russian state television and for example msnbc after laying out her list of reasons why flynn shouldn t be considered for any government position let alone at the top of national security maddow explained to viewers what he will be doing in this position if he accepts it he will now be the closest person to the president on a daytoday basis on all foreign policy issues on all military issues on all national security issues and he is way outside anything that anybody on the left right or center might consider to be the mainstream either in thought or temperament in terms of national security issues and it s done maddow saidmaddow laid out flynn s shady business dealings with turkey she also slammed his habit of handing out classified information that he wasn t even supposed to have in the first place which has happened at least twice two former government officials with direct knowledge of the issue tell cnn that while flynn oversaw intelligence in afghanistan he shared classified information with pakistan on terror networks responsible for killing american troops cnn recalled this week when flynn s name was floated the intelligence the sources say came from another agency flynn wasn t supposed to share it they say he was trying to convince pakistan to stop sheltering terrorists maddow concluded i know he s not going to get as much coverage as the other people who have to get confirmed over the next few days but stick a pin in that it s really really important watch rachel maddow issue her dire warning about lt gen michael flynn herefeatured image via video screen capture",
         "0"
        ],
        [
         "31966",
         "washington reuters us democratic presidential candidate hillary clinton will release her tax returns and her running mate us senator tim kaine and his wife anne holton will release the last years of their tax returns within days according to a source close to clinton the returns will show clinton paid an effective tax rate of percent and gave about percent to charity cnbc reported the release comes as republican donald trump is facing criticism for not releasing his tax returns a political practice that is not required by law but has been done by every white house nominee since “he refuses to do what every other presidential candidate in decades has done and release his tax returns” clinton said on thursday in an economic speech in michigan clinton’s campaign has already released tax returns going back to in addition tax returns are publicly available for the eight years her husband former president bill clinton was in the white house prior years were released by his campaign tax returns filed by the clintons have been made public in some form for every year back to trump a new york businessman has refused to release his tax returns saying they are under audit by the internal revenue service he has said he is unlikely to do so before the nov presidential election critics including republican presidential nominee mitt romney have blasted trump for failing to disclose his tax rate and raised questions about what his returns say about his net worth and various business ties particularly in russia asked in a television interview in may what tax rate he pays trump replied “it’s none of your business” the irs has said trump can release his tax returns even while under audit besides showing sources and amounts of income tax returns show what percentage tax rate a person ultimately pays as well as how much they claimed in deductions and the amounts given to charities earlier this month at a clinton rally in omaha nebraska billionaire investor warren buffett whose berkshire hathaway brkan conglomerate is based there challenged trump to make his returns public “i’m under audit too and i would be delighted to meet him anyplace anytime before the election” buffett said “i’ll bring my tax return he can bring his tax return and let people ask us questions” trump has declined to do so ",
         "1"
        ],
        [
         "1390",
         "while vicepresident mike pence gave a commencement speech sunday at the university of notre dame in indiana where he was the bigoted governor before joining team trump a large group of graduating students walked out one of the students wore a rainbow cape while some of the others who walked out in protest sported rainbow flags on their graduation caps congratulations to a generation of promise we are proud of you all pence said according to wndu for this son of indiana it is great to be back home again pence praised donald trump s executive order on religious freedom and targeted what he called political correctness on campus saying it was wholly outside the american tradition he criticized what he called college safe spaces while this institution has maintained an atmosphere of civility and open debate far too many campuses across america have become characterized by speech codes safe spaces tone policing administrationsanctioned political correctness all of which amounts to the suppression of free speech he said according to the huffington post these practices are destructive of learning and the pursuit of knowledge we re glad that pence believes in the first amendment because his boss certainly doesn t valedictorian cj pine gave an address prior to pence s speech in which he called for equal rights and religious freedom for muslims and people of all faiths our generation must stand against the scapegoating of muslims pine said if we are going to build walls between american students and international students then i am skewered on the fence pine saidfather john jenkins notre dame s president called for less division too often the love that fires our passion is twisted into a hatred in which we disagree jenkins saidwatcha large group of students just walked out of notre dames commencement during vp mike pences address wndu wndu may week over notre dame alumni signed a letter to express their disappointment over the school s decision to have pence give the commencement addresswhile trump was on the campaign trail he said to ask the gays about his actions to help lgbtq groups compared to hillary clinton however trump chose mike pence as his vicepresident a man who has been hostile to the gay communitysince pence is an advocate of free speech and is supposedly against political correctness then he must have been really proud of the students who walked out during his speechimage via screen capture",
         "0"
        ],
        [
         "10748",
         "how obvious can she be alison camerota interviewed former nh governor john sununu and decided to do some pouting when she didn t hear what she wanted to the discussion was about the trumprussia fake news camerota you should be concerned if there was collusion and that s what congresssununu i don t see any evidence of collusion do you camerota no sununu ok that should end your reporting right there you should put an exclamation point after your no camerota went on to say that we re still at the beginning of the investigation despite the fact that we are several months insununu you re seven months into the investigation you re seven months how much crow are you going to eat we have to agree how much longer is this charade going to go onit s being reported today that it was the russians that asked for a back channel with kushner kushner has agreed to testify on the matter president trump is totally backing his soninlaw calling him a good person ",
         "0"
        ],
        [
         "31079",
         "jackson miss reuters a historic black church in mississippi was burned and spraypainted with “vote trump” and authorities said on wednesday it was arson and being probed as a hate crime committed one week before the us presidential election greenville fire chief ruben brown sr told a news conference on wednesday afternoon that investigators had determined the fire at hopewell missionary baptist church was “intentionally set” “samples and evidence have been collected from inside the church and are being analyzed to determine the accelerant or ignition source” brown said earlier in the day he said no one was injured in the tuesday evening blaze but the church was extensively damaged “we’re investigating this as a hate crime” greenville police chief delando wilson told a news conference early on wednesday “we feel that the quote on the church is intimidating “it tries to push your beliefs on someone else and this is a predominantly black church and no one has a right to try to influence the way someone votes in this election” wilson told the wall street journal that police on wednesday evening were interviewing a “person of interest” in connection with the fire but the individual had not been charged wilson did not immediately return a call or email black churches in the us south have long been a base of support for the democratic party during the us civil rights movement of the and southern black churches were often targets for arson and bombings by white supremacists “the fbi jackson division is aware of the situation in greenville and we are working with our local state and federal law enforcement partners to determine if any civil rights crimes were committed” the agency said in a statement “this act is a direct assault of people’s right to freely worship” greenville mayor errick simmons said in a statement the town of some people is about miles kms northwest of jackson “the act that happened left our hearts broken” pastor carolyn hudson told the news conference noting that the church has a history the mississippi republican party declined to comment in october the orange county republican party’s office in hillsborough north carolina was set on fire and a graffiti message left nearby said “leave town or else” no arrests have been made in that incident which indiana governor mike pence the republican vice presidential candidate called “political terrorism” ",
         "1"
        ],
        [
         "10430",
         "the guy who wasn t funny enough to land the coveted tonight show gig after johnny carson retired is now saying president donald trump the most successful business man in new york city s history couldn t keep a job at dairy queen does anyone else remember the last time leftist former comedian david letterman was funny yeah neither do we former latenight television show host david letterman says that people need to stop whining about president donald trump and instead figure out a way to remove him from officespeaking in an interview monday with the associated press letterman said he s tired of people daily nightly on all the cable news shows telling us there s something wrong instead letterman said i just think we ought to direct our resources and our energies to doing something about it if the guy trump was running dairy queen he d be gone letterman said this guy couldn t work at the gap so why do we have to be victimized by his fecklessness his ignorance trump s behavior the former television host said is insulting to the country fox newsisn t it funny that david letterman didn t have any issues with inviting donald trump to appear on his show when he wanted the ratings in fact donald trump appeared a number of times on the letterman show and was always a good sport little did he know comrade david was only using him to get ratings fortunately for david letterman donald trump was always a great guest on his show here s a clip from a appearance the interview starts at the minute mark ",
         "0"
        ],
        [
         "43147",
         "london reuters british prime minister theresa may backed her foreign minister boris johnson on tuesday after reports he could quit over her brexit strategy sky news reported sky news reporter beth rigby said on twitter that when asked whether johnson should be sacked may said boris is doing good work as foreign secretary may also said she was confident of getting her whole senior team of ministers to back her brexit strategy which she is due to lay out at a specially convened cabinet meeting on thursday before making a speech in florence on friday ",
         "1"
        ],
        [
         "8524",
         "you have to admire conservatives ability to commit to the lie after david daledin and sandra merritt the slimy lying taintbarnacles who produced the fraudulent heavilyedited planned parenthood baby parts videos that took the conservative world by storm were indicted on multiple felony charges a surprising event that took place during the course of an investigation into planned parenthood of the gulf coast ordered by texas governor greg abbott one would expect conservatives to turn their anger toward those who lied to them unfortunately these are people who still think hillary clinton was responsible for benghazithe indictments against the perpetrators of these agregious lies ones that inspired robert dear to engage in an act of terrorism against a planned parenthood facility in colorado were enough to throw hopeful carly fiorina into a fit of delusional panic and rageon monday fiorina joined conservative talk radio host hugh hewitt to share her outrage not against the people whose lies caused her to spout off crazy talk about baby parts for months but against anyone remotely interested in the truth asked for her reaction fiorina explained that she is furious that planned parenthood s trafficking in baby body parts did not lead to prosecution yes well this is why it s a fight for the character of our nation we know for a fact that because of planned parenthood s own announcement that they would no longer accept payments for what they call fetal tissue and they were in fact trafficking in baby body parts so guess what i m not going to sit down and be quiet as i said at the march for life in washington dc on friday before the snowstorm descended i will not sit down and be quiet i know the value of life we know what s going on and i will continue to stand for the character of this nation from what i read somehow the charge is that they falsified government identities because that s true obviously that s not good but i only know what i read at this point but i think it s pretty clear that we now know what goes on in planned parenthood clinics fiorina told hewitt explaining that the indictments for tampering with a governmental record and prohibition of the purchase and sale of human organs very serious charges were an outrage because despite all this she considers the heavilyedited videos to be legitimate here s what i know planned parenthood has been trafficking in body parts planned parenthood has been altering lateterm abortion techniques to this specific purpose of harvesting body parts in president fiorina budget there will not be a single dime for planned parenthood fiorina isn t the only gop candidate who is immune to reality marco rubio told cnn that he is disturbed because planned parenthood who are the ones that were actually selling off these body parts were found having done nothing wrong the people who tried to expose them are the ones that are now facing criminal charges it s interesting what happens when people focus on the facts isn t itmike huckabee called monday a sick day in america because those who expose evil w a cellphone are being punished for their criminal actions but planned parenthood was found to have done nothing criminal ben carson s campaign promised retribution against planned parenthood which has been cleared in every single politicallymotivated investigation against them to date carson s communication director told cnn he is equally shocked that they instead decided to indict the individuals that exposed planned parenthood s heinous and illegal activities as president he will use the full weight of his office to not only cut off all federal funding for this organization but also prosecute them for crimes against the unborn unfortunately conservatives simply don t care about the truth and the truth is that the only criminals are the ones who made the fake videos that prompted the stupid part of america to lose their shtlisten to carly fiorina lose her mind belowyoutube image via youtube",
         "0"
        ],
        [
         "14310",
         "trump spoke to his supporters at a rally in cleveland ohio on saturday as one would expect from trump he s not about to sit back and allow bernie sanders supporters and black lives matter terrorists hijack his rallies after addresseding the violent protesters in chicago he reinacted bernie sanders cowardly reaction when two female black lives matter terrorists took over the mic while at the start of his rally in seattle he called bernie sanders a communist and identified his supporters as troublemakers watch herewatch here to see how bernie sanders reacted to the aggressive and disrespectful thuggish behavior of two female representatives from the black lives matter terror group what is even more stunning is how the man who wants to be the leader of the free world stands in a corner like a dutiful leftist allowing these two women to completely hijack a rally his people orgnaized if bernie can t control two unarmed female domestic terrorists how could anyone expect he could defend america against one of our enemies this video is so embarrassing it should be played over and over again as a reminder of the pacifist communist who wants to be america s next presidentnot everyone at the bernie sanders rally was down with the hateful divisive black lives matter terror representative s message",
         "0"
        ],
        [
         "36705",
         "brussels reuters european council president donald tusk canceled a trip to israel and the palestinian territories planned for this week due to a critical moment in brexit negotiations an eu official said on monday tusk who scheduled a meeting in brussels at short notice on monday with british prime minister theresa may will chair an eu summit next week that london hopes will give the goahead to opening talks on postbrexit trade relations on wednesday tusk had been due to meet palestinian prime minister rami hamdallah in ramallah and israeli prime minister benjamin netanyahu in jerusalem ",
         "1"
        ],
        [
         "8487",
         "sorry david daleidin and sandra merritt even if you don t like your first grand jury you can keep iton wednesday lawyers for the pair of antiabortion activists who were recently indicted on multiple felony counts in a surprise twist to a case conservatives hoped would end planned parenthood forever argued that the grand jury that handed out indictments was absolutely out of control unfortunately things didn t quite go as the lying liars who produced the heavily edited fraudulent baby parts videos that prompted robert lewis dear to attack a planned parenthood facility in colorado and carly fiorina to redefine stupid in her almost incoherent ravings about the health organization had plannedharris county district attorney devon anderson said that she does not intend to cave to the whims of the rightwing activists explaining that the inconvenient truth of a criminal investigation is that it doesn t always lead where you want it to go anderson a republican who is against abortion explained that she understands that every single one of her personal beliefs does not have to interfere with her ability to perform her jobwhile the grand jury indicted the activists the subject of the proceedings planned parenthood gulf coast was cleared of all wrongdoingreuters reportsdocuments filed in harris county court showed fake california driver s licenses for the pair when they were making the video lawyers for the two did not dispute the fake idsthe court papers said the pair unlawfully used a fake government record with the intent to defraud or harm others they face up to years in prison if convictedterry yates an attorney for the two said in houston the grand jury has over reached obviously a runaway grand jury would do that this decision of course is shocking in a state whose republicans recently gutted planned parenthood s hiv prevention program in a desperate attack against the organization both governor greg abbott and attorney general ken paxton who ordered their own proceedings say that this latest vindication of planned parenthood will have no impact on their individual attempts to destroy the health organization the fact remains that the videos exposed the horrific nature of abortion and the shameful disregard for human life in the abortion industry texas attorney general ken paxton told the houston press monday the state s investigation of planned parenthood is ongoing planned parenthood is celebrating this as a win it s great news because it demonstrates what we have said from the very beginning which is that planned parenthood is following every rule and regulation and that these people came into our buildings under the guise of health when their true intentions were to spread lies said rochelle tafolla a spokeswoman for planned parenthood gulf coast after the decisionsorry david and sandra it must be terrible not to have a choice in the matterfeatured image via allen west republiclifenews",
         "0"
        ],
        [
         "16976",
         "states have rights too we love the new conservative governor of kentucky he means business and it s about time someone stood up to the bloated and over regulated epa ",
         "0"
        ],
        [
         "6083",
         "it s no secret that sean hannity is one of donald trump s biggest bootlickers following trump s most recent press conference in which he slammed the media and even called abc reporter tom llamas a sleaze to his face hannity spoke with trump about the socalled liberal media and what they ve been doing to the poor guyduring the backandforth hannity is so far up trump s rear that this can hardly be called an interview hannity demonstrated his complete ignorance of the media s coverage of the donald s veterans fundraiser by asking do they think you need the money do they think you re gonna steal it yes and yes that s the whole issue right there apparently hannity hasn t been paying attention or he d have known not to ask that questionfirst of all trump s campaign is hardly selffunded and is low on money he had to have known his selffunding scheme couldn t last forever we re also talking about the liar of liars here who in their right mind wouldn t be suspicious when money goes missingin addition to the campaign s financial woes the washington post contacted every one of the charities that trump listed as beneficiaries of his largesse back in march to find out what had happened to that million that he said he raised they could only account for million of itthere was also sandra miniutti the vice president of charity navigator who said that it s not uncommon for some fundraisers to vet beneficiaries after the fact such as when they re raising funds in times of emergency that makes sense because they need to work quickly under those circumstances raising the money and then vetting potential beneficiaries is the fastest way to do itminiutti also said though that it was fair to question why it was taking so long to distribute the money trump already had a list of potential beneficiaries ready and his fundraiser was ridiculously public his groups should have been vetted beforehandfurthermore trump received heavy criticism from some veterans groups who were angry at him for using them as a political stunt and who were angry because they hadn t yet received the money they were promised it wasn t just the press that was trying to figure this out hannity however has his blinders firmly in place and is likely blissfully unaware that he just made the liberal media s case for themwatch the whole debacle of an interview belowfeatured image via screen capture from embedded video",
         "0"
        ],
        [
         "25185",
         "new york reuters us secretary of state rex tillerson and russian foreign minister sergei lavrov will meet in new york on sunday on the sidelines of the united nations general assembly the us state department said in a brief statement the state department did not provide any details on what the two men would discuss during the pm gmt on monday meeting possible topics include the iran nuclear deal the syrian civil war and north korea’s nuclear and missile programs ",
         "1"
        ],
        [
         "12927",
         "hillary clinton is preparing to get back on the campaign trail with a week filled with appearances before actual voters after ducking off the rally circuit to prepare for monday s debateshe was set to begin with a sunday appearance in charlotte north carolina after the city experienced riots and confrontations between protesters and police following the shooting of keith lamont scott by a police officer this week but her campaign announced friday night that the trip was being put off for a week as there were protests in the city for a fourth consecutive night hillary is grateful for and intends to honor the invitation from faith leaders to visit with the charlotte community according to clinton communications director jennifer palmieri after further discussion with community leaders we have decided to postpone sunday s trip as to not impact the city s resources she will plan to visit charlotte next sunday provided circumstances allow in the meantime her prayers are with the people of charlotte during these difficult days palmieri concluded read more daily mail",
         "0"
        ],
        [
         "3421",
         "during the revelations that russia had a giant hand in influencing our election one word has been used throughout the media unprecedented well unprecedented is not exactly true while it is true that russia s hacking has been blatant and trump s involvement is becoming undeniable this isn t the first time a foreign and hostile government has played a role in installing a republican leader and we don t have to go very far back to see examplesnearly years ago in the most famously scandalridden president began his term under a scandal after his democratic opponent vice president hubert humphrey switched course from his president lyndon b johnson and promised that we would pull out of the vietnam war nixon began falling in the polls on october johnson though announced that there would be peace talks and nixon s lead disappeared so nixon invited vietnam to intervenenixon s team met secretly with anna chan chennault a wealthy supporter of taiwanese president chiang kaishek cochair of republican women for nixon and confidante of south vietnamese president nguyen van thieu at nixon s behest chennault informed thieu that nixon would secure a better deal for his country than either humphrey or johnson and that the democrats were effectively prepared to sell out saigon in order to secure peace at any price if chennault could convince thieu to stay away from the negotiating table the talks would collapse lbj would look foolish and the democrats gambit would failjohnson and the democrats knew it was happening the national security agency had intercepted cables between thieu and his dc ambassador i a still in contact with the nixon entourage which continues to be the favorite despite the uncertainty provoked by the news of an imminent bombing halt one communiqu began on the basis of these cables lbj ordered the fbi to tap chennault s phone the bureau in turn concluded that she contacted vietnamese ambassador bui diem and advised him that she had received a message from her boss not further identified which her boss wanted her to give personally to the ambassador she said the message was that the ambassador is to hold on we are gonna win and that her boss also said hold on he understands all of it johnson didn t mince words he called it treason and a gross violation of the logan act which prohibits civilians from negotiating with foreign governments still there wasn t enough to firmly plant the smoking gun in nixon s hands so the american people didn t have this bit of information before the electionsouth vietnam pulled out of the peace talks and well we got a president nixon the rest is history and well people should be reminded that an administration that begins in scandal will likely end in scandalthe second recent instance happened fewer than years ago in university students in tehran iran stormed the american embassy there and took american hostages in hindsight we were kind of asking for it in the cia helped overthrow iran s government because of oil instead we installed the shah who was corrupt and brutal when the shah fell in then president jimmy carter allowed the shah to seek medical treatment for cancer in the united states iran s new leader ayatollah sayyid ruhulla musawi khomeini who hated us anyway demanded extradition so the shah could face trial carter refusedstill as we were nearing the election it appeared that the hostage situation was coming to a resolution which would have nearly assured carter of reelection the reagan camp couldn t let that happen reagan s campaign manager william casey talked to sources close to the ayatollah and convinced them to delay the release of the hostages reagan went on to win the election and the hostages were released on inauguration dayof course details of both these cases are different from the details in the trumprussia hacking scandal but i would argue that today we are in a worse situation by helping trump russia is providing themselves blackmail ammo in case trump does something they might not find agreeable more than that though in the days when cyber security is at the top of everyone s minds what russia has done to us is as dangerous as any terrorist act and the ramifications are far bigger trump has allowed a hostile foreign government to infiltrate our electronic communication which is almost everything what s next credit card information and irs records of individuals who speak out against trumpthe bottom line is that we can t allow donald trump to take office there s too much at stake we can t afford another nixon we can t even afford another reaganfeatured image via sean gallupgetty images ",
         "0"
        ],
        [
         "15251",
         "this ad is spot on ",
         "0"
        ],
        [
         "35649",
         "brasilia reuters brazil s government has secured between and of the votes needed to approve a bill to overhaul the country s bloated social security system in february president michel temer said on friday it was the first time temer has said how many votes are still needed to reach the threefifths super majority to pass the unpopular legislation that investors see as vital to bringing a huge budget deficit under control that is the reason why we put off the vote until february temer said at the swearingin of a cabinet minister who will be responsible for mustering the votes shortfall the measure is due to be put to the vote on feb after the christmas to carnival congressional recess when it could meet with greater reluctance from lawmakers as the general election approaches the delay has increased market skepticism over brazil s ability to rein in a deficit that caused the loss of its investment grade credit rating temer s new minister of political affairs carlos marun said the bill s approval will be his biggest challenge as he takes over government relations with congress marun was sworn in to succeed antonio imbassahy whose psdb party quit temer s governing coalition and is split over delivering its votes in the lower house to help pass temer s pension plan ",
         "1"
        ],
        [
         "34796",
         "paris reuters president emmanuel macron has said his government could consider changes in the relationship between mainland france and corsica which seeks greater autonomy but ruled out new residency rights or recognition of corsican as an official language an alliance of corsica s two main nationalist parties swept a local election on dec and has been pressing for talks with paris its leaders want more autonomy on fiscal issues an equal status for the french and corsican languages and the limiting of the right to buy property in some areas to people who have been resident on the holiday island for at least five years the twoparty pe a corsica for corsica alliance won nearly two thirds of seats in the local assembly election support for their cause is driven by dissatisfaction with france s mainstream parties mirroring a trend that has spurred secessionist ambitions elsewhere in europe such as catalonia looking ahead we could consider possible changes and the prime minister has indicated this to corsica s leaders macron said in an interview published by spanish daily el mundo on wednesday but these would come as elsewhere within the framework of the constitution this republican framework does not allow us to say yes to certain demands such as on residency rights or recognizing coriscan as the official language alongside french corsica s nationalists are split between those who seek greater autonomy and those who see full independence as the ultimate goal corsica makes up two of france s departments local administration areas unlike in catalonia its nationalists downplay any immediate ambitions for independence saying the island where napoleon was born in lacks the spanish region s demographic and economic clout while macron did not say what he might be prepared to negotiate it is the first time he has touched on the subject since the vote france is a highly centralized state and corsica s demands for more autonomy have often been met with irritation and a refusal to negotiate by past governments ",
         "1"
        ],
        [
         "12990",
         "many americans are suspicious of he mayor of london sadiq khan who has strong ties to muslim extremists and was a strong supporter of hillarykhan has been on a hillary supporting tour here in the united states and he is using that platform to let us know that he doesn t feel that immigrants should assimilatemr khan insists one of the lessons from around the world is that a laissezfaire or handsoff approach to social integration doesn t work we need rules institutions and support to enable people to integrate into cohesive communities and for the avoidance of doubt i don t mean assimilation i mean integration and there s a difference people shouldn t have to drop their cultures and traditions when they arrive in our cities and countries coming from the muslim mayor who has let london go to pot with the epidemic of currently suffering from muslim ghettoisation horrific employment rates for muslim women an internal debate surrounding the banning of the burka and ongoing issues such as female genital mutilation antisemitism and homophobia within muslim communitiesit s ironic that a man that has erased many freedoms by way of new laws such as british women not being allowed to travel over a certain distance from their addresses alone and the banning of any sexually geared ads on the side of public transportation ie models promoting products has the nerve to state that we should essentially allow muslims to come her and continue applying sharia law when their very tradition violates our constitutionmr khan needs to go back to london with his antifreedom rhetoric americans will never allow immigrants to come here and try to impose any traditions that may be harmful to our citizens nor will we ever allow the nationwide implementation of their archaic law ht young cons breitbart ",
         "0"
        ],
        [
         "15634",
         "nothing shady here huh unbelievableeven by the standards of arms deals between the united states and saudi arabia this one was enormous a consortium of american defense contractors led by boeing would deliver billion worth of advanced fighter jets to the united states oilrich ally in the middle eastisraeli officials were agitated reportedly complaining to the obama administration that this substantial enhancement to saudi air power risked disrupting the region s fragile balance of power the deal appeared to collide with the state department s documented concerns about the repressive policies of the saudi royal familybut now in late hillary clinton s state department was formally clearing the sale asserting that it was in the national interest at a press conference in washington to announce the department s approval an assistant secretary of state andrew shapiro declared that the deal had been a top priority for clinton personally shapiro a longtime aide to clinton since her senate days added that the us air force and us army have excellent relationships in saudi arabia these were not the only relationships bridging leaders of the two nations in the years before hillary clinton became secretary of state the kingdom of saudi arabia contributed at least million to the clinton foundation the philanthropic enterprise she has overseen with her husband former president bill clinton just two months before the deal was finalized boeing the defense contractor that manufactures one of the fighter jets the saudis were especially keen to acquire the contributed to the clinton foundation according to a company press releasevia ibt",
         "0"
        ],
        [
         "14942",
         "we ll wait for nancy pelosi to call this movement exactly what it is an astroturf movement the hate cops and hate white people movement is a george soros funded obama eric holder and al sharpton inspired movement created to pit the haves and the have nots against each other to hell with america and it s great people this is about something much more important to the left it s about a divided nation totally dependent upon the governmentno justice no peace we have nothing to lose but our chains jonathan butler son of very successful multimillionaire parentsjonathan butler a central figure in the protests at the university of missouri is an omaha native and the son of a railroad vice president the omaha worldherald reportsbutler refused food last week in a move to force the university system s president timothy m wolfe from office wolfe resigned monday and butler ended his hunger strikejonathan butler played highschool football at omaha central high where he won a state championship and earned a bachelor s degree in business administration from mizzou the newspaper reports he is working toward a master s degree in educational leadership and policyhe is a member of a prominent omaha family the newspaper says that butler s father is eric l butler executive vice president for sales and marketing for the union pacific railroad his compensation was million according to regulatory filings with the securities and exchange commission via sltbutler s turn from silent type to activist wasn t a complete surprise to his old football coach jay ball who remembered how butler worked hard to bulk himself up in order to make the move from the junior varsity team to varsity in his senior year butler started on a team that won the state titleball said butler wasn t a big guy standing about tops but ball practically had to kick butler out of the weight room because the aspiring player spent so much time there pushing himself i can remember watching him squat ball said his eyeballs bulged out ball said butler led by example not rahrah bravado he was really smart ball said a very coachable kid ball said butler s drive tenacity and effort probably served him well these past weeksin his senior yearbook butler is shown twice once in a tie for his class portrait and once in a tiny football team photograph according to teachers and administrators he was not the kind of student who organized events or served on the student council instead he was a quiet solid student who paid attentionnow butler is the public face of a protest that drew national attention and felled two top leaders butler and others have said he s not the center several women at mizzou plus the school s student body president took more public positions earlier but his hunger strike which stretched for eight days seems to have been the catalystwhere did this activism come frombutler did not respond to a worldherald reporter s requests for interviews his parents declined to comment they traveled to missouri on monday a family friend described the family as incredibly humble and low profilebutler has said in news reports that his paternal grandfather an attorney helping the poor in new york city was a big influence so were his parents eric is a union pacific executive and cynthia is a former educator who runs an advocacy program they founded joy of life ministries in their basement and it has grown into a church now based at street and sorensen parkwaybutler has said that the police shooting death of michael brown in ferguson in and the subsequent protests there marked a turning point for him he spent time in ferguson a twohour drive from columbia lending his voice two summers agohere is butler the self proclaimed speaking to students i am a revolutionary ",
         "0"
        ],
        [
         "19438",
         "michelle obama fed her husband s feud with donald trump on friday as she gave a gloomy description of the hopeless climate his election win has created the first lady used her final interview in the white house to tell oprah winfrey that a grown up should be in charge of the country looking forward to presidentelect trump s looming inauguration she said even though hope was lost it was necessary to move on now we re feeling what not having hope feels like hope is necessary she said in her first direct response to the november election result mrs obama s remarks come within hours of her husband s announcement russian hackers interfered with the election to help his successor read more daily mail",
         "0"
        ],
        [
         "40944",
         "ankara reuters us president donald trump s hardened stance towards iran evoked a mixture of indifference and national pride among iranians on saturday but many were concerned about economic hardship should a multinational nuclear deal unravel in a major shift in us foreign policy trump said on friday he might ultimately terminate the agreement that lifted sanctions in return for tehran rolling back technologies with nuclear bombmaking potential who the hell is trump to threaten iran and iranians of course we don t want economic hardship but it does not mean we will be their puppet and do whatever they say said housewife minou khosravani a mother of two in the central city of yazd within minutes of trump s speech iranian president hassan rouhani went live on state television ruling out any renegotiation of the deal iran signed with major powers he also signaled iran would withdraw from the agreement if it failed to preserve tehran s interests tired of economic adversity during years of tough sanctions over iran s nuclear programme many iranians still fervently back the decision by iran s clerical rulers to resist us pressure i am not a regime supporter but i side with iran s rulers against trump and his illogical pressure on iran said hairdresser ziba ghanbari when contacted by reuters in the northern city of rasht iranians around the globe took to social media in anger former official mostafa tjzadeh who spent seven years as a prisoner of conscience in iran tweeted one nation one message no to trump we are in this together long on rhetoric short on substance tweeted niloofar ghadiri a journalist in tehran iranian authorities say percent of the country s workforce is unemployed many formal jobs pay a pittance meaning the true figure of people without adequate work to support themselves is probably far higher lack of foreign investment if more sanctions are imposed will deepen the unemployment crisis currency exchange shops are refusing to sell us dollars because of the uncertainty as the rial has lost value in the past days iranians fear new sanctions will also see the price of food including rice bread and dairy products rise my worry is that the economy will go back to the sanctions era when we had difficulties to find essential food and even medicine i want my son to have a good life said elementary school teacher gholamali part in tehran to improve iran s economy rouhani has rolled out the red carpet for global investors since sanctions were suspended but so far only a few major european investors have returned to iran s market including planemaker airbus french energy group total and germany s siemens others are deterred mainly by a separate raft of sanctions washington continues to impose in retaliation for what it calls tehran s support for terrorism and human rights abuses iran denies involvement in terrorism the nuclear deal was also signed by china france russia britain germany and the european union despite assurances by other signatories over their continued commitment european companies could think twice about involvement in iran if the deal cannot survive hossein like millions of iranians who bore the brunt of the sanctions has no high hopes we are going to be sanctioned again said hossein who declined to give his full name inflation has dropped to single digits since rouhani was first elected in but he has failed to tackle high unemployment and the gap between rich and poor is widening the hardline daily kayhan which campaigned against the deal during of the nuclear talks wrote trump keeps the nuclear pact advantages for america restrictions for us in a report headlined mr blunder s isolation the moderate arman daily wrote a rare unanimity supports iran in the world is the closest definition of the mood after trump s speech last night some iranians are indifferent i don t care will there be holidays if the deal fails that is important because i can go on a holiday with my friends said arjang bakhtiari whose family owns factories in several cities trump s decision in effect leaves the fate of the deal up to the us congress which might try to modify it or bring back us sanctions previously imposed on iran the failure of the deal could be politically tricky for rouhani its chief architect who has been criticized by the country s utmost power supreme leader ayatollah ali khamenei for the country s slow pace of economic recovery khamenei cautiously backed the deal but has repeatedly expressed pessimism about the united states remaining committed to it the economic problems caused by the us pressure could weaken rouhani s stance in iran s factionridden and complex establishment ",
         "1"
        ],
        [
         "24181",
         "reuters a tax plan by us senate republicans released on thursday diverges in several ways from legislation being pushed by republicans in the house of representatives complicating republican efforts to fulfill their goal of overhauling the tax code by the end of the year here are the major provisions that differ significantly corporate rate the house plan would immediately cut the corporate income tax rate to percent from percent the senate would set the same rate but delay it by one year carried interest the senate leaves unchanged a loophole that allows privateequity fund managers and other wealthy wall street financiers to pay the capital gains tax rate instead of the higher income tax rate on their “carried interest” income the house version narrows the loophole by requiring investments to be held for more than three years instead of one year currently in order to qualify for capital gains treatment net operating losses the senate version eliminates the carryback and carryforward tax strategies by businesses to reduce past and future tax liabilities using net operating losses the house version tightens the rules around their use passthroughs the house caps the maximum tax rate on small businesses and other noncorporate enterprises at percent down from the current top rate on “passthrough” income of up to percent the senate version has no special passthrough rate but allows business owners to deduct about percent of business income from individual taxes that translates to a percent tax rate for highincome filers repatriation of overseas earnings the senate imposes a tax of percent for liquid assets and percent for illiquid the house sets the rates at percent and percent respectively tax brackets the senate version maintains seven tax brackets with the top bracket’s rate at percent the house has four brackets with the top one unchanged from current levels at percent and lifts qualifying income on that top rate to more than million mortgage interest deduction the house caps the deduction of interest payments on mortgages of up to and only on a primary residence the senate version keeps the existing limit at million but eliminates the deduction of interest on homeequity loans deducting state and local taxes the senate bill repeals the state and local tax deduction entirely the house version repeals the deduction for state and local income and sales tax and caps the deduction for state and local property tax paid at standard deduction the two versions are in line with each other with a standard deduction of for individuals and for married couples nearly double the current levels child tax credit the senate would expand the child tax credit to from the house version sets it at inheritances while the house wants to double the exemption on inherited assets and repeal the tax over a period of six years the senate only wants to double the exemption ",
         "1"
        ],
        [
         "3043",
         "president barack obama accomplished many great things in his years as president of the united states and he undoubtedly took america to heights greater than the mess he inherited when he first came into officeone of obama s most notable presidential accomplishments was obamacare also know as the affordable care act an initiative that gave more americans than ever access to affordable healthcare that they may not have been eligible for beforehand unfortunately now that the gop has taken back control of congress with its disastrous presidentelect donald trump the republican party is making moves to undo all of obama s hard work starting with health carelate on wednesday night the senate made a disgustingly sneaky move toward repealing the affordable care act and shot down proposed amendments to protect americans with preexisting conditions from discrimination and losing coveragetwitteron thursday morning americans across the country woke up to a nightmare not only did they discover that the senate was making fast moves to gut the affordable care act but many of them would be facing life or death consequences thanks to the republican party s agenda as one woman said to rep keith ellison d mn on twitter as a breast cancer survivor this is a death sentence for me she was far from alone in that fearbefore republicans knew it people from across the country were using the hashtag savetheaca to vent both their despair and desperation many of them are fully aware that once the aca is taken away they will die and the gop will be to blamethe gop never banked on this kind of backlash and here s what many americans had to saytwittertwittertwittertwittertwittertwittertwittertwittertwittercurrently the gop has no reasonable plan to replace health care and innocent americans will be the ones to sufferfeatured image via mark wilson getty images",
         "0"
        ],
        [
         "34575",
         "reuters us republican presidential candidate donald trump said on tuesday that “most likely i won’t be doing the debate” on fox news in des moines iowa scheduled for thursday night the billionaire businessman made the comment at a news conference in marshalltown iowa as the nomination race nears its first contest the iowa caucuses on monday trump has been engaged in a public spat with fox news since a debate last august in which he said he was subject to unfair questioning by moderator megyn kelly “let’s see how much money fox makes without me in the debate” trump told the news conference reporting by eric walsh in washington editing by eric beech sap is the sponsor of this coverage which is independently produced by the staff of reuters news agency",
         "1"
        ],
        [
         "33027",
         "washington reuters us house of representatives speaker paul ryan said on friday an updated bill dealing with puerto rico’s debt will be introduced in “the coming days” “right now we are working with the natural resources committee the administration and our democratic counterparts to iron out the final constitutional and legal questions surrounding the legislation” ryan said in a statement “let me be clear there will be no taxpayer bailout of puerto rico” he added ",
         "1"
        ],
        [
         "10783",
         "pleading ignorance is a perfect ploy for nancy pelosi who wouldn t believe she s clueless on pretty much everything pelosi claims she s been busy with lots of things that s laughable this case is a big deal here s what the daily caller had to say about this stain on the democratsus capitol police and other agencies are probing the cyber activities of three brothers who had jobs as congressional staffers at the office of information technology for lawmakers on the house permanent select committee on intelligence the daily caller news foundation first reported brothers imran abid and jamal awan also provided their services for other democratic members in the lower chamberwhen they came under suspicion by law enforcement for accessing the house network without permission last february they were all banned from accessing it while some democratic lawmakers dismissed imran from their employ when the story others like florida democratic rep debbie wasserman schultz kept him onare the democrats helping these two men hide the evidence",
         "0"
        ],
        [
         "5753",
         "for those who think donald trump isn t bringing horrible racism out from the depths of the rightwing s closet there s rick tyler an independent candidate running for office in tennessee s third congressional district he s so worried about the browning of america that he s actually running his campaign on taking us back to the when there were fewer problems by making america white againyes that s literally what he wants he even had campaign billboards put up that said make america white again around benton tenn tyler claims that he s got no hatred for people of color he just wants america to go back to a ozzie and harriet leave it to beaver time when there were no breakins no violent crime no mass immigration right there s totally no racism there we re sure some of his best friends are people of color too he thinks that white people are the architects of advanced society so elevating white people is the best way to make america great again he also had a billboard up that was a picture of the white house ringed with confederate flags which said i have a dream for someone who allegedly isn t racist he certainly enjoys racist sayings and symbols and implying that people who aren t white are responsible for all our ills todayto coopt one of the most famous messages from one of the most famous civil rights leaders in american history for his racist agenda is just vilehow does trump fit into this besides his rampant blatant racism tyler wrote the following on his website he trump phenomenon has and will continue to produce spin off effects and fall out that can be beneficially seized upon by the elect remnant of the god of scriptures in our present political season the dominant presence of donald trump has served to open us channels of discourse and dialogue that have previously been off limits his advocacy of a temporary ban on muslim immigration and the construction of a wall on the southern border have created a climate conducive to conversation relative to the elephant in the living room no one wants to talk about namely the urgent and vital subject of race there it is the hatred and fear of political correctness that pervades the thinking of these racists they believe it s not racist at all to say that race plays a role in america s downfall and imply that whites are the only race capable of restoring us to our former glory nope it s just telling it like it is and tyler seems to have embraced that trumpian mentality wholeheartedlythe signs have been taken down but tyler didn t do it he wants them back up saying he paid for them to be up through november s election if i could i d have hundreds of these billboards up across the district that would go over just as well as his initial billboards did tyler is delusional though he believes that his signs do reflect the feelings of a majority of people despite the people from tennessee s third district calling into wcrbtv to say that their county does not in fact feel this way the billboards were likely removed because those people tyler thinks are so supportive of his views were actually upsetfeatured image via screen capture from wrcb report",
         "0"
        ],
        [
         "29901",
         "washington reuters russia hacked into republican state political campaigns and old email domains of the republican national committee but there is no evidence it successfully penetrated presidentelect donald trump’s campaign fbi director james comey said on tuesday comey also told lawmakers russia did not release information obtained from the state campaigns or the old rnc email domains comments that may buttress the us intelligence view that moscow tried to help trump against democrat hillary clinton in the campaign us intelligence agencies on friday released an assessment that russian president vladimir putin ordered a covert effort to help republican trump’s electoral chances by discrediting clinton the report which omitted classified details was the us government’s starkest public description of what it says was a russian effort to manipulate the american electoral process by leaking hacked emails from democrats russia has denied interfering in the election but president barack obama expelled russian suspected spies from the united states and imposed sanctions on two russian intelligence agencies last month in response to the allegations defense secretary ash carter told a news conference on tuesday those penalties were “a start and not the end” of us retaliation for the hacks and senior officials have suggested covert action may be taken comey told lawmakers the federal bureau of investigation “did not develop any evidence that the trump campaign or the current rnc was successfully hacked” he did not say whether russia had tried to hack trump’s campaign trump has disputed the accusations of russian cyber attacks during the election but his incoming chief of staff said on sunday that the new york businessman accepts the us intelligence community’s conclusions that russia was responsible and that further action may be taken against moscow comey declined to comment on whether or not the fbi might be investigating links between russia and associates of trump who frequently called during the campaign for improved relations between washington and moscow the fbi director was pressed by senator ron wyden an oregon democrat to publicly provide a declassified answer to the question before jan the day trump will be inaugurated but comey suggested he would unable to do so comey appeared before the senate intelligence committee along with the director of national intelligence the head of the central intelligence agency and the chief of the national security agency at a time of controversy in washington about the election testifying before congress for the first time since trump beat clinton on nov comey has been criticized by democrats for statements about a separate investigation into clinton’s use of a private email server as secretary of state the controversy over russia’s alleged role in attempting to influence the election has roiled washington with democratic lawmakers calling for an independent commission to investigate the matter and republicans worried that the affair might call into question the legitimacy of trump’s victory comey said there was evidence russia hacked republican statelevel political campaigns and “old” email domains that the rnc was no longer using in contrast friday’s report assessed that russian military intelligence used intermediaries such as wikileaks dcleakscom and the guccifer “persona” to release emails that it had acquired from the democratic national committee and top democrats as part of the effort to help trump and harm clinton the dnc denied “multiple requests” made by the fbi to examine its hacked servers comey said he added that his agents relied on a forensic analysis conducted by the cyber security firm crowdstrike which was hired by the dnc to help clean up the hack when it was detected last spring senior us republican and democratic senators introduced legislation on tuesday seeking to impose a wide range of sanctions on russia over its cyber activities and actions in syria and ukraine ",
         "1"
        ],
        [
         "14523",
         "gloria steinem does pretty much everything she can to prove she s a big hypocrite in this interview with bill mayer",
         "0"
        ],
        [
         "32496",
         "washington reuters the us house of representatives on thursday agreed to billion to fight the zika virus shortchanging president barack obama’s billion funding request and angering democrats by making other cuts to pay for it the house approved a funding deal that had been agreed to on wednesday by republicans from both the house and senate but the bill’s future was uncertain in the senate where the democratic minority has more power to stop legislation and democratic leader harry reid has declared his opposition “it is a responsible plan that assures the administration will continue to have the needed resources to protect the public” republican house speaker paul ryan said republicans said the deal included funding for fiscal years and but the white house said the allocation fell short “this plan from congressional republicans is four months late and nearly a billion dollars short of what our public health experts have said is necessary to do everything possible to fight the zika virus and steals funding from other health priorities” white house press secretary josh earnest said in a statement before the house voted earnest said the republican plan would limit needed birth control services for women seeking to prevent zika which can be spread through unprotected sex — “a clear indication they don’t take seriously the threat from the zika virus” democrats have been urging republicans for months to agree to more zika funding and the obama administration has already reprogrammed nearly million that had been set aside to fight ebola house democrats said they could not go along with the deal because of million in budget cuts elsewhere that the republicans want to use to pay for the zika spending senate democrats also voiced displeasure clouding the outlook for it passing “a narrowly partisan proposal that cuts off women’s access to birth control shortchanges veterans and rescinds obamacare funds to cover the cost is not a serious response to the threat from the zika virus” reid said still ryan urged the senate to move on the bill according to house appropriations committee chairman hal rogers million of the billion would come from unspent funds set aside for implementing obamacare in us territories while million would come from unused funds to fight another virus ebola another million would come from unused administrative funds at the department of health and human services he said ",
         "1"
        ]
       ],
       "shape": {
        "columns": 2,
        "rows": 100
       }
      },
      "text/html": [
       "<div>\n",
       "<style scoped>\n",
       "    .dataframe tbody tr th:only-of-type {\n",
       "        vertical-align: middle;\n",
       "    }\n",
       "\n",
       "    .dataframe tbody tr th {\n",
       "        vertical-align: top;\n",
       "    }\n",
       "\n",
       "    .dataframe thead th {\n",
       "        text-align: right;\n",
       "    }\n",
       "</style>\n",
       "<table border=\"1\" class=\"dataframe\">\n",
       "  <thead>\n",
       "    <tr style=\"text-align: right;\">\n",
       "      <th></th>\n",
       "      <th>text</th>\n",
       "      <th>class</th>\n",
       "    </tr>\n",
       "  </thead>\n",
       "  <tbody>\n",
       "    <tr>\n",
       "      <th>40365</th>\n",
       "      <td>johannesburg reuters jacob zuma s spokesman sa...</td>\n",
       "      <td>1</td>\n",
       "    </tr>\n",
       "    <tr>\n",
       "      <th>4858</th>\n",
       "      <td>halfterm governor of alaska and professional g...</td>\n",
       "      <td>0</td>\n",
       "    </tr>\n",
       "    <tr>\n",
       "      <th>14393</th>\n",
       "      <td>wake me when it s over what the heck people we...</td>\n",
       "      <td>0</td>\n",
       "    </tr>\n",
       "    <tr>\n",
       "      <th>40124</th>\n",
       "      <td>vienna reuters austrian conservative leader se...</td>\n",
       "      <td>1</td>\n",
       "    </tr>\n",
       "    <tr>\n",
       "      <th>36946</th>\n",
       "      <td>moscow reuters russian prime minister dmitry m...</td>\n",
       "      <td>1</td>\n",
       "    </tr>\n",
       "    <tr>\n",
       "      <th>...</th>\n",
       "      <td>...</td>\n",
       "      <td>...</td>\n",
       "    </tr>\n",
       "    <tr>\n",
       "      <th>18663</th>\n",
       "      <td>you re never to young to commit jihad teachers...</td>\n",
       "      <td>0</td>\n",
       "    </tr>\n",
       "    <tr>\n",
       "      <th>36166</th>\n",
       "      <td>mexico city reuters mexican president enrique ...</td>\n",
       "      <td>1</td>\n",
       "    </tr>\n",
       "    <tr>\n",
       "      <th>17225</th>\n",
       "      <td>this is so great ted cruz knows his constitution</td>\n",
       "      <td>0</td>\n",
       "    </tr>\n",
       "    <tr>\n",
       "      <th>16188</th>\n",
       "      <td>ben sasse asked supreme court nominee neil gor...</td>\n",
       "      <td>0</td>\n",
       "    </tr>\n",
       "    <tr>\n",
       "      <th>32327</th>\n",
       "      <td>new york reuters democratic presidential candi...</td>\n",
       "      <td>1</td>\n",
       "    </tr>\n",
       "  </tbody>\n",
       "</table>\n",
       "<p>100 rows × 2 columns</p>\n",
       "</div>"
      ],
      "text/plain": [
       "                                                    text  class\n",
       "40365  johannesburg reuters jacob zuma s spokesman sa...      1\n",
       "4858   halfterm governor of alaska and professional g...      0\n",
       "14393  wake me when it s over what the heck people we...      0\n",
       "40124  vienna reuters austrian conservative leader se...      1\n",
       "36946  moscow reuters russian prime minister dmitry m...      1\n",
       "...                                                  ...    ...\n",
       "18663  you re never to young to commit jihad teachers...      0\n",
       "36166  mexico city reuters mexican president enrique ...      1\n",
       "17225  this is so great ted cruz knows his constitution       0\n",
       "16188  ben sasse asked supreme court nominee neil gor...      0\n",
       "32327  new york reuters democratic presidential candi...      1\n",
       "\n",
       "[100 rows x 2 columns]"
      ]
     },
     "execution_count": 25,
     "metadata": {},
     "output_type": "execute_result"
    }
   ],
   "source": [
    "data.sample(100)"
   ]
  },
  {
   "cell_type": "code",
   "execution_count": 26,
   "id": "452b4d62",
   "metadata": {},
   "outputs": [
    {
     "name": "stdout",
     "output_type": "stream",
     "text": [
      "title      0\n",
      "text       0\n",
      "subject    0\n",
      "date       0\n",
      "class      0\n",
      "dtype: int64\n"
     ]
    }
   ],
   "source": [
    "print(df.isnull().sum())\n"
   ]
  },
  {
   "cell_type": "code",
   "execution_count": 32,
   "id": "8c82a256",
   "metadata": {},
   "outputs": [
    {
     "name": "stdout",
     "output_type": "stream",
     "text": [
      "              precision    recall  f1-score   support\n",
      "\n",
      "           0       0.99      0.98      0.99      4607\n",
      "           1       0.98      0.99      0.99      4786\n",
      "\n",
      "    accuracy                           0.99      9393\n",
      "   macro avg       0.99      0.99      0.99      9393\n",
      "weighted avg       0.99      0.99      0.99      9393\n",
      "\n"
     ]
    }
   ],
   "source": [
    "# Split the balanced dataset into train and test sets\n",
    "X = balance['text']\n",
    "y = balance['label']\n",
    "\n",
    "X_train, X_test, y_train, y_test = train_test_split(X, y, test_size=0.2, random_state=42)\n",
    "\n",
    "# Vectorize the text data using TF-IDF\n",
    "vectorizer = TfidfVectorizer(stop_words='english', max_df=0.7)\n",
    "X_train_tfidf = vectorizer.fit_transform(X_train)\n",
    "X_test_tfidf = vectorizer.transform(X_test)\n",
    "\n",
    "# Train a Logistic Regression model\n",
    "model = LogisticRegression()\n",
    "model.fit(X_train_tfidf, y_train)\n",
    "\n",
    "# Predict and evaluate\n",
    "y_pred = model.predict(X_test_tfidf)\n",
    "print(classification_report(y_test, y_pred))"
   ]
  },
  {
   "cell_type": "code",
   "execution_count": 28,
   "id": "03810f7c",
   "metadata": {},
   "outputs": [
    {
     "data": {
      "image/png": "[encoded data removed]",
      "text/plain": [
       "<Figure size 600x400 with 2 Axes>"
      ]
     },
     "metadata": {},
     "output_type": "display_data"
    }
   ],
   "source": [
    "from sklearn.metrics import confusion_matrix\n",
    "import seaborn as sns\n",
    "import matplotlib.pyplot as plt\n",
    "\n",
    "# Confusion Matrix\n",
    "cm = confusion_matrix(y_test, y_pred)\n",
    "plt.figure(figsize=(6,4))\n",
    "sns.heatmap(cm, annot=True, fmt='d', cmap='Blues', xticklabels=['Fake', 'True'], yticklabels=['Fake', 'True'])\n",
    "plt.xlabel('Predicted')\n",
    "plt.ylabel('Actual')\n",
    "plt.title('Confusion Matrix')\n",
    "plt.show()"
   ]
  },
  {
   "cell_type": "code",
   "execution_count": 29,
   "id": "9e9aea6f",
   "metadata": {},
   "outputs": [
    {
     "data": {
      "image/png": "[encoded data removed]",
      "text/plain": [
       "<Figure size 600x300 with 2 Axes>"
      ]
     },
     "metadata": {},
     "output_type": "display_data"
    },
    {
     "data": {
      "image/png": "[encoded data removed]",
      "text/plain": [
       "<Figure size 600x400 with 1 Axes>"
      ]
     },
     "metadata": {},
     "output_type": "display_data"
    }
   ],
   "source": [
    "from sklearn.metrics import classification_report, roc_curve, auc\n",
    "import numpy as np\n",
    "\n",
    "# Classification report as heatmap\n",
    "report = classification_report(y_test, y_pred, output_dict=True)\n",
    "report_df = pd.DataFrame(report).transpose().iloc[:2, :3]  # Only 'Fake' and 'True' rows, and precision/recall/f1\n",
    "plt.figure(figsize=(6,3))\n",
    "sns.heatmap(report_df, annot=True, cmap='YlGnBu')\n",
    "plt.title('Classification Report Heatmap')\n",
    "plt.show()\n",
    "\n",
    "# ROC Curve\n",
    "y_prob = model.predict_proba(X_test_tfidf)[:, 1]\n",
    "fpr, tpr, thresholds = roc_curve(y_test, y_prob)\n",
    "roc_auc = auc(fpr, tpr)\n",
    "plt.figure(figsize=(6,4))\n",
    "plt.plot(fpr, tpr, label=f'ROC curve (AUC = {roc_auc:.2f})')\n",
    "plt.plot([0, 1], [0, 1], 'k--')\n",
    "plt.xlabel('False Positive Rate')\n",
    "plt.ylabel('True Positive Rate')\n",
    "plt.title('ROC Curve')\n",
    "plt.legend(loc='lower right')\n",
    "plt.show()"
   ]
  },
  {
   "cell_type": "code",
   "execution_count": 31,
   "id": "c1e05b57",
   "metadata": {},
   "outputs": [],
   "source": [
    "import pickle\n",
    "\n",
    "# Save model\n",
    "with open('model.pkl', 'wb') as f:\n",
    "    pickle.dump(model, f)\n",
    "\n",
    "# Save vectorizer\n",
    "with open('vectorizer.pkl', 'wb') as f:\n",
    "    pickle.dump(vectorizer, f)\n"
   ]
  }
 ],
 "metadata": {
  "kernelspec": {
   "display_name": "Python 3",
   "language": "python",
   "name": "python3"
  },
  "language_info": {
   "codemirror_mode": {
    "name": "ipython",
    "version": 3
   },
   "file_extension": ".py",
   "mimetype": "text/x-python",
   "name": "python",
   "nbconvert_exporter": "python",
   "pygments_lexer": "ipython3",
   "version": "3.13.5"
  }
 },
 "nbformat": 4,
 "nbformat_minor": 5
}
